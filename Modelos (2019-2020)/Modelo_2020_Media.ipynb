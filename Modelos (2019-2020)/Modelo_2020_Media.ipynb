{
 "cells": [
  {
   "cell_type": "markdown",
   "id": "2edacf94-9f25-49f6-83c6-1079a19c7fb5",
   "metadata": {},
   "source": [
    "# Model of mid school in 2020"
   ]
  },
  {
   "cell_type": "markdown",
   "id": "ea7b5b18-762a-415a-9569-9ae400e8b6a0",
   "metadata": {},
   "source": [
    "This Notebook is divided into three parts. \n",
    "* Part A: Feature selection to run the models accordingly to Logistic Regression assumptions.Then, we will run our first Models.\n",
    "* Part B: We will add the 'actionable' features that were not adequate in Part A, and which we consider important.\n",
    "* Part C: Do Train/ Test and MAPE metrcis to compare the models. Perform some outliers detection to improve performance."
   ]
  },
  {
   "cell_type": "code",
   "execution_count": 1,
   "id": "3371c7e1-c396-45e8-9dff-bb503005c937",
   "metadata": {},
   "outputs": [],
   "source": [
    "# Scientific libraries\n",
    "import numpy as np\n",
    "import pandas as pd\n",
    "import seaborn as sns\n",
    "from matplotlib import pyplot as plt\n",
    "import pingouin as pg\n",
    "\n",
    "\n",
    "# model libraries \n",
    "from scipy.stats import chi2_contingency, norm\n",
    "from scipy.stats import chi2_contingency, ttest_ind\n",
    "import researchpy as rp\n",
    "import scipy.stats as stats\n",
    "# Model runners\n",
    "import statsmodels.api as sm\n",
    "import statsmodels.formula.api as smf\n",
    "import statsmodels.stats.outliers_influence\n",
    "\n",
    "# Metrics options\n",
    "from sklearn.metrics import roc_curve, auc\n",
    "\n",
    "# Plotlib options\n",
    "plt.rc(\"figure\", figsize=(16,8))\n",
    "plt.rc(\"font\", size=14)\n",
    "# Pandas options\n",
    "pd.options.display.max_columns = None"
   ]
  },
  {
   "cell_type": "code",
   "execution_count": 2,
   "id": "d484a479-2278-4014-b608-b3fdb8a247a2",
   "metadata": {},
   "outputs": [],
   "source": [
    "# Dictionary with the purpose of reducing memory size when loading the dataset.\n",
    "dict_tipos = {\n",
    "# SIMAT\n",
    "'ANO_INF':              'uint16',\n",
    "'CODIGO_DANE':          'uint64',\n",
    "'CODIGO_DANE_SEDE':     'uint64',\n",
    "'TIPO_DOCUMENTO':       'uint8',\n",
    "'NRO_DOCUMENTO':        'string',\n",
    "'DIRECCION_RESIDENCIA': 'string',\n",
    "'RES_DEPTO':            'uint8',\n",
    "'RES_MUN':              'uint16',\n",
    "'ESTRATO':              'uint8',\n",
    "'SISBEN':               'float16',\n",
    "'GENERO':               'uint8',\n",
    "'POB_VICT_CONF':        'uint8',\n",
    "'PROVIENE_SECTOR_PRIV': 'uint8',\n",
    "'PROVIENE_OTR_MUN':     'uint8',\n",
    "'TIPO_DISCAPACIDAD':    'uint8',\n",
    "'CAP_EXC':              'uint8',\n",
    "'CODIGO_ETNIA':         'uint16',\n",
    "'CODIGO_JORNADA':       'uint8',\n",
    "'CARACTER':             'uint8',\n",
    "'CODIGO_ESPECIALIDAD':  'uint8',\n",
    "'CODIGO_GRADO':         'int8',\n",
    "'CODIGO_METODOLOGIA':   'uint8',\n",
    "'REPITENTE':            'uint8',\n",
    "'SIT_ACAD_ANIO_ANT':    'uint8',\n",
    "'CON_ALUM_ANIO_ANT':    'uint8',\n",
    "'ZONA_RESI_ALU':        'uint8',\n",
    "'EDAD':                 'uint8',\n",
    "'NIVEL':                'uint8',\n",
    "'DIR_NUM_LOCALIDAD':    'uint8',\n",
    "'NIVEL_SISBEN':         'uint8',\n",
    "'GRADO_OVERAGE':        'uint8',\n",
    "'OVERAGE':              'uint8',\n",
    "# SISBEN\n",
    "'ficha':                'int64',\n",
    "'comuna':               'uint8',\n",
    "'barrio':               'uint32',\n",
    "'nombarrio':            'string',\n",
    "'direcc':               'string',\n",
    "'vereda':               'uint8',\n",
    "'nomvereda':            'string',\n",
    "'vivienda':             'uint8',\n",
    "'pared':                'uint8',\n",
    "'piso':                 'uint8',\n",
    "'energia':              'uint8',\n",
    "'alcanta':              'uint8',\n",
    "'gas':                  'uint8',\n",
    "'telefono' :            'uint8',\n",
    "'basura' :              'uint8',\n",
    "'acueduc' :             'uint8',\n",
    "'estrato' :             'uint8',\n",
    "'elimbasura' :          'uint8',\n",
    "'tcuartosvi' :          'uint8',\n",
    "'thogar' :              'uint8',\n",
    "'recolec' :             'uint8',\n",
    "'tipdir' :              'uint8',\n",
    "'verifica' :            'uint8',\n",
    "'hogar' :               'uint8',\n",
    "'teneviv' :             'uint8',\n",
    "'tcuartos' :            'uint8',\n",
    "'tdormir' :             'uint8',\n",
    "'sanitar' :             'uint8',\n",
    "'usanitar' :            'uint8',\n",
    "'usosani' :             'uint8',\n",
    "'tsanitar' :            'uint8',\n",
    "'ducha' :               'uint8',\n",
    "'agua' :                'uint8',\n",
    "'llega' :               'uint8',\n",
    "'cuandi' :              'uint8',\n",
    "'suminis' :             'uint8',\n",
    "'cuanhoras' :           'uint8',\n",
    "'preparan' :            'uint8',\n",
    "'cocina' :              'uint8',\n",
    "'cocinan' :             'uint8',\n",
    "'alumbra' :             'uint8',\n",
    "'usotele' :             'uint8',\n",
    "'nevera' :              'uint8',\n",
    "'lavadora' :            'uint8',\n",
    "'tvcolor' :             'uint8',\n",
    "'tvcable' :             'uint8',\n",
    "'calenta' :             'uint8',\n",
    "'horno' :               'uint8',\n",
    "'aire' :                'uint8',\n",
    "'computador' :          'uint8',\n",
    "'equipo' :              'uint8',\n",
    "'moto' :                'uint8',\n",
    "'tractor' :             'uint8',\n",
    "'tiene_auto' :          'uint8',\n",
    "'bieraices':            'uint8',\n",
    "'tpersona' :            'uint8',\n",
    "'informan' :            'uint8',\n",
    "'orden' :               'uint8',\n",
    "'nucleo' :              'uint8',\n",
    "'parentes' :            'uint8',\n",
    "'tipodoc' :             'uint8',\n",
    "'documen':              'string',\n",
    "'sexo' :                'uint8',\n",
    "'estcivil' :            'uint8',\n",
    "'discapa' :             'uint8',\n",
    "'carnet' :              'uint8',\n",
    "'asiste' :              'uint8',\n",
    "'tipoesta' :            'uint8',\n",
    "'grado' :               'uint8',\n",
    "'nivel' :               'uint8',\n",
    "'activi' :              'uint8',\n",
    "'buscando' :            'uint8',\n",
    "'ingresos':             'int64',\n",
    "'edad':                 'uint8',\n",
    "'conyuvive':            'uint8',\n",
    "'hijosde':              'int8',\n",
    "'embaraza' :            'uint8',\n",
    "'extranjero' :          'uint8',\n",
    "'pagapor' :             'uint8',\n",
    "'percibe' :             'uint8',\n",
    "'serdomes' :            'uint8',\n",
    "'unigasto' :            'uint8',\n",
    "'area' :                'uint8',\n",
    "'nparentes':            'uint8',\n",
    "'puntaje_sisben_3':     'float32',\n",
    "'todos_servicios_Pub':  'uint8',\n",
    "'indice_hacinamiento':  'float16',\n",
    "# C-600  \n",
    "'ES_BILIGUE':           'int8',\n",
    "'TOTAL_DOCENTES':       'uint16',\n",
    "'TOTAL_ALUMNOS':        'uint16',\n",
    "'TOTAL_EQUIPO_COMPUTO': 'uint16',\n",
    "'TOTAL_DOCENTES_CON_TITULO':'uint8',\n",
    "# ICFES\n",
    "'num_presentaron_ICFES': 'uint8'\n",
    "  }\n"
   ]
  },
  {
   "cell_type": "code",
   "execution_count": 3,
   "id": "fc331e4e-bec9-4f67-9cdb-f416cefb50cf",
   "metadata": {},
   "outputs": [],
   "source": [
    "df = pd.read_csv('../data/3-oro/Merge_2020_ICFES_C600.csv' , index_col=0, dtype = dict_tipos)"
   ]
  },
  {
   "cell_type": "code",
   "execution_count": 4,
   "id": "50c2f253-d386-40e6-bc4a-a9d01e680303",
   "metadata": {},
   "outputs": [
    {
     "name": "stdout",
     "output_type": "stream",
     "text": [
      "<class 'pandas.core.frame.DataFrame'>\n",
      "Int64Index: 457047 entries, 0 to 457046\n",
      "Columns: 130 entries, ANO_INF to num_presentaron_ICFES\n",
      "dtypes: float16(2), float32(1), float64(4), int64(3), int8(2), object(2), string(5), uint16(6), uint32(1), uint64(2), uint8(102)\n",
      "memory usage: 115.1+ MB\n"
     ]
    }
   ],
   "source": [
    "df.info(show_counts = True)"
   ]
  },
  {
   "cell_type": "code",
   "execution_count": 5,
   "id": "76bb4439-928b-4d33-a215-cf82c9fee69a",
   "metadata": {},
   "outputs": [
    {
     "data": {
      "text/html": [
       "<div>\n",
       "<style scoped>\n",
       "    .dataframe tbody tr th:only-of-type {\n",
       "        vertical-align: middle;\n",
       "    }\n",
       "\n",
       "    .dataframe tbody tr th {\n",
       "        vertical-align: top;\n",
       "    }\n",
       "\n",
       "    .dataframe thead th {\n",
       "        text-align: right;\n",
       "    }\n",
       "</style>\n",
       "<table border=\"1\" class=\"dataframe\">\n",
       "  <thead>\n",
       "    <tr style=\"text-align: right;\">\n",
       "      <th></th>\n",
       "      <th>ANO_INF</th>\n",
       "      <th>CODIGO_DANE</th>\n",
       "      <th>CODIGO_DANE_SEDE</th>\n",
       "      <th>TIPO_DOCUMENTO</th>\n",
       "      <th>NRO_DOCUMENTO</th>\n",
       "      <th>DIRECCION_RESIDENCIA</th>\n",
       "      <th>RES_DEPTO</th>\n",
       "      <th>RES_MUN</th>\n",
       "      <th>ESTRATO</th>\n",
       "      <th>SISBEN</th>\n",
       "      <th>FECHA_NACIMIENTO</th>\n",
       "      <th>GENERO</th>\n",
       "      <th>POB_VICT_CONF</th>\n",
       "      <th>PROVIENE_SECTOR_PRIV</th>\n",
       "      <th>PROVIENE_OTR_MUN</th>\n",
       "      <th>TIPO_DISCAPACIDAD</th>\n",
       "      <th>CAP_EXC</th>\n",
       "      <th>CODIGO_ETNIA</th>\n",
       "      <th>CODIGO_JORNADA</th>\n",
       "      <th>CARACTER</th>\n",
       "      <th>CODIGO_ESPECIALIDAD</th>\n",
       "      <th>CODIGO_GRADO</th>\n",
       "      <th>CODIGO_METODOLOGIA</th>\n",
       "      <th>REPITENTE</th>\n",
       "      <th>SIT_ACAD_ANIO_ANT</th>\n",
       "      <th>CON_ALUM_ANIO_ANT</th>\n",
       "      <th>ZONA_RESI_ALU</th>\n",
       "      <th>EDAD</th>\n",
       "      <th>NIVEL</th>\n",
       "      <th>DIR_NUM_LOCALIDAD</th>\n",
       "      <th>NIVEL_SISBEN</th>\n",
       "      <th>GRADO_OVERAGE</th>\n",
       "      <th>OVERAGE</th>\n",
       "      <th>ficha</th>\n",
       "      <th>comuna</th>\n",
       "      <th>barrio</th>\n",
       "      <th>nombarrio</th>\n",
       "      <th>direcc</th>\n",
       "      <th>vereda</th>\n",
       "      <th>nomvereda</th>\n",
       "      <th>vivienda</th>\n",
       "      <th>pared</th>\n",
       "      <th>piso</th>\n",
       "      <th>energia</th>\n",
       "      <th>alcanta</th>\n",
       "      <th>gas</th>\n",
       "      <th>telefono</th>\n",
       "      <th>basura</th>\n",
       "      <th>acueduc</th>\n",
       "      <th>estrato</th>\n",
       "      <th>elimbasura</th>\n",
       "      <th>tcuartosvi</th>\n",
       "      <th>thogar</th>\n",
       "      <th>recolec</th>\n",
       "      <th>tipdir</th>\n",
       "      <th>verifica</th>\n",
       "      <th>hogar</th>\n",
       "      <th>teneviv</th>\n",
       "      <th>tcuartos</th>\n",
       "      <th>tdormir</th>\n",
       "      <th>sanitar</th>\n",
       "      <th>usanitar</th>\n",
       "      <th>usosani</th>\n",
       "      <th>tsanitar</th>\n",
       "      <th>ducha</th>\n",
       "      <th>agua</th>\n",
       "      <th>llega</th>\n",
       "      <th>cuandi</th>\n",
       "      <th>suminis</th>\n",
       "      <th>cuanhoras</th>\n",
       "      <th>preparan</th>\n",
       "      <th>cocina</th>\n",
       "      <th>cocinan</th>\n",
       "      <th>alumbra</th>\n",
       "      <th>usotele</th>\n",
       "      <th>nevera</th>\n",
       "      <th>lavadora</th>\n",
       "      <th>tvcolor</th>\n",
       "      <th>tvcable</th>\n",
       "      <th>calenta</th>\n",
       "      <th>horno</th>\n",
       "      <th>aire</th>\n",
       "      <th>computador</th>\n",
       "      <th>equipo</th>\n",
       "      <th>moto</th>\n",
       "      <th>tractor</th>\n",
       "      <th>tiene_auto</th>\n",
       "      <th>bieraices</th>\n",
       "      <th>tpersona</th>\n",
       "      <th>informan</th>\n",
       "      <th>orden</th>\n",
       "      <th>nucleo</th>\n",
       "      <th>parentes</th>\n",
       "      <th>tipodoc</th>\n",
       "      <th>sexo</th>\n",
       "      <th>estcivil</th>\n",
       "      <th>discapa</th>\n",
       "      <th>carnet</th>\n",
       "      <th>asiste</th>\n",
       "      <th>tipoesta</th>\n",
       "      <th>grado</th>\n",
       "      <th>nivel</th>\n",
       "      <th>activi</th>\n",
       "      <th>buscando</th>\n",
       "      <th>ingresos</th>\n",
       "      <th>edad</th>\n",
       "      <th>conyuvive</th>\n",
       "      <th>hijosde</th>\n",
       "      <th>embaraza</th>\n",
       "      <th>extranjero</th>\n",
       "      <th>pagapor</th>\n",
       "      <th>percibe</th>\n",
       "      <th>serdomes</th>\n",
       "      <th>unigasto</th>\n",
       "      <th>area</th>\n",
       "      <th>nparentes</th>\n",
       "      <th>puntaje_sisben_3</th>\n",
       "      <th>nivel_hacinamiento</th>\n",
       "      <th>todos_servicios_Pub</th>\n",
       "      <th>indice_hacinamiento</th>\n",
       "      <th>ES_BILINGUE</th>\n",
       "      <th>TOTAL_DOCENTES</th>\n",
       "      <th>TOTAL_ALUMNOS</th>\n",
       "      <th>TOTAL_EQUIPO_COMPUTO</th>\n",
       "      <th>ALUMN_POR_DOCENTE</th>\n",
       "      <th>COMPU_POR_ALUMN</th>\n",
       "      <th>TOTAL_DOCENTES_CON_TITULO</th>\n",
       "      <th>PROP_DOCENTES_CON_TITULO</th>\n",
       "      <th>promepuntaje</th>\n",
       "      <th>num_presentaron_ICFES</th>\n",
       "    </tr>\n",
       "  </thead>\n",
       "  <tbody>\n",
       "    <tr>\n",
       "      <th>0</th>\n",
       "      <td>2020</td>\n",
       "      <td>111001000078</td>\n",
       "      <td>111001000078</td>\n",
       "      <td>2</td>\n",
       "      <td>1000004716</td>\n",
       "      <td>CL 29 A SUR # 50 - 41 PL 2</td>\n",
       "      <td>11</td>\n",
       "      <td>1</td>\n",
       "      <td>3</td>\n",
       "      <td>29.0</td>\n",
       "      <td>2003-04-14</td>\n",
       "      <td>0</td>\n",
       "      <td>99</td>\n",
       "      <td>0</td>\n",
       "      <td>0</td>\n",
       "      <td>0</td>\n",
       "      <td>9</td>\n",
       "      <td>0</td>\n",
       "      <td>6</td>\n",
       "      <td>1</td>\n",
       "      <td>5</td>\n",
       "      <td>10</td>\n",
       "      <td>1</td>\n",
       "      <td>0</td>\n",
       "      <td>1</td>\n",
       "      <td>9</td>\n",
       "      <td>1</td>\n",
       "      <td>16</td>\n",
       "      <td>4</td>\n",
       "      <td>16</td>\n",
       "      <td>1</td>\n",
       "      <td>100</td>\n",
       "      <td>0</td>\n",
       "      <td>4304159</td>\n",
       "      <td>16</td>\n",
       "      <td>4407</td>\n",
       "      <td>ALCALA</td>\n",
       "      <td>CL  33 SUR  51 A  47 PI  1 CU  1</td>\n",
       "      <td>0</td>\n",
       "      <td>BARRIO ZONA URBANA</td>\n",
       "      <td>2</td>\n",
       "      <td>1</td>\n",
       "      <td>2</td>\n",
       "      <td>1</td>\n",
       "      <td>1</td>\n",
       "      <td>1</td>\n",
       "      <td>2</td>\n",
       "      <td>1</td>\n",
       "      <td>1</td>\n",
       "      <td>3</td>\n",
       "      <td>1</td>\n",
       "      <td>2</td>\n",
       "      <td>1</td>\n",
       "      <td>3</td>\n",
       "      <td>1</td>\n",
       "      <td>1</td>\n",
       "      <td>1</td>\n",
       "      <td>1</td>\n",
       "      <td>2</td>\n",
       "      <td>2</td>\n",
       "      <td>1</td>\n",
       "      <td>1</td>\n",
       "      <td>2</td>\n",
       "      <td>1</td>\n",
       "      <td>1</td>\n",
       "      <td>1</td>\n",
       "      <td>1</td>\n",
       "      <td>0</td>\n",
       "      <td>1</td>\n",
       "      <td>0</td>\n",
       "      <td>1</td>\n",
       "      <td>2</td>\n",
       "      <td>2</td>\n",
       "      <td>1</td>\n",
       "      <td>0</td>\n",
       "      <td>1</td>\n",
       "      <td>1</td>\n",
       "      <td>1</td>\n",
       "      <td>2</td>\n",
       "      <td>2</td>\n",
       "      <td>2</td>\n",
       "      <td>2</td>\n",
       "      <td>0</td>\n",
       "      <td>2</td>\n",
       "      <td>0</td>\n",
       "      <td>0</td>\n",
       "      <td>0</td>\n",
       "      <td>1</td>\n",
       "      <td>5</td>\n",
       "      <td>2</td>\n",
       "      <td>4</td>\n",
       "      <td>1</td>\n",
       "      <td>3</td>\n",
       "      <td>2</td>\n",
       "      <td>0</td>\n",
       "      <td>5</td>\n",
       "      <td>0</td>\n",
       "      <td>0</td>\n",
       "      <td>1</td>\n",
       "      <td>4</td>\n",
       "      <td>3</td>\n",
       "      <td>1</td>\n",
       "      <td>3</td>\n",
       "      <td>0</td>\n",
       "      <td>0</td>\n",
       "      <td>8</td>\n",
       "      <td>0</td>\n",
       "      <td>0</td>\n",
       "      <td>0</td>\n",
       "      <td>0</td>\n",
       "      <td>0</td>\n",
       "      <td>0</td>\n",
       "      <td>0</td>\n",
       "      <td>1</td>\n",
       "      <td>1</td>\n",
       "      <td>3</td>\n",
       "      <td>29.440001</td>\n",
       "      <td>Hacinamiento_medio</td>\n",
       "      <td>1</td>\n",
       "      <td>2.5</td>\n",
       "      <td>0</td>\n",
       "      <td>27</td>\n",
       "      <td>627</td>\n",
       "      <td>231</td>\n",
       "      <td>23.222222</td>\n",
       "      <td>0.368421</td>\n",
       "      <td>24</td>\n",
       "      <td>0.888889</td>\n",
       "      <td>262.909091</td>\n",
       "      <td>33</td>\n",
       "    </tr>\n",
       "  </tbody>\n",
       "</table>\n",
       "</div>"
      ],
      "text/plain": [
       "   ANO_INF   CODIGO_DANE  CODIGO_DANE_SEDE  TIPO_DOCUMENTO NRO_DOCUMENTO  \\\n",
       "0     2020  111001000078      111001000078               2    1000004716   \n",
       "\n",
       "         DIRECCION_RESIDENCIA  RES_DEPTO  RES_MUN  ESTRATO  SISBEN  \\\n",
       "0  CL 29 A SUR # 50 - 41 PL 2         11        1        3    29.0   \n",
       "\n",
       "  FECHA_NACIMIENTO  GENERO  POB_VICT_CONF  PROVIENE_SECTOR_PRIV  \\\n",
       "0       2003-04-14       0             99                     0   \n",
       "\n",
       "   PROVIENE_OTR_MUN  TIPO_DISCAPACIDAD  CAP_EXC  CODIGO_ETNIA  CODIGO_JORNADA  \\\n",
       "0                 0                  0        9             0               6   \n",
       "\n",
       "   CARACTER  CODIGO_ESPECIALIDAD  CODIGO_GRADO  CODIGO_METODOLOGIA  REPITENTE  \\\n",
       "0         1                    5            10                   1          0   \n",
       "\n",
       "   SIT_ACAD_ANIO_ANT  CON_ALUM_ANIO_ANT  ZONA_RESI_ALU  EDAD  NIVEL  \\\n",
       "0                  1                  9              1    16      4   \n",
       "\n",
       "   DIR_NUM_LOCALIDAD  NIVEL_SISBEN  GRADO_OVERAGE  OVERAGE    ficha  comuna  \\\n",
       "0                 16             1            100        0  4304159      16   \n",
       "\n",
       "   barrio nombarrio                            direcc  vereda  \\\n",
       "0    4407    ALCALA  CL  33 SUR  51 A  47 PI  1 CU  1       0   \n",
       "\n",
       "            nomvereda  vivienda  pared  piso  energia  alcanta  gas  telefono  \\\n",
       "0  BARRIO ZONA URBANA         2      1     2        1        1    1         2   \n",
       "\n",
       "   basura  acueduc  estrato  elimbasura  tcuartosvi  thogar  recolec  tipdir  \\\n",
       "0       1        1        3           1           2       1        3       1   \n",
       "\n",
       "   verifica  hogar  teneviv  tcuartos  tdormir  sanitar  usanitar  usosani  \\\n",
       "0         1      1        1         2        2        1         1        2   \n",
       "\n",
       "   tsanitar  ducha  agua  llega  cuandi  suminis  cuanhoras  preparan  cocina  \\\n",
       "0         1      1     1      1       0        1          0         1       2   \n",
       "\n",
       "   cocinan  alumbra  usotele  nevera  lavadora  tvcolor  tvcable  calenta  \\\n",
       "0        2        1        0       1         1        1        2        2   \n",
       "\n",
       "   horno  aire  computador  equipo  moto  tractor  tiene_auto  bieraices  \\\n",
       "0      2     2           0       2     0        0           0          1   \n",
       "\n",
       "   tpersona  informan  orden  nucleo  parentes  tipodoc  sexo  estcivil  \\\n",
       "0         5         2      4       1         3        2     0         5   \n",
       "\n",
       "   discapa  carnet  asiste  tipoesta  grado  nivel  activi  buscando  \\\n",
       "0        0       0       1         4      3      1       3         0   \n",
       "\n",
       "   ingresos  edad  conyuvive  hijosde  embaraza  extranjero  pagapor  percibe  \\\n",
       "0         0     8          0        0         0           0        0        0   \n",
       "\n",
       "   serdomes  unigasto  area  nparentes  puntaje_sisben_3  nivel_hacinamiento  \\\n",
       "0         0         1     1          3         29.440001  Hacinamiento_medio   \n",
       "\n",
       "   todos_servicios_Pub  indice_hacinamiento  ES_BILINGUE  TOTAL_DOCENTES  \\\n",
       "0                    1                  2.5            0              27   \n",
       "\n",
       "   TOTAL_ALUMNOS  TOTAL_EQUIPO_COMPUTO  ALUMN_POR_DOCENTE  COMPU_POR_ALUMN  \\\n",
       "0            627                   231          23.222222         0.368421   \n",
       "\n",
       "   TOTAL_DOCENTES_CON_TITULO  PROP_DOCENTES_CON_TITULO  promepuntaje  \\\n",
       "0                         24                  0.888889    262.909091   \n",
       "\n",
       "   num_presentaron_ICFES  \n",
       "0                     33  "
      ]
     },
     "execution_count": 5,
     "metadata": {},
     "output_type": "execute_result"
    }
   ],
   "source": [
    "df.head(1)"
   ]
  },
  {
   "cell_type": "code",
   "execution_count": 6,
   "id": "3024646b",
   "metadata": {},
   "outputs": [
    {
     "data": {
      "text/plain": [
       "99    442309\n",
       "1      13545\n",
       "10       409\n",
       "3        245\n",
       "9        187\n",
       "4        126\n",
       "2         97\n",
       "18        68\n",
       "17        40\n",
       "7          5\n",
       "20         5\n",
       "6          4\n",
       "12         2\n",
       "15         2\n",
       "8          1\n",
       "13         1\n",
       "21         1\n",
       "Name: POB_VICT_CONF, dtype: int64"
      ]
     },
     "execution_count": 6,
     "metadata": {},
     "output_type": "execute_result"
    }
   ],
   "source": [
    "df[\"POB_VICT_CONF\"].value_counts()"
   ]
  },
  {
   "cell_type": "code",
   "execution_count": 7,
   "id": "5f166058",
   "metadata": {},
   "outputs": [],
   "source": [
    "dict_vict_recod = {\n",
    "    99: 0,\n",
    "    1: 1, \n",
    "    10: 1,\n",
    "    3: 1,\n",
    "    9: 1,\n",
    "    4: 1,\n",
    "    2: 1,\n",
    "    18: 1,\n",
    "    17: 1,\n",
    "    7: 1,\n",
    "    20: 1,\n",
    "    6: 1,\n",
    "    12: 1,\n",
    "    15: 1,\n",
    "    8: 1,\n",
    "    13: 1,\n",
    "    21: 1\n",
    "}"
   ]
  },
  {
   "cell_type": "code",
   "execution_count": 8,
   "id": "e1923eec",
   "metadata": {},
   "outputs": [],
   "source": [
    "df['POB_VICT_CONF'] = df['POB_VICT_CONF'].replace(dict_vict_recod)"
   ]
  },
  {
   "cell_type": "markdown",
   "id": "e6b4951f-69c6-4e58-a8a9-4a505506ae20",
   "metadata": {},
   "source": [
    "## Initial Variables"
   ]
  },
  {
   "cell_type": "code",
   "execution_count": 9,
   "id": "0b813416-3f6e-4778-8326-c7760b9951d2",
   "metadata": {},
   "outputs": [],
   "source": [
    "variables = ['EDAD',\n",
    "             'estrato',\n",
    "             'puntaje_sisben_3',\n",
    "             'indice_hacinamiento', #-> solo si no se pone nivel_hacinamiento en Categoria\n",
    "             'TOTAL_EQUIPO_COMPUTO',\n",
    "             'ALUMN_POR_DOCENTE',\n",
    "             'COMPU_POR_ALUMN',\n",
    "             'TOTAL_DOCENTES_CON_TITULO',\n",
    "             'PROP_DOCENTES_CON_TITULO', #-> solo si no se incluye TOTAL_DOCENTES_CON_TITULO y TOTAL_ALUM al tiempo\n",
    "             'promepuntaje',\n",
    "            ]\n",
    "\n",
    "categorias= ['GENERO',\n",
    "             'POB_VICT_CONF',\n",
    "             'PROVIENE_OTR_MUN',\n",
    "             'TIPO_DISCAPACIDAD',\n",
    "             'CODIGO_ETNIA',\n",
    "             'CODIGO_JORNADA',\n",
    "             'DIR_NUM_LOCALIDAD',\n",
    "             'embaraza',\n",
    "             'todos_servicios_Pub',\n",
    "             'teneviv',\n",
    "             'computador',\n",
    "             'tiene_auto',\n",
    "             'ES_BILINGUE'\n",
    "\n",
    "             ]"
   ]
  },
  {
   "cell_type": "markdown",
   "id": "617e1d59-2725-4e39-b7e5-6ff5d25cc54a",
   "metadata": {},
   "source": [
    "# Part A: Feature Selection"
   ]
  },
  {
   "cell_type": "markdown",
   "id": "1da0a174-54f2-43f4-b064-26c4c43687de",
   "metadata": {},
   "source": [
    "## Filter by grade Level and Methodology"
   ]
  },
  {
   "cell_type": "code",
   "execution_count": 10,
   "id": "33bc14de-58e6-42b6-b4b3-1d1d0936a244",
   "metadata": {},
   "outputs": [
    {
     "data": {
      "text/plain": [
       "2    0.403860\n",
       "3    0.398370\n",
       "4    0.142274\n",
       "1    0.055495\n",
       "Name: NIVEL, dtype: float64"
      ]
     },
     "execution_count": 10,
     "metadata": {},
     "output_type": "execute_result"
    }
   ],
   "source": [
    "df['NIVEL'].value_counts()/df['NIVEL'].shape[0]"
   ]
  },
  {
   "cell_type": "code",
   "execution_count": 11,
   "id": "d284d1ad-3f8a-4198-8486-249894732809",
   "metadata": {},
   "outputs": [],
   "source": [
    "df = df[(df['NIVEL']== 4)]"
   ]
  },
  {
   "cell_type": "code",
   "execution_count": 12,
   "id": "b2841439-aeb5-40ca-9b3f-7044636853a0",
   "metadata": {},
   "outputs": [
    {
     "data": {
      "text/plain": [
       "1    1.0\n",
       "Name: CODIGO_METODOLOGIA, dtype: float64"
      ]
     },
     "execution_count": 12,
     "metadata": {},
     "output_type": "execute_result"
    }
   ],
   "source": [
    "df['CODIGO_METODOLOGIA'].value_counts()/df['CODIGO_METODOLOGIA'].shape[0]"
   ]
  },
  {
   "cell_type": "code",
   "execution_count": 13,
   "id": "457eea7e-6c88-43dc-9df4-1c5b3df7c3e7",
   "metadata": {},
   "outputs": [],
   "source": [
    "df = df[(df['CODIGO_METODOLOGIA']==1)]"
   ]
  },
  {
   "cell_type": "code",
   "execution_count": 14,
   "id": "b35561d8-2fb3-4ac2-8159-1ab86492e6d4",
   "metadata": {},
   "outputs": [
    {
     "data": {
      "text/plain": [
       "0    0.977224\n",
       "1    0.022776\n",
       "Name: REPITENTE, dtype: float64"
      ]
     },
     "execution_count": 14,
     "metadata": {},
     "output_type": "execute_result"
    }
   ],
   "source": [
    "df['REPITENTE'].value_counts()/(df.shape[0])"
   ]
  },
  {
   "cell_type": "code",
   "execution_count": 15,
   "id": "ade48707-b48a-4ba7-be9d-4dee30a443d5",
   "metadata": {},
   "outputs": [
    {
     "data": {
      "text/plain": [
       "0    63545\n",
       "1     1481\n",
       "Name: REPITENTE, dtype: int64"
      ]
     },
     "execution_count": 15,
     "metadata": {},
     "output_type": "execute_result"
    }
   ],
   "source": [
    "df['REPITENTE'].value_counts()"
   ]
  },
  {
   "cell_type": "markdown",
   "id": "c2a3bfc4-3011-4129-9d77-a0322eed480a",
   "metadata": {},
   "source": [
    "-----------"
   ]
  },
  {
   "cell_type": "markdown",
   "id": "fbaaddf4-2547-487b-a9c6-b13652384af9",
   "metadata": {},
   "source": [
    "# Univariate Feature Selection for categorical data\n",
    "## Pearson Chi-Squared Test For independence\n",
    "### Part I: Features with dependence against REPITENTE"
   ]
  },
  {
   "cell_type": "markdown",
   "id": "2b622204-09ec-41fe-beed-d037e449d112",
   "metadata": {},
   "source": [
    "$$ H_{0} : The \\: variables \\: are \\: Independent$$\n",
    "$$ H_{a}: The \\: variables \\:are \\: not \\: Independent $$\n",
    "\n",
    "#### References:\n",
    "1. [Why Chi Test?](https://towardsdatascience.com/mistakes-in-applying-univariate-feature-selection-methods-34c43ce8b93d)\n",
    "2. [Why we implemented it in this way?](https://machinelearningmastery.com/chi-squared-test-for-machine-learning/)"
   ]
  },
  {
   "cell_type": "code",
   "execution_count": 16,
   "id": "0787b186-639c-41b4-b94e-39b350f70a37",
   "metadata": {},
   "outputs": [
    {
     "name": "stdout",
     "output_type": "stream",
     "text": [
      "Dependent variables that reject H0 at a significance level of 5%\n",
      "            Category       p-value\n",
      "0             GENERO  7.762446e-34\n",
      "3  DIR_NUM_LOCALIDAD  1.570859e-09\n",
      "7        ES_BILINGUE  7.754712e-04\n",
      "1  TIPO_DISCAPACIDAD  5.457509e-03\n",
      "2       CODIGO_ETNIA  3.029390e-02\n",
      "4            teneviv  3.468382e-02\n",
      "5         computador  3.874987e-02\n",
      "6         tiene_auto  3.920388e-02\n"
     ]
    }
   ],
   "source": [
    "chi2_values_df = pd.DataFrame(columns = ['Category', 'p-value'])\n",
    "cat_dep = []\n",
    "p_values = []\n",
    "for i in categorias:\n",
    "    crosstab = pd.crosstab(df['REPITENTE'], df[i])\n",
    "    chi2, p, dof, ex = stats.chi2_contingency(crosstab)\n",
    "    if p <= 0.05:\n",
    "        cat_dep.append(i)\n",
    "        p_values.append(p)\n",
    "print('Dependent variables that reject H0 at a significance level of 5%')\n",
    "chi2_values_df['Category'] = cat_dep\n",
    "chi2_values_df['p-value'] = p_values\n",
    "print(chi2_values_df.sort_values(by = 'p-value'))\n",
    "    "
   ]
  },
  {
   "cell_type": "code",
   "execution_count": 17,
   "id": "072915dc-1c4d-477e-924e-0c940a4c43f5",
   "metadata": {},
   "outputs": [],
   "source": [
    "categorias = cat_dep"
   ]
  },
  {
   "cell_type": "code",
   "execution_count": 18,
   "id": "453263f9-f72e-4a66-a04e-18aa5f329824",
   "metadata": {},
   "outputs": [
    {
     "name": "stdout",
     "output_type": "stream",
     "text": [
      "Variables that fail to reject H0 (independent) at a significance level of 5%\n",
      "Empty DataFrame\n",
      "Columns: [Category, p-value]\n",
      "Index: []\n"
     ]
    }
   ],
   "source": [
    "rejected = pd.DataFrame(columns = ['Category', 'p-value'])\n",
    "cat_nodep = []\n",
    "p_valuesr = []\n",
    "for i in categorias:\n",
    "    crosstab = pd.crosstab(df['REPITENTE'], df[i])\n",
    "    chi2, p, dof, ex = stats.chi2_contingency(crosstab)\n",
    "    if p > 0.05:\n",
    "        cat_nodep.append(i)\n",
    "        p_valuesr.append(p)\n",
    "print('Variables that fail to reject H0 (independent) at a significance level of 5%')\n",
    "rejected['Category'] = cat_nodep\n",
    "rejected['p-value'] = p_valuesr\n",
    "print(rejected.sort_values(by = 'p-value', ascending = False))"
   ]
  },
  {
   "cell_type": "markdown",
   "id": "eb9b0fa5",
   "metadata": {},
   "source": [
    "# Univariate Feature Selection for continous data\n",
    "## Difference in means test \n",
    "### Part I: Features with dependence against REPITENTE"
   ]
  },
  {
   "cell_type": "code",
   "execution_count": 17,
   "id": "148bd2a8",
   "metadata": {},
   "outputs": [
    {
     "name": "stderr",
     "output_type": "stream",
     "text": [
      "/opt/conda/lib/python3.8/site-packages/numpy/core/_methods.py:211: RuntimeWarning: overflow encountered in reduce\n",
      "  arrmean = umr_sum(arr, axis, dtype, keepdims=True, where=where)\n",
      "/opt/conda/lib/python3.8/site-packages/numpy/core/fromnumeric.py:87: RuntimeWarning: overflow encountered in reduce\n",
      "  return ufunc.reduce(obj, axis, dtype, out, **passkwargs)\n"
     ]
    },
    {
     "name": "stdout",
     "output_type": "stream",
     "text": [
      "Dependent variables that reject H0 at a significance level of 5%\n",
      "                    numeric        p-value\n",
      "0                      EDAD  1.397857e-128\n",
      "5              promepuntaje   3.960803e-10\n",
      "3         ALUMN_POR_DOCENTE   6.863167e-06\n",
      "4  PROP_DOCENTES_CON_TITULO   1.255880e-05\n",
      "2          puntaje_sisben_3   2.140427e-05\n",
      "1                   estrato   2.289704e-02\n"
     ]
    }
   ],
   "source": [
    "differentMean = pd.DataFrame(columns = ['numeric', 'p-value'])\n",
    "cat_con = []\n",
    "p_valuesc = []\n",
    "\n",
    "for i in variables:\n",
    "    df_r = df[df[\"REPITENTE\"] == 1][i]\n",
    "    df_nr = df[df[\"REPITENTE\"] == 0][i]\n",
    "    p_val = float(pg.ttest(df_r,df_nr)[\"p-val\"][0])\n",
    "    \n",
    "    if p_val <= 0.05:\n",
    "        cat_con.append(i)\n",
    "        p_valuesc.append(p_val)\n",
    "        \n",
    "print('Dependent variables that reject H0 at a significance level of 5%')\n",
    "differentMean['numeric'] = cat_con\n",
    "differentMean['p-value'] = p_valuesc\n",
    "print(differentMean.sort_values(by = 'p-value'))"
   ]
  },
  {
   "cell_type": "markdown",
   "id": "764b6a40-64b0-48a1-84b7-1612ae44f40c",
   "metadata": {},
   "source": [
    "--------"
   ]
  },
  {
   "cell_type": "markdown",
   "id": "395cb691-d0b1-46d5-82c3-cf39882987d3",
   "metadata": {},
   "source": [
    "### Part II: Feature selection for continuous variables\n",
    "We could perform an ANOVA F-test to do this feature selection. Since we have very few continous data, and other assumptions need to be checked we skip this step for now."
   ]
  },
  {
   "cell_type": "markdown",
   "id": "64f518da-36c1-40d0-b1f0-ba3755ad6f8b",
   "metadata": {},
   "source": [
    "## Model: Logistic Regression\n",
    "### Assumptions:\n",
    "1. Right response variable. This is obvious since REPITENTE is boolean.\n",
    "2. Linearility of continuous variables agaisnt log(odds) = $ln(\\dfrac{p}{1-p})$\n",
    "3. Not strongly influential Outliers.\n",
    "4. Absence of Multicollinearity\n",
    "5. Independence of observations\n",
    "\n",
    "[Reference](https://towardsdatascience.com/assumptions-of-logistic-regression-clearly-explained-44d85a22b290)"
   ]
  },
  {
   "cell_type": "markdown",
   "id": "16064846-6b89-4442-9340-6f66df43f2b4",
   "metadata": {},
   "source": [
    "## Assumptions checks "
   ]
  },
  {
   "cell_type": "markdown",
   "id": "8b5c4b1e-46e8-4c3a-92f5-66a6cfef1c51",
   "metadata": {},
   "source": [
    "### Number II: Linearility versus log (odds) - Box- Tidwell Test\n",
    "\n",
    "The intituion behind this test is very clear. We are trying to test if the probability of seeing a success (occurence of a 1 value) is exponentially related to our variables. In other words, we expect that:\n",
    "   $$ Y = ln(\\dfrac{p}{1-p}) \\approx \\beta_{0} + \\sum_{i=1}^{n}x_{i}\\beta_{i} $$\n",
    "Where p is the probability of a success, i.e. the number of positive outcomes divided by the total of observations in a given sample of the population.\n",
    "\n",
    "**Box- Tidwell Test**"
   ]
  },
  {
   "cell_type": "code",
<<<<<<< HEAD
   "execution_count": 19,
=======
   "execution_count": 18,
>>>>>>> dde46a8659c5fb1d43b21ce9e2c8a2c9c8b418ca
   "id": "86d9dc5c-432b-4746-a5cb-f75488e45092",
   "metadata": {},
   "outputs": [
    {
     "data": {
      "text/plain": [
       "(65026,)"
      ]
     },
<<<<<<< HEAD
     "execution_count": 19,
=======
     "execution_count": 18,
>>>>>>> dde46a8659c5fb1d43b21ce9e2c8a2c9c8b418ca
     "metadata": {},
     "output_type": "execute_result"
    }
   ],
   "source": [
    "y = df['REPITENTE']\n",
    "y.shape"
   ]
  },
  {
   "cell_type": "code",
<<<<<<< HEAD
   "execution_count": 20,
=======
   "execution_count": 19,
>>>>>>> dde46a8659c5fb1d43b21ce9e2c8a2c9c8b418ca
   "id": "c97f68d0-b86a-4dd0-a240-2e9739f1e761",
   "metadata": {},
   "outputs": [
    {
     "data": {
      "text/plain": [
       "(65026, 10)"
      ]
     },
<<<<<<< HEAD
     "execution_count": 20,
=======
     "execution_count": 19,
>>>>>>> dde46a8659c5fb1d43b21ce9e2c8a2c9c8b418ca
     "metadata": {},
     "output_type": "execute_result"
    }
   ],
   "source": [
    "X = df[variables]\n",
    "X.shape"
   ]
  },
  {
   "cell_type": "code",
<<<<<<< HEAD
   "execution_count": 21,
=======
   "execution_count": 20,
>>>>>>> dde46a8659c5fb1d43b21ce9e2c8a2c9c8b418ca
   "id": "104fccb7-0d68-43d5-aa9b-daee102099bd",
   "metadata": {},
   "outputs": [
    {
     "name": "stderr",
     "output_type": "stream",
     "text": [
      "C:\\Users\\diego\\anaconda3\\lib\\site-packages\\pandas\\core\\frame.py:4524: SettingWithCopyWarning: \n",
      "A value is trying to be set on a copy of a slice from a DataFrame\n",
      "\n",
      "See the caveats in the documentation: https://pandas.pydata.org/pandas-docs/stable/user_guide/indexing.html#returning-a-view-versus-a-copy\n",
      "  return super().replace(\n"
     ]
    }
   ],
   "source": [
    "# 0 and 1 are interchangable since in either case value*ln(value) = 0\n",
    "X.replace({0: 1, 0.0 : 1.0}, inplace = True)"
   ]
  },
  {
   "cell_type": "code",
<<<<<<< HEAD
   "execution_count": 22,
=======
   "execution_count": 21,
>>>>>>> dde46a8659c5fb1d43b21ce9e2c8a2c9c8b418ca
   "id": "be8ffa4d-a70e-4deb-9ce1-299c07ec0b01",
   "metadata": {},
   "outputs": [
    {
     "name": "stderr",
     "output_type": "stream",
     "text": [
<<<<<<< HEAD
      "<ipython-input-22-a73a6ccc77d4>:2: SettingWithCopyWarning: \n",
=======
      "<ipython-input-21-a73a6ccc77d4>:2: SettingWithCopyWarning: \n",
>>>>>>> dde46a8659c5fb1d43b21ce9e2c8a2c9c8b418ca
      "A value is trying to be set on a copy of a slice from a DataFrame.\n",
      "Try using .loc[row_indexer,col_indexer] = value instead\n",
      "\n",
      "See the caveats in the documentation: https://pandas.pydata.org/pandas-docs/stable/user_guide/indexing.html#returning-a-view-versus-a-copy\n",
      "  X[f'{var}:Log_{var}'] = X[var].apply(lambda x: x * np.log(x))\n"
     ]
    }
   ],
   "source": [
    "for var in variables:\n",
    "    X[f'{var}:Log_{var}'] = X[var].apply(lambda x: x * np.log(x))"
   ]
  },
  {
   "cell_type": "code",
<<<<<<< HEAD
   "execution_count": 23,
=======
   "execution_count": 22,
>>>>>>> dde46a8659c5fb1d43b21ce9e2c8a2c9c8b418ca
   "id": "486c5ed1-0796-4213-b698-e2cb697f8c6e",
   "metadata": {},
   "outputs": [],
   "source": [
    "cols_to_keep = variables + X.columns.tolist()[-len(variables):]"
   ]
  },
  {
   "cell_type": "code",
<<<<<<< HEAD
   "execution_count": 24,
=======
   "execution_count": 23,
>>>>>>> dde46a8659c5fb1d43b21ce9e2c8a2c9c8b418ca
   "id": "b2ac5137-ae6b-4f9a-9b13-5da477a0c74e",
   "metadata": {},
   "outputs": [],
   "source": [
    "X_cons = sm.add_constant(X, prepend=False)"
   ]
  },
  {
   "cell_type": "code",
<<<<<<< HEAD
   "execution_count": 25,
=======
   "execution_count": 24,
>>>>>>> dde46a8659c5fb1d43b21ce9e2c8a2c9c8b418ca
   "id": "56c63283-5a2f-4022-91c5-b815a1714ac8",
   "metadata": {},
   "outputs": [],
   "source": [
    "## Should not print anything\n",
    "for col in X_cons:\n",
    "    if np.isinf(X_cons[col]).values.sum() > 0:\n",
    "        print(col)"
   ]
  },
  {
   "cell_type": "code",
<<<<<<< HEAD
   "execution_count": 26,
=======
   "execution_count": 25,
>>>>>>> dde46a8659c5fb1d43b21ce9e2c8a2c9c8b418ca
   "id": "e2a42816-33e4-42b4-8682-c5ae4d3b483e",
   "metadata": {},
   "outputs": [],
   "source": [
    "## Shouel not print anything, otherwise an error will raise in the next cell\n",
    "for col in X_cons:\n",
    "    if np.isnan(X_cons[col]).values.sum() > 0:\n",
    "        print(col, np.isnan(X_cons[col]).values.sum())"
   ]
  },
  {
   "cell_type": "code",
<<<<<<< HEAD
   "execution_count": 27,
=======
   "execution_count": 26,
>>>>>>> dde46a8659c5fb1d43b21ce9e2c8a2c9c8b418ca
   "id": "5d088fd8-661b-403a-bedc-38b9f67beb4f",
   "metadata": {},
   "outputs": [
    {
     "data": {
      "text/html": [
       "<table class=\"simpletable\">\n",
       "<caption>Generalized Linear Model Regression Results</caption>\n",
       "<tr>\n",
       "  <th>Dep. Variable:</th>       <td>REPITENTE</td>    <th>  No. Observations:  </th>  <td> 65026</td> \n",
       "</tr>\n",
       "<tr>\n",
       "  <th>Model:</th>                  <td>GLM</td>       <th>  Df Residuals:      </th>  <td> 65005</td> \n",
       "</tr>\n",
       "<tr>\n",
       "  <th>Model Family:</th>        <td>Binomial</td>     <th>  Df Model:          </th>  <td>    20</td> \n",
       "</tr>\n",
       "<tr>\n",
       "  <th>Link Function:</th>         <td>logit</td>      <th>  Scale:             </th> <td>  1.0000</td>\n",
       "</tr>\n",
       "<tr>\n",
       "  <th>Method:</th>                <td>IRLS</td>       <th>  Log-Likelihood:    </th> <td> -6652.1</td>\n",
       "</tr>\n",
       "<tr>\n",
       "  <th>Date:</th>            <td>Mon, 04 Jul 2022</td> <th>  Deviance:          </th> <td>  13304.</td>\n",
       "</tr>\n",
       "<tr>\n",
<<<<<<< HEAD
       "  <th>Time:</th>                <td>13:55:56</td>     <th>  Pearson chi2:      </th> <td>6.37e+04</td>\n",
=======
       "  <th>Time:</th>                <td>19:04:35</td>     <th>  Pearson chi2:      </th> <td>6.37e+04</td>\n",
>>>>>>> dde46a8659c5fb1d43b21ce9e2c8a2c9c8b418ca
       "</tr>\n",
       "<tr>\n",
       "  <th>No. Iterations:</th>          <td>8</td>        <th>                     </th>     <td> </td>   \n",
       "</tr>\n",
       "<tr>\n",
       "  <th>Covariance Type:</th>     <td>nonrobust</td>    <th>                     </th>     <td> </td>   \n",
       "</tr>\n",
       "</table>\n",
       "<table class=\"simpletable\">\n",
       "<tr>\n",
       "                             <td></td>                                <th>coef</th>     <th>std err</th>      <th>z</th>      <th>P>|z|</th>  <th>[0.025</th>    <th>0.975]</th>  \n",
       "</tr>\n",
       "<tr>\n",
       "  <th>EDAD</th>                                                    <td>   32.3023</td> <td>    2.720</td> <td>   11.878</td> <td> 0.000</td> <td>   26.972</td> <td>   37.633</td>\n",
       "</tr>\n",
       "<tr>\n",
       "  <th>estrato</th>                                                 <td>   -0.3270</td> <td>    0.331</td> <td>   -0.987</td> <td> 0.324</td> <td>   -0.977</td> <td>    0.323</td>\n",
       "</tr>\n",
       "<tr>\n",
       "  <th>puntaje_sisben_3</th>                                        <td>   -0.0176</td> <td>    0.034</td> <td>   -0.514</td> <td> 0.607</td> <td>   -0.085</td> <td>    0.049</td>\n",
       "</tr>\n",
       "<tr>\n",
       "  <th>indice_hacinamiento</th>                                     <td>    0.0098</td> <td>    0.145</td> <td>    0.068</td> <td> 0.946</td> <td>   -0.275</td> <td>    0.294</td>\n",
       "</tr>\n",
       "<tr>\n",
       "  <th>TOTAL_EQUIPO_COMPUTO</th>                                    <td>    0.0006</td> <td>    0.003</td> <td>    0.191</td> <td> 0.849</td> <td>   -0.006</td> <td>    0.007</td>\n",
       "</tr>\n",
       "<tr>\n",
       "  <th>ALUMN_POR_DOCENTE</th>                                       <td>    0.6136</td> <td>    0.217</td> <td>    2.834</td> <td> 0.005</td> <td>    0.189</td> <td>    1.038</td>\n",
       "</tr>\n",
       "<tr>\n",
       "  <th>COMPU_POR_ALUMN</th>                                         <td>    0.1883</td> <td>    0.264</td> <td>    0.714</td> <td> 0.475</td> <td>   -0.329</td> <td>    0.705</td>\n",
       "</tr>\n",
       "<tr>\n",
       "  <th>TOTAL_DOCENTES_CON_TITULO</th>                               <td>    0.0119</td> <td>    0.011</td> <td>    1.098</td> <td> 0.272</td> <td>   -0.009</td> <td>    0.033</td>\n",
       "</tr>\n",
       "<tr>\n",
       "  <th>PROP_DOCENTES_CON_TITULO</th>                                <td>    0.1233</td> <td>    0.212</td> <td>    0.583</td> <td> 0.560</td> <td>   -0.291</td> <td>    0.538</td>\n",
       "</tr>\n",
       "<tr>\n",
       "  <th>promepuntaje</th>                                            <td>    0.4449</td> <td>    0.276</td> <td>    1.611</td> <td> 0.107</td> <td>   -0.096</td> <td>    0.986</td>\n",
       "</tr>\n",
       "<tr>\n",
       "  <th>EDAD:Log_EDAD</th>                                           <td>   -8.3136</td> <td>    0.712</td> <td>  -11.682</td> <td> 0.000</td> <td>   -9.708</td> <td>   -6.919</td>\n",
       "</tr>\n",
       "<tr>\n",
       "  <th>estrato:Log_estrato</th>                                     <td>    0.1507</td> <td>    0.202</td> <td>    0.745</td> <td> 0.456</td> <td>   -0.246</td> <td>    0.547</td>\n",
       "</tr>\n",
       "<tr>\n",
       "  <th>puntaje_sisben_3:Log_puntaje_sisben_3</th>                   <td>    0.0035</td> <td>    0.007</td> <td>    0.475</td> <td> 0.635</td> <td>   -0.011</td> <td>    0.018</td>\n",
       "</tr>\n",
       "<tr>\n",
       "  <th>indice_hacinamiento:Log_indice_hacinamiento</th>             <td>   -0.0037</td> <td>    0.063</td> <td>   -0.059</td> <td> 0.953</td> <td>   -0.127</td> <td>    0.120</td>\n",
       "</tr>\n",
       "<tr>\n",
       "  <th>TOTAL_EQUIPO_COMPUTO:Log_TOTAL_EQUIPO_COMPUTO</th>           <td>   -0.0001</td> <td>    0.000</td> <td>   -0.297</td> <td> 0.767</td> <td>   -0.001</td> <td>    0.001</td>\n",
       "</tr>\n",
       "<tr>\n",
       "  <th>ALUMN_POR_DOCENTE:Log_ALUMN_POR_DOCENTE</th>                 <td>   -0.1508</td> <td>    0.052</td> <td>   -2.905</td> <td> 0.004</td> <td>   -0.253</td> <td>   -0.049</td>\n",
       "</tr>\n",
       "<tr>\n",
       "  <th>COMPU_POR_ALUMN:Log_COMPU_POR_ALUMN</th>                     <td>   -2.3090</td> <td>    0.583</td> <td>   -3.963</td> <td> 0.000</td> <td>   -3.451</td> <td>   -1.167</td>\n",
       "</tr>\n",
       "<tr>\n",
       "  <th>TOTAL_DOCENTES_CON_TITULO:Log_TOTAL_DOCENTES_CON_TITULO</th> <td>   -0.0021</td> <td>    0.002</td> <td>   -1.004</td> <td> 0.315</td> <td>   -0.006</td> <td>    0.002</td>\n",
       "</tr>\n",
       "<tr>\n",
       "  <th>PROP_DOCENTES_CON_TITULO:Log_PROP_DOCENTES_CON_TITULO</th>   <td>    0.4139</td> <td>    0.418</td> <td>    0.991</td> <td> 0.322</td> <td>   -0.405</td> <td>    1.233</td>\n",
       "</tr>\n",
       "<tr>\n",
       "  <th>promepuntaje:Log_promepuntaje</th>                           <td>   -0.0693</td> <td>    0.042</td> <td>   -1.640</td> <td> 0.101</td> <td>   -0.152</td> <td>    0.014</td>\n",
       "</tr>\n",
       "<tr>\n",
       "  <th>const</th>                                                   <td> -170.6367</td> <td>   15.768</td> <td>  -10.821</td> <td> 0.000</td> <td> -201.542</td> <td> -139.731</td>\n",
       "</tr>\n",
       "</table>"
      ],
      "text/plain": [
       "<class 'statsmodels.iolib.summary.Summary'>\n",
       "\"\"\"\n",
       "                 Generalized Linear Model Regression Results                  \n",
       "==============================================================================\n",
       "Dep. Variable:              REPITENTE   No. Observations:                65026\n",
       "Model:                            GLM   Df Residuals:                    65005\n",
       "Model Family:                Binomial   Df Model:                           20\n",
       "Link Function:                  logit   Scale:                          1.0000\n",
       "Method:                          IRLS   Log-Likelihood:                -6652.1\n",
       "Date:                Mon, 04 Jul 2022   Deviance:                       13304.\n",
<<<<<<< HEAD
       "Time:                        13:55:56   Pearson chi2:                 6.37e+04\n",
       "No. Iterations:                     8                                         \n",
=======
       "Time:                        19:04:35   Pearson chi2:                 6.37e+04\n",
       "No. Iterations:                     8   Pseudo R-squ. (CS):            0.01263\n",
>>>>>>> dde46a8659c5fb1d43b21ce9e2c8a2c9c8b418ca
       "Covariance Type:            nonrobust                                         \n",
       "===========================================================================================================================\n",
       "                                                              coef    std err          z      P>|z|      [0.025      0.975]\n",
       "---------------------------------------------------------------------------------------------------------------------------\n",
       "EDAD                                                       32.3023      2.720     11.878      0.000      26.972      37.633\n",
       "estrato                                                    -0.3270      0.331     -0.987      0.324      -0.977       0.323\n",
       "puntaje_sisben_3                                           -0.0176      0.034     -0.514      0.607      -0.085       0.049\n",
       "indice_hacinamiento                                         0.0098      0.145      0.068      0.946      -0.275       0.294\n",
       "TOTAL_EQUIPO_COMPUTO                                        0.0006      0.003      0.191      0.849      -0.006       0.007\n",
       "ALUMN_POR_DOCENTE                                           0.6136      0.217      2.834      0.005       0.189       1.038\n",
       "COMPU_POR_ALUMN                                             0.1883      0.264      0.714      0.475      -0.329       0.705\n",
       "TOTAL_DOCENTES_CON_TITULO                                   0.0119      0.011      1.098      0.272      -0.009       0.033\n",
       "PROP_DOCENTES_CON_TITULO                                    0.1233      0.212      0.583      0.560      -0.291       0.538\n",
       "promepuntaje                                                0.4449      0.276      1.611      0.107      -0.096       0.986\n",
       "EDAD:Log_EDAD                                              -8.3136      0.712    -11.682      0.000      -9.708      -6.919\n",
       "estrato:Log_estrato                                         0.1507      0.202      0.745      0.456      -0.246       0.547\n",
       "puntaje_sisben_3:Log_puntaje_sisben_3                       0.0035      0.007      0.475      0.635      -0.011       0.018\n",
       "indice_hacinamiento:Log_indice_hacinamiento                -0.0037      0.063     -0.059      0.953      -0.127       0.120\n",
       "TOTAL_EQUIPO_COMPUTO:Log_TOTAL_EQUIPO_COMPUTO              -0.0001      0.000     -0.297      0.767      -0.001       0.001\n",
       "ALUMN_POR_DOCENTE:Log_ALUMN_POR_DOCENTE                    -0.1508      0.052     -2.905      0.004      -0.253      -0.049\n",
       "COMPU_POR_ALUMN:Log_COMPU_POR_ALUMN                        -2.3090      0.583     -3.963      0.000      -3.451      -1.167\n",
       "TOTAL_DOCENTES_CON_TITULO:Log_TOTAL_DOCENTES_CON_TITULO    -0.0021      0.002     -1.004      0.315      -0.006       0.002\n",
       "PROP_DOCENTES_CON_TITULO:Log_PROP_DOCENTES_CON_TITULO       0.4139      0.418      0.991      0.322      -0.405       1.233\n",
       "promepuntaje:Log_promepuntaje                              -0.0693      0.042     -1.640      0.101      -0.152       0.014\n",
       "const                                                    -170.6367     15.768    -10.821      0.000    -201.542    -139.731\n",
       "===========================================================================================================================\n",
       "\"\"\""
      ]
     },
<<<<<<< HEAD
     "execution_count": 27,
=======
     "execution_count": 26,
>>>>>>> dde46a8659c5fb1d43b21ce9e2c8a2c9c8b418ca
     "metadata": {},
     "output_type": "execute_result"
    }
   ],
   "source": [
    "logit_results = sm.GLM(y, X_cons, family=sm.families.Binomial()).fit()\n",
    "logit_results.summary()"
   ]
  },
  {
   "cell_type": "code",
<<<<<<< HEAD
   "execution_count": 28,
=======
   "execution_count": 27,
>>>>>>> dde46a8659c5fb1d43b21ce9e2c8a2c9c8b418ca
   "id": "6ec0570f-40f2-4717-aa15-8185f09ef5a8",
   "metadata": {},
   "outputs": [
    {
     "data": {
      "text/plain": [
       "EDAD                                                       1.545264e-32\n",
       "estrato                                                    3.238365e-01\n",
       "puntaje_sisben_3                                           6.071700e-01\n",
       "indice_hacinamiento                                        9.459104e-01\n",
       "TOTAL_EQUIPO_COMPUTO                                       8.485493e-01\n",
       "ALUMN_POR_DOCENTE                                          4.603919e-03\n",
       "COMPU_POR_ALUMN                                            4.754305e-01\n",
       "TOTAL_DOCENTES_CON_TITULO                                  2.722090e-01\n",
       "PROP_DOCENTES_CON_TITULO                                   5.599265e-01\n",
       "promepuntaje                                               1.072575e-01\n",
       "EDAD:Log_EDAD                                              1.575889e-31\n",
       "estrato:Log_estrato                                        4.561816e-01\n",
       "puntaje_sisben_3:Log_puntaje_sisben_3                      6.350400e-01\n",
       "indice_hacinamiento:Log_indice_hacinamiento                9.530578e-01\n",
       "TOTAL_EQUIPO_COMPUTO:Log_TOTAL_EQUIPO_COMPUTO              7.666133e-01\n",
       "ALUMN_POR_DOCENTE:Log_ALUMN_POR_DOCENTE                    3.669093e-03\n",
       "COMPU_POR_ALUMN:Log_COMPU_POR_ALUMN                        7.416853e-05\n",
       "TOTAL_DOCENTES_CON_TITULO:Log_TOTAL_DOCENTES_CON_TITULO    3.153648e-01\n",
       "PROP_DOCENTES_CON_TITULO:Log_PROP_DOCENTES_CON_TITULO      3.217889e-01\n",
       "promepuntaje:Log_promepuntaje                              1.010564e-01\n",
       "const                                                      2.726108e-27\n",
       "dtype: float64"
      ]
     },
<<<<<<< HEAD
     "execution_count": 28,
=======
     "execution_count": 27,
>>>>>>> dde46a8659c5fb1d43b21ce9e2c8a2c9c8b418ca
     "metadata": {},
     "output_type": "execute_result"
    }
   ],
   "source": [
    "logit_results.pvalues"
   ]
  },
  {
   "cell_type": "code",
<<<<<<< HEAD
   "execution_count": 29,
=======
   "execution_count": 28,
>>>>>>> dde46a8659c5fb1d43b21ce9e2c8a2c9c8b418ca
   "id": "4fd782fb-52cb-4681-86fe-8287f1564c71",
   "metadata": {},
   "outputs": [
    {
     "data": {
      "text/plain": [
       "estrato                                                    0.323837\n",
       "puntaje_sisben_3                                           0.607170\n",
       "indice_hacinamiento                                        0.945910\n",
       "TOTAL_EQUIPO_COMPUTO                                       0.848549\n",
       "COMPU_POR_ALUMN                                            0.475430\n",
       "TOTAL_DOCENTES_CON_TITULO                                  0.272209\n",
       "PROP_DOCENTES_CON_TITULO                                   0.559927\n",
       "promepuntaje                                               0.107258\n",
       "estrato:Log_estrato                                        0.456182\n",
       "puntaje_sisben_3:Log_puntaje_sisben_3                      0.635040\n",
       "indice_hacinamiento:Log_indice_hacinamiento                0.953058\n",
       "TOTAL_EQUIPO_COMPUTO:Log_TOTAL_EQUIPO_COMPUTO              0.766613\n",
       "TOTAL_DOCENTES_CON_TITULO:Log_TOTAL_DOCENTES_CON_TITULO    0.315365\n",
       "PROP_DOCENTES_CON_TITULO:Log_PROP_DOCENTES_CON_TITULO      0.321789\n",
       "promepuntaje:Log_promepuntaje                              0.101056\n",
       "dtype: float64"
      ]
     },
<<<<<<< HEAD
     "execution_count": 29,
=======
     "execution_count": 28,
>>>>>>> dde46a8659c5fb1d43b21ce9e2c8a2c9c8b418ca
     "metadata": {},
     "output_type": "execute_result"
    }
   ],
   "source": [
    "logit_results.pvalues[logit_results.pvalues > 0.05]"
   ]
  },
  {
   "cell_type": "code",
<<<<<<< HEAD
   "execution_count": 30,
=======
   "execution_count": 29,
>>>>>>> dde46a8659c5fb1d43b21ce9e2c8a2c9c8b418ca
   "id": "b197aa81-c4e4-4e8f-a5b7-b754afd83fca",
   "metadata": {},
   "outputs": [
    {
     "data": {
      "text/plain": [
       "Index(['estrato', 'puntaje_sisben_3', 'indice_hacinamiento',\n",
       "       'TOTAL_EQUIPO_COMPUTO', 'COMPU_POR_ALUMN', 'TOTAL_DOCENTES_CON_TITULO',\n",
       "       'PROP_DOCENTES_CON_TITULO', 'promepuntaje', 'estrato:Log_estrato',\n",
       "       'puntaje_sisben_3:Log_puntaje_sisben_3',\n",
       "       'indice_hacinamiento:Log_indice_hacinamiento',\n",
       "       'TOTAL_EQUIPO_COMPUTO:Log_TOTAL_EQUIPO_COMPUTO',\n",
       "       'TOTAL_DOCENTES_CON_TITULO:Log_TOTAL_DOCENTES_CON_TITULO',\n",
       "       'PROP_DOCENTES_CON_TITULO:Log_PROP_DOCENTES_CON_TITULO',\n",
       "       'promepuntaje:Log_promepuntaje'],\n",
       "      dtype='object')"
      ]
     },
<<<<<<< HEAD
     "execution_count": 30,
=======
     "execution_count": 29,
>>>>>>> dde46a8659c5fb1d43b21ce9e2c8a2c9c8b418ca
     "metadata": {},
     "output_type": "execute_result"
    }
   ],
   "source": [
    "logit_results.pvalues[logit_results.pvalues > 0.05].index"
   ]
  },
  {
   "cell_type": "code",
<<<<<<< HEAD
   "execution_count": 31,
=======
   "execution_count": 30,
>>>>>>> dde46a8659c5fb1d43b21ce9e2c8a2c9c8b418ca
   "id": "f3ae6214-8c84-4a79-bc6a-9649e63b91fe",
   "metadata": {},
   "outputs": [
    {
     "data": {
      "text/plain": [
       "['estrato',\n",
       " 'puntaje_sisben_3',\n",
       " 'indice_hacinamiento',\n",
       " 'TOTAL_EQUIPO_COMPUTO',\n",
       " 'TOTAL_DOCENTES_CON_TITULO',\n",
       " 'PROP_DOCENTES_CON_TITULO',\n",
       " 'promepuntaje']"
      ]
     },
<<<<<<< HEAD
     "execution_count": 31,
=======
     "execution_count": 30,
>>>>>>> dde46a8659c5fb1d43b21ce9e2c8a2c9c8b418ca
     "metadata": {},
     "output_type": "execute_result"
    }
   ],
   "source": [
    "conti = []\n",
    "for x in logit_results.pvalues[logit_results.pvalues > 0.05].index:\n",
    "    if \":\" in x:\n",
    "        aux = x.split(':')\n",
    "        conti.append(aux[0])\n",
    "conti"
   ]
  },
  {
   "cell_type": "code",
<<<<<<< HEAD
   "execution_count": 32,
=======
   "execution_count": 31,
>>>>>>> dde46a8659c5fb1d43b21ce9e2c8a2c9c8b418ca
   "id": "eeac7824-5f9c-4416-b6a9-080c7c9477b4",
   "metadata": {},
   "outputs": [],
   "source": [
    "# Select the continuous variables that fulfill the second assumption for the model\n",
    "variables = conti"
   ]
  },
  {
   "cell_type": "markdown",
   "id": "6bfe16dd-0352-44ec-a512-14cd16a48582",
   "metadata": {},
   "source": [
    "-------------------------"
   ]
  },
  {
   "cell_type": "markdown",
   "id": "976fd47f-aee1-43f6-a683-37d450c31dcf",
   "metadata": {},
   "source": [
    "#### Comparasion against smf.logit\n",
    "\n",
    "We can see that the results are equivalent"
   ]
  },
  {
   "cell_type": "code",
<<<<<<< HEAD
   "execution_count": 33,
=======
   "execution_count": 32,
>>>>>>> dde46a8659c5fb1d43b21ce9e2c8a2c9c8b418ca
   "id": "ddbab395-3162-491e-b6e0-d975752d084b",
   "metadata": {},
   "outputs": [],
   "source": [
    "def formula_odds(dependiente, variables):\n",
    "    formula = f'{dependiente} ~ '\n",
    "    for variable in variables:\n",
    "        if formula != f'{dependiente} ~ ':\n",
    "            formula += ' + '\n",
    "        formula += f'{variable}'\n",
    "        formula += f' + {variable} : np.log({variable})'\n",
    "    return formula  "
   ]
  },
  {
   "cell_type": "code",
<<<<<<< HEAD
   "execution_count": 34,
=======
   "execution_count": 33,
>>>>>>> dde46a8659c5fb1d43b21ce9e2c8a2c9c8b418ca
   "id": "f0eb4a5b-996c-489b-af95-ce493b687944",
   "metadata": {},
   "outputs": [],
   "source": [
    "X_cons['REPITENTE'] = y"
   ]
  },
  {
   "cell_type": "code",
<<<<<<< HEAD
   "execution_count": 35,
=======
   "execution_count": 34,
>>>>>>> dde46a8659c5fb1d43b21ce9e2c8a2c9c8b418ca
   "id": "b25f352f-1daf-43c7-8446-c485187d4fdb",
   "metadata": {},
   "outputs": [
    {
     "data": {
      "text/plain": [
       "'REPITENTE ~ estrato + estrato : np.log(estrato) + puntaje_sisben_3 + puntaje_sisben_3 : np.log(puntaje_sisben_3) + indice_hacinamiento + indice_hacinamiento : np.log(indice_hacinamiento) + TOTAL_EQUIPO_COMPUTO + TOTAL_EQUIPO_COMPUTO : np.log(TOTAL_EQUIPO_COMPUTO) + TOTAL_DOCENTES_CON_TITULO + TOTAL_DOCENTES_CON_TITULO : np.log(TOTAL_DOCENTES_CON_TITULO) + PROP_DOCENTES_CON_TITULO + PROP_DOCENTES_CON_TITULO : np.log(PROP_DOCENTES_CON_TITULO) + promepuntaje + promepuntaje : np.log(promepuntaje)'"
      ]
     },
<<<<<<< HEAD
     "execution_count": 35,
=======
     "execution_count": 34,
>>>>>>> dde46a8659c5fb1d43b21ce9e2c8a2c9c8b418ca
     "metadata": {},
     "output_type": "execute_result"
    }
   ],
   "source": [
    "formula = formula_odds('REPITENTE', variables)\n",
    "formula"
   ]
  },
  {
   "cell_type": "code",
<<<<<<< HEAD
   "execution_count": 36,
=======
   "execution_count": 35,
>>>>>>> dde46a8659c5fb1d43b21ce9e2c8a2c9c8b418ca
   "id": "6fef497b-6821-4eb0-b75d-7e0197a2f163",
   "metadata": {},
   "outputs": [
    {
     "name": "stdout",
     "output_type": "stream",
     "text": [
      "Optimization terminated successfully.\n",
      "         Current function value: 0.108001\n",
      "         Iterations 9\n"
     ]
    },
    {
     "data": {
      "text/html": [
       "<table class=\"simpletable\">\n",
       "<caption>Logit Regression Results</caption>\n",
       "<tr>\n",
       "  <th>Dep. Variable:</th>       <td>REPITENTE</td>    <th>  No. Observations:  </th>  <td> 65026</td>  \n",
       "</tr>\n",
       "<tr>\n",
       "  <th>Model:</th>                 <td>Logit</td>      <th>  Df Residuals:      </th>  <td> 65011</td>  \n",
       "</tr>\n",
       "<tr>\n",
       "  <th>Method:</th>                 <td>MLE</td>       <th>  Df Model:          </th>  <td>    14</td>  \n",
       "</tr>\n",
       "<tr>\n",
       "  <th>Date:</th>            <td>Mon, 04 Jul 2022</td> <th>  Pseudo R-squ.:     </th> <td>0.005995</td> \n",
       "</tr>\n",
       "<tr>\n",
<<<<<<< HEAD
       "  <th>Time:</th>                <td>13:55:57</td>     <th>  Log-Likelihood:    </th> <td> -7022.9</td> \n",
=======
       "  <th>Time:</th>                <td>19:04:36</td>     <th>  Log-Likelihood:    </th> <td> -7022.9</td> \n",
>>>>>>> dde46a8659c5fb1d43b21ce9e2c8a2c9c8b418ca
       "</tr>\n",
       "<tr>\n",
       "  <th>converged:</th>             <td>True</td>       <th>  LL-Null:           </th> <td> -7065.3</td> \n",
       "</tr>\n",
       "<tr>\n",
       "  <th>Covariance Type:</th>     <td>nonrobust</td>    <th>  LLR p-value:       </th> <td>3.742e-12</td>\n",
       "</tr>\n",
       "</table>\n",
       "<table class=\"simpletable\">\n",
       "<tr>\n",
       "                               <td></td>                                  <th>coef</th>     <th>std err</th>      <th>z</th>      <th>P>|z|</th>  <th>[0.025</th>    <th>0.975]</th>  \n",
       "</tr>\n",
       "<tr>\n",
       "  <th>Intercept</th>                                                   <td>  -16.7634</td> <td>   10.696</td> <td>   -1.567</td> <td> 0.117</td> <td>  -37.727</td> <td>    4.200</td>\n",
       "</tr>\n",
       "<tr>\n",
       "  <th>estrato</th>                                                     <td>   -0.6705</td> <td>    0.325</td> <td>   -2.062</td> <td> 0.039</td> <td>   -1.308</td> <td>   -0.033</td>\n",
       "</tr>\n",
       "<tr>\n",
       "  <th>estrato:np.log(estrato)</th>                                     <td>    0.3754</td> <td>    0.198</td> <td>    1.894</td> <td> 0.058</td> <td>   -0.013</td> <td>    0.764</td>\n",
       "</tr>\n",
       "<tr>\n",
       "  <th>puntaje_sisben_3</th>                                            <td>   -0.0161</td> <td>    0.034</td> <td>   -0.471</td> <td> 0.638</td> <td>   -0.083</td> <td>    0.051</td>\n",
       "</tr>\n",
       "<tr>\n",
       "  <th>puntaje_sisben_3:np.log(puntaje_sisben_3)</th>                   <td>    0.0023</td> <td>    0.007</td> <td>    0.317</td> <td> 0.751</td> <td>   -0.012</td> <td>    0.017</td>\n",
       "</tr>\n",
       "<tr>\n",
       "  <th>indice_hacinamiento</th>                                         <td>   -0.0812</td> <td>    0.142</td> <td>   -0.572</td> <td> 0.567</td> <td>   -0.359</td> <td>    0.197</td>\n",
       "</tr>\n",
       "<tr>\n",
       "  <th>indice_hacinamiento:np.log(indice_hacinamiento)</th>             <td>    0.0369</td> <td>    0.061</td> <td>    0.602</td> <td> 0.548</td> <td>   -0.083</td> <td>    0.157</td>\n",
       "</tr>\n",
       "<tr>\n",
       "  <th>TOTAL_EQUIPO_COMPUTO</th>                                        <td>    0.0070</td> <td>    0.003</td> <td>    2.510</td> <td> 0.012</td> <td>    0.002</td> <td>    0.012</td>\n",
       "</tr>\n",
       "<tr>\n",
       "  <th>TOTAL_EQUIPO_COMPUTO:np.log(TOTAL_EQUIPO_COMPUTO)</th>           <td>   -0.0010</td> <td>    0.000</td> <td>   -2.418</td> <td> 0.016</td> <td>   -0.002</td> <td>   -0.000</td>\n",
       "</tr>\n",
       "<tr>\n",
       "  <th>TOTAL_DOCENTES_CON_TITULO</th>                                   <td>    0.0173</td> <td>    0.010</td> <td>    1.681</td> <td> 0.093</td> <td>   -0.003</td> <td>    0.037</td>\n",
       "</tr>\n",
       "<tr>\n",
       "  <th>TOTAL_DOCENTES_CON_TITULO:np.log(TOTAL_DOCENTES_CON_TITULO)</th> <td>   -0.0037</td> <td>    0.002</td> <td>   -1.854</td> <td> 0.064</td> <td>   -0.008</td> <td>    0.000</td>\n",
       "</tr>\n",
       "<tr>\n",
       "  <th>PROP_DOCENTES_CON_TITULO</th>                                    <td>    0.2959</td> <td>    0.194</td> <td>    1.521</td> <td> 0.128</td> <td>   -0.085</td> <td>    0.677</td>\n",
       "</tr>\n",
       "<tr>\n",
       "  <th>PROP_DOCENTES_CON_TITULO:np.log(PROP_DOCENTES_CON_TITULO)</th>   <td>    0.2738</td> <td>    0.414</td> <td>    0.661</td> <td> 0.509</td> <td>   -0.538</td> <td>    1.086</td>\n",
       "</tr>\n",
       "<tr>\n",
       "  <th>promepuntaje</th>                                                <td>    0.4043</td> <td>    0.278</td> <td>    1.455</td> <td> 0.146</td> <td>   -0.140</td> <td>    0.949</td>\n",
       "</tr>\n",
       "<tr>\n",
       "  <th>promepuntaje:np.log(promepuntaje)</th>                           <td>   -0.0633</td> <td>    0.043</td> <td>   -1.489</td> <td> 0.137</td> <td>   -0.147</td> <td>    0.020</td>\n",
       "</tr>\n",
       "</table>"
      ],
      "text/plain": [
       "<class 'statsmodels.iolib.summary.Summary'>\n",
       "\"\"\"\n",
       "                           Logit Regression Results                           \n",
       "==============================================================================\n",
       "Dep. Variable:              REPITENTE   No. Observations:                65026\n",
       "Model:                          Logit   Df Residuals:                    65011\n",
       "Method:                           MLE   Df Model:                           14\n",
       "Date:                Mon, 04 Jul 2022   Pseudo R-squ.:                0.005995\n",
<<<<<<< HEAD
       "Time:                        13:55:57   Log-Likelihood:                -7022.9\n",
=======
       "Time:                        19:04:36   Log-Likelihood:                -7022.9\n",
>>>>>>> dde46a8659c5fb1d43b21ce9e2c8a2c9c8b418ca
       "converged:                       True   LL-Null:                       -7065.3\n",
       "Covariance Type:            nonrobust   LLR p-value:                 3.742e-12\n",
       "===============================================================================================================================\n",
       "                                                                  coef    std err          z      P>|z|      [0.025      0.975]\n",
       "-------------------------------------------------------------------------------------------------------------------------------\n",
       "Intercept                                                     -16.7634     10.696     -1.567      0.117     -37.727       4.200\n",
       "estrato                                                        -0.6705      0.325     -2.062      0.039      -1.308      -0.033\n",
       "estrato:np.log(estrato)                                         0.3754      0.198      1.894      0.058      -0.013       0.764\n",
       "puntaje_sisben_3                                               -0.0161      0.034     -0.471      0.638      -0.083       0.051\n",
       "puntaje_sisben_3:np.log(puntaje_sisben_3)                       0.0023      0.007      0.317      0.751      -0.012       0.017\n",
       "indice_hacinamiento                                            -0.0812      0.142     -0.572      0.567      -0.359       0.197\n",
       "indice_hacinamiento:np.log(indice_hacinamiento)                 0.0369      0.061      0.602      0.548      -0.083       0.157\n",
       "TOTAL_EQUIPO_COMPUTO                                            0.0070      0.003      2.510      0.012       0.002       0.012\n",
       "TOTAL_EQUIPO_COMPUTO:np.log(TOTAL_EQUIPO_COMPUTO)              -0.0010      0.000     -2.418      0.016      -0.002      -0.000\n",
       "TOTAL_DOCENTES_CON_TITULO                                       0.0173      0.010      1.681      0.093      -0.003       0.037\n",
       "TOTAL_DOCENTES_CON_TITULO:np.log(TOTAL_DOCENTES_CON_TITULO)    -0.0037      0.002     -1.854      0.064      -0.008       0.000\n",
       "PROP_DOCENTES_CON_TITULO                                        0.2959      0.194      1.521      0.128      -0.085       0.677\n",
       "PROP_DOCENTES_CON_TITULO:np.log(PROP_DOCENTES_CON_TITULO)       0.2738      0.414      0.661      0.509      -0.538       1.086\n",
       "promepuntaje                                                    0.4043      0.278      1.455      0.146      -0.140       0.949\n",
       "promepuntaje:np.log(promepuntaje)                              -0.0633      0.043     -1.489      0.137      -0.147       0.020\n",
       "===============================================================================================================================\n",
       "\"\"\""
      ]
     },
<<<<<<< HEAD
     "execution_count": 36,
=======
     "execution_count": 35,
>>>>>>> dde46a8659c5fb1d43b21ce9e2c8a2c9c8b418ca
     "metadata": {},
     "output_type": "execute_result"
    }
   ],
   "source": [
    "model= smf.logit(formula=formula, data= X_cons).fit()\n",
    "model.summary()"
   ]
  },
  {
   "cell_type": "code",
<<<<<<< HEAD
   "execution_count": 37,
=======
   "execution_count": 36,
>>>>>>> dde46a8659c5fb1d43b21ce9e2c8a2c9c8b418ca
   "id": "214cdfa4-974e-4109-aade-2b1771ea15b4",
   "metadata": {},
   "outputs": [
    {
     "data": {
      "text/plain": [
       "Intercept                                                      0.117055\n",
       "estrato:np.log(estrato)                                        0.058239\n",
       "puntaje_sisben_3                                               0.637663\n",
       "puntaje_sisben_3:np.log(puntaje_sisben_3)                      0.751157\n",
       "indice_hacinamiento                                            0.567345\n",
       "indice_hacinamiento:np.log(indice_hacinamiento)                0.547507\n",
       "TOTAL_DOCENTES_CON_TITULO                                      0.092694\n",
       "TOTAL_DOCENTES_CON_TITULO:np.log(TOTAL_DOCENTES_CON_TITULO)    0.063710\n",
       "PROP_DOCENTES_CON_TITULO                                       0.128135\n",
       "PROP_DOCENTES_CON_TITULO:np.log(PROP_DOCENTES_CON_TITULO)      0.508699\n",
       "promepuntaje                                                   0.145720\n",
       "promepuntaje:np.log(promepuntaje)                              0.136507\n",
       "dtype: float64"
      ]
     },
<<<<<<< HEAD
     "execution_count": 37,
=======
     "execution_count": 36,
>>>>>>> dde46a8659c5fb1d43b21ce9e2c8a2c9c8b418ca
     "metadata": {},
     "output_type": "execute_result"
    }
   ],
   "source": [
    "model.pvalues[model.pvalues > 0.05]"
   ]
  },
  {
   "cell_type": "markdown",
   "id": "9043d888-6d6e-4f40-be60-075450a1795b",
   "metadata": {},
   "source": [
    "-------------------------"
   ]
  },
  {
   "cell_type": "markdown",
   "id": "e039aab8-cbde-4326-a08e-26f43bc875bb",
   "metadata": {},
   "source": [
    "### Number III: Outliers \n",
    "For the purpose of detecting outliers we will use two methods. Based on the same reference as in the assumptions, we consider the Cooks distance and the rule of thumb of three std."
   ]
  },
  {
   "cell_type": "code",
<<<<<<< HEAD
   "execution_count": 38,
=======
   "execution_count": 37,
>>>>>>> dde46a8659c5fb1d43b21ce9e2c8a2c9c8b418ca
   "id": "1ed4d9fe-1007-4325-b4d5-449267cb006b",
   "metadata": {},
   "outputs": [],
   "source": [
    "all_variables = variables + categorias\n",
    "y = df['REPITENTE']\n",
    "X = df[all_variables]\n"
   ]
  },
  {
   "cell_type": "code",
<<<<<<< HEAD
   "execution_count": 39,
=======
   "execution_count": 38,
>>>>>>> dde46a8659c5fb1d43b21ce9e2c8a2c9c8b418ca
   "id": "5c2d7c23-55f6-4704-befc-c07e41761921",
   "metadata": {},
   "outputs": [
    {
     "data": {
      "text/html": [
       "<table class=\"simpletable\">\n",
       "<caption>Generalized Linear Model Regression Results</caption>\n",
       "<tr>\n",
       "  <th>Dep. Variable:</th>       <td>REPITENTE</td>    <th>  No. Observations:  </th>  <td> 65026</td> \n",
       "</tr>\n",
       "<tr>\n",
       "  <th>Model:</th>                  <td>GLM</td>       <th>  Df Residuals:      </th>  <td> 65011</td> \n",
       "</tr>\n",
       "<tr>\n",
       "  <th>Model Family:</th>        <td>Binomial</td>     <th>  Df Model:          </th>  <td>    14</td> \n",
       "</tr>\n",
       "<tr>\n",
       "  <th>Link Function:</th>         <td>logit</td>      <th>  Scale:             </th> <td>  1.0000</td>\n",
       "</tr>\n",
       "<tr>\n",
       "  <th>Method:</th>                <td>IRLS</td>       <th>  Log-Likelihood:    </th> <td> -6949.8</td>\n",
       "</tr>\n",
       "<tr>\n",
       "  <th>Date:</th>            <td>Mon, 04 Jul 2022</td> <th>  Deviance:          </th> <td>  13900.</td>\n",
       "</tr>\n",
       "<tr>\n",
<<<<<<< HEAD
       "  <th>Time:</th>                <td>13:55:58</td>     <th>  Pearson chi2:      </th> <td>6.53e+04</td>\n",
=======
       "  <th>Time:</th>                <td>19:04:37</td>     <th>  Pearson chi2:      </th> <td>6.53e+04</td>\n",
>>>>>>> dde46a8659c5fb1d43b21ce9e2c8a2c9c8b418ca
       "</tr>\n",
       "<tr>\n",
       "  <th>No. Iterations:</th>          <td>7</td>        <th>                     </th>     <td> </td>   \n",
       "</tr>\n",
       "<tr>\n",
       "  <th>Covariance Type:</th>     <td>nonrobust</td>    <th>                     </th>     <td> </td>   \n",
       "</tr>\n",
       "</table>\n",
       "<table class=\"simpletable\">\n",
       "<tr>\n",
       "              <td></td>                 <th>coef</th>     <th>std err</th>      <th>z</th>      <th>P>|z|</th>  <th>[0.025</th>    <th>0.975]</th>  \n",
       "</tr>\n",
       "<tr>\n",
       "  <th>estrato</th>                   <td>   -0.0579</td> <td>    0.045</td> <td>   -1.299</td> <td> 0.194</td> <td>   -0.145</td> <td>    0.029</td>\n",
       "</tr>\n",
       "<tr>\n",
       "  <th>puntaje_sisben_3</th>          <td>   -0.0054</td> <td>    0.002</td> <td>   -2.935</td> <td> 0.003</td> <td>   -0.009</td> <td>   -0.002</td>\n",
       "</tr>\n",
       "<tr>\n",
       "  <th>indice_hacinamiento</th>       <td>   -0.0177</td> <td>    0.022</td> <td>   -0.795</td> <td> 0.427</td> <td>   -0.061</td> <td>    0.026</td>\n",
       "</tr>\n",
       "<tr>\n",
       "  <th>TOTAL_EQUIPO_COMPUTO</th>      <td>    0.0004</td> <td>    0.000</td> <td>    2.386</td> <td> 0.017</td> <td> 7.26e-05</td> <td>    0.001</td>\n",
       "</tr>\n",
       "<tr>\n",
       "  <th>TOTAL_DOCENTES_CON_TITULO</th> <td>   -0.0031</td> <td>    0.001</td> <td>   -3.087</td> <td> 0.002</td> <td>   -0.005</td> <td>   -0.001</td>\n",
       "</tr>\n",
       "<tr>\n",
       "  <th>PROP_DOCENTES_CON_TITULO</th>  <td>    0.5885</td> <td>    0.123</td> <td>    4.794</td> <td> 0.000</td> <td>    0.348</td> <td>    0.829</td>\n",
       "</tr>\n",
       "<tr>\n",
       "  <th>promepuntaje</th>              <td>   -0.0159</td> <td>    0.001</td> <td>  -22.041</td> <td> 0.000</td> <td>   -0.017</td> <td>   -0.014</td>\n",
       "</tr>\n",
       "<tr>\n",
       "  <th>GENERO</th>                    <td>    0.6297</td> <td>    0.054</td> <td>   11.637</td> <td> 0.000</td> <td>    0.524</td> <td>    0.736</td>\n",
       "</tr>\n",
       "<tr>\n",
       "  <th>TIPO_DISCAPACIDAD</th>         <td>    0.3306</td> <td>    0.158</td> <td>    2.086</td> <td> 0.037</td> <td>    0.020</td> <td>    0.641</td>\n",
       "</tr>\n",
       "<tr>\n",
       "  <th>CODIGO_ETNIA</th>              <td>   -0.0165</td> <td>    0.101</td> <td>   -0.163</td> <td> 0.870</td> <td>   -0.215</td> <td>    0.182</td>\n",
       "</tr>\n",
       "<tr>\n",
       "  <th>DIR_NUM_LOCALIDAD</th>         <td>    0.0062</td> <td>    0.005</td> <td>    1.254</td> <td> 0.210</td> <td>   -0.003</td> <td>    0.016</td>\n",
       "</tr>\n",
       "<tr>\n",
       "  <th>teneviv</th>                   <td>   -0.0596</td> <td>    0.028</td> <td>   -2.095</td> <td> 0.036</td> <td>   -0.115</td> <td>   -0.004</td>\n",
       "</tr>\n",
       "<tr>\n",
       "  <th>computador</th>                <td>    0.0159</td> <td>    0.069</td> <td>    0.229</td> <td> 0.819</td> <td>   -0.120</td> <td>    0.152</td>\n",
       "</tr>\n",
       "<tr>\n",
       "  <th>tiene_auto</th>                <td>   -0.1944</td> <td>    0.188</td> <td>   -1.036</td> <td> 0.300</td> <td>   -0.562</td> <td>    0.173</td>\n",
       "</tr>\n",
       "<tr>\n",
       "  <th>ES_BILINGUE</th>               <td>   -0.4682</td> <td>    0.197</td> <td>   -2.379</td> <td> 0.017</td> <td>   -0.854</td> <td>   -0.083</td>\n",
       "</tr>\n",
       "</table>"
      ],
      "text/plain": [
       "<class 'statsmodels.iolib.summary.Summary'>\n",
       "\"\"\"\n",
       "                 Generalized Linear Model Regression Results                  \n",
       "==============================================================================\n",
       "Dep. Variable:              REPITENTE   No. Observations:                65026\n",
       "Model:                            GLM   Df Residuals:                    65011\n",
       "Model Family:                Binomial   Df Model:                           14\n",
       "Link Function:                  logit   Scale:                          1.0000\n",
       "Method:                          IRLS   Log-Likelihood:                -6949.8\n",
       "Date:                Mon, 04 Jul 2022   Deviance:                       13900.\n",
<<<<<<< HEAD
       "Time:                        13:55:58   Pearson chi2:                 6.53e+04\n",
       "No. Iterations:                     7                                         \n",
=======
       "Time:                        19:04:37   Pearson chi2:                 6.53e+04\n",
       "No. Iterations:                     7   Pseudo R-squ. (CS):           0.003545\n",
>>>>>>> dde46a8659c5fb1d43b21ce9e2c8a2c9c8b418ca
       "Covariance Type:            nonrobust                                         \n",
       "=============================================================================================\n",
       "                                coef    std err          z      P>|z|      [0.025      0.975]\n",
       "---------------------------------------------------------------------------------------------\n",
       "estrato                      -0.0579      0.045     -1.299      0.194      -0.145       0.029\n",
       "puntaje_sisben_3             -0.0054      0.002     -2.935      0.003      -0.009      -0.002\n",
       "indice_hacinamiento          -0.0177      0.022     -0.795      0.427      -0.061       0.026\n",
       "TOTAL_EQUIPO_COMPUTO          0.0004      0.000      2.386      0.017    7.26e-05       0.001\n",
       "TOTAL_DOCENTES_CON_TITULO    -0.0031      0.001     -3.087      0.002      -0.005      -0.001\n",
       "PROP_DOCENTES_CON_TITULO      0.5885      0.123      4.794      0.000       0.348       0.829\n",
       "promepuntaje                 -0.0159      0.001    -22.041      0.000      -0.017      -0.014\n",
       "GENERO                        0.6297      0.054     11.637      0.000       0.524       0.736\n",
       "TIPO_DISCAPACIDAD             0.3306      0.158      2.086      0.037       0.020       0.641\n",
       "CODIGO_ETNIA                 -0.0165      0.101     -0.163      0.870      -0.215       0.182\n",
       "DIR_NUM_LOCALIDAD             0.0062      0.005      1.254      0.210      -0.003       0.016\n",
       "teneviv                      -0.0596      0.028     -2.095      0.036      -0.115      -0.004\n",
       "computador                    0.0159      0.069      0.229      0.819      -0.120       0.152\n",
       "tiene_auto                   -0.1944      0.188     -1.036      0.300      -0.562       0.173\n",
       "ES_BILINGUE                  -0.4682      0.197     -2.379      0.017      -0.854      -0.083\n",
       "=============================================================================================\n",
       "\"\"\""
      ]
     },
<<<<<<< HEAD
     "execution_count": 39,
=======
     "execution_count": 38,
>>>>>>> dde46a8659c5fb1d43b21ce9e2c8a2c9c8b418ca
     "metadata": {},
     "output_type": "execute_result"
    }
   ],
   "source": [
    "logit_results = sm.GLM(y, X, family=sm.families.Binomial()).fit()\n",
    "logit_results.summary()"
   ]
  },
  {
   "cell_type": "code",
<<<<<<< HEAD
   "execution_count": 40,
=======
   "execution_count": 39,
>>>>>>> dde46a8659c5fb1d43b21ce9e2c8a2c9c8b418ca
   "id": "85d8eb91-c616-4626-9c89-d395cef1823b",
   "metadata": {},
   "outputs": [],
   "source": [
    "# Get influence measures\n",
    "influence = logit_results.get_influence()"
   ]
  },
  {
   "cell_type": "code",
<<<<<<< HEAD
   "execution_count": 41,
=======
   "execution_count": 40,
>>>>>>> dde46a8659c5fb1d43b21ce9e2c8a2c9c8b418ca
   "id": "fb2d541f-d145-489a-b96e-e4c9945579de",
   "metadata": {},
   "outputs": [],
   "source": [
    "# Obtain summary df of influence measures\n",
    "summ_df = influence.summary_frame()\n",
    "# Filter summary df to Cook's distance values only\n",
    "diagnosis_df = summ_df[['cooks_d']]\n",
    "\n",
    "# Set Cook's distance threshold\n",
    "cook_threshold = 4 / len(X)"
   ]
  },
  {
   "cell_type": "code",
<<<<<<< HEAD
   "execution_count": 42,
=======
   "execution_count": 41,
>>>>>>> dde46a8659c5fb1d43b21ce9e2c8a2c9c8b418ca
   "id": "4e6cde19-b2fb-49ff-9afa-9ab680ebaadc",
   "metadata": {},
   "outputs": [
    {
     "name": "stderr",
     "output_type": "stream",
     "text": [
<<<<<<< HEAD
      "<ipython-input-42-915f4f9d121e>:2: SettingWithCopyWarning: \n",
=======
      "<ipython-input-41-915f4f9d121e>:2: SettingWithCopyWarning: \n",
>>>>>>> dde46a8659c5fb1d43b21ce9e2c8a2c9c8b418ca
      "A value is trying to be set on a copy of a slice from a DataFrame.\n",
      "Try using .loc[row_indexer,col_indexer] = value instead\n",
      "\n",
      "See the caveats in the documentation: https://pandas.pydata.org/pandas-docs/stable/user_guide/indexing.html#returning-a-view-versus-a-copy\n",
      "  diagnosis_df['std_resid'] = stats.zscore(logit_results.resid_pearson)\n",
<<<<<<< HEAD
      "<ipython-input-42-915f4f9d121e>:3: SettingWithCopyWarning: \n",
=======
      "<ipython-input-41-915f4f9d121e>:3: SettingWithCopyWarning: \n",
>>>>>>> dde46a8659c5fb1d43b21ce9e2c8a2c9c8b418ca
      "A value is trying to be set on a copy of a slice from a DataFrame.\n",
      "Try using .loc[row_indexer,col_indexer] = value instead\n",
      "\n",
      "See the caveats in the documentation: https://pandas.pydata.org/pandas-docs/stable/user_guide/indexing.html#returning-a-view-versus-a-copy\n",
      "  diagnosis_df['std_resid'] = diagnosis_df['std_resid'].apply(lambda x: np.abs(x))\n"
     ]
    }
   ],
   "source": [
    "# Append absolute standardized residual values \n",
    "diagnosis_df['std_resid'] = stats.zscore(logit_results.resid_pearson)\n",
    "diagnosis_df['std_resid'] = diagnosis_df['std_resid'].apply(lambda x: np.abs(x))"
   ]
  },
  {
   "cell_type": "code",
<<<<<<< HEAD
   "execution_count": 43,
=======
   "execution_count": 42,
>>>>>>> dde46a8659c5fb1d43b21ce9e2c8a2c9c8b418ca
   "id": "e17db6a2-629f-453f-a68d-1d4d62d537c6",
   "metadata": {},
   "outputs": [],
   "source": [
    "# Find observations which are BOTH outlier (std dev > 3) and highly influential\n",
    "extreme = diagnosis_df[(diagnosis_df['cooks_d'] > cook_threshold) & \n",
    "                       (diagnosis_df['std_resid'] > 3)]"
   ]
  },
  {
   "cell_type": "code",
<<<<<<< HEAD
   "execution_count": 44,
=======
   "execution_count": 43,
>>>>>>> dde46a8659c5fb1d43b21ce9e2c8a2c9c8b418ca
   "id": "bcea628a-d15f-4c8e-b26e-371d7ddb2cfa",
   "metadata": {},
   "outputs": [
    {
     "data": {
      "text/html": [
       "<div>\n",
       "<style scoped>\n",
       "    .dataframe tbody tr th:only-of-type {\n",
       "        vertical-align: middle;\n",
       "    }\n",
       "\n",
       "    .dataframe tbody tr th {\n",
       "        vertical-align: top;\n",
       "    }\n",
       "\n",
       "    .dataframe thead th {\n",
       "        text-align: right;\n",
       "    }\n",
       "</style>\n",
       "<table border=\"1\" class=\"dataframe\">\n",
       "  <thead>\n",
       "    <tr style=\"text-align: right;\">\n",
       "      <th></th>\n",
       "      <th>cooks_d</th>\n",
       "      <th>std_resid</th>\n",
       "    </tr>\n",
       "  </thead>\n",
       "  <tbody>\n",
       "    <tr>\n",
       "      <th>243142</th>\n",
       "      <td>0.024871</td>\n",
       "      <td>8.228697</td>\n",
       "    </tr>\n",
       "    <tr>\n",
       "      <th>278486</th>\n",
       "      <td>0.016728</td>\n",
       "      <td>5.902227</td>\n",
       "    </tr>\n",
       "    <tr>\n",
       "      <th>430371</th>\n",
       "      <td>0.016405</td>\n",
       "      <td>5.099601</td>\n",
       "    </tr>\n",
       "    <tr>\n",
       "      <th>125473</th>\n",
       "      <td>0.004950</td>\n",
       "      <td>9.212170</td>\n",
       "    </tr>\n",
       "    <tr>\n",
       "      <th>337444</th>\n",
       "      <td>0.004843</td>\n",
       "      <td>13.408324</td>\n",
       "    </tr>\n",
       "  </tbody>\n",
       "</table>\n",
       "</div>"
      ],
      "text/plain": [
       "         cooks_d  std_resid\n",
       "243142  0.024871   8.228697\n",
       "278486  0.016728   5.902227\n",
       "430371  0.016405   5.099601\n",
       "125473  0.004950   9.212170\n",
       "337444  0.004843  13.408324"
      ]
     },
<<<<<<< HEAD
     "execution_count": 44,
=======
     "execution_count": 43,
>>>>>>> dde46a8659c5fb1d43b21ce9e2c8a2c9c8b418ca
     "metadata": {},
     "output_type": "execute_result"
    }
   ],
   "source": [
    "# Show top 5 highly influential outlier observations\n",
    "extreme.sort_values(\"cooks_d\", ascending=False).head()"
   ]
  },
  {
   "cell_type": "code",
<<<<<<< HEAD
   "execution_count": 1,
=======
   "execution_count": 44,
>>>>>>> dde46a8659c5fb1d43b21ce9e2c8a2c9c8b418ca
   "id": "dc6d147d-92af-49ef-92f5-9462dfa92aaa",
   "metadata": {},
   "outputs": [
    {
<<<<<<< HEAD
     "ename": "NameError",
     "evalue": "name 'extreme' is not defined",
     "output_type": "error",
     "traceback": [
      "\u001b[1;31m---------------------------------------------------------------------------\u001b[0m",
      "\u001b[1;31mNameError\u001b[0m                                 Traceback (most recent call last)",
      "\u001b[1;32m<ipython-input-1-b1ddaf1cc545>\u001b[0m in \u001b[0;36m<module>\u001b[1;34m\u001b[0m\n\u001b[1;32m----> 1\u001b[1;33m \u001b[0mextreme\u001b[0m\u001b[1;33m.\u001b[0m\u001b[0mshape\u001b[0m\u001b[1;33m\u001b[0m\u001b[1;33m\u001b[0m\u001b[0m\n\u001b[0m",
      "\u001b[1;31mNameError\u001b[0m: name 'extreme' is not defined"
     ]
=======
     "data": {
      "text/plain": [
       "(1480, 2)"
      ]
     },
     "execution_count": 44,
     "metadata": {},
     "output_type": "execute_result"
>>>>>>> dde46a8659c5fb1d43b21ce9e2c8a2c9c8b418ca
    }
   ],
   "source": [
    "extreme.shape"
   ]
  },
  {
   "cell_type": "code",
<<<<<<< HEAD
   "execution_count": 46,
=======
   "execution_count": 45,
>>>>>>> dde46a8659c5fb1d43b21ce9e2c8a2c9c8b418ca
   "id": "53089f6c-b2e3-4467-aaac-67b7821ced43",
   "metadata": {},
   "outputs": [
    {
     "data": {
      "text/plain": [
       "Int64Index([    26,    128,    580,   1933,   2153,   2185,   2215,   2232,\n",
       "              2233,   2241,\n",
       "            ...\n",
       "            449547, 449572, 450596, 450602, 450615, 450618, 450672, 450971,\n",
       "            453368, 453793],\n",
       "           dtype='int64', length=1480)"
      ]
     },
<<<<<<< HEAD
     "execution_count": 46,
=======
     "execution_count": 45,
>>>>>>> dde46a8659c5fb1d43b21ce9e2c8a2c9c8b418ca
     "metadata": {},
     "output_type": "execute_result"
    }
   ],
   "source": [
    "extreme.index"
   ]
  },
  {
   "cell_type": "code",
<<<<<<< HEAD
   "execution_count": 47,
=======
   "execution_count": 46,
>>>>>>> dde46a8659c5fb1d43b21ce9e2c8a2c9c8b418ca
   "id": "28137ae7-d226-42d4-b9df-10379545c19d",
   "metadata": {},
   "outputs": [
    {
     "data": {
      "text/plain": [
       "Int64Index([     0,      1,      2,      3,      4,      5,      6,      7,\n",
       "                 8,      9,\n",
       "            ...\n",
       "            456995, 457020, 457022, 457027, 457028, 457031, 457032, 457033,\n",
       "            457039, 457041],\n",
       "           dtype='int64', length=65026)"
      ]
     },
<<<<<<< HEAD
     "execution_count": 47,
=======
     "execution_count": 46,
>>>>>>> dde46a8659c5fb1d43b21ce9e2c8a2c9c8b418ca
     "metadata": {},
     "output_type": "execute_result"
    }
   ],
   "source": [
    "df.index"
   ]
  },
  {
   "cell_type": "code",
<<<<<<< HEAD
   "execution_count": 48,
=======
   "execution_count": 47,
>>>>>>> dde46a8659c5fb1d43b21ce9e2c8a2c9c8b418ca
   "id": "e2fc4b98-12b7-4dfa-bd2c-5ef3f4dc219e",
   "metadata": {},
   "outputs": [],
   "source": [
    "# Delete undesirable outliers\n",
    "df = df.loc[~df.index.isin(extreme.index)]"
   ]
  },
  {
   "cell_type": "code",
<<<<<<< HEAD
   "execution_count": 49,
=======
   "execution_count": 48,
>>>>>>> dde46a8659c5fb1d43b21ce9e2c8a2c9c8b418ca
   "id": "7197d457-fb5b-4cfc-8e92-3c4d79f0b511",
   "metadata": {},
   "outputs": [
    {
     "data": {
      "text/plain": [
       "Int64Index([     0,      1,      2,      3,      4,      5,      6,      7,\n",
       "                 8,      9,\n",
       "            ...\n",
       "            456995, 457020, 457022, 457027, 457028, 457031, 457032, 457033,\n",
       "            457039, 457041],\n",
       "           dtype='int64', length=63546)"
      ]
     },
<<<<<<< HEAD
     "execution_count": 49,
=======
     "execution_count": 48,
>>>>>>> dde46a8659c5fb1d43b21ce9e2c8a2c9c8b418ca
     "metadata": {},
     "output_type": "execute_result"
    }
   ],
   "source": [
    "df.index"
   ]
  },
  {
   "cell_type": "markdown",
   "id": "5f6230bf-6a8c-4e70-89da-36ec0d3f3ece",
   "metadata": {},
   "source": [
    "---------------\n"
   ]
  },
  {
   "cell_type": "markdown",
   "id": "285b5231-f9a0-4e1d-aa48-0e0073b53b8c",
   "metadata": {},
   "source": [
    "## Number IV: Absence of Multicolinearility"
   ]
  },
  {
   "cell_type": "markdown",
   "id": "383e2790-141b-454e-8aec-1d1b64e95e66",
   "metadata": {},
   "source": [
    " ### Continuous variables\n",
    " From the graph below it is clear that no continuous variable presents multilinearity with each other"
   ]
  },
  {
   "cell_type": "code",
<<<<<<< HEAD
   "execution_count": 50,
=======
   "execution_count": 49,
>>>>>>> dde46a8659c5fb1d43b21ce9e2c8a2c9c8b418ca
   "id": "2b533151-aa42-42ef-8373-273b56739a47",
   "metadata": {},
   "outputs": [
    {
     "name": "stderr",
     "output_type": "stream",
     "text": [
<<<<<<< HEAD
      "<ipython-input-50-5d64253ecffd>:4: DeprecationWarning: `np.bool` is a deprecated alias for the builtin `bool`. To silence this warning, use `bool` by itself. Doing this will not modify any behavior and is safe. If you specifically wanted the numpy scalar type, use `np.bool_` here.\n",
=======
      "<ipython-input-49-5d64253ecffd>:4: DeprecationWarning: `np.bool` is a deprecated alias for the builtin `bool`. To silence this warning, use `bool` by itself. Doing this will not modify any behavior and is safe. If you specifically wanted the numpy scalar type, use `np.bool_` here.\n",
>>>>>>> dde46a8659c5fb1d43b21ce9e2c8a2c9c8b418ca
      "Deprecated in NumPy 1.20; for more details and guidance: https://numpy.org/devdocs/release/1.20.0-notes.html#deprecations\n",
      "  mask = np.triu(np.ones_like(df[variables].corr(), dtype=np.bool))\n"
     ]
    },
    {
     "data": {
      "image/png": "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\n",
      "text/plain": [
       "<Figure size 1296x648 with 2 Axes>"
      ]
     },
     "metadata": {
      "needs_background": "light"
     },
     "output_type": "display_data"
    }
   ],
   "source": [
    "plt.figure(figsize=(18, 9))\n",
    "# define the mask to set the values in the upper triangle to True\n",
    "\n",
    "mask = np.triu(np.ones_like(df[variables].corr(), dtype=np.bool))\n",
    "heatmap = sns.heatmap(df[variables].corr(), mask=mask, vmin=-1, vmax=1, annot=True, cmap='BrBG')\n",
    "heatmap.set_title('Triangle Correlation Heatmap', fontdict={'fontsize':18}, pad=16);"
   ]
  },
  {
   "cell_type": "code",
<<<<<<< HEAD
   "execution_count": 51,
=======
   "execution_count": 50,
>>>>>>> dde46a8659c5fb1d43b21ce9e2c8a2c9c8b418ca
   "id": "ca0cdd62-9b9d-405e-aaa0-6987cd9a14aa",
   "metadata": {},
   "outputs": [
    {
     "data": {
      "text/html": [
       "<div>\n",
       "<style scoped>\n",
       "    .dataframe tbody tr th:only-of-type {\n",
       "        vertical-align: middle;\n",
       "    }\n",
       "\n",
       "    .dataframe tbody tr th {\n",
       "        vertical-align: top;\n",
       "    }\n",
       "\n",
       "    .dataframe thead th {\n",
       "        text-align: right;\n",
       "    }\n",
       "</style>\n",
       "<table border=\"1\" class=\"dataframe\">\n",
       "  <thead>\n",
       "    <tr style=\"text-align: right;\">\n",
       "      <th></th>\n",
       "      <th>variables</th>\n",
       "      <th>VIF</th>\n",
       "    </tr>\n",
       "  </thead>\n",
       "  <tbody>\n",
       "    <tr>\n",
       "      <th>0</th>\n",
       "      <td>estrato</td>\n",
       "      <td>11.798741</td>\n",
       "    </tr>\n",
       "    <tr>\n",
       "      <th>1</th>\n",
       "      <td>puntaje_sisben_3</td>\n",
       "      <td>10.232986</td>\n",
       "    </tr>\n",
       "    <tr>\n",
       "      <th>2</th>\n",
       "      <td>indice_hacinamiento</td>\n",
       "      <td>6.391108</td>\n",
       "    </tr>\n",
       "    <tr>\n",
       "      <th>3</th>\n",
       "      <td>TOTAL_EQUIPO_COMPUTO</td>\n",
       "      <td>5.331253</td>\n",
       "    </tr>\n",
       "    <tr>\n",
       "      <th>4</th>\n",
       "      <td>TOTAL_DOCENTES_CON_TITULO</td>\n",
       "      <td>5.492439</td>\n",
       "    </tr>\n",
       "    <tr>\n",
       "      <th>5</th>\n",
       "      <td>PROP_DOCENTES_CON_TITULO</td>\n",
       "      <td>9.453980</td>\n",
       "    </tr>\n",
       "    <tr>\n",
       "      <th>6</th>\n",
       "      <td>promepuntaje</td>\n",
       "      <td>37.578433</td>\n",
       "    </tr>\n",
       "  </tbody>\n",
       "</table>\n",
       "</div>"
      ],
      "text/plain": [
       "                   variables        VIF\n",
       "0                    estrato  11.798741\n",
       "1           puntaje_sisben_3  10.232986\n",
       "2        indice_hacinamiento   6.391108\n",
       "3       TOTAL_EQUIPO_COMPUTO   5.331253\n",
       "4  TOTAL_DOCENTES_CON_TITULO   5.492439\n",
       "5   PROP_DOCENTES_CON_TITULO   9.453980\n",
       "6               promepuntaje  37.578433"
      ]
     },
<<<<<<< HEAD
     "execution_count": 51,
=======
     "execution_count": 50,
>>>>>>> dde46a8659c5fb1d43b21ce9e2c8a2c9c8b418ca
     "metadata": {},
     "output_type": "execute_result"
    }
   ],
   "source": [
    "from statsmodels.stats.outliers_influence import variance_inflation_factor\n",
    "# Use variance inflation factor to identify any significant multi-collinearity\n",
    "def calc_vif(df):\n",
    "    vif = pd.DataFrame()\n",
    "    vif[\"variables\"] = df.columns\n",
    "    vif[\"VIF\"] = [variance_inflation_factor(df.values, i) for i in range(df.shape[1])]\n",
    "    return(vif)\n",
    "\n",
    "calc_vif(df[variables])"
   ]
  },
  {
   "cell_type": "code",
<<<<<<< HEAD
   "execution_count": 52,
=======
   "execution_count": 51,
>>>>>>> dde46a8659c5fb1d43b21ce9e2c8a2c9c8b418ca
   "id": "c94029ef-ef68-4716-89c5-1460cdd82025",
   "metadata": {},
   "outputs": [],
   "source": [
    "aux_multico = []\n",
    "multi_df = calc_vif(df[variables])\n",
    "for i in range(len(multi_df)):\n",
    "    name = multi_df['variables'][i]\n",
    "    value= multi_df['VIF'][i]\n",
    "    if value >= 10: # The statndard rule to discard a variable is: VIF >10\n",
    "        aux_multico.append(name)\n",
    "variables = list(set(variables) - set(aux_multico))"
   ]
  },
  {
   "cell_type": "code",
<<<<<<< HEAD
   "execution_count": 53,
=======
   "execution_count": 52,
>>>>>>> dde46a8659c5fb1d43b21ce9e2c8a2c9c8b418ca
   "id": "a3a22c34-8a1a-49f9-ad45-d5caf74c9ac7",
   "metadata": {},
   "outputs": [
    {
     "data": {
      "text/plain": [
<<<<<<< HEAD
       "['TOTAL_EQUIPO_COMPUTO',\n",
       " 'PROP_DOCENTES_CON_TITULO',\n",
       " 'indice_hacinamiento',\n",
       " 'TOTAL_DOCENTES_CON_TITULO']"
      ]
     },
     "execution_count": 53,
=======
       "['indice_hacinamiento',\n",
       " 'PROP_DOCENTES_CON_TITULO',\n",
       " 'TOTAL_DOCENTES_CON_TITULO',\n",
       " 'TOTAL_EQUIPO_COMPUTO']"
      ]
     },
     "execution_count": 52,
>>>>>>> dde46a8659c5fb1d43b21ce9e2c8a2c9c8b418ca
     "metadata": {},
     "output_type": "execute_result"
    }
   ],
   "source": [
    "variables"
   ]
  },
  {
   "cell_type": "markdown",
   "id": "5173407b-8e42-40ea-b6f9-b693634ab0da",
   "metadata": {},
   "source": [
    "## Number V: Independence of Observations for categorical Data (since continuous ones were treated already)\n",
    "In this case the more appropiate thing to do is run a Chi-Squared test between all the categorical predictores and see which pairs are plausible."
   ]
  },
  {
   "cell_type": "code",
<<<<<<< HEAD
   "execution_count": 54,
=======
   "execution_count": 53,
>>>>>>> dde46a8659c5fb1d43b21ce9e2c8a2c9c8b418ca
   "id": "3f5b2080-40bf-4794-b826-2639b85580cb",
   "metadata": {},
   "outputs": [],
   "source": [
    "def puntaje(x , categorias):\n",
    "    pun= 0\n",
    "    for i in categorias:\n",
    "        crosstab = pd.crosstab(x, df[i])\n",
    "        chi2, p, dof, ex = stats.chi2_contingency(crosstab)\n",
    "        if p > 0.05:\n",
    "            pun += 1\n",
    "    return pun"
   ]
  },
  {
   "cell_type": "code",
<<<<<<< HEAD
   "execution_count": 55,
=======
   "execution_count": 54,
>>>>>>> dde46a8659c5fb1d43b21ce9e2c8a2c9c8b418ca
   "id": "eb37e719-3b2f-4406-b88b-11472a76d1d3",
   "metadata": {},
   "outputs": [
    {
     "data": {
      "text/html": [
       "<div>\n",
       "<style scoped>\n",
       "    .dataframe tbody tr th:only-of-type {\n",
       "        vertical-align: middle;\n",
       "    }\n",
       "\n",
       "    .dataframe tbody tr th {\n",
       "        vertical-align: top;\n",
       "    }\n",
       "\n",
       "    .dataframe thead th {\n",
       "        text-align: right;\n",
       "    }\n",
       "</style>\n",
       "<table border=\"1\" class=\"dataframe\">\n",
       "  <thead>\n",
       "    <tr style=\"text-align: right;\">\n",
       "      <th></th>\n",
       "      <th>Category</th>\n",
       "      <th>counts</th>\n",
       "    </tr>\n",
       "  </thead>\n",
       "  <tbody>\n",
       "    <tr>\n",
       "      <th>1</th>\n",
       "      <td>TIPO_DISCAPACIDAD</td>\n",
       "      <td>5</td>\n",
       "    </tr>\n",
       "    <tr>\n",
       "      <th>2</th>\n",
       "      <td>CODIGO_ETNIA</td>\n",
       "      <td>5</td>\n",
       "    </tr>\n",
       "    <tr>\n",
       "      <th>7</th>\n",
       "      <td>ES_BILINGUE</td>\n",
       "      <td>3</td>\n",
       "    </tr>\n",
       "    <tr>\n",
       "      <th>0</th>\n",
       "      <td>GENERO</td>\n",
       "      <td>2</td>\n",
       "    </tr>\n",
       "    <tr>\n",
       "      <th>5</th>\n",
       "      <td>computador</td>\n",
       "      <td>2</td>\n",
       "    </tr>\n",
       "    <tr>\n",
       "      <th>6</th>\n",
       "      <td>tiene_auto</td>\n",
       "      <td>2</td>\n",
       "    </tr>\n",
       "    <tr>\n",
       "      <th>4</th>\n",
       "      <td>teneviv</td>\n",
       "      <td>1</td>\n",
       "    </tr>\n",
       "    <tr>\n",
       "      <th>3</th>\n",
       "      <td>DIR_NUM_LOCALIDAD</td>\n",
       "      <td>0</td>\n",
       "    </tr>\n",
       "  </tbody>\n",
       "</table>\n",
       "</div>"
      ],
      "text/plain": [
       "            Category  counts\n",
       "1  TIPO_DISCAPACIDAD       5\n",
       "2       CODIGO_ETNIA       5\n",
       "7        ES_BILINGUE       3\n",
       "0             GENERO       2\n",
       "5         computador       2\n",
       "6         tiene_auto       2\n",
       "4            teneviv       1\n",
       "3  DIR_NUM_LOCALIDAD       0"
      ]
     },
<<<<<<< HEAD
     "execution_count": 55,
=======
     "execution_count": 54,
>>>>>>> dde46a8659c5fb1d43b21ce9e2c8a2c9c8b418ca
     "metadata": {},
     "output_type": "execute_result"
    }
   ],
   "source": [
    "independent = pd.DataFrame(columns = ['Category', 'counts'])\n",
    "cats = categorias\n",
    "counts = []\n",
    "for j in categorias:\n",
    "    counts.append(puntaje(df[j], categorias));\n",
    "   \n",
    "independent['Category'] = categorias\n",
    "independent['counts'] = counts\n",
    "independent = independent.sort_values(by = 'counts', ascending = False)\n",
    "independent"
   ]
  },
  {
   "cell_type": "code",
<<<<<<< HEAD
   "execution_count": 56,
=======
   "execution_count": 55,
>>>>>>> dde46a8659c5fb1d43b21ce9e2c8a2c9c8b418ca
   "id": "078bd540-9e2f-4c81-86a0-40c81bcd49e8",
   "metadata": {},
   "outputs": [
    {
     "data": {
      "text/html": [
       "<div>\n",
       "<style scoped>\n",
       "    .dataframe tbody tr th:only-of-type {\n",
       "        vertical-align: middle;\n",
       "    }\n",
       "\n",
       "    .dataframe tbody tr th {\n",
       "        vertical-align: top;\n",
       "    }\n",
       "\n",
       "    .dataframe thead th {\n",
       "        text-align: right;\n",
       "    }\n",
       "</style>\n",
       "<table border=\"1\" class=\"dataframe\">\n",
       "  <thead>\n",
       "    <tr style=\"text-align: right;\">\n",
       "      <th></th>\n",
       "      <th>Category</th>\n",
       "      <th>counts</th>\n",
       "      <th>Below</th>\n",
       "    </tr>\n",
       "  </thead>\n",
       "  <tbody>\n",
       "    <tr>\n",
       "      <th>1</th>\n",
       "      <td>TIPO_DISCAPACIDAD</td>\n",
       "      <td>5</td>\n",
       "      <td>CODIGO_ETNIA</td>\n",
       "    </tr>\n",
       "    <tr>\n",
       "      <th>2</th>\n",
       "      <td>CODIGO_ETNIA</td>\n",
       "      <td>5</td>\n",
       "      <td>ES_BILINGUE</td>\n",
       "    </tr>\n",
       "    <tr>\n",
       "      <th>7</th>\n",
       "      <td>ES_BILINGUE</td>\n",
       "      <td>3</td>\n",
       "      <td>GENERO</td>\n",
       "    </tr>\n",
       "    <tr>\n",
       "      <th>0</th>\n",
       "      <td>GENERO</td>\n",
       "      <td>2</td>\n",
       "      <td>computador</td>\n",
       "    </tr>\n",
       "    <tr>\n",
       "      <th>5</th>\n",
       "      <td>computador</td>\n",
       "      <td>2</td>\n",
       "      <td>tiene_auto</td>\n",
       "    </tr>\n",
       "    <tr>\n",
       "      <th>6</th>\n",
       "      <td>tiene_auto</td>\n",
       "      <td>2</td>\n",
       "      <td>teneviv</td>\n",
       "    </tr>\n",
       "    <tr>\n",
       "      <th>4</th>\n",
       "      <td>teneviv</td>\n",
       "      <td>1</td>\n",
       "      <td>DIR_NUM_LOCALIDAD</td>\n",
       "    </tr>\n",
       "    <tr>\n",
       "      <th>3</th>\n",
       "      <td>DIR_NUM_LOCALIDAD</td>\n",
       "      <td>0</td>\n",
       "      <td>NaN</td>\n",
       "    </tr>\n",
       "  </tbody>\n",
       "</table>\n",
       "</div>"
      ],
      "text/plain": [
       "            Category  counts              Below\n",
       "1  TIPO_DISCAPACIDAD       5       CODIGO_ETNIA\n",
       "2       CODIGO_ETNIA       5        ES_BILINGUE\n",
       "7        ES_BILINGUE       3             GENERO\n",
       "0             GENERO       2         computador\n",
       "5         computador       2         tiene_auto\n",
       "6         tiene_auto       2            teneviv\n",
       "4            teneviv       1  DIR_NUM_LOCALIDAD\n",
       "3  DIR_NUM_LOCALIDAD       0                NaN"
      ]
     },
<<<<<<< HEAD
     "execution_count": 56,
=======
     "execution_count": 55,
>>>>>>> dde46a8659c5fb1d43b21ce9e2c8a2c9c8b418ca
     "metadata": {},
     "output_type": "execute_result"
    }
   ],
   "source": [
    "independent['Below'] = independent['Category'].shift(-1)\n",
    "independent"
   ]
  },
  {
   "cell_type": "code",
<<<<<<< HEAD
   "execution_count": 57,
=======
   "execution_count": 56,
>>>>>>> dde46a8659c5fb1d43b21ce9e2c8a2c9c8b418ca
   "id": "83ac7e40-727d-4eba-92f5-276dc3a51873",
   "metadata": {},
   "outputs": [],
   "source": [
    "independent = independent.reset_index()"
   ]
  },
  {
   "cell_type": "code",
<<<<<<< HEAD
   "execution_count": 58,
=======
   "execution_count": 57,
>>>>>>> dde46a8659c5fb1d43b21ce9e2c8a2c9c8b418ca
   "id": "11df092f-e65d-4f14-8606-d9ad7b45fff7",
   "metadata": {},
   "outputs": [],
   "source": [
    "vals = []\n",
    "for i in range(len(independent['Category'])-1):\n",
    "    crosstab = pd.crosstab(df[independent['Category'][i]], df[independent['Below'][i]])\n",
    "    chi2, p, dof, ex = stats.chi2_contingency(crosstab)\n",
    "    vals.append(p)    "
   ]
  },
  {
   "cell_type": "code",
<<<<<<< HEAD
   "execution_count": 59,
=======
   "execution_count": 58,
>>>>>>> dde46a8659c5fb1d43b21ce9e2c8a2c9c8b418ca
   "id": "c31ed58d-59ce-4a86-a79b-dad963ed2175",
   "metadata": {},
   "outputs": [],
   "source": [
    "vals.append(1)"
   ]
  },
  {
   "cell_type": "code",
<<<<<<< HEAD
   "execution_count": 60,
=======
   "execution_count": 59,
>>>>>>> dde46a8659c5fb1d43b21ce9e2c8a2c9c8b418ca
   "id": "84ade5b0-cdfb-4117-b012-6a8c3f8cd92e",
   "metadata": {},
   "outputs": [],
   "source": [
    "independent['p_values'] = vals"
   ]
  },
  {
   "cell_type": "code",
<<<<<<< HEAD
   "execution_count": 61,
=======
   "execution_count": 60,
>>>>>>> dde46a8659c5fb1d43b21ce9e2c8a2c9c8b418ca
   "id": "ac40f501-5bfe-413c-9e9b-703a2eb828c8",
   "metadata": {},
   "outputs": [
    {
     "data": {
      "text/html": [
       "<div>\n",
       "<style scoped>\n",
       "    .dataframe tbody tr th:only-of-type {\n",
       "        vertical-align: middle;\n",
       "    }\n",
       "\n",
       "    .dataframe tbody tr th {\n",
       "        vertical-align: top;\n",
       "    }\n",
       "\n",
       "    .dataframe thead th {\n",
       "        text-align: right;\n",
       "    }\n",
       "</style>\n",
       "<table border=\"1\" class=\"dataframe\">\n",
       "  <thead>\n",
       "    <tr style=\"text-align: right;\">\n",
       "      <th></th>\n",
       "      <th>index</th>\n",
       "      <th>Category</th>\n",
       "      <th>counts</th>\n",
       "      <th>Below</th>\n",
       "      <th>p_values</th>\n",
       "    </tr>\n",
       "  </thead>\n",
       "  <tbody>\n",
       "    <tr>\n",
       "      <th>0</th>\n",
       "      <td>1</td>\n",
       "      <td>TIPO_DISCAPACIDAD</td>\n",
       "      <td>5</td>\n",
       "      <td>CODIGO_ETNIA</td>\n",
       "      <td>0.709370</td>\n",
       "    </tr>\n",
       "    <tr>\n",
       "      <th>1</th>\n",
       "      <td>2</td>\n",
       "      <td>CODIGO_ETNIA</td>\n",
       "      <td>5</td>\n",
       "      <td>ES_BILINGUE</td>\n",
       "      <td>0.137592</td>\n",
       "    </tr>\n",
       "    <tr>\n",
       "      <th>2</th>\n",
       "      <td>7</td>\n",
       "      <td>ES_BILINGUE</td>\n",
       "      <td>3</td>\n",
       "      <td>GENERO</td>\n",
       "      <td>0.844034</td>\n",
       "    </tr>\n",
       "    <tr>\n",
       "      <th>3</th>\n",
       "      <td>0</td>\n",
       "      <td>GENERO</td>\n",
       "      <td>2</td>\n",
       "      <td>computador</td>\n",
       "      <td>0.000061</td>\n",
       "    </tr>\n",
       "    <tr>\n",
       "      <th>4</th>\n",
       "      <td>5</td>\n",
       "      <td>computador</td>\n",
       "      <td>2</td>\n",
       "      <td>tiene_auto</td>\n",
       "      <td>0.000000</td>\n",
       "    </tr>\n",
       "    <tr>\n",
       "      <th>5</th>\n",
       "      <td>6</td>\n",
       "      <td>tiene_auto</td>\n",
       "      <td>2</td>\n",
       "      <td>teneviv</td>\n",
       "      <td>0.000000</td>\n",
       "    </tr>\n",
       "    <tr>\n",
       "      <th>6</th>\n",
       "      <td>4</td>\n",
       "      <td>teneviv</td>\n",
       "      <td>1</td>\n",
       "      <td>DIR_NUM_LOCALIDAD</td>\n",
       "      <td>0.000000</td>\n",
       "    </tr>\n",
       "    <tr>\n",
       "      <th>7</th>\n",
       "      <td>3</td>\n",
       "      <td>DIR_NUM_LOCALIDAD</td>\n",
       "      <td>0</td>\n",
       "      <td>NaN</td>\n",
       "      <td>1.000000</td>\n",
       "    </tr>\n",
       "  </tbody>\n",
       "</table>\n",
       "</div>"
      ],
      "text/plain": [
       "   index           Category  counts              Below  p_values\n",
       "0      1  TIPO_DISCAPACIDAD       5       CODIGO_ETNIA  0.709370\n",
       "1      2       CODIGO_ETNIA       5        ES_BILINGUE  0.137592\n",
       "2      7        ES_BILINGUE       3             GENERO  0.844034\n",
       "3      0             GENERO       2         computador  0.000061\n",
       "4      5         computador       2         tiene_auto  0.000000\n",
       "5      6         tiene_auto       2            teneviv  0.000000\n",
       "6      4            teneviv       1  DIR_NUM_LOCALIDAD  0.000000\n",
       "7      3  DIR_NUM_LOCALIDAD       0                NaN  1.000000"
      ]
     },
<<<<<<< HEAD
     "execution_count": 61,
=======
     "execution_count": 60,
>>>>>>> dde46a8659c5fb1d43b21ce9e2c8a2c9c8b418ca
     "metadata": {},
     "output_type": "execute_result"
    }
   ],
   "source": [
    "independent"
   ]
  },
  {
   "cell_type": "code",
<<<<<<< HEAD
   "execution_count": 62,
=======
   "execution_count": 61,
>>>>>>> dde46a8659c5fb1d43b21ce9e2c8a2c9c8b418ca
   "id": "64e7d27e-a6fd-4366-bf1f-5e23b7380e1d",
   "metadata": {},
   "outputs": [
    {
     "name": "stdout",
     "output_type": "stream",
     "text": [
      "3\n"
     ]
    }
   ],
   "source": [
    "cat_iid = []\n",
    "for i in range(independent.shape[0]):\n",
    "    cat_iid.append(independent['Category'][i])\n",
    "    if independent['p_values'][i] <= 0.05:\n",
    "        print(i)\n",
    "        break"
   ]
  },
  {
   "cell_type": "code",
<<<<<<< HEAD
   "execution_count": 63,
=======
   "execution_count": 62,
>>>>>>> dde46a8659c5fb1d43b21ce9e2c8a2c9c8b418ca
   "id": "a23c5213-b586-4067-b4ce-5dd6b541eb45",
   "metadata": {},
   "outputs": [
    {
     "data": {
      "text/plain": [
       "['TIPO_DISCAPACIDAD', 'CODIGO_ETNIA', 'ES_BILINGUE', 'GENERO']"
      ]
     },
<<<<<<< HEAD
     "execution_count": 63,
=======
     "execution_count": 62,
>>>>>>> dde46a8659c5fb1d43b21ce9e2c8a2c9c8b418ca
     "metadata": {},
     "output_type": "execute_result"
    }
   ],
   "source": [
    "cat_iid"
   ]
  },
  {
   "cell_type": "code",
<<<<<<< HEAD
   "execution_count": 64,
=======
   "execution_count": 63,
>>>>>>> dde46a8659c5fb1d43b21ce9e2c8a2c9c8b418ca
   "id": "9a782643-2fa3-4071-9a43-d1b8cac7f783",
   "metadata": {},
   "outputs": [],
   "source": [
    "categorias = cat_iid"
   ]
  },
  {
   "cell_type": "markdown",
   "id": "5df83520-3425-488f-ab33-929e213c96a9",
   "metadata": {},
   "source": [
    "------------------"
   ]
  },
  {
   "cell_type": "markdown",
   "id": "a6510ac6-3691-4d2b-80e9-f93606fa97c8",
   "metadata": {},
   "source": [
    "### Run Models"
   ]
  },
  {
   "cell_type": "code",
<<<<<<< HEAD
   "execution_count": 65,
=======
   "execution_count": 64,
>>>>>>> dde46a8659c5fb1d43b21ce9e2c8a2c9c8b418ca
   "id": "1021edf7-53aa-43a9-ac26-5a1e8b82a4c0",
   "metadata": {},
   "outputs": [],
   "source": [
    "def formula_maker(dependiente, variables, categorias):\n",
    "    formula = f'{dependiente} ~ '\n",
    "    for variable in variables:\n",
    "        if formula != f'{dependiente} ~ ':\n",
    "            formula += ' + '\n",
    "        formula += f'{variable}'\n",
    "    for categoria in categorias:\n",
    "        if formula != f'{dependiente} ~ ':\n",
    "            formula += ' + '\n",
    "        formula += f'C({categoria})'\n",
    "    return formula  "
   ]
  },
  {
   "cell_type": "code",
<<<<<<< HEAD
   "execution_count": 66,
=======
   "execution_count": 65,
>>>>>>> dde46a8659c5fb1d43b21ce9e2c8a2c9c8b418ca
   "id": "fffd1fc2",
   "metadata": {},
   "outputs": [
    {
     "data": {
      "text/plain": [
       "'REPITENTE ~ estrato + estrato : np.log(estrato) + puntaje_sisben_3 + puntaje_sisben_3 : np.log(puntaje_sisben_3) + indice_hacinamiento + indice_hacinamiento : np.log(indice_hacinamiento) + TOTAL_EQUIPO_COMPUTO + TOTAL_EQUIPO_COMPUTO : np.log(TOTAL_EQUIPO_COMPUTO) + TOTAL_DOCENTES_CON_TITULO + TOTAL_DOCENTES_CON_TITULO : np.log(TOTAL_DOCENTES_CON_TITULO) + PROP_DOCENTES_CON_TITULO + PROP_DOCENTES_CON_TITULO : np.log(PROP_DOCENTES_CON_TITULO) + promepuntaje + promepuntaje : np.log(promepuntaje)'"
      ]
     },
<<<<<<< HEAD
     "execution_count": 66,
=======
     "execution_count": 65,
>>>>>>> dde46a8659c5fb1d43b21ce9e2c8a2c9c8b418ca
     "metadata": {},
     "output_type": "execute_result"
    }
   ],
   "source": [
    "formula"
   ]
  },
  {
   "cell_type": "code",
<<<<<<< HEAD
   "execution_count": 67,
=======
   "execution_count": 66,
>>>>>>> dde46a8659c5fb1d43b21ce9e2c8a2c9c8b418ca
   "id": "69e57629-7f27-46f7-8a3a-6f5bbf876324",
   "metadata": {},
   "outputs": [
    {
     "name": "stderr",
     "output_type": "stream",
     "text": [
      "C:\\Users\\diego\\anaconda3\\lib\\site-packages\\statsmodels\\discrete\\discrete_model.py:1810: RuntimeWarning: overflow encountered in exp\n",
      "  return 1/(1+np.exp(-X))\n",
      "C:\\Users\\diego\\anaconda3\\lib\\site-packages\\statsmodels\\discrete\\discrete_model.py:1863: RuntimeWarning: divide by zero encountered in log\n",
      "  return np.sum(np.log(self.cdf(q*np.dot(X,params))))\n"
     ]
    },
    {
     "name": "stdout",
     "output_type": "stream",
     "text": [
      "Warning: Maximum number of iterations has been exceeded.\n",
      "         Current function value: inf\n",
      "         Iterations: 35\n"
     ]
    },
    {
     "ename": "LinAlgError",
     "evalue": "Singular matrix",
     "output_type": "error",
     "traceback": [
<<<<<<< HEAD
      "\u001b[1;31m---------------------------------------------------------------------------\u001b[0m",
      "\u001b[1;31mLinAlgError\u001b[0m                               Traceback (most recent call last)",
      "\u001b[1;32m<ipython-input-67-c8ebd9713a5b>\u001b[0m in \u001b[0;36m<module>\u001b[1;34m\u001b[0m\n\u001b[0;32m      1\u001b[0m \u001b[0mformula\u001b[0m\u001b[1;33m=\u001b[0m\u001b[0mformula_maker\u001b[0m\u001b[1;33m(\u001b[0m\u001b[1;34m'REPITENTE'\u001b[0m\u001b[1;33m,\u001b[0m \u001b[0mvariables\u001b[0m\u001b[1;33m,\u001b[0m \u001b[0mcategorias\u001b[0m\u001b[1;33m)\u001b[0m\u001b[1;33m\u001b[0m\u001b[1;33m\u001b[0m\u001b[0m\n\u001b[1;32m----> 2\u001b[1;33m \u001b[0mmodel\u001b[0m\u001b[1;33m=\u001b[0m \u001b[0msmf\u001b[0m\u001b[1;33m.\u001b[0m\u001b[0mlogit\u001b[0m\u001b[1;33m(\u001b[0m\u001b[0mformula\u001b[0m\u001b[1;33m=\u001b[0m \u001b[0mformula\u001b[0m\u001b[1;33m,\u001b[0m \u001b[0mdata\u001b[0m\u001b[1;33m=\u001b[0m \u001b[0mdf\u001b[0m\u001b[1;33m)\u001b[0m\u001b[1;33m.\u001b[0m\u001b[0mfit\u001b[0m\u001b[1;33m(\u001b[0m\u001b[1;33m)\u001b[0m \u001b[1;31m# Add if method='bfgs' if singular Matrix appears\u001b[0m\u001b[1;33m\u001b[0m\u001b[1;33m\u001b[0m\u001b[0m\n\u001b[0m\u001b[0;32m      3\u001b[0m \u001b[0mmodel\u001b[0m\u001b[1;33m.\u001b[0m\u001b[0msummary\u001b[0m\u001b[1;33m(\u001b[0m\u001b[1;33m)\u001b[0m\u001b[1;33m\u001b[0m\u001b[1;33m\u001b[0m\u001b[0m\n",
      "\u001b[1;32m~\\anaconda3\\lib\\site-packages\\statsmodels\\discrete\\discrete_model.py\u001b[0m in \u001b[0;36mfit\u001b[1;34m(self, start_params, method, maxiter, full_output, disp, callback, **kwargs)\u001b[0m\n\u001b[0;32m   1972\u001b[0m     def fit(self, start_params=None, method='newton', maxiter=35,\n\u001b[0;32m   1973\u001b[0m             full_output=1, disp=1, callback=None, **kwargs):\n\u001b[1;32m-> 1974\u001b[1;33m         bnryfit = super().fit(start_params=start_params,\n\u001b[0m\u001b[0;32m   1975\u001b[0m                               \u001b[0mmethod\u001b[0m\u001b[1;33m=\u001b[0m\u001b[0mmethod\u001b[0m\u001b[1;33m,\u001b[0m\u001b[1;33m\u001b[0m\u001b[1;33m\u001b[0m\u001b[0m\n\u001b[0;32m   1976\u001b[0m                               \u001b[0mmaxiter\u001b[0m\u001b[1;33m=\u001b[0m\u001b[0mmaxiter\u001b[0m\u001b[1;33m,\u001b[0m\u001b[1;33m\u001b[0m\u001b[1;33m\u001b[0m\u001b[0m\n",
      "\u001b[1;32m~\\anaconda3\\lib\\site-packages\\statsmodels\\discrete\\discrete_model.py\u001b[0m in \u001b[0;36mfit\u001b[1;34m(self, start_params, method, maxiter, full_output, disp, callback, **kwargs)\u001b[0m\n\u001b[0;32m    225\u001b[0m             \u001b[1;32mpass\u001b[0m  \u001b[1;31m# TODO: make a function factory to have multiple call-backs\u001b[0m\u001b[1;33m\u001b[0m\u001b[1;33m\u001b[0m\u001b[0m\n\u001b[0;32m    226\u001b[0m \u001b[1;33m\u001b[0m\u001b[0m\n\u001b[1;32m--> 227\u001b[1;33m         mlefit = super().fit(start_params=start_params,\n\u001b[0m\u001b[0;32m    228\u001b[0m                              \u001b[0mmethod\u001b[0m\u001b[1;33m=\u001b[0m\u001b[0mmethod\u001b[0m\u001b[1;33m,\u001b[0m\u001b[1;33m\u001b[0m\u001b[1;33m\u001b[0m\u001b[0m\n\u001b[0;32m    229\u001b[0m                              \u001b[0mmaxiter\u001b[0m\u001b[1;33m=\u001b[0m\u001b[0mmaxiter\u001b[0m\u001b[1;33m,\u001b[0m\u001b[1;33m\u001b[0m\u001b[1;33m\u001b[0m\u001b[0m\n",
      "\u001b[1;32m~\\anaconda3\\lib\\site-packages\\statsmodels\\base\\model.py\u001b[0m in \u001b[0;36mfit\u001b[1;34m(self, start_params, method, maxiter, full_output, disp, fargs, callback, retall, skip_hessian, **kwargs)\u001b[0m\n\u001b[0;32m    532\u001b[0m             \u001b[0mHinv\u001b[0m \u001b[1;33m=\u001b[0m \u001b[0mcov_params_func\u001b[0m\u001b[1;33m(\u001b[0m\u001b[0mself\u001b[0m\u001b[1;33m,\u001b[0m \u001b[0mxopt\u001b[0m\u001b[1;33m,\u001b[0m \u001b[0mretvals\u001b[0m\u001b[1;33m)\u001b[0m\u001b[1;33m\u001b[0m\u001b[1;33m\u001b[0m\u001b[0m\n\u001b[0;32m    533\u001b[0m         \u001b[1;32melif\u001b[0m \u001b[0mmethod\u001b[0m \u001b[1;33m==\u001b[0m \u001b[1;34m'newton'\u001b[0m \u001b[1;32mand\u001b[0m \u001b[0mfull_output\u001b[0m\u001b[1;33m:\u001b[0m\u001b[1;33m\u001b[0m\u001b[1;33m\u001b[0m\u001b[0m\n\u001b[1;32m--> 534\u001b[1;33m             \u001b[0mHinv\u001b[0m \u001b[1;33m=\u001b[0m \u001b[0mnp\u001b[0m\u001b[1;33m.\u001b[0m\u001b[0mlinalg\u001b[0m\u001b[1;33m.\u001b[0m\u001b[0minv\u001b[0m\u001b[1;33m(\u001b[0m\u001b[1;33m-\u001b[0m\u001b[0mretvals\u001b[0m\u001b[1;33m[\u001b[0m\u001b[1;34m'Hessian'\u001b[0m\u001b[1;33m]\u001b[0m\u001b[1;33m)\u001b[0m \u001b[1;33m/\u001b[0m \u001b[0mnobs\u001b[0m\u001b[1;33m\u001b[0m\u001b[1;33m\u001b[0m\u001b[0m\n\u001b[0m\u001b[0;32m    535\u001b[0m         \u001b[1;32melif\u001b[0m \u001b[1;32mnot\u001b[0m \u001b[0mskip_hessian\u001b[0m\u001b[1;33m:\u001b[0m\u001b[1;33m\u001b[0m\u001b[1;33m\u001b[0m\u001b[0m\n\u001b[0;32m    536\u001b[0m             \u001b[0mH\u001b[0m \u001b[1;33m=\u001b[0m \u001b[1;33m-\u001b[0m\u001b[1;36m1\u001b[0m \u001b[1;33m*\u001b[0m \u001b[0mself\u001b[0m\u001b[1;33m.\u001b[0m\u001b[0mhessian\u001b[0m\u001b[1;33m(\u001b[0m\u001b[0mxopt\u001b[0m\u001b[1;33m)\u001b[0m\u001b[1;33m\u001b[0m\u001b[1;33m\u001b[0m\u001b[0m\n",
      "\u001b[1;32m<__array_function__ internals>\u001b[0m in \u001b[0;36minv\u001b[1;34m(*args, **kwargs)\u001b[0m\n",
      "\u001b[1;32m~\\anaconda3\\lib\\site-packages\\numpy\\linalg\\linalg.py\u001b[0m in \u001b[0;36minv\u001b[1;34m(a)\u001b[0m\n\u001b[0;32m    543\u001b[0m     \u001b[0msignature\u001b[0m \u001b[1;33m=\u001b[0m \u001b[1;34m'D->D'\u001b[0m \u001b[1;32mif\u001b[0m \u001b[0misComplexType\u001b[0m\u001b[1;33m(\u001b[0m\u001b[0mt\u001b[0m\u001b[1;33m)\u001b[0m \u001b[1;32melse\u001b[0m \u001b[1;34m'd->d'\u001b[0m\u001b[1;33m\u001b[0m\u001b[1;33m\u001b[0m\u001b[0m\n\u001b[0;32m    544\u001b[0m     \u001b[0mextobj\u001b[0m \u001b[1;33m=\u001b[0m \u001b[0mget_linalg_error_extobj\u001b[0m\u001b[1;33m(\u001b[0m\u001b[0m_raise_linalgerror_singular\u001b[0m\u001b[1;33m)\u001b[0m\u001b[1;33m\u001b[0m\u001b[1;33m\u001b[0m\u001b[0m\n\u001b[1;32m--> 545\u001b[1;33m     \u001b[0mainv\u001b[0m \u001b[1;33m=\u001b[0m \u001b[0m_umath_linalg\u001b[0m\u001b[1;33m.\u001b[0m\u001b[0minv\u001b[0m\u001b[1;33m(\u001b[0m\u001b[0ma\u001b[0m\u001b[1;33m,\u001b[0m \u001b[0msignature\u001b[0m\u001b[1;33m=\u001b[0m\u001b[0msignature\u001b[0m\u001b[1;33m,\u001b[0m \u001b[0mextobj\u001b[0m\u001b[1;33m=\u001b[0m\u001b[0mextobj\u001b[0m\u001b[1;33m)\u001b[0m\u001b[1;33m\u001b[0m\u001b[1;33m\u001b[0m\u001b[0m\n\u001b[0m\u001b[0;32m    546\u001b[0m     \u001b[1;32mreturn\u001b[0m \u001b[0mwrap\u001b[0m\u001b[1;33m(\u001b[0m\u001b[0mainv\u001b[0m\u001b[1;33m.\u001b[0m\u001b[0mastype\u001b[0m\u001b[1;33m(\u001b[0m\u001b[0mresult_t\u001b[0m\u001b[1;33m,\u001b[0m \u001b[0mcopy\u001b[0m\u001b[1;33m=\u001b[0m\u001b[1;32mFalse\u001b[0m\u001b[1;33m)\u001b[0m\u001b[1;33m)\u001b[0m\u001b[1;33m\u001b[0m\u001b[1;33m\u001b[0m\u001b[0m\n\u001b[0;32m    547\u001b[0m \u001b[1;33m\u001b[0m\u001b[0m\n",
      "\u001b[1;32m~\\anaconda3\\lib\\site-packages\\numpy\\linalg\\linalg.py\u001b[0m in \u001b[0;36m_raise_linalgerror_singular\u001b[1;34m(err, flag)\u001b[0m\n\u001b[0;32m     86\u001b[0m \u001b[1;33m\u001b[0m\u001b[0m\n\u001b[0;32m     87\u001b[0m \u001b[1;32mdef\u001b[0m \u001b[0m_raise_linalgerror_singular\u001b[0m\u001b[1;33m(\u001b[0m\u001b[0merr\u001b[0m\u001b[1;33m,\u001b[0m \u001b[0mflag\u001b[0m\u001b[1;33m)\u001b[0m\u001b[1;33m:\u001b[0m\u001b[1;33m\u001b[0m\u001b[1;33m\u001b[0m\u001b[0m\n\u001b[1;32m---> 88\u001b[1;33m     \u001b[1;32mraise\u001b[0m \u001b[0mLinAlgError\u001b[0m\u001b[1;33m(\u001b[0m\u001b[1;34m\"Singular matrix\"\u001b[0m\u001b[1;33m)\u001b[0m\u001b[1;33m\u001b[0m\u001b[1;33m\u001b[0m\u001b[0m\n\u001b[0m\u001b[0;32m     89\u001b[0m \u001b[1;33m\u001b[0m\u001b[0m\n\u001b[0;32m     90\u001b[0m \u001b[1;32mdef\u001b[0m \u001b[0m_raise_linalgerror_nonposdef\u001b[0m\u001b[1;33m(\u001b[0m\u001b[0merr\u001b[0m\u001b[1;33m,\u001b[0m \u001b[0mflag\u001b[0m\u001b[1;33m)\u001b[0m\u001b[1;33m:\u001b[0m\u001b[1;33m\u001b[0m\u001b[1;33m\u001b[0m\u001b[0m\n",
      "\u001b[1;31mLinAlgError\u001b[0m: Singular matrix"
=======
      "\u001b[0;31m---------------------------------------------------------------------------\u001b[0m",
      "\u001b[0;31mLinAlgError\u001b[0m                               Traceback (most recent call last)",
      "\u001b[0;32m<ipython-input-66-c8ebd9713a5b>\u001b[0m in \u001b[0;36m<module>\u001b[0;34m\u001b[0m\n\u001b[1;32m      1\u001b[0m \u001b[0mformula\u001b[0m\u001b[0;34m=\u001b[0m\u001b[0mformula_maker\u001b[0m\u001b[0;34m(\u001b[0m\u001b[0;34m'REPITENTE'\u001b[0m\u001b[0;34m,\u001b[0m \u001b[0mvariables\u001b[0m\u001b[0;34m,\u001b[0m \u001b[0mcategorias\u001b[0m\u001b[0;34m)\u001b[0m\u001b[0;34m\u001b[0m\u001b[0;34m\u001b[0m\u001b[0m\n\u001b[0;32m----> 2\u001b[0;31m \u001b[0mmodel\u001b[0m\u001b[0;34m=\u001b[0m \u001b[0msmf\u001b[0m\u001b[0;34m.\u001b[0m\u001b[0mlogit\u001b[0m\u001b[0;34m(\u001b[0m\u001b[0mformula\u001b[0m\u001b[0;34m=\u001b[0m \u001b[0mformula\u001b[0m\u001b[0;34m,\u001b[0m \u001b[0mdata\u001b[0m\u001b[0;34m=\u001b[0m \u001b[0mdf\u001b[0m\u001b[0;34m)\u001b[0m\u001b[0;34m.\u001b[0m\u001b[0mfit\u001b[0m\u001b[0;34m(\u001b[0m\u001b[0;34m)\u001b[0m \u001b[0;31m# Add if method='bfgs' if singular Matrix appears\u001b[0m\u001b[0;34m\u001b[0m\u001b[0;34m\u001b[0m\u001b[0m\n\u001b[0m\u001b[1;32m      3\u001b[0m \u001b[0mmodel\u001b[0m\u001b[0;34m.\u001b[0m\u001b[0msummary\u001b[0m\u001b[0;34m(\u001b[0m\u001b[0;34m)\u001b[0m\u001b[0;34m\u001b[0m\u001b[0;34m\u001b[0m\u001b[0m\n",
      "\u001b[0;32m/opt/conda/lib/python3.8/site-packages/statsmodels/discrete/discrete_model.py\u001b[0m in \u001b[0;36mfit\u001b[0;34m(self, start_params, method, maxiter, full_output, disp, callback, **kwargs)\u001b[0m\n\u001b[1;32m   1981\u001b[0m     def fit(self, start_params=None, method='newton', maxiter=35,\n\u001b[1;32m   1982\u001b[0m             full_output=1, disp=1, callback=None, **kwargs):\n\u001b[0;32m-> 1983\u001b[0;31m         bnryfit = super().fit(start_params=start_params,\n\u001b[0m\u001b[1;32m   1984\u001b[0m                               \u001b[0mmethod\u001b[0m\u001b[0;34m=\u001b[0m\u001b[0mmethod\u001b[0m\u001b[0;34m,\u001b[0m\u001b[0;34m\u001b[0m\u001b[0;34m\u001b[0m\u001b[0m\n\u001b[1;32m   1985\u001b[0m                               \u001b[0mmaxiter\u001b[0m\u001b[0;34m=\u001b[0m\u001b[0mmaxiter\u001b[0m\u001b[0;34m,\u001b[0m\u001b[0;34m\u001b[0m\u001b[0;34m\u001b[0m\u001b[0m\n",
      "\u001b[0;32m/opt/conda/lib/python3.8/site-packages/statsmodels/discrete/discrete_model.py\u001b[0m in \u001b[0;36mfit\u001b[0;34m(self, start_params, method, maxiter, full_output, disp, callback, **kwargs)\u001b[0m\n\u001b[1;32m    228\u001b[0m             \u001b[0;32mpass\u001b[0m  \u001b[0;31m# TODO: make a function factory to have multiple call-backs\u001b[0m\u001b[0;34m\u001b[0m\u001b[0;34m\u001b[0m\u001b[0m\n\u001b[1;32m    229\u001b[0m \u001b[0;34m\u001b[0m\u001b[0m\n\u001b[0;32m--> 230\u001b[0;31m         mlefit = super().fit(start_params=start_params,\n\u001b[0m\u001b[1;32m    231\u001b[0m                              \u001b[0mmethod\u001b[0m\u001b[0;34m=\u001b[0m\u001b[0mmethod\u001b[0m\u001b[0;34m,\u001b[0m\u001b[0;34m\u001b[0m\u001b[0;34m\u001b[0m\u001b[0m\n\u001b[1;32m    232\u001b[0m                              \u001b[0mmaxiter\u001b[0m\u001b[0;34m=\u001b[0m\u001b[0mmaxiter\u001b[0m\u001b[0;34m,\u001b[0m\u001b[0;34m\u001b[0m\u001b[0;34m\u001b[0m\u001b[0m\n",
      "\u001b[0;32m/opt/conda/lib/python3.8/site-packages/statsmodels/base/model.py\u001b[0m in \u001b[0;36mfit\u001b[0;34m(self, start_params, method, maxiter, full_output, disp, fargs, callback, retall, skip_hessian, **kwargs)\u001b[0m\n\u001b[1;32m    577\u001b[0m             \u001b[0mHinv\u001b[0m \u001b[0;34m=\u001b[0m \u001b[0mcov_params_func\u001b[0m\u001b[0;34m(\u001b[0m\u001b[0mself\u001b[0m\u001b[0;34m,\u001b[0m \u001b[0mxopt\u001b[0m\u001b[0;34m,\u001b[0m \u001b[0mretvals\u001b[0m\u001b[0;34m)\u001b[0m\u001b[0;34m\u001b[0m\u001b[0;34m\u001b[0m\u001b[0m\n\u001b[1;32m    578\u001b[0m         \u001b[0;32melif\u001b[0m \u001b[0mmethod\u001b[0m \u001b[0;34m==\u001b[0m \u001b[0;34m'newton'\u001b[0m \u001b[0;32mand\u001b[0m \u001b[0mfull_output\u001b[0m\u001b[0;34m:\u001b[0m\u001b[0;34m\u001b[0m\u001b[0;34m\u001b[0m\u001b[0m\n\u001b[0;32m--> 579\u001b[0;31m             \u001b[0mHinv\u001b[0m \u001b[0;34m=\u001b[0m \u001b[0mnp\u001b[0m\u001b[0;34m.\u001b[0m\u001b[0mlinalg\u001b[0m\u001b[0;34m.\u001b[0m\u001b[0minv\u001b[0m\u001b[0;34m(\u001b[0m\u001b[0;34m-\u001b[0m\u001b[0mretvals\u001b[0m\u001b[0;34m[\u001b[0m\u001b[0;34m'Hessian'\u001b[0m\u001b[0;34m]\u001b[0m\u001b[0;34m)\u001b[0m \u001b[0;34m/\u001b[0m \u001b[0mnobs\u001b[0m\u001b[0;34m\u001b[0m\u001b[0;34m\u001b[0m\u001b[0m\n\u001b[0m\u001b[1;32m    580\u001b[0m         \u001b[0;32melif\u001b[0m \u001b[0;32mnot\u001b[0m \u001b[0mskip_hessian\u001b[0m\u001b[0;34m:\u001b[0m\u001b[0;34m\u001b[0m\u001b[0;34m\u001b[0m\u001b[0m\n\u001b[1;32m    581\u001b[0m             \u001b[0mH\u001b[0m \u001b[0;34m=\u001b[0m \u001b[0;34m-\u001b[0m\u001b[0;36m1\u001b[0m \u001b[0;34m*\u001b[0m \u001b[0mself\u001b[0m\u001b[0;34m.\u001b[0m\u001b[0mhessian\u001b[0m\u001b[0;34m(\u001b[0m\u001b[0mxopt\u001b[0m\u001b[0;34m)\u001b[0m\u001b[0;34m\u001b[0m\u001b[0;34m\u001b[0m\u001b[0m\n",
      "\u001b[0;32m<__array_function__ internals>\u001b[0m in \u001b[0;36minv\u001b[0;34m(*args, **kwargs)\u001b[0m\n",
      "\u001b[0;32m/opt/conda/lib/python3.8/site-packages/numpy/linalg/linalg.py\u001b[0m in \u001b[0;36minv\u001b[0;34m(a)\u001b[0m\n\u001b[1;32m    543\u001b[0m     \u001b[0msignature\u001b[0m \u001b[0;34m=\u001b[0m \u001b[0;34m'D->D'\u001b[0m \u001b[0;32mif\u001b[0m \u001b[0misComplexType\u001b[0m\u001b[0;34m(\u001b[0m\u001b[0mt\u001b[0m\u001b[0;34m)\u001b[0m \u001b[0;32melse\u001b[0m \u001b[0;34m'd->d'\u001b[0m\u001b[0;34m\u001b[0m\u001b[0;34m\u001b[0m\u001b[0m\n\u001b[1;32m    544\u001b[0m     \u001b[0mextobj\u001b[0m \u001b[0;34m=\u001b[0m \u001b[0mget_linalg_error_extobj\u001b[0m\u001b[0;34m(\u001b[0m\u001b[0m_raise_linalgerror_singular\u001b[0m\u001b[0;34m)\u001b[0m\u001b[0;34m\u001b[0m\u001b[0;34m\u001b[0m\u001b[0m\n\u001b[0;32m--> 545\u001b[0;31m     \u001b[0mainv\u001b[0m \u001b[0;34m=\u001b[0m \u001b[0m_umath_linalg\u001b[0m\u001b[0;34m.\u001b[0m\u001b[0minv\u001b[0m\u001b[0;34m(\u001b[0m\u001b[0ma\u001b[0m\u001b[0;34m,\u001b[0m \u001b[0msignature\u001b[0m\u001b[0;34m=\u001b[0m\u001b[0msignature\u001b[0m\u001b[0;34m,\u001b[0m \u001b[0mextobj\u001b[0m\u001b[0;34m=\u001b[0m\u001b[0mextobj\u001b[0m\u001b[0;34m)\u001b[0m\u001b[0;34m\u001b[0m\u001b[0;34m\u001b[0m\u001b[0m\n\u001b[0m\u001b[1;32m    546\u001b[0m     \u001b[0;32mreturn\u001b[0m \u001b[0mwrap\u001b[0m\u001b[0;34m(\u001b[0m\u001b[0mainv\u001b[0m\u001b[0;34m.\u001b[0m\u001b[0mastype\u001b[0m\u001b[0;34m(\u001b[0m\u001b[0mresult_t\u001b[0m\u001b[0;34m,\u001b[0m \u001b[0mcopy\u001b[0m\u001b[0;34m=\u001b[0m\u001b[0;32mFalse\u001b[0m\u001b[0;34m)\u001b[0m\u001b[0;34m)\u001b[0m\u001b[0;34m\u001b[0m\u001b[0;34m\u001b[0m\u001b[0m\n\u001b[1;32m    547\u001b[0m \u001b[0;34m\u001b[0m\u001b[0m\n",
      "\u001b[0;32m/opt/conda/lib/python3.8/site-packages/numpy/linalg/linalg.py\u001b[0m in \u001b[0;36m_raise_linalgerror_singular\u001b[0;34m(err, flag)\u001b[0m\n\u001b[1;32m     86\u001b[0m \u001b[0;34m\u001b[0m\u001b[0m\n\u001b[1;32m     87\u001b[0m \u001b[0;32mdef\u001b[0m \u001b[0m_raise_linalgerror_singular\u001b[0m\u001b[0;34m(\u001b[0m\u001b[0merr\u001b[0m\u001b[0;34m,\u001b[0m \u001b[0mflag\u001b[0m\u001b[0;34m)\u001b[0m\u001b[0;34m:\u001b[0m\u001b[0;34m\u001b[0m\u001b[0;34m\u001b[0m\u001b[0m\n\u001b[0;32m---> 88\u001b[0;31m     \u001b[0;32mraise\u001b[0m \u001b[0mLinAlgError\u001b[0m\u001b[0;34m(\u001b[0m\u001b[0;34m\"Singular matrix\"\u001b[0m\u001b[0;34m)\u001b[0m\u001b[0;34m\u001b[0m\u001b[0;34m\u001b[0m\u001b[0m\n\u001b[0m\u001b[1;32m     89\u001b[0m \u001b[0;34m\u001b[0m\u001b[0m\n\u001b[1;32m     90\u001b[0m \u001b[0;32mdef\u001b[0m \u001b[0m_raise_linalgerror_nonposdef\u001b[0m\u001b[0;34m(\u001b[0m\u001b[0merr\u001b[0m\u001b[0;34m,\u001b[0m \u001b[0mflag\u001b[0m\u001b[0;34m)\u001b[0m\u001b[0;34m:\u001b[0m\u001b[0;34m\u001b[0m\u001b[0;34m\u001b[0m\u001b[0m\n",
      "\u001b[0;31mLinAlgError\u001b[0m: Singular matrix"
>>>>>>> dde46a8659c5fb1d43b21ce9e2c8a2c9c8b418ca
     ]
    }
   ],
   "source": [
    "formula=formula_maker('REPITENTE', variables, categorias)\n",
    "model= smf.logit(formula= formula, data= df).fit() # Add if method='bfgs' if singular Matrix appears\n",
    "model.summary()"
   ]
  },
  {
   "cell_type": "code",
<<<<<<< HEAD
   "execution_count": 68,
   "id": "e102e6d1-7e28-4018-80a6-97aef09dde90",
   "metadata": {},
   "outputs": [
    {
     "name": "stderr",
     "output_type": "stream",
     "text": [
      "C:\\Users\\diego\\anaconda3\\lib\\site-packages\\statsmodels\\discrete\\discrete_model.py:1810: RuntimeWarning: overflow encountered in exp\n",
      "  return 1/(1+np.exp(-X))\n"
     ]
    },
    {
     "name": "stdout",
     "output_type": "stream",
     "text": [
      "Warning: Maximum number of iterations has been exceeded.\n",
      "         Current function value: 0.000550\n",
      "         Iterations: 35\n",
      "         Function evaluations: 49\n",
      "         Gradient evaluations: 49\n"
     ]
    },
    {
     "name": "stderr",
     "output_type": "stream",
     "text": [
      "C:\\Users\\diego\\anaconda3\\lib\\site-packages\\statsmodels\\base\\model.py:566: ConvergenceWarning: Maximum Likelihood optimization failed to converge. Check mle_retvals\n",
      "  warnings.warn(\"Maximum Likelihood optimization failed to \"\n"
     ]
    },
    {
     "data": {
      "text/html": [
       "<table class=\"simpletable\">\n",
       "<caption>Logit Regression Results</caption>\n",
       "<tr>\n",
       "  <th>Dep. Variable:</th>       <td>REPITENTE</td>    <th>  No. Observations:  </th>  <td> 63546</td> \n",
       "</tr>\n",
       "<tr>\n",
       "  <th>Model:</th>                 <td>Logit</td>      <th>  Df Residuals:      </th>  <td> 63532</td> \n",
       "</tr>\n",
       "<tr>\n",
       "  <th>Method:</th>                 <td>MLE</td>       <th>  Df Model:          </th>  <td>    13</td> \n",
       "</tr>\n",
       "<tr>\n",
       "  <th>Date:</th>            <td>Mon, 04 Jul 2022</td> <th>  Pseudo R-squ.:     </th>  <td>-1.900</td> \n",
       "</tr>\n",
       "<tr>\n",
       "  <th>Time:</th>                <td>13:59:14</td>     <th>  Log-Likelihood:    </th> <td> -34.976</td>\n",
       "</tr>\n",
       "<tr>\n",
       "  <th>converged:</th>             <td>False</td>      <th>  LL-Null:           </th> <td> -12.060</td>\n",
       "</tr>\n",
       "<tr>\n",
       "  <th>Covariance Type:</th>     <td>nonrobust</td>    <th>  LLR p-value:       </th>  <td> 1.000</td> \n",
       "</tr>\n",
       "</table>\n",
       "<table class=\"simpletable\">\n",
       "<tr>\n",
       "              <td></td>                 <th>coef</th>     <th>std err</th>      <th>z</th>      <th>P>|z|</th>  <th>[0.025</th>    <th>0.975]</th>  \n",
       "</tr>\n",
       "<tr>\n",
       "  <th>Intercept</th>                 <td>    0.3934</td> <td>   65.566</td> <td>    0.006</td> <td> 0.995</td> <td> -128.113</td> <td>  128.900</td>\n",
       "</tr>\n",
       "<tr>\n",
       "  <th>C(TIPO_DISCAPACIDAD)[T.1]</th> <td>   -0.0041</td> <td>   31.313</td> <td>   -0.000</td> <td> 1.000</td> <td>  -61.376</td> <td>   61.367</td>\n",
       "</tr>\n",
       "<tr>\n",
       "  <th>C(CODIGO_ETNIA)[T.1]</th>      <td>   -0.0007</td> <td>  499.980</td> <td> -1.3e-06</td> <td> 1.000</td> <td> -979.944</td> <td>  979.943</td>\n",
       "</tr>\n",
       "<tr>\n",
       "  <th>C(CODIGO_ETNIA)[T.2]</th>      <td>   -0.0007</td> <td> 3.01e+07</td> <td>-2.39e-11</td> <td> 1.000</td> <td>-5.89e+07</td> <td> 5.89e+07</td>\n",
       "</tr>\n",
       "<tr>\n",
       "  <th>C(CODIGO_ETNIA)[T.3]</th>      <td>-3.046e-06</td> <td> 2.27e+08</td> <td>-1.34e-14</td> <td> 1.000</td> <td>-4.45e+08</td> <td> 4.45e+08</td>\n",
       "</tr>\n",
       "<tr>\n",
       "  <th>C(CODIGO_ETNIA)[T.4]</th>      <td>-8.529e-05</td> <td> 1.97e+08</td> <td>-4.34e-13</td> <td> 1.000</td> <td>-3.85e+08</td> <td> 3.85e+08</td>\n",
       "</tr>\n",
       "<tr>\n",
       "  <th>C(CODIGO_ETNIA)[T.5]</th>      <td>   -0.0003</td> <td> 1.14e+04</td> <td>-2.59e-08</td> <td> 1.000</td> <td>-2.24e+04</td> <td> 2.24e+04</td>\n",
       "</tr>\n",
       "<tr>\n",
       "  <th>C(CODIGO_ETNIA)[T.6]</th>      <td>-6.092e-06</td> <td> 1.15e+11</td> <td> -5.3e-17</td> <td> 1.000</td> <td>-2.25e+11</td> <td> 2.25e+11</td>\n",
       "</tr>\n",
       "<tr>\n",
       "  <th>C(ES_BILINGUE)[T.1]</th>       <td>   -0.0067</td> <td> 9.15e+11</td> <td>-7.33e-15</td> <td> 1.000</td> <td>-1.79e+12</td> <td> 1.79e+12</td>\n",
       "</tr>\n",
       "<tr>\n",
       "  <th>C(GENERO)[T.1]</th>            <td>    0.7456</td> <td>    2.268</td> <td>    0.329</td> <td> 0.742</td> <td>   -3.700</td> <td>    5.191</td>\n",
       "</tr>\n",
       "<tr>\n",
       "  <th>TOTAL_EQUIPO_COMPUTO</th>      <td>   -0.2956</td> <td>    1.346</td> <td>   -0.220</td> <td> 0.826</td> <td>   -2.934</td> <td>    2.343</td>\n",
       "</tr>\n",
       "<tr>\n",
       "  <th>PROP_DOCENTES_CON_TITULO</th>  <td>    0.6562</td> <td>  219.945</td> <td>    0.003</td> <td> 0.998</td> <td> -430.428</td> <td>  431.740</td>\n",
       "</tr>\n",
       "<tr>\n",
       "  <th>indice_hacinamiento</th>       <td>    0.9699</td> <td>    0.598</td> <td>    1.622</td> <td> 0.105</td> <td>   -0.202</td> <td>    2.142</td>\n",
       "</tr>\n",
       "<tr>\n",
       "  <th>TOTAL_DOCENTES_CON_TITULO</th> <td>   -2.0642</td> <td>   15.360</td> <td>   -0.134</td> <td> 0.893</td> <td>  -32.169</td> <td>   28.041</td>\n",
       "</tr>\n",
       "</table><br/><br/>Possibly complete quasi-separation: A fraction 1.00 of observations can be<br/>perfectly predicted. This might indicate that there is complete<br/>quasi-separation. In this case some parameters will not be identified."
      ],
      "text/plain": [
       "<class 'statsmodels.iolib.summary.Summary'>\n",
       "\"\"\"\n",
       "                           Logit Regression Results                           \n",
       "==============================================================================\n",
       "Dep. Variable:              REPITENTE   No. Observations:                63546\n",
       "Model:                          Logit   Df Residuals:                    63532\n",
       "Method:                           MLE   Df Model:                           13\n",
       "Date:                Mon, 04 Jul 2022   Pseudo R-squ.:                  -1.900\n",
       "Time:                        13:59:14   Log-Likelihood:                -34.976\n",
       "converged:                      False   LL-Null:                       -12.060\n",
       "Covariance Type:            nonrobust   LLR p-value:                     1.000\n",
       "=============================================================================================\n",
       "                                coef    std err          z      P>|z|      [0.025      0.975]\n",
       "---------------------------------------------------------------------------------------------\n",
       "Intercept                     0.3934     65.566      0.006      0.995    -128.113     128.900\n",
       "C(TIPO_DISCAPACIDAD)[T.1]    -0.0041     31.313     -0.000      1.000     -61.376      61.367\n",
       "C(CODIGO_ETNIA)[T.1]         -0.0007    499.980   -1.3e-06      1.000    -979.944     979.943\n",
       "C(CODIGO_ETNIA)[T.2]         -0.0007   3.01e+07  -2.39e-11      1.000   -5.89e+07    5.89e+07\n",
       "C(CODIGO_ETNIA)[T.3]      -3.046e-06   2.27e+08  -1.34e-14      1.000   -4.45e+08    4.45e+08\n",
       "C(CODIGO_ETNIA)[T.4]      -8.529e-05   1.97e+08  -4.34e-13      1.000   -3.85e+08    3.85e+08\n",
       "C(CODIGO_ETNIA)[T.5]         -0.0003   1.14e+04  -2.59e-08      1.000   -2.24e+04    2.24e+04\n",
       "C(CODIGO_ETNIA)[T.6]      -6.092e-06   1.15e+11   -5.3e-17      1.000   -2.25e+11    2.25e+11\n",
       "C(ES_BILINGUE)[T.1]          -0.0067   9.15e+11  -7.33e-15      1.000   -1.79e+12    1.79e+12\n",
       "C(GENERO)[T.1]                0.7456      2.268      0.329      0.742      -3.700       5.191\n",
       "TOTAL_EQUIPO_COMPUTO         -0.2956      1.346     -0.220      0.826      -2.934       2.343\n",
       "PROP_DOCENTES_CON_TITULO      0.6562    219.945      0.003      0.998    -430.428     431.740\n",
       "indice_hacinamiento           0.9699      0.598      1.622      0.105      -0.202       2.142\n",
       "TOTAL_DOCENTES_CON_TITULO    -2.0642     15.360     -0.134      0.893     -32.169      28.041\n",
       "=============================================================================================\n",
       "\n",
       "Possibly complete quasi-separation: A fraction 1.00 of observations can be\n",
       "perfectly predicted. This might indicate that there is complete\n",
       "quasi-separation. In this case some parameters will not be identified.\n",
       "\"\"\""
      ]
     },
     "execution_count": 68,
     "metadata": {},
     "output_type": "execute_result"
    }
   ],
=======
   "execution_count": null,
   "id": "e102e6d1-7e28-4018-80a6-97aef09dde90",
   "metadata": {},
   "outputs": [],
>>>>>>> dde46a8659c5fb1d43b21ce9e2c8a2c9c8b418ca
   "source": [
    "formula=formula_maker('REPITENTE', variables, categorias)\n",
    "model= smf.logit(formula= formula, data= df).fit(method = 'bfgs') # Add if method='bfgs' if singular Matrix appears\n",
    "model.summary()"
   ]
  },
  {
   "cell_type": "code",
   "execution_count": 69,
   "id": "83fd4e4c-9d20-4f82-8dc2-5dcdb07cdecc",
   "metadata": {},
   "outputs": [],
   "source": [
    "all_vars = variables + categorias"
   ]
  },
  {
   "cell_type": "code",
   "execution_count": 70,
   "id": "98018bf5-51c7-42c6-9b02-5c6c39648123",
   "metadata": {},
   "outputs": [],
   "source": [
    "X = df[all_vars]"
   ]
  },
  {
   "cell_type": "code",
   "execution_count": 71,
   "id": "6f2083be-537c-49b4-aaf8-9a2548da222c",
   "metadata": {},
   "outputs": [
    {
     "data": {
      "text/html": [
       "<div>\n",
       "<style scoped>\n",
       "    .dataframe tbody tr th:only-of-type {\n",
       "        vertical-align: middle;\n",
       "    }\n",
       "\n",
       "    .dataframe tbody tr th {\n",
       "        vertical-align: top;\n",
       "    }\n",
       "\n",
       "    .dataframe thead th {\n",
       "        text-align: right;\n",
       "    }\n",
       "</style>\n",
       "<table border=\"1\" class=\"dataframe\">\n",
       "  <thead>\n",
       "    <tr style=\"text-align: right;\">\n",
       "      <th></th>\n",
       "      <th>TOTAL_EQUIPO_COMPUTO</th>\n",
       "      <th>PROP_DOCENTES_CON_TITULO</th>\n",
       "      <th>indice_hacinamiento</th>\n",
       "      <th>TOTAL_DOCENTES_CON_TITULO</th>\n",
       "      <th>TIPO_DISCAPACIDAD</th>\n",
       "      <th>CODIGO_ETNIA</th>\n",
       "      <th>ES_BILINGUE</th>\n",
       "      <th>GENERO</th>\n",
       "    </tr>\n",
       "  </thead>\n",
       "  <tbody>\n",
       "    <tr>\n",
       "      <th>0</th>\n",
       "      <td>231</td>\n",
       "      <td>0.888889</td>\n",
       "      <td>2.500000</td>\n",
       "      <td>24</td>\n",
       "      <td>0</td>\n",
       "      <td>0</td>\n",
       "      <td>0</td>\n",
       "      <td>0</td>\n",
       "    </tr>\n",
       "    <tr>\n",
       "      <th>1</th>\n",
       "      <td>231</td>\n",
       "      <td>0.888889</td>\n",
       "      <td>1.333008</td>\n",
       "      <td>24</td>\n",
       "      <td>0</td>\n",
       "      <td>0</td>\n",
       "      <td>0</td>\n",
       "      <td>0</td>\n",
       "    </tr>\n",
       "    <tr>\n",
       "      <th>2</th>\n",
       "      <td>231</td>\n",
       "      <td>0.888889</td>\n",
       "      <td>1.666992</td>\n",
       "      <td>24</td>\n",
       "      <td>0</td>\n",
       "      <td>0</td>\n",
       "      <td>0</td>\n",
       "      <td>0</td>\n",
       "    </tr>\n",
       "    <tr>\n",
       "      <th>3</th>\n",
       "      <td>231</td>\n",
       "      <td>0.888889</td>\n",
       "      <td>3.000000</td>\n",
       "      <td>24</td>\n",
       "      <td>0</td>\n",
       "      <td>0</td>\n",
       "      <td>0</td>\n",
       "      <td>1</td>\n",
       "    </tr>\n",
       "    <tr>\n",
       "      <th>4</th>\n",
       "      <td>231</td>\n",
       "      <td>0.888889</td>\n",
       "      <td>6.000000</td>\n",
       "      <td>24</td>\n",
       "      <td>0</td>\n",
       "      <td>0</td>\n",
       "      <td>0</td>\n",
       "      <td>1</td>\n",
       "    </tr>\n",
       "    <tr>\n",
       "      <th>...</th>\n",
       "      <td>...</td>\n",
       "      <td>...</td>\n",
       "      <td>...</td>\n",
       "      <td>...</td>\n",
       "      <td>...</td>\n",
       "      <td>...</td>\n",
       "      <td>...</td>\n",
       "      <td>...</td>\n",
       "    </tr>\n",
       "    <tr>\n",
       "      <th>457031</th>\n",
       "      <td>84</td>\n",
       "      <td>0.368421</td>\n",
       "      <td>2.000000</td>\n",
       "      <td>7</td>\n",
       "      <td>0</td>\n",
       "      <td>0</td>\n",
       "      <td>0</td>\n",
       "      <td>0</td>\n",
       "    </tr>\n",
       "    <tr>\n",
       "      <th>457032</th>\n",
       "      <td>84</td>\n",
       "      <td>0.368421</td>\n",
       "      <td>4.000000</td>\n",
       "      <td>7</td>\n",
       "      <td>0</td>\n",
       "      <td>0</td>\n",
       "      <td>0</td>\n",
       "      <td>0</td>\n",
       "    </tr>\n",
       "    <tr>\n",
       "      <th>457033</th>\n",
       "      <td>84</td>\n",
       "      <td>0.368421</td>\n",
       "      <td>1.333008</td>\n",
       "      <td>7</td>\n",
       "      <td>0</td>\n",
       "      <td>0</td>\n",
       "      <td>0</td>\n",
       "      <td>1</td>\n",
       "    </tr>\n",
       "    <tr>\n",
       "      <th>457039</th>\n",
       "      <td>84</td>\n",
       "      <td>0.368421</td>\n",
       "      <td>6.000000</td>\n",
       "      <td>7</td>\n",
       "      <td>0</td>\n",
       "      <td>0</td>\n",
       "      <td>0</td>\n",
       "      <td>1</td>\n",
       "    </tr>\n",
       "    <tr>\n",
       "      <th>457041</th>\n",
       "      <td>84</td>\n",
       "      <td>0.368421</td>\n",
       "      <td>3.000000</td>\n",
       "      <td>7</td>\n",
       "      <td>0</td>\n",
       "      <td>0</td>\n",
       "      <td>0</td>\n",
       "      <td>0</td>\n",
       "    </tr>\n",
       "  </tbody>\n",
       "</table>\n",
       "<p>63546 rows × 8 columns</p>\n",
       "</div>"
      ],
      "text/plain": [
       "        TOTAL_EQUIPO_COMPUTO  PROP_DOCENTES_CON_TITULO  indice_hacinamiento  \\\n",
       "0                        231                  0.888889             2.500000   \n",
       "1                        231                  0.888889             1.333008   \n",
       "2                        231                  0.888889             1.666992   \n",
       "3                        231                  0.888889             3.000000   \n",
       "4                        231                  0.888889             6.000000   \n",
       "...                      ...                       ...                  ...   \n",
       "457031                    84                  0.368421             2.000000   \n",
       "457032                    84                  0.368421             4.000000   \n",
       "457033                    84                  0.368421             1.333008   \n",
       "457039                    84                  0.368421             6.000000   \n",
       "457041                    84                  0.368421             3.000000   \n",
       "\n",
       "        TOTAL_DOCENTES_CON_TITULO  TIPO_DISCAPACIDAD  CODIGO_ETNIA  \\\n",
       "0                              24                  0             0   \n",
       "1                              24                  0             0   \n",
       "2                              24                  0             0   \n",
       "3                              24                  0             0   \n",
       "4                              24                  0             0   \n",
       "...                           ...                ...           ...   \n",
       "457031                          7                  0             0   \n",
       "457032                          7                  0             0   \n",
       "457033                          7                  0             0   \n",
       "457039                          7                  0             0   \n",
       "457041                          7                  0             0   \n",
       "\n",
       "        ES_BILINGUE  GENERO  \n",
       "0                 0       0  \n",
       "1                 0       0  \n",
       "2                 0       0  \n",
       "3                 0       1  \n",
       "4                 0       1  \n",
       "...             ...     ...  \n",
       "457031            0       0  \n",
       "457032            0       0  \n",
       "457033            0       1  \n",
       "457039            0       1  \n",
       "457041            0       0  \n",
       "\n",
       "[63546 rows x 8 columns]"
      ]
     },
     "execution_count": 71,
     "metadata": {},
     "output_type": "execute_result"
    }
   ],
   "source": [
    "X"
   ]
  },
  {
   "cell_type": "code",
   "execution_count": 72,
   "id": "6f384db6-9606-4dfc-b96d-949580724e5d",
   "metadata": {},
   "outputs": [
    {
     "data": {
      "text/plain": [
       "0         0\n",
       "1         0\n",
       "2         0\n",
       "3         0\n",
       "4         0\n",
       "         ..\n",
       "457031    0\n",
       "457032    0\n",
       "457033    0\n",
       "457039    0\n",
       "457041    0\n",
       "Name: REPITENTE, Length: 63546, dtype: uint8"
      ]
     },
     "execution_count": 72,
     "metadata": {},
     "output_type": "execute_result"
    }
   ],
   "source": [
    "y = df['REPITENTE']\n",
    "y"
   ]
  },
  {
   "cell_type": "code",
   "execution_count": 73,
   "id": "3615243d-327d-4f2b-be14-8745ec2e5190",
   "metadata": {},
   "outputs": [
    {
     "data": {
      "text/html": [
       "<div>\n",
       "<style scoped>\n",
       "    .dataframe tbody tr th:only-of-type {\n",
       "        vertical-align: middle;\n",
       "    }\n",
       "\n",
       "    .dataframe tbody tr th {\n",
       "        vertical-align: top;\n",
       "    }\n",
       "\n",
       "    .dataframe thead th {\n",
       "        text-align: right;\n",
       "    }\n",
       "</style>\n",
       "<table border=\"1\" class=\"dataframe\">\n",
       "  <thead>\n",
       "    <tr style=\"text-align: right;\">\n",
       "      <th></th>\n",
       "      <th>TOTAL_EQUIPO_COMPUTO</th>\n",
       "      <th>PROP_DOCENTES_CON_TITULO</th>\n",
       "      <th>indice_hacinamiento</th>\n",
       "      <th>TOTAL_DOCENTES_CON_TITULO</th>\n",
       "      <th>TIPO_DISCAPACIDAD_1</th>\n",
       "      <th>CODIGO_ETNIA_1</th>\n",
       "      <th>CODIGO_ETNIA_2</th>\n",
       "      <th>CODIGO_ETNIA_3</th>\n",
       "      <th>CODIGO_ETNIA_4</th>\n",
       "      <th>CODIGO_ETNIA_5</th>\n",
       "      <th>CODIGO_ETNIA_6</th>\n",
       "      <th>ES_BILINGUE_1</th>\n",
       "      <th>GENERO_1</th>\n",
       "    </tr>\n",
       "  </thead>\n",
       "  <tbody>\n",
       "    <tr>\n",
       "      <th>0</th>\n",
       "      <td>231</td>\n",
       "      <td>0.888889</td>\n",
       "      <td>2.500000</td>\n",
       "      <td>24</td>\n",
       "      <td>0</td>\n",
       "      <td>0</td>\n",
       "      <td>0</td>\n",
       "      <td>0</td>\n",
       "      <td>0</td>\n",
       "      <td>0</td>\n",
       "      <td>0</td>\n",
       "      <td>0</td>\n",
       "      <td>0</td>\n",
       "    </tr>\n",
       "    <tr>\n",
       "      <th>1</th>\n",
       "      <td>231</td>\n",
       "      <td>0.888889</td>\n",
       "      <td>1.333008</td>\n",
       "      <td>24</td>\n",
       "      <td>0</td>\n",
       "      <td>0</td>\n",
       "      <td>0</td>\n",
       "      <td>0</td>\n",
       "      <td>0</td>\n",
       "      <td>0</td>\n",
       "      <td>0</td>\n",
       "      <td>0</td>\n",
       "      <td>0</td>\n",
       "    </tr>\n",
       "  </tbody>\n",
       "</table>\n",
       "</div>"
      ],
      "text/plain": [
       "   TOTAL_EQUIPO_COMPUTO  PROP_DOCENTES_CON_TITULO  indice_hacinamiento  \\\n",
       "0                   231                  0.888889             2.500000   \n",
       "1                   231                  0.888889             1.333008   \n",
       "\n",
       "   TOTAL_DOCENTES_CON_TITULO  TIPO_DISCAPACIDAD_1  CODIGO_ETNIA_1  \\\n",
       "0                         24                    0               0   \n",
       "1                         24                    0               0   \n",
       "\n",
       "   CODIGO_ETNIA_2  CODIGO_ETNIA_3  CODIGO_ETNIA_4  CODIGO_ETNIA_5  \\\n",
       "0               0               0               0               0   \n",
       "1               0               0               0               0   \n",
       "\n",
       "   CODIGO_ETNIA_6  ES_BILINGUE_1  GENERO_1  \n",
       "0               0              0         0  \n",
       "1               0              0         0  "
      ]
     },
     "execution_count": 73,
     "metadata": {},
     "output_type": "execute_result"
    }
   ],
   "source": [
    "X = pd.get_dummies(X, columns=categorias, drop_first=True)\n",
    "X.head(2)"
   ]
  },
  {
   "cell_type": "code",
   "execution_count": 74,
   "id": "65ebeee5-242d-4e10-84d4-559f418f9191",
   "metadata": {},
   "outputs": [
    {
     "name": "stderr",
     "output_type": "stream",
     "text": [
      "C:\\Users\\diego\\anaconda3\\lib\\site-packages\\statsmodels\\genmod\\families\\links.py:188: RuntimeWarning: overflow encountered in exp\n",
      "  t = np.exp(-z)\n",
      "C:\\Users\\diego\\anaconda3\\lib\\site-packages\\statsmodels\\genmod\\families\\family.py:947: RuntimeWarning: divide by zero encountered in log\n",
      "  y * np.log(mu / (1 - mu + 1e-20)) +\n",
      "C:\\Users\\diego\\anaconda3\\lib\\site-packages\\statsmodels\\genmod\\families\\family.py:947: RuntimeWarning: invalid value encountered in multiply\n",
      "  y * np.log(mu / (1 - mu + 1e-20)) +\n"
     ]
    },
    {
     "data": {
      "text/html": [
       "<table class=\"simpletable\">\n",
       "<caption>Generalized Linear Model Regression Results</caption>\n",
       "<tr>\n",
       "  <th>Dep. Variable:</th>       <td>REPITENTE</td>    <th>  No. Observations:  </th>  <td> 63546</td> \n",
       "</tr>\n",
       "<tr>\n",
       "  <th>Model:</th>                  <td>GLM</td>       <th>  Df Residuals:      </th>  <td> 63533</td> \n",
       "</tr>\n",
       "<tr>\n",
       "  <th>Model Family:</th>        <td>Binomial</td>     <th>  Df Model:          </th>  <td>    12</td> \n",
       "</tr>\n",
       "<tr>\n",
       "  <th>Link Function:</th>         <td>logit</td>      <th>  Scale:             </th> <td>  1.0000</td>\n",
       "</tr>\n",
       "<tr>\n",
       "  <th>Method:</th>                <td>IRLS</td>       <th>  Log-Likelihood:    </th> <td>     nan</td>\n",
       "</tr>\n",
       "<tr>\n",
       "  <th>Date:</th>            <td>Mon, 04 Jul 2022</td> <th>  Deviance:          </th> <td>  2394.7</td>\n",
       "</tr>\n",
       "<tr>\n",
       "  <th>Time:</th>                <td>13:59:59</td>     <th>  Pearson chi2:      </th> <td>1.17e+17</td>\n",
       "</tr>\n",
       "<tr>\n",
       "  <th>No. Iterations:</th>         <td>28</td>        <th>                     </th>     <td> </td>   \n",
       "</tr>\n",
       "<tr>\n",
       "  <th>Covariance Type:</th>     <td>nonrobust</td>    <th>                     </th>     <td> </td>   \n",
       "</tr>\n",
       "</table>\n",
       "<table class=\"simpletable\">\n",
       "<tr>\n",
       "              <td></td>                 <th>coef</th>     <th>std err</th>      <th>z</th>      <th>P>|z|</th>  <th>[0.025</th>    <th>0.975]</th>  \n",
       "</tr>\n",
       "<tr>\n",
       "  <th>TOTAL_EQUIPO_COMPUTO</th>      <td>-5.215e+11</td> <td> 1485.239</td> <td>-3.51e+08</td> <td> 0.000</td> <td>-5.22e+11</td> <td>-5.22e+11</td>\n",
       "</tr>\n",
       "<tr>\n",
       "  <th>PROP_DOCENTES_CON_TITULO</th>  <td> 1.069e+15</td> <td> 1.04e+06</td> <td> 1.03e+09</td> <td> 0.000</td> <td> 1.07e+15</td> <td> 1.07e+15</td>\n",
       "</tr>\n",
       "<tr>\n",
       "  <th>indice_hacinamiento</th>       <td>-3.936e+14</td> <td> 1.72e+05</td> <td>-2.28e+09</td> <td> 0.000</td> <td>-3.94e+14</td> <td>-3.94e+14</td>\n",
       "</tr>\n",
       "<tr>\n",
       "  <th>TOTAL_DOCENTES_CON_TITULO</th> <td>-3.123e+13</td> <td> 9421.072</td> <td>-3.31e+09</td> <td> 0.000</td> <td>-3.12e+13</td> <td>-3.12e+13</td>\n",
       "</tr>\n",
       "<tr>\n",
       "  <th>TIPO_DISCAPACIDAD_1</th>       <td>-1.116e+15</td> <td> 1.96e+06</td> <td>-5.68e+08</td> <td> 0.000</td> <td>-1.12e+15</td> <td>-1.12e+15</td>\n",
       "</tr>\n",
       "<tr>\n",
       "  <th>CODIGO_ETNIA_1</th>            <td>-4.096e+13</td> <td>  4.6e+06</td> <td>-8.91e+06</td> <td> 0.000</td> <td> -4.1e+13</td> <td> -4.1e+13</td>\n",
       "</tr>\n",
       "<tr>\n",
       "  <th>CODIGO_ETNIA_2</th>            <td>-1.776e+14</td> <td> 4.38e+06</td> <td>-4.06e+07</td> <td> 0.000</td> <td>-1.78e+14</td> <td>-1.78e+14</td>\n",
       "</tr>\n",
       "<tr>\n",
       "  <th>CODIGO_ETNIA_3</th>            <td> 1.402e+15</td> <td> 6.71e+07</td> <td> 2.09e+07</td> <td> 0.000</td> <td>  1.4e+15</td> <td>  1.4e+15</td>\n",
       "</tr>\n",
       "<tr>\n",
       "  <th>CODIGO_ETNIA_4</th>            <td>-6.081e+13</td> <td> 1.27e+07</td> <td>-4.79e+06</td> <td> 0.000</td> <td>-6.08e+13</td> <td>-6.08e+13</td>\n",
       "</tr>\n",
       "<tr>\n",
       "  <th>CODIGO_ETNIA_5</th>            <td>-7.632e+13</td> <td> 6.82e+06</td> <td>-1.12e+07</td> <td> 0.000</td> <td>-7.63e+13</td> <td>-7.63e+13</td>\n",
       "</tr>\n",
       "<tr>\n",
       "  <th>CODIGO_ETNIA_6</th>            <td> 1.676e+15</td> <td> 4.75e+07</td> <td> 3.53e+07</td> <td> 0.000</td> <td> 1.68e+15</td> <td> 1.68e+15</td>\n",
       "</tr>\n",
       "<tr>\n",
       "  <th>ES_BILINGUE_1</th>             <td> 4.389e+14</td> <td> 1.46e+06</td> <td>    3e+08</td> <td> 0.000</td> <td> 4.39e+14</td> <td> 4.39e+14</td>\n",
       "</tr>\n",
       "<tr>\n",
       "  <th>GENERO_1</th>                  <td>-2.521e+13</td> <td> 5.15e+05</td> <td> -4.9e+07</td> <td> 0.000</td> <td>-2.52e+13</td> <td>-2.52e+13</td>\n",
       "</tr>\n",
       "</table>"
      ],
      "text/plain": [
       "<class 'statsmodels.iolib.summary.Summary'>\n",
       "\"\"\"\n",
       "                 Generalized Linear Model Regression Results                  \n",
       "==============================================================================\n",
       "Dep. Variable:              REPITENTE   No. Observations:                63546\n",
       "Model:                            GLM   Df Residuals:                    63533\n",
       "Model Family:                Binomial   Df Model:                           12\n",
       "Link Function:                  logit   Scale:                          1.0000\n",
       "Method:                          IRLS   Log-Likelihood:                    nan\n",
       "Date:                Mon, 04 Jul 2022   Deviance:                       2394.7\n",
       "Time:                        13:59:59   Pearson chi2:                 1.17e+17\n",
       "No. Iterations:                    28                                         \n",
       "Covariance Type:            nonrobust                                         \n",
       "=============================================================================================\n",
       "                                coef    std err          z      P>|z|      [0.025      0.975]\n",
       "---------------------------------------------------------------------------------------------\n",
       "TOTAL_EQUIPO_COMPUTO      -5.215e+11   1485.239  -3.51e+08      0.000   -5.22e+11   -5.22e+11\n",
       "PROP_DOCENTES_CON_TITULO   1.069e+15   1.04e+06   1.03e+09      0.000    1.07e+15    1.07e+15\n",
       "indice_hacinamiento       -3.936e+14   1.72e+05  -2.28e+09      0.000   -3.94e+14   -3.94e+14\n",
       "TOTAL_DOCENTES_CON_TITULO -3.123e+13   9421.072  -3.31e+09      0.000   -3.12e+13   -3.12e+13\n",
       "TIPO_DISCAPACIDAD_1       -1.116e+15   1.96e+06  -5.68e+08      0.000   -1.12e+15   -1.12e+15\n",
       "CODIGO_ETNIA_1            -4.096e+13    4.6e+06  -8.91e+06      0.000    -4.1e+13    -4.1e+13\n",
       "CODIGO_ETNIA_2            -1.776e+14   4.38e+06  -4.06e+07      0.000   -1.78e+14   -1.78e+14\n",
       "CODIGO_ETNIA_3             1.402e+15   6.71e+07   2.09e+07      0.000     1.4e+15     1.4e+15\n",
       "CODIGO_ETNIA_4            -6.081e+13   1.27e+07  -4.79e+06      0.000   -6.08e+13   -6.08e+13\n",
       "CODIGO_ETNIA_5            -7.632e+13   6.82e+06  -1.12e+07      0.000   -7.63e+13   -7.63e+13\n",
       "CODIGO_ETNIA_6             1.676e+15   4.75e+07   3.53e+07      0.000    1.68e+15    1.68e+15\n",
       "ES_BILINGUE_1              4.389e+14   1.46e+06      3e+08      0.000    4.39e+14    4.39e+14\n",
       "GENERO_1                  -2.521e+13   5.15e+05   -4.9e+07      0.000   -2.52e+13   -2.52e+13\n",
       "=============================================================================================\n",
       "\"\"\""
      ]
     },
     "execution_count": 74,
     "metadata": {},
     "output_type": "execute_result"
    }
   ],
   "source": [
    "logit_results = sm.GLM(y, X, family=sm.families.Binomial()).fit()\n",
    "logit_results.summary()"
   ]
  },
  {
   "cell_type": "code",
   "execution_count": 78,
   "id": "2e5706c9-5117-4efc-92e3-a141c61660fb",
   "metadata": {},
   "outputs": [
    {
     "data": {
      "text/html": [
       "<div>\n",
       "<style scoped>\n",
       "    .dataframe tbody tr th:only-of-type {\n",
       "        vertical-align: middle;\n",
       "    }\n",
       "\n",
       "    .dataframe tbody tr th {\n",
       "        vertical-align: top;\n",
       "    }\n",
       "\n",
       "    .dataframe thead th {\n",
       "        text-align: right;\n",
       "    }\n",
       "</style>\n",
       "<table border=\"1\" class=\"dataframe\">\n",
       "  <thead>\n",
       "    <tr style=\"text-align: right;\">\n",
       "      <th>REPITENTE</th>\n",
       "      <th>0</th>\n",
       "      <th>1</th>\n",
       "    </tr>\n",
       "    <tr>\n",
       "      <th>GENERO_1</th>\n",
       "      <th></th>\n",
       "      <th></th>\n",
       "    </tr>\n",
       "  </thead>\n",
       "  <tbody>\n",
       "    <tr>\n",
       "      <th>0</th>\n",
       "      <td>33648</td>\n",
       "      <td>0</td>\n",
       "    </tr>\n",
       "    <tr>\n",
       "      <th>1</th>\n",
       "      <td>29897</td>\n",
       "      <td>1</td>\n",
       "    </tr>\n",
       "  </tbody>\n",
       "</table>\n",
       "</div>"
      ],
      "text/plain": [
       "REPITENTE      0  1\n",
       "GENERO_1           \n",
       "0          33648  0\n",
       "1          29897  1"
      ]
     },
     "execution_count": 78,
     "metadata": {},
     "output_type": "execute_result"
    }
   ],
   "source": [
    "for x in X.columns[5:]:\n",
    "    crosstab = pd.crosstab(X[x], y)\n",
    "crosstab"
   ]
  },
  {
   "cell_type": "code",
   "execution_count": 80,
   "id": "98eabfe5-4478-4708-beee-817ad64b02f6",
   "metadata": {},
   "outputs": [
    {
     "data": {
      "text/plain": [
       "0    63545\n",
       "1        1\n",
       "Name: REPITENTE, dtype: int64"
      ]
     },
     "execution_count": 80,
     "metadata": {},
     "output_type": "execute_result"
    }
   ],
   "source": [
    "y.value_counts()"
   ]
  },
  {
   "cell_type": "code",
   "execution_count": null,
   "id": "eb02dc54-4afe-443f-b3b6-83d19fc539e4",
   "metadata": {},
   "outputs": [],
   "source": [
    "for x in cat"
   ]
  },
  {
   "cell_type": "code",
   "execution_count": null,
   "id": "ed147483-d9da-4947-b176-c5bd93477c86",
   "metadata": {},
   "outputs": [],
   "source": [
    "variables"
   ]
  },
  {
   "cell_type": "code",
   "execution_count": null,
   "id": "cf1a60ca-dd42-4530-b484-82d7417bd9a0",
   "metadata": {},
   "outputs": [],
   "source": [
    "categorias"
   ]
  },
  {
   "cell_type": "markdown",
   "id": "acf725ab-b40d-4530-badf-1c42607cc789",
   "metadata": {},
   "source": [
    "### Conclusions"
   ]
  }
 ],
 "metadata": {
  "kernelspec": {
   "display_name": "Python 3",
   "language": "python",
   "name": "python3"
  },
  "language_info": {
   "codemirror_mode": {
    "name": "ipython",
    "version": 3
   },
   "file_extension": ".py",
   "mimetype": "text/x-python",
   "name": "python",
   "nbconvert_exporter": "python",
   "pygments_lexer": "ipython3",
   "version": "3.8.8"
  }
 },
 "nbformat": 4,
 "nbformat_minor": 5
}
