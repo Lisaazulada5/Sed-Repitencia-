{
 "cells": [
  {
   "cell_type": "markdown",
   "id": "2edacf94-9f25-49f6-83c6-1079a19c7fb5",
   "metadata": {},
   "source": [
    "# Model of primary in 2019"
   ]
  },
  {
   "cell_type": "markdown",
   "id": "ea7b5b18-762a-415a-9569-9ae400e8b6a0",
   "metadata": {},
   "source": [
    "This Notebook is divided into three parts. \n",
    "* Part A: Feature selection to run the models accordingly to Logistic Regression assumptions.Then, we will run our first Models.\n",
    "* Part B: We will add the 'actionable' features that were not adequate in Part A, and which we consider important.\n",
    "* Part C: Do Train/ Test and MAPE metrcis to compare the models. Perform some outliers detection to improve performance."
   ]
  },
  {
   "cell_type": "code",
   "execution_count": 1,
   "id": "3371c7e1-c396-45e8-9dff-bb503005c937",
   "metadata": {},
   "outputs": [],
   "source": [
    "# Scientific libraries\n",
    "import numpy as np\n",
    "import pandas as pd\n",
    "import seaborn as sns\n",
    "from matplotlib import pyplot as plt\n",
    "import pingouin as pg\n",
    "\n",
    "\n",
    "# model libraries \n",
    "from scipy.stats import chi2_contingency, norm\n",
    "from scipy.stats import chi2_contingency, ttest_ind\n",
    "import researchpy as rp\n",
    "import scipy.stats as stats\n",
    "# Model runners\n",
    "import statsmodels.api as sm\n",
    "import statsmodels.formula.api as smf\n",
    "import statsmodels.stats.outliers_influence\n",
    "\n",
    "# Metrics options\n",
    "from sklearn.metrics import roc_curve, auc\n",
    "\n",
    "# Plotlib options\n",
    "plt.rc(\"figure\", figsize=(16,8))\n",
    "plt.rc(\"font\", size=14)\n",
    "# Pandas options\n",
    "pd.options.display.max_columns = None"
   ]
  },
  {
   "cell_type": "code",
   "execution_count": 2,
   "id": "d484a479-2278-4014-b608-b3fdb8a247a2",
   "metadata": {},
   "outputs": [],
   "source": [
    "# Dictionary with the purpose of reducing memory size when loading the dataset.\n",
    "dict_tipos = {\n",
    "# SIMAT\n",
    "'ANO_INF':              'uint16',\n",
    "'CODIGO_DANE':          'uint64',\n",
    "'CODIGO_DANE_SEDE':     'uint64',\n",
    "'TIPO_DOCUMENTO':       'uint8',\n",
    "'NRO_DOCUMENTO':        'string',\n",
    "'DIRECCION_RESIDENCIA': 'string',\n",
    "'RES_DEPTO':            'uint8',\n",
    "'RES_MUN':              'uint16',\n",
    "'ESTRATO':              'uint8',\n",
    "'SISBEN':               'float16',\n",
    "'GENERO':               'uint8',\n",
    "'POB_VICT_CONF':        'uint8',\n",
    "'PROVIENE_SECTOR_PRIV': 'uint8',\n",
    "'PROVIENE_OTR_MUN':     'uint8',\n",
    "'TIPO_DISCAPACIDAD':    'uint8',\n",
    "'CAP_EXC':              'uint8',\n",
    "'CODIGO_ETNIA':         'uint16',\n",
    "'CODIGO_JORNADA':       'uint8',\n",
    "'CARACTER':             'uint8',\n",
    "'CODIGO_ESPECIALIDAD':  'uint8',\n",
    "'CODIGO_GRADO':         'int8',\n",
    "'CODIGO_METODOLOGIA':   'uint8',\n",
    "'REPITENTE':            'uint8',\n",
    "'SIT_ACAD_ANIO_ANT':    'uint8',\n",
    "'CON_ALUM_ANIO_ANT':    'uint8',\n",
    "'ZONA_RESI_ALU':        'uint8',\n",
    "'EDAD':                 'uint8',\n",
    "'NIVEL':                'uint8',\n",
    "'DIR_NUM_LOCALIDAD':    'uint8',\n",
    "'NIVEL_SISBEN':         'uint8',\n",
    "'GRADO_OVERAGE':        'uint8',\n",
    "'OVERAGE':              'uint8',\n",
    "# SISBEN\n",
    "'ficha':                'int64',\n",
    "'comuna':               'uint8',\n",
    "'barrio':               'uint32',\n",
    "'nombarrio':            'string',\n",
    "'direcc':               'string',\n",
    "'vereda':               'uint8',\n",
    "'nomvereda':            'string',\n",
    "'vivienda':             'uint8',\n",
    "'pared':                'uint8',\n",
    "'piso':                 'uint8',\n",
    "'energia':              'uint8',\n",
    "'alcanta':              'uint8',\n",
    "'gas':                  'uint8',\n",
    "'telefono' :            'uint8',\n",
    "'basura' :              'uint8',\n",
    "'acueduc' :             'uint8',\n",
    "'estrato' :             'uint8',\n",
    "'elimbasura' :          'uint8',\n",
    "'tcuartosvi' :          'uint8',\n",
    "'thogar' :              'uint8',\n",
    "'recolec' :             'uint8',\n",
    "'tipdir' :              'uint8',\n",
    "'verifica' :            'uint8',\n",
    "'hogar' :               'uint8',\n",
    "'teneviv' :             'uint8',\n",
    "'tcuartos' :            'uint8',\n",
    "'tdormir' :             'uint8',\n",
    "'sanitar' :             'uint8',\n",
    "'usanitar' :            'uint8',\n",
    "'usosani' :             'uint8',\n",
    "'tsanitar' :            'uint8',\n",
    "'ducha' :               'uint8',\n",
    "'agua' :                'uint8',\n",
    "'llega' :               'uint8',\n",
    "'cuandi' :              'uint8',\n",
    "'suminis' :             'uint8',\n",
    "'cuanhoras' :           'uint8',\n",
    "'preparan' :            'uint8',\n",
    "'cocina' :              'uint8',\n",
    "'cocinan' :             'uint8',\n",
    "'alumbra' :             'uint8',\n",
    "'usotele' :             'uint8',\n",
    "'nevera' :              'uint8',\n",
    "'lavadora' :            'uint8',\n",
    "'tvcolor' :             'uint8',\n",
    "'tvcable' :             'uint8',\n",
    "'calenta' :             'uint8',\n",
    "'horno' :               'uint8',\n",
    "'aire' :                'uint8',\n",
    "'computador' :          'uint8',\n",
    "'equipo' :              'uint8',\n",
    "'moto' :                'uint8',\n",
    "'tractor' :             'uint8',\n",
    "'tiene_auto' :          'uint8',\n",
    "'bieraices':            'uint8',\n",
    "'tpersona' :            'uint8',\n",
    "'informan' :            'uint8',\n",
    "'orden' :               'uint8',\n",
    "'nucleo' :              'uint8',\n",
    "'parentes' :            'uint8',\n",
    "'tipodoc' :             'uint8',\n",
    "'documen':              'string',\n",
    "'sexo' :                'uint8',\n",
    "'estcivil' :            'uint8',\n",
    "'discapa' :             'uint8',\n",
    "'carnet' :              'uint8',\n",
    "'asiste' :              'uint8',\n",
    "'tipoesta' :            'uint8',\n",
    "'grado' :               'uint8',\n",
    "'nivel' :               'uint8',\n",
    "'activi' :              'uint8',\n",
    "'buscando' :            'uint8',\n",
    "'ingresos':             'int64',\n",
    "'edad':                 'uint8',\n",
    "'conyuvive':            'uint8',\n",
    "'hijosde':              'int8',\n",
    "'embaraza' :            'uint8',\n",
    "'extranjero' :          'uint8',\n",
    "'pagapor' :             'uint8',\n",
    "'percibe' :             'uint8',\n",
    "'serdomes' :            'uint8',\n",
    "'unigasto' :            'uint8',\n",
    "'area' :                'uint8',\n",
    "'nparentes':            'uint8',\n",
    "'puntaje_sisben_3':     'float32',\n",
    "'todos_servicios_Pub':  'uint8',\n",
    "'indice_hacinamiento':  'float16',\n",
    "# C-600  \n",
    "'ES_BILIGUE':           'int8',\n",
    "'TOTAL_DOCENTES':       'uint16',\n",
    "'TOTAL_ALUMNOS':        'uint16',\n",
    "'TOTAL_EQUIPO_COMPUTO': 'uint16',\n",
    "'TOTAL_DOCENTES_CON_TITULO':'uint8',\n",
    "# ICFES\n",
    "'num_presentaron_ICFES': 'uint8'\n",
    "  }\n",
    "\n",
    "\n"
   ]
  },
  {
   "cell_type": "code",
   "execution_count": 3,
   "id": "fc331e4e-bec9-4f67-9cdb-f416cefb50cf",
   "metadata": {},
   "outputs": [],
   "source": [
    "df = pd.read_csv('../data/3-oro/Merge_2019_ICFES_C600.csv' , index_col=0, dtype = dict_tipos)"
   ]
  },
  {
   "cell_type": "code",
   "execution_count": 4,
   "id": "50c2f253-d386-40e6-bc4a-a9d01e680303",
   "metadata": {},
   "outputs": [
    {
     "name": "stdout",
     "output_type": "stream",
     "text": [
      "<class 'pandas.core.frame.DataFrame'>\n",
      "Int64Index: 467110 entries, 0 to 467109\n",
      "Columns: 130 entries, ANO_INF to num_presentaron_ICFES\n",
      "dtypes: float16(2), float32(1), float64(4), int64(3), int8(2), object(2), string(5), uint16(6), uint32(1), uint64(2), uint8(102)\n",
      "memory usage: 117.6+ MB\n"
     ]
    }
   ],
   "source": [
    "df.info(show_counts = True)"
   ]
  },
  {
   "cell_type": "code",
   "execution_count": 5,
   "id": "76bb4439-928b-4d33-a215-cf82c9fee69a",
   "metadata": {},
   "outputs": [
    {
     "data": {
      "text/html": [
       "<div>\n",
       "<style scoped>\n",
       "    .dataframe tbody tr th:only-of-type {\n",
       "        vertical-align: middle;\n",
       "    }\n",
       "\n",
       "    .dataframe tbody tr th {\n",
       "        vertical-align: top;\n",
       "    }\n",
       "\n",
       "    .dataframe thead th {\n",
       "        text-align: right;\n",
       "    }\n",
       "</style>\n",
       "<table border=\"1\" class=\"dataframe\">\n",
       "  <thead>\n",
       "    <tr style=\"text-align: right;\">\n",
       "      <th></th>\n",
       "      <th>ANO_INF</th>\n",
       "      <th>CODIGO_DANE</th>\n",
       "      <th>CODIGO_DANE_SEDE</th>\n",
       "      <th>TIPO_DOCUMENTO</th>\n",
       "      <th>NRO_DOCUMENTO</th>\n",
       "      <th>DIRECCION_RESIDENCIA</th>\n",
       "      <th>RES_DEPTO</th>\n",
       "      <th>RES_MUN</th>\n",
       "      <th>ESTRATO</th>\n",
       "      <th>SISBEN</th>\n",
       "      <th>FECHA_NACIMIENTO</th>\n",
       "      <th>GENERO</th>\n",
       "      <th>POB_VICT_CONF</th>\n",
       "      <th>PROVIENE_SECTOR_PRIV</th>\n",
       "      <th>PROVIENE_OTR_MUN</th>\n",
       "      <th>TIPO_DISCAPACIDAD</th>\n",
       "      <th>CAP_EXC</th>\n",
       "      <th>CODIGO_ETNIA</th>\n",
       "      <th>CODIGO_JORNADA</th>\n",
       "      <th>CARACTER</th>\n",
       "      <th>CODIGO_ESPECIALIDAD</th>\n",
       "      <th>CODIGO_GRADO</th>\n",
       "      <th>CODIGO_METODOLOGIA</th>\n",
       "      <th>REPITENTE</th>\n",
       "      <th>SIT_ACAD_ANIO_ANT</th>\n",
       "      <th>CON_ALUM_ANIO_ANT</th>\n",
       "      <th>ZONA_RESI_ALU</th>\n",
       "      <th>EDAD</th>\n",
       "      <th>NIVEL</th>\n",
       "      <th>DIR_NUM_LOCALIDAD</th>\n",
       "      <th>NIVEL_SISBEN</th>\n",
       "      <th>GRADO_OVERAGE</th>\n",
       "      <th>OVERAGE</th>\n",
       "      <th>ficha</th>\n",
       "      <th>comuna</th>\n",
       "      <th>barrio</th>\n",
       "      <th>nombarrio</th>\n",
       "      <th>direcc</th>\n",
       "      <th>vereda</th>\n",
       "      <th>nomvereda</th>\n",
       "      <th>vivienda</th>\n",
       "      <th>pared</th>\n",
       "      <th>piso</th>\n",
       "      <th>energia</th>\n",
       "      <th>alcanta</th>\n",
       "      <th>gas</th>\n",
       "      <th>telefono</th>\n",
       "      <th>basura</th>\n",
       "      <th>acueduc</th>\n",
       "      <th>estrato</th>\n",
       "      <th>elimbasura</th>\n",
       "      <th>tcuartosvi</th>\n",
       "      <th>thogar</th>\n",
       "      <th>recolec</th>\n",
       "      <th>tipdir</th>\n",
       "      <th>verifica</th>\n",
       "      <th>hogar</th>\n",
       "      <th>teneviv</th>\n",
       "      <th>tcuartos</th>\n",
       "      <th>tdormir</th>\n",
       "      <th>sanitar</th>\n",
       "      <th>usanitar</th>\n",
       "      <th>usosani</th>\n",
       "      <th>tsanitar</th>\n",
       "      <th>ducha</th>\n",
       "      <th>agua</th>\n",
       "      <th>llega</th>\n",
       "      <th>cuandi</th>\n",
       "      <th>suminis</th>\n",
       "      <th>cuanhoras</th>\n",
       "      <th>preparan</th>\n",
       "      <th>cocina</th>\n",
       "      <th>cocinan</th>\n",
       "      <th>alumbra</th>\n",
       "      <th>usotele</th>\n",
       "      <th>nevera</th>\n",
       "      <th>lavadora</th>\n",
       "      <th>tvcolor</th>\n",
       "      <th>tvcable</th>\n",
       "      <th>calenta</th>\n",
       "      <th>horno</th>\n",
       "      <th>aire</th>\n",
       "      <th>computador</th>\n",
       "      <th>equipo</th>\n",
       "      <th>moto</th>\n",
       "      <th>tractor</th>\n",
       "      <th>tiene_auto</th>\n",
       "      <th>bieraices</th>\n",
       "      <th>tpersona</th>\n",
       "      <th>informan</th>\n",
       "      <th>orden</th>\n",
       "      <th>nucleo</th>\n",
       "      <th>parentes</th>\n",
       "      <th>tipodoc</th>\n",
       "      <th>sexo</th>\n",
       "      <th>estcivil</th>\n",
       "      <th>discapa</th>\n",
       "      <th>carnet</th>\n",
       "      <th>asiste</th>\n",
       "      <th>tipoesta</th>\n",
       "      <th>grado</th>\n",
       "      <th>nivel</th>\n",
       "      <th>activi</th>\n",
       "      <th>buscando</th>\n",
       "      <th>ingresos</th>\n",
       "      <th>edad</th>\n",
       "      <th>conyuvive</th>\n",
       "      <th>hijosde</th>\n",
       "      <th>embaraza</th>\n",
       "      <th>extranjero</th>\n",
       "      <th>pagapor</th>\n",
       "      <th>percibe</th>\n",
       "      <th>serdomes</th>\n",
       "      <th>unigasto</th>\n",
       "      <th>area</th>\n",
       "      <th>nparentes</th>\n",
       "      <th>puntaje_sisben_3</th>\n",
       "      <th>nivel_hacinamiento</th>\n",
       "      <th>todos_servicios_Pub</th>\n",
       "      <th>indice_hacinamiento</th>\n",
       "      <th>ES_BILINGUE</th>\n",
       "      <th>TOTAL_DOCENTES</th>\n",
       "      <th>TOTAL_ALUMNOS</th>\n",
       "      <th>TOTAL_EQUIPO_COMPUTO</th>\n",
       "      <th>ALUMN_POR_DOCENTE</th>\n",
       "      <th>COMPU_POR_ALUMN</th>\n",
       "      <th>TOTAL_DOCENTES_CON_TITULO</th>\n",
       "      <th>PROP_DOCENTES_CON_TITULO</th>\n",
       "      <th>promepuntaje</th>\n",
       "      <th>num_presentaron_ICFES</th>\n",
       "    </tr>\n",
       "  </thead>\n",
       "  <tbody>\n",
       "    <tr>\n",
       "      <th>0</th>\n",
       "      <td>2019</td>\n",
       "      <td>111001000078</td>\n",
       "      <td>111001000078</td>\n",
       "      <td>5</td>\n",
       "      <td>1000003730</td>\n",
       "      <td>CR 51 D # 35 SUR - 45</td>\n",
       "      <td>11</td>\n",
       "      <td>1</td>\n",
       "      <td>3</td>\n",
       "      <td>43.0</td>\n",
       "      <td>2002-04-23</td>\n",
       "      <td>0</td>\n",
       "      <td>99</td>\n",
       "      <td>0</td>\n",
       "      <td>0</td>\n",
       "      <td>0</td>\n",
       "      <td>9</td>\n",
       "      <td>0</td>\n",
       "      <td>6</td>\n",
       "      <td>1</td>\n",
       "      <td>5</td>\n",
       "      <td>11</td>\n",
       "      <td>1</td>\n",
       "      <td>0</td>\n",
       "      <td>1</td>\n",
       "      <td>9</td>\n",
       "      <td>1</td>\n",
       "      <td>16</td>\n",
       "      <td>4</td>\n",
       "      <td>16</td>\n",
       "      <td>1</td>\n",
       "      <td>100</td>\n",
       "      <td>0</td>\n",
       "      <td>4385957</td>\n",
       "      <td>16</td>\n",
       "      <td>4407</td>\n",
       "      <td>ALCALA</td>\n",
       "      <td>CL 36 SUR 51 04 PI 2 AP 202</td>\n",
       "      <td>0</td>\n",
       "      <td>BARRIO ZONA URBANA</td>\n",
       "      <td>1</td>\n",
       "      <td>1</td>\n",
       "      <td>2</td>\n",
       "      <td>1</td>\n",
       "      <td>1</td>\n",
       "      <td>1</td>\n",
       "      <td>1</td>\n",
       "      <td>1</td>\n",
       "      <td>1</td>\n",
       "      <td>3</td>\n",
       "      <td>1</td>\n",
       "      <td>3</td>\n",
       "      <td>1</td>\n",
       "      <td>3</td>\n",
       "      <td>1</td>\n",
       "      <td>1</td>\n",
       "      <td>1</td>\n",
       "      <td>1</td>\n",
       "      <td>3</td>\n",
       "      <td>2</td>\n",
       "      <td>1</td>\n",
       "      <td>1</td>\n",
       "      <td>1</td>\n",
       "      <td>1</td>\n",
       "      <td>1</td>\n",
       "      <td>1</td>\n",
       "      <td>1</td>\n",
       "      <td>0</td>\n",
       "      <td>1</td>\n",
       "      <td>0</td>\n",
       "      <td>1</td>\n",
       "      <td>1</td>\n",
       "      <td>2</td>\n",
       "      <td>1</td>\n",
       "      <td>1</td>\n",
       "      <td>1</td>\n",
       "      <td>0</td>\n",
       "      <td>1</td>\n",
       "      <td>1</td>\n",
       "      <td>2</td>\n",
       "      <td>2</td>\n",
       "      <td>2</td>\n",
       "      <td>0</td>\n",
       "      <td>1</td>\n",
       "      <td>0</td>\n",
       "      <td>0</td>\n",
       "      <td>0</td>\n",
       "      <td>2</td>\n",
       "      <td>5</td>\n",
       "      <td>2</td>\n",
       "      <td>3</td>\n",
       "      <td>2</td>\n",
       "      <td>4</td>\n",
       "      <td>2</td>\n",
       "      <td>0</td>\n",
       "      <td>5</td>\n",
       "      <td>0</td>\n",
       "      <td>3</td>\n",
       "      <td>1</td>\n",
       "      <td>5</td>\n",
       "      <td>3</td>\n",
       "      <td>1</td>\n",
       "      <td>3</td>\n",
       "      <td>0</td>\n",
       "      <td>0</td>\n",
       "      <td>9</td>\n",
       "      <td>0</td>\n",
       "      <td>2</td>\n",
       "      <td>0</td>\n",
       "      <td>0</td>\n",
       "      <td>0</td>\n",
       "      <td>0</td>\n",
       "      <td>0</td>\n",
       "      <td>1</td>\n",
       "      <td>1</td>\n",
       "      <td>3</td>\n",
       "      <td>43.919998</td>\n",
       "      <td>Hacinamiento_medio</td>\n",
       "      <td>1</td>\n",
       "      <td>2.5</td>\n",
       "      <td>0</td>\n",
       "      <td>29</td>\n",
       "      <td>561</td>\n",
       "      <td>319</td>\n",
       "      <td>19.344828</td>\n",
       "      <td>0.568627</td>\n",
       "      <td>28</td>\n",
       "      <td>0.965517</td>\n",
       "      <td>265.478873</td>\n",
       "      <td>71</td>\n",
       "    </tr>\n",
       "  </tbody>\n",
       "</table>\n",
       "</div>"
      ],
      "text/plain": [
       "   ANO_INF   CODIGO_DANE  CODIGO_DANE_SEDE  TIPO_DOCUMENTO NRO_DOCUMENTO  \\\n",
       "0     2019  111001000078      111001000078               5    1000003730   \n",
       "\n",
       "    DIRECCION_RESIDENCIA  RES_DEPTO  RES_MUN  ESTRATO  SISBEN  \\\n",
       "0  CR 51 D # 35 SUR - 45         11        1        3    43.0   \n",
       "\n",
       "  FECHA_NACIMIENTO  GENERO  POB_VICT_CONF  PROVIENE_SECTOR_PRIV  \\\n",
       "0       2002-04-23       0             99                     0   \n",
       "\n",
       "   PROVIENE_OTR_MUN  TIPO_DISCAPACIDAD  CAP_EXC  CODIGO_ETNIA  CODIGO_JORNADA  \\\n",
       "0                 0                  0        9             0               6   \n",
       "\n",
       "   CARACTER  CODIGO_ESPECIALIDAD  CODIGO_GRADO  CODIGO_METODOLOGIA  REPITENTE  \\\n",
       "0         1                    5            11                   1          0   \n",
       "\n",
       "   SIT_ACAD_ANIO_ANT  CON_ALUM_ANIO_ANT  ZONA_RESI_ALU  EDAD  NIVEL  \\\n",
       "0                  1                  9              1    16      4   \n",
       "\n",
       "   DIR_NUM_LOCALIDAD  NIVEL_SISBEN  GRADO_OVERAGE  OVERAGE    ficha  comuna  \\\n",
       "0                 16             1            100        0  4385957      16   \n",
       "\n",
       "   barrio nombarrio                       direcc  vereda           nomvereda  \\\n",
       "0    4407    ALCALA  CL 36 SUR 51 04 PI 2 AP 202       0  BARRIO ZONA URBANA   \n",
       "\n",
       "   vivienda  pared  piso  energia  alcanta  gas  telefono  basura  acueduc  \\\n",
       "0         1      1     2        1        1    1         1       1        1   \n",
       "\n",
       "   estrato  elimbasura  tcuartosvi  thogar  recolec  tipdir  verifica  hogar  \\\n",
       "0        3           1           3       1        3       1         1      1   \n",
       "\n",
       "   teneviv  tcuartos  tdormir  sanitar  usanitar  usosani  tsanitar  ducha  \\\n",
       "0        1         3        2        1         1        1         1      1   \n",
       "\n",
       "   agua  llega  cuandi  suminis  cuanhoras  preparan  cocina  cocinan  \\\n",
       "0     1      1       0        1          0         1       1        2   \n",
       "\n",
       "   alumbra  usotele  nevera  lavadora  tvcolor  tvcable  calenta  horno  aire  \\\n",
       "0        1        1       1         0        1        1        2      2     2   \n",
       "\n",
       "   computador  equipo  moto  tractor  tiene_auto  bieraices  tpersona  \\\n",
       "0           0       1     0        0           0          2         5   \n",
       "\n",
       "   informan  orden  nucleo  parentes  tipodoc  sexo  estcivil  discapa  \\\n",
       "0         2      3       2         4        2     0         5        0   \n",
       "\n",
       "   carnet  asiste  tipoesta  grado  nivel  activi  buscando  ingresos  edad  \\\n",
       "0       3       1         5      3      1       3         0         0     9   \n",
       "\n",
       "   conyuvive  hijosde  embaraza  extranjero  pagapor  percibe  serdomes  \\\n",
       "0          0        2         0           0        0        0         0   \n",
       "\n",
       "   unigasto  area  nparentes  puntaje_sisben_3  nivel_hacinamiento  \\\n",
       "0         1     1          3         43.919998  Hacinamiento_medio   \n",
       "\n",
       "   todos_servicios_Pub  indice_hacinamiento  ES_BILINGUE  TOTAL_DOCENTES  \\\n",
       "0                    1                  2.5            0              29   \n",
       "\n",
       "   TOTAL_ALUMNOS  TOTAL_EQUIPO_COMPUTO  ALUMN_POR_DOCENTE  COMPU_POR_ALUMN  \\\n",
       "0            561                   319          19.344828         0.568627   \n",
       "\n",
       "   TOTAL_DOCENTES_CON_TITULO  PROP_DOCENTES_CON_TITULO  promepuntaje  \\\n",
       "0                         28                  0.965517    265.478873   \n",
       "\n",
       "   num_presentaron_ICFES  \n",
       "0                     71  "
      ]
     },
     "execution_count": 5,
     "metadata": {},
     "output_type": "execute_result"
    }
   ],
   "source": [
    "df.head(1)"
   ]
  },
  {
   "cell_type": "code",
   "execution_count": 6,
   "id": "59707958",
   "metadata": {},
   "outputs": [
    {
     "data": {
      "text/plain": [
       "99    450622\n",
       "1      14998\n",
       "9        950\n",
       "3        247\n",
       "2        109\n",
       "4        101\n",
       "10        74\n",
       "20         5\n",
       "17         2\n",
       "6          1\n",
       "18         1\n",
       "Name: POB_VICT_CONF, dtype: int64"
      ]
     },
     "execution_count": 6,
     "metadata": {},
     "output_type": "execute_result"
    }
   ],
   "source": [
    "df[\"POB_VICT_CONF\"].value_counts()"
   ]
  },
  {
   "cell_type": "code",
   "execution_count": 7,
   "id": "27adec1d",
   "metadata": {},
   "outputs": [],
   "source": [
    "dict_vict_recod = {\n",
    "    99: 0,\n",
    "    1 : 1,\n",
    "    9 : 1,\n",
    "    3 : 1,\n",
    "    2 : 1,\n",
    "    4 : 1,\n",
    "    10 : 1,\n",
    "    20 : 1,\n",
    "    17 : 1,\n",
    "    6: 1,\n",
    "    18: 1\n",
    "}"
   ]
  },
  {
   "cell_type": "code",
   "execution_count": 8,
   "id": "128d2803",
   "metadata": {},
   "outputs": [],
   "source": [
    "df['POB_VICT_CONF'] = df['POB_VICT_CONF'].replace(dict_vict_recod)"
   ]
  },
  {
   "cell_type": "markdown",
   "id": "e6b4951f-69c6-4e58-a8a9-4a505506ae20",
   "metadata": {},
   "source": [
    "## Initial Variables"
   ]
  },
  {
   "cell_type": "code",
   "execution_count": 9,
   "id": "0b813416-3f6e-4778-8326-c7760b9951d2",
   "metadata": {},
   "outputs": [],
   "source": [
    "variables = ['EDAD',\n",
    "             'estrato',\n",
    "             'puntaje_sisben_3',\n",
    "             'indice_hacinamiento', #-> solo si no se pone nivel_hacinamiento en Categoria\n",
    "             'TOTAL_EQUIPO_COMPUTO',\n",
    "             'ALUMN_POR_DOCENTE',\n",
    "             'COMPU_POR_ALUMN',\n",
    "             'TOTAL_DOCENTES_CON_TITULO',\n",
    "             'PROP_DOCENTES_CON_TITULO', #-> solo si no se incluye TOTAL_DOCENTES_CON_TITULO y TOTAL_ALUM al tiempo\n",
    "             'promepuntaje',\n",
    "            ]\n",
    "\n",
    "categorias= ['GENERO',\n",
    "             'POB_VICT_CONF',\n",
    "             'PROVIENE_OTR_MUN',\n",
    "             'TIPO_DISCAPACIDAD',\n",
    "             'CODIGO_ETNIA',\n",
    "             'CODIGO_JORNADA',\n",
    "             'DIR_NUM_LOCALIDAD',\n",
    "             'embaraza',\n",
    "             'todos_servicios_Pub',\n",
    "             'teneviv',\n",
    "             'computador',\n",
    "             'tiene_auto',\n",
    "             'ES_BILINGUE'\n",
    "\n",
    "             ]"
   ]
  },
  {
   "cell_type": "markdown",
   "id": "617e1d59-2725-4e39-b7e5-6ff5d25cc54a",
   "metadata": {},
   "source": [
    "# Part A: Feature Selection"
   ]
  },
  {
   "cell_type": "markdown",
   "id": "1da0a174-54f2-43f4-b064-26c4c43687de",
   "metadata": {},
   "source": [
    "## Filter by grade Level and Methodology"
   ]
  },
  {
   "cell_type": "code",
   "execution_count": 10,
   "id": "33bc14de-58e6-42b6-b4b3-1d1d0936a244",
   "metadata": {},
   "outputs": [
    {
     "data": {
      "text/plain": [
       "2    0.423956\n",
       "3    0.383991\n",
       "4    0.136013\n",
       "1    0.056040\n",
       "Name: NIVEL, dtype: float64"
      ]
     },
     "execution_count": 10,
     "metadata": {},
     "output_type": "execute_result"
    }
   ],
   "source": [
    "df['NIVEL'].value_counts()/df['NIVEL'].shape[0]"
   ]
  },
  {
   "cell_type": "code",
   "execution_count": 11,
   "id": "d284d1ad-3f8a-4198-8486-249894732809",
   "metadata": {},
   "outputs": [],
   "source": [
    "df = df[(df['NIVEL']== 2)]"
   ]
  },
  {
   "cell_type": "code",
   "execution_count": 12,
   "id": "b2841439-aeb5-40ca-9b3f-7044636853a0",
   "metadata": {},
   "outputs": [
    {
     "data": {
      "text/plain": [
       "1    0.973611\n",
       "9    0.026389\n",
       "Name: CODIGO_METODOLOGIA, dtype: float64"
      ]
     },
     "execution_count": 12,
     "metadata": {},
     "output_type": "execute_result"
    }
   ],
   "source": [
    "df['CODIGO_METODOLOGIA'].value_counts()/df['CODIGO_METODOLOGIA'].shape[0]"
   ]
  },
  {
   "cell_type": "code",
   "execution_count": 13,
   "id": "457eea7e-6c88-43dc-9df4-1c5b3df7c3e7",
   "metadata": {},
   "outputs": [],
   "source": [
    "df = df[(df['CODIGO_METODOLOGIA']==1)]"
   ]
  },
  {
   "cell_type": "markdown",
   "id": "c2a3bfc4-3011-4129-9d77-a0322eed480a",
   "metadata": {},
   "source": [
    "-----------"
   ]
  },
  {
   "cell_type": "markdown",
   "id": "fbaaddf4-2547-487b-a9c6-b13652384af9",
   "metadata": {},
   "source": [
    "# Univariate Feature Selection for categorical data\n",
    "## Pearson Chi-Squared Test For independence\n",
    "### Part I: Features with dependence against REPITENTE"
   ]
  },
  {
   "cell_type": "markdown",
   "id": "2b622204-09ec-41fe-beed-d037e449d112",
   "metadata": {},
   "source": [
    "$$ H_{0} : The \\: variables \\: are \\: Dependent$$\n",
    "$$ H_{a}: The \\: variables \\:are \\: not \\: Dependent $$\n",
    "\n",
    "#### References:\n",
    "1. [Why Chi Test?](https://towardsdatascience.com/mistakes-in-applying-univariate-feature-selection-methods-34c43ce8b93d)\n",
    "2. [Why we implemented it in this way?](https://machinelearningmastery.com/chi-squared-test-for-machine-learning/)"
   ]
  },
  {
   "cell_type": "code",
   "execution_count": 14,
   "id": "0787b186-639c-41b4-b94e-39b350f70a37",
   "metadata": {},
   "outputs": [
    {
     "name": "stdout",
     "output_type": "stream",
     "text": [
      "Dependent variables that reject H0 at a significance level of 5%\n",
      "              Category        p-value\n",
      "4    DIR_NUM_LOCALIDAD  1.677838e-270\n",
      "0               GENERO   7.537762e-37\n",
      "2    TIPO_DISCAPACIDAD   2.444873e-18\n",
      "7           computador   4.710577e-14\n",
      "6              teneviv   2.409088e-11\n",
      "3       CODIGO_JORNADA   8.621747e-08\n",
      "1        POB_VICT_CONF   1.976335e-04\n",
      "9          ES_BILINGUE   2.120649e-04\n",
      "8           tiene_auto   3.163257e-04\n",
      "5  todos_servicios_Pub   4.798505e-02\n"
     ]
    }
   ],
   "source": [
    "chi2_values_df = pd.DataFrame(columns = ['Category', 'p-value'])\n",
    "cat_dep = []\n",
    "p_values = []\n",
    "for i in categorias:\n",
    "    crosstab = pd.crosstab(df['REPITENTE'], df[i])\n",
    "    chi2, p, dof, ex = stats.chi2_contingency(crosstab)\n",
    "    if p <= 0.05:\n",
    "        cat_dep.append(i)\n",
    "        p_values.append(p)\n",
    "print('Dependent variables that reject H0 at a significance level of 5%')\n",
    "chi2_values_df['Category'] = cat_dep\n",
    "chi2_values_df['p-value'] = p_values\n",
    "print(chi2_values_df.sort_values(by = 'p-value'))\n",
    "    "
   ]
  },
  {
   "cell_type": "code",
   "execution_count": 15,
   "id": "072915dc-1c4d-477e-924e-0c940a4c43f5",
   "metadata": {},
   "outputs": [],
   "source": [
    "categorias = cat_dep"
   ]
  },
  {
   "cell_type": "code",
   "execution_count": 16,
   "id": "453263f9-f72e-4a66-a04e-18aa5f329824",
   "metadata": {},
   "outputs": [
    {
     "name": "stdout",
     "output_type": "stream",
     "text": [
      "Variables that fail to reject H0 (independent) at a significance level of 5%\n",
      "Empty DataFrame\n",
      "Columns: [Category, p-value]\n",
      "Index: []\n"
     ]
    }
   ],
   "source": [
    "rejected = pd.DataFrame(columns = ['Category', 'p-value'])\n",
    "cat_nodep = []\n",
    "p_valuesr = []\n",
    "for i in categorias:\n",
    "    crosstab = pd.crosstab(df['REPITENTE'], df[i])\n",
    "    chi2, p, dof, ex = stats.chi2_contingency(crosstab)\n",
    "    if p > 0.05:\n",
    "        cat_nodep.append(i)\n",
    "        p_valuesr.append(p)\n",
    "print('Variables that fail to reject H0 (independent) at a significance level of 5%')\n",
    "rejected['Category'] = cat_nodep\n",
    "rejected['p-value'] = p_valuesr\n",
    "print(rejected.sort_values(by = 'p-value', ascending = False))"
   ]
  },
  {
   "cell_type": "markdown",
   "id": "da6a9ae9",
   "metadata": {},
   "source": [
    "# Univariate Feature Selection for continous data\n",
    "## Difference in means test \n",
    "### Part I: Features with dependence against REPITENTE"
   ]
  },
  {
   "cell_type": "code",
   "execution_count": 17,
   "id": "3d72df18",
   "metadata": {},
   "outputs": [
    {
     "name": "stderr",
     "output_type": "stream",
     "text": [
      "/opt/conda/lib/python3.8/site-packages/numpy/core/_methods.py:211: RuntimeWarning: overflow encountered in reduce\n",
      "  arrmean = umr_sum(arr, axis, dtype, keepdims=True, where=where)\n",
      "/opt/conda/lib/python3.8/site-packages/numpy/core/fromnumeric.py:87: RuntimeWarning: overflow encountered in reduce\n",
      "  return ufunc.reduce(obj, axis, dtype, out, **passkwargs)\n"
     ]
    },
    {
     "name": "stdout",
     "output_type": "stream",
     "text": [
      "Dependent variables that reject H0 at a significance level of 5%\n",
      "                     numeric        p-value\n",
      "0                       EDAD  6.961966e-231\n",
      "6   PROP_DOCENTES_CON_TITULO   2.781817e-60\n",
      "1           puntaje_sisben_3   7.379521e-36\n",
      "5  TOTAL_DOCENTES_CON_TITULO   4.272705e-20\n",
      "4            COMPU_POR_ALUMN   2.886627e-11\n",
      "7               promepuntaje   9.008413e-06\n",
      "3          ALUMN_POR_DOCENTE   3.549154e-04\n",
      "2       TOTAL_EQUIPO_COMPUTO   1.367768e-02\n"
     ]
    }
   ],
   "source": [
    "differentMean = pd.DataFrame(columns = ['numeric', 'p-value'])\n",
    "cat_con = []\n",
    "p_valuesc = []\n",
    "\n",
    "for i in variables:\n",
    "    df_r = df[df[\"REPITENTE\"] == 1][i]\n",
    "    df_nr = df[df[\"REPITENTE\"] == 0][i]\n",
    "    p_val = float(pg.ttest(df_r,df_nr)[\"p-val\"][0])\n",
    "    \n",
    "    if p_val <= 0.05:\n",
    "        cat_con.append(i)\n",
    "        p_valuesc.append(p_val)\n",
    "        \n",
    "print('Dependent variables that reject H0 at a significance level of 5%')\n",
    "differentMean['numeric'] = cat_con\n",
    "differentMean['p-value'] = p_valuesc\n",
    "print(differentMean.sort_values(by = 'p-value'))"
   ]
  },
  {
   "cell_type": "markdown",
   "id": "764b6a40-64b0-48a1-84b7-1612ae44f40c",
   "metadata": {},
   "source": [
    "--------"
   ]
  },
  {
   "cell_type": "markdown",
   "id": "395cb691-d0b1-46d5-82c3-cf39882987d3",
   "metadata": {},
   "source": [
    "### Part II: Feature selection for continuous variables\n",
    "We could perform an ANOVA F-test to do this feature selection. Since we have very few continous data, and other assumptions need to be checked we skip this step for now."
   ]
  },
  {
   "cell_type": "markdown",
   "id": "64f518da-36c1-40d0-b1f0-ba3755ad6f8b",
   "metadata": {},
   "source": [
    "## Model: Logistic Regression\n",
    "### Assumptions:\n",
    "1. Right response variable. This is obvious since REPITENTE is boolean.\n",
    "2. Linearility of continuous variables agaisnt log(odds) = $ln(\\dfrac{p}{1-p})$\n",
    "3. Not strongly influential Outliers.\n",
    "4. Absence of Multicollinearity\n",
    "5. Independence of observations\n",
    "\n",
    "[Reference](https://towardsdatascience.com/assumptions-of-logistic-regression-clearly-explained-44d85a22b290)"
   ]
  },
  {
   "cell_type": "markdown",
   "id": "16064846-6b89-4442-9340-6f66df43f2b4",
   "metadata": {},
   "source": [
    "## Assumptions checks "
   ]
  },
  {
   "cell_type": "markdown",
   "id": "8b5c4b1e-46e8-4c3a-92f5-66a6cfef1c51",
   "metadata": {},
   "source": [
    "### Number II: Linearility versus log (odds) - Box- Tidwell Test\n",
    "\n",
    "The intituion behind this test is very clear. We are trying to test if the probability of seeing a success (occurence of a 1 value) is exponentially related to our variables. In other words, we expect that:\n",
    "   $$ Y = ln(\\dfrac{p}{1-p}) \\approx \\beta_{0} + \\sum_{i=1}^{n}x_{i}\\beta_{i} $$\n",
    "Where p is the probability of a success, i.e. the number of positive outcomes divided by the total of observations in a given sample of the population.\n",
    "\n",
    "**Box- Tidwell Test**"
   ]
  },
  {
   "cell_type": "code",
   "execution_count": 18,
   "id": "86d9dc5c-432b-4746-a5cb-f75488e45092",
   "metadata": {},
   "outputs": [
    {
     "data": {
      "text/plain": [
       "(192808,)"
      ]
     },
     "execution_count": 18,
     "metadata": {},
     "output_type": "execute_result"
    }
   ],
   "source": [
    "y = df['REPITENTE']\n",
    "y.shape"
   ]
  },
  {
   "cell_type": "code",
   "execution_count": 19,
   "id": "c97f68d0-b86a-4dd0-a240-2e9739f1e761",
   "metadata": {},
   "outputs": [
    {
     "data": {
      "text/plain": [
       "(192808, 10)"
      ]
     },
     "execution_count": 19,
     "metadata": {},
     "output_type": "execute_result"
    }
   ],
   "source": [
    "X = df[variables]\n",
    "X.shape"
   ]
  },
  {
   "cell_type": "code",
   "execution_count": 20,
   "id": "104fccb7-0d68-43d5-aa9b-daee102099bd",
   "metadata": {},
   "outputs": [
    {
     "name": "stderr",
     "output_type": "stream",
     "text": [
      "/opt/conda/lib/python3.8/site-packages/pandas/core/frame.py:4524: SettingWithCopyWarning: \n",
      "A value is trying to be set on a copy of a slice from a DataFrame\n",
      "\n",
      "See the caveats in the documentation: https://pandas.pydata.org/pandas-docs/stable/user_guide/indexing.html#returning-a-view-versus-a-copy\n",
      "  return super().replace(\n"
     ]
    }
   ],
   "source": [
    "# 0 and 1 are interchangable since in either case value*ln(value) = 0\n",
    "X.replace({0: 1, 0.0 : 1.0}, inplace = True)"
   ]
  },
  {
   "cell_type": "code",
   "execution_count": 21,
   "id": "be8ffa4d-a70e-4deb-9ce1-299c07ec0b01",
   "metadata": {},
   "outputs": [
    {
     "name": "stderr",
     "output_type": "stream",
     "text": [
      "<ipython-input-21-a73a6ccc77d4>:2: SettingWithCopyWarning: \n",
      "A value is trying to be set on a copy of a slice from a DataFrame.\n",
      "Try using .loc[row_indexer,col_indexer] = value instead\n",
      "\n",
      "See the caveats in the documentation: https://pandas.pydata.org/pandas-docs/stable/user_guide/indexing.html#returning-a-view-versus-a-copy\n",
      "  X[f'{var}:Log_{var}'] = X[var].apply(lambda x: x * np.log(x))\n"
     ]
    }
   ],
   "source": [
    "for var in variables:\n",
    "    X[f'{var}:Log_{var}'] = X[var].apply(lambda x: x * np.log(x))"
   ]
  },
  {
   "cell_type": "code",
   "execution_count": 22,
   "id": "486c5ed1-0796-4213-b698-e2cb697f8c6e",
   "metadata": {},
   "outputs": [],
   "source": [
    "cols_to_keep = variables + X.columns.tolist()[-len(variables):]"
   ]
  },
  {
   "cell_type": "code",
   "execution_count": 23,
   "id": "b2ac5137-ae6b-4f9a-9b13-5da477a0c74e",
   "metadata": {},
   "outputs": [],
   "source": [
    "X_cons = sm.add_constant(X, prepend=False)"
   ]
  },
  {
   "cell_type": "code",
   "execution_count": 24,
   "id": "56c63283-5a2f-4022-91c5-b815a1714ac8",
   "metadata": {},
   "outputs": [],
   "source": [
    "## Should not print anything\n",
    "for col in X_cons:\n",
    "    if np.isinf(X_cons[col]).values.sum() > 0:\n",
    "        print(col)"
   ]
  },
  {
   "cell_type": "code",
   "execution_count": 25,
   "id": "e2a42816-33e4-42b4-8682-c5ae4d3b483e",
   "metadata": {},
   "outputs": [],
   "source": [
    "## Shouel not print anything, otherwise an error will raise in the next cell\n",
    "for col in X_cons:\n",
    "    if np.isnan(X_cons[col]).values.sum() > 0:\n",
    "        print(col, np.isnan(X_cons[col]).values.sum())"
   ]
  },
  {
   "cell_type": "code",
   "execution_count": 26,
   "id": "5d088fd8-661b-403a-bedc-38b9f67beb4f",
   "metadata": {},
   "outputs": [
    {
     "data": {
      "text/html": [
       "<table class=\"simpletable\">\n",
       "<caption>Generalized Linear Model Regression Results</caption>\n",
       "<tr>\n",
       "  <th>Dep. Variable:</th>       <td>REPITENTE</td>    <th>  No. Observations:  </th>  <td>192808</td> \n",
       "</tr>\n",
       "<tr>\n",
       "  <th>Model:</th>                  <td>GLM</td>       <th>  Df Residuals:      </th>  <td>192787</td> \n",
       "</tr>\n",
       "<tr>\n",
       "  <th>Model Family:</th>        <td>Binomial</td>     <th>  Df Model:          </th>  <td>    20</td> \n",
       "</tr>\n",
       "<tr>\n",
       "  <th>Link Function:</th>         <td>Logit</td>      <th>  Scale:             </th> <td>  1.0000</td>\n",
       "</tr>\n",
       "<tr>\n",
       "  <th>Method:</th>                <td>IRLS</td>       <th>  Log-Likelihood:    </th> <td> -29831.</td>\n",
       "</tr>\n",
       "<tr>\n",
       "  <th>Date:</th>            <td>Mon, 04 Jul 2022</td> <th>  Deviance:          </th> <td>  59663.</td>\n",
       "</tr>\n",
       "<tr>\n",
       "  <th>Time:</th>                <td>19:09:25</td>     <th>  Pearson chi2:      </th> <td>2.04e+05</td>\n",
       "</tr>\n",
       "<tr>\n",
       "  <th>No. Iterations:</th>          <td>7</td>        <th>  Pseudo R-squ. (CS):</th>  <td>0.01368</td>\n",
       "</tr>\n",
       "<tr>\n",
       "  <th>Covariance Type:</th>     <td>nonrobust</td>    <th>                     </th>     <td> </td>   \n",
       "</tr>\n",
       "</table>\n",
       "<table class=\"simpletable\">\n",
       "<tr>\n",
       "                             <td></td>                                <th>coef</th>     <th>std err</th>      <th>z</th>      <th>P>|z|</th>  <th>[0.025</th>    <th>0.975]</th>  \n",
       "</tr>\n",
       "<tr>\n",
       "  <th>EDAD</th>                                                    <td>    0.7557</td> <td>    0.126</td> <td>    5.978</td> <td> 0.000</td> <td>    0.508</td> <td>    1.003</td>\n",
       "</tr>\n",
       "<tr>\n",
       "  <th>estrato</th>                                                 <td>    1.5960</td> <td>    0.160</td> <td>    9.981</td> <td> 0.000</td> <td>    1.283</td> <td>    1.909</td>\n",
       "</tr>\n",
       "<tr>\n",
       "  <th>puntaje_sisben_3</th>                                        <td>   -0.0004</td> <td>    0.014</td> <td>   -0.029</td> <td> 0.977</td> <td>   -0.027</td> <td>    0.026</td>\n",
       "</tr>\n",
       "<tr>\n",
       "  <th>indice_hacinamiento</th>                                     <td>    0.1764</td> <td>    0.065</td> <td>    2.706</td> <td> 0.007</td> <td>    0.049</td> <td>    0.304</td>\n",
       "</tr>\n",
       "<tr>\n",
       "  <th>TOTAL_EQUIPO_COMPUTO</th>                                    <td>    0.0197</td> <td>    0.002</td> <td>   12.693</td> <td> 0.000</td> <td>    0.017</td> <td>    0.023</td>\n",
       "</tr>\n",
       "<tr>\n",
       "  <th>ALUMN_POR_DOCENTE</th>                                       <td>   -0.8269</td> <td>    0.081</td> <td>  -10.225</td> <td> 0.000</td> <td>   -0.985</td> <td>   -0.668</td>\n",
       "</tr>\n",
       "<tr>\n",
       "  <th>COMPU_POR_ALUMN</th>                                         <td>   -1.8753</td> <td>    0.188</td> <td>   -9.950</td> <td> 0.000</td> <td>   -2.245</td> <td>   -1.506</td>\n",
       "</tr>\n",
       "<tr>\n",
       "  <th>TOTAL_DOCENTES_CON_TITULO</th>                               <td>    0.0030</td> <td>    0.005</td> <td>    0.593</td> <td> 0.553</td> <td>   -0.007</td> <td>    0.013</td>\n",
       "</tr>\n",
       "<tr>\n",
       "  <th>PROP_DOCENTES_CON_TITULO</th>                                <td>   -0.0518</td> <td>    0.088</td> <td>   -0.586</td> <td> 0.558</td> <td>   -0.225</td> <td>    0.121</td>\n",
       "</tr>\n",
       "<tr>\n",
       "  <th>promepuntaje</th>                                            <td>   -0.3877</td> <td>    0.125</td> <td>   -3.102</td> <td> 0.002</td> <td>   -0.633</td> <td>   -0.143</td>\n",
       "</tr>\n",
       "<tr>\n",
       "  <th>EDAD:Log_EDAD</th>                                           <td>   -0.1650</td> <td>    0.039</td> <td>   -4.222</td> <td> 0.000</td> <td>   -0.242</td> <td>   -0.088</td>\n",
       "</tr>\n",
       "<tr>\n",
       "  <th>estrato:Log_estrato</th>                                     <td>   -0.9250</td> <td>    0.099</td> <td>   -9.372</td> <td> 0.000</td> <td>   -1.118</td> <td>   -0.732</td>\n",
       "</tr>\n",
       "<tr>\n",
       "  <th>puntaje_sisben_3:Log_puntaje_sisben_3</th>                   <td>   -0.0015</td> <td>    0.003</td> <td>   -0.496</td> <td> 0.620</td> <td>   -0.007</td> <td>    0.004</td>\n",
       "</tr>\n",
       "<tr>\n",
       "  <th>indice_hacinamiento:Log_indice_hacinamiento</th>             <td>   -0.0488</td> <td>    0.027</td> <td>   -1.796</td> <td> 0.073</td> <td>   -0.102</td> <td>    0.004</td>\n",
       "</tr>\n",
       "<tr>\n",
       "  <th>TOTAL_EQUIPO_COMPUTO:Log_TOTAL_EQUIPO_COMPUTO</th>           <td>   -0.0027</td> <td>    0.000</td> <td>  -11.987</td> <td> 0.000</td> <td>   -0.003</td> <td>   -0.002</td>\n",
       "</tr>\n",
       "<tr>\n",
       "  <th>ALUMN_POR_DOCENTE:Log_ALUMN_POR_DOCENTE</th>                 <td>    0.1958</td> <td>    0.019</td> <td>   10.266</td> <td> 0.000</td> <td>    0.158</td> <td>    0.233</td>\n",
       "</tr>\n",
       "<tr>\n",
       "  <th>COMPU_POR_ALUMN:Log_COMPU_POR_ALUMN</th>                     <td>    1.2013</td> <td>    0.304</td> <td>    3.958</td> <td> 0.000</td> <td>    0.606</td> <td>    1.796</td>\n",
       "</tr>\n",
       "<tr>\n",
       "  <th>TOTAL_DOCENTES_CON_TITULO:Log_TOTAL_DOCENTES_CON_TITULO</th> <td>   -0.0024</td> <td>    0.001</td> <td>   -2.492</td> <td> 0.013</td> <td>   -0.004</td> <td>   -0.001</td>\n",
       "</tr>\n",
       "<tr>\n",
       "  <th>PROP_DOCENTES_CON_TITULO:Log_PROP_DOCENTES_CON_TITULO</th>   <td>   -2.1775</td> <td>    0.190</td> <td>  -11.478</td> <td> 0.000</td> <td>   -2.549</td> <td>   -1.806</td>\n",
       "</tr>\n",
       "<tr>\n",
       "  <th>promepuntaje:Log_promepuntaje</th>                           <td>    0.0594</td> <td>    0.019</td> <td>    3.109</td> <td> 0.002</td> <td>    0.022</td> <td>    0.097</td>\n",
       "</tr>\n",
       "<tr>\n",
       "  <th>const</th>                                                   <td>   10.4883</td> <td>    4.846</td> <td>    2.164</td> <td> 0.030</td> <td>    0.990</td> <td>   19.987</td>\n",
       "</tr>\n",
       "</table>"
      ],
      "text/plain": [
       "<class 'statsmodels.iolib.summary.Summary'>\n",
       "\"\"\"\n",
       "                 Generalized Linear Model Regression Results                  \n",
       "==============================================================================\n",
       "Dep. Variable:              REPITENTE   No. Observations:               192808\n",
       "Model:                            GLM   Df Residuals:                   192787\n",
       "Model Family:                Binomial   Df Model:                           20\n",
       "Link Function:                  Logit   Scale:                          1.0000\n",
       "Method:                          IRLS   Log-Likelihood:                -29831.\n",
       "Date:                Mon, 04 Jul 2022   Deviance:                       59663.\n",
       "Time:                        19:09:25   Pearson chi2:                 2.04e+05\n",
       "No. Iterations:                     7   Pseudo R-squ. (CS):            0.01368\n",
       "Covariance Type:            nonrobust                                         \n",
       "===========================================================================================================================\n",
       "                                                              coef    std err          z      P>|z|      [0.025      0.975]\n",
       "---------------------------------------------------------------------------------------------------------------------------\n",
       "EDAD                                                        0.7557      0.126      5.978      0.000       0.508       1.003\n",
       "estrato                                                     1.5960      0.160      9.981      0.000       1.283       1.909\n",
       "puntaje_sisben_3                                           -0.0004      0.014     -0.029      0.977      -0.027       0.026\n",
       "indice_hacinamiento                                         0.1764      0.065      2.706      0.007       0.049       0.304\n",
       "TOTAL_EQUIPO_COMPUTO                                        0.0197      0.002     12.693      0.000       0.017       0.023\n",
       "ALUMN_POR_DOCENTE                                          -0.8269      0.081    -10.225      0.000      -0.985      -0.668\n",
       "COMPU_POR_ALUMN                                            -1.8753      0.188     -9.950      0.000      -2.245      -1.506\n",
       "TOTAL_DOCENTES_CON_TITULO                                   0.0030      0.005      0.593      0.553      -0.007       0.013\n",
       "PROP_DOCENTES_CON_TITULO                                   -0.0518      0.088     -0.586      0.558      -0.225       0.121\n",
       "promepuntaje                                               -0.3877      0.125     -3.102      0.002      -0.633      -0.143\n",
       "EDAD:Log_EDAD                                              -0.1650      0.039     -4.222      0.000      -0.242      -0.088\n",
       "estrato:Log_estrato                                        -0.9250      0.099     -9.372      0.000      -1.118      -0.732\n",
       "puntaje_sisben_3:Log_puntaje_sisben_3                      -0.0015      0.003     -0.496      0.620      -0.007       0.004\n",
       "indice_hacinamiento:Log_indice_hacinamiento                -0.0488      0.027     -1.796      0.073      -0.102       0.004\n",
       "TOTAL_EQUIPO_COMPUTO:Log_TOTAL_EQUIPO_COMPUTO              -0.0027      0.000    -11.987      0.000      -0.003      -0.002\n",
       "ALUMN_POR_DOCENTE:Log_ALUMN_POR_DOCENTE                     0.1958      0.019     10.266      0.000       0.158       0.233\n",
       "COMPU_POR_ALUMN:Log_COMPU_POR_ALUMN                         1.2013      0.304      3.958      0.000       0.606       1.796\n",
       "TOTAL_DOCENTES_CON_TITULO:Log_TOTAL_DOCENTES_CON_TITULO    -0.0024      0.001     -2.492      0.013      -0.004      -0.001\n",
       "PROP_DOCENTES_CON_TITULO:Log_PROP_DOCENTES_CON_TITULO      -2.1775      0.190    -11.478      0.000      -2.549      -1.806\n",
       "promepuntaje:Log_promepuntaje                               0.0594      0.019      3.109      0.002       0.022       0.097\n",
       "const                                                      10.4883      4.846      2.164      0.030       0.990      19.987\n",
       "===========================================================================================================================\n",
       "\"\"\""
      ]
     },
     "execution_count": 26,
     "metadata": {},
     "output_type": "execute_result"
    }
   ],
   "source": [
    "logit_results = sm.GLM(y, X_cons, family=sm.families.Binomial()).fit()\n",
    "logit_results.summary()"
   ]
  },
  {
   "cell_type": "code",
   "execution_count": 27,
   "id": "6ec0570f-40f2-4717-aa15-8185f09ef5a8",
   "metadata": {},
   "outputs": [
    {
     "data": {
      "text/plain": [
       "EDAD                                                       2.259637e-09\n",
       "estrato                                                    1.854989e-23\n",
       "puntaje_sisben_3                                           9.771954e-01\n",
       "indice_hacinamiento                                        6.805565e-03\n",
       "TOTAL_EQUIPO_COMPUTO                                       6.486533e-37\n",
       "ALUMN_POR_DOCENTE                                          1.529934e-24\n",
       "COMPU_POR_ALUMN                                            2.532169e-23\n",
       "TOTAL_DOCENTES_CON_TITULO                                  5.528598e-01\n",
       "PROP_DOCENTES_CON_TITULO                                   5.575632e-01\n",
       "promepuntaje                                               1.919741e-03\n",
       "EDAD:Log_EDAD                                              2.416836e-05\n",
       "estrato:Log_estrato                                        7.144785e-21\n",
       "puntaje_sisben_3:Log_puntaje_sisben_3                      6.200242e-01\n",
       "indice_hacinamiento:Log_indice_hacinamiento                7.255536e-02\n",
       "TOTAL_EQUIPO_COMPUTO:Log_TOTAL_EQUIPO_COMPUTO              4.181505e-33\n",
       "ALUMN_POR_DOCENTE:Log_ALUMN_POR_DOCENTE                    9.978598e-25\n",
       "COMPU_POR_ALUMN:Log_COMPU_POR_ALUMN                        7.556134e-05\n",
       "TOTAL_DOCENTES_CON_TITULO:Log_TOTAL_DOCENTES_CON_TITULO    1.271712e-02\n",
       "PROP_DOCENTES_CON_TITULO:Log_PROP_DOCENTES_CON_TITULO      1.707566e-30\n",
       "promepuntaje:Log_promepuntaje                              1.875907e-03\n",
       "const                                                      3.044952e-02\n",
       "dtype: float64"
      ]
     },
     "execution_count": 27,
     "metadata": {},
     "output_type": "execute_result"
    }
   ],
   "source": [
    "logit_results.pvalues"
   ]
  },
  {
   "cell_type": "code",
   "execution_count": 28,
   "id": "4fd782fb-52cb-4681-86fe-8287f1564c71",
   "metadata": {},
   "outputs": [
    {
     "data": {
      "text/plain": [
       "puntaje_sisben_3                               0.977195\n",
       "TOTAL_DOCENTES_CON_TITULO                      0.552860\n",
       "PROP_DOCENTES_CON_TITULO                       0.557563\n",
       "puntaje_sisben_3:Log_puntaje_sisben_3          0.620024\n",
       "indice_hacinamiento:Log_indice_hacinamiento    0.072555\n",
       "dtype: float64"
      ]
     },
     "execution_count": 28,
     "metadata": {},
     "output_type": "execute_result"
    }
   ],
   "source": [
    "logit_results.pvalues[logit_results.pvalues > 0.05]"
   ]
  },
  {
   "cell_type": "code",
   "execution_count": 29,
   "id": "b197aa81-c4e4-4e8f-a5b7-b754afd83fca",
   "metadata": {},
   "outputs": [
    {
     "data": {
      "text/plain": [
       "Index(['puntaje_sisben_3', 'TOTAL_DOCENTES_CON_TITULO',\n",
       "       'PROP_DOCENTES_CON_TITULO', 'puntaje_sisben_3:Log_puntaje_sisben_3',\n",
       "       'indice_hacinamiento:Log_indice_hacinamiento'],\n",
       "      dtype='object')"
      ]
     },
     "execution_count": 29,
     "metadata": {},
     "output_type": "execute_result"
    }
   ],
   "source": [
    "logit_results.pvalues[logit_results.pvalues > 0.05].index"
   ]
  },
  {
   "cell_type": "code",
   "execution_count": 30,
   "id": "f3ae6214-8c84-4a79-bc6a-9649e63b91fe",
   "metadata": {},
   "outputs": [
    {
     "data": {
      "text/plain": [
       "['puntaje_sisben_3', 'indice_hacinamiento']"
      ]
     },
     "execution_count": 30,
     "metadata": {},
     "output_type": "execute_result"
    }
   ],
   "source": [
    "conti = []\n",
    "for x in logit_results.pvalues[logit_results.pvalues > 0.05].index:\n",
    "    if \":\" in x:\n",
    "        aux = x.split(':')\n",
    "        conti.append(aux[0])\n",
    "conti"
   ]
  },
  {
   "cell_type": "code",
   "execution_count": 31,
   "id": "eeac7824-5f9c-4416-b6a9-080c7c9477b4",
   "metadata": {},
   "outputs": [],
   "source": [
    "# Select the continuous variables that fulfill the second assumption for the model\n",
    "variables = conti"
   ]
  },
  {
   "cell_type": "markdown",
   "id": "6bfe16dd-0352-44ec-a512-14cd16a48582",
   "metadata": {},
   "source": [
    "-------------------------"
   ]
  },
  {
   "cell_type": "markdown",
   "id": "976fd47f-aee1-43f6-a683-37d450c31dcf",
   "metadata": {},
   "source": [
    "#### Comparasion against smf.logit\n",
    "\n",
    "We can see that the results are equivalent"
   ]
  },
  {
   "cell_type": "code",
   "execution_count": 32,
   "id": "ddbab395-3162-491e-b6e0-d975752d084b",
   "metadata": {},
   "outputs": [],
   "source": [
    "def formula_odds(dependiente, variables):\n",
    "    formula = f'{dependiente} ~ '\n",
    "    for variable in variables:\n",
    "        if formula != f'{dependiente} ~ ':\n",
    "            formula += ' + '\n",
    "        formula += f'{variable}'\n",
    "        formula += f' + {variable} : np.log({variable})'\n",
    "    return formula  "
   ]
  },
  {
   "cell_type": "code",
   "execution_count": 33,
   "id": "f0eb4a5b-996c-489b-af95-ce493b687944",
   "metadata": {},
   "outputs": [],
   "source": [
    "X_cons['REPITENTE'] = y"
   ]
  },
  {
   "cell_type": "code",
   "execution_count": 34,
   "id": "b25f352f-1daf-43c7-8446-c485187d4fdb",
   "metadata": {},
   "outputs": [
    {
     "data": {
      "text/plain": [
       "'REPITENTE ~ puntaje_sisben_3 + puntaje_sisben_3 : np.log(puntaje_sisben_3) + indice_hacinamiento + indice_hacinamiento : np.log(indice_hacinamiento)'"
      ]
     },
     "execution_count": 34,
     "metadata": {},
     "output_type": "execute_result"
    }
   ],
   "source": [
    "formula = formula_odds('REPITENTE', variables)\n",
    "formula"
   ]
  },
  {
   "cell_type": "code",
   "execution_count": 35,
   "id": "6fef497b-6821-4eb0-b75d-7e0197a2f163",
   "metadata": {},
   "outputs": [
    {
     "name": "stdout",
     "output_type": "stream",
     "text": [
      "Optimization terminated successfully.\n",
      "         Current function value: 0.161124\n",
      "         Iterations 7\n"
     ]
    },
    {
     "data": {
      "text/html": [
       "<table class=\"simpletable\">\n",
       "<caption>Logit Regression Results</caption>\n",
       "<tr>\n",
       "  <th>Dep. Variable:</th>       <td>REPITENTE</td>    <th>  No. Observations:  </th>  <td>192808</td>  \n",
       "</tr>\n",
       "<tr>\n",
       "  <th>Model:</th>                 <td>Logit</td>      <th>  Df Residuals:      </th>  <td>192803</td>  \n",
       "</tr>\n",
       "<tr>\n",
       "  <th>Method:</th>                 <td>MLE</td>       <th>  Df Model:          </th>  <td>     4</td>  \n",
       "</tr>\n",
       "<tr>\n",
       "  <th>Date:</th>            <td>Mon, 04 Jul 2022</td> <th>  Pseudo R-squ.:     </th> <td>0.002992</td> \n",
       "</tr>\n",
       "<tr>\n",
       "  <th>Time:</th>                <td>19:09:27</td>     <th>  Log-Likelihood:    </th> <td> -31066.</td> \n",
       "</tr>\n",
       "<tr>\n",
       "  <th>converged:</th>             <td>True</td>       <th>  LL-Null:           </th> <td> -31159.</td> \n",
       "</tr>\n",
       "<tr>\n",
       "  <th>Covariance Type:</th>     <td>nonrobust</td>    <th>  LLR p-value:       </th> <td>3.038e-39</td>\n",
       "</tr>\n",
       "</table>\n",
       "<table class=\"simpletable\">\n",
       "<tr>\n",
       "                         <td></td>                            <th>coef</th>     <th>std err</th>      <th>z</th>      <th>P>|z|</th>  <th>[0.025</th>    <th>0.975]</th>  \n",
       "</tr>\n",
       "<tr>\n",
       "  <th>Intercept</th>                                       <td>   -3.3197</td> <td>    0.140</td> <td>  -23.674</td> <td> 0.000</td> <td>   -3.595</td> <td>   -3.045</td>\n",
       "</tr>\n",
       "<tr>\n",
       "  <th>puntaje_sisben_3</th>                                <td>    0.0064</td> <td>    0.013</td> <td>    0.477</td> <td> 0.633</td> <td>   -0.020</td> <td>    0.033</td>\n",
       "</tr>\n",
       "<tr>\n",
       "  <th>puntaje_sisben_3:np.log(puntaje_sisben_3)</th>       <td>   -0.0029</td> <td>    0.003</td> <td>   -0.994</td> <td> 0.320</td> <td>   -0.009</td> <td>    0.003</td>\n",
       "</tr>\n",
       "<tr>\n",
       "  <th>indice_hacinamiento</th>                             <td>    0.1115</td> <td>    0.064</td> <td>    1.734</td> <td> 0.083</td> <td>   -0.015</td> <td>    0.237</td>\n",
       "</tr>\n",
       "<tr>\n",
       "  <th>indice_hacinamiento:np.log(indice_hacinamiento)</th> <td>   -0.0249</td> <td>    0.027</td> <td>   -0.930</td> <td> 0.353</td> <td>   -0.077</td> <td>    0.028</td>\n",
       "</tr>\n",
       "</table>"
      ],
      "text/plain": [
       "<class 'statsmodels.iolib.summary.Summary'>\n",
       "\"\"\"\n",
       "                           Logit Regression Results                           \n",
       "==============================================================================\n",
       "Dep. Variable:              REPITENTE   No. Observations:               192808\n",
       "Model:                          Logit   Df Residuals:                   192803\n",
       "Method:                           MLE   Df Model:                            4\n",
       "Date:                Mon, 04 Jul 2022   Pseudo R-squ.:                0.002992\n",
       "Time:                        19:09:27   Log-Likelihood:                -31066.\n",
       "converged:                       True   LL-Null:                       -31159.\n",
       "Covariance Type:            nonrobust   LLR p-value:                 3.038e-39\n",
       "===================================================================================================================\n",
       "                                                      coef    std err          z      P>|z|      [0.025      0.975]\n",
       "-------------------------------------------------------------------------------------------------------------------\n",
       "Intercept                                          -3.3197      0.140    -23.674      0.000      -3.595      -3.045\n",
       "puntaje_sisben_3                                    0.0064      0.013      0.477      0.633      -0.020       0.033\n",
       "puntaje_sisben_3:np.log(puntaje_sisben_3)          -0.0029      0.003     -0.994      0.320      -0.009       0.003\n",
       "indice_hacinamiento                                 0.1115      0.064      1.734      0.083      -0.015       0.237\n",
       "indice_hacinamiento:np.log(indice_hacinamiento)    -0.0249      0.027     -0.930      0.353      -0.077       0.028\n",
       "===================================================================================================================\n",
       "\"\"\""
      ]
     },
     "execution_count": 35,
     "metadata": {},
     "output_type": "execute_result"
    }
   ],
   "source": [
    "model= smf.logit(formula=formula, data= X_cons).fit()\n",
    "model.summary()"
   ]
  },
  {
   "cell_type": "code",
   "execution_count": 36,
   "id": "214cdfa4-974e-4109-aade-2b1771ea15b4",
   "metadata": {},
   "outputs": [
    {
     "data": {
      "text/plain": [
       "puntaje_sisben_3                                   0.633359\n",
       "puntaje_sisben_3:np.log(puntaje_sisben_3)          0.320271\n",
       "indice_hacinamiento                                0.082994\n",
       "indice_hacinamiento:np.log(indice_hacinamiento)    0.352510\n",
       "dtype: float64"
      ]
     },
     "execution_count": 36,
     "metadata": {},
     "output_type": "execute_result"
    }
   ],
   "source": [
    "model.pvalues[model.pvalues > 0.05]"
   ]
  },
  {
   "cell_type": "markdown",
   "id": "9043d888-6d6e-4f40-be60-075450a1795b",
   "metadata": {},
   "source": [
    "-------------------------"
   ]
  },
  {
   "cell_type": "markdown",
   "id": "e039aab8-cbde-4326-a08e-26f43bc875bb",
   "metadata": {},
   "source": [
    "### Number III: Outliers \n",
    "For the purpose of detecting outliers we will use two methods. Based on the same reference as in the assumptions, we consider the Cooks distance and the rule of thumb of three std."
   ]
  },
  {
   "cell_type": "code",
   "execution_count": 37,
   "id": "1ed4d9fe-1007-4325-b4d5-449267cb006b",
   "metadata": {},
   "outputs": [],
   "source": [
    "all_variables = variables + categorias\n",
    "y = df['REPITENTE']\n",
    "X = df[all_variables]\n"
   ]
  },
  {
   "cell_type": "code",
   "execution_count": 38,
   "id": "5c2d7c23-55f6-4704-befc-c07e41761921",
   "metadata": {},
   "outputs": [
    {
     "data": {
      "text/html": [
       "<table class=\"simpletable\">\n",
       "<caption>Generalized Linear Model Regression Results</caption>\n",
       "<tr>\n",
       "  <th>Dep. Variable:</th>       <td>REPITENTE</td>    <th>  No. Observations:  </th>  <td>192808</td> \n",
       "</tr>\n",
       "<tr>\n",
       "  <th>Model:</th>                  <td>GLM</td>       <th>  Df Residuals:      </th>  <td>192796</td> \n",
       "</tr>\n",
       "<tr>\n",
       "  <th>Model Family:</th>        <td>Binomial</td>     <th>  Df Model:          </th>  <td>    11</td> \n",
       "</tr>\n",
       "<tr>\n",
       "  <th>Link Function:</th>         <td>Logit</td>      <th>  Scale:             </th> <td>  1.0000</td>\n",
       "</tr>\n",
       "<tr>\n",
       "  <th>Method:</th>                <td>IRLS</td>       <th>  Log-Likelihood:    </th> <td> -32185.</td>\n",
       "</tr>\n",
       "<tr>\n",
       "  <th>Date:</th>            <td>Mon, 04 Jul 2022</td> <th>  Deviance:          </th> <td>  64370.</td>\n",
       "</tr>\n",
       "<tr>\n",
       "  <th>Time:</th>                <td>19:09:28</td>     <th>  Pearson chi2:      </th> <td>2.47e+05</td>\n",
       "</tr>\n",
       "<tr>\n",
       "  <th>No. Iterations:</th>          <td>7</td>        <th>  Pseudo R-squ. (CS):</th> <td>-0.01070</td>\n",
       "</tr>\n",
       "<tr>\n",
       "  <th>Covariance Type:</th>     <td>nonrobust</td>    <th>                     </th>     <td> </td>   \n",
       "</tr>\n",
       "</table>\n",
       "<table class=\"simpletable\">\n",
       "<tr>\n",
       "           <td></td>              <th>coef</th>     <th>std err</th>      <th>z</th>      <th>P>|z|</th>  <th>[0.025</th>    <th>0.975]</th>  \n",
       "</tr>\n",
       "<tr>\n",
       "  <th>puntaje_sisben_3</th>    <td>   -0.0272</td> <td>    0.001</td> <td>  -37.112</td> <td> 0.000</td> <td>   -0.029</td> <td>   -0.026</td>\n",
       "</tr>\n",
       "<tr>\n",
       "  <th>indice_hacinamiento</th> <td>   -0.2540</td> <td>    0.008</td> <td>  -31.076</td> <td> 0.000</td> <td>   -0.270</td> <td>   -0.238</td>\n",
       "</tr>\n",
       "<tr>\n",
       "  <th>GENERO</th>              <td>    0.0713</td> <td>    0.023</td> <td>    3.152</td> <td> 0.002</td> <td>    0.027</td> <td>    0.116</td>\n",
       "</tr>\n",
       "<tr>\n",
       "  <th>POB_VICT_CONF</th>       <td>    0.0507</td> <td>    0.060</td> <td>    0.853</td> <td> 0.394</td> <td>   -0.066</td> <td>    0.167</td>\n",
       "</tr>\n",
       "<tr>\n",
       "  <th>TIPO_DISCAPACIDAD</th>   <td>    0.2725</td> <td>    0.054</td> <td>    5.001</td> <td> 0.000</td> <td>    0.166</td> <td>    0.379</td>\n",
       "</tr>\n",
       "<tr>\n",
       "  <th>CODIGO_JORNADA</th>      <td>   -0.2202</td> <td>    0.010</td> <td>  -22.348</td> <td> 0.000</td> <td>   -0.240</td> <td>   -0.201</td>\n",
       "</tr>\n",
       "<tr>\n",
       "  <th>DIR_NUM_LOCALIDAD</th>   <td>   -0.0231</td> <td>    0.002</td> <td>  -10.870</td> <td> 0.000</td> <td>   -0.027</td> <td>   -0.019</td>\n",
       "</tr>\n",
       "<tr>\n",
       "  <th>todos_servicios_Pub</th> <td>   -0.4117</td> <td>    0.027</td> <td>  -15.097</td> <td> 0.000</td> <td>   -0.465</td> <td>   -0.358</td>\n",
       "</tr>\n",
       "<tr>\n",
       "  <th>teneviv</th>             <td>   -0.2061</td> <td>    0.014</td> <td>  -14.702</td> <td> 0.000</td> <td>   -0.234</td> <td>   -0.179</td>\n",
       "</tr>\n",
       "<tr>\n",
       "  <th>computador</th>          <td>   -0.1172</td> <td>    0.039</td> <td>   -2.970</td> <td> 0.003</td> <td>   -0.195</td> <td>   -0.040</td>\n",
       "</tr>\n",
       "<tr>\n",
       "  <th>tiene_auto</th>          <td>   -0.0972</td> <td>    0.116</td> <td>   -0.837</td> <td> 0.402</td> <td>   -0.325</td> <td>    0.130</td>\n",
       "</tr>\n",
       "<tr>\n",
       "  <th>ES_BILINGUE</th>         <td>    0.1853</td> <td>    0.060</td> <td>    3.065</td> <td> 0.002</td> <td>    0.067</td> <td>    0.304</td>\n",
       "</tr>\n",
       "</table>"
      ],
      "text/plain": [
       "<class 'statsmodels.iolib.summary.Summary'>\n",
       "\"\"\"\n",
       "                 Generalized Linear Model Regression Results                  \n",
       "==============================================================================\n",
       "Dep. Variable:              REPITENTE   No. Observations:               192808\n",
       "Model:                            GLM   Df Residuals:                   192796\n",
       "Model Family:                Binomial   Df Model:                           11\n",
       "Link Function:                  Logit   Scale:                          1.0000\n",
       "Method:                          IRLS   Log-Likelihood:                -32185.\n",
       "Date:                Mon, 04 Jul 2022   Deviance:                       64370.\n",
       "Time:                        19:09:28   Pearson chi2:                 2.47e+05\n",
       "No. Iterations:                     7   Pseudo R-squ. (CS):           -0.01070\n",
       "Covariance Type:            nonrobust                                         \n",
       "=======================================================================================\n",
       "                          coef    std err          z      P>|z|      [0.025      0.975]\n",
       "---------------------------------------------------------------------------------------\n",
       "puntaje_sisben_3       -0.0272      0.001    -37.112      0.000      -0.029      -0.026\n",
       "indice_hacinamiento    -0.2540      0.008    -31.076      0.000      -0.270      -0.238\n",
       "GENERO                  0.0713      0.023      3.152      0.002       0.027       0.116\n",
       "POB_VICT_CONF           0.0507      0.060      0.853      0.394      -0.066       0.167\n",
       "TIPO_DISCAPACIDAD       0.2725      0.054      5.001      0.000       0.166       0.379\n",
       "CODIGO_JORNADA         -0.2202      0.010    -22.348      0.000      -0.240      -0.201\n",
       "DIR_NUM_LOCALIDAD      -0.0231      0.002    -10.870      0.000      -0.027      -0.019\n",
       "todos_servicios_Pub    -0.4117      0.027    -15.097      0.000      -0.465      -0.358\n",
       "teneviv                -0.2061      0.014    -14.702      0.000      -0.234      -0.179\n",
       "computador             -0.1172      0.039     -2.970      0.003      -0.195      -0.040\n",
       "tiene_auto             -0.0972      0.116     -0.837      0.402      -0.325       0.130\n",
       "ES_BILINGUE             0.1853      0.060      3.065      0.002       0.067       0.304\n",
       "=======================================================================================\n",
       "\"\"\""
      ]
     },
     "execution_count": 38,
     "metadata": {},
     "output_type": "execute_result"
    }
   ],
   "source": [
    "logit_results = sm.GLM(y, X, family=sm.families.Binomial()).fit()\n",
    "logit_results.summary()"
   ]
  },
  {
   "cell_type": "code",
   "execution_count": 39,
   "id": "85d8eb91-c616-4626-9c89-d395cef1823b",
   "metadata": {},
   "outputs": [],
   "source": [
    "# Get influence measures\n",
    "influence = logit_results.get_influence()"
   ]
  },
  {
   "cell_type": "code",
   "execution_count": 40,
   "id": "fb2d541f-d145-489a-b96e-e4c9945579de",
   "metadata": {},
   "outputs": [],
   "source": [
    "# Obtain summary df of influence measures\n",
    "summ_df = influence.summary_frame()\n",
    "# Filter summary df to Cook's distance values only\n",
    "diagnosis_df = summ_df[['cooks_d']]\n",
    "\n",
    "# Set Cook's distance threshold\n",
    "cook_threshold = 4 / len(X)"
   ]
  },
  {
   "cell_type": "code",
   "execution_count": 41,
   "id": "4e6cde19-b2fb-49ff-9afa-9ab680ebaadc",
   "metadata": {},
   "outputs": [
    {
     "name": "stderr",
     "output_type": "stream",
     "text": [
      "<ipython-input-41-915f4f9d121e>:2: SettingWithCopyWarning: \n",
      "A value is trying to be set on a copy of a slice from a DataFrame.\n",
      "Try using .loc[row_indexer,col_indexer] = value instead\n",
      "\n",
      "See the caveats in the documentation: https://pandas.pydata.org/pandas-docs/stable/user_guide/indexing.html#returning-a-view-versus-a-copy\n",
      "  diagnosis_df['std_resid'] = stats.zscore(logit_results.resid_pearson)\n",
      "<ipython-input-41-915f4f9d121e>:3: SettingWithCopyWarning: \n",
      "A value is trying to be set on a copy of a slice from a DataFrame.\n",
      "Try using .loc[row_indexer,col_indexer] = value instead\n",
      "\n",
      "See the caveats in the documentation: https://pandas.pydata.org/pandas-docs/stable/user_guide/indexing.html#returning-a-view-versus-a-copy\n",
      "  diagnosis_df['std_resid'] = diagnosis_df['std_resid'].apply(lambda x: np.abs(x))\n"
     ]
    }
   ],
   "source": [
    "# Append absolute standardized residual values \n",
    "diagnosis_df['std_resid'] = stats.zscore(logit_results.resid_pearson)\n",
    "diagnosis_df['std_resid'] = diagnosis_df['std_resid'].apply(lambda x: np.abs(x))"
   ]
  },
  {
   "cell_type": "code",
   "execution_count": 42,
   "id": "e17db6a2-629f-453f-a68d-1d4d62d537c6",
   "metadata": {},
   "outputs": [],
   "source": [
    "# Find observations which are BOTH outlier (std dev > 3) and highly influential\n",
    "extreme = diagnosis_df[(diagnosis_df['cooks_d'] > cook_threshold) & \n",
    "                       (diagnosis_df['std_resid'] > 3)]"
   ]
  },
  {
   "cell_type": "code",
   "execution_count": 43,
   "id": "bcea628a-d15f-4c8e-b26e-371d7ddb2cfa",
   "metadata": {},
   "outputs": [
    {
     "data": {
      "text/html": [
       "<div>\n",
       "<style scoped>\n",
       "    .dataframe tbody tr th:only-of-type {\n",
       "        vertical-align: middle;\n",
       "    }\n",
       "\n",
       "    .dataframe tbody tr th {\n",
       "        vertical-align: top;\n",
       "    }\n",
       "\n",
       "    .dataframe thead th {\n",
       "        text-align: right;\n",
       "    }\n",
       "</style>\n",
       "<table border=\"1\" class=\"dataframe\">\n",
       "  <thead>\n",
       "    <tr style=\"text-align: right;\">\n",
       "      <th></th>\n",
       "      <th>cooks_d</th>\n",
       "      <th>std_resid</th>\n",
       "    </tr>\n",
       "  </thead>\n",
       "  <tbody>\n",
       "    <tr>\n",
       "      <th>235820</th>\n",
       "      <td>0.001470</td>\n",
       "      <td>6.522330</td>\n",
       "    </tr>\n",
       "    <tr>\n",
       "      <th>414298</th>\n",
       "      <td>0.001461</td>\n",
       "      <td>6.052294</td>\n",
       "    </tr>\n",
       "    <tr>\n",
       "      <th>130471</th>\n",
       "      <td>0.001380</td>\n",
       "      <td>6.216804</td>\n",
       "    </tr>\n",
       "    <tr>\n",
       "      <th>146865</th>\n",
       "      <td>0.001377</td>\n",
       "      <td>4.944202</td>\n",
       "    </tr>\n",
       "    <tr>\n",
       "      <th>151245</th>\n",
       "      <td>0.001343</td>\n",
       "      <td>5.251361</td>\n",
       "    </tr>\n",
       "  </tbody>\n",
       "</table>\n",
       "</div>"
      ],
      "text/plain": [
       "         cooks_d  std_resid\n",
       "235820  0.001470   6.522330\n",
       "414298  0.001461   6.052294\n",
       "130471  0.001380   6.216804\n",
       "146865  0.001377   4.944202\n",
       "151245  0.001343   5.251361"
      ]
     },
     "execution_count": 43,
     "metadata": {},
     "output_type": "execute_result"
    }
   ],
   "source": [
    "# Show top 5 highly influential outlier observations\n",
    "extreme.sort_values(\"cooks_d\", ascending=False).head()"
   ]
  },
  {
   "cell_type": "code",
   "execution_count": 44,
   "id": "dc6d147d-92af-49ef-92f5-9462dfa92aaa",
   "metadata": {},
   "outputs": [
    {
     "data": {
      "text/plain": [
       "(6643, 2)"
      ]
     },
     "execution_count": 44,
     "metadata": {},
     "output_type": "execute_result"
    }
   ],
   "source": [
    "extreme.shape"
   ]
  },
  {
   "cell_type": "code",
   "execution_count": 45,
   "id": "53089f6c-b2e3-4467-aaac-67b7821ced43",
   "metadata": {},
   "outputs": [
    {
     "data": {
      "text/plain": [
       "Int64Index([   411,   3363,   3555,   3627,   3650,   3651,   4160,   4267,\n",
       "              4281,   4341,\n",
       "            ...\n",
       "            454742, 454801, 454809, 454908, 454926, 454939, 455440, 455545,\n",
       "            455770, 455791],\n",
       "           dtype='int64', length=6643)"
      ]
     },
     "execution_count": 45,
     "metadata": {},
     "output_type": "execute_result"
    }
   ],
   "source": [
    "extreme.index"
   ]
  },
  {
   "cell_type": "code",
   "execution_count": 46,
   "id": "28137ae7-d226-42d4-b9df-10379545c19d",
   "metadata": {},
   "outputs": [
    {
     "data": {
      "text/plain": [
       "Int64Index([   297,    298,    299,    305,    307,    308,    309,    310,\n",
       "               311,    312,\n",
       "            ...\n",
       "            464805, 465049, 465757, 465764, 466865, 466875, 466878, 466881,\n",
       "            466883, 466894],\n",
       "           dtype='int64', length=192808)"
      ]
     },
     "execution_count": 46,
     "metadata": {},
     "output_type": "execute_result"
    }
   ],
   "source": [
    "df.index"
   ]
  },
  {
   "cell_type": "code",
   "execution_count": 47,
   "id": "e2fc4b98-12b7-4dfa-bd2c-5ef3f4dc219e",
   "metadata": {},
   "outputs": [],
   "source": [
    "# Delete undesirable outliers\n",
    "df = df.loc[~df.index.isin(extreme.index)]"
   ]
  },
  {
   "cell_type": "code",
   "execution_count": 48,
   "id": "7197d457-fb5b-4cfc-8e92-3c4d79f0b511",
   "metadata": {},
   "outputs": [
    {
     "data": {
      "text/plain": [
       "Int64Index([   297,    298,    299,    305,    307,    308,    309,    310,\n",
       "               311,    312,\n",
       "            ...\n",
       "            464805, 465049, 465757, 465764, 466865, 466875, 466878, 466881,\n",
       "            466883, 466894],\n",
       "           dtype='int64', length=186165)"
      ]
     },
     "execution_count": 48,
     "metadata": {},
     "output_type": "execute_result"
    }
   ],
   "source": [
    "df.index"
   ]
  },
  {
   "cell_type": "markdown",
   "id": "5f6230bf-6a8c-4e70-89da-36ec0d3f3ece",
   "metadata": {},
   "source": [
    "---------------\n"
   ]
  },
  {
   "cell_type": "markdown",
   "id": "285b5231-f9a0-4e1d-aa48-0e0073b53b8c",
   "metadata": {},
   "source": [
    "## Number IV: Absence of Multicolinearility"
   ]
  },
  {
   "cell_type": "markdown",
   "id": "383e2790-141b-454e-8aec-1d1b64e95e66",
   "metadata": {},
   "source": [
    " ### Continuous variables\n",
    " From the graph below it is clear that no continuous variable presents multilinearity with each other"
   ]
  },
  {
   "cell_type": "code",
   "execution_count": 49,
   "id": "2b533151-aa42-42ef-8373-273b56739a47",
   "metadata": {},
   "outputs": [
    {
     "name": "stderr",
     "output_type": "stream",
     "text": [
      "<ipython-input-49-5d64253ecffd>:4: DeprecationWarning: `np.bool` is a deprecated alias for the builtin `bool`. To silence this warning, use `bool` by itself. Doing this will not modify any behavior and is safe. If you specifically wanted the numpy scalar type, use `np.bool_` here.\n",
      "Deprecated in NumPy 1.20; for more details and guidance: https://numpy.org/devdocs/release/1.20.0-notes.html#deprecations\n",
      "  mask = np.triu(np.ones_like(df[variables].corr(), dtype=np.bool))\n"
     ]
    },
    {
     "data": {
      "image/png": "[encoded data removed]",
      "text/plain": [
       "<Figure size 1296x648 with 2 Axes>"
      ]
     },
     "metadata": {
      "needs_background": "light"
     },
     "output_type": "display_data"
    }
   ],
   "source": [
    "plt.figure(figsize=(18, 9))\n",
    "# define the mask to set the values in the upper triangle to True\n",
    "\n",
    "mask = np.triu(np.ones_like(df[variables].corr(), dtype=np.bool))\n",
    "heatmap = sns.heatmap(df[variables].corr(), mask=mask, vmin=-1, vmax=1, annot=True, cmap='BrBG')\n",
    "heatmap.set_title('Triangle Correlation Heatmap', fontdict={'fontsize':18}, pad=16);"
   ]
  },
  {
   "cell_type": "code",
   "execution_count": 50,
   "id": "ca0cdd62-9b9d-405e-aaa0-6987cd9a14aa",
   "metadata": {},
   "outputs": [
    {
     "data": {
      "text/html": [
       "<div>\n",
       "<style scoped>\n",
       "    .dataframe tbody tr th:only-of-type {\n",
       "        vertical-align: middle;\n",
       "    }\n",
       "\n",
       "    .dataframe tbody tr th {\n",
       "        vertical-align: top;\n",
       "    }\n",
       "\n",
       "    .dataframe thead th {\n",
       "        text-align: right;\n",
       "    }\n",
       "</style>\n",
       "<table border=\"1\" class=\"dataframe\">\n",
       "  <thead>\n",
       "    <tr style=\"text-align: right;\">\n",
       "      <th></th>\n",
       "      <th>variables</th>\n",
       "      <th>VIF</th>\n",
       "    </tr>\n",
       "  </thead>\n",
       "  <tbody>\n",
       "    <tr>\n",
       "      <th>0</th>\n",
       "      <td>puntaje_sisben_3</td>\n",
       "      <td>2.439818</td>\n",
       "    </tr>\n",
       "    <tr>\n",
       "      <th>1</th>\n",
       "      <td>indice_hacinamiento</td>\n",
       "      <td>2.439820</td>\n",
       "    </tr>\n",
       "  </tbody>\n",
       "</table>\n",
       "</div>"
      ],
      "text/plain": [
       "             variables       VIF\n",
       "0     puntaje_sisben_3  2.439818\n",
       "1  indice_hacinamiento  2.439820"
      ]
     },
     "execution_count": 50,
     "metadata": {},
     "output_type": "execute_result"
    }
   ],
   "source": [
    "from statsmodels.stats.outliers_influence import variance_inflation_factor\n",
    "# Use variance inflation factor to identify any significant multi-collinearity\n",
    "def calc_vif(df):\n",
    "    vif = pd.DataFrame()\n",
    "    vif[\"variables\"] = df.columns\n",
    "    vif[\"VIF\"] = [variance_inflation_factor(df.values, i) for i in range(df.shape[1])]\n",
    "    return(vif)\n",
    "\n",
    "calc_vif(df[variables])"
   ]
  },
  {
   "cell_type": "code",
   "execution_count": 51,
   "id": "c94029ef-ef68-4716-89c5-1460cdd82025",
   "metadata": {},
   "outputs": [],
   "source": [
    "aux_multico = []\n",
    "multi_df = calc_vif(df[variables])\n",
    "for i in range(len(multi_df)):\n",
    "    name = multi_df['variables'][i]\n",
    "    value= multi_df['VIF'][i]\n",
    "    if value >= 5: # The statndard rule to discard a variable is: VIF >5\n",
    "        aux_multico.append(name)\n",
    "variables = list(set(variables) - set(aux_multico))"
   ]
  },
  {
   "cell_type": "code",
   "execution_count": 52,
   "id": "a3a22c34-8a1a-49f9-ad45-d5caf74c9ac7",
   "metadata": {},
   "outputs": [
    {
     "data": {
      "text/plain": [
       "['indice_hacinamiento', 'puntaje_sisben_3']"
      ]
     },
     "execution_count": 52,
     "metadata": {},
     "output_type": "execute_result"
    }
   ],
   "source": [
    "variables"
   ]
  },
  {
   "cell_type": "markdown",
   "id": "5173407b-8e42-40ea-b6f9-b693634ab0da",
   "metadata": {},
   "source": [
    "## Number V: Independence of Observations for categorical Data (since continuous ones were treated already)\n",
    "In this case the more appropiate thing to do is run a Chi-Squared test between all the categorical predictores and see which pairs are plausible."
   ]
  },
  {
   "cell_type": "code",
   "execution_count": 53,
   "id": "3f5b2080-40bf-4794-b826-2639b85580cb",
   "metadata": {},
   "outputs": [],
   "source": [
    "def puntaje(x , categorias):\n",
    "    pun= 0\n",
    "    for i in categorias:\n",
    "        crosstab = pd.crosstab(x, df[i])\n",
    "        chi2, p, dof, ex = stats.chi2_contingency(crosstab)\n",
    "        if p > 0.05:\n",
    "            pun += 1\n",
    "    return pun"
   ]
  },
  {
   "cell_type": "code",
   "execution_count": 54,
   "id": "eb37e719-3b2f-4406-b88b-11472a76d1d3",
   "metadata": {},
   "outputs": [
    {
     "data": {
      "text/html": [
       "<div>\n",
       "<style scoped>\n",
       "    .dataframe tbody tr th:only-of-type {\n",
       "        vertical-align: middle;\n",
       "    }\n",
       "\n",
       "    .dataframe tbody tr th {\n",
       "        vertical-align: top;\n",
       "    }\n",
       "\n",
       "    .dataframe thead th {\n",
       "        text-align: right;\n",
       "    }\n",
       "</style>\n",
       "<table border=\"1\" class=\"dataframe\">\n",
       "  <thead>\n",
       "    <tr style=\"text-align: right;\">\n",
       "      <th></th>\n",
       "      <th>Category</th>\n",
       "      <th>counts</th>\n",
       "    </tr>\n",
       "  </thead>\n",
       "  <tbody>\n",
       "    <tr>\n",
       "      <th>0</th>\n",
       "      <td>GENERO</td>\n",
       "      <td>6</td>\n",
       "    </tr>\n",
       "    <tr>\n",
       "      <th>2</th>\n",
       "      <td>TIPO_DISCAPACIDAD</td>\n",
       "      <td>4</td>\n",
       "    </tr>\n",
       "    <tr>\n",
       "      <th>1</th>\n",
       "      <td>POB_VICT_CONF</td>\n",
       "      <td>3</td>\n",
       "    </tr>\n",
       "    <tr>\n",
       "      <th>9</th>\n",
       "      <td>ES_BILINGUE</td>\n",
       "      <td>3</td>\n",
       "    </tr>\n",
       "    <tr>\n",
       "      <th>7</th>\n",
       "      <td>computador</td>\n",
       "      <td>2</td>\n",
       "    </tr>\n",
       "    <tr>\n",
       "      <th>8</th>\n",
       "      <td>tiene_auto</td>\n",
       "      <td>2</td>\n",
       "    </tr>\n",
       "    <tr>\n",
       "      <th>5</th>\n",
       "      <td>todos_servicios_Pub</td>\n",
       "      <td>1</td>\n",
       "    </tr>\n",
       "    <tr>\n",
       "      <th>6</th>\n",
       "      <td>teneviv</td>\n",
       "      <td>1</td>\n",
       "    </tr>\n",
       "    <tr>\n",
       "      <th>3</th>\n",
       "      <td>CODIGO_JORNADA</td>\n",
       "      <td>0</td>\n",
       "    </tr>\n",
       "    <tr>\n",
       "      <th>4</th>\n",
       "      <td>DIR_NUM_LOCALIDAD</td>\n",
       "      <td>0</td>\n",
       "    </tr>\n",
       "  </tbody>\n",
       "</table>\n",
       "</div>"
      ],
      "text/plain": [
       "              Category  counts\n",
       "0               GENERO       6\n",
       "2    TIPO_DISCAPACIDAD       4\n",
       "1        POB_VICT_CONF       3\n",
       "9          ES_BILINGUE       3\n",
       "7           computador       2\n",
       "8           tiene_auto       2\n",
       "5  todos_servicios_Pub       1\n",
       "6              teneviv       1\n",
       "3       CODIGO_JORNADA       0\n",
       "4    DIR_NUM_LOCALIDAD       0"
      ]
     },
     "execution_count": 54,
     "metadata": {},
     "output_type": "execute_result"
    }
   ],
   "source": [
    "independent = pd.DataFrame(columns = ['Category', 'counts'])\n",
    "cats = categorias\n",
    "counts = []\n",
    "for j in categorias:\n",
    "    counts.append(puntaje(df[j], categorias));\n",
    "   \n",
    "independent['Category'] = categorias\n",
    "independent['counts'] = counts\n",
    "independent = independent.sort_values(by = 'counts', ascending = False)\n",
    "independent"
   ]
  },
  {
   "cell_type": "code",
   "execution_count": 55,
   "id": "078bd540-9e2f-4c81-86a0-40c81bcd49e8",
   "metadata": {},
   "outputs": [
    {
     "data": {
      "text/html": [
       "<div>\n",
       "<style scoped>\n",
       "    .dataframe tbody tr th:only-of-type {\n",
       "        vertical-align: middle;\n",
       "    }\n",
       "\n",
       "    .dataframe tbody tr th {\n",
       "        vertical-align: top;\n",
       "    }\n",
       "\n",
       "    .dataframe thead th {\n",
       "        text-align: right;\n",
       "    }\n",
       "</style>\n",
       "<table border=\"1\" class=\"dataframe\">\n",
       "  <thead>\n",
       "    <tr style=\"text-align: right;\">\n",
       "      <th></th>\n",
       "      <th>Category</th>\n",
       "      <th>counts</th>\n",
       "      <th>Below</th>\n",
       "    </tr>\n",
       "  </thead>\n",
       "  <tbody>\n",
       "    <tr>\n",
       "      <th>0</th>\n",
       "      <td>GENERO</td>\n",
       "      <td>6</td>\n",
       "      <td>TIPO_DISCAPACIDAD</td>\n",
       "    </tr>\n",
       "    <tr>\n",
       "      <th>2</th>\n",
       "      <td>TIPO_DISCAPACIDAD</td>\n",
       "      <td>4</td>\n",
       "      <td>POB_VICT_CONF</td>\n",
       "    </tr>\n",
       "    <tr>\n",
       "      <th>1</th>\n",
       "      <td>POB_VICT_CONF</td>\n",
       "      <td>3</td>\n",
       "      <td>ES_BILINGUE</td>\n",
       "    </tr>\n",
       "    <tr>\n",
       "      <th>9</th>\n",
       "      <td>ES_BILINGUE</td>\n",
       "      <td>3</td>\n",
       "      <td>computador</td>\n",
       "    </tr>\n",
       "    <tr>\n",
       "      <th>7</th>\n",
       "      <td>computador</td>\n",
       "      <td>2</td>\n",
       "      <td>tiene_auto</td>\n",
       "    </tr>\n",
       "    <tr>\n",
       "      <th>8</th>\n",
       "      <td>tiene_auto</td>\n",
       "      <td>2</td>\n",
       "      <td>todos_servicios_Pub</td>\n",
       "    </tr>\n",
       "    <tr>\n",
       "      <th>5</th>\n",
       "      <td>todos_servicios_Pub</td>\n",
       "      <td>1</td>\n",
       "      <td>teneviv</td>\n",
       "    </tr>\n",
       "    <tr>\n",
       "      <th>6</th>\n",
       "      <td>teneviv</td>\n",
       "      <td>1</td>\n",
       "      <td>CODIGO_JORNADA</td>\n",
       "    </tr>\n",
       "    <tr>\n",
       "      <th>3</th>\n",
       "      <td>CODIGO_JORNADA</td>\n",
       "      <td>0</td>\n",
       "      <td>DIR_NUM_LOCALIDAD</td>\n",
       "    </tr>\n",
       "    <tr>\n",
       "      <th>4</th>\n",
       "      <td>DIR_NUM_LOCALIDAD</td>\n",
       "      <td>0</td>\n",
       "      <td>NaN</td>\n",
       "    </tr>\n",
       "  </tbody>\n",
       "</table>\n",
       "</div>"
      ],
      "text/plain": [
       "              Category  counts                Below\n",
       "0               GENERO       6    TIPO_DISCAPACIDAD\n",
       "2    TIPO_DISCAPACIDAD       4        POB_VICT_CONF\n",
       "1        POB_VICT_CONF       3          ES_BILINGUE\n",
       "9          ES_BILINGUE       3           computador\n",
       "7           computador       2           tiene_auto\n",
       "8           tiene_auto       2  todos_servicios_Pub\n",
       "5  todos_servicios_Pub       1              teneviv\n",
       "6              teneviv       1       CODIGO_JORNADA\n",
       "3       CODIGO_JORNADA       0    DIR_NUM_LOCALIDAD\n",
       "4    DIR_NUM_LOCALIDAD       0                  NaN"
      ]
     },
     "execution_count": 55,
     "metadata": {},
     "output_type": "execute_result"
    }
   ],
   "source": [
    "independent['Below'] = independent['Category'].shift(-1)\n",
    "independent"
   ]
  },
  {
   "cell_type": "code",
   "execution_count": 56,
   "id": "83ac7e40-727d-4eba-92f5-276dc3a51873",
   "metadata": {},
   "outputs": [],
   "source": [
    "independent = independent.reset_index()"
   ]
  },
  {
   "cell_type": "code",
   "execution_count": 57,
   "id": "11df092f-e65d-4f14-8606-d9ad7b45fff7",
   "metadata": {},
   "outputs": [],
   "source": [
    "vals = []\n",
    "for i in range(len(independent['Category'])-1):\n",
    "    crosstab = pd.crosstab(df[independent['Category'][i]], df[independent['Below'][i]])\n",
    "    chi2, p, dof, ex = stats.chi2_contingency(crosstab)\n",
    "    vals.append(p)    "
   ]
  },
  {
   "cell_type": "code",
   "execution_count": 58,
   "id": "c31ed58d-59ce-4a86-a79b-dad963ed2175",
   "metadata": {},
   "outputs": [],
   "source": [
    "vals.append(1)"
   ]
  },
  {
   "cell_type": "code",
   "execution_count": 59,
   "id": "84ade5b0-cdfb-4117-b012-6a8c3f8cd92e",
   "metadata": {},
   "outputs": [],
   "source": [
    "independent['p_values'] = vals"
   ]
  },
  {
   "cell_type": "code",
   "execution_count": 60,
   "id": "ac40f501-5bfe-413c-9e9b-703a2eb828c8",
   "metadata": {},
   "outputs": [
    {
     "data": {
      "text/html": [
       "<div>\n",
       "<style scoped>\n",
       "    .dataframe tbody tr th:only-of-type {\n",
       "        vertical-align: middle;\n",
       "    }\n",
       "\n",
       "    .dataframe tbody tr th {\n",
       "        vertical-align: top;\n",
       "    }\n",
       "\n",
       "    .dataframe thead th {\n",
       "        text-align: right;\n",
       "    }\n",
       "</style>\n",
       "<table border=\"1\" class=\"dataframe\">\n",
       "  <thead>\n",
       "    <tr style=\"text-align: right;\">\n",
       "      <th></th>\n",
       "      <th>index</th>\n",
       "      <th>Category</th>\n",
       "      <th>counts</th>\n",
       "      <th>Below</th>\n",
       "      <th>p_values</th>\n",
       "    </tr>\n",
       "  </thead>\n",
       "  <tbody>\n",
       "    <tr>\n",
       "      <th>0</th>\n",
       "      <td>0</td>\n",
       "      <td>GENERO</td>\n",
       "      <td>6</td>\n",
       "      <td>TIPO_DISCAPACIDAD</td>\n",
       "      <td>1.549392e-69</td>\n",
       "    </tr>\n",
       "    <tr>\n",
       "      <th>1</th>\n",
       "      <td>2</td>\n",
       "      <td>TIPO_DISCAPACIDAD</td>\n",
       "      <td>4</td>\n",
       "      <td>POB_VICT_CONF</td>\n",
       "      <td>2.104256e-01</td>\n",
       "    </tr>\n",
       "    <tr>\n",
       "      <th>2</th>\n",
       "      <td>1</td>\n",
       "      <td>POB_VICT_CONF</td>\n",
       "      <td>3</td>\n",
       "      <td>ES_BILINGUE</td>\n",
       "      <td>7.383036e-01</td>\n",
       "    </tr>\n",
       "    <tr>\n",
       "      <th>3</th>\n",
       "      <td>9</td>\n",
       "      <td>ES_BILINGUE</td>\n",
       "      <td>3</td>\n",
       "      <td>computador</td>\n",
       "      <td>1.196565e-46</td>\n",
       "    </tr>\n",
       "    <tr>\n",
       "      <th>4</th>\n",
       "      <td>7</td>\n",
       "      <td>computador</td>\n",
       "      <td>2</td>\n",
       "      <td>tiene_auto</td>\n",
       "      <td>0.000000e+00</td>\n",
       "    </tr>\n",
       "    <tr>\n",
       "      <th>5</th>\n",
       "      <td>8</td>\n",
       "      <td>tiene_auto</td>\n",
       "      <td>2</td>\n",
       "      <td>todos_servicios_Pub</td>\n",
       "      <td>7.773914e-53</td>\n",
       "    </tr>\n",
       "    <tr>\n",
       "      <th>6</th>\n",
       "      <td>5</td>\n",
       "      <td>todos_servicios_Pub</td>\n",
       "      <td>1</td>\n",
       "      <td>teneviv</td>\n",
       "      <td>0.000000e+00</td>\n",
       "    </tr>\n",
       "    <tr>\n",
       "      <th>7</th>\n",
       "      <td>6</td>\n",
       "      <td>teneviv</td>\n",
       "      <td>1</td>\n",
       "      <td>CODIGO_JORNADA</td>\n",
       "      <td>3.046252e-42</td>\n",
       "    </tr>\n",
       "    <tr>\n",
       "      <th>8</th>\n",
       "      <td>3</td>\n",
       "      <td>CODIGO_JORNADA</td>\n",
       "      <td>0</td>\n",
       "      <td>DIR_NUM_LOCALIDAD</td>\n",
       "      <td>0.000000e+00</td>\n",
       "    </tr>\n",
       "    <tr>\n",
       "      <th>9</th>\n",
       "      <td>4</td>\n",
       "      <td>DIR_NUM_LOCALIDAD</td>\n",
       "      <td>0</td>\n",
       "      <td>NaN</td>\n",
       "      <td>1.000000e+00</td>\n",
       "    </tr>\n",
       "  </tbody>\n",
       "</table>\n",
       "</div>"
      ],
      "text/plain": [
       "   index             Category  counts                Below      p_values\n",
       "0      0               GENERO       6    TIPO_DISCAPACIDAD  1.549392e-69\n",
       "1      2    TIPO_DISCAPACIDAD       4        POB_VICT_CONF  2.104256e-01\n",
       "2      1        POB_VICT_CONF       3          ES_BILINGUE  7.383036e-01\n",
       "3      9          ES_BILINGUE       3           computador  1.196565e-46\n",
       "4      7           computador       2           tiene_auto  0.000000e+00\n",
       "5      8           tiene_auto       2  todos_servicios_Pub  7.773914e-53\n",
       "6      5  todos_servicios_Pub       1              teneviv  0.000000e+00\n",
       "7      6              teneviv       1       CODIGO_JORNADA  3.046252e-42\n",
       "8      3       CODIGO_JORNADA       0    DIR_NUM_LOCALIDAD  0.000000e+00\n",
       "9      4    DIR_NUM_LOCALIDAD       0                  NaN  1.000000e+00"
      ]
     },
     "execution_count": 60,
     "metadata": {},
     "output_type": "execute_result"
    }
   ],
   "source": [
    "independent"
   ]
  },
  {
   "cell_type": "code",
   "execution_count": 61,
   "id": "64e7d27e-a6fd-4366-bf1f-5e23b7380e1d",
   "metadata": {},
   "outputs": [
    {
     "name": "stdout",
     "output_type": "stream",
     "text": [
      "0\n"
     ]
    }
   ],
   "source": [
    "cat_iid = []\n",
    "for i in range(independent.shape[0]):\n",
    "    cat_iid.append(independent['Category'][i])\n",
    "    if independent['p_values'][i] <= 0.05:\n",
    "        print(i)\n",
    "        break"
   ]
  },
  {
   "cell_type": "code",
   "execution_count": 62,
   "id": "a23c5213-b586-4067-b4ce-5dd6b541eb45",
   "metadata": {},
   "outputs": [
    {
     "data": {
      "text/plain": [
       "['GENERO']"
      ]
     },
     "execution_count": 62,
     "metadata": {},
     "output_type": "execute_result"
    }
   ],
   "source": [
    "cat_iid"
   ]
  },
  {
   "cell_type": "code",
   "execution_count": 63,
   "id": "9a782643-2fa3-4071-9a43-d1b8cac7f783",
   "metadata": {},
   "outputs": [],
   "source": [
    "categorias = cat_iid"
   ]
  },
  {
   "cell_type": "markdown",
   "id": "5df83520-3425-488f-ab33-929e213c96a9",
   "metadata": {},
   "source": [
    "------------------"
   ]
  },
  {
   "cell_type": "markdown",
   "id": "a6510ac6-3691-4d2b-80e9-f93606fa97c8",
   "metadata": {},
   "source": [
    "### Run Models"
   ]
  },
  {
   "cell_type": "code",
   "execution_count": 64,
   "id": "1021edf7-53aa-43a9-ac26-5a1e8b82a4c0",
   "metadata": {},
   "outputs": [],
   "source": [
    "def formula_maker(dependiente, variables, categorias):\n",
    "    formula = f'{dependiente} ~ '\n",
    "    for variable in variables:\n",
    "        if formula != f'{dependiente} ~ ':\n",
    "            formula += ' + '\n",
    "        formula += f'{variable}'\n",
    "    for categoria in categorias:\n",
    "        if formula != f'{dependiente} ~ ':\n",
    "            formula += ' + '\n",
    "        formula += f'C({categoria})'\n",
    "    return formula  "
   ]
  },
  {
   "cell_type": "code",
   "execution_count": 65,
   "id": "69e57629-7f27-46f7-8a3a-6f5bbf876324",
   "metadata": {},
   "outputs": [
    {
     "name": "stdout",
     "output_type": "stream",
     "text": [
      "Optimization terminated successfully.\n",
      "         Current function value: 0.020075\n",
      "         Iterations 11\n"
     ]
    },
    {
     "data": {
      "text/html": [
       "<table class=\"simpletable\">\n",
       "<caption>Logit Regression Results</caption>\n",
       "<tr>\n",
       "  <th>Dep. Variable:</th>       <td>REPITENTE</td>    <th>  No. Observations:  </th>  <td>186165</td> \n",
       "</tr>\n",
       "<tr>\n",
       "  <th>Model:</th>                 <td>Logit</td>      <th>  Df Residuals:      </th>  <td>186161</td> \n",
       "</tr>\n",
       "<tr>\n",
       "  <th>Method:</th>                 <td>MLE</td>       <th>  Df Model:          </th>  <td>     3</td> \n",
       "</tr>\n",
       "<tr>\n",
       "  <th>Date:</th>            <td>Mon, 04 Jul 2022</td> <th>  Pseudo R-squ.:     </th>  <td>0.1768</td> \n",
       "</tr>\n",
       "<tr>\n",
       "  <th>Time:</th>                <td>19:09:36</td>     <th>  Log-Likelihood:    </th> <td> -3737.2</td>\n",
       "</tr>\n",
       "<tr>\n",
       "  <th>converged:</th>             <td>True</td>       <th>  LL-Null:           </th> <td> -4539.9</td>\n",
       "</tr>\n",
       "<tr>\n",
       "  <th>Covariance Type:</th>     <td>nonrobust</td>    <th>  LLR p-value:       </th>  <td> 0.000</td> \n",
       "</tr>\n",
       "</table>\n",
       "<table class=\"simpletable\">\n",
       "<tr>\n",
       "           <td></td>              <th>coef</th>     <th>std err</th>      <th>z</th>      <th>P>|z|</th>  <th>[0.025</th>    <th>0.975]</th>  \n",
       "</tr>\n",
       "<tr>\n",
       "  <th>Intercept</th>           <td>   -0.2411</td> <td>    0.163</td> <td>   -1.475</td> <td> 0.140</td> <td>   -0.561</td> <td>    0.079</td>\n",
       "</tr>\n",
       "<tr>\n",
       "  <th>C(GENERO)[T.1]</th>      <td>    0.5294</td> <td>    0.080</td> <td>    6.606</td> <td> 0.000</td> <td>    0.372</td> <td>    0.687</td>\n",
       "</tr>\n",
       "<tr>\n",
       "  <th>indice_hacinamiento</th> <td>   -0.7819</td> <td>    0.042</td> <td>  -18.787</td> <td> 0.000</td> <td>   -0.863</td> <td>   -0.700</td>\n",
       "</tr>\n",
       "<tr>\n",
       "  <th>puntaje_sisben_3</th>    <td>   -0.1254</td> <td>    0.004</td> <td>  -31.326</td> <td> 0.000</td> <td>   -0.133</td> <td>   -0.118</td>\n",
       "</tr>\n",
       "</table><br/><br/>Possibly complete quasi-separation: A fraction 0.15 of observations can be<br/>perfectly predicted. This might indicate that there is complete<br/>quasi-separation. In this case some parameters will not be identified."
      ],
      "text/plain": [
       "<class 'statsmodels.iolib.summary.Summary'>\n",
       "\"\"\"\n",
       "                           Logit Regression Results                           \n",
       "==============================================================================\n",
       "Dep. Variable:              REPITENTE   No. Observations:               186165\n",
       "Model:                          Logit   Df Residuals:                   186161\n",
       "Method:                           MLE   Df Model:                            3\n",
       "Date:                Mon, 04 Jul 2022   Pseudo R-squ.:                  0.1768\n",
       "Time:                        19:09:36   Log-Likelihood:                -3737.2\n",
       "converged:                       True   LL-Null:                       -4539.9\n",
       "Covariance Type:            nonrobust   LLR p-value:                     0.000\n",
       "=======================================================================================\n",
       "                          coef    std err          z      P>|z|      [0.025      0.975]\n",
       "---------------------------------------------------------------------------------------\n",
       "Intercept              -0.2411      0.163     -1.475      0.140      -0.561       0.079\n",
       "C(GENERO)[T.1]          0.5294      0.080      6.606      0.000       0.372       0.687\n",
       "indice_hacinamiento    -0.7819      0.042    -18.787      0.000      -0.863      -0.700\n",
       "puntaje_sisben_3       -0.1254      0.004    -31.326      0.000      -0.133      -0.118\n",
       "=======================================================================================\n",
       "\n",
       "Possibly complete quasi-separation: A fraction 0.15 of observations can be\n",
       "perfectly predicted. This might indicate that there is complete\n",
       "quasi-separation. In this case some parameters will not be identified.\n",
       "\"\"\""
      ]
     },
     "execution_count": 65,
     "metadata": {},
     "output_type": "execute_result"
    }
   ],
   "source": [
    "formula=formula_maker('REPITENTE', variables, categorias)\n",
    "model= smf.logit(formula= formula, data= df).fit() # Add if method='bfgs' if singular Matrix appears\n",
    "model.summary()"
   ]
  },
  {
   "cell_type": "code",
   "execution_count": 66,
   "id": "e102e6d1-7e28-4018-80a6-97aef09dde90",
   "metadata": {},
   "outputs": [
    {
     "name": "stdout",
     "output_type": "stream",
     "text": [
      "Warning: Maximum number of iterations has been exceeded.\n",
      "         Current function value: 0.020083\n",
      "         Iterations: 35\n",
      "         Function evaluations: 43\n",
      "         Gradient evaluations: 43\n"
     ]
    },
    {
     "name": "stderr",
     "output_type": "stream",
     "text": [
      "/opt/conda/lib/python3.8/site-packages/statsmodels/base/model.py:604: ConvergenceWarning: Maximum Likelihood optimization failed to converge. Check mle_retvals\n",
      "  warnings.warn(\"Maximum Likelihood optimization failed to \"\n"
     ]
    },
    {
     "data": {
      "text/html": [
       "<table class=\"simpletable\">\n",
       "<caption>Logit Regression Results</caption>\n",
       "<tr>\n",
       "  <th>Dep. Variable:</th>       <td>REPITENTE</td>    <th>  No. Observations:  </th>  <td>186165</td> \n",
       "</tr>\n",
       "<tr>\n",
       "  <th>Model:</th>                 <td>Logit</td>      <th>  Df Residuals:      </th>  <td>186161</td> \n",
       "</tr>\n",
       "<tr>\n",
       "  <th>Method:</th>                 <td>MLE</td>       <th>  Df Model:          </th>  <td>     3</td> \n",
       "</tr>\n",
       "<tr>\n",
       "  <th>Date:</th>            <td>Mon, 04 Jul 2022</td> <th>  Pseudo R-squ.:     </th>  <td>0.1765</td> \n",
       "</tr>\n",
       "<tr>\n",
       "  <th>Time:</th>                <td>19:09:39</td>     <th>  Log-Likelihood:    </th> <td> -3738.8</td>\n",
       "</tr>\n",
       "<tr>\n",
       "  <th>converged:</th>             <td>False</td>      <th>  LL-Null:           </th> <td> -4539.9</td>\n",
       "</tr>\n",
       "<tr>\n",
       "  <th>Covariance Type:</th>     <td>nonrobust</td>    <th>  LLR p-value:       </th>  <td> 0.000</td> \n",
       "</tr>\n",
       "</table>\n",
       "<table class=\"simpletable\">\n",
       "<tr>\n",
       "           <td></td>              <th>coef</th>     <th>std err</th>      <th>z</th>      <th>P>|z|</th>  <th>[0.025</th>    <th>0.975]</th>  \n",
       "</tr>\n",
       "<tr>\n",
       "  <th>Intercept</th>           <td>    0.0379</td> <td>    0.162</td> <td>    0.234</td> <td> 0.815</td> <td>   -0.280</td> <td>    0.356</td>\n",
       "</tr>\n",
       "<tr>\n",
       "  <th>C(GENERO)[T.1]</th>      <td>    0.4531</td> <td>    0.079</td> <td>    5.749</td> <td> 0.000</td> <td>    0.299</td> <td>    0.608</td>\n",
       "</tr>\n",
       "<tr>\n",
       "  <th>indice_hacinamiento</th> <td>   -0.8385</td> <td>    0.042</td> <td>  -19.834</td> <td> 0.000</td> <td>   -0.921</td> <td>   -0.756</td>\n",
       "</tr>\n",
       "<tr>\n",
       "  <th>puntaje_sisben_3</th>    <td>   -0.1286</td> <td>    0.004</td> <td>  -32.041</td> <td> 0.000</td> <td>   -0.136</td> <td>   -0.121</td>\n",
       "</tr>\n",
       "</table><br/><br/>Possibly complete quasi-separation: A fraction 0.16 of observations can be<br/>perfectly predicted. This might indicate that there is complete<br/>quasi-separation. In this case some parameters will not be identified."
      ],
      "text/plain": [
       "<class 'statsmodels.iolib.summary.Summary'>\n",
       "\"\"\"\n",
       "                           Logit Regression Results                           \n",
       "==============================================================================\n",
       "Dep. Variable:              REPITENTE   No. Observations:               186165\n",
       "Model:                          Logit   Df Residuals:                   186161\n",
       "Method:                           MLE   Df Model:                            3\n",
       "Date:                Mon, 04 Jul 2022   Pseudo R-squ.:                  0.1765\n",
       "Time:                        19:09:39   Log-Likelihood:                -3738.8\n",
       "converged:                      False   LL-Null:                       -4539.9\n",
       "Covariance Type:            nonrobust   LLR p-value:                     0.000\n",
       "=======================================================================================\n",
       "                          coef    std err          z      P>|z|      [0.025      0.975]\n",
       "---------------------------------------------------------------------------------------\n",
       "Intercept               0.0379      0.162      0.234      0.815      -0.280       0.356\n",
       "C(GENERO)[T.1]          0.4531      0.079      5.749      0.000       0.299       0.608\n",
       "indice_hacinamiento    -0.8385      0.042    -19.834      0.000      -0.921      -0.756\n",
       "puntaje_sisben_3       -0.1286      0.004    -32.041      0.000      -0.136      -0.121\n",
       "=======================================================================================\n",
       "\n",
       "Possibly complete quasi-separation: A fraction 0.16 of observations can be\n",
       "perfectly predicted. This might indicate that there is complete\n",
       "quasi-separation. In this case some parameters will not be identified.\n",
       "\"\"\""
      ]
     },
     "execution_count": 66,
     "metadata": {},
     "output_type": "execute_result"
    }
   ],
   "source": [
    "formula=formula_maker('REPITENTE', variables, categorias)\n",
    "model= smf.logit(formula= formula, data= df).fit(method = 'bfgs') # Add if method='bfgs' if singular Matrix appears\n",
    "model.summary()"
   ]
  },
  {
   "cell_type": "code",
   "execution_count": 67,
   "id": "83fd4e4c-9d20-4f82-8dc2-5dcdb07cdecc",
   "metadata": {},
   "outputs": [],
   "source": [
    "all_vars = variables + categorias"
   ]
  },
  {
   "cell_type": "code",
   "execution_count": 68,
   "id": "98018bf5-51c7-42c6-9b02-5c6c39648123",
   "metadata": {},
   "outputs": [],
   "source": [
    "X = df[all_vars]"
   ]
  },
  {
   "cell_type": "code",
   "execution_count": 69,
   "id": "6f2083be-537c-49b4-aaf8-9a2548da222c",
   "metadata": {},
   "outputs": [
    {
     "data": {
      "text/html": [
       "<div>\n",
       "<style scoped>\n",
       "    .dataframe tbody tr th:only-of-type {\n",
       "        vertical-align: middle;\n",
       "    }\n",
       "\n",
       "    .dataframe tbody tr th {\n",
       "        vertical-align: top;\n",
       "    }\n",
       "\n",
       "    .dataframe thead th {\n",
       "        text-align: right;\n",
       "    }\n",
       "</style>\n",
       "<table border=\"1\" class=\"dataframe\">\n",
       "  <thead>\n",
       "    <tr style=\"text-align: right;\">\n",
       "      <th></th>\n",
       "      <th>indice_hacinamiento</th>\n",
       "      <th>puntaje_sisben_3</th>\n",
       "      <th>GENERO</th>\n",
       "    </tr>\n",
       "  </thead>\n",
       "  <tbody>\n",
       "    <tr>\n",
       "      <th>297</th>\n",
       "      <td>3.500000</td>\n",
       "      <td>42.310001</td>\n",
       "      <td>0</td>\n",
       "    </tr>\n",
       "    <tr>\n",
       "      <th>298</th>\n",
       "      <td>1.000000</td>\n",
       "      <td>55.910000</td>\n",
       "      <td>0</td>\n",
       "    </tr>\n",
       "    <tr>\n",
       "      <th>299</th>\n",
       "      <td>1.333008</td>\n",
       "      <td>38.230000</td>\n",
       "      <td>0</td>\n",
       "    </tr>\n",
       "    <tr>\n",
       "      <th>305</th>\n",
       "      <td>5.000000</td>\n",
       "      <td>20.590000</td>\n",
       "      <td>1</td>\n",
       "    </tr>\n",
       "    <tr>\n",
       "      <th>307</th>\n",
       "      <td>1.500000</td>\n",
       "      <td>75.120003</td>\n",
       "      <td>1</td>\n",
       "    </tr>\n",
       "    <tr>\n",
       "      <th>...</th>\n",
       "      <td>...</td>\n",
       "      <td>...</td>\n",
       "      <td>...</td>\n",
       "    </tr>\n",
       "    <tr>\n",
       "      <th>466875</th>\n",
       "      <td>5.000000</td>\n",
       "      <td>34.200001</td>\n",
       "      <td>1</td>\n",
       "    </tr>\n",
       "    <tr>\n",
       "      <th>466878</th>\n",
       "      <td>5.000000</td>\n",
       "      <td>34.200001</td>\n",
       "      <td>0</td>\n",
       "    </tr>\n",
       "    <tr>\n",
       "      <th>466881</th>\n",
       "      <td>4.000000</td>\n",
       "      <td>18.190001</td>\n",
       "      <td>0</td>\n",
       "    </tr>\n",
       "    <tr>\n",
       "      <th>466883</th>\n",
       "      <td>5.000000</td>\n",
       "      <td>27.030001</td>\n",
       "      <td>1</td>\n",
       "    </tr>\n",
       "    <tr>\n",
       "      <th>466894</th>\n",
       "      <td>2.500000</td>\n",
       "      <td>57.270000</td>\n",
       "      <td>1</td>\n",
       "    </tr>\n",
       "  </tbody>\n",
       "</table>\n",
       "<p>186165 rows × 3 columns</p>\n",
       "</div>"
      ],
      "text/plain": [
       "        indice_hacinamiento  puntaje_sisben_3  GENERO\n",
       "297                3.500000         42.310001       0\n",
       "298                1.000000         55.910000       0\n",
       "299                1.333008         38.230000       0\n",
       "305                5.000000         20.590000       1\n",
       "307                1.500000         75.120003       1\n",
       "...                     ...               ...     ...\n",
       "466875             5.000000         34.200001       1\n",
       "466878             5.000000         34.200001       0\n",
       "466881             4.000000         18.190001       0\n",
       "466883             5.000000         27.030001       1\n",
       "466894             2.500000         57.270000       1\n",
       "\n",
       "[186165 rows x 3 columns]"
      ]
     },
     "execution_count": 69,
     "metadata": {},
     "output_type": "execute_result"
    }
   ],
   "source": [
    "X"
   ]
  },
  {
   "cell_type": "code",
   "execution_count": 70,
   "id": "6f384db6-9606-4dfc-b96d-949580724e5d",
   "metadata": {},
   "outputs": [
    {
     "data": {
      "text/plain": [
       "297       0\n",
       "298       0\n",
       "299       0\n",
       "305       0\n",
       "307       0\n",
       "         ..\n",
       "466875    0\n",
       "466878    0\n",
       "466881    0\n",
       "466883    0\n",
       "466894    0\n",
       "Name: REPITENTE, Length: 186165, dtype: uint8"
      ]
     },
     "execution_count": 70,
     "metadata": {},
     "output_type": "execute_result"
    }
   ],
   "source": [
    "y = df['REPITENTE']\n",
    "y"
   ]
  },
  {
   "cell_type": "code",
   "execution_count": 71,
   "id": "3615243d-327d-4f2b-be14-8745ec2e5190",
   "metadata": {},
   "outputs": [
    {
     "data": {
      "text/html": [
       "<div>\n",
       "<style scoped>\n",
       "    .dataframe tbody tr th:only-of-type {\n",
       "        vertical-align: middle;\n",
       "    }\n",
       "\n",
       "    .dataframe tbody tr th {\n",
       "        vertical-align: top;\n",
       "    }\n",
       "\n",
       "    .dataframe thead th {\n",
       "        text-align: right;\n",
       "    }\n",
       "</style>\n",
       "<table border=\"1\" class=\"dataframe\">\n",
       "  <thead>\n",
       "    <tr style=\"text-align: right;\">\n",
       "      <th></th>\n",
       "      <th>indice_hacinamiento</th>\n",
       "      <th>puntaje_sisben_3</th>\n",
       "      <th>GENERO_1</th>\n",
       "    </tr>\n",
       "  </thead>\n",
       "  <tbody>\n",
       "    <tr>\n",
       "      <th>297</th>\n",
       "      <td>3.5</td>\n",
       "      <td>42.310001</td>\n",
       "      <td>0</td>\n",
       "    </tr>\n",
       "    <tr>\n",
       "      <th>298</th>\n",
       "      <td>1.0</td>\n",
       "      <td>55.910000</td>\n",
       "      <td>0</td>\n",
       "    </tr>\n",
       "  </tbody>\n",
       "</table>\n",
       "</div>"
      ],
      "text/plain": [
       "     indice_hacinamiento  puntaje_sisben_3  GENERO_1\n",
       "297                  3.5         42.310001         0\n",
       "298                  1.0         55.910000         0"
      ]
     },
     "execution_count": 71,
     "metadata": {},
     "output_type": "execute_result"
    }
   ],
   "source": [
    "X = pd.get_dummies(X, columns=categorias, drop_first=True)\n",
    "X.head(2)"
   ]
  },
  {
   "cell_type": "code",
   "execution_count": 72,
   "id": "65ebeee5-242d-4e10-84d4-559f418f9191",
   "metadata": {},
   "outputs": [
    {
     "data": {
      "text/html": [
       "<table class=\"simpletable\">\n",
       "<caption>Generalized Linear Model Regression Results</caption>\n",
       "<tr>\n",
       "  <th>Dep. Variable:</th>       <td>REPITENTE</td>    <th>  No. Observations:  </th>  <td>186165</td> \n",
       "</tr>\n",
       "<tr>\n",
       "  <th>Model:</th>                  <td>GLM</td>       <th>  Df Residuals:      </th>  <td>186163</td> \n",
       "</tr>\n",
       "<tr>\n",
       "  <th>Model Family:</th>        <td>Binomial</td>     <th>  Df Model:          </th>  <td>     1</td> \n",
       "</tr>\n",
       "<tr>\n",
       "  <th>Link Function:</th>         <td>Logit</td>      <th>  Scale:             </th> <td>  1.0000</td>\n",
       "</tr>\n",
       "<tr>\n",
       "  <th>Method:</th>                <td>IRLS</td>       <th>  Log-Likelihood:    </th> <td> -3738.3</td>\n",
       "</tr>\n",
       "<tr>\n",
       "  <th>Date:</th>            <td>Mon, 04 Jul 2022</td> <th>  Deviance:          </th> <td>  7476.6</td>\n",
       "</tr>\n",
       "<tr>\n",
       "  <th>Time:</th>                <td>19:09:40</td>     <th>  Pearson chi2:      </th> <td>9.00e+04</td>\n",
       "</tr>\n",
       "<tr>\n",
       "  <th>No. Iterations:</th>         <td>10</td>        <th>  Pseudo R-squ. (CS):</th> <td>0.008575</td>\n",
       "</tr>\n",
       "<tr>\n",
       "  <th>Covariance Type:</th>     <td>nonrobust</td>    <th>                     </th>     <td> </td>   \n",
       "</tr>\n",
       "</table>\n",
       "<table class=\"simpletable\">\n",
       "<tr>\n",
       "           <td></td>              <th>coef</th>     <th>std err</th>      <th>z</th>      <th>P>|z|</th>  <th>[0.025</th>    <th>0.975]</th>  \n",
       "</tr>\n",
       "<tr>\n",
       "  <th>indice_hacinamiento</th> <td>   -0.8314</td> <td>    0.025</td> <td>  -32.891</td> <td> 0.000</td> <td>   -0.881</td> <td>   -0.782</td>\n",
       "</tr>\n",
       "<tr>\n",
       "  <th>puntaje_sisben_3</th>    <td>   -0.1291</td> <td>    0.003</td> <td>  -41.601</td> <td> 0.000</td> <td>   -0.135</td> <td>   -0.123</td>\n",
       "</tr>\n",
       "<tr>\n",
       "  <th>GENERO_1</th>            <td>    0.4949</td> <td>    0.076</td> <td>    6.517</td> <td> 0.000</td> <td>    0.346</td> <td>    0.644</td>\n",
       "</tr>\n",
       "</table>"
      ],
      "text/plain": [
       "<class 'statsmodels.iolib.summary.Summary'>\n",
       "\"\"\"\n",
       "                 Generalized Linear Model Regression Results                  \n",
       "==============================================================================\n",
       "Dep. Variable:              REPITENTE   No. Observations:               186165\n",
       "Model:                            GLM   Df Residuals:                   186163\n",
       "Model Family:                Binomial   Df Model:                            1\n",
       "Link Function:                  Logit   Scale:                          1.0000\n",
       "Method:                          IRLS   Log-Likelihood:                -3738.3\n",
       "Date:                Mon, 04 Jul 2022   Deviance:                       7476.6\n",
       "Time:                        19:09:40   Pearson chi2:                 9.00e+04\n",
       "No. Iterations:                    10   Pseudo R-squ. (CS):           0.008575\n",
       "Covariance Type:            nonrobust                                         \n",
       "=======================================================================================\n",
       "                          coef    std err          z      P>|z|      [0.025      0.975]\n",
       "---------------------------------------------------------------------------------------\n",
       "indice_hacinamiento    -0.8314      0.025    -32.891      0.000      -0.881      -0.782\n",
       "puntaje_sisben_3       -0.1291      0.003    -41.601      0.000      -0.135      -0.123\n",
       "GENERO_1                0.4949      0.076      6.517      0.000       0.346       0.644\n",
       "=======================================================================================\n",
       "\"\"\""
      ]
     },
     "execution_count": 72,
     "metadata": {},
     "output_type": "execute_result"
    }
   ],
   "source": [
    "logit_results = sm.GLM(y, X, family=sm.families.Binomial()).fit()\n",
    "logit_results.summary()"
   ]
  },
  {
   "cell_type": "code",
   "execution_count": 73,
   "id": "ed147483-d9da-4947-b176-c5bd93477c86",
   "metadata": {},
   "outputs": [
    {
     "data": {
      "text/plain": [
       "['indice_hacinamiento', 'puntaje_sisben_3']"
      ]
     },
     "execution_count": 73,
     "metadata": {},
     "output_type": "execute_result"
    }
   ],
   "source": [
    "variables"
   ]
  },
  {
   "cell_type": "code",
   "execution_count": 74,
   "id": "cf1a60ca-dd42-4530-b484-82d7417bd9a0",
   "metadata": {},
   "outputs": [
    {
     "data": {
      "text/plain": [
       "['GENERO']"
      ]
     },
     "execution_count": 74,
     "metadata": {},
     "output_type": "execute_result"
    }
   ],
   "source": [
    "categorias"
   ]
  },
  {
   "cell_type": "markdown",
   "id": "acf725ab-b40d-4530-badf-1c42607cc789",
   "metadata": {},
   "source": [
    "### Conclusions"
   ]
  }
 ],
 "metadata": {
  "kernelspec": {
   "display_name": "Python 3",
   "language": "python",
   "name": "python3"
  },
  "language_info": {
   "codemirror_mode": {
    "name": "ipython",
    "version": 3
   },
   "file_extension": ".py",
   "mimetype": "text/x-python",
   "name": "python",
   "nbconvert_exporter": "python",
   "pygments_lexer": "ipython3",
   "version": "3.8.8"
  }
 },
 "nbformat": 4,
 "nbformat_minor": 5
}
