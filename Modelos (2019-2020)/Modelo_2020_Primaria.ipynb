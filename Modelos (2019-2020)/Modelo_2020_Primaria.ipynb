{
 "cells": [
  {
   "cell_type": "markdown",
   "id": "2edacf94-9f25-49f6-83c6-1079a19c7fb5",
   "metadata": {},
   "source": [
    "# Model of primary in 2020"
   ]
  },
  {
   "cell_type": "markdown",
   "id": "ea7b5b18-762a-415a-9569-9ae400e8b6a0",
   "metadata": {},
   "source": [
    "This Notebook is divided into three parts. \n",
    "* Part A: Feature selection to run the models accordingly to Logistic Regression assumptions.Then, we will run our first Models.\n",
    "* Part B: We will add the 'actionable' features that were not adequate in Part A, and which we consider important.\n",
    "* Part C: Do Train/ Test and MAPE metrcis to compare the models. Perform some outliers detection to improve performance."
   ]
  },
  {
   "cell_type": "code",
   "execution_count": 1,
   "id": "3371c7e1-c396-45e8-9dff-bb503005c937",
   "metadata": {},
   "outputs": [],
   "source": [
    "# Scientific libraries\n",
    "import numpy as np\n",
    "import pandas as pd\n",
    "import seaborn as sns\n",
    "from matplotlib import pyplot as plt\n",
    "import pingouin as pg\n",
    "\n",
    "\n",
    "# model libraries \n",
    "from scipy.stats import chi2_contingency, norm\n",
    "from scipy.stats import chi2_contingency, ttest_ind\n",
    "import researchpy as rp\n",
    "import scipy.stats as stats\n",
    "# Model runners\n",
    "import statsmodels.api as sm\n",
    "import statsmodels.formula.api as smf\n",
    "import statsmodels.stats.outliers_influence\n",
    "\n",
    "# Metrics options\n",
    "from sklearn.metrics import roc_curve, auc\n",
    "\n",
    "# Plotlib options\n",
    "plt.rc(\"figure\", figsize=(16,8))\n",
    "plt.rc(\"font\", size=14)\n",
    "# Pandas options\n",
    "pd.options.display.max_columns = None"
   ]
  },
  {
   "cell_type": "code",
   "execution_count": 2,
   "id": "d484a479-2278-4014-b608-b3fdb8a247a2",
   "metadata": {},
   "outputs": [],
   "source": [
    "# Dictionary with the purpose of reducing memory size when loading the dataset.\n",
    "dict_tipos = {\n",
    "# SIMAT\n",
    "'ANO_INF':              'uint16',\n",
    "'CODIGO_DANE':          'uint64',\n",
    "'CODIGO_DANE_SEDE':     'uint64',\n",
    "'TIPO_DOCUMENTO':       'uint8',\n",
    "'NRO_DOCUMENTO':        'string',\n",
    "'DIRECCION_RESIDENCIA': 'string',\n",
    "'RES_DEPTO':            'uint8',\n",
    "'RES_MUN':              'uint16',\n",
    "'ESTRATO':              'uint8',\n",
    "'SISBEN':               'float16',\n",
    "'GENERO':               'uint8',\n",
    "'POB_VICT_CONF':        'uint8',\n",
    "'PROVIENE_SECTOR_PRIV': 'uint8',\n",
    "'PROVIENE_OTR_MUN':     'uint8',\n",
    "'TIPO_DISCAPACIDAD':    'uint8',\n",
    "'CAP_EXC':              'uint8',\n",
    "'CODIGO_ETNIA':         'uint16',\n",
    "'CODIGO_JORNADA':       'uint8',\n",
    "'CARACTER':             'uint8',\n",
    "'CODIGO_ESPECIALIDAD':  'uint8',\n",
    "'CODIGO_GRADO':         'int8',\n",
    "'CODIGO_METODOLOGIA':   'uint8',\n",
    "'REPITENTE':            'uint8',\n",
    "'SIT_ACAD_ANIO_ANT':    'uint8',\n",
    "'CON_ALUM_ANIO_ANT':    'uint8',\n",
    "'ZONA_RESI_ALU':        'uint8',\n",
    "'EDAD':                 'uint8',\n",
    "'NIVEL':                'uint8',\n",
    "'DIR_NUM_LOCALIDAD':    'uint8',\n",
    "'NIVEL_SISBEN':         'uint8',\n",
    "'GRADO_OVERAGE':        'uint8',\n",
    "'OVERAGE':              'uint8',\n",
    "# SISBEN\n",
    "'ficha':                'int64',\n",
    "'comuna':               'uint8',\n",
    "'barrio':               'uint32',\n",
    "'nombarrio':            'string',\n",
    "'direcc':               'string',\n",
    "'vereda':               'uint8',\n",
    "'nomvereda':            'string',\n",
    "'vivienda':             'uint8',\n",
    "'pared':                'uint8',\n",
    "'piso':                 'uint8',\n",
    "'energia':              'uint8',\n",
    "'alcanta':              'uint8',\n",
    "'gas':                  'uint8',\n",
    "'telefono' :            'uint8',\n",
    "'basura' :              'uint8',\n",
    "'acueduc' :             'uint8',\n",
    "'estrato' :             'uint8',\n",
    "'elimbasura' :          'uint8',\n",
    "'tcuartosvi' :          'uint8',\n",
    "'thogar' :              'uint8',\n",
    "'recolec' :             'uint8',\n",
    "'tipdir' :              'uint8',\n",
    "'verifica' :            'uint8',\n",
    "'hogar' :               'uint8',\n",
    "'teneviv' :             'uint8',\n",
    "'tcuartos' :            'uint8',\n",
    "'tdormir' :             'uint8',\n",
    "'sanitar' :             'uint8',\n",
    "'usanitar' :            'uint8',\n",
    "'usosani' :             'uint8',\n",
    "'tsanitar' :            'uint8',\n",
    "'ducha' :               'uint8',\n",
    "'agua' :                'uint8',\n",
    "'llega' :               'uint8',\n",
    "'cuandi' :              'uint8',\n",
    "'suminis' :             'uint8',\n",
    "'cuanhoras' :           'uint8',\n",
    "'preparan' :            'uint8',\n",
    "'cocina' :              'uint8',\n",
    "'cocinan' :             'uint8',\n",
    "'alumbra' :             'uint8',\n",
    "'usotele' :             'uint8',\n",
    "'nevera' :              'uint8',\n",
    "'lavadora' :            'uint8',\n",
    "'tvcolor' :             'uint8',\n",
    "'tvcable' :             'uint8',\n",
    "'calenta' :             'uint8',\n",
    "'horno' :               'uint8',\n",
    "'aire' :                'uint8',\n",
    "'computador' :          'uint8',\n",
    "'equipo' :              'uint8',\n",
    "'moto' :                'uint8',\n",
    "'tractor' :             'uint8',\n",
    "'tiene_auto' :          'uint8',\n",
    "'bieraices':            'uint8',\n",
    "'tpersona' :            'uint8',\n",
    "'informan' :            'uint8',\n",
    "'orden' :               'uint8',\n",
    "'nucleo' :              'uint8',\n",
    "'parentes' :            'uint8',\n",
    "'tipodoc' :             'uint8',\n",
    "'documen':              'string',\n",
    "'sexo' :                'uint8',\n",
    "'estcivil' :            'uint8',\n",
    "'discapa' :             'uint8',\n",
    "'carnet' :              'uint8',\n",
    "'asiste' :              'uint8',\n",
    "'tipoesta' :            'uint8',\n",
    "'grado' :               'uint8',\n",
    "'nivel' :               'uint8',\n",
    "'activi' :              'uint8',\n",
    "'buscando' :            'uint8',\n",
    "'ingresos':             'int64',\n",
    "'edad':                 'uint8',\n",
    "'conyuvive':            'uint8',\n",
    "'hijosde':              'int8',\n",
    "'embaraza' :            'uint8',\n",
    "'extranjero' :          'uint8',\n",
    "'pagapor' :             'uint8',\n",
    "'percibe' :             'uint8',\n",
    "'serdomes' :            'uint8',\n",
    "'unigasto' :            'uint8',\n",
    "'area' :                'uint8',\n",
    "'nparentes':            'uint8',\n",
    "'puntaje_sisben_3':     'float32',\n",
    "'todos_servicios_Pub':  'uint8',\n",
    "'indice_hacinamiento':  'float16',\n",
    "# C-600  \n",
    "'ES_BILIGUE':           'int8',\n",
    "'TOTAL_DOCENTES':       'uint16',\n",
    "'TOTAL_ALUMNOS':        'uint16',\n",
    "'TOTAL_EQUIPO_COMPUTO': 'uint16',\n",
    "'TOTAL_DOCENTES_CON_TITULO':'uint8',\n",
    "# ICFES\n",
    "'num_presentaron_ICFES': 'uint8'\n",
    "  }\n",
    "\n",
    "\n"
   ]
  },
  {
   "cell_type": "code",
   "execution_count": 3,
   "id": "fc331e4e-bec9-4f67-9cdb-f416cefb50cf",
   "metadata": {},
   "outputs": [],
   "source": [
    "df = pd.read_csv('../data/3-oro/Merge_2020_ICFES_C600.csv' , index_col=0, dtype = dict_tipos)"
   ]
  },
  {
   "cell_type": "code",
   "execution_count": 4,
   "id": "50c2f253-d386-40e6-bc4a-a9d01e680303",
   "metadata": {},
   "outputs": [
    {
     "name": "stdout",
     "output_type": "stream",
     "text": [
      "<class 'pandas.core.frame.DataFrame'>\n",
      "Int64Index: 457047 entries, 0 to 457046\n",
      "Columns: 130 entries, ANO_INF to num_presentaron_ICFES\n",
      "dtypes: float16(2), float32(1), float64(4), int64(3), int8(2), object(2), string(5), uint16(6), uint32(1), uint64(2), uint8(102)\n",
      "memory usage: 115.1+ MB\n"
     ]
    }
   ],
   "source": [
    "df.info(show_counts = True)"
   ]
  },
  {
   "cell_type": "code",
   "execution_count": 5,
   "id": "76bb4439-928b-4d33-a215-cf82c9fee69a",
   "metadata": {},
   "outputs": [
    {
     "data": {
      "text/html": [
       "<div>\n",
       "<style scoped>\n",
       "    .dataframe tbody tr th:only-of-type {\n",
       "        vertical-align: middle;\n",
       "    }\n",
       "\n",
       "    .dataframe tbody tr th {\n",
       "        vertical-align: top;\n",
       "    }\n",
       "\n",
       "    .dataframe thead th {\n",
       "        text-align: right;\n",
       "    }\n",
       "</style>\n",
       "<table border=\"1\" class=\"dataframe\">\n",
       "  <thead>\n",
       "    <tr style=\"text-align: right;\">\n",
       "      <th></th>\n",
       "      <th>ANO_INF</th>\n",
       "      <th>CODIGO_DANE</th>\n",
       "      <th>CODIGO_DANE_SEDE</th>\n",
       "      <th>TIPO_DOCUMENTO</th>\n",
       "      <th>NRO_DOCUMENTO</th>\n",
       "      <th>DIRECCION_RESIDENCIA</th>\n",
       "      <th>RES_DEPTO</th>\n",
       "      <th>RES_MUN</th>\n",
       "      <th>ESTRATO</th>\n",
       "      <th>SISBEN</th>\n",
       "      <th>FECHA_NACIMIENTO</th>\n",
       "      <th>GENERO</th>\n",
       "      <th>POB_VICT_CONF</th>\n",
       "      <th>PROVIENE_SECTOR_PRIV</th>\n",
       "      <th>PROVIENE_OTR_MUN</th>\n",
       "      <th>TIPO_DISCAPACIDAD</th>\n",
       "      <th>CAP_EXC</th>\n",
       "      <th>CODIGO_ETNIA</th>\n",
       "      <th>CODIGO_JORNADA</th>\n",
       "      <th>CARACTER</th>\n",
       "      <th>CODIGO_ESPECIALIDAD</th>\n",
       "      <th>CODIGO_GRADO</th>\n",
       "      <th>CODIGO_METODOLOGIA</th>\n",
       "      <th>REPITENTE</th>\n",
       "      <th>SIT_ACAD_ANIO_ANT</th>\n",
       "      <th>CON_ALUM_ANIO_ANT</th>\n",
       "      <th>ZONA_RESI_ALU</th>\n",
       "      <th>EDAD</th>\n",
       "      <th>NIVEL</th>\n",
       "      <th>DIR_NUM_LOCALIDAD</th>\n",
       "      <th>NIVEL_SISBEN</th>\n",
       "      <th>GRADO_OVERAGE</th>\n",
       "      <th>OVERAGE</th>\n",
       "      <th>ficha</th>\n",
       "      <th>comuna</th>\n",
       "      <th>barrio</th>\n",
       "      <th>nombarrio</th>\n",
       "      <th>direcc</th>\n",
       "      <th>vereda</th>\n",
       "      <th>nomvereda</th>\n",
       "      <th>vivienda</th>\n",
       "      <th>pared</th>\n",
       "      <th>piso</th>\n",
       "      <th>energia</th>\n",
       "      <th>alcanta</th>\n",
       "      <th>gas</th>\n",
       "      <th>telefono</th>\n",
       "      <th>basura</th>\n",
       "      <th>acueduc</th>\n",
       "      <th>estrato</th>\n",
       "      <th>elimbasura</th>\n",
       "      <th>tcuartosvi</th>\n",
       "      <th>thogar</th>\n",
       "      <th>recolec</th>\n",
       "      <th>tipdir</th>\n",
       "      <th>verifica</th>\n",
       "      <th>hogar</th>\n",
       "      <th>teneviv</th>\n",
       "      <th>tcuartos</th>\n",
       "      <th>tdormir</th>\n",
       "      <th>sanitar</th>\n",
       "      <th>usanitar</th>\n",
       "      <th>usosani</th>\n",
       "      <th>tsanitar</th>\n",
       "      <th>ducha</th>\n",
       "      <th>agua</th>\n",
       "      <th>llega</th>\n",
       "      <th>cuandi</th>\n",
       "      <th>suminis</th>\n",
       "      <th>cuanhoras</th>\n",
       "      <th>preparan</th>\n",
       "      <th>cocina</th>\n",
       "      <th>cocinan</th>\n",
       "      <th>alumbra</th>\n",
       "      <th>usotele</th>\n",
       "      <th>nevera</th>\n",
       "      <th>lavadora</th>\n",
       "      <th>tvcolor</th>\n",
       "      <th>tvcable</th>\n",
       "      <th>calenta</th>\n",
       "      <th>horno</th>\n",
       "      <th>aire</th>\n",
       "      <th>computador</th>\n",
       "      <th>equipo</th>\n",
       "      <th>moto</th>\n",
       "      <th>tractor</th>\n",
       "      <th>tiene_auto</th>\n",
       "      <th>bieraices</th>\n",
       "      <th>tpersona</th>\n",
       "      <th>informan</th>\n",
       "      <th>orden</th>\n",
       "      <th>nucleo</th>\n",
       "      <th>parentes</th>\n",
       "      <th>tipodoc</th>\n",
       "      <th>sexo</th>\n",
       "      <th>estcivil</th>\n",
       "      <th>discapa</th>\n",
       "      <th>carnet</th>\n",
       "      <th>asiste</th>\n",
       "      <th>tipoesta</th>\n",
       "      <th>grado</th>\n",
       "      <th>nivel</th>\n",
       "      <th>activi</th>\n",
       "      <th>buscando</th>\n",
       "      <th>ingresos</th>\n",
       "      <th>edad</th>\n",
       "      <th>conyuvive</th>\n",
       "      <th>hijosde</th>\n",
       "      <th>embaraza</th>\n",
       "      <th>extranjero</th>\n",
       "      <th>pagapor</th>\n",
       "      <th>percibe</th>\n",
       "      <th>serdomes</th>\n",
       "      <th>unigasto</th>\n",
       "      <th>area</th>\n",
       "      <th>nparentes</th>\n",
       "      <th>puntaje_sisben_3</th>\n",
       "      <th>nivel_hacinamiento</th>\n",
       "      <th>todos_servicios_Pub</th>\n",
       "      <th>indice_hacinamiento</th>\n",
       "      <th>ES_BILINGUE</th>\n",
       "      <th>TOTAL_DOCENTES</th>\n",
       "      <th>TOTAL_ALUMNOS</th>\n",
       "      <th>TOTAL_EQUIPO_COMPUTO</th>\n",
       "      <th>ALUMN_POR_DOCENTE</th>\n",
       "      <th>COMPU_POR_ALUMN</th>\n",
       "      <th>TOTAL_DOCENTES_CON_TITULO</th>\n",
       "      <th>PROP_DOCENTES_CON_TITULO</th>\n",
       "      <th>promepuntaje</th>\n",
       "      <th>num_presentaron_ICFES</th>\n",
       "    </tr>\n",
       "  </thead>\n",
       "  <tbody>\n",
       "    <tr>\n",
       "      <th>0</th>\n",
       "      <td>2020</td>\n",
       "      <td>111001000078</td>\n",
       "      <td>111001000078</td>\n",
       "      <td>2</td>\n",
       "      <td>1000004716</td>\n",
       "      <td>CL 29 A SUR # 50 - 41 PL 2</td>\n",
       "      <td>11</td>\n",
       "      <td>1</td>\n",
       "      <td>3</td>\n",
       "      <td>29.0</td>\n",
       "      <td>2003-04-14</td>\n",
       "      <td>0</td>\n",
       "      <td>99</td>\n",
       "      <td>0</td>\n",
       "      <td>0</td>\n",
       "      <td>0</td>\n",
       "      <td>9</td>\n",
       "      <td>0</td>\n",
       "      <td>6</td>\n",
       "      <td>1</td>\n",
       "      <td>5</td>\n",
       "      <td>10</td>\n",
       "      <td>1</td>\n",
       "      <td>0</td>\n",
       "      <td>1</td>\n",
       "      <td>9</td>\n",
       "      <td>1</td>\n",
       "      <td>16</td>\n",
       "      <td>4</td>\n",
       "      <td>16</td>\n",
       "      <td>1</td>\n",
       "      <td>100</td>\n",
       "      <td>0</td>\n",
       "      <td>4304159</td>\n",
       "      <td>16</td>\n",
       "      <td>4407</td>\n",
       "      <td>ALCALA</td>\n",
       "      <td>CL  33 SUR  51 A  47 PI  1 CU  1</td>\n",
       "      <td>0</td>\n",
       "      <td>BARRIO ZONA URBANA</td>\n",
       "      <td>2</td>\n",
       "      <td>1</td>\n",
       "      <td>2</td>\n",
       "      <td>1</td>\n",
       "      <td>1</td>\n",
       "      <td>1</td>\n",
       "      <td>2</td>\n",
       "      <td>1</td>\n",
       "      <td>1</td>\n",
       "      <td>3</td>\n",
       "      <td>1</td>\n",
       "      <td>2</td>\n",
       "      <td>1</td>\n",
       "      <td>3</td>\n",
       "      <td>1</td>\n",
       "      <td>1</td>\n",
       "      <td>1</td>\n",
       "      <td>1</td>\n",
       "      <td>2</td>\n",
       "      <td>2</td>\n",
       "      <td>1</td>\n",
       "      <td>1</td>\n",
       "      <td>2</td>\n",
       "      <td>1</td>\n",
       "      <td>1</td>\n",
       "      <td>1</td>\n",
       "      <td>1</td>\n",
       "      <td>0</td>\n",
       "      <td>1</td>\n",
       "      <td>0</td>\n",
       "      <td>1</td>\n",
       "      <td>2</td>\n",
       "      <td>2</td>\n",
       "      <td>1</td>\n",
       "      <td>0</td>\n",
       "      <td>1</td>\n",
       "      <td>1</td>\n",
       "      <td>1</td>\n",
       "      <td>2</td>\n",
       "      <td>2</td>\n",
       "      <td>2</td>\n",
       "      <td>2</td>\n",
       "      <td>0</td>\n",
       "      <td>2</td>\n",
       "      <td>0</td>\n",
       "      <td>0</td>\n",
       "      <td>0</td>\n",
       "      <td>1</td>\n",
       "      <td>5</td>\n",
       "      <td>2</td>\n",
       "      <td>4</td>\n",
       "      <td>1</td>\n",
       "      <td>3</td>\n",
       "      <td>2</td>\n",
       "      <td>0</td>\n",
       "      <td>5</td>\n",
       "      <td>0</td>\n",
       "      <td>0</td>\n",
       "      <td>1</td>\n",
       "      <td>4</td>\n",
       "      <td>3</td>\n",
       "      <td>1</td>\n",
       "      <td>3</td>\n",
       "      <td>0</td>\n",
       "      <td>0</td>\n",
       "      <td>8</td>\n",
       "      <td>0</td>\n",
       "      <td>0</td>\n",
       "      <td>0</td>\n",
       "      <td>0</td>\n",
       "      <td>0</td>\n",
       "      <td>0</td>\n",
       "      <td>0</td>\n",
       "      <td>1</td>\n",
       "      <td>1</td>\n",
       "      <td>3</td>\n",
       "      <td>29.440001</td>\n",
       "      <td>Hacinamiento_medio</td>\n",
       "      <td>1</td>\n",
       "      <td>2.5</td>\n",
       "      <td>0</td>\n",
       "      <td>27</td>\n",
       "      <td>627</td>\n",
       "      <td>231</td>\n",
       "      <td>23.222222</td>\n",
       "      <td>0.368421</td>\n",
       "      <td>24</td>\n",
       "      <td>0.888889</td>\n",
       "      <td>262.909091</td>\n",
       "      <td>33</td>\n",
       "    </tr>\n",
       "  </tbody>\n",
       "</table>\n",
       "</div>"
      ],
      "text/plain": [
       "   ANO_INF   CODIGO_DANE  CODIGO_DANE_SEDE  TIPO_DOCUMENTO NRO_DOCUMENTO  \\\n",
       "0     2020  111001000078      111001000078               2    1000004716   \n",
       "\n",
       "         DIRECCION_RESIDENCIA  RES_DEPTO  RES_MUN  ESTRATO  SISBEN  \\\n",
       "0  CL 29 A SUR # 50 - 41 PL 2         11        1        3    29.0   \n",
       "\n",
       "  FECHA_NACIMIENTO  GENERO  POB_VICT_CONF  PROVIENE_SECTOR_PRIV  \\\n",
       "0       2003-04-14       0             99                     0   \n",
       "\n",
       "   PROVIENE_OTR_MUN  TIPO_DISCAPACIDAD  CAP_EXC  CODIGO_ETNIA  CODIGO_JORNADA  \\\n",
       "0                 0                  0        9             0               6   \n",
       "\n",
       "   CARACTER  CODIGO_ESPECIALIDAD  CODIGO_GRADO  CODIGO_METODOLOGIA  REPITENTE  \\\n",
       "0         1                    5            10                   1          0   \n",
       "\n",
       "   SIT_ACAD_ANIO_ANT  CON_ALUM_ANIO_ANT  ZONA_RESI_ALU  EDAD  NIVEL  \\\n",
       "0                  1                  9              1    16      4   \n",
       "\n",
       "   DIR_NUM_LOCALIDAD  NIVEL_SISBEN  GRADO_OVERAGE  OVERAGE    ficha  comuna  \\\n",
       "0                 16             1            100        0  4304159      16   \n",
       "\n",
       "   barrio nombarrio                            direcc  vereda  \\\n",
       "0    4407    ALCALA  CL  33 SUR  51 A  47 PI  1 CU  1       0   \n",
       "\n",
       "            nomvereda  vivienda  pared  piso  energia  alcanta  gas  telefono  \\\n",
       "0  BARRIO ZONA URBANA         2      1     2        1        1    1         2   \n",
       "\n",
       "   basura  acueduc  estrato  elimbasura  tcuartosvi  thogar  recolec  tipdir  \\\n",
       "0       1        1        3           1           2       1        3       1   \n",
       "\n",
       "   verifica  hogar  teneviv  tcuartos  tdormir  sanitar  usanitar  usosani  \\\n",
       "0         1      1        1         2        2        1         1        2   \n",
       "\n",
       "   tsanitar  ducha  agua  llega  cuandi  suminis  cuanhoras  preparan  cocina  \\\n",
       "0         1      1     1      1       0        1          0         1       2   \n",
       "\n",
       "   cocinan  alumbra  usotele  nevera  lavadora  tvcolor  tvcable  calenta  \\\n",
       "0        2        1        0       1         1        1        2        2   \n",
       "\n",
       "   horno  aire  computador  equipo  moto  tractor  tiene_auto  bieraices  \\\n",
       "0      2     2           0       2     0        0           0          1   \n",
       "\n",
       "   tpersona  informan  orden  nucleo  parentes  tipodoc  sexo  estcivil  \\\n",
       "0         5         2      4       1         3        2     0         5   \n",
       "\n",
       "   discapa  carnet  asiste  tipoesta  grado  nivel  activi  buscando  \\\n",
       "0        0       0       1         4      3      1       3         0   \n",
       "\n",
       "   ingresos  edad  conyuvive  hijosde  embaraza  extranjero  pagapor  percibe  \\\n",
       "0         0     8          0        0         0           0        0        0   \n",
       "\n",
       "   serdomes  unigasto  area  nparentes  puntaje_sisben_3  nivel_hacinamiento  \\\n",
       "0         0         1     1          3         29.440001  Hacinamiento_medio   \n",
       "\n",
       "   todos_servicios_Pub  indice_hacinamiento  ES_BILINGUE  TOTAL_DOCENTES  \\\n",
       "0                    1                  2.5            0              27   \n",
       "\n",
       "   TOTAL_ALUMNOS  TOTAL_EQUIPO_COMPUTO  ALUMN_POR_DOCENTE  COMPU_POR_ALUMN  \\\n",
       "0            627                   231          23.222222         0.368421   \n",
       "\n",
       "   TOTAL_DOCENTES_CON_TITULO  PROP_DOCENTES_CON_TITULO  promepuntaje  \\\n",
       "0                         24                  0.888889    262.909091   \n",
       "\n",
       "   num_presentaron_ICFES  \n",
       "0                     33  "
      ]
     },
     "execution_count": 5,
     "metadata": {},
     "output_type": "execute_result"
    }
   ],
   "source": [
    "df.head(1)"
   ]
  },
  {
   "cell_type": "code",
   "execution_count": 6,
   "id": "ced63666",
   "metadata": {},
   "outputs": [
    {
     "data": {
      "text/plain": [
       "99    442309\n",
       "1      13545\n",
       "10       409\n",
       "3        245\n",
       "9        187\n",
       "4        126\n",
       "2         97\n",
       "18        68\n",
       "17        40\n",
       "7          5\n",
       "20         5\n",
       "6          4\n",
       "12         2\n",
       "15         2\n",
       "8          1\n",
       "13         1\n",
       "21         1\n",
       "Name: POB_VICT_CONF, dtype: int64"
      ]
     },
     "execution_count": 6,
     "metadata": {},
     "output_type": "execute_result"
    }
   ],
   "source": [
    "df[\"POB_VICT_CONF\"].value_counts()"
   ]
  },
  {
   "cell_type": "code",
   "execution_count": 7,
   "id": "f14869c1",
   "metadata": {},
   "outputs": [],
   "source": [
    "dict_vict_recod = {\n",
    "    99: 0,\n",
    "    1: 1, \n",
    "    10: 1,\n",
    "    3: 1,\n",
    "    9: 1,\n",
    "    4: 1,\n",
    "    2: 1,\n",
    "    18: 1,\n",
    "    17: 1,\n",
    "    7: 1,\n",
    "    20: 1,\n",
    "    6: 1,\n",
    "    12: 1,\n",
    "    15: 1,\n",
    "    8: 1,\n",
    "    13: 1,\n",
    "    21: 1\n",
    "}"
   ]
  },
  {
   "cell_type": "code",
   "execution_count": 8,
   "id": "f75426a1",
   "metadata": {},
   "outputs": [],
   "source": [
    "df['POB_VICT_CONF'] = df['POB_VICT_CONF'].replace(dict_vict_recod)"
   ]
  },
  {
   "cell_type": "markdown",
   "id": "e6b4951f-69c6-4e58-a8a9-4a505506ae20",
   "metadata": {},
   "source": [
    "## Initial Variables (le borré ingresos y recategorice POB_VICT_CONF"
   ]
  },
  {
   "cell_type": "code",
   "execution_count": 9,
   "id": "0b813416-3f6e-4778-8326-c7760b9951d2",
   "metadata": {},
   "outputs": [],
   "source": [
    "# variables = ['EDAD',\n",
    "#             'GRADO_OVERAGE', #-> solo si no se incluye OVERAGE en Categoricas\n",
    "#             'estrato',\n",
    "#             'puntaje_sisben_3',\n",
    "#             'indice_hacinamiento', #-> solo si no se pone nivel_hacinamiento en Categorias\n",
    "#             #'TOTAL_DOCENTES',\n",
    "#             #'TOTAL_ALUMNOS',\n",
    "#             'TOTAL_EQUIPO_COMPUTO',\n",
    "#             'ALUMN_POR_DOCENTE',\n",
    "#             'COMPU_POR_ALUMN',\n",
    "#             'TOTAL_DOCENTES_CON_TITULO',\n",
    " #            'PROP_DOCENTES_CON_TITULO', #-> solo si no se incluye TOTAL_DOCENTES_CON_TITULO y TOTAL_ALUM al tiempo\n",
    "  #           'promepuntaje',\n",
    "   #          'num_presentaron_ICFES'\n",
    "    #        ]\n",
    "#\n",
    "#\n",
    "#categorias= ['GENERO',\n",
    " #            'POB_VICT_CONF',\n",
    "  #           'PROVIENE_SECTOR_PRIV',\n",
    "  #           'PROVIENE_OTR_MUN',\n",
    "  #           'TIPO_DISCAPACIDAD',\n",
    "  #           'CAP_EXC',\n",
    "  #           'CODIGO_ETNIA',\n",
    "  #           'CODIGO_JORNADA',\n",
    "  #           'CARACTER',\n",
    "  #           # 'NIVEL', #-> Se esta filtrando por Nivel\n",
    "  #           'CODIGO_GRADO',\n",
    "  #           # 'CODIGO_METODOLOGIA', #No se inclye porque se filtra por este valor\n",
    "  #          'SIT_ACAD_ANIO_ANT',\n",
    "  #           'CON_ALUM_ANIO_ANT',\n",
    "  #           'ZONA_RESI_ALU',\n",
    "  #           'DIR_NUM_LOCALIDAD',\n",
    "  #           #'OVERAGE', # si no se incluye GRADO_OVERAGE\n",
    "   #          'vivienda',\n",
    "  #           'embaraza',\n",
    "  #           'nparentes',\n",
    "  #           'todos_servicios_Pub',\n",
    "  #           'teneviv',\n",
    "  #           'computador',\n",
    "  #           'tiene_auto',\n",
    "  #           'ES_BILINGUE',\n",
    "             #'nivel_hacinamiento',\n",
    "             #'OVERAGE',\n",
    "\n",
    "   #          ]"
   ]
  },
  {
   "cell_type": "code",
   "execution_count": 10,
   "id": "1e757472",
   "metadata": {},
   "outputs": [],
   "source": [
    "variables = ['EDAD',\n",
    "             'estrato',\n",
    "             'puntaje_sisben_3',\n",
    "             'indice_hacinamiento', #-> solo si no se pone nivel_hacinamiento en Categoria\n",
    "             'TOTAL_EQUIPO_COMPUTO',\n",
    "             'ALUMN_POR_DOCENTE',\n",
    "             'COMPU_POR_ALUMN',\n",
    "             'TOTAL_DOCENTES_CON_TITULO',\n",
    "             'PROP_DOCENTES_CON_TITULO', #-> solo si no se incluye TOTAL_DOCENTES_CON_TITULO y TOTAL_ALUM al tiempo\n",
    "             'promepuntaje',\n",
    "            ]\n",
    "\n",
    "categorias= ['GENERO',\n",
    "             'POB_VICT_CONF',\n",
    "             'PROVIENE_OTR_MUN',\n",
    "             'TIPO_DISCAPACIDAD',\n",
    "             'CODIGO_ETNIA',\n",
    "             'CODIGO_JORNADA',\n",
    "             'DIR_NUM_LOCALIDAD',\n",
    "             'embaraza',\n",
    "             'todos_servicios_Pub',\n",
    "             'teneviv',\n",
    "             'computador',\n",
    "             'tiene_auto',\n",
    "             'ES_BILINGUE'\n",
    "\n",
    "             ]\n"
   ]
  },
  {
   "cell_type": "markdown",
   "id": "617e1d59-2725-4e39-b7e5-6ff5d25cc54a",
   "metadata": {},
   "source": [
    "# Part A: Feature Selection"
   ]
  },
  {
   "cell_type": "markdown",
   "id": "1da0a174-54f2-43f4-b064-26c4c43687de",
   "metadata": {},
   "source": [
    "## Filter by grade Level and Methodology"
   ]
  },
  {
   "cell_type": "code",
   "execution_count": 11,
   "id": "33bc14de-58e6-42b6-b4b3-1d1d0936a244",
   "metadata": {},
   "outputs": [
    {
     "data": {
      "text/plain": [
       "2    0.403860\n",
       "3    0.398370\n",
       "4    0.142274\n",
       "1    0.055495\n",
       "Name: NIVEL, dtype: float64"
      ]
     },
     "execution_count": 11,
     "metadata": {},
     "output_type": "execute_result"
    }
   ],
   "source": [
    "df['NIVEL'].value_counts()/df['NIVEL'].shape[0]"
   ]
  },
  {
   "cell_type": "code",
   "execution_count": 12,
   "id": "d284d1ad-3f8a-4198-8486-249894732809",
   "metadata": {},
   "outputs": [],
   "source": [
    "df = df[(df['NIVEL']== 2)]"
   ]
  },
  {
   "cell_type": "code",
   "execution_count": 13,
   "id": "b2841439-aeb5-40ca-9b3f-7044636853a0",
   "metadata": {},
   "outputs": [
    {
     "data": {
      "text/plain": [
       "1    0.970263\n",
       "9    0.029737\n",
       "Name: CODIGO_METODOLOGIA, dtype: float64"
      ]
     },
     "execution_count": 13,
     "metadata": {},
     "output_type": "execute_result"
    }
   ],
   "source": [
    "df['CODIGO_METODOLOGIA'].value_counts()/df['CODIGO_METODOLOGIA'].shape[0]"
   ]
  },
  {
   "cell_type": "code",
   "execution_count": 14,
   "id": "457eea7e-6c88-43dc-9df4-1c5b3df7c3e7",
   "metadata": {},
   "outputs": [],
   "source": [
    "df = df[(df['CODIGO_METODOLOGIA']==1)]"
   ]
  },
  {
   "cell_type": "markdown",
   "id": "c2a3bfc4-3011-4129-9d77-a0322eed480a",
   "metadata": {},
   "source": [
    "-----------"
   ]
  },
  {
   "cell_type": "markdown",
   "id": "fbaaddf4-2547-487b-a9c6-b13652384af9",
   "metadata": {},
   "source": [
    "# Univariate Feature Selection for categorical data\n",
    "## Pearson Chi-Squared Test For independence\n",
    "### Part I: Features with dependence against REPITENTE"
   ]
  },
  {
   "cell_type": "markdown",
   "id": "2b622204-09ec-41fe-beed-d037e449d112",
   "metadata": {},
   "source": [
    "$$ H_{0} : The \\: variables \\: are \\: Dependent$$\n",
    "$$ H_{a}: The \\: variables \\:are \\: not \\: Dependent $$\n",
    "\n",
    "#### References:\n",
    "1. [Why Chi Test?](https://towardsdatascience.com/mistakes-in-applying-univariate-feature-selection-methods-34c43ce8b93d)\n",
    "2. [Why we implemented it in this way?](https://machinelearningmastery.com/chi-squared-test-for-machine-learning/)"
   ]
  },
  {
   "cell_type": "code",
   "execution_count": 15,
   "id": "0787b186-639c-41b4-b94e-39b350f70a37",
   "metadata": {},
   "outputs": [
    {
     "name": "stdout",
     "output_type": "stream",
     "text": [
      "Dependent variables that reject H0 at a significance level of 5%\n",
      "               Category       p-value\n",
      "0                GENERO  1.314078e-58\n",
      "5     DIR_NUM_LOCALIDAD  1.045395e-49\n",
      "4        CODIGO_JORNADA  5.406144e-32\n",
      "3     TIPO_DISCAPACIDAD  5.247169e-28\n",
      "8            computador  2.093791e-23\n",
      "6   todos_servicios_Pub  1.809878e-20\n",
      "1         POB_VICT_CONF  2.577196e-08\n",
      "9            tiene_auto  5.091870e-07\n",
      "7               teneviv  6.452112e-07\n",
      "10          ES_BILINGUE  1.066005e-03\n",
      "2      PROVIENE_OTR_MUN  1.256208e-02\n"
     ]
    }
   ],
   "source": [
    "chi2_values_df = pd.DataFrame(columns = ['Category', 'p-value'])\n",
    "cat_dep = []\n",
    "p_values = []\n",
    "for i in categorias:\n",
    "    crosstab = pd.crosstab(df['REPITENTE'], df[i])\n",
    "    chi2, p, dof, ex = stats.chi2_contingency(crosstab)\n",
    "    if p <= 0.05:\n",
    "        cat_dep.append(i)\n",
    "        p_values.append(p)\n",
    "print('Dependent variables that reject H0 at a significance level of 5%')\n",
    "chi2_values_df['Category'] = cat_dep\n",
    "chi2_values_df['p-value'] = p_values\n",
    "print(chi2_values_df.sort_values(by = 'p-value'))\n",
    "    "
   ]
  },
  {
   "cell_type": "code",
   "execution_count": 16,
   "id": "072915dc-1c4d-477e-924e-0c940a4c43f5",
   "metadata": {},
   "outputs": [],
   "source": [
    "categorias = cat_dep"
   ]
  },
  {
   "cell_type": "code",
   "execution_count": 17,
   "id": "453263f9-f72e-4a66-a04e-18aa5f329824",
   "metadata": {},
   "outputs": [
    {
     "name": "stdout",
     "output_type": "stream",
     "text": [
      "Variables that fail to reject H0 (independent) at a significance level of 5%\n",
      "Empty DataFrame\n",
      "Columns: [Category, p-value]\n",
      "Index: []\n"
     ]
    }
   ],
   "source": [
    "rejected = pd.DataFrame(columns = ['Category', 'p-value'])\n",
    "cat_nodep = []\n",
    "p_valuesr = []\n",
    "for i in categorias:\n",
    "    crosstab = pd.crosstab(df['REPITENTE'], df[i])\n",
    "    chi2, p, dof, ex = stats.chi2_contingency(crosstab)\n",
    "    if p > 0.05:\n",
    "        cat_nodep.append(i)\n",
    "        p_valuesr.append(p)\n",
    "print('Variables that fail to reject H0 (independent) at a significance level of 5%')\n",
    "rejected['Category'] = cat_nodep\n",
    "rejected['p-value'] = p_valuesr\n",
    "print(rejected.sort_values(by = 'p-value', ascending = False))"
   ]
  },
  {
   "cell_type": "markdown",
   "id": "a01a3573",
   "metadata": {},
   "source": [
    "# Univariate Feature Selection for continous data\n",
    "## Difference in means test \n",
    "### Part I: Features with dependence against REPITENTE"
   ]
  },
  {
   "cell_type": "code",
   "execution_count": 18,
   "id": "b37184a3",
   "metadata": {},
   "outputs": [
    {
     "name": "stderr",
     "output_type": "stream",
     "text": [
      "/opt/conda/lib/python3.8/site-packages/pingouin/bayesian.py:152: RuntimeWarning: divide by zero encountered in double_scalars\n",
      "  bf10 = 1 / ((1 + t**2 / df) ** (-(df + 1) / 2) / integr)\n",
      "/opt/conda/lib/python3.8/site-packages/numpy/core/_methods.py:211: RuntimeWarning: overflow encountered in reduce\n",
      "  arrmean = umr_sum(arr, axis, dtype, keepdims=True, where=where)\n",
      "/opt/conda/lib/python3.8/site-packages/numpy/core/fromnumeric.py:87: RuntimeWarning: overflow encountered in reduce\n",
      "  return ufunc.reduce(obj, axis, dtype, out, **passkwargs)\n"
     ]
    },
    {
     "name": "stdout",
     "output_type": "stream",
     "text": [
      "Dependent variables that reject H0 at a significance level of 5%\n",
      "                     numeric       p-value\n",
      "0                       EDAD  0.000000e+00\n",
      "2           puntaje_sisben_3  1.798049e-59\n",
      "1                    estrato  3.385782e-25\n",
      "6               promepuntaje  2.864782e-20\n",
      "5   PROP_DOCENTES_CON_TITULO  2.845982e-08\n",
      "4  TOTAL_DOCENTES_CON_TITULO  2.790442e-04\n",
      "3       TOTAL_EQUIPO_COMPUTO  3.932783e-02\n"
     ]
    }
   ],
   "source": [
    "differentMean = pd.DataFrame(columns = ['numeric', 'p-value'])\n",
    "cat_con = []\n",
    "p_valuesc = []\n",
    "\n",
    "for i in variables:\n",
    "    df_r = df[df[\"REPITENTE\"] == 1][i]\n",
    "    df_nr = df[df[\"REPITENTE\"] == 0][i]\n",
    "    p_val = float(pg.ttest(df_r,df_nr)[\"p-val\"][0])\n",
    "    \n",
    "    if p_val <= 0.05:\n",
    "        cat_con.append(i)\n",
    "        p_valuesc.append(p_val)\n",
    "        \n",
    "print('Dependent variables that reject H0 at a significance level of 5%')\n",
    "differentMean['numeric'] = cat_con\n",
    "differentMean['p-value'] = p_valuesc\n",
    "print(differentMean.sort_values(by = 'p-value'))\n"
   ]
  },
  {
   "cell_type": "markdown",
   "id": "764b6a40-64b0-48a1-84b7-1612ae44f40c",
   "metadata": {},
   "source": [
    "--------"
   ]
  },
  {
   "cell_type": "markdown",
   "id": "395cb691-d0b1-46d5-82c3-cf39882987d3",
   "metadata": {},
   "source": [
    "### Part II: Feature selection for continuous variables\n",
    "We could perform an ANOVA F-test to do this feature selection. Since we have very few continous data, and other assumptions need to be checked we skip this step for now."
   ]
  },
  {
   "cell_type": "markdown",
   "id": "64f518da-36c1-40d0-b1f0-ba3755ad6f8b",
   "metadata": {},
   "source": [
    "## Model: Logistic Regression\n",
    "### Assumptions:\n",
    "1. Right response variable. This is obvious since REPITENTE is boolean.\n",
    "2. Linearility of continuous variables agaisnt log(odds) = $ln(\\dfrac{p}{1-p})$\n",
    "3. Not strongly influential Outliers.\n",
    "4. Absence of Multicollinearity\n",
    "5. Independence of observations\n",
    "\n",
    "[Reference](https://towardsdatascience.com/assumptions-of-logistic-regression-clearly-explained-44d85a22b290)"
   ]
  },
  {
   "cell_type": "markdown",
   "id": "16064846-6b89-4442-9340-6f66df43f2b4",
   "metadata": {},
   "source": [
    "## Assumptions checks "
   ]
  },
  {
   "cell_type": "markdown",
   "id": "8b5c4b1e-46e8-4c3a-92f5-66a6cfef1c51",
   "metadata": {},
   "source": [
    "### Number II: Linearility versus log (odds) - Box- Tidwell Test\n",
    "\n",
    "The intituion behind this test is very clear. We are trying to test if the probability of seeing a success (occurence of a 1 value) is exponentially related to our variables. In other words, we expect that:\n",
    "   $$ Y = ln(\\dfrac{p}{1-p}) \\approx \\beta_{0} + \\sum_{i=1}^{n}x_{i}\\beta_{i} $$\n",
    "Where p is the probability of a success, i.e. the number of positive outcomes divided by the total of observations in a given sample of the population.\n",
    "\n",
    "**Box- Tidwell Test**"
   ]
  },
  {
   "cell_type": "code",
   "execution_count": 19,
   "id": "86d9dc5c-432b-4746-a5cb-f75488e45092",
   "metadata": {},
   "outputs": [
    {
     "data": {
      "text/plain": [
       "(179094,)"
      ]
     },
     "execution_count": 19,
     "metadata": {},
     "output_type": "execute_result"
    }
   ],
   "source": [
    "y = df['REPITENTE']\n",
    "y.shape"
   ]
  },
  {
   "cell_type": "code",
   "execution_count": 20,
   "id": "c97f68d0-b86a-4dd0-a240-2e9739f1e761",
   "metadata": {},
   "outputs": [
    {
     "data": {
      "text/plain": [
       "(179094, 10)"
      ]
     },
     "execution_count": 20,
     "metadata": {},
     "output_type": "execute_result"
    }
   ],
   "source": [
    "X = df[variables]\n",
    "X.shape"
   ]
  },
  {
   "cell_type": "code",
   "execution_count": 21,
   "id": "104fccb7-0d68-43d5-aa9b-daee102099bd",
   "metadata": {},
   "outputs": [
    {
     "name": "stderr",
     "output_type": "stream",
     "text": [
      "/opt/conda/lib/python3.8/site-packages/pandas/core/frame.py:4524: SettingWithCopyWarning: \n",
      "A value is trying to be set on a copy of a slice from a DataFrame\n",
      "\n",
      "See the caveats in the documentation: https://pandas.pydata.org/pandas-docs/stable/user_guide/indexing.html#returning-a-view-versus-a-copy\n",
      "  return super().replace(\n"
     ]
    }
   ],
   "source": [
    "# 0 and 1 are interchangable since in either case value*ln(value) = 0\n",
    "X.replace({0: 1, 0.0 : 1.0}, inplace = True)"
   ]
  },
  {
   "cell_type": "code",
   "execution_count": 22,
   "id": "be8ffa4d-a70e-4deb-9ce1-299c07ec0b01",
   "metadata": {},
   "outputs": [
    {
     "name": "stderr",
     "output_type": "stream",
     "text": [
      "<ipython-input-22-a73a6ccc77d4>:2: SettingWithCopyWarning: \n",
      "A value is trying to be set on a copy of a slice from a DataFrame.\n",
      "Try using .loc[row_indexer,col_indexer] = value instead\n",
      "\n",
      "See the caveats in the documentation: https://pandas.pydata.org/pandas-docs/stable/user_guide/indexing.html#returning-a-view-versus-a-copy\n",
      "  X[f'{var}:Log_{var}'] = X[var].apply(lambda x: x * np.log(x))\n"
     ]
    }
   ],
   "source": [
    "for var in variables:\n",
    "    X[f'{var}:Log_{var}'] = X[var].apply(lambda x: x * np.log(x))"
   ]
  },
  {
   "cell_type": "code",
   "execution_count": 23,
   "id": "486c5ed1-0796-4213-b698-e2cb697f8c6e",
   "metadata": {},
   "outputs": [],
   "source": [
    "cols_to_keep = variables + X.columns.tolist()[-len(variables):]"
   ]
  },
  {
   "cell_type": "code",
   "execution_count": 24,
   "id": "b2ac5137-ae6b-4f9a-9b13-5da477a0c74e",
   "metadata": {},
   "outputs": [],
   "source": [
    "X_cons = sm.add_constant(X, prepend=False)"
   ]
  },
  {
   "cell_type": "code",
   "execution_count": 25,
   "id": "56c63283-5a2f-4022-91c5-b815a1714ac8",
   "metadata": {},
   "outputs": [],
   "source": [
    "## Should not print anything\n",
    "for col in X_cons:\n",
    "    if np.isinf(X_cons[col]).values.sum() > 0:\n",
    "        print(col)"
   ]
  },
  {
   "cell_type": "code",
   "execution_count": 26,
   "id": "e2a42816-33e4-42b4-8682-c5ae4d3b483e",
   "metadata": {},
   "outputs": [],
   "source": [
    "## Shouel not print anything, otherwise an error will raise in the next cell\n",
    "for col in X_cons:\n",
    "    if np.isnan(X_cons[col]).values.sum() > 0:\n",
    "        print(col, np.isnan(X_cons[col]).values.sum())"
   ]
  },
  {
   "cell_type": "code",
   "execution_count": 27,
   "id": "5d088fd8-661b-403a-bedc-38b9f67beb4f",
   "metadata": {},
   "outputs": [
    {
     "data": {
      "text/html": [
       "<table class=\"simpletable\">\n",
       "<caption>Generalized Linear Model Regression Results</caption>\n",
       "<tr>\n",
       "  <th>Dep. Variable:</th>       <td>REPITENTE</td>    <th>  No. Observations:  </th>  <td>179094</td> \n",
       "</tr>\n",
       "<tr>\n",
       "  <th>Model:</th>                  <td>GLM</td>       <th>  Df Residuals:      </th>  <td>179073</td> \n",
       "</tr>\n",
       "<tr>\n",
       "  <th>Model Family:</th>        <td>Binomial</td>     <th>  Df Model:          </th>  <td>    20</td> \n",
       "</tr>\n",
       "<tr>\n",
       "  <th>Link Function:</th>         <td>Logit</td>      <th>  Scale:             </th> <td>  1.0000</td>\n",
       "</tr>\n",
       "<tr>\n",
       "  <th>Method:</th>                <td>IRLS</td>       <th>  Log-Likelihood:    </th> <td> -25888.</td>\n",
       "</tr>\n",
       "<tr>\n",
       "  <th>Date:</th>            <td>Mon, 04 Jul 2022</td> <th>  Deviance:          </th> <td>  51777.</td>\n",
       "</tr>\n",
       "<tr>\n",
       "  <th>Time:</th>                <td>18:41:15</td>     <th>  Pearson chi2:      </th> <td>1.78e+05</td>\n",
       "</tr>\n",
       "<tr>\n",
       "  <th>No. Iterations:</th>          <td>7</td>        <th>  Pseudo R-squ. (CS):</th>  <td>0.01396</td>\n",
       "</tr>\n",
       "<tr>\n",
       "  <th>Covariance Type:</th>     <td>nonrobust</td>    <th>                     </th>     <td> </td>   \n",
       "</tr>\n",
       "</table>\n",
       "<table class=\"simpletable\">\n",
       "<tr>\n",
       "                             <td></td>                                <th>coef</th>     <th>std err</th>      <th>z</th>      <th>P>|z|</th>  <th>[0.025</th>    <th>0.975]</th>  \n",
       "</tr>\n",
       "<tr>\n",
       "  <th>EDAD</th>                                                    <td>    1.2524</td> <td>    0.122</td> <td>   10.271</td> <td> 0.000</td> <td>    1.013</td> <td>    1.491</td>\n",
       "</tr>\n",
       "<tr>\n",
       "  <th>estrato</th>                                                 <td>   -0.3127</td> <td>    0.165</td> <td>   -1.891</td> <td> 0.059</td> <td>   -0.637</td> <td>    0.011</td>\n",
       "</tr>\n",
       "<tr>\n",
       "  <th>puntaje_sisben_3</th>                                        <td>    0.0357</td> <td>    0.015</td> <td>    2.423</td> <td> 0.015</td> <td>    0.007</td> <td>    0.065</td>\n",
       "</tr>\n",
       "<tr>\n",
       "  <th>indice_hacinamiento</th>                                     <td>    0.1096</td> <td>    0.066</td> <td>    1.670</td> <td> 0.095</td> <td>   -0.019</td> <td>    0.238</td>\n",
       "</tr>\n",
       "<tr>\n",
       "  <th>TOTAL_EQUIPO_COMPUTO</th>                                    <td>    0.0060</td> <td>    0.001</td> <td>    4.074</td> <td> 0.000</td> <td>    0.003</td> <td>    0.009</td>\n",
       "</tr>\n",
       "<tr>\n",
       "  <th>ALUMN_POR_DOCENTE</th>                                       <td>    0.6101</td> <td>    0.099</td> <td>    6.136</td> <td> 0.000</td> <td>    0.415</td> <td>    0.805</td>\n",
       "</tr>\n",
       "<tr>\n",
       "  <th>COMPU_POR_ALUMN</th>                                         <td>    0.2650</td> <td>    0.110</td> <td>    2.400</td> <td> 0.016</td> <td>    0.049</td> <td>    0.481</td>\n",
       "</tr>\n",
       "<tr>\n",
       "  <th>TOTAL_DOCENTES_CON_TITULO</th>                               <td>   -0.0257</td> <td>    0.005</td> <td>   -5.160</td> <td> 0.000</td> <td>   -0.035</td> <td>   -0.016</td>\n",
       "</tr>\n",
       "<tr>\n",
       "  <th>PROP_DOCENTES_CON_TITULO</th>                                <td>    1.5149</td> <td>    0.117</td> <td>   12.955</td> <td> 0.000</td> <td>    1.286</td> <td>    1.744</td>\n",
       "</tr>\n",
       "<tr>\n",
       "  <th>promepuntaje</th>                                            <td>    0.8047</td> <td>    0.153</td> <td>    5.259</td> <td> 0.000</td> <td>    0.505</td> <td>    1.105</td>\n",
       "</tr>\n",
       "<tr>\n",
       "  <th>EDAD:Log_EDAD</th>                                           <td>   -0.2919</td> <td>    0.037</td> <td>   -7.854</td> <td> 0.000</td> <td>   -0.365</td> <td>   -0.219</td>\n",
       "</tr>\n",
       "<tr>\n",
       "  <th>estrato:Log_estrato</th>                                     <td>    0.0898</td> <td>    0.103</td> <td>    0.871</td> <td> 0.384</td> <td>   -0.112</td> <td>    0.292</td>\n",
       "</tr>\n",
       "<tr>\n",
       "  <th>puntaje_sisben_3:Log_puntaje_sisben_3</th>                   <td>   -0.0095</td> <td>    0.003</td> <td>   -2.929</td> <td> 0.003</td> <td>   -0.016</td> <td>   -0.003</td>\n",
       "</tr>\n",
       "<tr>\n",
       "  <th>indice_hacinamiento:Log_indice_hacinamiento</th>             <td>   -0.0101</td> <td>    0.027</td> <td>   -0.378</td> <td> 0.706</td> <td>   -0.063</td> <td>    0.042</td>\n",
       "</tr>\n",
       "<tr>\n",
       "  <th>TOTAL_EQUIPO_COMPUTO:Log_TOTAL_EQUIPO_COMPUTO</th>           <td>   -0.0009</td> <td>    0.000</td> <td>   -4.094</td> <td> 0.000</td> <td>   -0.001</td> <td>   -0.000</td>\n",
       "</tr>\n",
       "<tr>\n",
       "  <th>ALUMN_POR_DOCENTE:Log_ALUMN_POR_DOCENTE</th>                 <td>   -0.1438</td> <td>    0.024</td> <td>   -6.110</td> <td> 0.000</td> <td>   -0.190</td> <td>   -0.098</td>\n",
       "</tr>\n",
       "<tr>\n",
       "  <th>COMPU_POR_ALUMN:Log_COMPU_POR_ALUMN</th>                     <td>    0.4091</td> <td>    0.294</td> <td>    1.390</td> <td> 0.165</td> <td>   -0.168</td> <td>    0.986</td>\n",
       "</tr>\n",
       "<tr>\n",
       "  <th>TOTAL_DOCENTES_CON_TITULO:Log_TOTAL_DOCENTES_CON_TITULO</th> <td>    0.0046</td> <td>    0.001</td> <td>    4.829</td> <td> 0.000</td> <td>    0.003</td> <td>    0.006</td>\n",
       "</tr>\n",
       "<tr>\n",
       "  <th>PROP_DOCENTES_CON_TITULO:Log_PROP_DOCENTES_CON_TITULO</th>   <td>   -2.2914</td> <td>    0.222</td> <td>  -10.322</td> <td> 0.000</td> <td>   -2.726</td> <td>   -1.856</td>\n",
       "</tr>\n",
       "<tr>\n",
       "  <th>promepuntaje:Log_promepuntaje</th>                           <td>   -0.1236</td> <td>    0.023</td> <td>   -5.272</td> <td> 0.000</td> <td>   -0.170</td> <td>   -0.078</td>\n",
       "</tr>\n",
       "<tr>\n",
       "  <th>const</th>                                                   <td>  -44.2066</td> <td>    5.858</td> <td>   -7.546</td> <td> 0.000</td> <td>  -55.688</td> <td>  -32.725</td>\n",
       "</tr>\n",
       "</table>"
      ],
      "text/plain": [
       "<class 'statsmodels.iolib.summary.Summary'>\n",
       "\"\"\"\n",
       "                 Generalized Linear Model Regression Results                  \n",
       "==============================================================================\n",
       "Dep. Variable:              REPITENTE   No. Observations:               179094\n",
       "Model:                            GLM   Df Residuals:                   179073\n",
       "Model Family:                Binomial   Df Model:                           20\n",
       "Link Function:                  Logit   Scale:                          1.0000\n",
       "Method:                          IRLS   Log-Likelihood:                -25888.\n",
       "Date:                Mon, 04 Jul 2022   Deviance:                       51777.\n",
       "Time:                        18:41:15   Pearson chi2:                 1.78e+05\n",
       "No. Iterations:                     7   Pseudo R-squ. (CS):            0.01396\n",
       "Covariance Type:            nonrobust                                         \n",
       "===========================================================================================================================\n",
       "                                                              coef    std err          z      P>|z|      [0.025      0.975]\n",
       "---------------------------------------------------------------------------------------------------------------------------\n",
       "EDAD                                                        1.2524      0.122     10.271      0.000       1.013       1.491\n",
       "estrato                                                    -0.3127      0.165     -1.891      0.059      -0.637       0.011\n",
       "puntaje_sisben_3                                            0.0357      0.015      2.423      0.015       0.007       0.065\n",
       "indice_hacinamiento                                         0.1096      0.066      1.670      0.095      -0.019       0.238\n",
       "TOTAL_EQUIPO_COMPUTO                                        0.0060      0.001      4.074      0.000       0.003       0.009\n",
       "ALUMN_POR_DOCENTE                                           0.6101      0.099      6.136      0.000       0.415       0.805\n",
       "COMPU_POR_ALUMN                                             0.2650      0.110      2.400      0.016       0.049       0.481\n",
       "TOTAL_DOCENTES_CON_TITULO                                  -0.0257      0.005     -5.160      0.000      -0.035      -0.016\n",
       "PROP_DOCENTES_CON_TITULO                                    1.5149      0.117     12.955      0.000       1.286       1.744\n",
       "promepuntaje                                                0.8047      0.153      5.259      0.000       0.505       1.105\n",
       "EDAD:Log_EDAD                                              -0.2919      0.037     -7.854      0.000      -0.365      -0.219\n",
       "estrato:Log_estrato                                         0.0898      0.103      0.871      0.384      -0.112       0.292\n",
       "puntaje_sisben_3:Log_puntaje_sisben_3                      -0.0095      0.003     -2.929      0.003      -0.016      -0.003\n",
       "indice_hacinamiento:Log_indice_hacinamiento                -0.0101      0.027     -0.378      0.706      -0.063       0.042\n",
       "TOTAL_EQUIPO_COMPUTO:Log_TOTAL_EQUIPO_COMPUTO              -0.0009      0.000     -4.094      0.000      -0.001      -0.000\n",
       "ALUMN_POR_DOCENTE:Log_ALUMN_POR_DOCENTE                    -0.1438      0.024     -6.110      0.000      -0.190      -0.098\n",
       "COMPU_POR_ALUMN:Log_COMPU_POR_ALUMN                         0.4091      0.294      1.390      0.165      -0.168       0.986\n",
       "TOTAL_DOCENTES_CON_TITULO:Log_TOTAL_DOCENTES_CON_TITULO     0.0046      0.001      4.829      0.000       0.003       0.006\n",
       "PROP_DOCENTES_CON_TITULO:Log_PROP_DOCENTES_CON_TITULO      -2.2914      0.222    -10.322      0.000      -2.726      -1.856\n",
       "promepuntaje:Log_promepuntaje                              -0.1236      0.023     -5.272      0.000      -0.170      -0.078\n",
       "const                                                     -44.2066      5.858     -7.546      0.000     -55.688     -32.725\n",
       "===========================================================================================================================\n",
       "\"\"\""
      ]
     },
     "execution_count": 27,
     "metadata": {},
     "output_type": "execute_result"
    }
   ],
   "source": [
    "logit_results = sm.GLM(y, X_cons, family=sm.families.Binomial()).fit()\n",
    "logit_results.summary()"
   ]
  },
  {
   "cell_type": "code",
   "execution_count": 28,
   "id": "6ec0570f-40f2-4717-aa15-8185f09ef5a8",
   "metadata": {},
   "outputs": [
    {
     "data": {
      "text/plain": [
       "EDAD                                                       9.506005e-25\n",
       "estrato                                                    5.860125e-02\n",
       "puntaje_sisben_3                                           1.538836e-02\n",
       "indice_hacinamiento                                        9.499070e-02\n",
       "TOTAL_EQUIPO_COMPUTO                                       4.612725e-05\n",
       "ALUMN_POR_DOCENTE                                          8.468335e-10\n",
       "COMPU_POR_ALUMN                                            1.639534e-02\n",
       "TOTAL_DOCENTES_CON_TITULO                                  2.464036e-07\n",
       "PROP_DOCENTES_CON_TITULO                                   2.206543e-38\n",
       "promepuntaje                                               1.446745e-07\n",
       "EDAD:Log_EDAD                                              4.044532e-15\n",
       "estrato:Log_estrato                                        3.835708e-01\n",
       "puntaje_sisben_3:Log_puntaje_sisben_3                      3.397877e-03\n",
       "indice_hacinamiento:Log_indice_hacinamiento                7.055231e-01\n",
       "TOTAL_EQUIPO_COMPUTO:Log_TOTAL_EQUIPO_COMPUTO              4.242013e-05\n",
       "ALUMN_POR_DOCENTE:Log_ALUMN_POR_DOCENTE                    9.985110e-10\n",
       "COMPU_POR_ALUMN:Log_COMPU_POR_ALUMN                        1.646250e-01\n",
       "TOTAL_DOCENTES_CON_TITULO:Log_TOTAL_DOCENTES_CON_TITULO    1.369255e-06\n",
       "PROP_DOCENTES_CON_TITULO:Log_PROP_DOCENTES_CON_TITULO      5.629852e-25\n",
       "promepuntaje:Log_promepuntaje                              1.350168e-07\n",
       "const                                                      4.482284e-14\n",
       "dtype: float64"
      ]
     },
     "execution_count": 28,
     "metadata": {},
     "output_type": "execute_result"
    }
   ],
   "source": [
    "logit_results.pvalues"
   ]
  },
  {
   "cell_type": "code",
   "execution_count": 29,
   "id": "4fd782fb-52cb-4681-86fe-8287f1564c71",
   "metadata": {},
   "outputs": [
    {
     "data": {
      "text/plain": [
       "estrato                                        0.058601\n",
       "indice_hacinamiento                            0.094991\n",
       "estrato:Log_estrato                            0.383571\n",
       "indice_hacinamiento:Log_indice_hacinamiento    0.705523\n",
       "COMPU_POR_ALUMN:Log_COMPU_POR_ALUMN            0.164625\n",
       "dtype: float64"
      ]
     },
     "execution_count": 29,
     "metadata": {},
     "output_type": "execute_result"
    }
   ],
   "source": [
    "logit_results.pvalues[logit_results.pvalues > 0.05]"
   ]
  },
  {
   "cell_type": "code",
   "execution_count": 30,
   "id": "b197aa81-c4e4-4e8f-a5b7-b754afd83fca",
   "metadata": {},
   "outputs": [
    {
     "data": {
      "text/plain": [
       "Index(['estrato', 'indice_hacinamiento', 'estrato:Log_estrato',\n",
       "       'indice_hacinamiento:Log_indice_hacinamiento',\n",
       "       'COMPU_POR_ALUMN:Log_COMPU_POR_ALUMN'],\n",
       "      dtype='object')"
      ]
     },
     "execution_count": 30,
     "metadata": {},
     "output_type": "execute_result"
    }
   ],
   "source": [
    "logit_results.pvalues[logit_results.pvalues > 0.05].index"
   ]
  },
  {
   "cell_type": "code",
   "execution_count": 31,
   "id": "f3ae6214-8c84-4a79-bc6a-9649e63b91fe",
   "metadata": {},
   "outputs": [
    {
     "data": {
      "text/plain": [
       "['estrato', 'indice_hacinamiento', 'COMPU_POR_ALUMN']"
      ]
     },
     "execution_count": 31,
     "metadata": {},
     "output_type": "execute_result"
    }
   ],
   "source": [
    "conti = []\n",
    "for x in logit_results.pvalues[logit_results.pvalues > 0.05].index:\n",
    "    if \":\" in x:\n",
    "        aux = x.split(':')\n",
    "        conti.append(aux[0])\n",
    "conti"
   ]
  },
  {
   "cell_type": "code",
   "execution_count": 32,
   "id": "eeac7824-5f9c-4416-b6a9-080c7c9477b4",
   "metadata": {},
   "outputs": [],
   "source": [
    "# Select the continuous variables that fulfill the second assumption for the model\n",
    "variables = conti"
   ]
  },
  {
   "cell_type": "markdown",
   "id": "6bfe16dd-0352-44ec-a512-14cd16a48582",
   "metadata": {},
   "source": [
    "-------------------------"
   ]
  },
  {
   "cell_type": "markdown",
   "id": "976fd47f-aee1-43f6-a683-37d450c31dcf",
   "metadata": {},
   "source": [
    "#### Comparasion against smf.logit\n",
    "\n",
    "We can see that the results are equivalent"
   ]
  },
  {
   "cell_type": "code",
   "execution_count": 33,
   "id": "ddbab395-3162-491e-b6e0-d975752d084b",
   "metadata": {},
   "outputs": [],
   "source": [
    "def formula_odds(dependiente, variables):\n",
    "    formula = f'{dependiente} ~ '\n",
    "    for variable in variables:\n",
    "        if formula != f'{dependiente} ~ ':\n",
    "            formula += ' + '\n",
    "        formula += f'{variable}'\n",
    "        formula += f' + {variable} : np.log({variable})'\n",
    "    return formula  "
   ]
  },
  {
   "cell_type": "code",
   "execution_count": 34,
   "id": "f0eb4a5b-996c-489b-af95-ce493b687944",
   "metadata": {},
   "outputs": [],
   "source": [
    "X_cons['REPITENTE'] = y"
   ]
  },
  {
   "cell_type": "code",
   "execution_count": 35,
   "id": "b25f352f-1daf-43c7-8446-c485187d4fdb",
   "metadata": {},
   "outputs": [
    {
     "data": {
      "text/plain": [
       "'REPITENTE ~ estrato + estrato : np.log(estrato) + indice_hacinamiento + indice_hacinamiento : np.log(indice_hacinamiento) + COMPU_POR_ALUMN + COMPU_POR_ALUMN : np.log(COMPU_POR_ALUMN)'"
      ]
     },
     "execution_count": 35,
     "metadata": {},
     "output_type": "execute_result"
    }
   ],
   "source": [
    "formula = formula_odds('REPITENTE', variables)\n",
    "formula"
   ]
  },
  {
   "cell_type": "code",
   "execution_count": 36,
   "id": "6fef497b-6821-4eb0-b75d-7e0197a2f163",
   "metadata": {},
   "outputs": [
    {
     "name": "stdout",
     "output_type": "stream",
     "text": [
      "Optimization terminated successfully.\n",
      "         Current function value: 0.150686\n",
      "         Iterations 8\n"
     ]
    },
    {
     "data": {
      "text/html": [
       "<table class=\"simpletable\">\n",
       "<caption>Logit Regression Results</caption>\n",
       "<tr>\n",
       "  <th>Dep. Variable:</th>       <td>REPITENTE</td>    <th>  No. Observations:  </th>  <td>179094</td>  \n",
       "</tr>\n",
       "<tr>\n",
       "  <th>Model:</th>                 <td>Logit</td>      <th>  Df Residuals:      </th>  <td>179087</td>  \n",
       "</tr>\n",
       "<tr>\n",
       "  <th>Method:</th>                 <td>MLE</td>       <th>  Df Model:          </th>  <td>     6</td>  \n",
       "</tr>\n",
       "<tr>\n",
       "  <th>Date:</th>            <td>Mon, 04 Jul 2022</td> <th>  Pseudo R-squ.:     </th> <td>0.005891</td> \n",
       "</tr>\n",
       "<tr>\n",
       "  <th>Time:</th>                <td>18:41:16</td>     <th>  Log-Likelihood:    </th> <td> -26987.</td> \n",
       "</tr>\n",
       "<tr>\n",
       "  <th>converged:</th>             <td>True</td>       <th>  LL-Null:           </th> <td> -27147.</td> \n",
       "</tr>\n",
       "<tr>\n",
       "  <th>Covariance Type:</th>     <td>nonrobust</td>    <th>  LLR p-value:       </th> <td>4.544e-66</td>\n",
       "</tr>\n",
       "</table>\n",
       "<table class=\"simpletable\">\n",
       "<tr>\n",
       "                         <td></td>                            <th>coef</th>     <th>std err</th>      <th>z</th>      <th>P>|z|</th>  <th>[0.025</th>    <th>0.975]</th>  \n",
       "</tr>\n",
       "<tr>\n",
       "  <th>Intercept</th>                                       <td>   -3.5293</td> <td>    0.211</td> <td>  -16.745</td> <td> 0.000</td> <td>   -3.942</td> <td>   -3.116</td>\n",
       "</tr>\n",
       "<tr>\n",
       "  <th>estrato</th>                                         <td>   -0.3264</td> <td>    0.163</td> <td>   -2.004</td> <td> 0.045</td> <td>   -0.646</td> <td>   -0.007</td>\n",
       "</tr>\n",
       "<tr>\n",
       "  <th>estrato:np.log(estrato)</th>                         <td>    0.0866</td> <td>    0.102</td> <td>    0.853</td> <td> 0.394</td> <td>   -0.112</td> <td>    0.286</td>\n",
       "</tr>\n",
       "<tr>\n",
       "  <th>indice_hacinamiento</th>                             <td>    0.2376</td> <td>    0.063</td> <td>    3.778</td> <td> 0.000</td> <td>    0.114</td> <td>    0.361</td>\n",
       "</tr>\n",
       "<tr>\n",
       "  <th>indice_hacinamiento:np.log(indice_hacinamiento)</th> <td>   -0.0487</td> <td>    0.026</td> <td>   -1.876</td> <td> 0.061</td> <td>   -0.100</td> <td>    0.002</td>\n",
       "</tr>\n",
       "<tr>\n",
       "  <th>COMPU_POR_ALUMN</th>                                 <td>    0.1334</td> <td>    0.097</td> <td>    1.375</td> <td> 0.169</td> <td>   -0.057</td> <td>    0.324</td>\n",
       "</tr>\n",
       "<tr>\n",
       "  <th>COMPU_POR_ALUMN:np.log(COMPU_POR_ALUMN)</th>         <td>   -0.4727</td> <td>    0.180</td> <td>   -2.625</td> <td> 0.009</td> <td>   -0.826</td> <td>   -0.120</td>\n",
       "</tr>\n",
       "</table>"
      ],
      "text/plain": [
       "<class 'statsmodels.iolib.summary.Summary'>\n",
       "\"\"\"\n",
       "                           Logit Regression Results                           \n",
       "==============================================================================\n",
       "Dep. Variable:              REPITENTE   No. Observations:               179094\n",
       "Model:                          Logit   Df Residuals:                   179087\n",
       "Method:                           MLE   Df Model:                            6\n",
       "Date:                Mon, 04 Jul 2022   Pseudo R-squ.:                0.005891\n",
       "Time:                        18:41:16   Log-Likelihood:                -26987.\n",
       "converged:                       True   LL-Null:                       -27147.\n",
       "Covariance Type:            nonrobust   LLR p-value:                 4.544e-66\n",
       "===================================================================================================================\n",
       "                                                      coef    std err          z      P>|z|      [0.025      0.975]\n",
       "-------------------------------------------------------------------------------------------------------------------\n",
       "Intercept                                          -3.5293      0.211    -16.745      0.000      -3.942      -3.116\n",
       "estrato                                            -0.3264      0.163     -2.004      0.045      -0.646      -0.007\n",
       "estrato:np.log(estrato)                             0.0866      0.102      0.853      0.394      -0.112       0.286\n",
       "indice_hacinamiento                                 0.2376      0.063      3.778      0.000       0.114       0.361\n",
       "indice_hacinamiento:np.log(indice_hacinamiento)    -0.0487      0.026     -1.876      0.061      -0.100       0.002\n",
       "COMPU_POR_ALUMN                                     0.1334      0.097      1.375      0.169      -0.057       0.324\n",
       "COMPU_POR_ALUMN:np.log(COMPU_POR_ALUMN)            -0.4727      0.180     -2.625      0.009      -0.826      -0.120\n",
       "===================================================================================================================\n",
       "\"\"\""
      ]
     },
     "execution_count": 36,
     "metadata": {},
     "output_type": "execute_result"
    }
   ],
   "source": [
    "model= smf.logit(formula=formula, data= X_cons).fit()\n",
    "model.summary()"
   ]
  },
  {
   "cell_type": "code",
   "execution_count": 37,
   "id": "214cdfa4-974e-4109-aade-2b1771ea15b4",
   "metadata": {},
   "outputs": [
    {
     "data": {
      "text/plain": [
       "estrato:np.log(estrato)                            0.393878\n",
       "indice_hacinamiento:np.log(indice_hacinamiento)    0.060590\n",
       "COMPU_POR_ALUMN                                    0.169018\n",
       "dtype: float64"
      ]
     },
     "execution_count": 37,
     "metadata": {},
     "output_type": "execute_result"
    }
   ],
   "source": [
    "model.pvalues[model.pvalues > 0.05]"
   ]
  },
  {
   "cell_type": "markdown",
   "id": "9043d888-6d6e-4f40-be60-075450a1795b",
   "metadata": {},
   "source": [
    "-------------------------"
   ]
  },
  {
   "cell_type": "markdown",
   "id": "e039aab8-cbde-4326-a08e-26f43bc875bb",
   "metadata": {},
   "source": [
    "### Number III: Outliers \n",
    "For the purpose of detecting outliers we will use two methods. Based on the same reference as in the assumptions, we consider the Cooks distance and the rule of thumb of three std."
   ]
  },
  {
   "cell_type": "code",
   "execution_count": 38,
   "id": "1ed4d9fe-1007-4325-b4d5-449267cb006b",
   "metadata": {},
   "outputs": [],
   "source": [
    "all_variables = variables + categorias\n",
    "y = df['REPITENTE']\n",
    "X = df[all_variables]\n"
   ]
  },
  {
   "cell_type": "code",
   "execution_count": 39,
   "id": "5c2d7c23-55f6-4704-befc-c07e41761921",
   "metadata": {},
   "outputs": [
    {
     "data": {
      "text/html": [
       "<table class=\"simpletable\">\n",
       "<caption>Generalized Linear Model Regression Results</caption>\n",
       "<tr>\n",
       "  <th>Dep. Variable:</th>       <td>REPITENTE</td>    <th>  No. Observations:  </th>  <td>179094</td>  \n",
       "</tr>\n",
       "<tr>\n",
       "  <th>Model:</th>                  <td>GLM</td>       <th>  Df Residuals:      </th>  <td>179080</td>  \n",
       "</tr>\n",
       "<tr>\n",
       "  <th>Model Family:</th>        <td>Binomial</td>     <th>  Df Model:          </th>  <td>    13</td>  \n",
       "</tr>\n",
       "<tr>\n",
       "  <th>Link Function:</th>         <td>Logit</td>      <th>  Scale:             </th> <td>  1.0000</td> \n",
       "</tr>\n",
       "<tr>\n",
       "  <th>Method:</th>                <td>IRLS</td>       <th>  Log-Likelihood:    </th> <td> -27447.</td> \n",
       "</tr>\n",
       "<tr>\n",
       "  <th>Date:</th>            <td>Mon, 04 Jul 2022</td> <th>  Deviance:          </th> <td>  54895.</td> \n",
       "</tr>\n",
       "<tr>\n",
       "  <th>Time:</th>                <td>18:41:18</td>     <th>  Pearson chi2:      </th> <td>2.19e+05</td> \n",
       "</tr>\n",
       "<tr>\n",
       "  <th>No. Iterations:</th>          <td>7</td>        <th>  Pseudo R-squ. (CS):</th> <td>-0.003361</td>\n",
       "</tr>\n",
       "<tr>\n",
       "  <th>Covariance Type:</th>     <td>nonrobust</td>    <th>                     </th>     <td> </td>    \n",
       "</tr>\n",
       "</table>\n",
       "<table class=\"simpletable\">\n",
       "<tr>\n",
       "           <td></td>              <th>coef</th>     <th>std err</th>      <th>z</th>      <th>P>|z|</th>  <th>[0.025</th>    <th>0.975]</th>  \n",
       "</tr>\n",
       "<tr>\n",
       "  <th>estrato</th>             <td>   -0.6452</td> <td>    0.017</td> <td>  -37.524</td> <td> 0.000</td> <td>   -0.679</td> <td>   -0.611</td>\n",
       "</tr>\n",
       "<tr>\n",
       "  <th>indice_hacinamiento</th> <td>   -0.0650</td> <td>    0.008</td> <td>   -7.670</td> <td> 0.000</td> <td>   -0.082</td> <td>   -0.048</td>\n",
       "</tr>\n",
       "<tr>\n",
       "  <th>COMPU_POR_ALUMN</th>     <td>   -0.1542</td> <td>    0.134</td> <td>   -1.148</td> <td> 0.251</td> <td>   -0.417</td> <td>    0.109</td>\n",
       "</tr>\n",
       "<tr>\n",
       "  <th>GENERO</th>              <td>    0.2173</td> <td>    0.025</td> <td>    8.733</td> <td> 0.000</td> <td>    0.168</td> <td>    0.266</td>\n",
       "</tr>\n",
       "<tr>\n",
       "  <th>POB_VICT_CONF</th>       <td>    0.1379</td> <td>    0.066</td> <td>    2.084</td> <td> 0.037</td> <td>    0.008</td> <td>    0.268</td>\n",
       "</tr>\n",
       "<tr>\n",
       "  <th>PROVIENE_OTR_MUN</th>    <td>    0.2583</td> <td>    0.121</td> <td>    2.136</td> <td> 0.033</td> <td>    0.021</td> <td>    0.495</td>\n",
       "</tr>\n",
       "<tr>\n",
       "  <th>TIPO_DISCAPACIDAD</th>   <td>    0.5387</td> <td>    0.055</td> <td>    9.798</td> <td> 0.000</td> <td>    0.431</td> <td>    0.646</td>\n",
       "</tr>\n",
       "<tr>\n",
       "  <th>CODIGO_JORNADA</th>      <td>   -0.2908</td> <td>    0.012</td> <td>  -24.503</td> <td> 0.000</td> <td>   -0.314</td> <td>   -0.268</td>\n",
       "</tr>\n",
       "<tr>\n",
       "  <th>DIR_NUM_LOCALIDAD</th>   <td>   -0.0320</td> <td>    0.002</td> <td>  -14.491</td> <td> 0.000</td> <td>   -0.036</td> <td>   -0.028</td>\n",
       "</tr>\n",
       "<tr>\n",
       "  <th>todos_servicios_Pub</th> <td>   -0.7251</td> <td>    0.028</td> <td>  -26.300</td> <td> 0.000</td> <td>   -0.779</td> <td>   -0.671</td>\n",
       "</tr>\n",
       "<tr>\n",
       "  <th>teneviv</th>             <td>   -0.1810</td> <td>    0.014</td> <td>  -12.682</td> <td> 0.000</td> <td>   -0.209</td> <td>   -0.153</td>\n",
       "</tr>\n",
       "<tr>\n",
       "  <th>computador</th>          <td>   -0.2834</td> <td>    0.045</td> <td>   -6.352</td> <td> 0.000</td> <td>   -0.371</td> <td>   -0.196</td>\n",
       "</tr>\n",
       "<tr>\n",
       "  <th>tiene_auto</th>          <td>   -0.3392</td> <td>    0.148</td> <td>   -2.287</td> <td> 0.022</td> <td>   -0.630</td> <td>   -0.049</td>\n",
       "</tr>\n",
       "<tr>\n",
       "  <th>ES_BILINGUE</th>         <td>   -0.2465</td> <td>    0.084</td> <td>   -2.927</td> <td> 0.003</td> <td>   -0.412</td> <td>   -0.081</td>\n",
       "</tr>\n",
       "</table>"
      ],
      "text/plain": [
       "<class 'statsmodels.iolib.summary.Summary'>\n",
       "\"\"\"\n",
       "                 Generalized Linear Model Regression Results                  \n",
       "==============================================================================\n",
       "Dep. Variable:              REPITENTE   No. Observations:               179094\n",
       "Model:                            GLM   Df Residuals:                   179080\n",
       "Model Family:                Binomial   Df Model:                           13\n",
       "Link Function:                  Logit   Scale:                          1.0000\n",
       "Method:                          IRLS   Log-Likelihood:                -27447.\n",
       "Date:                Mon, 04 Jul 2022   Deviance:                       54895.\n",
       "Time:                        18:41:18   Pearson chi2:                 2.19e+05\n",
       "No. Iterations:                     7   Pseudo R-squ. (CS):          -0.003361\n",
       "Covariance Type:            nonrobust                                         \n",
       "=======================================================================================\n",
       "                          coef    std err          z      P>|z|      [0.025      0.975]\n",
       "---------------------------------------------------------------------------------------\n",
       "estrato                -0.6452      0.017    -37.524      0.000      -0.679      -0.611\n",
       "indice_hacinamiento    -0.0650      0.008     -7.670      0.000      -0.082      -0.048\n",
       "COMPU_POR_ALUMN        -0.1542      0.134     -1.148      0.251      -0.417       0.109\n",
       "GENERO                  0.2173      0.025      8.733      0.000       0.168       0.266\n",
       "POB_VICT_CONF           0.1379      0.066      2.084      0.037       0.008       0.268\n",
       "PROVIENE_OTR_MUN        0.2583      0.121      2.136      0.033       0.021       0.495\n",
       "TIPO_DISCAPACIDAD       0.5387      0.055      9.798      0.000       0.431       0.646\n",
       "CODIGO_JORNADA         -0.2908      0.012    -24.503      0.000      -0.314      -0.268\n",
       "DIR_NUM_LOCALIDAD      -0.0320      0.002    -14.491      0.000      -0.036      -0.028\n",
       "todos_servicios_Pub    -0.7251      0.028    -26.300      0.000      -0.779      -0.671\n",
       "teneviv                -0.1810      0.014    -12.682      0.000      -0.209      -0.153\n",
       "computador             -0.2834      0.045     -6.352      0.000      -0.371      -0.196\n",
       "tiene_auto             -0.3392      0.148     -2.287      0.022      -0.630      -0.049\n",
       "ES_BILINGUE            -0.2465      0.084     -2.927      0.003      -0.412      -0.081\n",
       "=======================================================================================\n",
       "\"\"\""
      ]
     },
     "execution_count": 39,
     "metadata": {},
     "output_type": "execute_result"
    }
   ],
   "source": [
    "logit_results = sm.GLM(y, X, family=sm.families.Binomial()).fit()\n",
    "logit_results.summary()"
   ]
  },
  {
   "cell_type": "code",
   "execution_count": 40,
   "id": "85d8eb91-c616-4626-9c89-d395cef1823b",
   "metadata": {},
   "outputs": [],
   "source": [
    "# Get influence measures\n",
    "influence = logit_results.get_influence()"
   ]
  },
  {
   "cell_type": "code",
   "execution_count": 41,
   "id": "fb2d541f-d145-489a-b96e-e4c9945579de",
   "metadata": {},
   "outputs": [],
   "source": [
    "# Obtain summary df of influence measures\n",
    "summ_df = influence.summary_frame()\n",
    "# Filter summary df to Cook's distance values only\n",
    "diagnosis_df = summ_df[['cooks_d']]\n",
    "\n",
    "# Set Cook's distance threshold\n",
    "cook_threshold = 4 / len(X)"
   ]
  },
  {
   "cell_type": "code",
   "execution_count": 42,
   "id": "4e6cde19-b2fb-49ff-9afa-9ab680ebaadc",
   "metadata": {},
   "outputs": [
    {
     "name": "stderr",
     "output_type": "stream",
     "text": [
      "<ipython-input-42-915f4f9d121e>:2: SettingWithCopyWarning: \n",
      "A value is trying to be set on a copy of a slice from a DataFrame.\n",
      "Try using .loc[row_indexer,col_indexer] = value instead\n",
      "\n",
      "See the caveats in the documentation: https://pandas.pydata.org/pandas-docs/stable/user_guide/indexing.html#returning-a-view-versus-a-copy\n",
      "  diagnosis_df['std_resid'] = stats.zscore(logit_results.resid_pearson)\n",
      "<ipython-input-42-915f4f9d121e>:3: SettingWithCopyWarning: \n",
      "A value is trying to be set on a copy of a slice from a DataFrame.\n",
      "Try using .loc[row_indexer,col_indexer] = value instead\n",
      "\n",
      "See the caveats in the documentation: https://pandas.pydata.org/pandas-docs/stable/user_guide/indexing.html#returning-a-view-versus-a-copy\n",
      "  diagnosis_df['std_resid'] = diagnosis_df['std_resid'].apply(lambda x: np.abs(x))\n"
     ]
    }
   ],
   "source": [
    "# Append absolute standardized residual values \n",
    "diagnosis_df['std_resid'] = stats.zscore(logit_results.resid_pearson)\n",
    "diagnosis_df['std_resid'] = diagnosis_df['std_resid'].apply(lambda x: np.abs(x))"
   ]
  },
  {
   "cell_type": "code",
   "execution_count": 43,
   "id": "e17db6a2-629f-453f-a68d-1d4d62d537c6",
   "metadata": {},
   "outputs": [],
   "source": [
    "# Find observations which are BOTH outlier (std dev > 3) and highly influential\n",
    "extreme = diagnosis_df[(diagnosis_df['cooks_d'] > cook_threshold) & \n",
    "                       (diagnosis_df['std_resid'] > 3)]"
   ]
  },
  {
   "cell_type": "code",
   "execution_count": 44,
   "id": "bcea628a-d15f-4c8e-b26e-371d7ddb2cfa",
   "metadata": {},
   "outputs": [
    {
     "data": {
      "text/html": [
       "<div>\n",
       "<style scoped>\n",
       "    .dataframe tbody tr th:only-of-type {\n",
       "        vertical-align: middle;\n",
       "    }\n",
       "\n",
       "    .dataframe tbody tr th {\n",
       "        vertical-align: top;\n",
       "    }\n",
       "\n",
       "    .dataframe thead th {\n",
       "        text-align: right;\n",
       "    }\n",
       "</style>\n",
       "<table border=\"1\" class=\"dataframe\">\n",
       "  <thead>\n",
       "    <tr style=\"text-align: right;\">\n",
       "      <th></th>\n",
       "      <th>cooks_d</th>\n",
       "      <th>std_resid</th>\n",
       "    </tr>\n",
       "  </thead>\n",
       "  <tbody>\n",
       "    <tr>\n",
       "      <th>108907</th>\n",
       "      <td>0.002630</td>\n",
       "      <td>19.854342</td>\n",
       "    </tr>\n",
       "    <tr>\n",
       "      <th>453512</th>\n",
       "      <td>0.002041</td>\n",
       "      <td>4.971553</td>\n",
       "    </tr>\n",
       "    <tr>\n",
       "      <th>261107</th>\n",
       "      <td>0.002027</td>\n",
       "      <td>8.460149</td>\n",
       "    </tr>\n",
       "    <tr>\n",
       "      <th>261270</th>\n",
       "      <td>0.001995</td>\n",
       "      <td>5.455085</td>\n",
       "    </tr>\n",
       "    <tr>\n",
       "      <th>72405</th>\n",
       "      <td>0.001965</td>\n",
       "      <td>4.501767</td>\n",
       "    </tr>\n",
       "  </tbody>\n",
       "</table>\n",
       "</div>"
      ],
      "text/plain": [
       "         cooks_d  std_resid\n",
       "108907  0.002630  19.854342\n",
       "453512  0.002041   4.971553\n",
       "261107  0.002027   8.460149\n",
       "261270  0.001995   5.455085\n",
       "72405   0.001965   4.501767"
      ]
     },
     "execution_count": 44,
     "metadata": {},
     "output_type": "execute_result"
    }
   ],
   "source": [
    "# Show top 5 highly influential outlier observations\n",
    "extreme.sort_values(\"cooks_d\", ascending=False).head()"
   ]
  },
  {
   "cell_type": "code",
   "execution_count": 45,
   "id": "dc6d147d-92af-49ef-92f5-9462dfa92aaa",
   "metadata": {},
   "outputs": [
    {
     "data": {
      "text/plain": [
       "(5749, 2)"
      ]
     },
     "execution_count": 45,
     "metadata": {},
     "output_type": "execute_result"
    }
   ],
   "source": [
    "extreme.shape"
   ]
  },
  {
   "cell_type": "code",
   "execution_count": 46,
   "id": "53089f6c-b2e3-4467-aaac-67b7821ced43",
   "metadata": {},
   "outputs": [
    {
     "data": {
      "text/plain": [
       "Int64Index([   333,    367,    399,    401,    418,    421,    481,   1036,\n",
       "              1037,   1038,\n",
       "            ...\n",
       "            451590, 453431, 453438, 453512, 453871, 453897, 453915, 455346,\n",
       "            455405, 455462],\n",
       "           dtype='int64', length=5749)"
      ]
     },
     "execution_count": 46,
     "metadata": {},
     "output_type": "execute_result"
    }
   ],
   "source": [
    "extreme.index"
   ]
  },
  {
   "cell_type": "code",
   "execution_count": 47,
   "id": "28137ae7-d226-42d4-b9df-10379545c19d",
   "metadata": {},
   "outputs": [
    {
     "data": {
      "text/plain": [
       "Int64Index([   321,    322,    324,    326,    327,    328,    329,    332,\n",
       "               333,    334,\n",
       "            ...\n",
       "            455465, 455467, 455468, 455469, 455471, 455474, 455476, 455477,\n",
       "            455478, 455482],\n",
       "           dtype='int64', length=179094)"
      ]
     },
     "execution_count": 47,
     "metadata": {},
     "output_type": "execute_result"
    }
   ],
   "source": [
    "df.index"
   ]
  },
  {
   "cell_type": "code",
   "execution_count": 48,
   "id": "e2fc4b98-12b7-4dfa-bd2c-5ef3f4dc219e",
   "metadata": {},
   "outputs": [],
   "source": [
    "# Delete undesirable outliers\n",
    "df = df.loc[~df.index.isin(extreme.index)]"
   ]
  },
  {
   "cell_type": "code",
   "execution_count": 49,
   "id": "7197d457-fb5b-4cfc-8e92-3c4d79f0b511",
   "metadata": {},
   "outputs": [
    {
     "data": {
      "text/plain": [
       "Int64Index([   321,    322,    324,    326,    327,    328,    329,    332,\n",
       "               334,    336,\n",
       "            ...\n",
       "            455465, 455467, 455468, 455469, 455471, 455474, 455476, 455477,\n",
       "            455478, 455482],\n",
       "           dtype='int64', length=173345)"
      ]
     },
     "execution_count": 49,
     "metadata": {},
     "output_type": "execute_result"
    }
   ],
   "source": [
    "df.index"
   ]
  },
  {
   "cell_type": "markdown",
   "id": "5f6230bf-6a8c-4e70-89da-36ec0d3f3ece",
   "metadata": {},
   "source": [
    "---------------\n"
   ]
  },
  {
   "cell_type": "markdown",
   "id": "285b5231-f9a0-4e1d-aa48-0e0073b53b8c",
   "metadata": {},
   "source": [
    "## Number IV: Absence of Multicolinearility"
   ]
  },
  {
   "cell_type": "markdown",
   "id": "383e2790-141b-454e-8aec-1d1b64e95e66",
   "metadata": {},
   "source": [
    " ### Continuous variables\n",
    " From the graph below it is clear that no continuous variable presents multilinearity with each other"
   ]
  },
  {
   "cell_type": "code",
   "execution_count": 50,
   "id": "2b533151-aa42-42ef-8373-273b56739a47",
   "metadata": {},
   "outputs": [
    {
     "name": "stderr",
     "output_type": "stream",
     "text": [
      "<ipython-input-50-5d64253ecffd>:4: DeprecationWarning: `np.bool` is a deprecated alias for the builtin `bool`. To silence this warning, use `bool` by itself. Doing this will not modify any behavior and is safe. If you specifically wanted the numpy scalar type, use `np.bool_` here.\n",
      "Deprecated in NumPy 1.20; for more details and guidance: https://numpy.org/devdocs/release/1.20.0-notes.html#deprecations\n",
      "  mask = np.triu(np.ones_like(df[variables].corr(), dtype=np.bool))\n"
     ]
    },
    {
     "data": {
      "image/png": "[encoded data removed]",
      "text/plain": [
       "<Figure size 1296x648 with 2 Axes>"
      ]
     },
     "metadata": {
      "needs_background": "light"
     },
     "output_type": "display_data"
    }
   ],
   "source": [
    "plt.figure(figsize=(18, 9))\n",
    "# define the mask to set the values in the upper triangle to True\n",
    "\n",
    "mask = np.triu(np.ones_like(df[variables].corr(), dtype=np.bool))\n",
    "heatmap = sns.heatmap(df[variables].corr(), mask=mask, vmin=-1, vmax=1, annot=True, cmap='BrBG')\n",
    "heatmap.set_title('Triangle Correlation Heatmap', fontdict={'fontsize':18}, pad=16);"
   ]
  },
  {
   "cell_type": "code",
   "execution_count": 51,
   "id": "ca0cdd62-9b9d-405e-aaa0-6987cd9a14aa",
   "metadata": {},
   "outputs": [
    {
     "data": {
      "text/html": [
       "<div>\n",
       "<style scoped>\n",
       "    .dataframe tbody tr th:only-of-type {\n",
       "        vertical-align: middle;\n",
       "    }\n",
       "\n",
       "    .dataframe tbody tr th {\n",
       "        vertical-align: top;\n",
       "    }\n",
       "\n",
       "    .dataframe thead th {\n",
       "        text-align: right;\n",
       "    }\n",
       "</style>\n",
       "<table border=\"1\" class=\"dataframe\">\n",
       "  <thead>\n",
       "    <tr style=\"text-align: right;\">\n",
       "      <th></th>\n",
       "      <th>variables</th>\n",
       "      <th>VIF</th>\n",
       "    </tr>\n",
       "  </thead>\n",
       "  <tbody>\n",
       "    <tr>\n",
       "      <th>0</th>\n",
       "      <td>estrato</td>\n",
       "      <td>4.643773</td>\n",
       "    </tr>\n",
       "    <tr>\n",
       "      <th>1</th>\n",
       "      <td>indice_hacinamiento</td>\n",
       "      <td>3.959968</td>\n",
       "    </tr>\n",
       "    <tr>\n",
       "      <th>2</th>\n",
       "      <td>COMPU_POR_ALUMN</td>\n",
       "      <td>3.000056</td>\n",
       "    </tr>\n",
       "  </tbody>\n",
       "</table>\n",
       "</div>"
      ],
      "text/plain": [
       "             variables       VIF\n",
       "0              estrato  4.643773\n",
       "1  indice_hacinamiento  3.959968\n",
       "2      COMPU_POR_ALUMN  3.000056"
      ]
     },
     "execution_count": 51,
     "metadata": {},
     "output_type": "execute_result"
    }
   ],
   "source": [
    "from statsmodels.stats.outliers_influence import variance_inflation_factor\n",
    "# Use variance inflation factor to identify any significant multi-collinearity\n",
    "def calc_vif(df):\n",
    "    vif = pd.DataFrame()\n",
    "    vif[\"variables\"] = df.columns\n",
    "    vif[\"VIF\"] = [variance_inflation_factor(df.values, i) for i in range(df.shape[1])]\n",
    "    return(vif)\n",
    "\n",
    "calc_vif(df[variables])"
   ]
  },
  {
   "cell_type": "code",
   "execution_count": 52,
   "id": "c94029ef-ef68-4716-89c5-1460cdd82025",
   "metadata": {},
   "outputs": [],
   "source": [
    "aux_multico = []\n",
    "multi_df = calc_vif(df[variables])\n",
    "for i in range(len(multi_df)):\n",
    "    name = multi_df['variables'][i]\n",
    "    value= multi_df['VIF'][i]\n",
    "    if value >= 10: # The statndard rule to discard a variable is: VIF >5\n",
    "        aux_multico.append(name)\n",
    "variables = list(set(variables) - set(aux_multico))"
   ]
  },
  {
   "cell_type": "code",
   "execution_count": 53,
   "id": "a3a22c34-8a1a-49f9-ad45-d5caf74c9ac7",
   "metadata": {},
   "outputs": [
    {
     "data": {
      "text/plain": [
       "['indice_hacinamiento', 'COMPU_POR_ALUMN', 'estrato']"
      ]
     },
     "execution_count": 53,
     "metadata": {},
     "output_type": "execute_result"
    }
   ],
   "source": [
    "variables"
   ]
  },
  {
   "cell_type": "markdown",
   "id": "5173407b-8e42-40ea-b6f9-b693634ab0da",
   "metadata": {},
   "source": [
    "## Number V: Independence of Observations for categorical Data (since continuous ones were treated already)\n",
    "In this case the more appropiate thing to do is run a Chi-Squared test between all the categorical predictores and see which pairs are plausible."
   ]
  },
  {
   "cell_type": "code",
   "execution_count": 54,
   "id": "3f5b2080-40bf-4794-b826-2639b85580cb",
   "metadata": {},
   "outputs": [],
   "source": [
    "def puntaje(x , categorias):\n",
    "    pun= 0\n",
    "    for i in categorias:\n",
    "        crosstab = pd.crosstab(x, df[i])\n",
    "        chi2, p, dof, ex = stats.chi2_contingency(crosstab)\n",
    "        if p > 0.05:\n",
    "            pun += 1\n",
    "    return pun"
   ]
  },
  {
   "cell_type": "code",
   "execution_count": 55,
   "id": "eb37e719-3b2f-4406-b88b-11472a76d1d3",
   "metadata": {},
   "outputs": [
    {
     "data": {
      "text/html": [
       "<div>\n",
       "<style scoped>\n",
       "    .dataframe tbody tr th:only-of-type {\n",
       "        vertical-align: middle;\n",
       "    }\n",
       "\n",
       "    .dataframe tbody tr th {\n",
       "        vertical-align: top;\n",
       "    }\n",
       "\n",
       "    .dataframe thead th {\n",
       "        text-align: right;\n",
       "    }\n",
       "</style>\n",
       "<table border=\"1\" class=\"dataframe\">\n",
       "  <thead>\n",
       "    <tr style=\"text-align: right;\">\n",
       "      <th></th>\n",
       "      <th>Category</th>\n",
       "      <th>counts</th>\n",
       "    </tr>\n",
       "  </thead>\n",
       "  <tbody>\n",
       "    <tr>\n",
       "      <th>0</th>\n",
       "      <td>GENERO</td>\n",
       "      <td>8</td>\n",
       "    </tr>\n",
       "    <tr>\n",
       "      <th>2</th>\n",
       "      <td>PROVIENE_OTR_MUN</td>\n",
       "      <td>6</td>\n",
       "    </tr>\n",
       "    <tr>\n",
       "      <th>3</th>\n",
       "      <td>TIPO_DISCAPACIDAD</td>\n",
       "      <td>5</td>\n",
       "    </tr>\n",
       "    <tr>\n",
       "      <th>10</th>\n",
       "      <td>ES_BILINGUE</td>\n",
       "      <td>4</td>\n",
       "    </tr>\n",
       "    <tr>\n",
       "      <th>1</th>\n",
       "      <td>POB_VICT_CONF</td>\n",
       "      <td>3</td>\n",
       "    </tr>\n",
       "    <tr>\n",
       "      <th>8</th>\n",
       "      <td>computador</td>\n",
       "      <td>3</td>\n",
       "    </tr>\n",
       "    <tr>\n",
       "      <th>9</th>\n",
       "      <td>tiene_auto</td>\n",
       "      <td>3</td>\n",
       "    </tr>\n",
       "    <tr>\n",
       "      <th>6</th>\n",
       "      <td>todos_servicios_Pub</td>\n",
       "      <td>2</td>\n",
       "    </tr>\n",
       "    <tr>\n",
       "      <th>4</th>\n",
       "      <td>CODIGO_JORNADA</td>\n",
       "      <td>1</td>\n",
       "    </tr>\n",
       "    <tr>\n",
       "      <th>7</th>\n",
       "      <td>teneviv</td>\n",
       "      <td>1</td>\n",
       "    </tr>\n",
       "    <tr>\n",
       "      <th>5</th>\n",
       "      <td>DIR_NUM_LOCALIDAD</td>\n",
       "      <td>0</td>\n",
       "    </tr>\n",
       "  </tbody>\n",
       "</table>\n",
       "</div>"
      ],
      "text/plain": [
       "               Category  counts\n",
       "0                GENERO       8\n",
       "2      PROVIENE_OTR_MUN       6\n",
       "3     TIPO_DISCAPACIDAD       5\n",
       "10          ES_BILINGUE       4\n",
       "1         POB_VICT_CONF       3\n",
       "8            computador       3\n",
       "9            tiene_auto       3\n",
       "6   todos_servicios_Pub       2\n",
       "4        CODIGO_JORNADA       1\n",
       "7               teneviv       1\n",
       "5     DIR_NUM_LOCALIDAD       0"
      ]
     },
     "execution_count": 55,
     "metadata": {},
     "output_type": "execute_result"
    }
   ],
   "source": [
    "independent = pd.DataFrame(columns = ['Category', 'counts'])\n",
    "cats = categorias\n",
    "counts = []\n",
    "for j in categorias:\n",
    "    counts.append(puntaje(df[j], categorias));\n",
    "   \n",
    "independent['Category'] = categorias\n",
    "independent['counts'] = counts\n",
    "independent = independent.sort_values(by = 'counts', ascending = False)\n",
    "independent"
   ]
  },
  {
   "cell_type": "code",
   "execution_count": 56,
   "id": "078bd540-9e2f-4c81-86a0-40c81bcd49e8",
   "metadata": {},
   "outputs": [
    {
     "data": {
      "text/html": [
       "<div>\n",
       "<style scoped>\n",
       "    .dataframe tbody tr th:only-of-type {\n",
       "        vertical-align: middle;\n",
       "    }\n",
       "\n",
       "    .dataframe tbody tr th {\n",
       "        vertical-align: top;\n",
       "    }\n",
       "\n",
       "    .dataframe thead th {\n",
       "        text-align: right;\n",
       "    }\n",
       "</style>\n",
       "<table border=\"1\" class=\"dataframe\">\n",
       "  <thead>\n",
       "    <tr style=\"text-align: right;\">\n",
       "      <th></th>\n",
       "      <th>Category</th>\n",
       "      <th>counts</th>\n",
       "      <th>Below</th>\n",
       "    </tr>\n",
       "  </thead>\n",
       "  <tbody>\n",
       "    <tr>\n",
       "      <th>0</th>\n",
       "      <td>GENERO</td>\n",
       "      <td>8</td>\n",
       "      <td>PROVIENE_OTR_MUN</td>\n",
       "    </tr>\n",
       "    <tr>\n",
       "      <th>2</th>\n",
       "      <td>PROVIENE_OTR_MUN</td>\n",
       "      <td>6</td>\n",
       "      <td>TIPO_DISCAPACIDAD</td>\n",
       "    </tr>\n",
       "    <tr>\n",
       "      <th>3</th>\n",
       "      <td>TIPO_DISCAPACIDAD</td>\n",
       "      <td>5</td>\n",
       "      <td>ES_BILINGUE</td>\n",
       "    </tr>\n",
       "    <tr>\n",
       "      <th>10</th>\n",
       "      <td>ES_BILINGUE</td>\n",
       "      <td>4</td>\n",
       "      <td>POB_VICT_CONF</td>\n",
       "    </tr>\n",
       "    <tr>\n",
       "      <th>1</th>\n",
       "      <td>POB_VICT_CONF</td>\n",
       "      <td>3</td>\n",
       "      <td>computador</td>\n",
       "    </tr>\n",
       "    <tr>\n",
       "      <th>8</th>\n",
       "      <td>computador</td>\n",
       "      <td>3</td>\n",
       "      <td>tiene_auto</td>\n",
       "    </tr>\n",
       "    <tr>\n",
       "      <th>9</th>\n",
       "      <td>tiene_auto</td>\n",
       "      <td>3</td>\n",
       "      <td>todos_servicios_Pub</td>\n",
       "    </tr>\n",
       "    <tr>\n",
       "      <th>6</th>\n",
       "      <td>todos_servicios_Pub</td>\n",
       "      <td>2</td>\n",
       "      <td>CODIGO_JORNADA</td>\n",
       "    </tr>\n",
       "    <tr>\n",
       "      <th>4</th>\n",
       "      <td>CODIGO_JORNADA</td>\n",
       "      <td>1</td>\n",
       "      <td>teneviv</td>\n",
       "    </tr>\n",
       "    <tr>\n",
       "      <th>7</th>\n",
       "      <td>teneviv</td>\n",
       "      <td>1</td>\n",
       "      <td>DIR_NUM_LOCALIDAD</td>\n",
       "    </tr>\n",
       "    <tr>\n",
       "      <th>5</th>\n",
       "      <td>DIR_NUM_LOCALIDAD</td>\n",
       "      <td>0</td>\n",
       "      <td>NaN</td>\n",
       "    </tr>\n",
       "  </tbody>\n",
       "</table>\n",
       "</div>"
      ],
      "text/plain": [
       "               Category  counts                Below\n",
       "0                GENERO       8     PROVIENE_OTR_MUN\n",
       "2      PROVIENE_OTR_MUN       6    TIPO_DISCAPACIDAD\n",
       "3     TIPO_DISCAPACIDAD       5          ES_BILINGUE\n",
       "10          ES_BILINGUE       4        POB_VICT_CONF\n",
       "1         POB_VICT_CONF       3           computador\n",
       "8            computador       3           tiene_auto\n",
       "9            tiene_auto       3  todos_servicios_Pub\n",
       "6   todos_servicios_Pub       2       CODIGO_JORNADA\n",
       "4        CODIGO_JORNADA       1              teneviv\n",
       "7               teneviv       1    DIR_NUM_LOCALIDAD\n",
       "5     DIR_NUM_LOCALIDAD       0                  NaN"
      ]
     },
     "execution_count": 56,
     "metadata": {},
     "output_type": "execute_result"
    }
   ],
   "source": [
    "independent['Below'] = independent['Category'].shift(-1)\n",
    "independent"
   ]
  },
  {
   "cell_type": "code",
   "execution_count": 57,
   "id": "83ac7e40-727d-4eba-92f5-276dc3a51873",
   "metadata": {},
   "outputs": [],
   "source": [
    "independent = independent.reset_index()"
   ]
  },
  {
   "cell_type": "code",
   "execution_count": 58,
   "id": "11df092f-e65d-4f14-8606-d9ad7b45fff7",
   "metadata": {},
   "outputs": [],
   "source": [
    "vals = []\n",
    "for i in range(len(independent['Category'])-1):\n",
    "    crosstab = pd.crosstab(df[independent['Category'][i]], df[independent['Below'][i]])\n",
    "    chi2, p, dof, ex = stats.chi2_contingency(crosstab)\n",
    "    vals.append(p)    "
   ]
  },
  {
   "cell_type": "code",
   "execution_count": 59,
   "id": "c31ed58d-59ce-4a86-a79b-dad963ed2175",
   "metadata": {},
   "outputs": [],
   "source": [
    "vals.append(1)"
   ]
  },
  {
   "cell_type": "code",
   "execution_count": 60,
   "id": "84ade5b0-cdfb-4117-b012-6a8c3f8cd92e",
   "metadata": {},
   "outputs": [],
   "source": [
    "independent['p_values'] = vals"
   ]
  },
  {
   "cell_type": "code",
   "execution_count": 61,
   "id": "ac40f501-5bfe-413c-9e9b-703a2eb828c8",
   "metadata": {},
   "outputs": [
    {
     "data": {
      "text/html": [
       "<div>\n",
       "<style scoped>\n",
       "    .dataframe tbody tr th:only-of-type {\n",
       "        vertical-align: middle;\n",
       "    }\n",
       "\n",
       "    .dataframe tbody tr th {\n",
       "        vertical-align: top;\n",
       "    }\n",
       "\n",
       "    .dataframe thead th {\n",
       "        text-align: right;\n",
       "    }\n",
       "</style>\n",
       "<table border=\"1\" class=\"dataframe\">\n",
       "  <thead>\n",
       "    <tr style=\"text-align: right;\">\n",
       "      <th></th>\n",
       "      <th>index</th>\n",
       "      <th>Category</th>\n",
       "      <th>counts</th>\n",
       "      <th>Below</th>\n",
       "      <th>p_values</th>\n",
       "    </tr>\n",
       "  </thead>\n",
       "  <tbody>\n",
       "    <tr>\n",
       "      <th>0</th>\n",
       "      <td>0</td>\n",
       "      <td>GENERO</td>\n",
       "      <td>8</td>\n",
       "      <td>PROVIENE_OTR_MUN</td>\n",
       "      <td>8.568079e-01</td>\n",
       "    </tr>\n",
       "    <tr>\n",
       "      <th>1</th>\n",
       "      <td>2</td>\n",
       "      <td>PROVIENE_OTR_MUN</td>\n",
       "      <td>6</td>\n",
       "      <td>TIPO_DISCAPACIDAD</td>\n",
       "      <td>8.237593e-01</td>\n",
       "    </tr>\n",
       "    <tr>\n",
       "      <th>2</th>\n",
       "      <td>3</td>\n",
       "      <td>TIPO_DISCAPACIDAD</td>\n",
       "      <td>5</td>\n",
       "      <td>ES_BILINGUE</td>\n",
       "      <td>7.638098e-02</td>\n",
       "    </tr>\n",
       "    <tr>\n",
       "      <th>3</th>\n",
       "      <td>10</td>\n",
       "      <td>ES_BILINGUE</td>\n",
       "      <td>4</td>\n",
       "      <td>POB_VICT_CONF</td>\n",
       "      <td>7.773278e-01</td>\n",
       "    </tr>\n",
       "    <tr>\n",
       "      <th>4</th>\n",
       "      <td>1</td>\n",
       "      <td>POB_VICT_CONF</td>\n",
       "      <td>3</td>\n",
       "      <td>computador</td>\n",
       "      <td>2.353114e-31</td>\n",
       "    </tr>\n",
       "    <tr>\n",
       "      <th>5</th>\n",
       "      <td>8</td>\n",
       "      <td>computador</td>\n",
       "      <td>3</td>\n",
       "      <td>tiene_auto</td>\n",
       "      <td>0.000000e+00</td>\n",
       "    </tr>\n",
       "    <tr>\n",
       "      <th>6</th>\n",
       "      <td>9</td>\n",
       "      <td>tiene_auto</td>\n",
       "      <td>3</td>\n",
       "      <td>todos_servicios_Pub</td>\n",
       "      <td>7.427328e-47</td>\n",
       "    </tr>\n",
       "    <tr>\n",
       "      <th>7</th>\n",
       "      <td>6</td>\n",
       "      <td>todos_servicios_Pub</td>\n",
       "      <td>2</td>\n",
       "      <td>CODIGO_JORNADA</td>\n",
       "      <td>1.190149e-13</td>\n",
       "    </tr>\n",
       "    <tr>\n",
       "      <th>8</th>\n",
       "      <td>4</td>\n",
       "      <td>CODIGO_JORNADA</td>\n",
       "      <td>1</td>\n",
       "      <td>teneviv</td>\n",
       "      <td>8.550493e-50</td>\n",
       "    </tr>\n",
       "    <tr>\n",
       "      <th>9</th>\n",
       "      <td>7</td>\n",
       "      <td>teneviv</td>\n",
       "      <td>1</td>\n",
       "      <td>DIR_NUM_LOCALIDAD</td>\n",
       "      <td>0.000000e+00</td>\n",
       "    </tr>\n",
       "    <tr>\n",
       "      <th>10</th>\n",
       "      <td>5</td>\n",
       "      <td>DIR_NUM_LOCALIDAD</td>\n",
       "      <td>0</td>\n",
       "      <td>NaN</td>\n",
       "      <td>1.000000e+00</td>\n",
       "    </tr>\n",
       "  </tbody>\n",
       "</table>\n",
       "</div>"
      ],
      "text/plain": [
       "    index             Category  counts                Below      p_values\n",
       "0       0               GENERO       8     PROVIENE_OTR_MUN  8.568079e-01\n",
       "1       2     PROVIENE_OTR_MUN       6    TIPO_DISCAPACIDAD  8.237593e-01\n",
       "2       3    TIPO_DISCAPACIDAD       5          ES_BILINGUE  7.638098e-02\n",
       "3      10          ES_BILINGUE       4        POB_VICT_CONF  7.773278e-01\n",
       "4       1        POB_VICT_CONF       3           computador  2.353114e-31\n",
       "5       8           computador       3           tiene_auto  0.000000e+00\n",
       "6       9           tiene_auto       3  todos_servicios_Pub  7.427328e-47\n",
       "7       6  todos_servicios_Pub       2       CODIGO_JORNADA  1.190149e-13\n",
       "8       4       CODIGO_JORNADA       1              teneviv  8.550493e-50\n",
       "9       7              teneviv       1    DIR_NUM_LOCALIDAD  0.000000e+00\n",
       "10      5    DIR_NUM_LOCALIDAD       0                  NaN  1.000000e+00"
      ]
     },
     "execution_count": 61,
     "metadata": {},
     "output_type": "execute_result"
    }
   ],
   "source": [
    "independent"
   ]
  },
  {
   "cell_type": "code",
   "execution_count": 62,
   "id": "64e7d27e-a6fd-4366-bf1f-5e23b7380e1d",
   "metadata": {},
   "outputs": [
    {
     "name": "stdout",
     "output_type": "stream",
     "text": [
      "4\n"
     ]
    }
   ],
   "source": [
    "cat_iid = []\n",
    "for i in range(independent.shape[0]):\n",
    "    cat_iid.append(independent['Category'][i])\n",
    "    if independent['p_values'][i] <= 0.05:\n",
    "        print(i)\n",
    "        break"
   ]
  },
  {
   "cell_type": "code",
   "execution_count": 63,
   "id": "a23c5213-b586-4067-b4ce-5dd6b541eb45",
   "metadata": {},
   "outputs": [
    {
     "data": {
      "text/plain": [
       "['GENERO',\n",
       " 'PROVIENE_OTR_MUN',\n",
       " 'TIPO_DISCAPACIDAD',\n",
       " 'ES_BILINGUE',\n",
       " 'POB_VICT_CONF']"
      ]
     },
     "execution_count": 63,
     "metadata": {},
     "output_type": "execute_result"
    }
   ],
   "source": [
    "cat_iid"
   ]
  },
  {
   "cell_type": "code",
   "execution_count": 64,
   "id": "9a782643-2fa3-4071-9a43-d1b8cac7f783",
   "metadata": {},
   "outputs": [],
   "source": [
    "categorias = cat_iid"
   ]
  },
  {
   "cell_type": "markdown",
   "id": "5df83520-3425-488f-ab33-929e213c96a9",
   "metadata": {},
   "source": [
    "------------------"
   ]
  },
  {
   "cell_type": "markdown",
   "id": "a6510ac6-3691-4d2b-80e9-f93606fa97c8",
   "metadata": {},
   "source": [
    "### Run Models"
   ]
  },
  {
   "cell_type": "code",
   "execution_count": 65,
   "id": "1021edf7-53aa-43a9-ac26-5a1e8b82a4c0",
   "metadata": {},
   "outputs": [],
   "source": [
    "def formula_maker(dependiente, variables, categorias):\n",
    "    formula = f'{dependiente} ~ '\n",
    "    for variable in variables:\n",
    "        if formula != f'{dependiente} ~ ':\n",
    "            formula += ' + '\n",
    "        formula += f'{variable}'\n",
    "    for categoria in categorias:\n",
    "        if formula != f'{dependiente} ~ ':\n",
    "            formula += ' + '\n",
    "        formula += f'C({categoria})'\n",
    "    return formula  "
   ]
  },
  {
   "cell_type": "code",
   "execution_count": 66,
   "id": "69e57629-7f27-46f7-8a3a-6f5bbf876324",
   "metadata": {},
   "outputs": [
    {
     "name": "stdout",
     "output_type": "stream",
     "text": [
      "Optimization terminated successfully.\n",
      "         Current function value: 0.017082\n",
      "         Iterations 11\n"
     ]
    },
    {
     "data": {
      "text/html": [
       "<table class=\"simpletable\">\n",
       "<caption>Logit Regression Results</caption>\n",
       "<tr>\n",
       "  <th>Dep. Variable:</th>       <td>REPITENTE</td>    <th>  No. Observations:  </th>   <td>173345</td>  \n",
       "</tr>\n",
       "<tr>\n",
       "  <th>Model:</th>                 <td>Logit</td>      <th>  Df Residuals:      </th>   <td>173336</td>  \n",
       "</tr>\n",
       "<tr>\n",
       "  <th>Method:</th>                 <td>MLE</td>       <th>  Df Model:          </th>   <td>     8</td>  \n",
       "</tr>\n",
       "<tr>\n",
       "  <th>Date:</th>            <td>Mon, 04 Jul 2022</td> <th>  Pseudo R-squ.:     </th>   <td>0.1524</td>  \n",
       "</tr>\n",
       "<tr>\n",
       "  <th>Time:</th>                <td>18:41:30</td>     <th>  Log-Likelihood:    </th>  <td> -2961.1</td> \n",
       "</tr>\n",
       "<tr>\n",
       "  <th>converged:</th>             <td>True</td>       <th>  LL-Null:           </th>  <td> -3493.5</td> \n",
       "</tr>\n",
       "<tr>\n",
       "  <th>Covariance Type:</th>     <td>nonrobust</td>    <th>  LLR p-value:       </th> <td>1.526e-224</td>\n",
       "</tr>\n",
       "</table>\n",
       "<table class=\"simpletable\">\n",
       "<tr>\n",
       "              <td></td>                 <th>coef</th>     <th>std err</th>      <th>z</th>      <th>P>|z|</th>  <th>[0.025</th>    <th>0.975]</th>  \n",
       "</tr>\n",
       "<tr>\n",
       "  <th>Intercept</th>                 <td>   -3.8571</td> <td>    0.192</td> <td>  -20.109</td> <td> 0.000</td> <td>   -4.233</td> <td>   -3.481</td>\n",
       "</tr>\n",
       "<tr>\n",
       "  <th>C(GENERO)[T.1]</th>            <td>    1.2443</td> <td>    0.110</td> <td>   11.290</td> <td> 0.000</td> <td>    1.028</td> <td>    1.460</td>\n",
       "</tr>\n",
       "<tr>\n",
       "  <th>C(PROVIENE_OTR_MUN)[T.1]</th>  <td>    0.9636</td> <td>    0.303</td> <td>    3.178</td> <td> 0.001</td> <td>    0.369</td> <td>    1.558</td>\n",
       "</tr>\n",
       "<tr>\n",
       "  <th>C(TIPO_DISCAPACIDAD)[T.1]</th> <td>    1.8191</td> <td>    0.116</td> <td>   15.619</td> <td> 0.000</td> <td>    1.591</td> <td>    2.047</td>\n",
       "</tr>\n",
       "<tr>\n",
       "  <th>C(ES_BILINGUE)[T.1]</th>       <td>   -0.7090</td> <td>    0.414</td> <td>   -1.711</td> <td> 0.087</td> <td>   -1.521</td> <td>    0.103</td>\n",
       "</tr>\n",
       "<tr>\n",
       "  <th>C(POB_VICT_CONF)[T.1]</th>     <td>    0.7282</td> <td>    0.167</td> <td>    4.364</td> <td> 0.000</td> <td>    0.401</td> <td>    1.055</td>\n",
       "</tr>\n",
       "<tr>\n",
       "  <th>indice_hacinamiento</th>       <td>    0.0521</td> <td>    0.029</td> <td>    1.802</td> <td> 0.072</td> <td>   -0.005</td> <td>    0.109</td>\n",
       "</tr>\n",
       "<tr>\n",
       "  <th>COMPU_POR_ALUMN</th>           <td>   -0.4333</td> <td>    0.442</td> <td>   -0.980</td> <td> 0.327</td> <td>   -1.300</td> <td>    0.433</td>\n",
       "</tr>\n",
       "<tr>\n",
       "  <th>estrato</th>                   <td>   -2.0137</td> <td>    0.087</td> <td>  -23.219</td> <td> 0.000</td> <td>   -2.184</td> <td>   -1.844</td>\n",
       "</tr>\n",
       "</table>"
      ],
      "text/plain": [
       "<class 'statsmodels.iolib.summary.Summary'>\n",
       "\"\"\"\n",
       "                           Logit Regression Results                           \n",
       "==============================================================================\n",
       "Dep. Variable:              REPITENTE   No. Observations:               173345\n",
       "Model:                          Logit   Df Residuals:                   173336\n",
       "Method:                           MLE   Df Model:                            8\n",
       "Date:                Mon, 04 Jul 2022   Pseudo R-squ.:                  0.1524\n",
       "Time:                        18:41:30   Log-Likelihood:                -2961.1\n",
       "converged:                       True   LL-Null:                       -3493.5\n",
       "Covariance Type:            nonrobust   LLR p-value:                1.526e-224\n",
       "=============================================================================================\n",
       "                                coef    std err          z      P>|z|      [0.025      0.975]\n",
       "---------------------------------------------------------------------------------------------\n",
       "Intercept                    -3.8571      0.192    -20.109      0.000      -4.233      -3.481\n",
       "C(GENERO)[T.1]                1.2443      0.110     11.290      0.000       1.028       1.460\n",
       "C(PROVIENE_OTR_MUN)[T.1]      0.9636      0.303      3.178      0.001       0.369       1.558\n",
       "C(TIPO_DISCAPACIDAD)[T.1]     1.8191      0.116     15.619      0.000       1.591       2.047\n",
       "C(ES_BILINGUE)[T.1]          -0.7090      0.414     -1.711      0.087      -1.521       0.103\n",
       "C(POB_VICT_CONF)[T.1]         0.7282      0.167      4.364      0.000       0.401       1.055\n",
       "indice_hacinamiento           0.0521      0.029      1.802      0.072      -0.005       0.109\n",
       "COMPU_POR_ALUMN              -0.4333      0.442     -0.980      0.327      -1.300       0.433\n",
       "estrato                      -2.0137      0.087    -23.219      0.000      -2.184      -1.844\n",
       "=============================================================================================\n",
       "\"\"\""
      ]
     },
     "execution_count": 66,
     "metadata": {},
     "output_type": "execute_result"
    }
   ],
   "source": [
    "formula=formula_maker('REPITENTE', variables, categorias)\n",
    "model= smf.logit(formula= formula, data= df).fit() # Add if method='bfgs' if singular Matrix appears\n",
    "model.summary()"
   ]
  },
  {
   "cell_type": "code",
   "execution_count": 67,
   "id": "d4786fc8",
   "metadata": {},
   "outputs": [
    {
     "data": {
      "text/plain": [
       "array([4.21749273e-05, 4.29127745e-05, 1.54180447e-04, ...,\n",
       "       9.37305545e-03, 2.53682001e-03, 8.16737669e-03])"
      ]
     },
     "execution_count": 67,
     "metadata": {},
     "output_type": "execute_result"
    }
   ],
   "source": [
    "model.predict()"
   ]
  },
  {
   "cell_type": "code",
   "execution_count": 68,
   "id": "665f65c3",
   "metadata": {},
   "outputs": [
    {
     "data": {
      "text/plain": [
       "['indice_hacinamiento', 'COMPU_POR_ALUMN', 'estrato']"
      ]
     },
     "execution_count": 68,
     "metadata": {},
     "output_type": "execute_result"
    }
   ],
   "source": [
    "variables"
   ]
  },
  {
   "cell_type": "code",
   "execution_count": 69,
   "id": "ce326f24",
   "metadata": {},
   "outputs": [
    {
     "data": {
      "text/plain": [
       "['GENERO',\n",
       " 'PROVIENE_OTR_MUN',\n",
       " 'TIPO_DISCAPACIDAD',\n",
       " 'ES_BILINGUE',\n",
       " 'POB_VICT_CONF']"
      ]
     },
     "execution_count": 69,
     "metadata": {},
     "output_type": "execute_result"
    }
   ],
   "source": [
    "categorias"
   ]
  },
  {
   "cell_type": "code",
   "execution_count": 70,
   "id": "d4db6970",
   "metadata": {},
   "outputs": [],
   "source": [
    "X = variables + categorias"
   ]
  },
  {
   "cell_type": "code",
   "execution_count": 71,
   "id": "9d3afe87",
   "metadata": {},
   "outputs": [],
   "source": [
    "df[\"prediction\"] = model.predict(df[X])"
   ]
  },
  {
   "cell_type": "code",
   "execution_count": 72,
   "id": "fbe83230",
   "metadata": {},
   "outputs": [
    {
     "data": {
      "text/html": [
       "<div>\n",
       "<style scoped>\n",
       "    .dataframe tbody tr th:only-of-type {\n",
       "        vertical-align: middle;\n",
       "    }\n",
       "\n",
       "    .dataframe tbody tr th {\n",
       "        vertical-align: top;\n",
       "    }\n",
       "\n",
       "    .dataframe thead th {\n",
       "        text-align: right;\n",
       "    }\n",
       "</style>\n",
       "<table border=\"1\" class=\"dataframe\">\n",
       "  <thead>\n",
       "    <tr style=\"text-align: right;\">\n",
       "      <th></th>\n",
       "      <th>indice_hacinamiento</th>\n",
       "      <th>COMPU_POR_ALUMN</th>\n",
       "      <th>estrato</th>\n",
       "      <th>GENERO</th>\n",
       "      <th>PROVIENE_OTR_MUN</th>\n",
       "      <th>TIPO_DISCAPACIDAD</th>\n",
       "      <th>ES_BILINGUE</th>\n",
       "      <th>POB_VICT_CONF</th>\n",
       "      <th>prediction</th>\n",
       "    </tr>\n",
       "  </thead>\n",
       "  <tbody>\n",
       "    <tr>\n",
       "      <th>321</th>\n",
       "      <td>1.000000</td>\n",
       "      <td>0.524904</td>\n",
       "      <td>3</td>\n",
       "      <td>0</td>\n",
       "      <td>0</td>\n",
       "      <td>0</td>\n",
       "      <td>0</td>\n",
       "      <td>0</td>\n",
       "      <td>0.000042</td>\n",
       "    </tr>\n",
       "    <tr>\n",
       "      <th>322</th>\n",
       "      <td>1.333008</td>\n",
       "      <td>0.524904</td>\n",
       "      <td>3</td>\n",
       "      <td>0</td>\n",
       "      <td>0</td>\n",
       "      <td>0</td>\n",
       "      <td>0</td>\n",
       "      <td>0</td>\n",
       "      <td>0.000043</td>\n",
       "    </tr>\n",
       "    <tr>\n",
       "      <th>324</th>\n",
       "      <td>2.000000</td>\n",
       "      <td>0.524904</td>\n",
       "      <td>3</td>\n",
       "      <td>1</td>\n",
       "      <td>0</td>\n",
       "      <td>0</td>\n",
       "      <td>0</td>\n",
       "      <td>0</td>\n",
       "      <td>0.000154</td>\n",
       "    </tr>\n",
       "    <tr>\n",
       "      <th>326</th>\n",
       "      <td>5.000000</td>\n",
       "      <td>0.524904</td>\n",
       "      <td>3</td>\n",
       "      <td>0</td>\n",
       "      <td>0</td>\n",
       "      <td>0</td>\n",
       "      <td>0</td>\n",
       "      <td>1</td>\n",
       "      <td>0.000108</td>\n",
       "    </tr>\n",
       "    <tr>\n",
       "      <th>327</th>\n",
       "      <td>1.333008</td>\n",
       "      <td>0.524904</td>\n",
       "      <td>3</td>\n",
       "      <td>1</td>\n",
       "      <td>0</td>\n",
       "      <td>0</td>\n",
       "      <td>0</td>\n",
       "      <td>0</td>\n",
       "      <td>0.000149</td>\n",
       "    </tr>\n",
       "    <tr>\n",
       "      <th>...</th>\n",
       "      <td>...</td>\n",
       "      <td>...</td>\n",
       "      <td>...</td>\n",
       "      <td>...</td>\n",
       "      <td>...</td>\n",
       "      <td>...</td>\n",
       "      <td>...</td>\n",
       "      <td>...</td>\n",
       "      <td>...</td>\n",
       "    </tr>\n",
       "    <tr>\n",
       "      <th>455474</th>\n",
       "      <td>3.000000</td>\n",
       "      <td>0.110204</td>\n",
       "      <td>2</td>\n",
       "      <td>1</td>\n",
       "      <td>0</td>\n",
       "      <td>1</td>\n",
       "      <td>0</td>\n",
       "      <td>0</td>\n",
       "      <td>0.008902</td>\n",
       "    </tr>\n",
       "    <tr>\n",
       "      <th>455476</th>\n",
       "      <td>2.000000</td>\n",
       "      <td>0.110204</td>\n",
       "      <td>2</td>\n",
       "      <td>0</td>\n",
       "      <td>0</td>\n",
       "      <td>1</td>\n",
       "      <td>0</td>\n",
       "      <td>0</td>\n",
       "      <td>0.002451</td>\n",
       "    </tr>\n",
       "    <tr>\n",
       "      <th>455477</th>\n",
       "      <td>4.000000</td>\n",
       "      <td>0.110204</td>\n",
       "      <td>2</td>\n",
       "      <td>1</td>\n",
       "      <td>0</td>\n",
       "      <td>1</td>\n",
       "      <td>0</td>\n",
       "      <td>0</td>\n",
       "      <td>0.009373</td>\n",
       "    </tr>\n",
       "    <tr>\n",
       "      <th>455478</th>\n",
       "      <td>2.666016</td>\n",
       "      <td>0.110204</td>\n",
       "      <td>2</td>\n",
       "      <td>0</td>\n",
       "      <td>0</td>\n",
       "      <td>1</td>\n",
       "      <td>0</td>\n",
       "      <td>0</td>\n",
       "      <td>0.002537</td>\n",
       "    </tr>\n",
       "    <tr>\n",
       "      <th>455482</th>\n",
       "      <td>1.333008</td>\n",
       "      <td>0.110204</td>\n",
       "      <td>2</td>\n",
       "      <td>1</td>\n",
       "      <td>0</td>\n",
       "      <td>1</td>\n",
       "      <td>0</td>\n",
       "      <td>0</td>\n",
       "      <td>0.008167</td>\n",
       "    </tr>\n",
       "  </tbody>\n",
       "</table>\n",
       "<p>173345 rows × 9 columns</p>\n",
       "</div>"
      ],
      "text/plain": [
       "        indice_hacinamiento  COMPU_POR_ALUMN  estrato  GENERO  \\\n",
       "321                1.000000         0.524904        3       0   \n",
       "322                1.333008         0.524904        3       0   \n",
       "324                2.000000         0.524904        3       1   \n",
       "326                5.000000         0.524904        3       0   \n",
       "327                1.333008         0.524904        3       1   \n",
       "...                     ...              ...      ...     ...   \n",
       "455474             3.000000         0.110204        2       1   \n",
       "455476             2.000000         0.110204        2       0   \n",
       "455477             4.000000         0.110204        2       1   \n",
       "455478             2.666016         0.110204        2       0   \n",
       "455482             1.333008         0.110204        2       1   \n",
       "\n",
       "        PROVIENE_OTR_MUN  TIPO_DISCAPACIDAD  ES_BILINGUE  POB_VICT_CONF  \\\n",
       "321                    0                  0            0              0   \n",
       "322                    0                  0            0              0   \n",
       "324                    0                  0            0              0   \n",
       "326                    0                  0            0              1   \n",
       "327                    0                  0            0              0   \n",
       "...                  ...                ...          ...            ...   \n",
       "455474                 0                  1            0              0   \n",
       "455476                 0                  1            0              0   \n",
       "455477                 0                  1            0              0   \n",
       "455478                 0                  1            0              0   \n",
       "455482                 0                  1            0              0   \n",
       "\n",
       "        prediction  \n",
       "321       0.000042  \n",
       "322       0.000043  \n",
       "324       0.000154  \n",
       "326       0.000108  \n",
       "327       0.000149  \n",
       "...            ...  \n",
       "455474    0.008902  \n",
       "455476    0.002451  \n",
       "455477    0.009373  \n",
       "455478    0.002537  \n",
       "455482    0.008167  \n",
       "\n",
       "[173345 rows x 9 columns]"
      ]
     },
     "execution_count": 72,
     "metadata": {},
     "output_type": "execute_result"
    }
   ],
   "source": [
    "df[X +[\"prediction\"]]"
   ]
  },
  {
   "cell_type": "code",
   "execution_count": 73,
   "id": "9deb06ca",
   "metadata": {},
   "outputs": [],
   "source": [
    "import math"
   ]
  },
  {
   "cell_type": "code",
   "execution_count": 74,
   "id": "172d35d0",
   "metadata": {},
   "outputs": [],
   "source": [
    "lineal = (1*-3.857114) +  (3*-2.013717) +  (0.524904*-0.433340) + (1.000000*0.052084) + (0*1.244326) + (0*0.963557)+ (0*1.819143)+ (0*-0.709018)+(0*0.728171)"
   ]
  },
  {
   "cell_type": "code",
   "execution_count": 75,
   "id": "56b45896",
   "metadata": {},
   "outputs": [
    {
     "data": {
      "text/plain": [
       "4.217490950829295e-05"
      ]
     },
     "execution_count": 75,
     "metadata": {},
     "output_type": "execute_result"
    }
   ],
   "source": [
    "math.exp(lineal)/(1+math.exp(lineal))"
   ]
  },
  {
   "cell_type": "code",
   "execution_count": 76,
   "id": "77477a13",
   "metadata": {},
   "outputs": [
    {
     "ename": "NameError",
     "evalue": "name 'modelparams' is not defined",
     "output_type": "error",
     "traceback": [
      "\u001b[0;31m---------------------------------------------------------------------------\u001b[0m",
      "\u001b[0;31mNameError\u001b[0m                                 Traceback (most recent call last)",
      "\u001b[0;32m<ipython-input-76-aa197a37da3f>\u001b[0m in \u001b[0;36m<module>\u001b[0;34m\u001b[0m\n\u001b[0;32m----> 1\u001b[0;31m \u001b[0mmodelparams\u001b[0m\u001b[0;34m\u001b[0m\u001b[0;34m\u001b[0m\u001b[0m\n\u001b[0m",
      "\u001b[0;31mNameError\u001b[0m: name 'modelparams' is not defined"
     ]
    }
   ],
   "source": [
    "modelparams"
   ]
  },
  {
   "cell_type": "code",
   "execution_count": null,
   "id": "028f8f84",
   "metadata": {},
   "outputs": [],
   "source": []
  },
  {
   "cell_type": "code",
   "execution_count": null,
   "id": "7f226189",
   "metadata": {},
   "outputs": [],
   "source": []
  },
  {
   "cell_type": "code",
   "execution_count": null,
   "id": "d3d6fe3b",
   "metadata": {},
   "outputs": [],
   "source": []
  },
  {
   "cell_type": "code",
   "execution_count": null,
   "id": "e102e6d1-7e28-4018-80a6-97aef09dde90",
   "metadata": {},
   "outputs": [],
   "source": [
    "formula=formula_maker('REPITENTE', variables, categorias)\n",
    "model= smf.logit(formula= formula, data= df).fit(method = 'bfgs') # Add if method='bfgs' if singular Matrix appears\n",
    "model.summary()"
   ]
  },
  {
   "cell_type": "code",
   "execution_count": null,
   "id": "83fd4e4c-9d20-4f82-8dc2-5dcdb07cdecc",
   "metadata": {},
   "outputs": [],
   "source": [
    "all_vars = variables + categorias"
   ]
  },
  {
   "cell_type": "code",
   "execution_count": null,
   "id": "98018bf5-51c7-42c6-9b02-5c6c39648123",
   "metadata": {},
   "outputs": [],
   "source": [
    "X = df[all_vars]"
   ]
  },
  {
   "cell_type": "code",
   "execution_count": null,
   "id": "6f2083be-537c-49b4-aaf8-9a2548da222c",
   "metadata": {},
   "outputs": [],
   "source": [
    "X"
   ]
  },
  {
   "cell_type": "code",
   "execution_count": null,
   "id": "6f384db6-9606-4dfc-b96d-949580724e5d",
   "metadata": {},
   "outputs": [],
   "source": [
    "y = df['REPITENTE']\n",
    "y"
   ]
  },
  {
   "cell_type": "code",
   "execution_count": null,
   "id": "3615243d-327d-4f2b-be14-8745ec2e5190",
   "metadata": {},
   "outputs": [],
   "source": [
    "X = pd.get_dummies(X, columns=categorias, drop_first=True)\n",
    "X.head(2)"
   ]
  },
  {
   "cell_type": "code",
   "execution_count": null,
   "id": "65ebeee5-242d-4e10-84d4-559f418f9191",
   "metadata": {},
   "outputs": [],
   "source": [
    "logit_results = sm.GLM(y, X, family=sm.families.Binomial()).fit()\n",
    "logit_results.summary()"
   ]
  },
  {
   "cell_type": "code",
   "execution_count": null,
   "id": "ed147483-d9da-4947-b176-c5bd93477c86",
   "metadata": {},
   "outputs": [],
   "source": [
    "variables"
   ]
  },
  {
   "cell_type": "code",
   "execution_count": null,
   "id": "cf1a60ca-dd42-4530-b484-82d7417bd9a0",
   "metadata": {},
   "outputs": [],
   "source": [
    "categorias"
   ]
  },
  {
   "cell_type": "markdown",
   "id": "acf725ab-b40d-4530-badf-1c42607cc789",
   "metadata": {},
   "source": [
    "### Conclusions"
   ]
  }
 ],
 "metadata": {
  "kernelspec": {
   "display_name": "Python 3",
   "language": "python",
   "name": "python3"
  },
  "language_info": {
   "codemirror_mode": {
    "name": "ipython",
    "version": 3
   },
   "file_extension": ".py",
   "mimetype": "text/x-python",
   "name": "python",
   "nbconvert_exporter": "python",
   "pygments_lexer": "ipython3",
   "version": "3.8.8"
  }
 },
 "nbformat": 4,
 "nbformat_minor": 5
}
