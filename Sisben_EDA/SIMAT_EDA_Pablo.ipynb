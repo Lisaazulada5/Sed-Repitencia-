{
 "cells": [
  {
   "cell_type": "code",
   "execution_count": null,
   "id": "6cc268d8",
   "metadata": {},
   "outputs": [],
   "source": [
    "import pandas as pd\n",
    "import numpy as np\n",
    "import matplotlib.pyplot as plt\n",
    "import seaborn as sns"
   ]
  },
  {
   "cell_type": "code",
   "execution_count": null,
   "id": "b560d9ba",
   "metadata": {},
   "outputs": [],
   "source": [
    "chunk = pd.read_csv('../data/1-bronce/Consolidado-SIMAT-2017-2021.csv', chunksize = 10000)\n",
    "Simat_F = pd.concat(chunk)"
   ]
  },
  {
   "cell_type": "code",
   "execution_count": null,
   "id": "c5d97bf6",
   "metadata": {},
   "outputs": [],
   "source": [
    "Simat_F.info(verbose=True)"
   ]
  },
  {
   "cell_type": "code",
   "execution_count": null,
   "id": "f4727154",
   "metadata": {},
   "outputs": [],
   "source": [
    "Simat_cols = Simat_F.drop(Simat_F.columns.difference([\"RES_DEPTO\",\"RES_MUN\", \"ESTRATO\", \"SISBEN\", \"FECHA_NACIMIENTO\", \"GENERO\", \"POB_VICT_CONF\", \"DPTO_EXP\", \"MUN_EXP\", \"REPITENTE\"]),1, inplace =True)"
   ]
  },
  {
   "cell_type": "code",
   "execution_count": null,
   "id": "6eb56200",
   "metadata": {},
   "outputs": [],
   "source": [
    "Simat_F[[\"ANO_INF\", \"SISBEN\"]].head()"
   ]
  },
  {
   "cell_type": "code",
   "execution_count": null,
   "id": "3f970b13",
   "metadata": {},
   "outputs": [],
   "source": [
    "Simat_F[\"REPITENTE\"].value_counts()"
   ]
  },
  {
   "cell_type": "markdown",
   "id": "2ee647cd",
   "metadata": {},
   "source": [
    "# RES_DEPTO\n"
   ]
  },
  {
   "cell_type": "code",
   "execution_count": null,
   "id": "6fd2d324",
   "metadata": {},
   "outputs": [],
   "source": [
    "Simat_F[\"RES_DEPTO\"].value_counts().reset_index()"
   ]
  },
  {
   "cell_type": "code",
   "execution_count": null,
   "id": "379f4905",
   "metadata": {},
   "outputs": [],
   "source": [
    "count = Simat_F[\"RES_DEPTO\"].value_counts().reset_index()\n",
    "count[count[\"index\"] != 11].sum()"
   ]
  },
  {
   "cell_type": "markdown",
   "id": "cf9eb0d2",
   "metadata": {},
   "source": [
    "**Observation**: 209.402 observations that don´t live in Bogotá. "
   ]
  },
  {
   "cell_type": "markdown",
   "id": "77811c3b",
   "metadata": {},
   "source": [
    "# RES_MUN"
   ]
  },
  {
   "cell_type": "code",
   "execution_count": null,
   "id": "3c304638",
   "metadata": {},
   "outputs": [],
   "source": [
    "Simat_F[\"RES_MUN\"].value_counts().reset_index()"
   ]
  },
  {
   "cell_type": "markdown",
   "id": "1375c20c",
   "metadata": {},
   "source": [
    "**Observation**: We could concatenate RES_DEPTO with RES_MUN and filter the observation that have \"11001\" the code of Bogotá"
   ]
  },
  {
   "cell_type": "markdown",
   "id": "b76ce07f",
   "metadata": {},
   "source": [
    "# ESTRATO"
   ]
  },
  {
   "cell_type": "code",
   "execution_count": null,
   "id": "ca4805c1",
   "metadata": {},
   "outputs": [],
   "source": [
    "Simat_F[\"ESTRATO\"].value_counts()"
   ]
  },
  {
   "cell_type": "markdown",
   "id": "182a40c6",
   "metadata": {},
   "source": [
    "**Observation**: 9897 observations have 9 as Estrato. This is erroneous, so we will replace it with NAN"
   ]
  },
  {
   "cell_type": "code",
   "execution_count": null,
   "id": "e48ded13",
   "metadata": {},
   "outputs": [],
   "source": [
    "Simat_F[\"ESTRATO\"] = Simat_F[\"ESTRATO\"].replace(9, None)"
   ]
  },
  {
   "cell_type": "code",
   "execution_count": null,
   "id": "fe63a669",
   "metadata": {},
   "outputs": [],
   "source": [
    "crosstab = pd.crosstab(Simat_F[\"ANO_INF\"], Simat_F[\"ESTRATO\"], normalize = \"index\")*100"
   ]
  },
  {
   "cell_type": "code",
   "execution_count": null,
   "id": "cf052e16",
   "metadata": {},
   "outputs": [],
   "source": [
    "ax = crosstab.plot(kind='bar', stacked=True, figsize=(10, 6))\n",
    "ax.set_ylabel('%')\n",
    "ax.set_ylabel('Year')\n",
    "ax.set_title(\"Estrato (%) each year\")\n",
    "plt.legend(title='ESTRATO', bbox_to_anchor=(1.0, 1), loc='upper left')\n",
    "plt.show()"
   ]
  },
  {
   "cell_type": "markdown",
   "id": "c31f2b59",
   "metadata": {},
   "source": [
    "# SISBEN"
   ]
  },
  {
   "cell_type": "code",
   "execution_count": null,
   "id": "88d82716",
   "metadata": {},
   "outputs": [],
   "source": [
    "Simat_F[\"SISBEN\"] = Simat_F[\"SISBEN\"].str.replace(\",\",\".\").str.replace(\" \", \"\")\n",
    "Simat_F[\"SISBEN\"] = pd.to_numeric(Simat_F[\"SISBEN\"], errors='coerce')"
   ]
  },
  {
   "cell_type": "code",
   "execution_count": null,
   "id": "f7b17039",
   "metadata": {},
   "outputs": [],
   "source": [
    "Simat_F[\"SISBEN\"][Simat_F[\"ANO_INF\"] == 2017].head()"
   ]
  },
  {
   "cell_type": "code",
   "execution_count": null,
   "id": "e951113d",
   "metadata": {},
   "outputs": [],
   "source": [
    "Simat_F[\"SISBEN\"][Simat_F[\"ANO_INF\"] == 2018].head()"
   ]
  },
  {
   "cell_type": "code",
   "execution_count": null,
   "id": "11a70069",
   "metadata": {},
   "outputs": [],
   "source": [
    "Simat_F[\"SISBEN\"][Simat_F[\"ANO_INF\"] == 2021].head()"
   ]
  },
  {
   "cell_type": "markdown",
   "id": "a9495469",
   "metadata": {},
   "source": [
    "**Observation**: It seems that the coding of \"0\" was done differently in 2021. While in the other years few students have a score of 0, in 2021 almost half have this score.\n",
    "\n",
    "**Solution**: Since in 2021 it is not possible to differentiate between an original \"0\" and a \"0\" placed as a replacement for empty values, we will just ignore the \"0\" in all the variables\n"
   ]
  },
  {
   "cell_type": "code",
   "execution_count": null,
   "id": "9db03b05",
   "metadata": {},
   "outputs": [],
   "source": [
    "Simat_F[\"SISBEN\"][Simat_F[\"SISBEN\"] == 0] = np.nan  "
   ]
  },
  {
   "cell_type": "code",
   "execution_count": null,
   "id": "5c331262",
   "metadata": {},
   "outputs": [],
   "source": [
    "Sis2017 = Simat_F[\"SISBEN\"][Simat_F[\"ANO_INF\"] == 2017]\n",
    "Sis2018 = Simat_F[\"SISBEN\"][Simat_F[\"ANO_INF\"] == 2018]\n",
    "Sis2019 = Simat_F[\"SISBEN\"][Simat_F[\"ANO_INF\"] == 2019]\n",
    "Sis2020 = Simat_F[\"SISBEN\"][Simat_F[\"ANO_INF\"] == 2020]\n",
    "Sis2021 = Simat_F[\"SISBEN\"][Simat_F[\"ANO_INF\"] == 2021]"
   ]
  },
  {
   "cell_type": "code",
   "execution_count": null,
   "id": "155b3648",
   "metadata": {},
   "outputs": [],
   "source": [
    "Simat_F[\"SISBEN\"].describe()"
   ]
  },
  {
   "cell_type": "code",
   "execution_count": null,
   "id": "4f736062",
   "metadata": {},
   "outputs": [],
   "source": [
    "sns.set(style=\"darkgrid\")\n",
    "\n",
    "fig, axs = plt.subplots(2, 3, figsize=(22, 15))\n",
    "\n",
    "sns.histplot(data=Sis2017, x=Sis2017, kde=True, color=\"skyblue\", ax=axs[0, 0])\n",
    "sns.histplot(data=Sis2018, x=Sis2018, kde=True, color=\"olive\", ax=axs[0, 1])\n",
    "sns.histplot(data=Sis2019, x=Sis2019, kde=True, color=\"gold\", ax=axs[0, 2])\n",
    "sns.histplot(data=Sis2020, x=Sis2020, kde=True, color=\"teal\", ax=axs[1, 0])\n",
    "sns.histplot(data=Sis2021, x=Sis2021, kde=True, color=\"teal\", ax=axs[1, 1])\n",
    "\n",
    "axs[0, 0].set_title('2017')\n",
    "axs[0, 1].set_title('2018')\n",
    "axs[0, 2].set_title('2019')\n",
    "axs[1, 0].set_title('2020')\n",
    "axs[1, 1].set_title('2021')\n",
    "\n",
    "\n",
    "plt.show()"
   ]
  },
  {
   "cell_type": "code",
   "execution_count": null,
   "id": "11669746",
   "metadata": {},
   "outputs": [],
   "source": [
    "Simat_F.head()"
   ]
  },
  {
   "cell_type": "code",
   "execution_count": null,
   "id": "0c234e6c",
   "metadata": {},
   "outputs": [],
   "source": [
    "SISBEN[\"edad\"].value_counts(SISBEN[\"edad\"].value_counts())"
   ]
  },
  {
   "cell_type": "code",
   "execution_count": null,
   "id": "e97e521b",
   "metadata": {},
   "outputs": [],
   "source": []
  }
 ],
 "metadata": {
  "kernelspec": {
   "display_name": "Python 3",
   "language": "python",
   "name": "python3"
  },
  "language_info": {
   "codemirror_mode": {
    "name": "ipython",
    "version": 3
   },
   "file_extension": ".py",
   "mimetype": "text/x-python",
   "name": "python",
   "nbconvert_exporter": "python",
   "pygments_lexer": "ipython3",
   "version": "3.8.8"
  }
 },
 "nbformat": 4,
 "nbformat_minor": 5
}
