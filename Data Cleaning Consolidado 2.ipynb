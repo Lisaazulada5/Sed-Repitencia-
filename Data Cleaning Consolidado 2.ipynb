{
 "cells": [
  {
   "cell_type": "markdown",
   "id": "8a5e91ae-439c-475d-8548-cd80777ba458",
   "metadata": {},
   "source": [
    "# Limpieza de datos"
   ]
  },
  {
   "cell_type": "markdown",
   "id": "1d6b699a-3106-4905-8f74-889d46dda25e",
   "metadata": {},
   "source": [
    "Cargamos la base"
   ]
  },
  {
   "cell_type": "code",
   "execution_count": 1,
   "id": "184ff1f9",
   "metadata": {},
   "outputs": [],
   "source": [
    "# Scientific libraries\n",
    "import pandas as pd\n",
    "import numpy as np\n",
    "import matplotlib.pyplot as plt\n",
    "import seaborn as sns\n",
    "import math\n",
    "# Pandas options\n",
    "pd.options.display.max_columns = None"
   ]
  },
  {
   "cell_type": "code",
   "execution_count": 2,
   "id": "01b2ee35",
   "metadata": {
    "scrolled": true
   },
   "outputs": [
    {
     "name": "stderr",
     "output_type": "stream",
     "text": [
      "/opt/conda/lib/python3.8/site-packages/IPython/core/interactiveshell.py:3165: DtypeWarning: Columns (5,33,36,39,40) have mixed types.Specify dtype option on import or set low_memory=False.\n",
      "  has_raised = await self.run_ast_nodes(code_ast.body, cell_name,\n",
      "/opt/conda/lib/python3.8/site-packages/numpy/lib/arraysetops.py:583: FutureWarning: elementwise comparison failed; returning scalar instead, but in the future will perform elementwise comparison\n",
      "  mask |= (ar1 == a)\n"
     ]
    }
   ],
   "source": [
    "# first option to read the dataset\n",
    "df_consolidado = pd.read_csv('data/1-bronce/Consolidado-SIMAT-2017-2021.csv', index_col=0)"
   ]
  },
  {
   "cell_type": "code",
   "execution_count": 3,
   "id": "54cf231c",
   "metadata": {},
   "outputs": [
    {
     "name": "stdout",
     "output_type": "stream",
     "text": [
      "<class 'pandas.core.frame.DataFrame'>\n",
      "Int64Index: 4402945 entries, 0 to 4464570\n",
      "Data columns (total 40 columns):\n",
      " #   Column                Dtype  \n",
      "---  ------                -----  \n",
      " 0   ANO_INF               int64  \n",
      " 1   CODIGO_DANE           int64  \n",
      " 2   CODIGO_DANE_SEDE      int64  \n",
      " 3   TIPO_DOCUMENTO        int64  \n",
      " 4   NRO_DOCUMENTO         object \n",
      " 5   APELLIDO1             object \n",
      " 6   APELLIDO2             object \n",
      " 7   NOMBRE1               object \n",
      " 8   NOMBRE2               object \n",
      " 9   DIRECCION_RESIDENCIA  object \n",
      " 10  RES_DEPTO             int64  \n",
      " 11  RES_MUN               int64  \n",
      " 12  ESTRATO               int64  \n",
      " 13  SISBEN                object \n",
      " 14  FECHA_NACIMIENTO      object \n",
      " 15  GENERO                object \n",
      " 16  POB_VICT_CONF         int64  \n",
      " 17  DPTO_EXP              object \n",
      " 18  MUN_EXP               object \n",
      " 19  PROVIENE_SECTOR_PRIV  object \n",
      " 20  PROVIENE_OTR_MUN      object \n",
      " 21  TIPO_DISCAPACIDAD     int64  \n",
      " 22  CAP_EXC               int64  \n",
      " 23  CODIGO_ETNIA          int64  \n",
      " 24  CODIGO_JORNADA        int64  \n",
      " 25  CARACTER              float64\n",
      " 26  CODIGO_ESPECIALIDAD   int64  \n",
      " 27  CODIGO_GRADO          int64  \n",
      " 28  CODIGO_METODOLOGIA    int64  \n",
      " 29  REPITENTE             object \n",
      " 30  SIT_ACAD_ANIO_ANT     int64  \n",
      " 31  CON_ALUM_ANIO_ANT     float64\n",
      " 32  ZONA_RESI_ALU         object \n",
      " 33  VALORACION1           object \n",
      " 34  VALORACION2           object \n",
      " 35  CODIGO_INTERNADO      object \n",
      " 36  EDAD                  int64  \n",
      " 37  NIVEL                 int64  \n",
      " 38  DIR_NUM_LOCALIDAD     object \n",
      " 39  DIR_LOCALIDAD         object \n",
      "dtypes: float64(2), int64(18), object(20)\n",
      "memory usage: 1.3+ GB\n"
     ]
    }
   ],
   "source": [
    "df_consolidado.info()"
   ]
  },
  {
   "cell_type": "code",
   "execution_count": 4,
   "id": "c1a574db",
   "metadata": {},
   "outputs": [],
   "source": [
    "# Convierte a String NRO_DOCUMENTO Y Direccion\n",
    "df_consolidado['NRO_DOCUMENTO'] = df_consolidado['NRO_DOCUMENTO'].astype(str)\n",
    "df_consolidado['DIRECCION_RESIDENCIA'] = df_consolidado['DIRECCION_RESIDENCIA'].astype(str)\n",
    "# Elimina info de nombres\n",
    "df_consolidado.drop(['APELLIDO1', 'APELLIDO2', 'NOMBRE1', 'NOMBRE2', 'VALORACION1', 'VALORACION2'], inplace=True, axis=1)"
   ]
  },
  {
   "cell_type": "code",
   "execution_count": 5,
   "id": "a88fdcbc",
   "metadata": {},
   "outputs": [
    {
     "data": {
      "text/plain": [
       "False    4321467\n",
       "True       81478\n",
       "Name: NRO_DOCUMENTO, dtype: int64"
      ]
     },
     "execution_count": 5,
     "metadata": {},
     "output_type": "execute_result"
    }
   ],
   "source": [
    "df_consolidado['NRO_DOCUMENTO'].str.contains('\\D', regex=True).value_counts()"
   ]
  },
  {
   "cell_type": "code",
   "execution_count": 6,
   "id": "840b5f2a",
   "metadata": {},
   "outputs": [
    {
     "data": {
      "text/plain": [
       "False    4400079\n",
       "True        2866\n",
       "dtype: int64"
      ]
     },
     "execution_count": 6,
     "metadata": {},
     "output_type": "execute_result"
    }
   ],
   "source": [
    "((df_consolidado['NRO_DOCUMENTO'].str.contains('\\D', regex=True)) & (df_consolidado['TIPO_DOCUMENTO'].isin([1,2,3]))).value_counts()"
   ]
  },
  {
   "cell_type": "code",
   "execution_count": 7,
   "id": "fdd56a2a",
   "metadata": {
    "scrolled": true
   },
   "outputs": [
    {
     "data": {
      "text/plain": [
       "array([11, 85, 50, 73, 25, 15, 23, 54, 41, 47, 27,  5,  8, 13, 17, 19, 76,\n",
       "       44, 66, 70, 68, 20, 63, 52, 81, 95, 99, 86, 18, 88, 94, 91, 97])"
      ]
     },
     "execution_count": 7,
     "metadata": {},
     "output_type": "execute_result"
    }
   ],
   "source": [
    "# df_consolidado[\"RES_DEPTO\"] = df_consolidado[\"RES_DEPTO\"].astype('category')\n",
    "df_consolidado[\"RES_DEPTO\"].unique()"
   ]
  },
  {
   "cell_type": "code",
   "execution_count": 8,
   "id": "3bfe644a",
   "metadata": {
    "scrolled": true
   },
   "outputs": [
    {
     "data": {
      "text/plain": [
       "array([  1, 606, 313, 718, 675, 286, 176, 239, 443, 754, 520, 568, 306,\n",
       "       148, 269, 430, 250, 483, 168, 634, 140, 238,  13, 660, 290, 275,\n",
       "       740, 132, 821, 834, 573,   6, 380, 400, 352, 152, 555,  51, 469,\n",
       "       394, 885,  45, 370, 670, 755, 574, 750, 570, 665, 175, 524, 551,\n",
       "       288, 130,  81, 895, 124, 671, 455, 590, 835,  35, 396, 839, 319,\n",
       "       307,  47, 322, 183, 386, 377,  88, 295, 154, 758,  30, 300, 178,\n",
       "       444, 170, 299, 480,  68,  32, 530, 426, 899, 770, 777, 807, 682,\n",
       "       405, 547, 517,  43, 624, 162, 318, 442, 126, 473, 212, 147, 276,\n",
       "       892,  53, 875,  77, 498, 759, 592,  22, 842, 717, 245, 408, 591,\n",
       "        79, 298, 433, 761, 638, 854, 810, 104, 440, 673, 367, 664, 417,\n",
       "       490, 466, 545, 449, 535, 513, 843, 793, 873, 692, 668, 359, 710,\n",
       "       861, 708, 215, 504, 678,  25, 397, 518, 418, 980, 182, 815, 540,\n",
       "       139, 862, 658, 190, 897, 646, 703, 542, 137, 189, 667, 226, 806,\n",
       "       572,  60, 787, 488, 268, 817, 650, 874, 736, 222, 836, 376, 349,\n",
       "       851, 111, 293, 579,  20, 503, 683, 320, 820, 631, 580, 543,  97,\n",
       "       600, 279, 122, 794, 701, 753, 150, 563, 855, 679, 217, 327,  67,\n",
       "       214, 878, 531, 209, 614, 599, 491,  65, 711, 865, 411, 814, 612,\n",
       "        52,  10,  34, 360, 771, 421, 778, 109,  42, 615, 398, 594, 742,\n",
       "       649, 283, 251, 799,  16, 745, 205,  78, 232, 468, 698, 172, 785,\n",
       "       495, 790, 244, 407,  50, 350, 271, 713, 662, 221, 516,  94, 180,\n",
       "       823, 549, 385, 281, 427, 128, 756, 356, 406, 364, 181, 325, 680,\n",
       "       506, 744, 265, 120, 436, 837, 797, 686, 659, 621, 575,  55, 616,\n",
       "       246, 460, 558, 287, 707, 816, 372, 871, 772, 586, 699, 800, 541,\n",
       "       399, 296, 657, 804,  90, 845, 101, 185, 233, 425, 167, 645,  87,\n",
       "       113, 791,  40, 223, 647, 867, 388, 328, 402, 142, 228, 266, 401,\n",
       "         3, 211, 247, 188, 585, 822,  99, 870, 773, 743, 507, 805, 429,\n",
       "       693, 302, 688, 270, 476, 438, 315, 893, 229, 362, 106, 200, 179,\n",
       "       508, 564, 764, 410, 689, 832,  11,  36, 258, 847, 858, 151,  74,\n",
       "       596, 489, 378, 272, 432, 872, 110, 674, 697,  75, 224, 260, 256,\n",
       "       786, 655, 687, 206, 652, 500, 123, 898, 532, 622, 632, 672, 326,\n",
       "       486, 577, 282, 450, 218, 234, 135, 330, 776,   2, 297, 841, 312,\n",
       "       317, 720, 203, 174, 470, 628, 779, 197,  15, 550,  83, 685, 204,\n",
       "       887, 263,  24, 129,  26, 560, 100, 681, 548, 230, 860, 475, 553,\n",
       "       502, 809, 780, 383, 324, 760, 368, 654, 890, 357, 339, 335, 769,\n",
       "        19, 763,  58, 261, 684,  31, 877, 757, 355, 236, 248, 838,  95,\n",
       "       464, 798, 107, 308, 669, 361, 610, 690, 160, 413, 219, 656, 235,\n",
       "       537, 347, 676, 762, 879,  86, 828, 653, 310,  92, 343, 419, 187,\n",
       "       604, 353, 511, 808, 284, 458, 390, 569, 849,  41,  62, 264, 863,\n",
       "       403,  98, 801, 533, 332, 571, 749, 461, 323, 620,  73, 696, 255,\n",
       "       456,  93, 774, 514, 781, 479, 494, 723, 522, 344, 145,  29, 225,\n",
       "       161, 523, 894, 702, 125, 141, 819, 131, 607, 136, 138, 240, 884,\n",
       "       207, 354, 467, 321, 605,  38,  54, 960, 237, 392, 576, 824, 227,\n",
       "       435,  44, 789, 169, 869, 243, 889,  21, 210, 565, 381, 788, 883,\n",
       "       642, 856, 220, 497, 501, 420, 446, 694, 121, 114,   4, 792, 705,\n",
       "       134,  91, 663, 886])"
      ]
     },
     "execution_count": 8,
     "metadata": {},
     "output_type": "execute_result"
    }
   ],
   "source": [
    "df_consolidado[\"RES_MUN\"].unique()"
   ]
  },
  {
   "cell_type": "code",
   "execution_count": 9,
   "id": "bf450457",
   "metadata": {},
   "outputs": [
    {
     "data": {
      "text/plain": [
       "980"
      ]
     },
     "execution_count": 9,
     "metadata": {},
     "output_type": "execute_result"
    }
   ],
   "source": [
    "df_consolidado[\"RES_MUN\"].max()"
   ]
  },
  {
   "cell_type": "code",
   "execution_count": 10,
   "id": "22745e92",
   "metadata": {},
   "outputs": [
    {
     "data": {
      "text/plain": [
       "array([2, 3, 0, 1, 4, 6, 5])"
      ]
     },
     "execution_count": 10,
     "metadata": {},
     "output_type": "execute_result"
    }
   ],
   "source": [
    "# df_consolidado[\"ESTRATO\"] = df_consolidado[\"ESTRATO\"].replace(9, None)\n",
    "df_consolidado = df_consolidado[df_consolidado[\"ESTRATO\"] != 9]\n",
    "df_consolidado[\"ESTRATO\"].unique()\n"
   ]
  },
  {
   "cell_type": "code",
   "execution_count": 11,
   "id": "b5aa9e34",
   "metadata": {},
   "outputs": [],
   "source": [
    "df_consolidado[\"SISBEN\"] = df_consolidado[\"SISBEN\"].str.replace(\",\",\".\").str.replace(\" \", \"\")\n",
    "df_consolidado[\"SISBEN\"] = pd.to_numeric(df_consolidado[\"SISBEN\"], errors='coerce')"
   ]
  },
  {
   "cell_type": "code",
   "execution_count": 12,
   "id": "b650c984",
   "metadata": {},
   "outputs": [
    {
     "data": {
      "text/plain": [
       "dtype('float64')"
      ]
     },
     "execution_count": 12,
     "metadata": {},
     "output_type": "execute_result"
    }
   ],
   "source": [
    "df_consolidado[\"SISBEN\"].dtype"
   ]
  },
  {
   "cell_type": "code",
   "execution_count": 13,
   "id": "ee233bd1",
   "metadata": {},
   "outputs": [
    {
     "data": {
      "text/plain": [
       "0.0"
      ]
     },
     "execution_count": 13,
     "metadata": {},
     "output_type": "execute_result"
    }
   ],
   "source": [
    "df_consolidado[\"SISBEN\"].min()"
   ]
  },
  {
   "cell_type": "code",
   "execution_count": 14,
   "id": "4902f6dd",
   "metadata": {},
   "outputs": [],
   "source": [
    "df_consolidado[\"FECHA_NACIMIENTO\"] = pd.to_datetime(df_consolidado[\"FECHA_NACIMIENTO\"])"
   ]
  },
  {
   "cell_type": "code",
   "execution_count": 15,
   "id": "12183d07",
   "metadata": {},
   "outputs": [],
   "source": [
    "# df_consolidado.drop(['FECHA_NACIMIENTO'], inplace=True, axis=1)"
   ]
  },
  {
   "cell_type": "code",
   "execution_count": 16,
   "id": "8fead6bf",
   "metadata": {
    "scrolled": true
   },
   "outputs": [
    {
     "data": {
      "text/plain": [
       "array(['F', 'M'], dtype=object)"
      ]
     },
     "execution_count": 16,
     "metadata": {},
     "output_type": "execute_result"
    }
   ],
   "source": [
    "df_consolidado[\"GENERO\"].unique()"
   ]
  },
  {
   "cell_type": "code",
   "execution_count": 17,
   "id": "aa1e5d05",
   "metadata": {},
   "outputs": [
    {
     "data": {
      "text/plain": [
       "1"
      ]
     },
     "execution_count": 17,
     "metadata": {},
     "output_type": "execute_result"
    }
   ],
   "source": [
    "len('M'.encode('utf-8'))"
   ]
  },
  {
   "cell_type": "code",
   "execution_count": 18,
   "id": "32e5644e",
   "metadata": {},
   "outputs": [
    {
     "data": {
      "text/plain": [
       "array([ 9,  1,  2,  3,  4,  5, 99, 10, 18,  6, 17,  7, 14, 20, 15, 16, 12,\n",
       "       19,  8, 11, 21, 13])"
      ]
     },
     "execution_count": 18,
     "metadata": {},
     "output_type": "execute_result"
    }
   ],
   "source": [
    "df_consolidado['POB_VICT_CONF'].unique()"
   ]
  },
  {
   "cell_type": "code",
   "execution_count": 19,
   "id": "d66e8b20",
   "metadata": {
    "scrolled": false
   },
   "outputs": [
    {
     "data": {
      "text/plain": [
       "True     4262055\n",
       "False     130993\n",
       "Name: DPTO_EXP, dtype: int64"
      ]
     },
     "execution_count": 19,
     "metadata": {},
     "output_type": "execute_result"
    }
   ],
   "source": [
    "(df_consolidado['DPTO_EXP'] == ' ').value_counts()"
   ]
  },
  {
   "cell_type": "code",
   "execution_count": 20,
   "id": "672f38eb",
   "metadata": {
    "scrolled": true
   },
   "outputs": [
    {
     "data": {
      "text/plain": [
       "array([' ', '73', '25', '95', '76', '20', '50', '18', '15', '54', '68',\n",
       "       '5', '23', '13', '41', '11', '17', '47', '52', '85', '86', '27',\n",
       "       '8', '81', '19', '63', '70', '44', '99', '66', '97', '91', '94',\n",
       "       '88'], dtype=object)"
      ]
     },
     "execution_count": 20,
     "metadata": {},
     "output_type": "execute_result"
    }
   ],
   "source": [
    "df_consolidado['DPTO_EXP'] = df_consolidado['DPTO_EXP'].str.strip().replace('^0+', '', regex = True)\n",
    "df_consolidado['DPTO_EXP'] = df_consolidado['DPTO_EXP'].replace('', ' ')\n",
    "df_consolidado['DPTO_EXP'].unique()"
   ]
  },
  {
   "cell_type": "code",
   "execution_count": 21,
   "id": "e48a75fe",
   "metadata": {
    "scrolled": true
   },
   "outputs": [
    {
     "data": {
      "text/plain": [
       "True     4262055\n",
       "False     130993\n",
       "Name: MUN_EXP, dtype: int64"
      ]
     },
     "execution_count": 21,
     "metadata": {},
     "output_type": "execute_result"
    }
   ],
   "source": [
    "(df_consolidado['MUN_EXP'] == ' ').value_counts()"
   ]
  },
  {
   "cell_type": "code",
   "execution_count": 22,
   "id": "b5df1c7e",
   "metadata": {
    "scrolled": false
   },
   "outputs": [
    {
     "data": {
      "text/plain": [
       "array([' ', '616', '867', '394', '1', '148', '878', '555', '497', '596',\n",
       "       '111', '228', '885', '590', '860', '686', '168', '236', '689',\n",
       "       '81', '24', '120', '460', '606', '483', '837', '839', '675', '711',\n",
       "       '670', '873', '6', '29', '51', '251', '319', '349', '411', '744',\n",
       "       '268', '660', '25', '109', '250', '622', '810', '245', '290',\n",
       "       '132', '676', '592', '298', '835', '217', '136', '55', '189',\n",
       "       '200', '408', '183', '141', '507', '897', '79', '20', '288', '65',\n",
       "       '101', '233', '410', '68', '244', '43', '807', '701', '320', '283',\n",
       "       '753', '325', '130', '417', '823', '35', '97', '777', '773', '787',\n",
       "       '30', '662', '350', '899', '359', '708', '785', '206', '438',\n",
       "       '698', '26', '137', '147', '124', '688', '110', '600', '272', '90',\n",
       "       '862', '406', '568', '313', '551', '495', '654', '347', '377',\n",
       "       '834', '572', '571', '758', '573', '212', '683', '580', '381',\n",
       "       '368', '754', '678', '380', '361', '892', '865', '67', '756',\n",
       "       '517', '855', '863', '399', '330', '430', '205', '520', '504',\n",
       "       '11', '53', '175', '771', '563', '443', '94', '682', '508', '535',\n",
       "       '532', '400', '178', '238', '248', '794', '624', '357', '286',\n",
       "       '720', '86', '235', '736', '665', '306', '442', '239', '45', '99',\n",
       "       '713', '659', '418', '791', '50', '78', '13', '667', '468', '396',\n",
       "       '226', '506', '770', '405', '190', '215', '223', '671', '100',\n",
       "       '610', '980', '256', '444', '352', '514', '150', '151', '160',\n",
       "       '15', '781', '870', '790', '74', '75', '172', '473', '271', '604',\n",
       "       '895', '681', '599', '621', '668', '390', '398', '585', '524',\n",
       "       '300', '696', '449', '531', '258', '875', '385', '432', '16',\n",
       "       '162', '40', '386', '586', '440', '647', '541', '88', '652', '594',\n",
       "       '577', '854', '480', '710', '60', '52', '841', '565', '461', '685',\n",
       "       '530', '140', '548', '122', '204', '822', '498', '10', '874',\n",
       "       '861', '425', '518', '135', '847', '533', '450', '370', '579',\n",
       "       '128', '799', '718', '653', '299', '302', '679', '307', '821',\n",
       "       '540', '315', '433', '657', '125', '550', '139', '458', '142',\n",
       "       '154', '820', '800', '759', '786', '757', '575', '702', '87',\n",
       "       '615', '673', '893', '312', '247', '134', '392', '743', '275',\n",
       "       '649', '270', '58', '397', '426', '549', '570', '780', '486',\n",
       "       '378', '490', '355', '197', '32', '436', '707', '513', '760',\n",
       "       '169', '167', '545', '234', '469', '776', '318', '798', '62',\n",
       "       '429', '523', '161', '778', '464', '42', '740', '328', '569',\n",
       "       '687', '614', '179', '690', '612', '327', '224', '321', '170',\n",
       "       '276', '815', '218', '801', '344', '845', '362', '343', '553',\n",
       "       '664', '254', '364', '47', '805', '207', '455', '293', '83', '261',\n",
       "       '297', '466', '605', '503', '638', '279', '372', '674', '489',\n",
       "       '322', '774', '522', '591', '126', '427', '255', '388', '828',\n",
       "       '809', '402', '295', '836', '692', '717', '176', '383', '77',\n",
       "       '203', '858', '73', '842', '266', '317', '152', '645', '174',\n",
       "       '680', '672', '113', '872', '265', '749', '500', '547', '650',\n",
       "       '403', '419', '536', '797', '502', '697', '211', '95', '34', '491',\n",
       "       '287', '745', '246', '890', '413', '230', '832', '22', '229',\n",
       "       '560', '92', '788', '574', '308', '31', '225', '284', '537', '693',\n",
       "       '36', '655', '488', '296', '750', '894', '479', '576', '658',\n",
       "       '824', '180', '93', '356', '3', '761', '401', '467', '898', '19',\n",
       "       '106', '446', '669', '420', '543', '764', '456', '838', '542',\n",
       "       '263', '222', '843', '269', '332', '129', '804', '376', '887',\n",
       "       '360', '755', '742', '339', '188', '516', '851', '501', '138',\n",
       "       '240', '219', '666', '470', '121', '38', '324', '182', '877',\n",
       "       '335', '54', '209', '2', '703', '871', '181', '220', '494', '819',\n",
       "       '353', '260', '91', '107', '41', '281', '123', '227', '367', '699',\n",
       "       '634', '104', '243', '185', '816', '763', '817', '310', '264',\n",
       "       '435', '511', '326', '21', '4', '421', '475', '620', '564', '59',\n",
       "       '792', '642', '789', '607', '558', '779', '663'], dtype=object)"
      ]
     },
     "execution_count": 22,
     "metadata": {},
     "output_type": "execute_result"
    }
   ],
   "source": [
    "df_consolidado['MUN_EXP'] = df_consolidado['MUN_EXP'].str.strip().replace('^0+', '', regex = True)\n",
    "# df_consolidado = df_consolidado[df_consolidado['MUN_EXP'] != '']\n",
    "df_consolidado['MUN_EXP'] = df_consolidado['MUN_EXP'].replace('', ' ')\n",
    "df_consolidado['MUN_EXP'].unique()"
   ]
  },
  {
   "cell_type": "code",
   "execution_count": 23,
   "id": "7c369a0e",
   "metadata": {},
   "outputs": [],
   "source": [
    "df_consolidado.drop(['DPTO_EXP', 'MUN_EXP'], inplace=True, axis=1)"
   ]
  },
  {
   "cell_type": "code",
   "execution_count": 24,
   "id": "15245152",
   "metadata": {},
   "outputs": [
    {
     "data": {
      "text/plain": [
       "array(['N', 'S'], dtype=object)"
      ]
     },
     "execution_count": 24,
     "metadata": {},
     "output_type": "execute_result"
    }
   ],
   "source": [
    "# df_consolidado['PROVIENE_SECTOR_PRIV'] = df_consolidado['PROVIENE_SECTOR_PRIV']\n",
    "df_consolidado['PROVIENE_SECTOR_PRIV'].unique()"
   ]
  },
  {
   "cell_type": "code",
   "execution_count": 25,
   "id": "ec577ba3",
   "metadata": {},
   "outputs": [
    {
     "data": {
      "text/plain": [
       "array(['N', 'S'], dtype=object)"
      ]
     },
     "execution_count": 25,
     "metadata": {},
     "output_type": "execute_result"
    }
   ],
   "source": [
    "# df_consolidado['PROVIENE_OTR_MUN'] = df_consolidado['PROVIENE_OTR_MUN'].astype('category')\n",
    "df_consolidado['PROVIENE_OTR_MUN'].unique()"
   ]
  },
  {
   "cell_type": "code",
   "execution_count": 26,
   "id": "3001fd81",
   "metadata": {
    "scrolled": true
   },
   "outputs": [
    {
     "data": {
      "text/plain": [
       "array([99,  7,  8, 10, 18, 15, 13, 11,  3,  4, 19, 17, 14,  6, 12,  1,  2,\n",
       "        9,  5, 16])"
      ]
     },
     "execution_count": 26,
     "metadata": {},
     "output_type": "execute_result"
    }
   ],
   "source": [
    "df_consolidado['TIPO_DISCAPACIDAD'].unique()"
   ]
  },
  {
   "cell_type": "code",
   "execution_count": 27,
   "id": "394b4ade",
   "metadata": {},
   "outputs": [
    {
     "data": {
      "text/plain": [
       "array([ 9,  4,  1,  3,  2,  5,  6,  7, 11, 10])"
      ]
     },
     "execution_count": 27,
     "metadata": {},
     "output_type": "execute_result"
    }
   ],
   "source": [
    "df_consolidado['CAP_EXC'].unique()"
   ]
  },
  {
   "cell_type": "code",
   "execution_count": 28,
   "id": "a9622645",
   "metadata": {},
   "outputs": [
    {
     "data": {
      "text/plain": [
       "array([  0,  46,  49, 200,  75,  97,  19, 999,  83,   1,  45,  26,   4,\n",
       "        29,  74,  53,  44,  77,  12,  34,  95,  80,   9,  20,  10,  42,\n",
       "        73,  72,  99,  71,  52,   7,  47, 100,  27,  17,  15,  25,   5,\n",
       "        14,  31,  66,  70,  28,   2,  48, 400,  22,  18,   6,  57,  64,\n",
       "         3,  65,  13, 101,  33,  32,  67,   8,  35, 998,  16,  50,  23,\n",
       "        37,  56,  11,  58,  51,  85,  96,  86,  62,  40,  30,  54,  38,\n",
       "        82,  90,  36,  43,  21,  61,  24,  92,  81,  55,  68,  60,  94,\n",
       "       107,  69, 102,  39,  59,  79,  93,  84,  98, 109,  76])"
      ]
     },
     "execution_count": 28,
     "metadata": {},
     "output_type": "execute_result"
    }
   ],
   "source": [
    "df_consolidado['CODIGO_ETNIA'].unique()"
   ]
  },
  {
   "cell_type": "code",
   "execution_count": 29,
   "id": "1adf8809",
   "metadata": {},
   "outputs": [
    {
     "data": {
      "text/plain": [
       "array([6, 3, 2, 4, 1, 5])"
      ]
     },
     "execution_count": 29,
     "metadata": {},
     "output_type": "execute_result"
    }
   ],
   "source": [
    "df_consolidado['CODIGO_JORNADA'].unique()"
   ]
  },
  {
   "cell_type": "code",
   "execution_count": 30,
   "id": "7058681e",
   "metadata": {
    "scrolled": true
   },
   "outputs": [
    {
     "data": {
      "text/plain": [
       "array([1, 0, 2])"
      ]
     },
     "execution_count": 30,
     "metadata": {},
     "output_type": "execute_result"
    }
   ],
   "source": [
    "df_consolidado['CARACTER'] = df_consolidado['CARACTER'].astype(int)\n",
    "df_consolidado['CARACTER'].unique()"
   ]
  },
  {
   "cell_type": "code",
   "execution_count": 31,
   "id": "ea23cfdb",
   "metadata": {},
   "outputs": [
    {
     "data": {
      "text/plain": [
       "array([ 5,  0,  6,  8,  9,  7, 10])"
      ]
     },
     "execution_count": 31,
     "metadata": {},
     "output_type": "execute_result"
    }
   ],
   "source": [
    "df_consolidado['CODIGO_ESPECIALIDAD'].unique()"
   ]
  },
  {
   "cell_type": "code",
   "execution_count": 32,
   "id": "df7726dd",
   "metadata": {
    "scrolled": true
   },
   "outputs": [
    {
     "data": {
      "text/plain": [
       "array([10,  0,  3, -1,  9,  7, 11,  8,  6,  5,  2,  4,  1, 99, 25, 26, 23,\n",
       "       24, 22, -2, 21, 12, 13])"
      ]
     },
     "execution_count": 32,
     "metadata": {},
     "output_type": "execute_result"
    }
   ],
   "source": [
    "df_consolidado['CODIGO_GRADO'].unique()"
   ]
  },
  {
   "cell_type": "code",
   "execution_count": 33,
   "id": "dc43d571",
   "metadata": {
    "scrolled": true
   },
   "outputs": [
    {
     "data": {
      "text/plain": [
       "array([ 1,  9, 10, 20, 11,  2, 12])"
      ]
     },
     "execution_count": 33,
     "metadata": {},
     "output_type": "execute_result"
    }
   ],
   "source": [
    "df_consolidado['CODIGO_METODOLOGIA'].unique()"
   ]
  },
  {
   "cell_type": "code",
   "execution_count": 34,
   "id": "688a567e",
   "metadata": {},
   "outputs": [
    {
     "data": {
      "text/plain": [
       "array(['N', 'S'], dtype=object)"
      ]
     },
     "execution_count": 34,
     "metadata": {},
     "output_type": "execute_result"
    }
   ],
   "source": [
    "df_consolidado['REPITENTE'].unique()"
   ]
  },
  {
   "cell_type": "code",
   "execution_count": 35,
   "id": "e4106e46",
   "metadata": {},
   "outputs": [
    {
     "data": {
      "text/plain": [
       "array([1, 0, 8, 2])"
      ]
     },
     "execution_count": 35,
     "metadata": {},
     "output_type": "execute_result"
    }
   ],
   "source": [
    "df_consolidado['SIT_ACAD_ANIO_ANT'].unique()"
   ]
  },
  {
   "cell_type": "code",
   "execution_count": 36,
   "id": "a92a05d5",
   "metadata": {},
   "outputs": [
    {
     "data": {
      "text/plain": [
       "array([9, 8, 5, 3])"
      ]
     },
     "execution_count": 36,
     "metadata": {},
     "output_type": "execute_result"
    }
   ],
   "source": [
    "df_consolidado['CON_ALUM_ANIO_ANT'] = df_consolidado['CON_ALUM_ANIO_ANT'].astype(int)\n",
    "df_consolidado['CON_ALUM_ANIO_ANT'].unique()"
   ]
  },
  {
   "cell_type": "code",
   "execution_count": 37,
   "id": "62a4de1c",
   "metadata": {},
   "outputs": [
    {
     "data": {
      "text/plain": [
       "array(['1', '2', ' '], dtype=object)"
      ]
     },
     "execution_count": 37,
     "metadata": {},
     "output_type": "execute_result"
    }
   ],
   "source": [
    "df_consolidado['ZONA_RESI_ALU'] = df_consolidado['ZONA_RESI_ALU'].astype(str)\n",
    "df_consolidado['ZONA_RESI_ALU'].unique()"
   ]
  },
  {
   "cell_type": "code",
   "execution_count": 38,
   "id": "d8543499",
   "metadata": {
    "scrolled": false
   },
   "outputs": [
    {
     "data": {
      "text/plain": [
       "False    4393047\n",
       "True           1\n",
       "Name: ZONA_RESI_ALU, dtype: int64"
      ]
     },
     "execution_count": 38,
     "metadata": {},
     "output_type": "execute_result"
    }
   ],
   "source": [
    "(df_consolidado['ZONA_RESI_ALU'] == ' ').value_counts()"
   ]
  },
  {
   "cell_type": "code",
   "execution_count": 39,
   "id": "980146f8",
   "metadata": {},
   "outputs": [
    {
     "data": {
      "text/plain": [
       "array([1, 2])"
      ]
     },
     "execution_count": 39,
     "metadata": {},
     "output_type": "execute_result"
    }
   ],
   "source": [
    "df_consolidado = df_consolidado[df_consolidado['ZONA_RESI_ALU'] != ' ']\n",
    "df_consolidado['ZONA_RESI_ALU'] = df_consolidado['ZONA_RESI_ALU'].astype(int)\n",
    "df_consolidado['ZONA_RESI_ALU'].unique()"
   ]
  },
  {
   "cell_type": "code",
   "execution_count": 40,
   "id": "b0ce9b23",
   "metadata": {},
   "outputs": [
    {
     "data": {
      "text/plain": [
       "array([3])"
      ]
     },
     "execution_count": 40,
     "metadata": {},
     "output_type": "execute_result"
    }
   ],
   "source": [
    "df_consolidado['CODIGO_INTERNADO'] = df_consolidado['CODIGO_INTERNADO'].astype(str)\n",
    "df_consolidado['CODIGO_INTERNADO'] = df_consolidado['CODIGO_INTERNADO'].replace(' ', '3').astype(int)\n",
    "df_consolidado['CODIGO_INTERNADO'].unique()"
   ]
  },
  {
   "cell_type": "code",
   "execution_count": 41,
   "id": "27213d1b",
   "metadata": {},
   "outputs": [],
   "source": [
    "df_consolidado.drop(['CODIGO_INTERNADO'], inplace=True, axis=1)"
   ]
  },
  {
   "cell_type": "code",
   "execution_count": 42,
   "id": "67d743ea",
   "metadata": {
    "scrolled": true
   },
   "outputs": [
    {
     "data": {
      "text/plain": [
       "array([  1,   2,   3,   4,   5,   6,   7,   8,   9,  10,  11,  12,  13,\n",
       "        14,  15,  16,  17,  18,  19,  20,  21,  22,  23,  24,  25,  26,\n",
       "        27,  28,  29,  30,  31,  32,  33,  34,  35,  36,  37,  38,  39,\n",
       "        40,  41,  42,  43,  44,  45,  46,  47,  48,  49,  50,  51,  52,\n",
       "        53,  54,  55,  56,  57,  58,  59,  60,  61,  62,  63,  64,  65,\n",
       "        66,  67,  68,  69,  70,  71,  72,  73,  74,  75,  76,  77,  78,\n",
       "        79,  80,  81,  82,  83,  84,  85,  86,  87,  88,  89,  91,  92,\n",
       "        93,  97, 100])"
      ]
     },
     "execution_count": 42,
     "metadata": {},
     "output_type": "execute_result"
    }
   ],
   "source": [
    "df_consolidado['EDAD'].sort_values().unique()"
   ]
  },
  {
   "cell_type": "code",
   "execution_count": 43,
   "id": "233f9873",
   "metadata": {},
   "outputs": [
    {
     "data": {
      "text/plain": [
       "array([4, 1, 2, 3, 7])"
      ]
     },
     "execution_count": 43,
     "metadata": {},
     "output_type": "execute_result"
    }
   ],
   "source": [
    "df_consolidado['NIVEL'].unique()"
   ]
  },
  {
   "cell_type": "code",
   "execution_count": 44,
   "id": "8a60e0c9",
   "metadata": {
    "scrolled": true
   },
   "outputs": [
    {
     "data": {
      "text/plain": [
       "False    4393046\n",
       "True           1\n",
       "Name: NIVEL, dtype: int64"
      ]
     },
     "execution_count": 44,
     "metadata": {},
     "output_type": "execute_result"
    }
   ],
   "source": [
    "(df_consolidado['NIVEL'] == 7).value_counts()"
   ]
  },
  {
   "cell_type": "code",
   "execution_count": 45,
   "id": "700f6a79",
   "metadata": {},
   "outputs": [],
   "source": [
    "df_consolidado = df_consolidado[df_consolidado['NIVEL'] != 7]"
   ]
  },
  {
   "cell_type": "code",
   "execution_count": 46,
   "id": "0ffe6745",
   "metadata": {},
   "outputs": [
    {
     "data": {
      "text/plain": [
       "array([16, 8, 1, 10, 4, 12, 11, 13, 7, 6, 3, 18, 15, 17, 5, 14, 9, 19, 2,\n",
       "       20, '16', '18', '19', '11', '8', '9', '10', '2', '   16,00',\n",
       "       '    8,00', '    1,00', '    4,00', '   10,00', '   12,00',\n",
       "       '   11,00', '   13,00', '    7,00', '    5,00', '    6,00',\n",
       "       '    3,00', '   18,00', '   15,00', '   17,00', '   19,00',\n",
       "       '   14,00', '    9,00', '    2,00', '   20,00', ' ', '20'],\n",
       "      dtype=object)"
      ]
     },
     "execution_count": 46,
     "metadata": {},
     "output_type": "execute_result"
    }
   ],
   "source": [
    "df_consolidado['DIR_NUM_LOCALIDAD'].unique()"
   ]
  },
  {
   "cell_type": "code",
   "execution_count": 47,
   "id": "d8ea7b25",
   "metadata": {
    "scrolled": true
   },
   "outputs": [
    {
     "data": {
      "text/plain": [
       "False    4393031\n",
       "True          15\n",
       "Name: DIR_NUM_LOCALIDAD, dtype: int64"
      ]
     },
     "execution_count": 47,
     "metadata": {},
     "output_type": "execute_result"
    }
   ],
   "source": [
    "(df_consolidado['DIR_NUM_LOCALIDAD'] == \" \").value_counts()"
   ]
  },
  {
   "cell_type": "code",
   "execution_count": 48,
   "id": "cd3c40f1",
   "metadata": {},
   "outputs": [],
   "source": [
    "df_consolidado = df_consolidado[df_consolidado['DIR_NUM_LOCALIDAD'] != \" \"]"
   ]
  },
  {
   "cell_type": "code",
   "execution_count": 49,
   "id": "c1627201",
   "metadata": {},
   "outputs": [
    {
     "data": {
      "text/plain": [
       "array([16,  8,  1, 10,  4, 12, 11, 13,  7,  6,  3, 18, 15, 17,  5, 14,  9,\n",
       "       19,  2, 20])"
      ]
     },
     "execution_count": 49,
     "metadata": {},
     "output_type": "execute_result"
    }
   ],
   "source": [
    "df_consolidado['DIR_NUM_LOCALIDAD'] = df_consolidado['DIR_NUM_LOCALIDAD'].astype(str).str.strip().str.replace(\",.*\",\"\", regex = True)\n",
    "df_consolidado['DIR_NUM_LOCALIDAD'] = df_consolidado['DIR_NUM_LOCALIDAD'].astype(int)\n",
    "df_consolidado['DIR_NUM_LOCALIDAD'].unique()"
   ]
  },
  {
   "cell_type": "code",
   "execution_count": 50,
   "id": "22635aef",
   "metadata": {},
   "outputs": [],
   "source": [
    "df_consolidado.drop(['DIR_LOCALIDAD'], inplace=True, axis=1)"
   ]
  },
  {
   "cell_type": "code",
   "execution_count": 51,
   "id": "94898048",
   "metadata": {
    "scrolled": true
   },
   "outputs": [],
   "source": [
    "# df_consolidado"
   ]
  },
  {
   "cell_type": "code",
   "execution_count": 52,
   "id": "ab86c146",
   "metadata": {
    "scrolled": false
   },
   "outputs": [],
   "source": [
    "# df_consolidado.info()"
   ]
  },
  {
   "cell_type": "code",
   "execution_count": null,
   "id": "b85d47c9",
   "metadata": {},
   "outputs": [],
   "source": []
  },
  {
   "cell_type": "code",
   "execution_count": 53,
   "id": "e7d62703",
   "metadata": {},
   "outputs": [],
   "source": [
    "# df_consolidado.columns.tolist()"
   ]
  },
  {
   "cell_type": "code",
   "execution_count": 54,
   "id": "9ad5d494",
   "metadata": {},
   "outputs": [],
   "source": [
    "# df_consolidado.to_csv('data/2-plata/Consolidado_SIMAT_Depurado.csv')"
   ]
  },
  {
   "cell_type": "code",
   "execution_count": 57,
   "id": "fe21ec57",
   "metadata": {},
   "outputs": [],
   "source": [
    "# df_consolidado = pd.read_csv('data/2-plata/Consolidado_SIMAT_Depurado.csv',\n",
    "#                              index_col=0,\n",
    "#                              dtype={\n",
    "#                                  'ANO_INF':              'uint16',\n",
    "#                                  'CODIGO_DANE':          'uint64',\n",
    "#                                  'CODIGO_DANE_SEDE':     'uint64',\n",
    "#                                  'TIPO_DOCUMENTO':       'uint8',\n",
    "#                                  'NRO_DOCUMENTO':        'string',\n",
    "#                                  'DIRECCION_RESIDENCIA': 'string',\n",
    "#                                  'RES_DEPTO':            'uint8',\n",
    "#                                  'RES_MUN':              'uint16',\n",
    "#                                  'ESTRATO':              'uint8',\n",
    "#                                  'SISBEN':               'float16',\n",
    "#                                  'GENERO':               'string',\n",
    "#                                  'POB_VICT_CONF':        'uint8',\n",
    "#                                  'PROVIENE_SECTOR_PRIV': 'string',\n",
    "#                                  'PROVIENE_OTR_MUN':     'string',\n",
    "#                                  'TIPO_DISCAPACIDAD':    'uint8',\n",
    "#                                  'CAP_EXC':              'uint8',\n",
    "#                                  'CODIGO_ETNIA':         'uint16',\n",
    "#                                  'CODIGO_JORNADA':       'uint8',\n",
    "#                                  'CARACTER':             'uint8',\n",
    "#                                  'CODIGO_ESPECIALIDAD':  'uint8',\n",
    "#                                  'CODIGO_GRADO':         'int8',\n",
    "#                                  'CODIGO_METODOLOGIA':   'uint8',\n",
    "#                                  'REPITENTE':            'string',\n",
    "#                                  'SIT_ACAD_ANIO_ANT':    'uint8',\n",
    "#                                  'CON_ALUM_ANIO_ANT':    'uint8',\n",
    "#                                  'ZONA_RESI_ALU':        'uint8',\n",
    "#                                  'EDAD':                 'uint8',\n",
    "#                                  'NIVEL':                'uint8',\n",
    "#                                  'DIR_NUM_LOCALIDAD':    'uint8'\n",
    "#                              },\n",
    "#                              # Descomentar la linea de abajo si quieren que se convierta\n",
    "#                              # la variable 'FECHA_NACIMIENTO' a datetime\n",
    "#                              # parse_dates=True\n",
    "#                             )"
   ]
  },
  {
   "cell_type": "code",
   "execution_count": 58,
   "id": "0c32cedb",
   "metadata": {
    "scrolled": true
   },
   "outputs": [],
   "source": [
    "# df_consolidado.head()"
   ]
  },
  {
   "cell_type": "code",
   "execution_count": 59,
   "id": "b6cf533d",
   "metadata": {},
   "outputs": [],
   "source": [
    "# df_consolidado.info(show_counts=True)"
   ]
  },
  {
   "cell_type": "code",
   "execution_count": 60,
   "id": "3e846f73",
   "metadata": {
    "scrolled": true
   },
   "outputs": [
    {
     "data": {
      "text/html": [
       "<div>\n",
       "<style scoped>\n",
       "    .dataframe tbody tr th:only-of-type {\n",
       "        vertical-align: middle;\n",
       "    }\n",
       "\n",
       "    .dataframe tbody tr th {\n",
       "        vertical-align: top;\n",
       "    }\n",
       "\n",
       "    .dataframe thead th {\n",
       "        text-align: right;\n",
       "    }\n",
       "</style>\n",
       "<table border=\"1\" class=\"dataframe\">\n",
       "  <thead>\n",
       "    <tr style=\"text-align: right;\">\n",
       "      <th></th>\n",
       "      <th>ANO_INF</th>\n",
       "      <th>CODIGO_DANE</th>\n",
       "      <th>CODIGO_DANE_SEDE</th>\n",
       "      <th>TIPO_DOCUMENTO</th>\n",
       "      <th>NRO_DOCUMENTO</th>\n",
       "      <th>DIRECCION_RESIDENCIA</th>\n",
       "      <th>RES_DEPTO</th>\n",
       "      <th>RES_MUN</th>\n",
       "      <th>ESTRATO</th>\n",
       "      <th>SISBEN</th>\n",
       "      <th>FECHA_NACIMIENTO</th>\n",
       "      <th>GENERO</th>\n",
       "      <th>POB_VICT_CONF</th>\n",
       "      <th>PROVIENE_SECTOR_PRIV</th>\n",
       "      <th>PROVIENE_OTR_MUN</th>\n",
       "      <th>TIPO_DISCAPACIDAD</th>\n",
       "      <th>CAP_EXC</th>\n",
       "      <th>CODIGO_ETNIA</th>\n",
       "      <th>CODIGO_JORNADA</th>\n",
       "      <th>CARACTER</th>\n",
       "      <th>CODIGO_ESPECIALIDAD</th>\n",
       "      <th>CODIGO_GRADO</th>\n",
       "      <th>CODIGO_METODOLOGIA</th>\n",
       "      <th>REPITENTE</th>\n",
       "      <th>SIT_ACAD_ANIO_ANT</th>\n",
       "      <th>CON_ALUM_ANIO_ANT</th>\n",
       "      <th>ZONA_RESI_ALU</th>\n",
       "      <th>EDAD</th>\n",
       "      <th>NIVEL</th>\n",
       "      <th>DIR_NUM_LOCALIDAD</th>\n",
       "      <th>NIVEL_SISBEN</th>\n",
       "    </tr>\n",
       "  </thead>\n",
       "  <tbody>\n",
       "    <tr>\n",
       "      <th>0</th>\n",
       "      <td>2017</td>\n",
       "      <td>111001000078</td>\n",
       "      <td>111001000078</td>\n",
       "      <td>2</td>\n",
       "      <td>00010803853</td>\n",
       "      <td>CL 69 A 105 F 67</td>\n",
       "      <td>11</td>\n",
       "      <td>1</td>\n",
       "      <td>2</td>\n",
       "      <td>0.01</td>\n",
       "      <td>2000-01-08</td>\n",
       "      <td>F</td>\n",
       "      <td>9</td>\n",
       "      <td>N</td>\n",
       "      <td>N</td>\n",
       "      <td>99</td>\n",
       "      <td>9</td>\n",
       "      <td>0</td>\n",
       "      <td>6</td>\n",
       "      <td>1</td>\n",
       "      <td>5</td>\n",
       "      <td>10</td>\n",
       "      <td>1</td>\n",
       "      <td>N</td>\n",
       "      <td>1</td>\n",
       "      <td>9</td>\n",
       "      <td>1</td>\n",
       "      <td>17</td>\n",
       "      <td>4</td>\n",
       "      <td>16</td>\n",
       "      <td>1</td>\n",
       "    </tr>\n",
       "    <tr>\n",
       "      <th>1</th>\n",
       "      <td>2017</td>\n",
       "      <td>111001000078</td>\n",
       "      <td>111001014834</td>\n",
       "      <td>3</td>\n",
       "      <td>05057637</td>\n",
       "      <td>CL 34 SUR 40 A 51</td>\n",
       "      <td>11</td>\n",
       "      <td>1</td>\n",
       "      <td>3</td>\n",
       "      <td>NaN</td>\n",
       "      <td>2012-06-13</td>\n",
       "      <td>F</td>\n",
       "      <td>9</td>\n",
       "      <td>N</td>\n",
       "      <td>N</td>\n",
       "      <td>99</td>\n",
       "      <td>9</td>\n",
       "      <td>0</td>\n",
       "      <td>3</td>\n",
       "      <td>0</td>\n",
       "      <td>0</td>\n",
       "      <td>0</td>\n",
       "      <td>1</td>\n",
       "      <td>N</td>\n",
       "      <td>0</td>\n",
       "      <td>9</td>\n",
       "      <td>1</td>\n",
       "      <td>4</td>\n",
       "      <td>1</td>\n",
       "      <td>16</td>\n",
       "      <td>0</td>\n",
       "    </tr>\n",
       "    <tr>\n",
       "      <th>2</th>\n",
       "      <td>2017</td>\n",
       "      <td>111001000078</td>\n",
       "      <td>111001014834</td>\n",
       "      <td>3</td>\n",
       "      <td>067289989</td>\n",
       "      <td>KR 54 SUR 50 B 10</td>\n",
       "      <td>11</td>\n",
       "      <td>1</td>\n",
       "      <td>3</td>\n",
       "      <td>NaN</td>\n",
       "      <td>2008-10-07</td>\n",
       "      <td>M</td>\n",
       "      <td>9</td>\n",
       "      <td>N</td>\n",
       "      <td>N</td>\n",
       "      <td>7</td>\n",
       "      <td>9</td>\n",
       "      <td>0</td>\n",
       "      <td>3</td>\n",
       "      <td>0</td>\n",
       "      <td>0</td>\n",
       "      <td>3</td>\n",
       "      <td>1</td>\n",
       "      <td>N</td>\n",
       "      <td>1</td>\n",
       "      <td>9</td>\n",
       "      <td>1</td>\n",
       "      <td>8</td>\n",
       "      <td>2</td>\n",
       "      <td>16</td>\n",
       "      <td>0</td>\n",
       "    </tr>\n",
       "    <tr>\n",
       "      <th>3</th>\n",
       "      <td>2017</td>\n",
       "      <td>111001000078</td>\n",
       "      <td>111001014834</td>\n",
       "      <td>3</td>\n",
       "      <td>071759788</td>\n",
       "      <td>KR 40 28 A 02 SUR</td>\n",
       "      <td>11</td>\n",
       "      <td>1</td>\n",
       "      <td>3</td>\n",
       "      <td>NaN</td>\n",
       "      <td>2012-08-23</td>\n",
       "      <td>M</td>\n",
       "      <td>9</td>\n",
       "      <td>N</td>\n",
       "      <td>N</td>\n",
       "      <td>99</td>\n",
       "      <td>9</td>\n",
       "      <td>0</td>\n",
       "      <td>3</td>\n",
       "      <td>0</td>\n",
       "      <td>0</td>\n",
       "      <td>0</td>\n",
       "      <td>1</td>\n",
       "      <td>N</td>\n",
       "      <td>0</td>\n",
       "      <td>9</td>\n",
       "      <td>1</td>\n",
       "      <td>4</td>\n",
       "      <td>1</td>\n",
       "      <td>16</td>\n",
       "      <td>0</td>\n",
       "    </tr>\n",
       "    <tr>\n",
       "      <th>4</th>\n",
       "      <td>2017</td>\n",
       "      <td>111001000078</td>\n",
       "      <td>111001014834</td>\n",
       "      <td>3</td>\n",
       "      <td>089980482</td>\n",
       "      <td>KR 40 28 A 02 SUR</td>\n",
       "      <td>11</td>\n",
       "      <td>1</td>\n",
       "      <td>3</td>\n",
       "      <td>NaN</td>\n",
       "      <td>2013-11-16</td>\n",
       "      <td>F</td>\n",
       "      <td>9</td>\n",
       "      <td>N</td>\n",
       "      <td>N</td>\n",
       "      <td>99</td>\n",
       "      <td>9</td>\n",
       "      <td>0</td>\n",
       "      <td>3</td>\n",
       "      <td>0</td>\n",
       "      <td>0</td>\n",
       "      <td>-1</td>\n",
       "      <td>1</td>\n",
       "      <td>N</td>\n",
       "      <td>0</td>\n",
       "      <td>9</td>\n",
       "      <td>1</td>\n",
       "      <td>3</td>\n",
       "      <td>1</td>\n",
       "      <td>16</td>\n",
       "      <td>0</td>\n",
       "    </tr>\n",
       "    <tr>\n",
       "      <th>...</th>\n",
       "      <td>...</td>\n",
       "      <td>...</td>\n",
       "      <td>...</td>\n",
       "      <td>...</td>\n",
       "      <td>...</td>\n",
       "      <td>...</td>\n",
       "      <td>...</td>\n",
       "      <td>...</td>\n",
       "      <td>...</td>\n",
       "      <td>...</td>\n",
       "      <td>...</td>\n",
       "      <td>...</td>\n",
       "      <td>...</td>\n",
       "      <td>...</td>\n",
       "      <td>...</td>\n",
       "      <td>...</td>\n",
       "      <td>...</td>\n",
       "      <td>...</td>\n",
       "      <td>...</td>\n",
       "      <td>...</td>\n",
       "      <td>...</td>\n",
       "      <td>...</td>\n",
       "      <td>...</td>\n",
       "      <td>...</td>\n",
       "      <td>...</td>\n",
       "      <td>...</td>\n",
       "      <td>...</td>\n",
       "      <td>...</td>\n",
       "      <td>...</td>\n",
       "      <td>...</td>\n",
       "      <td>...</td>\n",
       "    </tr>\n",
       "    <tr>\n",
       "      <th>4464566</th>\n",
       "      <td>2021</td>\n",
       "      <td>411102000293</td>\n",
       "      <td>411102000293</td>\n",
       "      <td>2</td>\n",
       "      <td>1012336508</td>\n",
       "      <td>KR 105 B 65 81 SUR</td>\n",
       "      <td>11</td>\n",
       "      <td>1</td>\n",
       "      <td>2</td>\n",
       "      <td>54.68</td>\n",
       "      <td>2005-09-06</td>\n",
       "      <td>F</td>\n",
       "      <td>99</td>\n",
       "      <td>N</td>\n",
       "      <td>N</td>\n",
       "      <td>99</td>\n",
       "      <td>9</td>\n",
       "      <td>0</td>\n",
       "      <td>6</td>\n",
       "      <td>2</td>\n",
       "      <td>7</td>\n",
       "      <td>10</td>\n",
       "      <td>1</td>\n",
       "      <td>N</td>\n",
       "      <td>1</td>\n",
       "      <td>9</td>\n",
       "      <td>1</td>\n",
       "      <td>15</td>\n",
       "      <td>4</td>\n",
       "      <td>7</td>\n",
       "      <td>3</td>\n",
       "    </tr>\n",
       "    <tr>\n",
       "      <th>4464567</th>\n",
       "      <td>2021</td>\n",
       "      <td>411102000293</td>\n",
       "      <td>411102000293</td>\n",
       "      <td>2</td>\n",
       "      <td>1016713910</td>\n",
       "      <td>KR 99 A 71 39 SUR</td>\n",
       "      <td>11</td>\n",
       "      <td>1</td>\n",
       "      <td>2</td>\n",
       "      <td>61.21</td>\n",
       "      <td>2005-10-01</td>\n",
       "      <td>F</td>\n",
       "      <td>99</td>\n",
       "      <td>N</td>\n",
       "      <td>N</td>\n",
       "      <td>99</td>\n",
       "      <td>9</td>\n",
       "      <td>0</td>\n",
       "      <td>6</td>\n",
       "      <td>2</td>\n",
       "      <td>7</td>\n",
       "      <td>10</td>\n",
       "      <td>1</td>\n",
       "      <td>N</td>\n",
       "      <td>1</td>\n",
       "      <td>9</td>\n",
       "      <td>1</td>\n",
       "      <td>15</td>\n",
       "      <td>4</td>\n",
       "      <td>7</td>\n",
       "      <td>3</td>\n",
       "    </tr>\n",
       "    <tr>\n",
       "      <th>4464568</th>\n",
       "      <td>2021</td>\n",
       "      <td>411102000293</td>\n",
       "      <td>411102000293</td>\n",
       "      <td>2</td>\n",
       "      <td>1011090034</td>\n",
       "      <td>CL 62 SUR 93 C 53</td>\n",
       "      <td>11</td>\n",
       "      <td>1</td>\n",
       "      <td>2</td>\n",
       "      <td>58.21</td>\n",
       "      <td>2005-11-30</td>\n",
       "      <td>F</td>\n",
       "      <td>99</td>\n",
       "      <td>N</td>\n",
       "      <td>N</td>\n",
       "      <td>99</td>\n",
       "      <td>9</td>\n",
       "      <td>0</td>\n",
       "      <td>6</td>\n",
       "      <td>2</td>\n",
       "      <td>7</td>\n",
       "      <td>10</td>\n",
       "      <td>1</td>\n",
       "      <td>N</td>\n",
       "      <td>1</td>\n",
       "      <td>9</td>\n",
       "      <td>1</td>\n",
       "      <td>15</td>\n",
       "      <td>4</td>\n",
       "      <td>7</td>\n",
       "      <td>3</td>\n",
       "    </tr>\n",
       "    <tr>\n",
       "      <th>4464569</th>\n",
       "      <td>2021</td>\n",
       "      <td>411102000293</td>\n",
       "      <td>411102000293</td>\n",
       "      <td>2</td>\n",
       "      <td>1011092068</td>\n",
       "      <td>CL 61 B SUR 81 D 03</td>\n",
       "      <td>11</td>\n",
       "      <td>1</td>\n",
       "      <td>2</td>\n",
       "      <td>58.24</td>\n",
       "      <td>2006-02-24</td>\n",
       "      <td>F</td>\n",
       "      <td>99</td>\n",
       "      <td>N</td>\n",
       "      <td>N</td>\n",
       "      <td>99</td>\n",
       "      <td>9</td>\n",
       "      <td>0</td>\n",
       "      <td>6</td>\n",
       "      <td>2</td>\n",
       "      <td>7</td>\n",
       "      <td>10</td>\n",
       "      <td>1</td>\n",
       "      <td>N</td>\n",
       "      <td>1</td>\n",
       "      <td>9</td>\n",
       "      <td>1</td>\n",
       "      <td>15</td>\n",
       "      <td>4</td>\n",
       "      <td>7</td>\n",
       "      <td>3</td>\n",
       "    </tr>\n",
       "    <tr>\n",
       "      <th>4464570</th>\n",
       "      <td>2021</td>\n",
       "      <td>411102000293</td>\n",
       "      <td>411102000293</td>\n",
       "      <td>2</td>\n",
       "      <td>1029140201</td>\n",
       "      <td>CR 82 A # 61 SUR - 30</td>\n",
       "      <td>11</td>\n",
       "      <td>1</td>\n",
       "      <td>2</td>\n",
       "      <td>57.18</td>\n",
       "      <td>2005-01-13</td>\n",
       "      <td>F</td>\n",
       "      <td>99</td>\n",
       "      <td>N</td>\n",
       "      <td>N</td>\n",
       "      <td>99</td>\n",
       "      <td>9</td>\n",
       "      <td>0</td>\n",
       "      <td>6</td>\n",
       "      <td>2</td>\n",
       "      <td>7</td>\n",
       "      <td>11</td>\n",
       "      <td>1</td>\n",
       "      <td>N</td>\n",
       "      <td>1</td>\n",
       "      <td>9</td>\n",
       "      <td>1</td>\n",
       "      <td>16</td>\n",
       "      <td>4</td>\n",
       "      <td>7</td>\n",
       "      <td>3</td>\n",
       "    </tr>\n",
       "  </tbody>\n",
       "</table>\n",
       "<p>4393031 rows × 31 columns</p>\n",
       "</div>"
      ],
      "text/plain": [
       "         ANO_INF   CODIGO_DANE  CODIGO_DANE_SEDE  TIPO_DOCUMENTO  \\\n",
       "0           2017  111001000078      111001000078               2   \n",
       "1           2017  111001000078      111001014834               3   \n",
       "2           2017  111001000078      111001014834               3   \n",
       "3           2017  111001000078      111001014834               3   \n",
       "4           2017  111001000078      111001014834               3   \n",
       "...          ...           ...               ...             ...   \n",
       "4464566     2021  411102000293      411102000293               2   \n",
       "4464567     2021  411102000293      411102000293               2   \n",
       "4464568     2021  411102000293      411102000293               2   \n",
       "4464569     2021  411102000293      411102000293               2   \n",
       "4464570     2021  411102000293      411102000293               2   \n",
       "\n",
       "        NRO_DOCUMENTO   DIRECCION_RESIDENCIA  RES_DEPTO  RES_MUN  ESTRATO  \\\n",
       "0         00010803853       CL 69 A 105 F 67         11        1        2   \n",
       "1            05057637      CL 34 SUR 40 A 51         11        1        3   \n",
       "2           067289989      KR 54 SUR 50 B 10         11        1        3   \n",
       "3           071759788      KR 40 28 A 02 SUR         11        1        3   \n",
       "4           089980482      KR 40 28 A 02 SUR         11        1        3   \n",
       "...               ...                    ...        ...      ...      ...   \n",
       "4464566    1012336508     KR 105 B 65 81 SUR         11        1        2   \n",
       "4464567    1016713910      KR 99 A 71 39 SUR         11        1        2   \n",
       "4464568    1011090034      CL 62 SUR 93 C 53         11        1        2   \n",
       "4464569    1011092068    CL 61 B SUR 81 D 03         11        1        2   \n",
       "4464570    1029140201  CR 82 A # 61 SUR - 30         11        1        2   \n",
       "\n",
       "         SISBEN FECHA_NACIMIENTO GENERO  POB_VICT_CONF PROVIENE_SECTOR_PRIV  \\\n",
       "0          0.01       2000-01-08      F              9                    N   \n",
       "1           NaN       2012-06-13      F              9                    N   \n",
       "2           NaN       2008-10-07      M              9                    N   \n",
       "3           NaN       2012-08-23      M              9                    N   \n",
       "4           NaN       2013-11-16      F              9                    N   \n",
       "...         ...              ...    ...            ...                  ...   \n",
       "4464566   54.68       2005-09-06      F             99                    N   \n",
       "4464567   61.21       2005-10-01      F             99                    N   \n",
       "4464568   58.21       2005-11-30      F             99                    N   \n",
       "4464569   58.24       2006-02-24      F             99                    N   \n",
       "4464570   57.18       2005-01-13      F             99                    N   \n",
       "\n",
       "        PROVIENE_OTR_MUN  TIPO_DISCAPACIDAD  CAP_EXC  CODIGO_ETNIA  \\\n",
       "0                      N                 99        9             0   \n",
       "1                      N                 99        9             0   \n",
       "2                      N                  7        9             0   \n",
       "3                      N                 99        9             0   \n",
       "4                      N                 99        9             0   \n",
       "...                  ...                ...      ...           ...   \n",
       "4464566                N                 99        9             0   \n",
       "4464567                N                 99        9             0   \n",
       "4464568                N                 99        9             0   \n",
       "4464569                N                 99        9             0   \n",
       "4464570                N                 99        9             0   \n",
       "\n",
       "         CODIGO_JORNADA  CARACTER  CODIGO_ESPECIALIDAD  CODIGO_GRADO  \\\n",
       "0                     6         1                    5            10   \n",
       "1                     3         0                    0             0   \n",
       "2                     3         0                    0             3   \n",
       "3                     3         0                    0             0   \n",
       "4                     3         0                    0            -1   \n",
       "...                 ...       ...                  ...           ...   \n",
       "4464566               6         2                    7            10   \n",
       "4464567               6         2                    7            10   \n",
       "4464568               6         2                    7            10   \n",
       "4464569               6         2                    7            10   \n",
       "4464570               6         2                    7            11   \n",
       "\n",
       "         CODIGO_METODOLOGIA REPITENTE  SIT_ACAD_ANIO_ANT  CON_ALUM_ANIO_ANT  \\\n",
       "0                         1         N                  1                  9   \n",
       "1                         1         N                  0                  9   \n",
       "2                         1         N                  1                  9   \n",
       "3                         1         N                  0                  9   \n",
       "4                         1         N                  0                  9   \n",
       "...                     ...       ...                ...                ...   \n",
       "4464566                   1         N                  1                  9   \n",
       "4464567                   1         N                  1                  9   \n",
       "4464568                   1         N                  1                  9   \n",
       "4464569                   1         N                  1                  9   \n",
       "4464570                   1         N                  1                  9   \n",
       "\n",
       "         ZONA_RESI_ALU  EDAD  NIVEL  DIR_NUM_LOCALIDAD  NIVEL_SISBEN  \n",
       "0                    1    17      4                 16             1  \n",
       "1                    1     4      1                 16             0  \n",
       "2                    1     8      2                 16             0  \n",
       "3                    1     4      1                 16             0  \n",
       "4                    1     3      1                 16             0  \n",
       "...                ...   ...    ...                ...           ...  \n",
       "4464566              1    15      4                  7             3  \n",
       "4464567              1    15      4                  7             3  \n",
       "4464568              1    15      4                  7             3  \n",
       "4464569              1    15      4                  7             3  \n",
       "4464570              1    16      4                  7             3  \n",
       "\n",
       "[4393031 rows x 31 columns]"
      ]
     },
     "execution_count": 60,
     "metadata": {},
     "output_type": "execute_result"
    }
   ],
   "source": [
    "def calcular_nivel_sisben(row):\n",
    "    puntaje = row['SISBEN']\n",
    "    zona = int(row['ZONA_RESI_ALU'])\n",
    "    if math.isnan(puntaje):\n",
    "        return 0\n",
    "    elif ((0.00 <= puntaje <= 44.79) and  zona == 1) or ((0.00 <= puntaje <= 32.98) and zona == 2):\n",
    "        return 1\n",
    "    elif ((44.80 <= puntaje <= 51.57) and  zona == 1) or ((32.99 <= puntaje <= 37.80) and zona == 2):\n",
    "        return 2\n",
    "    elif (puntaje > 51.57 and  zona == 1) or (puntaje > 37.80 and zona == 2):\n",
    "        return 3\n",
    "    else:\n",
    "        return np.nan\n",
    "df_consolidado['NIVEL_SISBEN'] = df_consolidado[['SISBEN', 'ZONA_RESI_ALU']].apply(calcular_nivel_sisben, axis=1)\n",
    "df_consolidado"
   ]
  },
  {
   "cell_type": "code",
   "execution_count": 61,
   "id": "60382ccb",
   "metadata": {
    "scrolled": true
   },
   "outputs": [
    {
     "data": {
      "text/plain": [
       "False    4393031\n",
       "Name: NIVEL_SISBEN, dtype: int64"
      ]
     },
     "execution_count": 61,
     "metadata": {},
     "output_type": "execute_result"
    }
   ],
   "source": [
    "df_consolidado['NIVEL_SISBEN'].isnull().value_counts()"
   ]
  },
  {
   "cell_type": "code",
   "execution_count": 62,
   "id": "ab208053",
   "metadata": {},
   "outputs": [],
   "source": [
    "df_consolidado['NIVEL_SISBEN'] = df_consolidado['NIVEL_SISBEN'].astype('uint8')"
   ]
  },
  {
   "cell_type": "code",
   "execution_count": 63,
   "id": "72e21f2c",
   "metadata": {},
   "outputs": [],
   "source": [
    "# df_consolidado.to_csv('data/2-plata/Consolidado_SIMAT_Depurado.csv')"
   ]
  },
  {
   "cell_type": "code",
   "execution_count": 64,
   "id": "7fc69613",
   "metadata": {},
   "outputs": [],
   "source": [
    "# df_consolidado = pd.read_csv('data/2-plata/Consolidado_SIMAT_Depurado.csv',\n",
    "#                              index_col=0,\n",
    "#                              dtype={\n",
    "#                                  'ANO_INF':              'uint16',\n",
    "#                                  'CODIGO_DANE':          'uint64',\n",
    "#                                  'CODIGO_DANE_SEDE':     'uint64',\n",
    "#                                  'TIPO_DOCUMENTO':       'uint8',\n",
    "#                                  'NRO_DOCUMENTO':        'string',\n",
    "#                                  'DIRECCION_RESIDENCIA': 'string',\n",
    "#                                  'RES_DEPTO':            'uint8',\n",
    "#                                  'RES_MUN':              'uint16',\n",
    "#                                  'ESTRATO':              'uint8',\n",
    "#                                  'SISBEN':               'float16',\n",
    "#                                  'GENERO':               'string',\n",
    "#                                  'POB_VICT_CONF':        'uint8',\n",
    "#                                  'PROVIENE_SECTOR_PRIV': 'string',\n",
    "#                                  'PROVIENE_OTR_MUN':     'string',\n",
    "#                                  'TIPO_DISCAPACIDAD':    'uint8',\n",
    "#                                  'CAP_EXC':              'uint8',\n",
    "#                                  'CODIGO_ETNIA':         'uint16',\n",
    "#                                  'CODIGO_JORNADA':       'uint8',\n",
    "#                                  'CARACTER':             'uint8',\n",
    "#                                  'CODIGO_ESPECIALIDAD':  'uint8',\n",
    "#                                  'CODIGO_GRADO':         'int8',\n",
    "#                                  'CODIGO_METODOLOGIA':   'uint8',\n",
    "#                                  'REPITENTE':            'string',\n",
    "#                                  'SIT_ACAD_ANIO_ANT':    'uint8',\n",
    "#                                  'CON_ALUM_ANIO_ANT':    'uint8',\n",
    "#                                  'ZONA_RESI_ALU':        'uint8',\n",
    "#                                  'EDAD':                 'uint8',\n",
    "#                                  'NIVEL':                'uint8',\n",
    "#                                  'DIR_NUM_LOCALIDAD':    'uint8',\n",
    "#                                  'NIVEL_SISBEN':         'uint8'\n",
    "#                              },\n",
    "#                              # Descomentar la linea de abajo si quieren que se convierta\n",
    "#                              # la variable 'FECHA_NACIMIENTO' a datetime\n",
    "#                              # parse_dates=True\n",
    "#                             )"
   ]
  },
  {
   "cell_type": "code",
   "execution_count": 65,
   "id": "c6c86faf",
   "metadata": {
    "scrolled": true
   },
   "outputs": [],
   "source": [
    "# df_consolidado"
   ]
  },
  {
   "cell_type": "code",
   "execution_count": 66,
   "id": "31ee80b2",
   "metadata": {
    "scrolled": true
   },
   "outputs": [
    {
     "data": {
      "text/plain": [
       "array([0, 1], dtype=uint8)"
      ]
     },
     "execution_count": 66,
     "metadata": {},
     "output_type": "execute_result"
    }
   ],
   "source": [
    "df_consolidado['REPITENTE'] = df_consolidado['REPITENTE'].replace({'S': 1, 'N': 0}).astype('uint8')\n",
    "df_consolidado['REPITENTE'].unique()"
   ]
  },
  {
   "cell_type": "code",
   "execution_count": 67,
   "id": "cb06e575",
   "metadata": {},
   "outputs": [],
   "source": [
    "dict_etnia_recod = {\n",
    "    0 : 0 ,\n",
    "    200 : 2 ,\n",
    "    1 : 1 ,\n",
    "    97 : 5 ,\n",
    "    83 : 1 ,\n",
    "    46 : 1 ,\n",
    "    19 : 1 ,\n",
    "    8 : 1 ,\n",
    "    96 : 1 ,\n",
    "    95 : 4 ,\n",
    "    73 : 1 ,\n",
    "    75 : 1 ,\n",
    "    6 : 1 ,\n",
    "    101 : 1 ,\n",
    "    45 : 1 ,\n",
    "    49 : 1 ,\n",
    "    72 : 1 ,\n",
    "    35 : 1 ,\n",
    "    107 : 1 ,\n",
    "    65 : 1 ,\n",
    "    27 : 1 ,\n",
    "    74 : 1 ,\n",
    "    50 : 1 ,\n",
    "    98 : 6 ,\n",
    "    5 : 1 ,\n",
    "    66 : 1 ,\n",
    "    12 : 1 ,\n",
    "    31 : 1 ,\n",
    "    26 : 1 ,\n",
    "    48 : 1 ,\n",
    "    4 : 1 ,\n",
    "    16 : 1 ,\n",
    "    22 : 1 ,\n",
    "    34 : 1 ,\n",
    "    29 : 1 ,\n",
    "    2 : 1 ,\n",
    "    18 : 1 ,\n",
    "    7 : 1 ,\n",
    "    47 : 1 ,\n",
    "    52 : 1 ,\n",
    "    17 : 1 ,\n",
    "    80 : 1 ,\n",
    "    15 : 1 ,\n",
    "    109 : 1 ,\n",
    "    53 : 1 ,\n",
    "    400 : 3 ,\n",
    "    77 : 1 ,\n",
    "    25 : 1 ,\n",
    "    28 : 1 ,\n",
    "    70 : 1 ,\n",
    "    100 : 1 ,\n",
    "    3 : 1 ,\n",
    "    10 : 1 ,\n",
    "    13 : 1 ,\n",
    "    40 : 1 ,\n",
    "    59 : 1 ,\n",
    "    14 : 1 ,\n",
    "    20 : 1 ,\n",
    "    9 : 1 ,\n",
    "    64 : 1 ,\n",
    "    102 : 1 ,\n",
    "    44 : 1 ,\n",
    "    55 : 1 ,\n",
    "    81 : 1 ,\n",
    "    67 : 1 ,\n",
    "    57 : 1 ,\n",
    "    23 : 1 ,\n",
    "    37 : 1 ,\n",
    "    36 : 1 ,\n",
    "    99 : 1 ,\n",
    "    21 : 1 ,\n",
    "    84 : 1 ,\n",
    "    56 : 1 ,\n",
    "    51 : 1 ,\n",
    "    76 : 1 ,\n",
    "    43 : 1 ,\n",
    "    39 : 1 ,\n",
    "    54 : 1 ,\n",
    "    58 : 1 ,\n",
    "    68 : 1 ,\n",
    "    82 : 1 ,\n",
    "    42 : 1 ,\n",
    "    33 : 1 ,\n",
    "    11 : 1 ,\n",
    "    71 : 1,\n",
    "    998: 0,\n",
    "    999: 0,\n",
    "    24: 1,\n",
    "    30: 1,\n",
    "    32: 1,\n",
    "    38: 1,\n",
    "    60: 1,\n",
    "    61: 1,\n",
    "    62: 1,\n",
    "    69: 1,\n",
    "    79: 1,\n",
    "    85: 1,\n",
    "    86: 1,\n",
    "    90: 1,\n",
    "    92: 1,\n",
    "    93: 1,\n",
    "    94: 1\n",
    "}"
   ]
  },
  {
   "cell_type": "code",
   "execution_count": 68,
   "id": "099a08c6",
   "metadata": {
    "scrolled": true
   },
   "outputs": [
    {
     "data": {
      "text/plain": [
       "array([0, 1, 2, 5, 4, 3, 6])"
      ]
     },
     "execution_count": 68,
     "metadata": {},
     "output_type": "execute_result"
    }
   ],
   "source": [
    "df_consolidado['CODIGO_ETNIA'] = df_consolidado['CODIGO_ETNIA'].replace(dict_etnia_recod)\n",
    "df_consolidado['CODIGO_ETNIA'].unique()"
   ]
  },
  {
   "cell_type": "code",
   "execution_count": 69,
   "id": "bc403981",
   "metadata": {},
   "outputs": [],
   "source": [
    "def grado_overage(x):\n",
    "    if x['CODIGO_GRADO'] < 0 and x['EDAD'] >= 6:\n",
    "        ovage = 0\n",
    "    elif x['CODIGO_GRADO'] == -1 and x['EDAD'] <= 5:\n",
    "        ovage = 100\n",
    "    elif x['CODIGO_GRADO'] == -2 and x['EDAD'] >= 5:\n",
    "        ovage = 0        \n",
    "    elif x['CODIGO_GRADO'] == -2 and x['EDAD'] <= 4:\n",
    "        ovage = 100    \n",
    "    elif x['EDAD']-6 <= x['CODIGO_GRADO'] and x['CODIGO_GRADO'] >= 0:\n",
    "        ovage = 100\n",
    "    else:\n",
    "        ovage = int(100*(x['CODIGO_GRADO']) /(x['EDAD']-6))\n",
    "        \n",
    "    return ovage"
   ]
  },
  {
   "cell_type": "code",
   "execution_count": 70,
   "id": "54855460",
   "metadata": {},
   "outputs": [
    {
     "data": {
      "text/plain": [
       "0           90\n",
       "1          100\n",
       "2          100\n",
       "3          100\n",
       "4          100\n",
       "          ... \n",
       "4464566    100\n",
       "4464567    100\n",
       "4464568    100\n",
       "4464569    100\n",
       "4464570    100\n",
       "Name: GRADO_OVERAGE, Length: 4393031, dtype: int64"
      ]
     },
     "execution_count": 70,
     "metadata": {},
     "output_type": "execute_result"
    }
   ],
   "source": [
    "df_consolidado['GRADO_OVERAGE'] = df_consolidado[['EDAD','CODIGO_GRADO']].apply(grado_overage, axis = 1 )\n",
    "df_consolidado['GRADO_OVERAGE']"
   ]
  },
  {
   "cell_type": "code",
   "execution_count": 71,
   "id": "faad3ad3",
   "metadata": {},
   "outputs": [],
   "source": [
    "def overage(x):        \n",
    "    return 1 if x['GRADO_OVERAGE'] < 100 else 0;"
   ]
  },
  {
   "cell_type": "code",
   "execution_count": 72,
   "id": "179de4be",
   "metadata": {},
   "outputs": [],
   "source": [
    "df_consolidado['OVERAGE'] = df_consolidado[['GRADO_OVERAGE']].apply(overage, axis=1)"
   ]
  },
  {
   "cell_type": "code",
   "execution_count": 73,
   "id": "46ee59b5",
   "metadata": {},
   "outputs": [],
   "source": [
    "dict_discapacidad = {\n",
    "15 : 1 ,\n",
    "8 : 1 ,\n",
    "18 : 1 ,\n",
    "13 : 1 ,\n",
    "7 : 1 ,\n",
    "10 : 1 ,\n",
    "17 : 1 ,\n",
    "4 : 1 ,\n",
    "3 : 1 ,\n",
    "19 : 1 ,\n",
    "11 : 1 ,\n",
    "14 : 1 ,\n",
    "12 : 1 ,\n",
    "2 : 1 ,\n",
    "9 : 1 ,\n",
    "1 : 1 ,\n",
    "99: 0,\n",
    "6: 1,\n",
    "5: 1,\n",
    "16: 1\n",
    "}"
   ]
  },
  {
   "cell_type": "code",
   "execution_count": 74,
   "id": "2218d236",
   "metadata": {},
   "outputs": [
    {
     "data": {
      "text/plain": [
       "array([0, 1])"
      ]
     },
     "execution_count": 74,
     "metadata": {},
     "output_type": "execute_result"
    }
   ],
   "source": [
    "df_consolidado['TIPO_DISCAPACIDAD'].replace(dict_discapacidad, inplace=True)\n",
    "df_consolidado['TIPO_DISCAPACIDAD'].unique()"
   ]
  },
  {
   "cell_type": "code",
   "execution_count": 75,
   "id": "a2c80a1e",
   "metadata": {},
   "outputs": [],
   "source": [
    "df_consolidado.to_csv('data/2-plata/Consolidado_SIMAT_Depurado.csv')"
   ]
  },
  {
   "cell_type": "code",
   "execution_count": 76,
   "id": "b93b9d6f",
   "metadata": {},
   "outputs": [
    {
     "name": "stderr",
     "output_type": "stream",
     "text": [
      "/opt/conda/lib/python3.8/site-packages/numpy/lib/arraysetops.py:583: FutureWarning: elementwise comparison failed; returning scalar instead, but in the future will perform elementwise comparison\n",
      "  mask |= (ar1 == a)\n"
     ]
    }
   ],
   "source": [
    "df_consolidado = pd.read_csv('data/2-plata/Consolidado_SIMAT_Depurado.csv',\n",
    "                             index_col=0,\n",
    "                             dtype={\n",
    "                                 'ANO_INF':              'uint16',\n",
    "                                 'CODIGO_DANE':          'uint64',\n",
    "                                 'CODIGO_DANE_SEDE':     'uint64',\n",
    "                                 'TIPO_DOCUMENTO':       'uint8',\n",
    "                                 'NRO_DOCUMENTO':        'string',\n",
    "                                 'DIRECCION_RESIDENCIA': 'string',\n",
    "                                 'RES_DEPTO':            'uint8',\n",
    "                                 'RES_MUN':              'uint16',\n",
    "                                 'ESTRATO':              'uint8',\n",
    "                                 'SISBEN':               'float16',\n",
    "                                 'GENERO':               'string',\n",
    "                                 'POB_VICT_CONF':        'uint8',\n",
    "                                 'PROVIENE_SECTOR_PRIV': 'string',\n",
    "                                 'PROVIENE_OTR_MUN':     'string',\n",
    "                                 'TIPO_DISCAPACIDAD':    'uint8',\n",
    "                                 'CAP_EXC':              'uint8',\n",
    "                                 'CODIGO_ETNIA':         'uint16',\n",
    "                                 'CODIGO_JORNADA':       'uint8',\n",
    "                                 'CARACTER':             'uint8',\n",
    "                                 'CODIGO_ESPECIALIDAD':  'uint8',\n",
    "                                 'CODIGO_GRADO':         'int8',\n",
    "                                 'CODIGO_METODOLOGIA':   'uint8',\n",
    "                                 'REPITENTE':            'string',\n",
    "                                 'SIT_ACAD_ANIO_ANT':    'uint8',\n",
    "                                 'CON_ALUM_ANIO_ANT':    'uint8',\n",
    "                                 'ZONA_RESI_ALU':        'uint8',\n",
    "                                 'EDAD':                 'uint8',\n",
    "                                 'NIVEL':                'uint8',\n",
    "                                 'DIR_NUM_LOCALIDAD':    'uint8',\n",
    "                                 'NIVEL_SISBEN':         'uint8',\n",
    "                                 'GRADO_OVERAGE':        'uint8',\n",
    "                                 'OVERAGE':        'uint8'                                 \n",
    "                             },\n",
    "                             # Descomentar la linea de abajo si quieren que se convierta\n",
    "                             # la variable 'FECHA_NACIMIENTO' a datetime\n",
    "                             # parse_dates=True\n",
    "                            )"
   ]
  },
  {
   "cell_type": "code",
   "execution_count": 77,
   "id": "fd0c24ed",
   "metadata": {},
   "outputs": [
    {
     "data": {
      "text/html": [
       "<div>\n",
       "<style scoped>\n",
       "    .dataframe tbody tr th:only-of-type {\n",
       "        vertical-align: middle;\n",
       "    }\n",
       "\n",
       "    .dataframe tbody tr th {\n",
       "        vertical-align: top;\n",
       "    }\n",
       "\n",
       "    .dataframe thead th {\n",
       "        text-align: right;\n",
       "    }\n",
       "</style>\n",
       "<table border=\"1\" class=\"dataframe\">\n",
       "  <thead>\n",
       "    <tr style=\"text-align: right;\">\n",
       "      <th></th>\n",
       "      <th>ANO_INF</th>\n",
       "      <th>CODIGO_DANE</th>\n",
       "      <th>CODIGO_DANE_SEDE</th>\n",
       "      <th>TIPO_DOCUMENTO</th>\n",
       "      <th>NRO_DOCUMENTO</th>\n",
       "      <th>DIRECCION_RESIDENCIA</th>\n",
       "      <th>RES_DEPTO</th>\n",
       "      <th>RES_MUN</th>\n",
       "      <th>ESTRATO</th>\n",
       "      <th>SISBEN</th>\n",
       "      <th>FECHA_NACIMIENTO</th>\n",
       "      <th>GENERO</th>\n",
       "      <th>POB_VICT_CONF</th>\n",
       "      <th>PROVIENE_SECTOR_PRIV</th>\n",
       "      <th>PROVIENE_OTR_MUN</th>\n",
       "      <th>TIPO_DISCAPACIDAD</th>\n",
       "      <th>CAP_EXC</th>\n",
       "      <th>CODIGO_ETNIA</th>\n",
       "      <th>CODIGO_JORNADA</th>\n",
       "      <th>CARACTER</th>\n",
       "      <th>CODIGO_ESPECIALIDAD</th>\n",
       "      <th>CODIGO_GRADO</th>\n",
       "      <th>CODIGO_METODOLOGIA</th>\n",
       "      <th>REPITENTE</th>\n",
       "      <th>SIT_ACAD_ANIO_ANT</th>\n",
       "      <th>CON_ALUM_ANIO_ANT</th>\n",
       "      <th>ZONA_RESI_ALU</th>\n",
       "      <th>EDAD</th>\n",
       "      <th>NIVEL</th>\n",
       "      <th>DIR_NUM_LOCALIDAD</th>\n",
       "      <th>NIVEL_SISBEN</th>\n",
       "      <th>GRADO_OVERAGE</th>\n",
       "      <th>OVERAGE</th>\n",
       "    </tr>\n",
       "  </thead>\n",
       "  <tbody>\n",
       "    <tr>\n",
       "      <th>0</th>\n",
       "      <td>2017</td>\n",
       "      <td>111001000078</td>\n",
       "      <td>111001000078</td>\n",
       "      <td>2</td>\n",
       "      <td>00010803853</td>\n",
       "      <td>CL 69 A 105 F 67</td>\n",
       "      <td>11</td>\n",
       "      <td>1</td>\n",
       "      <td>2</td>\n",
       "      <td>0.010002</td>\n",
       "      <td>2000-01-08</td>\n",
       "      <td>F</td>\n",
       "      <td>9</td>\n",
       "      <td>N</td>\n",
       "      <td>N</td>\n",
       "      <td>0</td>\n",
       "      <td>9</td>\n",
       "      <td>0</td>\n",
       "      <td>6</td>\n",
       "      <td>1</td>\n",
       "      <td>5</td>\n",
       "      <td>10</td>\n",
       "      <td>1</td>\n",
       "      <td>0</td>\n",
       "      <td>1</td>\n",
       "      <td>9</td>\n",
       "      <td>1</td>\n",
       "      <td>17</td>\n",
       "      <td>4</td>\n",
       "      <td>16</td>\n",
       "      <td>1</td>\n",
       "      <td>90</td>\n",
       "      <td>1</td>\n",
       "    </tr>\n",
       "    <tr>\n",
       "      <th>1</th>\n",
       "      <td>2017</td>\n",
       "      <td>111001000078</td>\n",
       "      <td>111001014834</td>\n",
       "      <td>3</td>\n",
       "      <td>05057637</td>\n",
       "      <td>CL 34 SUR 40 A 51</td>\n",
       "      <td>11</td>\n",
       "      <td>1</td>\n",
       "      <td>3</td>\n",
       "      <td>NaN</td>\n",
       "      <td>2012-06-13</td>\n",
       "      <td>F</td>\n",
       "      <td>9</td>\n",
       "      <td>N</td>\n",
       "      <td>N</td>\n",
       "      <td>0</td>\n",
       "      <td>9</td>\n",
       "      <td>0</td>\n",
       "      <td>3</td>\n",
       "      <td>0</td>\n",
       "      <td>0</td>\n",
       "      <td>0</td>\n",
       "      <td>1</td>\n",
       "      <td>0</td>\n",
       "      <td>0</td>\n",
       "      <td>9</td>\n",
       "      <td>1</td>\n",
       "      <td>4</td>\n",
       "      <td>1</td>\n",
       "      <td>16</td>\n",
       "      <td>0</td>\n",
       "      <td>100</td>\n",
       "      <td>0</td>\n",
       "    </tr>\n",
       "    <tr>\n",
       "      <th>2</th>\n",
       "      <td>2017</td>\n",
       "      <td>111001000078</td>\n",
       "      <td>111001014834</td>\n",
       "      <td>3</td>\n",
       "      <td>067289989</td>\n",
       "      <td>KR 54 SUR 50 B 10</td>\n",
       "      <td>11</td>\n",
       "      <td>1</td>\n",
       "      <td>3</td>\n",
       "      <td>NaN</td>\n",
       "      <td>2008-10-07</td>\n",
       "      <td>M</td>\n",
       "      <td>9</td>\n",
       "      <td>N</td>\n",
       "      <td>N</td>\n",
       "      <td>1</td>\n",
       "      <td>9</td>\n",
       "      <td>0</td>\n",
       "      <td>3</td>\n",
       "      <td>0</td>\n",
       "      <td>0</td>\n",
       "      <td>3</td>\n",
       "      <td>1</td>\n",
       "      <td>0</td>\n",
       "      <td>1</td>\n",
       "      <td>9</td>\n",
       "      <td>1</td>\n",
       "      <td>8</td>\n",
       "      <td>2</td>\n",
       "      <td>16</td>\n",
       "      <td>0</td>\n",
       "      <td>100</td>\n",
       "      <td>0</td>\n",
       "    </tr>\n",
       "    <tr>\n",
       "      <th>3</th>\n",
       "      <td>2017</td>\n",
       "      <td>111001000078</td>\n",
       "      <td>111001014834</td>\n",
       "      <td>3</td>\n",
       "      <td>071759788</td>\n",
       "      <td>KR 40 28 A 02 SUR</td>\n",
       "      <td>11</td>\n",
       "      <td>1</td>\n",
       "      <td>3</td>\n",
       "      <td>NaN</td>\n",
       "      <td>2012-08-23</td>\n",
       "      <td>M</td>\n",
       "      <td>9</td>\n",
       "      <td>N</td>\n",
       "      <td>N</td>\n",
       "      <td>0</td>\n",
       "      <td>9</td>\n",
       "      <td>0</td>\n",
       "      <td>3</td>\n",
       "      <td>0</td>\n",
       "      <td>0</td>\n",
       "      <td>0</td>\n",
       "      <td>1</td>\n",
       "      <td>0</td>\n",
       "      <td>0</td>\n",
       "      <td>9</td>\n",
       "      <td>1</td>\n",
       "      <td>4</td>\n",
       "      <td>1</td>\n",
       "      <td>16</td>\n",
       "      <td>0</td>\n",
       "      <td>100</td>\n",
       "      <td>0</td>\n",
       "    </tr>\n",
       "    <tr>\n",
       "      <th>4</th>\n",
       "      <td>2017</td>\n",
       "      <td>111001000078</td>\n",
       "      <td>111001014834</td>\n",
       "      <td>3</td>\n",
       "      <td>089980482</td>\n",
       "      <td>KR 40 28 A 02 SUR</td>\n",
       "      <td>11</td>\n",
       "      <td>1</td>\n",
       "      <td>3</td>\n",
       "      <td>NaN</td>\n",
       "      <td>2013-11-16</td>\n",
       "      <td>F</td>\n",
       "      <td>9</td>\n",
       "      <td>N</td>\n",
       "      <td>N</td>\n",
       "      <td>0</td>\n",
       "      <td>9</td>\n",
       "      <td>0</td>\n",
       "      <td>3</td>\n",
       "      <td>0</td>\n",
       "      <td>0</td>\n",
       "      <td>-1</td>\n",
       "      <td>1</td>\n",
       "      <td>0</td>\n",
       "      <td>0</td>\n",
       "      <td>9</td>\n",
       "      <td>1</td>\n",
       "      <td>3</td>\n",
       "      <td>1</td>\n",
       "      <td>16</td>\n",
       "      <td>0</td>\n",
       "      <td>100</td>\n",
       "      <td>0</td>\n",
       "    </tr>\n",
       "    <tr>\n",
       "      <th>...</th>\n",
       "      <td>...</td>\n",
       "      <td>...</td>\n",
       "      <td>...</td>\n",
       "      <td>...</td>\n",
       "      <td>...</td>\n",
       "      <td>...</td>\n",
       "      <td>...</td>\n",
       "      <td>...</td>\n",
       "      <td>...</td>\n",
       "      <td>...</td>\n",
       "      <td>...</td>\n",
       "      <td>...</td>\n",
       "      <td>...</td>\n",
       "      <td>...</td>\n",
       "      <td>...</td>\n",
       "      <td>...</td>\n",
       "      <td>...</td>\n",
       "      <td>...</td>\n",
       "      <td>...</td>\n",
       "      <td>...</td>\n",
       "      <td>...</td>\n",
       "      <td>...</td>\n",
       "      <td>...</td>\n",
       "      <td>...</td>\n",
       "      <td>...</td>\n",
       "      <td>...</td>\n",
       "      <td>...</td>\n",
       "      <td>...</td>\n",
       "      <td>...</td>\n",
       "      <td>...</td>\n",
       "      <td>...</td>\n",
       "      <td>...</td>\n",
       "      <td>...</td>\n",
       "    </tr>\n",
       "    <tr>\n",
       "      <th>4464566</th>\n",
       "      <td>2021</td>\n",
       "      <td>411102000293</td>\n",
       "      <td>411102000293</td>\n",
       "      <td>2</td>\n",
       "      <td>1012336508</td>\n",
       "      <td>KR 105 B 65 81 SUR</td>\n",
       "      <td>11</td>\n",
       "      <td>1</td>\n",
       "      <td>2</td>\n",
       "      <td>54.687500</td>\n",
       "      <td>2005-09-06</td>\n",
       "      <td>F</td>\n",
       "      <td>99</td>\n",
       "      <td>N</td>\n",
       "      <td>N</td>\n",
       "      <td>0</td>\n",
       "      <td>9</td>\n",
       "      <td>0</td>\n",
       "      <td>6</td>\n",
       "      <td>2</td>\n",
       "      <td>7</td>\n",
       "      <td>10</td>\n",
       "      <td>1</td>\n",
       "      <td>0</td>\n",
       "      <td>1</td>\n",
       "      <td>9</td>\n",
       "      <td>1</td>\n",
       "      <td>15</td>\n",
       "      <td>4</td>\n",
       "      <td>7</td>\n",
       "      <td>3</td>\n",
       "      <td>100</td>\n",
       "      <td>0</td>\n",
       "    </tr>\n",
       "    <tr>\n",
       "      <th>4464567</th>\n",
       "      <td>2021</td>\n",
       "      <td>411102000293</td>\n",
       "      <td>411102000293</td>\n",
       "      <td>2</td>\n",
       "      <td>1016713910</td>\n",
       "      <td>KR 99 A 71 39 SUR</td>\n",
       "      <td>11</td>\n",
       "      <td>1</td>\n",
       "      <td>2</td>\n",
       "      <td>61.218750</td>\n",
       "      <td>2005-10-01</td>\n",
       "      <td>F</td>\n",
       "      <td>99</td>\n",
       "      <td>N</td>\n",
       "      <td>N</td>\n",
       "      <td>0</td>\n",
       "      <td>9</td>\n",
       "      <td>0</td>\n",
       "      <td>6</td>\n",
       "      <td>2</td>\n",
       "      <td>7</td>\n",
       "      <td>10</td>\n",
       "      <td>1</td>\n",
       "      <td>0</td>\n",
       "      <td>1</td>\n",
       "      <td>9</td>\n",
       "      <td>1</td>\n",
       "      <td>15</td>\n",
       "      <td>4</td>\n",
       "      <td>7</td>\n",
       "      <td>3</td>\n",
       "      <td>100</td>\n",
       "      <td>0</td>\n",
       "    </tr>\n",
       "    <tr>\n",
       "      <th>4464568</th>\n",
       "      <td>2021</td>\n",
       "      <td>411102000293</td>\n",
       "      <td>411102000293</td>\n",
       "      <td>2</td>\n",
       "      <td>1011090034</td>\n",
       "      <td>CL 62 SUR 93 C 53</td>\n",
       "      <td>11</td>\n",
       "      <td>1</td>\n",
       "      <td>2</td>\n",
       "      <td>58.218750</td>\n",
       "      <td>2005-11-30</td>\n",
       "      <td>F</td>\n",
       "      <td>99</td>\n",
       "      <td>N</td>\n",
       "      <td>N</td>\n",
       "      <td>0</td>\n",
       "      <td>9</td>\n",
       "      <td>0</td>\n",
       "      <td>6</td>\n",
       "      <td>2</td>\n",
       "      <td>7</td>\n",
       "      <td>10</td>\n",
       "      <td>1</td>\n",
       "      <td>0</td>\n",
       "      <td>1</td>\n",
       "      <td>9</td>\n",
       "      <td>1</td>\n",
       "      <td>15</td>\n",
       "      <td>4</td>\n",
       "      <td>7</td>\n",
       "      <td>3</td>\n",
       "      <td>100</td>\n",
       "      <td>0</td>\n",
       "    </tr>\n",
       "    <tr>\n",
       "      <th>4464569</th>\n",
       "      <td>2021</td>\n",
       "      <td>411102000293</td>\n",
       "      <td>411102000293</td>\n",
       "      <td>2</td>\n",
       "      <td>1011092068</td>\n",
       "      <td>CL 61 B SUR 81 D 03</td>\n",
       "      <td>11</td>\n",
       "      <td>1</td>\n",
       "      <td>2</td>\n",
       "      <td>58.250000</td>\n",
       "      <td>2006-02-24</td>\n",
       "      <td>F</td>\n",
       "      <td>99</td>\n",
       "      <td>N</td>\n",
       "      <td>N</td>\n",
       "      <td>0</td>\n",
       "      <td>9</td>\n",
       "      <td>0</td>\n",
       "      <td>6</td>\n",
       "      <td>2</td>\n",
       "      <td>7</td>\n",
       "      <td>10</td>\n",
       "      <td>1</td>\n",
       "      <td>0</td>\n",
       "      <td>1</td>\n",
       "      <td>9</td>\n",
       "      <td>1</td>\n",
       "      <td>15</td>\n",
       "      <td>4</td>\n",
       "      <td>7</td>\n",
       "      <td>3</td>\n",
       "      <td>100</td>\n",
       "      <td>0</td>\n",
       "    </tr>\n",
       "    <tr>\n",
       "      <th>4464570</th>\n",
       "      <td>2021</td>\n",
       "      <td>411102000293</td>\n",
       "      <td>411102000293</td>\n",
       "      <td>2</td>\n",
       "      <td>1029140201</td>\n",
       "      <td>CR 82 A # 61 SUR - 30</td>\n",
       "      <td>11</td>\n",
       "      <td>1</td>\n",
       "      <td>2</td>\n",
       "      <td>57.187500</td>\n",
       "      <td>2005-01-13</td>\n",
       "      <td>F</td>\n",
       "      <td>99</td>\n",
       "      <td>N</td>\n",
       "      <td>N</td>\n",
       "      <td>0</td>\n",
       "      <td>9</td>\n",
       "      <td>0</td>\n",
       "      <td>6</td>\n",
       "      <td>2</td>\n",
       "      <td>7</td>\n",
       "      <td>11</td>\n",
       "      <td>1</td>\n",
       "      <td>0</td>\n",
       "      <td>1</td>\n",
       "      <td>9</td>\n",
       "      <td>1</td>\n",
       "      <td>16</td>\n",
       "      <td>4</td>\n",
       "      <td>7</td>\n",
       "      <td>3</td>\n",
       "      <td>100</td>\n",
       "      <td>0</td>\n",
       "    </tr>\n",
       "  </tbody>\n",
       "</table>\n",
       "<p>4393031 rows × 33 columns</p>\n",
       "</div>"
      ],
      "text/plain": [
       "         ANO_INF   CODIGO_DANE  CODIGO_DANE_SEDE  TIPO_DOCUMENTO  \\\n",
       "0           2017  111001000078      111001000078               2   \n",
       "1           2017  111001000078      111001014834               3   \n",
       "2           2017  111001000078      111001014834               3   \n",
       "3           2017  111001000078      111001014834               3   \n",
       "4           2017  111001000078      111001014834               3   \n",
       "...          ...           ...               ...             ...   \n",
       "4464566     2021  411102000293      411102000293               2   \n",
       "4464567     2021  411102000293      411102000293               2   \n",
       "4464568     2021  411102000293      411102000293               2   \n",
       "4464569     2021  411102000293      411102000293               2   \n",
       "4464570     2021  411102000293      411102000293               2   \n",
       "\n",
       "        NRO_DOCUMENTO   DIRECCION_RESIDENCIA  RES_DEPTO  RES_MUN  ESTRATO  \\\n",
       "0         00010803853       CL 69 A 105 F 67         11        1        2   \n",
       "1            05057637      CL 34 SUR 40 A 51         11        1        3   \n",
       "2           067289989      KR 54 SUR 50 B 10         11        1        3   \n",
       "3           071759788      KR 40 28 A 02 SUR         11        1        3   \n",
       "4           089980482      KR 40 28 A 02 SUR         11        1        3   \n",
       "...               ...                    ...        ...      ...      ...   \n",
       "4464566    1012336508     KR 105 B 65 81 SUR         11        1        2   \n",
       "4464567    1016713910      KR 99 A 71 39 SUR         11        1        2   \n",
       "4464568    1011090034      CL 62 SUR 93 C 53         11        1        2   \n",
       "4464569    1011092068    CL 61 B SUR 81 D 03         11        1        2   \n",
       "4464570    1029140201  CR 82 A # 61 SUR - 30         11        1        2   \n",
       "\n",
       "            SISBEN FECHA_NACIMIENTO GENERO  POB_VICT_CONF  \\\n",
       "0         0.010002       2000-01-08      F              9   \n",
       "1              NaN       2012-06-13      F              9   \n",
       "2              NaN       2008-10-07      M              9   \n",
       "3              NaN       2012-08-23      M              9   \n",
       "4              NaN       2013-11-16      F              9   \n",
       "...            ...              ...    ...            ...   \n",
       "4464566  54.687500       2005-09-06      F             99   \n",
       "4464567  61.218750       2005-10-01      F             99   \n",
       "4464568  58.218750       2005-11-30      F             99   \n",
       "4464569  58.250000       2006-02-24      F             99   \n",
       "4464570  57.187500       2005-01-13      F             99   \n",
       "\n",
       "        PROVIENE_SECTOR_PRIV PROVIENE_OTR_MUN  TIPO_DISCAPACIDAD  CAP_EXC  \\\n",
       "0                          N                N                  0        9   \n",
       "1                          N                N                  0        9   \n",
       "2                          N                N                  1        9   \n",
       "3                          N                N                  0        9   \n",
       "4                          N                N                  0        9   \n",
       "...                      ...              ...                ...      ...   \n",
       "4464566                    N                N                  0        9   \n",
       "4464567                    N                N                  0        9   \n",
       "4464568                    N                N                  0        9   \n",
       "4464569                    N                N                  0        9   \n",
       "4464570                    N                N                  0        9   \n",
       "\n",
       "         CODIGO_ETNIA  CODIGO_JORNADA  CARACTER  CODIGO_ESPECIALIDAD  \\\n",
       "0                   0               6         1                    5   \n",
       "1                   0               3         0                    0   \n",
       "2                   0               3         0                    0   \n",
       "3                   0               3         0                    0   \n",
       "4                   0               3         0                    0   \n",
       "...               ...             ...       ...                  ...   \n",
       "4464566             0               6         2                    7   \n",
       "4464567             0               6         2                    7   \n",
       "4464568             0               6         2                    7   \n",
       "4464569             0               6         2                    7   \n",
       "4464570             0               6         2                    7   \n",
       "\n",
       "         CODIGO_GRADO  CODIGO_METODOLOGIA REPITENTE  SIT_ACAD_ANIO_ANT  \\\n",
       "0                  10                   1         0                  1   \n",
       "1                   0                   1         0                  0   \n",
       "2                   3                   1         0                  1   \n",
       "3                   0                   1         0                  0   \n",
       "4                  -1                   1         0                  0   \n",
       "...               ...                 ...       ...                ...   \n",
       "4464566            10                   1         0                  1   \n",
       "4464567            10                   1         0                  1   \n",
       "4464568            10                   1         0                  1   \n",
       "4464569            10                   1         0                  1   \n",
       "4464570            11                   1         0                  1   \n",
       "\n",
       "         CON_ALUM_ANIO_ANT  ZONA_RESI_ALU  EDAD  NIVEL  DIR_NUM_LOCALIDAD  \\\n",
       "0                        9              1    17      4                 16   \n",
       "1                        9              1     4      1                 16   \n",
       "2                        9              1     8      2                 16   \n",
       "3                        9              1     4      1                 16   \n",
       "4                        9              1     3      1                 16   \n",
       "...                    ...            ...   ...    ...                ...   \n",
       "4464566                  9              1    15      4                  7   \n",
       "4464567                  9              1    15      4                  7   \n",
       "4464568                  9              1    15      4                  7   \n",
       "4464569                  9              1    15      4                  7   \n",
       "4464570                  9              1    16      4                  7   \n",
       "\n",
       "         NIVEL_SISBEN  GRADO_OVERAGE  OVERAGE  \n",
       "0                   1             90        1  \n",
       "1                   0            100        0  \n",
       "2                   0            100        0  \n",
       "3                   0            100        0  \n",
       "4                   0            100        0  \n",
       "...               ...            ...      ...  \n",
       "4464566             3            100        0  \n",
       "4464567             3            100        0  \n",
       "4464568             3            100        0  \n",
       "4464569             3            100        0  \n",
       "4464570             3            100        0  \n",
       "\n",
       "[4393031 rows x 33 columns]"
      ]
     },
     "execution_count": 77,
     "metadata": {},
     "output_type": "execute_result"
    }
   ],
   "source": [
    "df_consolidado"
   ]
  },
  {
   "cell_type": "markdown",
   "id": "4c2cfe7b",
   "metadata": {},
   "source": [
    "# Descomentar y ejecutar para generar el dataset final"
   ]
  },
  {
   "cell_type": "code",
   "execution_count": null,
   "id": "438cbbcd",
   "metadata": {},
   "outputs": [],
   "source": [
    "# df_consolidado.to_csv('data/2-plata/Consolidado_SIMAT_Depurado.csv')"
   ]
  },
  {
   "cell_type": "code",
   "execution_count": null,
   "id": "579904e0",
   "metadata": {},
   "outputs": [],
   "source": []
  }
 ],
 "metadata": {
  "kernelspec": {
   "display_name": "Python 3",
   "language": "python",
   "name": "python3"
  },
  "language_info": {
   "codemirror_mode": {
    "name": "ipython",
    "version": 3
   },
   "file_extension": ".py",
   "mimetype": "text/x-python",
   "name": "python",
   "nbconvert_exporter": "python",
   "pygments_lexer": "ipython3",
   "version": "3.8.8"
  }
 },
 "nbformat": 4,
 "nbformat_minor": 5
}
