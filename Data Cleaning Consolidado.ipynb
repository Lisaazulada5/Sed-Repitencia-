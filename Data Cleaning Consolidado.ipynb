{
 "cells": [
  {
   "cell_type": "markdown",
   "id": "8a5e91ae-439c-475d-8548-cd80777ba458",
   "metadata": {},
   "source": [
    "# Limpieza de datos"
   ]
  },
  {
   "cell_type": "markdown",
   "id": "1d6b699a-3106-4905-8f74-889d46dda25e",
   "metadata": {},
   "source": [
    "Cargamos la base"
   ]
  },
  {
   "cell_type": "code",
   "execution_count": 1,
   "id": "184ff1f9",
   "metadata": {},
   "outputs": [],
   "source": [
    "# Scientific libraries\n",
    "import pandas as pd\n",
    "import numpy as np\n",
    "import matplotlib.pyplot as plt\n",
    "import seaborn as sns\n",
    "# Pandas options\n",
    "pd.options.display.max_columns = None"
   ]
  },
  {
   "cell_type": "code",
   "execution_count": null,
   "id": "01b2ee35",
   "metadata": {},
   "outputs": [],
   "source": [
    "# first option to read the dataset\n",
    "df_consolidado = pd.read_csv('data/1-bronce/Consolidado-SIMAT-2017-2021.csv', index_col=0)"
   ]
  },
  {
   "cell_type": "code",
   "execution_count": 2,
   "id": "1a9aa628",
   "metadata": {},
   "outputs": [],
   "source": [
    "# Second option to read the dataset\n",
    "chunk = pd.read_csv('data/1-bronce/Consolidado-SIMAT-2017-2021.csv', chunksize = 10000)\n",
    "df_consolidado = pd.concat(chunk)"
   ]
  },
  {
   "cell_type": "code",
   "execution_count": 3,
   "id": "769a9728-c36b-4ceb-8c4f-8ade0045ef2b",
   "metadata": {},
   "outputs": [
    {
     "data": {
      "text/html": [
       "<div>\n",
       "<style scoped>\n",
       "    .dataframe tbody tr th:only-of-type {\n",
       "        vertical-align: middle;\n",
       "    }\n",
       "\n",
       "    .dataframe tbody tr th {\n",
       "        vertical-align: top;\n",
       "    }\n",
       "\n",
       "    .dataframe thead th {\n",
       "        text-align: right;\n",
       "    }\n",
       "</style>\n",
       "<table border=\"1\" class=\"dataframe\">\n",
       "  <thead>\n",
       "    <tr style=\"text-align: right;\">\n",
       "      <th></th>\n",
       "      <th>Unnamed: 0</th>\n",
       "      <th>ANO_INF</th>\n",
       "      <th>CODIGO_DANE</th>\n",
       "      <th>CODIGO_DANE_SEDE</th>\n",
       "      <th>TIPO_DOCUMENTO</th>\n",
       "      <th>NRO_DOCUMENTO</th>\n",
       "      <th>APELLIDO1</th>\n",
       "      <th>APELLIDO2</th>\n",
       "      <th>NOMBRE1</th>\n",
       "      <th>NOMBRE2</th>\n",
       "      <th>DIRECCION_RESIDENCIA</th>\n",
       "      <th>RES_DEPTO</th>\n",
       "      <th>RES_MUN</th>\n",
       "      <th>ESTRATO</th>\n",
       "      <th>SISBEN</th>\n",
       "      <th>FECHA_NACIMIENTO</th>\n",
       "      <th>GENERO</th>\n",
       "      <th>POB_VICT_CONF</th>\n",
       "      <th>DPTO_EXP</th>\n",
       "      <th>MUN_EXP</th>\n",
       "      <th>PROVIENE_SECTOR_PRIV</th>\n",
       "      <th>PROVIENE_OTR_MUN</th>\n",
       "      <th>TIPO_DISCAPACIDAD</th>\n",
       "      <th>CAP_EXC</th>\n",
       "      <th>CODIGO_ETNIA</th>\n",
       "      <th>CODIGO_JORNADA</th>\n",
       "      <th>CARACTER</th>\n",
       "      <th>CODIGO_ESPECIALIDAD</th>\n",
       "      <th>CODIGO_GRADO</th>\n",
       "      <th>CODIGO_METODOLOGIA</th>\n",
       "      <th>REPITENTE</th>\n",
       "      <th>SIT_ACAD_ANIO_ANT</th>\n",
       "      <th>CON_ALUM_ANIO_ANT</th>\n",
       "      <th>ZONA_RESI_ALU</th>\n",
       "      <th>VALORACION1</th>\n",
       "      <th>VALORACION2</th>\n",
       "      <th>CODIGO_INTERNADO</th>\n",
       "      <th>EDAD</th>\n",
       "      <th>NIVEL</th>\n",
       "      <th>DIR_NUM_LOCALIDAD</th>\n",
       "      <th>DIR_LOCALIDAD</th>\n",
       "    </tr>\n",
       "  </thead>\n",
       "  <tbody>\n",
       "    <tr>\n",
       "      <th>0</th>\n",
       "      <td>0</td>\n",
       "      <td>2017</td>\n",
       "      <td>111001000078</td>\n",
       "      <td>111001000078</td>\n",
       "      <td>2</td>\n",
       "      <td>00010803853</td>\n",
       "      <td>CRUZ</td>\n",
       "      <td>CANO</td>\n",
       "      <td>LAURA</td>\n",
       "      <td>VALENTINA</td>\n",
       "      <td>CL 69 A 105 F 67</td>\n",
       "      <td>11</td>\n",
       "      <td>1</td>\n",
       "      <td>2</td>\n",
       "      <td>,01</td>\n",
       "      <td>1/8/2000</td>\n",
       "      <td>F</td>\n",
       "      <td>9</td>\n",
       "      <td></td>\n",
       "      <td></td>\n",
       "      <td>N</td>\n",
       "      <td>N</td>\n",
       "      <td>99</td>\n",
       "      <td>9</td>\n",
       "      <td>0</td>\n",
       "      <td>6</td>\n",
       "      <td>1.0</td>\n",
       "      <td>5</td>\n",
       "      <td>10</td>\n",
       "      <td>1</td>\n",
       "      <td>N</td>\n",
       "      <td>1</td>\n",
       "      <td>9.0</td>\n",
       "      <td>1</td>\n",
       "      <td></td>\n",
       "      <td></td>\n",
       "      <td>3</td>\n",
       "      <td>17</td>\n",
       "      <td>4</td>\n",
       "      <td>16</td>\n",
       "      <td>PUENTE ARANDA</td>\n",
       "    </tr>\n",
       "    <tr>\n",
       "      <th>1</th>\n",
       "      <td>1</td>\n",
       "      <td>2017</td>\n",
       "      <td>111001000078</td>\n",
       "      <td>111001014834</td>\n",
       "      <td>3</td>\n",
       "      <td>05057637</td>\n",
       "      <td>NAVAS</td>\n",
       "      <td>GONZALEZ</td>\n",
       "      <td>SUJEIBY</td>\n",
       "      <td>VALENTINA</td>\n",
       "      <td>CL 34 SUR 40 A 51</td>\n",
       "      <td>11</td>\n",
       "      <td>1</td>\n",
       "      <td>3</td>\n",
       "      <td></td>\n",
       "      <td>6/13/2012</td>\n",
       "      <td>F</td>\n",
       "      <td>9</td>\n",
       "      <td></td>\n",
       "      <td></td>\n",
       "      <td>N</td>\n",
       "      <td>N</td>\n",
       "      <td>99</td>\n",
       "      <td>9</td>\n",
       "      <td>0</td>\n",
       "      <td>3</td>\n",
       "      <td>0.0</td>\n",
       "      <td>0</td>\n",
       "      <td>0</td>\n",
       "      <td>1</td>\n",
       "      <td>N</td>\n",
       "      <td>0</td>\n",
       "      <td>9.0</td>\n",
       "      <td>1</td>\n",
       "      <td></td>\n",
       "      <td></td>\n",
       "      <td>3</td>\n",
       "      <td>4</td>\n",
       "      <td>1</td>\n",
       "      <td>16</td>\n",
       "      <td>PUENTE ARANDA</td>\n",
       "    </tr>\n",
       "  </tbody>\n",
       "</table>\n",
       "</div>"
      ],
      "text/plain": [
       "   Unnamed: 0  ANO_INF   CODIGO_DANE  CODIGO_DANE_SEDE  TIPO_DOCUMENTO  \\\n",
       "0           0     2017  111001000078      111001000078               2   \n",
       "1           1     2017  111001000078      111001014834               3   \n",
       "\n",
       "  NRO_DOCUMENTO APELLIDO1 APELLIDO2  NOMBRE1    NOMBRE2 DIRECCION_RESIDENCIA  \\\n",
       "0   00010803853      CRUZ      CANO    LAURA  VALENTINA     CL 69 A 105 F 67   \n",
       "1      05057637     NAVAS  GONZALEZ  SUJEIBY  VALENTINA    CL 34 SUR 40 A 51   \n",
       "\n",
       "   RES_DEPTO  RES_MUN  ESTRATO SISBEN FECHA_NACIMIENTO GENERO  POB_VICT_CONF  \\\n",
       "0         11        1        2    ,01         1/8/2000      F              9   \n",
       "1         11        1        3               6/13/2012      F              9   \n",
       "\n",
       "  DPTO_EXP MUN_EXP PROVIENE_SECTOR_PRIV PROVIENE_OTR_MUN  TIPO_DISCAPACIDAD  \\\n",
       "0                                     N                N                 99   \n",
       "1                                     N                N                 99   \n",
       "\n",
       "   CAP_EXC  CODIGO_ETNIA  CODIGO_JORNADA  CARACTER  CODIGO_ESPECIALIDAD  \\\n",
       "0        9             0               6       1.0                    5   \n",
       "1        9             0               3       0.0                    0   \n",
       "\n",
       "   CODIGO_GRADO  CODIGO_METODOLOGIA REPITENTE  SIT_ACAD_ANIO_ANT  \\\n",
       "0            10                   1         N                  1   \n",
       "1             0                   1         N                  0   \n",
       "\n",
       "   CON_ALUM_ANIO_ANT ZONA_RESI_ALU VALORACION1 VALORACION2 CODIGO_INTERNADO  \\\n",
       "0                9.0             1                                        3   \n",
       "1                9.0             1                                        3   \n",
       "\n",
       "   EDAD  NIVEL DIR_NUM_LOCALIDAD  DIR_LOCALIDAD  \n",
       "0    17      4                16  PUENTE ARANDA  \n",
       "1     4      1                16  PUENTE ARANDA  "
      ]
     },
     "execution_count": 3,
     "metadata": {},
     "output_type": "execute_result"
    }
   ],
   "source": [
    "df_consolidado.head(2)"
   ]
  },
  {
   "cell_type": "markdown",
   "id": "1164bc70-e3ac-4fdd-b978-b930fe059da9",
   "metadata": {},
   "source": [
    "## Parte I : Santiago\n",
    "\n",
    "cols_santiago = ['CODIGO_DANE', 'CODIGO_DANE_SEDE', 'TIPO_DOCUMENTO', 'NRO_DOCUMENTO', 'APELLIDO1', 'APELLIDO2', 'NOMBRE1', 'NOMBRE2', 'DIRECCION_RESIDENCIA']\n",
    "\n"
   ]
  },
  {
   "cell_type": "code",
   "execution_count": 4,
   "id": "a51e72e2",
   "metadata": {},
   "outputs": [],
   "source": [
    "# Convierte a String NRO_DOCUMENTO Y Direccion\n",
    "df_consolidado['NRO_DOCUMENTO'] = df_consolidado['NRO_DOCUMENTO'].astype(str)"
   ]
  },
  {
   "cell_type": "code",
   "execution_count": 5,
   "id": "f33b3a5f",
   "metadata": {},
   "outputs": [],
   "source": [
    "df_consolidado['DIRECCION_RESIDENCIA'] = df_consolidado['DIRECCION_RESIDENCIA'].astype(str)"
   ]
  },
  {
   "cell_type": "code",
   "execution_count": null,
   "id": "36852b5b",
   "metadata": {},
   "outputs": [],
   "source": [
    "# Esta linea no corrió.. mataba el kernel de una -> omitida \n",
    "df_consolidado.drop(['APELLIDO1', 'APELLIDO2', 'NOMBRE1', 'NOMBRE2'], inplace=True, axis=1)"
   ]
  },
  {
   "cell_type": "code",
   "execution_count": 6,
   "id": "4a013f96",
   "metadata": {},
   "outputs": [],
   "source": [
    "# Reemplaza con strings de acuerdo a diccionario. Mejor para graficas.\n",
    "tipo_documento_dict = {\n",
    "    1 : 'Cédula de Ciudadanía',\n",
    "    2 : 'Tarjeta de Identidad',\n",
    "    3 : 'Cédula de Extranjería ',\n",
    "    5 : 'Registro Civil de Nacimiento',\n",
    "    6 : 'Número de Identificación Personal (NIP)',\n",
    "    7 : 'Número Único de Identificación Personal (NUIP)',\n",
    "    8 : 'Número de Identificación establecido por la Secretaría de Educación',\n",
    "    9 : 'Certificado Cabildo',                                                                                                         \n",
    "    10: 'Permiso Especial de Permanencia',\n",
    "    11: 'Visa',\n",
    "    12: 'Tarjeta de movilidad fronteriza'\n",
    "}\n",
    "df_consolidado['NOMBRE_TIPO_DOCUMENTO'] = df_consolidado['TIPO_DOCUMENTO'].replace(tipo_documento_dict)\n",
    "df_consolidado.insert(4, 'NOMBRE_TIPO_DOCUMENTO', df_consolidado.pop('NOMBRE_TIPO_DOCUMENTO'))"
   ]
  },
  {
   "cell_type": "markdown",
   "id": "fef088e9-362b-4cfb-8816-e25dfd10a139",
   "metadata": {},
   "source": [
    "## Parte II: Juan\n",
    "\n",
    "cols_juan = ['PROVIENE_SECTOR_PRIV', 'PROVIENE_OTR_MUN', 'TIPO_DISCAPACIDAD', 'CAP_EXC', 'CODIGO_ETNIA', 'CODIGO_JORNADA', 'CARACTER', 'CODIGO_ESPECIALIDAD', 'CODIGO_GRADO'] \n"
   ]
  },
  {
   "cell_type": "markdown",
   "id": "e8f53a57-e8dd-4a25-8fb2-48ae351db0a6",
   "metadata": {},
   "source": [
    "Exploración inicial de los datos"
   ]
  },
  {
   "cell_type": "code",
   "execution_count": 7,
   "id": "3056a2f8",
   "metadata": {},
   "outputs": [],
   "source": [
    "cols_juan = ['PROVIENE_SECTOR_PRIV', 'PROVIENE_OTR_MUN', 'TIPO_DISCAPACIDAD', 'CAP_EXC', 'CODIGO_ETNIA', 'CODIGO_JORNADA', 'CARACTER', 'CODIGO_ESPECIALIDAD', 'CODIGO_GRADO']"
   ]
  },
  {
   "cell_type": "code",
   "execution_count": 8,
   "id": "bbeeb9e4",
   "metadata": {},
   "outputs": [
    {
     "name": "stdout",
     "output_type": "stream",
     "text": [
      "['N' 'S'] PROVIENE_SECTOR_PRIV 0\n",
      "['N' 'S'] PROVIENE_OTR_MUN 0\n",
      "[99  7  8 10 18 15 13 11  3  4 19 17 14  6 12  1  2  9  5 16] TIPO_DISCAPACIDAD 0\n",
      "[ 9  4  1  3  2  5  6  7 11 10] CAP_EXC 0\n",
      "[  0  46  49 200  75  97  19 999  83   1  45  26   4  29  74  53  44  77\n",
      "  12  34  95  80   9  20  10  42  73  72  99  71  52   7  47 100  27  17\n",
      "  15  25   5  14  31  66  70  28   2  48 400  22  18   6  57  64   3  65\n",
      "  13 101  33  32  67   8  35 998  16  50  23  37  56  11  58  51  85  96\n",
      "  86  62  40  30  54  38  82  90  36  43  21  61  24  92  81  55  68  60\n",
      "  94 107  69 102  39  59  79  93  84  98 109  76] CODIGO_ETNIA 0\n",
      "[6 3 2 4 1 5] CODIGO_JORNADA 0\n",
      "[1. 0. 2.] CARACTER 0\n",
      "[ 5  0  6  8  9  7 10] CODIGO_ESPECIALIDAD 0\n",
      "[10  0  3 -1  9  7 11  8  6  5  2  4  1 99 25 26 23 24 22 -2 21 12 13] CODIGO_GRADO 0\n"
     ]
    }
   ],
   "source": [
    "# Observamos los tipos de datos. Por un análisis exploratorio vemos que no hay vacíos.\n",
    "# Codigo Etnia: Valores raros = 999, 998.\n",
    "# CARACTER llega en tipo float.\n",
    "for col in cols_juan:\n",
    "    print(df_consolidado[col].unique() , str(col), df_consolidado[col].isnull().sum())"
   ]
  },
  {
   "cell_type": "code",
   "execution_count": 9,
   "id": "a1169af9-cd51-4c05-be88-c46418d453fe",
   "metadata": {},
   "outputs": [
    {
     "name": "stdout",
     "output_type": "stream",
     "text": [
      "N    3887182\n",
      "S     515763\n",
      "Name: PROVIENE_SECTOR_PRIV, dtype: int64\n",
      "N    4347218\n",
      "S      55727\n",
      "Name: PROVIENE_OTR_MUN, dtype: int64\n",
      "99    4306354\n",
      "8       60546\n",
      "10       7687\n",
      "15       6260\n",
      "18       4475\n",
      "7        4084\n",
      "13       3137\n",
      "3        2105\n",
      "17       2060\n",
      "11       2037\n",
      "12       1933\n",
      "4         939\n",
      "19        915\n",
      "9         168\n",
      "14         95\n",
      "1          51\n",
      "2          50\n",
      "6          21\n",
      "5          21\n",
      "16          7\n",
      "Name: TIPO_DISCAPACIDAD, dtype: int64\n",
      "9     4396777\n",
      "4        2370\n",
      "1        1357\n",
      "3         884\n",
      "5         742\n",
      "2         310\n",
      "6         185\n",
      "7         179\n",
      "10        107\n",
      "11         34\n",
      "Name: CAP_EXC, dtype: int64\n",
      "0      4365182\n",
      "200      15399\n",
      "97        5996\n",
      "46        3372\n",
      "19        2488\n",
      "        ...   \n",
      "60           1\n",
      "93           1\n",
      "69           1\n",
      "79           1\n",
      "38           1\n",
      "Name: CODIGO_ETNIA, Length: 102, dtype: int64\n",
      "2    1713511\n",
      "3    1422559\n",
      "6     606504\n",
      "1     580767\n",
      "4      62389\n",
      "5      17215\n",
      "Name: CODIGO_JORNADA, dtype: int64\n",
      "0.0    3819031\n",
      "1.0     518288\n",
      "2.0      65626\n",
      "Name: CARACTER, dtype: int64\n",
      "0     3819031\n",
      "5      518288\n",
      "8       24044\n",
      "7       21485\n",
      "6       18587\n",
      "10       1191\n",
      "9         319\n",
      "Name: CODIGO_ESPECIALIDAD, dtype: int64\n",
      " 6     417805\n",
      " 7     387417\n",
      " 5     365132\n",
      " 8     362248\n",
      " 4     361598\n",
      " 3     352569\n",
      " 2     345446\n",
      " 1     344187\n",
      " 9     328725\n",
      " 10    310647\n",
      " 0     284172\n",
      " 11    272948\n",
      "-1      97178\n",
      "-2      46570\n",
      " 99     38743\n",
      " 26     23871\n",
      " 24     23364\n",
      " 23     17733\n",
      " 25     15801\n",
      " 22      3893\n",
      " 21      2579\n",
      " 12       188\n",
      " 13       131\n",
      "Name: CODIGO_GRADO, dtype: int64\n"
     ]
    }
   ],
   "source": [
    "# Al parecer los códigos extraños de Etnia solo son datos atípicos. Nos dice que CARACTER es int, lo cual es extraño.\n",
    "for col in cols_juan:\n",
    "    print(df_consolidado[col].value_counts())"
   ]
  },
  {
   "cell_type": "code",
   "execution_count": null,
   "id": "69c315f8-fa53-41be-8b15-cade0e05859a",
   "metadata": {},
   "outputs": [],
   "source": [
    "# Esta linea no corrió.. mataba el kernel de una -> omitida \n",
    "df_consolidado[cols_juan].dtypes"
   ]
  },
  {
   "cell_type": "code",
   "execution_count": 10,
   "id": "2b616f04-9ba3-4cd4-a619-c1291151f273",
   "metadata": {},
   "outputs": [],
   "source": [
    "# Convertimos a category los datos que son object y parecen entrar mejor en este tipo de dato.\n",
    "df_consolidado['PROVIENE_SECTOR_PRIV'] = df_consolidado['PROVIENE_SECTOR_PRIV'].astype('category')\n",
    "df_consolidado['PROVIENE_OTR_MUN'] = df_consolidado['PROVIENE_OTR_MUN'].astype('category')\n",
    "\n"
   ]
  },
  {
   "cell_type": "markdown",
   "id": "22f5f26d-6978-4db2-836a-7272ed906f50",
   "metadata": {},
   "source": [
    "TIPO_DISCAPACIDAD tiene diccionario así que procedemos a insertarlo."
   ]
  },
  {
   "cell_type": "code",
   "execution_count": 11,
   "id": "545c7648-a631-4eec-975f-bd1b3e8db79a",
   "metadata": {},
   "outputs": [],
   "source": [
    "tipo_discapacidad_dict = {\n",
    "    1 :  'Discapacidad auditiva - Sordera Profunda', \n",
    "    2 : 'Discapacidad auditiva - Hipoacusia o Baja audición', \n",
    "    3 : 'Discapacidad Visual - Baja visión irreversible', \n",
    "    4 :  'Discapacidad Visual - Ceguera', \n",
    "    5 :  'Discapacidad Física - Parálisis cerebral', \n",
    "    6 :  'Discapacidad Física - Lesión neuromuscular', \n",
    "    7 :  'Trastorno del espectro autista', \n",
    "    8 :  'Discapacidad intelectual - Deficiencia cognitiva',  \n",
    "    9  : 'Discapacidad intelectual - Síndrome de Down', \n",
    "    10 :'Discapacidad Múltiple', \n",
    "    11 :'Otra discapacidad', \n",
    "    12 :'Discapacidad auditiva - Usuario de lengua de señas Colombiana', \n",
    "    13 :'Discapacidad auditiva usuario del castellano', \n",
    "    14 :'Sordoceguera', \n",
    "    15 :'Discapacidad física', \n",
    "    17 :'Sistémica', \n",
    "    18 :'Discapacidad Psicosocial (mental) ',\n",
    "    19 :'Trastorno permanente de voz y habla ',\n",
    "    99 : 'No aplica'\n",
    "}\n",
    "df_consolidado['TIPO_DISCAPACIDAD'] = df_consolidado['TIPO_DISCAPACIDAD'].replace(tipo_discapacidad_dict)\n",
    "df_consolidado['TIPO_DISCAPACIDAD'] = df_consolidado['TIPO_DISCAPACIDAD'].astype('category')"
   ]
  },
  {
   "cell_type": "markdown",
   "id": "9705aff8-9926-4277-9ea8-669a06a104bb",
   "metadata": {},
   "source": [
    "CAP_EXC significa capacidades excepcionales. Procedemos a introducir el diccionario.\n"
   ]
  },
  {
   "cell_type": "code",
   "execution_count": 12,
   "id": "b534b121-399b-41b4-967d-9226548f38a7",
   "metadata": {},
   "outputs": [],
   "source": [
    "# curiosamente no hay 8. Tampoco en la base de datos\n",
    "capacidades_excepcionales_dict = {    \n",
    "    1: 'Capacidades Excepcionales',  \n",
    "    2: 'Otras capacidades',                                                                                                         \n",
    "    3 :'Talento excepcional en ciencias naturales o básicas',                                                                            \n",
    "    4 :'Talento excepcional en artes o letras',\n",
    "    5 :'Talento excepcional en actividad física, ejercicio y deporte',\n",
    "    6 :'Doble excepcionalidad',          \n",
    "    7 :'Talento excepcional en ciencias sociales o humanas',                     \n",
    "    10 :'Talento excepcional en tecnología', \n",
    "    11 :'Talento excepcional en liderazgo social y emprendimiento',                                                                                              \n",
    "    9 : 'No Aplica'  \n",
    "}\n",
    "df_consolidado['CAP_EXC'] = df_consolidado['CAP_EXC'].replace(capacidades_excepcionales_dict)\n",
    "df_consolidado['CAP_EXC'] = df_consolidado['CAP_EXC'].astype('category')\n",
    "# Cambiamos el nombre de la columna.\n",
    "df_consolidado.rename(columns={'CAP_EXC': 'CAPACIDADES_EXCEPCIONALES'}, inplace=True)"
   ]
  },
  {
   "cell_type": "markdown",
   "id": "ced32036-4c44-4a6e-874a-67c73b1b5285",
   "metadata": {},
   "source": [
    "CODIGO_ETNIA es la vaina más larga. Vamos a cambiar según el diccionario."
   ]
  },
  {
   "cell_type": "code",
   "execution_count": 13,
   "id": "96f6a355-c483-4b40-bf8a-38f9982d4f52",
   "metadata": {},
   "outputs": [
    {
     "data": {
      "text/plain": [
       "array([  0,  46,  49, 200,  75,  97,  19, 999,  83,   1,  45,  26,   4,\n",
       "        29,  74,  53,  44,  77,  12,  34,  95,  80,   9,  20,  10,  42,\n",
       "        73,  72,  99,  71,  52,   7,  47, 100,  27,  17,  15,  25,   5,\n",
       "        14,  31,  66,  70,  28,   2,  48, 400,  22,  18,   6,  57,  64,\n",
       "         3,  65,  13, 101,  33,  32,  67,   8,  35, 998,  16,  50,  23,\n",
       "        37,  56,  11,  58,  51,  85,  96,  86,  62,  40,  30,  54,  38,\n",
       "        82,  90,  36,  43,  21,  61,  24,  92,  81,  55,  68,  60,  94,\n",
       "       107,  69, 102,  39,  59,  79,  93,  84,  98, 109,  76])"
      ]
     },
     "execution_count": 13,
     "metadata": {},
     "output_type": "execute_result"
    }
   ],
   "source": [
    "# estos son los indices Algunos números no aparecen, como 999, no sé si valga la pena eliminarlos.\n",
    "# tampoco creo que sea  muy eficiente meter los nombres al df por ahora. Además, tienen los nombres más problemáticos.\n",
    "df_consolidado['CODIGO_ETNIA'].unique()"
   ]
  },
  {
   "cell_type": "code",
   "execution_count": 14,
   "id": "417780bb-b5ba-402f-9782-6ba2eb87e1d2",
   "metadata": {},
   "outputs": [],
   "source": [
    "#Me limito a copiar el diccionario.\n",
    "Etnia_dict = {\n",
    "    \n",
    "    0: 'No aplica',\n",
    "    1 :'Achagua',\n",
    "    2 :'Amorúa' ,\n",
    "    3 :'Andoque',\n",
    "    4 :'Arhuaco',\n",
    "    5 :'Awa',\n",
    "    6 :'Bara',\n",
    "    7 :'Barasano',\n",
    "    8 :'Barí',\n",
    "    9 :'Betoye (Guahibo)',\n",
    "    10 :'Bora',\n",
    "    11 :'Kawiyarí (Cabiyari)',\n",
    "    12 :'Karapana (Carapana)',\n",
    "    13 :'Karijona (Carijona)',\n",
    "    14 :'Chimilas',\n",
    "    15 :'Chiricoa',\n",
    "    16 :'Cocama',\n",
    "    17 :'Coconuco',\n",
    "    18 :'Kofán',\n",
    "    19 :'Pijaos (Coyaimas - Natagaimas)',\n",
    "    20 :'Cubeo',\n",
    "    21 :'Cuiva (Cuiba - Kuiba)',\n",
    "    22 :'Curripaco',\n",
    "    23: 'Desano',\n",
    "    24 :'Tamas (Dujos de Paniquita)',\n",
    "    25 :'Embera',\n",
    "    26 :'Embera Katío',\n",
    "    27 :'Embera Chami',\n",
    "    28 :'Eperara Siapidara',\n",
    "    29 :'Guambiano (autodenominación Nam Misak)',\n",
    "    30 :'Guanaca',\n",
    "    31 :'Guayabero (autodenominación JIW)',\n",
    "    33 :'Hitnú',\n",
    "    34 :'Inga',\n",
    "    35 :'Camenstsa (Kamsa o Kamentsa)',\n",
    "    36 :'Kogui',\n",
    "    37 :'Coreguaje',\n",
    "    38 :'Letuama',\n",
    "    39 :'Macaguaje',\n",
    "    40 :'Nukak Makú (se incluyen Humhu, Juhup, Jujupda, Kakua)',\n",
    "    41 :'Makuna',\n",
    "    42 :'Masiware (Masiguare - Maiben)',\n",
    "    43 :'Matapí',\n",
    "    44 :'Miraña',\n",
    "    45 :'Muinane',\n",
    "    46 :'Muisca',\n",
    "    47 :'Nonuya',\n",
    "    48 :'Ocaina',\n",
    "    49 :'Paéz (autodenominación Nasa)',\n",
    "    50 :'Pastos',\n",
    "    51 :'Piapoco',\n",
    "    52 :'Piaroa',\n",
    "    53 :'Piratapuyo',\n",
    "    54 :'Pisamira',\n",
    "    55 :'Puinave',\n",
    "    56 :'Sáliva (Saliba)',\n",
    "    57 :'Sikuani (Sicuani)',\n",
    "    58 :'Siona',\n",
    "    59 :'Siriano',\n",
    "    60 :'Tsiripu (Tshiripo)',\n",
    "    61 :'Taiwano',\n",
    "    62 :'Tanimuka',\n",
    "    63 :'Tariano',\n",
    "    64 :'Tatuyo',\n",
    "    65 :'Tikuna',\n",
    "    66 :'Totoró',\n",
    "    67 :'Tukano',\n",
    "    68 :'Cuna (Tule)',\n",
    "    69 :'Tuyuka',\n",
    "    70 :'U´wa',\n",
    "    71 :'Guanano (Wanano)',\n",
    "    72 :'Wayuu' ,\n",
    "    73 :'Uitotos (Huitoto - Witoto)',\n",
    "    74 :'Wiwa',\n",
    "    75 :'Waunana (Wounaan)',\n",
    "    76 :'Yagua',\n",
    "    77 :'Yanacona',\n",
    "    78 :'Yauna',\n",
    "    79 :'Yucuna',\n",
    "    80 :'Yuko (Yukpa)',\n",
    "    81 :'Yurí',\n",
    "    82 :'Yuruti (Tapuya)',\n",
    "    83 :'Zenú (Senu)',\n",
    "    84 :'Quillacingas',\n",
    "    90 :'Mura',\n",
    "    94 :'Polindaras',\n",
    "    95 :'Raizal',\n",
    "    96 :'Kankuamo',\n",
    "    97 :'Afrodescendiente',\n",
    "    98 :'Palanquero',\n",
    "    99 :'Mokana',\n",
    "    100 :'Ambalo',\n",
    "    101 :'Kichwa',\n",
    "    102 :'Baniva',\n",
    "    103 :'Guariquema',\n",
    "    104 :'Jurumi (Urtumi)',\n",
    "    105 :'Kizgo (Quisgo)',\n",
    "    106 :'Macahua(N)',\n",
    "    107 :'Murui (Murui - Wito)',\n",
    "    108 :'Wipiwi',\n",
    "    109 :'Yamalero',\n",
    "    110 :'Yari',\n",
    "    111 :'Yaruro',\n",
    "    112 :'Mapayerry',\n",
    "    200 :'Negritudes',\n",
    "    400 :'Rom'\n",
    "\n",
    "}"
   ]
  },
  {
   "cell_type": "code",
   "execution_count": 15,
   "id": "5e39882c-dd33-470b-a637-eaa9d943e762",
   "metadata": {},
   "outputs": [
    {
     "name": "stdout",
     "output_type": "stream",
     "text": [
      "['Única', 'Tarde', 'Mañana', 'Nocturna', 'Completa', 'Fin de semana']\n",
      "Categories (6, object): ['Única', 'Tarde', 'Mañana', 'Nocturna', 'Completa', 'Fin de semana']\n"
     ]
    }
   ],
   "source": [
    "# añado diccionario de CODIGO_JORNADA\n",
    "codigo_jornada_dict = {\n",
    "    1:  'Completa',\n",
    "    2 : 'Mañana',\n",
    "    3 : 'Tarde',\n",
    "    4 : 'Nocturna',                                                                                                                                            \n",
    "    5 : 'Fin de semana',\n",
    "    6 : 'Única'   \n",
    "}\n",
    "df_consolidado['CODIGO_JORNADA'] = df_consolidado['CODIGO_JORNADA'].replace(codigo_jornada_dict)\n",
    "df_consolidado['CODIGO_JORNADA'] = df_consolidado['CODIGO_JORNADA'].astype('category') \n",
    "# Para ver si tiene problemas con la ñ\n",
    "print(df_consolidado['CODIGO_JORNADA'].unique())"
   ]
  },
  {
   "cell_type": "code",
   "execution_count": 16,
   "id": "00332bcb-592c-4a1d-bf6f-9241dbd4300d",
   "metadata": {},
   "outputs": [
    {
     "name": "stdout",
     "output_type": "stream",
     "text": [
      "[1 0 2]\n"
     ]
    }
   ],
   "source": [
    "df_consolidado['CARACTER'] = df_consolidado['CARACTER'].astype('int64')\n",
    "print(df_consolidado['CARACTER'].unique())"
   ]
  },
  {
   "cell_type": "code",
   "execution_count": 17,
   "id": "7cfbede6-e08b-499b-8d09-61c56cc2c8f6",
   "metadata": {},
   "outputs": [],
   "source": [
    "# añado diccionario de CARACTER\n",
    "\n",
    "caracter_dict = {    \n",
    "    0 : 'No aplica',\n",
    "    1 : 'Academico',\n",
    "    2 : 'Tecnico'\n",
    "}\n",
    "df_consolidado['CARACTER'] = df_consolidado['CARACTER'].replace(caracter_dict)\n",
    "df_consolidado['CARACTER'] = df_consolidado['CARACTER'].astype('category')\n"
   ]
  },
  {
   "cell_type": "markdown",
   "id": "6e309517-5bb8-4913-8d88-4a59e726143f",
   "metadata": {},
   "source": [
    "Ahora bien, CÓDIGO ESPECIALIDAD presenta los mismos datos del diccionario, así que vamos a traducirlos.\n",
    "\n"
   ]
  },
  {
   "cell_type": "code",
   "execution_count": 18,
   "id": "6dc7733f-64bc-4f1b-a5c6-22f149719f1b",
   "metadata": {},
   "outputs": [],
   "source": [
    "# convertimos CODIGO_ESPECIALIDAD de acuerdo al diccionario. Del tipo 16 no hay ni un solo dato. \n",
    "codigo_especialidad_dict = {\n",
    "    0 : 'No aplica',\n",
    "    5 : 'Academico',\n",
    "    6 : 'Industrial',\n",
    "    7 : 'Otro',\n",
    "    8 : 'Comercial',\n",
    "    9 : 'Pedagogico',                                                                                                         \n",
    "    10: 'Agropecuario',\n",
    "    16: 'Promocion social'\n",
    "}\n",
    "df_consolidado['CODIGO_ESPECIALIDAD'] = df_consolidado['CODIGO_ESPECIALIDAD'].replace(codigo_especialidad_dict)\n",
    "df_consolidado['CODIGO_ESPECIALIDAD'] = df_consolidado['CODIGO_ESPECIALIDAD'].astype('category')\n",
    "\n"
   ]
  },
  {
   "cell_type": "markdown",
   "id": "21b2a122-bd8b-453a-a52e-5ddfd92bd301",
   "metadata": {},
   "source": [
    "Resultado"
   ]
  },
  {
   "cell_type": "code",
   "execution_count": 19,
   "id": "272146c2-491c-4e8f-8db9-9a0cdcb7fca9",
   "metadata": {},
   "outputs": [
    {
     "data": {
      "text/plain": [
       "['PROVIENE_SECTOR_PRIV',\n",
       " 'PROVIENE_OTR_MUN',\n",
       " 'TIPO_DISCAPACIDAD',\n",
       " 'CAPACIDADES_EXCEPCIONALES',\n",
       " 'CODIGO_ETNIA',\n",
       " 'CODIGO_JORNADA',\n",
       " 'CARACTER',\n",
       " 'CODIGO_ESPECIALIDAD',\n",
       " 'CODIGO_GRADO']"
      ]
     },
     "execution_count": 19,
     "metadata": {},
     "output_type": "execute_result"
    }
   ],
   "source": [
    "cols_juan = [item.replace( 'CAP_EXC', 'CAPACIDADES_EXCEPCIONALES') for item in cols_juan]\n",
    "cols_juan"
   ]
  },
  {
   "cell_type": "code",
   "execution_count": null,
   "id": "3a26ccf6-c069-40f3-9fb6-0f9bf4de86e5",
   "metadata": {},
   "outputs": [],
   "source": [
    "df_consolidado[cols_juan].dtypes"
   ]
  },
  {
   "cell_type": "markdown",
   "id": "91cf8f66-db94-4d1e-b893-5c39ad3d2075",
   "metadata": {},
   "source": [
    "## Parte III: Lici\n",
    "\n",
    "cols_lici = ['CODIGO_METODOLOGIA', 'SIT_ACAD_ANIO_ANT', 'CON_ALUM_ANIO_ANT', 'ZONA_RESI_ALU', 'CODIGO_INTERNADO', 'EDAD', 'NIVEL', 'DIR_NUM_LOCALIDAD', 'DIR_LOCALIDAD']"
   ]
  },
  {
   "cell_type": "code",
   "execution_count": 20,
   "id": "75bcd68a-f597-4001-99b2-2aaf15e3552c",
   "metadata": {},
   "outputs": [],
   "source": [
    "#numero de localidad: todos los numeros se pasan a str.\n",
    "df_consolidado['DIR_NUM_LOCALIDAD'] = df_consolidado['DIR_NUM_LOCALIDAD'].astype(str).str.strip().str.replace(\",.*\",\"\", regex = True)\n",
    "#se crea diccionario de números y nombres de localidad:\n",
    "localidadesdicc = {'1' : 'Usaquén', '2' : 'Chapinero',\n",
    "                   '3' : 'Santa Fe', '4' : 'San Cristóbal', '5' : 'Usme', '6' : 'Tunjuelito', '7' : 'Bosa', '8' : 'Kennedy', '9' : 'Fontibón', '10' : 'Engativá', '11' : 'Suba', '12' : 'Barrios Unidos', '13' : 'Teusaquillo', '14' : 'Los Mártires', '15' : 'Antonio Nariño', '16' : 'Puente Aranda', '17' : 'La Candelaria', '18' : 'Rafael Uribe Uribe', '19' : 'Ciudad Bolívar', '20' : 'Sumapaz'}"
   ]
  },
  {
   "cell_type": "code",
   "execution_count": 21,
   "id": "07a25d75-aed7-4b16-9f64-2041ea06e835",
   "metadata": {},
   "outputs": [],
   "source": [
    "#se reemplaza el diccionario en la var DIR_LOCALIDAD:\n",
    "df_consolidado['DIR_LOCALIDAD'] = df_consolidado['DIR_NUM_LOCALIDAD'].replace(localidadesdicc)"
   ]
  },
  {
   "cell_type": "code",
   "execution_count": null,
   "id": "c0f0172a-8ba8-40d4-b27b-795ee7a15020",
   "metadata": {},
   "outputs": [],
   "source": [
    "#COLUMNA EDAD "
   ]
  },
  {
   "cell_type": "markdown",
   "id": "ed6c5907-329c-46a7-b6af-018059782855",
   "metadata": {},
   "source": [
    "## Parte IV: Pablo\n",
    "\n",
    "cols_pablo = ['RES_DEPTO', 'RES_MUN', 'ESTRATO', 'SISBEN', 'FECHA_NACIMIENTO', 'GENERO', 'POB_VICT_CONF', 'DPTO_EXP', 'MUN_EXP'] "
   ]
  },
  {
   "cell_type": "code",
   "execution_count": 22,
   "id": "509bed81",
   "metadata": {},
   "outputs": [],
   "source": [
    "#  RES_DEPTO y RES_DEPTO\n",
    "df_consolidado[\"RES_DEPTO\"] = df_consolidado[\"RES_DEPTO\"].astype('category')\n",
    "df_consolidado[\"RES_MUN\"] = df_consolidado[\"RES_MUN\"].astype('category')"
   ]
  },
  {
   "cell_type": "markdown",
   "id": "c1073976",
   "metadata": {},
   "source": [
    "**Observation**:We transform the colummns to object type"
   ]
  },
  {
   "cell_type": "code",
   "execution_count": null,
   "id": "c8f49769",
   "metadata": {},
   "outputs": [],
   "source": [
    "# .astype('category')\n",
    "df_consolidado[\"ESTRATO\"].value_counts()"
   ]
  },
  {
   "cell_type": "markdown",
   "id": "a1480c7d",
   "metadata": {},
   "source": [
    "**Observation**: 9897 observations have 9 as Estrato. This is erroneous, so we will replace it with NAN. The we will transform the variable to object category"
   ]
  },
  {
   "cell_type": "code",
   "execution_count": 23,
   "id": "4d41e6b6",
   "metadata": {},
   "outputs": [],
   "source": [
    "df_consolidado[\"ESTRATO\"] = df_consolidado[\"ESTRATO\"].replace(9, None)\n",
    "df_consolidado[\"ESTRATO\"] = df_consolidado[\"ESTRATO\"].astype('category')"
   ]
  },
  {
   "cell_type": "code",
   "execution_count": null,
   "id": "a6200f68",
   "metadata": {},
   "outputs": [],
   "source": [
    "crosstab = pd.crosstab(df_consolidado[\"ANO_INF\"], df_consolidado[\"ESTRATO\"], normalize = \"index\")*100\n",
    "ax = crosstab.plot(kind='bar', stacked=True, figsize=(10, 6))\n",
    "ax.set_ylabel('%')\n",
    "ax.set_ylabel('Year')\n",
    "ax.set_title(\"Estrato (%) each year\")\n",
    "plt.legend(title='ESTRATO', bbox_to_anchor=(1.0, 1), loc='upper left')\n",
    "plt.show()"
   ]
  },
  {
   "cell_type": "code",
   "execution_count": 24,
   "id": "1b3f31eb",
   "metadata": {},
   "outputs": [],
   "source": [
    "# SISBEN\n",
    "df_consolidado[\"SISBEN\"] = df_consolidado[\"SISBEN\"].str.replace(\",\",\".\").str.replace(\" \", \"\")\n",
    "df_consolidado[\"SISBEN\"] = pd.to_numeric(df_consolidado[\"SISBEN\"], errors='coerce')"
   ]
  },
  {
   "cell_type": "code",
   "execution_count": 25,
   "id": "3e0585a3",
   "metadata": {},
   "outputs": [
    {
     "data": {
      "text/plain": [
       "0.01     151006\n",
       "0.00      15205\n",
       "1.00       3743\n",
       "9.00       2894\n",
       "61.20      1262\n",
       "          ...  \n",
       "8.20          1\n",
       "2.61          1\n",
       "70.21         1\n",
       "68.83         1\n",
       "10.04         1\n",
       "Name: SISBEN, Length: 7376, dtype: int64"
      ]
     },
     "execution_count": 25,
     "metadata": {},
     "output_type": "execute_result"
    }
   ],
   "source": [
    "df_consolidado[\"SISBEN\"][df_consolidado[\"ANO_INF\"] == 2017].value_counts()"
   ]
  },
  {
   "cell_type": "code",
   "execution_count": 26,
   "id": "87c49e7e",
   "metadata": {},
   "outputs": [
    {
     "data": {
      "text/plain": [
       "0.00     478433\n",
       "0.01      54514\n",
       "1.00      26274\n",
       "9.00       3201\n",
       "2.00       2721\n",
       "          ...  \n",
       "17.56         1\n",
       "0.69          1\n",
       "13.70         1\n",
       "1.15          1\n",
       "86.88         1\n",
       "Name: SISBEN, Length: 7129, dtype: int64"
      ]
     },
     "execution_count": 26,
     "metadata": {},
     "output_type": "execute_result"
    }
   ],
   "source": [
    "df_consolidado[\"SISBEN\"][df_consolidado[\"ANO_INF\"] == 2021].value_counts()"
   ]
  },
  {
   "cell_type": "markdown",
   "id": "2f8289c0",
   "metadata": {},
   "source": [
    "**Observation**: It seems that the coding of \"0\" was done differently in 2021. While in the other years few students have a score of 0, in 2021 almost half have this score.\n",
    "\n",
    "**Solution**: Since in 2021 it is not possible to differentiate between an original \"0\" and a \"0\" placed as a replacement for empty values, we will just ignore the \"0\" in all the variables\n"
   ]
  },
  {
   "cell_type": "code",
   "execution_count": 27,
   "id": "26435997",
   "metadata": {},
   "outputs": [
    {
     "name": "stderr",
     "output_type": "stream",
     "text": [
      "<ipython-input-27-3493a5859704>:1: SettingWithCopyWarning: \n",
      "A value is trying to be set on a copy of a slice from a DataFrame\n",
      "\n",
      "See the caveats in the documentation: https://pandas.pydata.org/pandas-docs/stable/user_guide/indexing.html#returning-a-view-versus-a-copy\n",
      "  df_consolidado[\"SISBEN\"][df_consolidado[\"SISBEN\"] == 0] = np.nan\n"
     ]
    }
   ],
   "source": [
    "df_consolidado[\"SISBEN\"][df_consolidado[\"SISBEN\"] == 0] = np.nan  "
   ]
  },
  {
   "cell_type": "code",
   "execution_count": null,
   "id": "81836a9a",
   "metadata": {},
   "outputs": [],
   "source": [
    "Sis2017 = df_consolidado[\"SISBEN\"][df_consolidado[\"ANO_INF\"] == 2017]\n",
    "Sis2018 = df_consolidado[\"SISBEN\"][df_consolidado[\"ANO_INF\"] == 2018]\n",
    "Sis2019 = df_consolidado[\"SISBEN\"][df_consolidado[\"ANO_INF\"] == 2019]\n",
    "Sis2020 = df_consolidado[\"SISBEN\"][df_consolidado[\"ANO_INF\"] == 2020]\n",
    "Sis2021 = df_consolidado[\"SISBEN\"][df_consolidado[\"ANO_INF\"] == 2021]\n",
    "\n",
    "sns.set(style=\"darkgrid\")\n",
    "\n",
    "fig, axs = plt.subplots(2, 3, figsize=(22, 15))\n",
    "\n",
    "sns.histplot(data=Sis2017, x=Sis2017, kde=True, color=\"skyblue\", ax=axs[0, 0])\n",
    "sns.histplot(data=Sis2018, x=Sis2018, kde=True, color=\"olive\", ax=axs[0, 1])\n",
    "sns.histplot(data=Sis2019, x=Sis2019, kde=True, color=\"gold\", ax=axs[0, 2])\n",
    "sns.histplot(data=Sis2020, x=Sis2020, kde=True, color=\"teal\", ax=axs[1, 0])\n",
    "sns.histplot(data=Sis2021, x=Sis2021, kde=True, color=\"teal\", ax=axs[1, 1])\n",
    "\n",
    "axs[0, 0].set_title('2017')\n",
    "axs[0, 1].set_title('2018')\n",
    "axs[0, 2].set_title('2019')\n",
    "axs[1, 0].set_title('2020')\n",
    "axs[1, 1].set_title('2021')\n",
    "\n",
    "\n",
    "plt.show()"
   ]
  },
  {
   "cell_type": "code",
   "execution_count": 28,
   "id": "2bfb0b49",
   "metadata": {},
   "outputs": [],
   "source": [
    "# FECHA_NACIMIENTO'\n",
    "df_consolidado[\"FECHA_NACIMIENTO\"] = pd.to_datetime(df_consolidado[\"FECHA_NACIMIENTO\"])"
   ]
  },
  {
   "cell_type": "code",
   "execution_count": 29,
   "id": "08f1c0f7",
   "metadata": {},
   "outputs": [],
   "source": [
    "# GENERO\n",
    "df_consolidado[\"GENERO\"] = df_consolidado[\"GENERO\"].astype('category')\n"
   ]
  },
  {
   "cell_type": "code",
   "execution_count": 30,
   "id": "0efdee8e",
   "metadata": {},
   "outputs": [],
   "source": [
    "# POB_VICT_CONF\n",
    "# convertimos POB_VICT_CONF de acuerdo al diccionario. Del tipo 16 no hay ni un solo dato. \n",
    "POB_VICT_CONF_DICT = {\n",
    "    1 : \"En situación de desplazamiento\",\n",
    "    2 : \"Desvinculados de grupos armados\",\n",
    "    3 : \"Hijos de adultos desmovilizados\",\n",
    "    4 : \"Victimas de minas\",\n",
    "    5 : \"Responsabilidad penal\",\n",
    "    6 : \"Acto terrorista /Atentados/ Combates/ Enfrentamientos / Hostigamientos\",\n",
    "    7 : \"Amenaza\",\n",
    "    8 : \"Delitos contra la libertad e integridad sexual en el marco del conflicto armado\",\n",
    "    9 : \"Desaparicion Forzada\",\n",
    "    10 : \"Desplazamiento Forzado\",\n",
    "    11 : \"Homicidio\",\n",
    "    12 : \"Secuestro\",\n",
    "    13 : \"Tortura\",\n",
    "    14 : \"Vinculacion de niños niñas adolescentes a Actividades relacionadas con grupos armados\",\n",
    "    15 : \"Abandono o despojo de tierras\",\n",
    "    16 : \"Perdida de bienes muebles o inmuebles\" ,\n",
    "    17 : \"Otros\",\n",
    "    18 : \"Sin información\",\n",
    "    19 : \"Confinamiento\",\n",
    "    20 : \"Lesiones personales físicas\",\n",
    "    21 : \"Lesiones personales Psicológicas\",\n",
    "    99 : \"No aplica\",\n",
    "}\n",
    "df_consolidado['POB_VICT_CONF'] = df_consolidado['POB_VICT_CONF'].replace(POB_VICT_CONF_DICT)\n",
    "df_consolidado['POB_VICT_CONF'] = df_consolidado['POB_VICT_CONF'].astype('category')\n"
   ]
  },
  {
   "cell_type": "markdown",
   "id": "818ebd6a",
   "metadata": {},
   "source": [
    "**Observation**: We transform the variable POB_VICT_CONF according to its dictionary.\n"
   ]
  },
  {
   "cell_type": "code",
   "execution_count": 31,
   "id": "7650f23b",
   "metadata": {},
   "outputs": [],
   "source": [
    "# DPTO_EXP and MUN_EXP\n",
    "df_consolidado['DPTO_EXP'] = df_consolidado['DPTO_EXP'].astype('category')\n",
    "df_consolidado['MUN_EXP'] = df_consolidado['MUN_EXP'].astype('category')\n"
   ]
  },
  {
   "cell_type": "markdown",
   "id": "e3538fa4",
   "metadata": {},
   "source": [
    "**Observation**:We transform the colummns to object type"
   ]
  },
  {
   "cell_type": "markdown",
   "id": "e009c2cf-0afd-472d-9d62-0740ddb32a13",
   "metadata": {},
   "source": [
    "### Final\n",
    "Faltaría tratar por separado la limpieza de Repitente, ya que a nadie le correspondió esta columna. Es mejor dejarla category? Hacemos verificación de que sea coherente comparando año a año NRO_documentos?"
   ]
  },
  {
   "cell_type": "markdown",
   "id": "4c2cfe7b",
   "metadata": {},
   "source": [
    "# Descomentar y ejecutar para generar el dataset final"
   ]
  },
  {
   "cell_type": "code",
   "execution_count": 32,
   "id": "438cbbcd",
   "metadata": {},
   "outputs": [],
   "source": [
    "df_consolidado.to_csv('data/2-plata/Consolidado_SIMAT_Depurado.csv')"
   ]
  },
  {
   "cell_type": "code",
   "execution_count": null,
   "id": "579904e0",
   "metadata": {},
   "outputs": [],
   "source": []
  }
 ],
 "metadata": {
  "kernelspec": {
   "display_name": "Python 3",
   "language": "python",
   "name": "python3"
  },
  "language_info": {
   "codemirror_mode": {
    "name": "ipython",
    "version": 3
   },
   "file_extension": ".py",
   "mimetype": "text/x-python",
   "name": "python",
   "nbconvert_exporter": "python",
   "pygments_lexer": "ipython3",
   "version": "3.8.8"
  }
 },
 "nbformat": 4,
 "nbformat_minor": 5
}
