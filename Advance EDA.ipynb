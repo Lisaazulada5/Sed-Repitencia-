{
 "cells": [
  {
   "cell_type": "code",
   "execution_count": 1,
   "id": "3819cbf7",
   "metadata": {},
   "outputs": [],
   "source": [
    "# Base libraries\n",
    "import time\n",
    "import datetime\n",
    "import os\n",
    "\n",
    "# Scientific librariesz\n",
    "import numpy as np\n",
    "import pandas as pd\n",
    "from scipy.stats import chi2_contingency\n",
    "\n",
    "# Visual libraries\n",
    "import matplotlib.pyplot as plt\n",
    "import seaborn as sns\n",
    "\n",
    "# Helper libraries\n",
    "import xlrd\n",
    "import pprint\n",
    "import base64\n",
    "\n",
    "# Visual setup\n",
    "\n",
    "# Pandas options\n",
    "pd.options.display.max_columns = None"
   ]
  },
  {
   "cell_type": "markdown",
   "id": "e5b0f639",
   "metadata": {},
   "source": [
    "## **1. Limpieza De Datos**\n",
    "---\n",
    "1. Crear sección de librerias de python\n",
    "1. Cargar los dataset en la carpeta `1 bronce`\n",
    "1. Homologar campos en las 3 bases 2019-eficiencia, 2020-eficiencia, 2021, con los campos identificados en el diccionario de datos (identificar las columnas que coinciden en las ters bases)\n",
    "2. Crear una llave, concatenando el numero de documento con el tipo de documento\n",
    "3. Teniedo en cuenta la llave del anterior punto, filtrar datos unicos\n",
    "4. Filtrar para no tener en cuenta los datos nulos  \n",
    "  * Validar columnas con datos socioeconomicos con valor nulo, con los datos del SISBEN (no tener en cuenta para el 26 de mayo)\n",
    "5. Crear columna de año den cada base y unirlas (dataset final de trabajo) "
   ]
  },
  {
   "cell_type": "markdown",
   "id": "02668c8a",
   "metadata": {},
   "source": [
    "Despues de analizar el diccionario del Anexo 6A del año 2021, se seleccionaron las variables mas relevantes para el desarrollo del proyecto, para ello se creo una columna con el nonbre `COLUMNAS A TENER EN CUENTA` con los valores `SI`, `NO`, `SI SIN VALIDAR SED`, `SI PREGUNTAR SED`."
   ]
  },
  {
   "cell_type": "code",
   "execution_count": null,
   "id": "1a450e80",
   "metadata": {
    "scrolled": true
   },
   "outputs": [],
   "source": [
    "dic_anexo64_2021 =  pd.read_excel('diccionarios/Diccionario_Anexo6A_31_03_2021_Modificado.xlsx', header=4, index_col=0)\n",
    "dic_anexo64_2021"
   ]
  },
  {
   "cell_type": "code",
   "execution_count": null,
   "id": "9643827e",
   "metadata": {},
   "outputs": [],
   "source": [
    "dic_anexo64_2021['COLUMNAS A TENER EN CUENTA'] = dic_anexo64_2021['COLUMNAS A TENER EN CUENTA'].replace(np.nan, 'NO')\n",
    "main_variables = dic_anexo64_2021[dic_anexo64_2021['COLUMNAS A TENER EN CUENTA'].str.contains('SI', case=False)]['NOMBRE VARIABLE']\n",
    "main_variables = main_variables.str.strip().tolist()\n",
    "main_variables"
   ]
  },
  {
   "cell_type": "markdown",
   "id": "95d7be4b",
   "metadata": {},
   "source": [
    "Se cargan los dataset para cada uno de los años"
   ]
  },
  {
   "cell_type": "code",
   "execution_count": null,
   "id": "0a45765e",
   "metadata": {},
   "outputs": [],
   "source": [
    "df_anexo6A_2017 = pd.read_csv('data/1-bronce/SIMAT_EFICIENCIA_2017.csv', delimiter=';')\n",
    "df_anexo6A_2018 = pd.read_csv('data/1-bronce/SIMAT_EFICIENCIA_2018.csv', delimiter=';')\n",
    "df_anexo6A_2019 = pd.read_csv('data/1-bronce/Anexo6A_Eficiencia_interna_MEN_2019.csv', delimiter=';')\n",
    "df_anexo6A_2020 = pd.read_csv('data/1-bronce/Anexo6A_Eficiencia_interna_MEN_2020.csv', delimiter=';')\n",
    "df_anexo6A_2021 = pd.read_csv('data/1-bronce/Anexo6A_depurado_31032021.csv', delimiter=';')"
   ]
  },
  {
   "cell_type": "markdown",
   "id": "cb73a7a3",
   "metadata": {},
   "source": [
    "Debido a que no en todos los dataset las columnas coinciden, primero miramos cuales son los nombers de columnas que coinciden"
   ]
  },
  {
   "cell_type": "code",
   "execution_count": null,
   "id": "7dd7bd71",
   "metadata": {},
   "outputs": [],
   "source": [
    "dfs = [ df_anexo6A_2017, df_anexo6A_2018, df_anexo6A_2019, df_anexo6A_2020, df_anexo6A_2021]\n",
    "dfs_columns = np.concatenate([df.columns.str.strip() for df in dfs])\n",
    "dfs_columns = pd.Series(dfs_columns).value_counts()\n",
    "columns_in_all_dfs = dfs_columns[dfs_columns == len(dfs)]\n",
    "columns_in_all_dfs = columns_in_all_dfs.index\n",
    "columns_in_all_dfs"
   ]
  },
  {
   "cell_type": "code",
   "execution_count": null,
   "id": "97c62f2d",
   "metadata": {},
   "outputs": [],
   "source": [
    "missing_main_variables = list(filter(lambda x: x not in columns_in_all_dfs, main_variables))\n",
    "missing_main_variables"
   ]
  },
  {
   "cell_type": "markdown",
   "id": "07067840",
   "metadata": {},
   "source": [
    "Debido a que se esta utilizando una gran cantidad de columnas, se necesita una funcion que encuntre coincidencias en los nombres de las otras columnas en los otros dataframes, con respecto a las columnas que definimos como importantes"
   ]
  },
  {
   "cell_type": "code",
   "execution_count": null,
   "id": "e4856692",
   "metadata": {},
   "outputs": [],
   "source": [
    "def word_in_dfs_columns(dfs_dic, word, to_ignore=[]):\n",
    "    words = word.split('_')\n",
    "    words = list(filter(lambda x: x not in to_ignore, words))\n",
    "    results = {}\n",
    "    for key, df in dfs_dic.items():\n",
    "        matches = []\n",
    "        for w in words:\n",
    "            matches = [*matches, *df.columns[df.columns.str.contains(w, case=False)]]\n",
    "            matches = list(set(matches))\n",
    "        \n",
    "        results[key] = matches\n",
    "    return results"
   ]
  },
  {
   "cell_type": "code",
   "execution_count": null,
   "id": "d48a7e91",
   "metadata": {},
   "outputs": [],
   "source": [
    "df_dict = {'df_anexo6A_2017':df_anexo6A_2017,'df_anexo6A_2018':df_anexo6A_2018,'df_anexo6A_2019':df_anexo6A_2019, 'df_anexo6A_2020':df_anexo6A_2020}\n",
    "variables = {}\n",
    "for var in missing_main_variables:\n",
    "    variables[var] = word_in_dfs_columns(df_dict, var, ['CODIGO', 'DIR', 'TIPO', 'B', 'ID'])\n",
    "pprint.pprint(variables)"
   ]
  },
  {
   "cell_type": "code",
   "execution_count": null,
   "id": "69c995b2",
   "metadata": {},
   "outputs": [],
   "source": [
    "word_in_dfs_columns(df_dict, 'LOC', ['CODIGO', 'DIR', 'TIPO', 'B', 'ID'])"
   ]
  },
  {
   "cell_type": "markdown",
   "id": "045c6ce0",
   "metadata": {},
   "source": [
    "Despues de analizar el resultado de nuestra funcion que encuentra coincidencias, creamos el sigueinte dicionario replace_columns_dict con los nombres de columnas a remplazr en los otros datasets"
   ]
  },
  {
   "cell_type": "code",
   "execution_count": null,
   "id": "3737746e",
   "metadata": {},
   "outputs": [],
   "source": [
    "\n",
    "replace_columns_dict = {\n",
    "    'ANNO_INF': 'ANO_INF',\n",
    "    'DANE12_ESTABLECIMIENTO_EDUCATIVO': 'CODIGO_DANE',\n",
    "    'DANE12_SEDE_EDUCATIVA': 'CODIGO_DANE_SEDE',\n",
    "    'ESPECIALIDAD': 'CODIGO_ESPECIALIDAD',\n",
    "    'ETNIA': 'CODIGO_ETNIA',\n",
    "    'GRADO': 'CODIGO_GRADO',\n",
    "    'INTERNADO': 'CODIGO_INTERNADO',\n",
    "    'TIPO_JORNADA': 'CODIGO_JORNADA',\n",
    "    'METODOLOGIA': 'CODIGO_METODOLOGIA',\n",
    "    'CON_ALUM_ANO_ANT': 'CON_ALUM_ANIO_ANT',\n",
    "    'GENERO.x': 'GENERO',\n",
    "    'PROVIENE_OTRO_MUN': 'PROVIENE_OTR_MUN',\n",
    "    'SIT_ACAD_ANO_ANT': 'SIT_ACAD_ANIO_ANT',\n",
    "    'VAL_DES_PERIODO1': 'VALORACION1',\n",
    "    'VAL_DES_PERIODO2': 'VALORACION2',\n",
    "    'NUMERO_LOCALIDAD': 'DIR_NUM_LOCALIDAD',\n",
    "    '@_LOC': 'DIR_NUM_LOCALIDAD',\n",
    "    '@#_LOC': 'DIR_NUM_LOCALIDAD',\n",
    "    'LOC_DIR': 'DIR_NUM_LOCALIDAD',\n",
    "    'LOCALIDAD': 'DIR_LOCALIDAD',\n",
    "    'NOMBRE_LOCALIDAD': 'DIR_LOCALIDAD',\n",
    "    'NOMBRE_LOCALIDAD_DIR': 'DIR_LOCALIDAD',\n",
    "    'ZON_ALU': 'ZONA_RESI_ALU',\n",
    "    'NIVEL':'NIVEL'\n",
    "}"
   ]
  },
  {
   "cell_type": "markdown",
   "id": "ad67ed15",
   "metadata": {},
   "source": [
    "La siguiente celda muestra como se relacionan las cada una de las coincidiencias definidas arriba, una pequeña muestra de los valores que tienen y el tipo\n",
    "```\n",
    "<replace_columns_dict_key> <replace_columns_dict_value>--> [values examples of dataframe 1] [values examples of dataframe 2] [values examples of dataframe 3]\n",
    "types: [type of dataframe 1, type of dataframe 2, type of dataframe 3] \n",
    "```"
   ]
  },
  {
   "cell_type": "code",
   "execution_count": null,
   "id": "a120acfa",
   "metadata": {},
   "outputs": [],
   "source": [
    "text =\"\"\n",
    "for key, val in replace_columns_dict.items():\n",
    "    text += f\"{key}  {val}--> \"\n",
    "    var_types = []\n",
    "    for df in dfs:\n",
    "        \n",
    "        if key in df.columns:\n",
    "            text += f\"{df[key].unique()[:5]}\"\n",
    "            var_types.append(df[key].dtype)\n",
    "        elif val in df.columns:\n",
    "            text += f\"{df[val].unique()[:5]}\"\n",
    "            var_types.append(df[val].dtype)\n",
    "        else:\n",
    "            text += \"(not found)\"\n",
    "            var_types.append(\"(not found)\")\n",
    "    text += f\"\\ntypes: {var_types} \\n\\n\"   \n",
    "print(text)"
   ]
  },
  {
   "cell_type": "markdown",
   "id": "88ee8209",
   "metadata": {},
   "source": [
    "Filtramos las variables que no se pudieron encontrar en todos los dataframes, incluso despues de hacer el checkeo manual."
   ]
  },
  {
   "cell_type": "code",
   "execution_count": null,
   "id": "0d8d48b5",
   "metadata": {},
   "outputs": [],
   "source": [
    "unfindables_variables = list(filter(lambda x: x not in replace_columns_dict.values(), missing_main_variables))\n",
    "unfindables_variables"
   ]
  },
  {
   "cell_type": "markdown",
   "id": "91ddff76",
   "metadata": {},
   "source": [
    "Ahora filtramos las variables que  vamos a utilizar y las asignamos a una lista en la variable `validate_main_variables` "
   ]
  },
  {
   "cell_type": "code",
   "execution_count": null,
   "id": "1db316fd",
   "metadata": {},
   "outputs": [],
   "source": [
    "validate_main_variables = list(filter(lambda x: x not in unfindables_variables, main_variables))\n",
    "validate_main_variables"
   ]
  },
  {
   "cell_type": "code",
   "execution_count": null,
   "id": "4622d69b",
   "metadata": {},
   "outputs": [],
   "source": [
    "len(validate_main_variables)"
   ]
  },
  {
   "cell_type": "markdown",
   "id": "6da51c11",
   "metadata": {},
   "source": [
    "Remplazamos los nombres de las columnas que encontramos pero que no coinciden en el resto de los dataframes."
   ]
  },
  {
   "cell_type": "code",
   "execution_count": null,
   "id": "5a5b2d4a",
   "metadata": {},
   "outputs": [],
   "source": [
    "for df in dfs:\n",
    "    df.rename(columns=replace_columns_dict, inplace=True)"
   ]
  },
  {
   "cell_type": "markdown",
   "id": "ee6b992d",
   "metadata": {},
   "source": [
    "Despues de remplazar los nombres de las columnas, tomamos solos las que necesitamos "
   ]
  },
  {
   "cell_type": "code",
   "execution_count": null,
   "id": "f06bb761",
   "metadata": {},
   "outputs": [],
   "source": [
    "df_anexo6A_2017 = df_anexo6A_2017[validate_main_variables]\n",
    "df_anexo6A_2018 = df_anexo6A_2018[validate_main_variables]\n",
    "df_anexo6A_2019 = df_anexo6A_2019[validate_main_variables]\n",
    "df_anexo6A_2020 = df_anexo6A_2020[validate_main_variables]\n",
    "df_anexo6A_2021 = df_anexo6A_2021[validate_main_variables]"
   ]
  },
  {
   "cell_type": "code",
   "execution_count": null,
   "id": "cdf0b910",
   "metadata": {},
   "outputs": [],
   "source": [
    "df_anexo6A_2017['ANO_INF'] = '2017'\n",
    "df_anexo6A_2018['ANO_INF'] = '2018'\n",
    "df_anexo6A_2019['ANO_INF'] = '2019'\n",
    "df_anexo6A_2020['ANO_INF'] = '2020'\n",
    "df_anexo6A_2021['ANO_INF'] = '2021'"
   ]
  },
  {
   "cell_type": "markdown",
   "id": "14f38a02",
   "metadata": {},
   "source": [
    "Igual que como se hizo anteriormente miramos las variables, una pequeña muestra de los valores que tienen y el tipo de estas\n",
    "```\n",
    "<dataframe_column> --> [values examples of dataframe 1] [values examples of dataframe 2] [values examples of dataframe 3]\n",
    "types: [type of dataframe column 1, type of dataframe column 2, type of dataframe column 3] \n",
    "```"
   ]
  },
  {
   "cell_type": "code",
   "execution_count": null,
   "id": "0097bd30",
   "metadata": {},
   "outputs": [],
   "source": [
    "text =\"\"\n",
    "for col in validate_main_variables:\n",
    "    text += f\"{col} --> \"\n",
    "    var_types = []\n",
    "    for df in dfs:\n",
    "        text += f\"{df[col].unique()[:5]}\"\n",
    "        var_types.append(df[col].dtype)\n",
    "    text += f\"\\ntypes: {var_types} \\n\\n\"   \n",
    "print(text)"
   ]
  },
  {
   "cell_type": "markdown",
   "id": "88efe556",
   "metadata": {},
   "source": [
    "Checkeamos si existen duplicados en los dataframe, por ejemplo para número de documento"
   ]
  },
  {
   "cell_type": "code",
   "execution_count": null,
   "id": "34d8588d",
   "metadata": {},
   "outputs": [],
   "source": [
    "df_anexo6A_2017['CODIGO_DANE_SEDE'] = df_anexo6A_2017['CODIGO_DANE_SEDE'].astype(int)\n",
    "df_anexo6A_2017['CODIGO_DANE_SEDE']"
   ]
  },
  {
   "cell_type": "code",
   "execution_count": null,
   "id": "2480de11",
   "metadata": {},
   "outputs": [],
   "source": [
    "df_anexo6A_2017[df_anexo6A_2017['CODIGO_DANE_SEDE'] == 0]['CODIGO_DANE_SEDE'].value_counts()"
   ]
  },
  {
   "cell_type": "code",
   "execution_count": null,
   "id": "aac7a467",
   "metadata": {},
   "outputs": [],
   "source": [
    "df_anexo6A_2017.drop_duplicates(subset=['NRO_DOCUMENTO'], keep=False, inplace=True)\n",
    "df_anexo6A_2018.drop_duplicates(subset=['NRO_DOCUMENTO'], keep=False, inplace=True)\n",
    "df_anexo6A_2019.drop_duplicates(subset=['NRO_DOCUMENTO'], keep=False, inplace=True)\n",
    "df_anexo6A_2020.drop_duplicates(subset=['NRO_DOCUMENTO'], keep=False, inplace=True)\n",
    "df_anexo6A_2021.drop_duplicates(subset=['NRO_DOCUMENTO'], keep=False, inplace=True)"
   ]
  },
  {
   "cell_type": "code",
   "execution_count": null,
   "id": "1a243321",
   "metadata": {},
   "outputs": [],
   "source": [
    "df_anexo6A = pd.concat([df_anexo6A_2017, df_anexo6A_2018, df_anexo6A_2019, df_anexo6A_2020, df_anexo6A_2021], ignore_index=True)\n",
    "df_anexo6A"
   ]
  },
  {
   "cell_type": "code",
   "execution_count": null,
   "id": "2aac8c61",
   "metadata": {},
   "outputs": [],
   "source": [
    "df_anexo6A = df_anexo6A[df_anexo6A['REPITENTE'].isin(['N', 'S'])]\n",
    "df_anexo6A.head(2)"
   ]
  },
  {
   "cell_type": "code",
   "execution_count": null,
   "id": "a4e1f6e4",
   "metadata": {},
   "outputs": [],
   "source": [
    "df_anexo6A['REPITENTE'].value_counts()"
   ]
  },
  {
   "cell_type": "code",
   "execution_count": null,
   "id": "3b4bcefc",
   "metadata": {},
   "outputs": [],
   "source": [
    "for col in df_anexo6A.columns:\n",
    "    text =\"\"\n",
    "    text += f\"{col} --> \"    \n",
    "    text += f\"{df_anexo6A[col].unique()[:]}\"\n",
    "    var_type = df_anexo6A[col].dtype\n",
    "    text += f\"\\ntypes: {var_type} \\n\\n\"   \n",
    "    print(text)"
   ]
  },
  {
   "cell_type": "markdown",
   "id": "ac6f77c1",
   "metadata": {},
   "source": [
    " campos ' ': `SISBEN`, `DPTO_EXP, MUN_EXP`, `VALORACION1`, `VALORACION2`, `CODIGO_INTERNADO`, `PAIS_ORIGEN`  \n",
    "campos '\\$null\\$': `NOMBRE_PAIS_ORIGEN` "
   ]
  },
  {
   "cell_type": "code",
   "execution_count": null,
   "id": "570178c3",
   "metadata": {},
   "outputs": [],
   "source": [
    "empty_columns = ['SISBEN', 'DPTO_EXP', 'MUN_EXP', 'VALORACION1', 'VALORACION2', 'CODIGO_INTERNADO']"
   ]
  },
  {
   "cell_type": "code",
   "execution_count": null,
   "id": "f460dc7f",
   "metadata": {},
   "outputs": [],
   "source": [
    "for col in empty_columns:\n",
    "  print(f\"Empties in {col} --> {df_anexo6A[df_anexo6A[col] == ' '][col].value_counts()[0]}\")"
   ]
  },
  {
   "cell_type": "markdown",
   "id": "d86931e8",
   "metadata": {},
   "source": [
    "`DPTO_EXP` 2156194 vacios pero no todos los estudiantes son expulsados como victimas de conflicto  \n",
    "`MUN_EXP ` 2156194 vacios pero no todos los estudiantes son expulsados como victimas de conflicto\n",
    "`VALORACION1` y `VALORACION2` contiene muchos vacios, pero despues de ralizar un conteo en la base del 2019 donde se encuentran 27099 repitentes, solo 4 cuentan con el dato de valoracion, en este caso no tendriamos en cuneta estas variables para el análisis"
   ]
  },
  {
   "cell_type": "code",
   "execution_count": null,
   "id": "08c0a973",
   "metadata": {},
   "outputs": [],
   "source": [
    "df_anexo6A.to_csv('data/1-bronce/Consolidado-SIMAT-2017-2021.csv')"
   ]
  },
  {
   "cell_type": "code",
   "execution_count": null,
   "id": "8a572f7f",
   "metadata": {},
   "outputs": [],
   "source": [
    "dic_anexo64_2021['COLUMNAS A UTIIZAR'] = dic_anexo64_2021['NOMBRE VARIABLE'].isin(validate_main_variables).replace({True: 'SI', False: 'NO'})\n",
    "dic_anexo64_2021_corregido = dic_anexo64_2021[[*dic_anexo64_2021.columns[:2], dic_anexo64_2021.columns[-1], *dic_anexo64_2021.columns[2:-1]]]\n",
    "# dic_anexo64_2021_corregido\n",
    "dic_consolidado = dic_anexo64_2021_corregido[dic_anexo64_2021_corregido['COLUMNAS A UTIIZAR'] == 'SI']\n",
    "dic_consolidado.pop('COLUMNAS A UTIIZAR')\n",
    "dic_consolidado.pop('COLUMNAS A TENER EN CUENTA')\n",
    "dic_consolidado = dic_consolidado.reset_index()\n",
    "dic_consolidado['No'] = dic_consolidado.index\n",
    "dic_consolidado = dic_consolidado.set_index('No')\n",
    "dic_consolidado"
   ]
  },
  {
   "cell_type": "code",
   "execution_count": null,
   "id": "ac378232",
   "metadata": {},
   "outputs": [],
   "source": [
    "dic_consolidado.to_excel('diccionarios/Diccionario-Consolidado-SIMAT-2017-2021.xlsx')"
   ]
  },
  {
   "cell_type": "markdown",
   "id": "2578571a",
   "metadata": {},
   "source": [
    "# Data Cleaning Part I\n",
    "## Focusing on geographical origin and socioeconomic levels "
   ]
  },
  {
   "cell_type": "markdown",
   "id": "682c96c7",
   "metadata": {},
   "source": [
    "We will investigate all the variables of the consolidated dataset in order to clean the fields and draw some first conclusions. In this part start by considering the variables: SISBEN, ESTRATO, RES_DEPTO and RES_MUN.\n",
    " "
   ]
  },
  {
   "cell_type": "code",
   "execution_count": 5,
   "id": "2ecf40a7",
   "metadata": {},
   "outputs": [],
   "source": [
    "chunk = pd.read_csv('data/1-bronce/Consolidado-SIMAT-2017-2021.csv', chunksize = 10000)\n",
    "Simat_F = pd.concat(chunk)"
   ]
  },
  {
   "cell_type": "markdown",
   "id": "8a09ba0d",
   "metadata": {},
   "source": [
    "## RES_DEPTO\n"
   ]
  },
  {
   "cell_type": "code",
   "execution_count": 10,
   "id": "8620904d",
   "metadata": {},
   "outputs": [
    {
     "data": {
      "text/plain": [
       "11    4193543\n",
       "25      74942\n",
       "73      17623\n",
       "15      11118\n",
       "5       10547\n",
       "50       9251\n",
       "68       8473\n",
       "13       8066\n",
       "41       7022\n",
       "76       6827\n",
       "23       6245\n",
       "8        5749\n",
       "47       5191\n",
       "54       4975\n",
       "20       4477\n",
       "17       3940\n",
       "70       3870\n",
       "85       3146\n",
       "52       2340\n",
       "66       2309\n",
       "63       2136\n",
       "27       1980\n",
       "18       1894\n",
       "19       1763\n",
       "44       1662\n",
       "81       1176\n",
       "86        875\n",
       "95        599\n",
       "91        528\n",
       "99        309\n",
       "94        159\n",
       "88        140\n",
       "97         70\n",
       "Name: RES_DEPTO, dtype: int64"
      ]
     },
     "execution_count": 10,
     "metadata": {},
     "output_type": "execute_result"
    }
   ],
   "source": [
    "Simat_F[\"RES_DEPTO\"].value_counts()"
   ]
  },
  {
   "cell_type": "code",
   "execution_count": 11,
   "id": "344fcdc7",
   "metadata": {},
   "outputs": [
    {
     "data": {
      "text/plain": [
       "index          1710\n",
       "RES_DEPTO    209402\n",
       "dtype: int64"
      ]
     },
     "execution_count": 11,
     "metadata": {},
     "output_type": "execute_result"
    }
   ],
   "source": [
    "count = Simat_F[\"RES_DEPTO\"].value_counts().reset_index()\n",
    "count[count[\"index\"] != 11].sum()"
   ]
  },
  {
   "cell_type": "markdown",
   "id": "6015cb3d",
   "metadata": {},
   "source": [
    "**Observation**: 209.402 observations that don´t live in Bogotá. "
   ]
  },
  {
   "cell_type": "markdown",
   "id": "a9d87e75",
   "metadata": {},
   "source": [
    "## RES_MUN"
   ]
  },
  {
   "cell_type": "code",
   "execution_count": 13,
   "id": "b0663ccc",
   "metadata": {},
   "outputs": [
    {
     "data": {
      "text/plain": [
       "1      4241286\n",
       "754      37662\n",
       "473       3449\n",
       "430       2766\n",
       "290       2520\n",
       "        ...   \n",
       "705          1\n",
       "145          1\n",
       "4            1\n",
       "501          1\n",
       "792          1\n",
       "Name: RES_MUN, Length: 576, dtype: int64"
      ]
     },
     "execution_count": 13,
     "metadata": {},
     "output_type": "execute_result"
    }
   ],
   "source": [
    "Simat_F[\"RES_MUN\"].value_counts()"
   ]
  },
  {
   "cell_type": "markdown",
   "id": "a6a7cbb7",
   "metadata": {},
   "source": [
    "**Observation**: We could concatenate RES_DEPTO with RES_MUN and filter the observations that have \"11001\" the code of Bogotá"
   ]
  },
  {
   "cell_type": "markdown",
   "id": "2c164e72",
   "metadata": {},
   "source": [
    "## ESTRATO"
   ]
  },
  {
   "cell_type": "code",
   "execution_count": 9,
   "id": "6cb32ac5",
   "metadata": {},
   "outputs": [
    {
     "data": {
      "text/plain": [
       "2    2121071\n",
       "3     976651\n",
       "1     825269\n",
       "0     368794\n",
       "4      74303\n",
       "5      16350\n",
       "6      10610\n",
       "9       9897\n",
       "Name: ESTRATO, dtype: int64"
      ]
     },
     "execution_count": 9,
     "metadata": {},
     "output_type": "execute_result"
    }
   ],
   "source": [
    "Simat_F[\"ESTRATO\"].value_counts()"
   ]
  },
  {
   "cell_type": "markdown",
   "id": "fddefbda",
   "metadata": {},
   "source": [
    "**Observation**: 9897 observations have 9 as Estrato. This is erroneous, so we will replace it with NAN"
   ]
  },
  {
   "cell_type": "code",
   "execution_count": 14,
   "id": "47adfafa",
   "metadata": {},
   "outputs": [],
   "source": [
    "Simat_F[\"ESTRATO\"] = Simat_F[\"ESTRATO\"].replace(9, None)"
   ]
  },
  {
   "cell_type": "code",
   "execution_count": 15,
   "id": "7456f21d",
   "metadata": {},
   "outputs": [],
   "source": [
    "crosstab = pd.crosstab(Simat_F[\"ANO_INF\"], Simat_F[\"ESTRATO\"], normalize = \"index\")*100"
   ]
  },
  {
   "cell_type": "code",
   "execution_count": 17,
   "id": "ac554165",
   "metadata": {},
   "outputs": [
    {
     "data": {
      "image/png": "[encoded data removed]",
      "text/plain": [
       "<Figure size 720x432 with 1 Axes>"
      ]
     },
     "metadata": {
      "needs_background": "light"
     },
     "output_type": "display_data"
    }
   ],
   "source": [
    "ax = crosstab.plot(kind='bar', stacked=True, figsize=(10, 6))\n",
    "ax.set_ylabel('%')\n",
    "ax.set_ylabel('Year')\n",
    "ax.set_title(\"Estrato (%) each year\")\n",
    "plt.legend(title='ESTRATO', bbox_to_anchor=(1.0, 1), loc='upper left')\n",
    "plt.show()"
   ]
  },
  {
   "cell_type": "markdown",
   "id": "80465953",
   "metadata": {},
   "source": [
    "## SISBEN"
   ]
  },
  {
   "cell_type": "code",
   "execution_count": 18,
   "id": "59b9fc0e",
   "metadata": {},
   "outputs": [],
   "source": [
    "Simat_F[\"SISBEN\"] = Simat_F[\"SISBEN\"].str.replace(\",\",\".\").str.replace(\" \", \"\")\n",
    "Simat_F[\"SISBEN\"] = pd.to_numeric(Simat_F[\"SISBEN\"], errors='coerce')"
   ]
  },
  {
   "cell_type": "code",
   "execution_count": 19,
   "id": "59c3ff27",
   "metadata": {},
   "outputs": [
    {
     "data": {
      "text/plain": [
       "0    0.01\n",
       "1     NaN\n",
       "2     NaN\n",
       "3     NaN\n",
       "4     NaN\n",
       "Name: SISBEN, dtype: float64"
      ]
     },
     "execution_count": 19,
     "metadata": {},
     "output_type": "execute_result"
    }
   ],
   "source": [
    "Simat_F[\"SISBEN\"][Simat_F[\"ANO_INF\"] == 2017].head()"
   ]
  },
  {
   "cell_type": "code",
   "execution_count": 20,
   "id": "a60d281b",
   "metadata": {},
   "outputs": [
    {
     "data": {
      "text/plain": [
       "1152808    47.0\n",
       "1152809    57.0\n",
       "1152810    57.0\n",
       "1152811    51.0\n",
       "1152812     NaN\n",
       "Name: SISBEN, dtype: float64"
      ]
     },
     "execution_count": 20,
     "metadata": {},
     "output_type": "execute_result"
    }
   ],
   "source": [
    "Simat_F[\"SISBEN\"][Simat_F[\"ANO_INF\"] == 2018].head()"
   ]
  },
  {
   "cell_type": "code",
   "execution_count": 21,
   "id": "7b39d2bc",
   "metadata": {},
   "outputs": [
    {
     "data": {
      "text/plain": [
       "3605931     0.01\n",
       "3605932     0.00\n",
       "3605933    26.58\n",
       "3605934     0.00\n",
       "3605935     0.00\n",
       "Name: SISBEN, dtype: float64"
      ]
     },
     "execution_count": 21,
     "metadata": {},
     "output_type": "execute_result"
    }
   ],
   "source": [
    "Simat_F[\"SISBEN\"][Simat_F[\"ANO_INF\"] == 2021].head()"
   ]
  },
  {
   "cell_type": "markdown",
   "id": "9c1a9fa3",
   "metadata": {},
   "source": [
    "**Observation**: It seems that the coding of \"0\" was done differently in 2021. While in the other years few students have a score of 0, in 2021 almost half have this score.\n",
    "\n",
    "**Solution**: Since in 2021 it is not possible to differentiate between an original \"0\" and a \"0\" placed as a replacement for empty values, we will just ignore the \"0\" in all the variables\n"
   ]
  },
  {
   "cell_type": "code",
   "execution_count": 22,
   "id": "3ca906d1",
   "metadata": {},
   "outputs": [
    {
     "name": "stderr",
     "output_type": "stream",
     "text": [
      "<ipython-input-22-105e369657fc>:1: SettingWithCopyWarning: \n",
      "A value is trying to be set on a copy of a slice from a DataFrame\n",
      "\n",
      "See the caveats in the documentation: https://pandas.pydata.org/pandas-docs/stable/user_guide/indexing.html#returning-a-view-versus-a-copy\n",
      "  Simat_F[\"SISBEN\"][Simat_F[\"SISBEN\"] == 0] = np.nan\n"
     ]
    }
   ],
   "source": [
    "Simat_F[\"SISBEN\"][Simat_F[\"SISBEN\"] == 0] = np.nan  "
   ]
  },
  {
   "cell_type": "code",
   "execution_count": 23,
   "id": "e6abdd58",
   "metadata": {},
   "outputs": [],
   "source": [
    "Sis2017 = Simat_F[\"SISBEN\"][Simat_F[\"ANO_INF\"] == 2017]\n",
    "Sis2018 = Simat_F[\"SISBEN\"][Simat_F[\"ANO_INF\"] == 2018]\n",
    "Sis2019 = Simat_F[\"SISBEN\"][Simat_F[\"ANO_INF\"] == 2019]\n",
    "Sis2020 = Simat_F[\"SISBEN\"][Simat_F[\"ANO_INF\"] == 2020]\n",
    "Sis2021 = Simat_F[\"SISBEN\"][Simat_F[\"ANO_INF\"] == 2021]"
   ]
  },
  {
   "cell_type": "code",
   "execution_count": 24,
   "id": "985f1951",
   "metadata": {},
   "outputs": [
    {
     "data": {
      "image/png": "[encoded data removed]",
      "text/plain": [
       "<Figure size 1584x1080 with 6 Axes>"
      ]
     },
     "metadata": {},
     "output_type": "display_data"
    }
   ],
   "source": [
    "sns.set(style=\"darkgrid\")\n",
    "\n",
    "fig, axs = plt.subplots(2, 3, figsize=(22, 15))\n",
    "\n",
    "sns.histplot(data=Sis2017, x=Sis2017, kde=True, color=\"skyblue\", ax=axs[0, 0])\n",
    "sns.histplot(data=Sis2018, x=Sis2018, kde=True, color=\"olive\", ax=axs[0, 1])\n",
    "sns.histplot(data=Sis2019, x=Sis2019, kde=True, color=\"gold\", ax=axs[0, 2])\n",
    "sns.histplot(data=Sis2020, x=Sis2020, kde=True, color=\"teal\", ax=axs[1, 0])\n",
    "sns.histplot(data=Sis2021, x=Sis2021, kde=True, color=\"teal\", ax=axs[1, 1])\n",
    "\n",
    "axs[0, 0].set_title('2017')\n",
    "axs[0, 1].set_title('2018')\n",
    "axs[0, 2].set_title('2019')\n",
    "axs[1, 0].set_title('2020')\n",
    "axs[1, 1].set_title('2021')\n",
    "\n",
    "\n",
    "plt.show()"
   ]
  },
  {
   "cell_type": "markdown",
   "id": "52c210eb-0e22-4886-a2af-4ce6ec9024d4",
   "metadata": {},
   "source": [
    "## Data cleaning Part II\n",
    "### Focusing on Student's origin, disabilities, Etnia and School level.\n",
    "Now we focus our attention on some other variables and we will see how this are related to the *Repetition Rate*.\n",
    "First, we do some cleaning on some special variables."
   ]
  },
  {
   "cell_type": "code",
   "execution_count": 3,
   "id": "b249341c-6214-4fcd-b8bf-437c9dd308af",
   "metadata": {},
   "outputs": [],
   "source": [
    "part_2_var = ['PROVIENE_SECTOR_PRIV', \n",
    "             'PROVIENE_OTR_MUN',\n",
    "             'TIPO_DISCAPACIDAD', \n",
    "             'CAP_EXC',\n",
    "             'CODIGO_ETNIA',\n",
    "             'CODIGO_JORNADA',\n",
    "             'CARACTER',\n",
    "             'CODIGO_ESPECIALIDAD',\n",
    "             'CODIGO_GRADO',\n",
    "             'REPITENTE',\n",
    "             'ANO_INF'\n",
    "             ]"
   ]
  },
  {
   "cell_type": "code",
   "execution_count": 7,
   "id": "04f73453-fe62-483d-b3ac-44564a3e14da",
   "metadata": {},
   "outputs": [],
   "source": [
    "df_part_2 = Simat_F[part_2_var]"
   ]
  },
  {
   "cell_type": "code",
   "execution_count": 10,
   "id": "1c518844-0c4c-4b96-868d-de037511ceba",
   "metadata": {},
   "outputs": [
    {
     "data": {
      "text/html": [
       "<div>\n",
       "<style scoped>\n",
       "    .dataframe tbody tr th:only-of-type {\n",
       "        vertical-align: middle;\n",
       "    }\n",
       "\n",
       "    .dataframe tbody tr th {\n",
       "        vertical-align: top;\n",
       "    }\n",
       "\n",
       "    .dataframe thead th {\n",
       "        text-align: right;\n",
       "    }\n",
       "</style>\n",
       "<table border=\"1\" class=\"dataframe\">\n",
       "  <thead>\n",
       "    <tr style=\"text-align: right;\">\n",
       "      <th></th>\n",
       "      <th>PROVIENE_SECTOR_PRIV</th>\n",
       "      <th>PROVIENE_OTR_MUN</th>\n",
       "      <th>TIPO_DISCAPACIDAD</th>\n",
       "      <th>CAP_EXC</th>\n",
       "      <th>CODIGO_ETNIA</th>\n",
       "      <th>CODIGO_JORNADA</th>\n",
       "      <th>CARACTER</th>\n",
       "      <th>CODIGO_ESPECIALIDAD</th>\n",
       "      <th>CODIGO_GRADO</th>\n",
       "      <th>REPITENTE</th>\n",
       "      <th>ANO_INF</th>\n",
       "    </tr>\n",
       "  </thead>\n",
       "  <tbody>\n",
       "    <tr>\n",
       "      <th>0</th>\n",
       "      <td>N</td>\n",
       "      <td>N</td>\n",
       "      <td>99</td>\n",
       "      <td>9</td>\n",
       "      <td>0</td>\n",
       "      <td>6</td>\n",
       "      <td>1.0</td>\n",
       "      <td>5</td>\n",
       "      <td>10</td>\n",
       "      <td>N</td>\n",
       "      <td>2017</td>\n",
       "    </tr>\n",
       "    <tr>\n",
       "      <th>1</th>\n",
       "      <td>N</td>\n",
       "      <td>N</td>\n",
       "      <td>99</td>\n",
       "      <td>9</td>\n",
       "      <td>0</td>\n",
       "      <td>3</td>\n",
       "      <td>0.0</td>\n",
       "      <td>0</td>\n",
       "      <td>0</td>\n",
       "      <td>N</td>\n",
       "      <td>2017</td>\n",
       "    </tr>\n",
       "    <tr>\n",
       "      <th>2</th>\n",
       "      <td>N</td>\n",
       "      <td>N</td>\n",
       "      <td>7</td>\n",
       "      <td>9</td>\n",
       "      <td>0</td>\n",
       "      <td>3</td>\n",
       "      <td>0.0</td>\n",
       "      <td>0</td>\n",
       "      <td>3</td>\n",
       "      <td>N</td>\n",
       "      <td>2017</td>\n",
       "    </tr>\n",
       "    <tr>\n",
       "      <th>3</th>\n",
       "      <td>N</td>\n",
       "      <td>N</td>\n",
       "      <td>99</td>\n",
       "      <td>9</td>\n",
       "      <td>0</td>\n",
       "      <td>3</td>\n",
       "      <td>0.0</td>\n",
       "      <td>0</td>\n",
       "      <td>0</td>\n",
       "      <td>N</td>\n",
       "      <td>2017</td>\n",
       "    </tr>\n",
       "    <tr>\n",
       "      <th>4</th>\n",
       "      <td>N</td>\n",
       "      <td>N</td>\n",
       "      <td>99</td>\n",
       "      <td>9</td>\n",
       "      <td>0</td>\n",
       "      <td>3</td>\n",
       "      <td>0.0</td>\n",
       "      <td>0</td>\n",
       "      <td>-1</td>\n",
       "      <td>N</td>\n",
       "      <td>2017</td>\n",
       "    </tr>\n",
       "  </tbody>\n",
       "</table>\n",
       "</div>"
      ],
      "text/plain": [
       "  PROVIENE_SECTOR_PRIV PROVIENE_OTR_MUN  TIPO_DISCAPACIDAD  CAP_EXC  \\\n",
       "0                    N                N                 99        9   \n",
       "1                    N                N                 99        9   \n",
       "2                    N                N                  7        9   \n",
       "3                    N                N                 99        9   \n",
       "4                    N                N                 99        9   \n",
       "\n",
       "   CODIGO_ETNIA  CODIGO_JORNADA  CARACTER  CODIGO_ESPECIALIDAD  CODIGO_GRADO  \\\n",
       "0             0               6       1.0                    5            10   \n",
       "1             0               3       0.0                    0             0   \n",
       "2             0               3       0.0                    0             3   \n",
       "3             0               3       0.0                    0             0   \n",
       "4             0               3       0.0                    0            -1   \n",
       "\n",
       "  REPITENTE  ANO_INF  \n",
       "0         N     2017  \n",
       "1         N     2017  \n",
       "2         N     2017  \n",
       "3         N     2017  \n",
       "4         N     2017  "
      ]
     },
     "execution_count": 10,
     "metadata": {},
     "output_type": "execute_result"
    }
   ],
   "source": [
    "df_part_2.head()"
   ]
  },
  {
   "cell_type": "markdown",
   "id": "13766dec-d408-4f77-927e-8bf8f6354fb9",
   "metadata": {},
   "source": [
    "First, we see a little bit of the information contained in this variables."
   ]
  },
  {
   "cell_type": "code",
   "execution_count": 30,
   "id": "165efa14-58af-47ad-a378-f2ecd0d6eaf0",
   "metadata": {},
   "outputs": [
    {
     "name": "stdout",
     "output_type": "stream",
     "text": [
      "['N', 'S']\n",
      "Categories (2, object): ['N', 'S'] PROVIENE_SECTOR_PRIV\n",
      "['N', 'S']\n",
      "Categories (2, object): ['N', 'S'] PROVIENE_OTR_MUN\n",
      "[99  7  8 10 18 15 13 11  3  4 19 17 14  6 12  1  2  9  5 16] TIPO_DISCAPACIDAD\n",
      "[ 9  4  1  3  2  5  6  7 11 10] CAP_EXC\n",
      "[  0  46  49 200  75  97  19 999  83   1  45  26   4  29  74  53  44  77\n",
      "  12  34  95  80   9  20  10  42  73  72  99  71  52   7  47 100  27  17\n",
      "  15  25   5  14  31  66  70  28   2  48 400  22  18   6  57  64   3  65\n",
      "  13 101  33  32  67   8  35 998  16  50  23  37  56  11  58  51  85  96\n",
      "  86  62  40  30  54  38  82  90  36  43  21  61  24  92  81  55  68  60\n",
      "  94 107  69 102  39  59  79  93  84  98 109  76] CODIGO_ETNIA\n",
      "[6 3 2 4 1 5] CODIGO_JORNADA\n",
      "[1. 0. 2.] CARACTER\n",
      "[ 5  0  6  8  9  7 10] CODIGO_ESPECIALIDAD\n",
      "[10  0  3 -1  9  7 11  8  6  5  2  4  1 99 25 26 23 24 22 -2 21 12 13] CODIGO_GRADO\n",
      "['N', 'S']\n",
      "Categories (2, object): ['N', 'S'] REPITENTE\n",
      "[2017 2018 2019 2020 2021] ANO_INF\n"
     ]
    }
   ],
   "source": [
    "for col in df_part_2:\n",
    "    print(df_part_2[col].unique() , str(col))"
   ]
  },
  {
   "cell_type": "code",
   "execution_count": 13,
   "id": "a97dc7c4-86ee-44b6-a8a6-7dc7fad652b0",
   "metadata": {},
   "outputs": [
    {
     "data": {
      "text/plain": [
       "PROVIENE_SECTOR_PRIV     object\n",
       "PROVIENE_OTR_MUN         object\n",
       "TIPO_DISCAPACIDAD         int64\n",
       "CAP_EXC                   int64\n",
       "CODIGO_ETNIA              int64\n",
       "CODIGO_JORNADA            int64\n",
       "CARACTER                float64\n",
       "CODIGO_ESPECIALIDAD       int64\n",
       "CODIGO_GRADO              int64\n",
       "REPITENTE                object\n",
       "ANO_INF                   int64\n",
       "dtype: object"
      ]
     },
     "execution_count": 13,
     "metadata": {},
     "output_type": "execute_result"
    }
   ],
   "source": [
    "df_part_2.dtypes"
   ]
  },
  {
   "cell_type": "code",
   "execution_count": 14,
   "id": "2c8770f0-4aa3-45f5-ac33-7fb224515e3e",
   "metadata": {},
   "outputs": [
    {
     "name": "stderr",
     "output_type": "stream",
     "text": [
      "<ipython-input-14-9cbc063b95a2>:3: SettingWithCopyWarning: \n",
      "A value is trying to be set on a copy of a slice from a DataFrame.\n",
      "Try using .loc[row_indexer,col_indexer] = value instead\n",
      "\n",
      "See the caveats in the documentation: https://pandas.pydata.org/pandas-docs/stable/user_guide/indexing.html#returning-a-view-versus-a-copy\n",
      "  df_part_2[name] = df_part_2[name].astype('category')\n"
     ]
    }
   ],
   "source": [
    "type_obj_2 = ['PROVIENE_SECTOR_PRIV', 'PROVIENE_OTR_MUN', 'REPITENTE']\n",
    "for name in type_obj_2:\n",
    "    df_part_2[name] = df_part_2[name].astype('category') "
   ]
  },
  {
   "cell_type": "markdown",
   "id": "832ca390-31a5-4cb9-a2c0-80fcd89a48b3",
   "metadata": {},
   "source": [
    "## School Level (Grade)"
   ]
  },
  {
   "cell_type": "code",
   "execution_count": 16,
   "id": "b2db028b-e192-480d-91b0-e44cb1a492a8",
   "metadata": {},
   "outputs": [],
   "source": [
    "Grade_RR_2017 = Simat_F[\"CODIGO_GRADO\"][(Simat_F[\"ANO_INF\"] == 2017) & (df_part_2['REPITENTE']=='S')]\n",
    "Grade_RR_2018 = Simat_F[\"CODIGO_GRADO\"][(Simat_F[\"ANO_INF\"] == 2018) & (df_part_2['REPITENTE']=='S') ]\n",
    "Grade_RR_2019 = Simat_F[\"CODIGO_GRADO\"][(Simat_F[\"ANO_INF\"] == 2019) & (df_part_2['REPITENTE']=='S')]\n",
    "Grade_RR_2020 = Simat_F[\"CODIGO_GRADO\"][(Simat_F[\"ANO_INF\"] == 2020) & (df_part_2['REPITENTE']=='S')]\n",
    "Grade_RR_2021 = Simat_F[\"CODIGO_GRADO\"][(Simat_F[\"ANO_INF\"] == 2021) & (df_part_2['REPITENTE']=='S')]"
   ]
  },
  {
   "cell_type": "code",
   "execution_count": 22,
   "id": "a0c6cc5b-661e-4ab3-afb6-ba6af9944b99",
   "metadata": {},
   "outputs": [
    {
     "data": {
      "image/png": "[encoded data removed]",
      "text/plain": [
       "<Figure size 1584x1080 with 6 Axes>"
      ]
     },
     "metadata": {},
     "output_type": "display_data"
    }
   ],
   "source": [
    "sns.set(style=\"darkgrid\")\n",
    "\n",
    "fig, axs = plt.subplots(2, 3, figsize=(22, 15))\n",
    "\n",
    "sns.histplot(data= Grade_RR_2017, x= Grade_RR_2017, kde=True, color=\"skyblue\", ax=axs[0, 0])\n",
    "sns.histplot(data= Grade_RR_2018, x= Grade_RR_2018, kde=True, color=\"olive\", ax=axs[0, 1])\n",
    "sns.histplot(data= Grade_RR_2019, x= Grade_RR_2019, kde=True, color=\"gold\", ax=axs[0, 2])\n",
    "sns.histplot(data= Grade_RR_2020, x= Grade_RR_2020, kde=True, color=\"teal\", ax=axs[1, 0])\n",
    "sns.histplot(data= Grade_RR_2021, x= Grade_RR_2021, kde=True, color=\"teal\", ax=axs[1, 1])\n",
    "\n",
    "axs[0, 0].set_title('2017')\n",
    "axs[0, 1].set_title('2018')\n",
    "axs[0, 2].set_title('2019')\n",
    "axs[1, 0].set_title('2020')\n",
    "axs[1, 1].set_title('2021')\n",
    "\n",
    "axs[0,0].set(xlim=(-1, 13))\n",
    "axs[0,1].set(xlim=(-1, 13))\n",
    "axs[0,2].set(xlim=(-1, 13))\n",
    "axs[1,0].set(xlim=(-1, 13))\n",
    "axs[1,1].set(xlim=(-1, 13))\n",
    "\n",
    "plt.show()"
   ]
  },
  {
   "cell_type": "markdown",
   "id": "141316a2-d524-426b-a877-5badc7a3a72d",
   "metadata": {},
   "source": [
    "**Observations**: We can see thta across all data sets, the Repititon Rate is concentrated in sixth grade. This is expected as the transition from 'Primary school' to 'Secondary school' is the hardest one."
   ]
  },
  {
   "cell_type": "markdown",
   "id": "e16aac97-27bf-4b30-b969-735878163934",
   "metadata": {},
   "source": [
    "## Etnia\n"
   ]
  },
  {
   "cell_type": "code",
   "execution_count": 33,
   "id": "744a9399-7cbf-431d-bd93-1aab72e71360",
   "metadata": {},
   "outputs": [],
   "source": [
    "ETNIA_RR_2017 = Simat_F[\"CODIGO_ETNIA\"][(Simat_F[\"ANO_INF\"] == 2017) & (df_part_2['REPITENTE']=='S')]\n",
    "ETNIA_RR_2018 = Simat_F[\"CODIGO_ETNIA\"][(Simat_F[\"ANO_INF\"] == 2018) & (df_part_2['REPITENTE']=='S') ]\n",
    "ETNIA_RR_2019 = Simat_F[\"CODIGO_ETNIA\"][(Simat_F[\"ANO_INF\"] == 2019) & (df_part_2['REPITENTE']=='S')]\n",
    "ETNIA_RR_2020 = Simat_F[\"CODIGO_ETNIA\"][(Simat_F[\"ANO_INF\"] == 2020) & (df_part_2['REPITENTE']=='S')]\n",
    "ETNIA_RR_2021 = Simat_F[\"CODIGO_ETNIA\"][(Simat_F[\"ANO_INF\"] == 2021) & (df_part_2['REPITENTE']=='S')]"
   ]
  },
  {
   "cell_type": "code",
   "execution_count": 51,
   "id": "8451be9f-bd55-476a-be4b-a121a90ce8b4",
   "metadata": {},
   "outputs": [
    {
     "data": {
      "image/png": "[encoded data removed]",
      "text/plain": [
       "<Figure size 1584x1080 with 6 Axes>"
      ]
     },
     "metadata": {},
     "output_type": "display_data"
    }
   ],
   "source": [
    "sns.set(style=\"darkgrid\")\n",
    "\n",
    "fig, axs = plt.subplots(2, 3, figsize=(22, 15))\n",
    "\n",
    "sns.histplot(data= ETNIA_RR_2017, x= ETNIA_RR_2017,  color=\"skyblue\", ax=axs[0, 0], binwidth = 1.5, bins = 30)\n",
    "sns.histplot(data= ETNIA_RR_2018, x= ETNIA_RR_2018,  color=\"olive\", ax=axs[0, 1] ,  binwidth = 1.5, bins = 30 )\n",
    "sns.histplot(data= ETNIA_RR_2019, x= ETNIA_RR_2019,  color=\"gold\", ax=axs[0, 2],  binwidth = 1.5, bins = 30)\n",
    "sns.histplot(data= ETNIA_RR_2020, x= ETNIA_RR_2020, color=\"teal\", ax=axs[1, 0],  binwidth = 1.5, bins = 30)\n",
    "sns.histplot(data= ETNIA_RR_2021, x= ETNIA_RR_2021, color=\"teal\", ax=axs[1, 1],  binwidth = 1.5, bins = 30)\n",
    "\n",
    "axs[0, 0].set_title('2017')\n",
    "axs[0, 1].set_title('2018')\n",
    "axs[0, 2].set_title('2019')\n",
    "axs[1, 0].set_title('2020')\n",
    "axs[1, 1].set_title('2021')\n",
    "\n",
    "\n",
    "axs[0,0].set(xlim=(1, 10))\n",
    "axs[0,1].set(xlim=(1, 10))\n",
    "axs[0,2].set(xlim=(1, 10))\n",
    "axs[1,0].set(xlim=(1, 10))\n",
    "axs[1,1].set(xlim=(1, 10))\n",
    "plt.show()"
   ]
  },
  {
   "cell_type": "markdown",
   "id": "b6c9870a-9bbf-4776-9e61-81cabcfe3970",
   "metadata": {},
   "source": [
    "All students whit Repetition = 'Yes' are from Etnia 1 or zero."
   ]
  }
 ],
 "metadata": {
  "kernelspec": {
   "display_name": "Python 3",
   "language": "python",
   "name": "python3"
  },
  "language_info": {
   "codemirror_mode": {
    "name": "ipython",
    "version": 3
   },
   "file_extension": ".py",
   "mimetype": "text/x-python",
   "name": "python",
   "nbconvert_exporter": "python",
   "pygments_lexer": "ipython3",
   "version": "3.8.8"
  }
 },
 "nbformat": 4,
 "nbformat_minor": 5
}
