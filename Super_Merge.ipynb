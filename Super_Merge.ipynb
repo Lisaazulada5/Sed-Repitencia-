{
 "cells": [
  {
   "cell_type": "code",
   "execution_count": 13,
   "id": "c8356a2c-36b6-4829-899b-7c8d42352a99",
   "metadata": {},
   "outputs": [],
   "source": [
    "import pandas as pd\n",
    "import numpy as np\n",
    "\n",
    "\n",
    "# pandas options\n",
    "pd.options.display.max_columns = None\n"
   ]
  },
  {
   "cell_type": "code",
   "execution_count": 14,
   "id": "bf6b2d8a-8305-4284-acda-799624952b2a",
   "metadata": {},
   "outputs": [],
   "source": [
    "dict_tipos = {\n",
    "# SIMAT\n",
    "'ANO_INF':              'uint16',\n",
    "'CODIGO_DANE':          'uint64',\n",
    "'CODIGO_DANE_SEDE':     'uint64',\n",
    "'TIPO_DOCUMENTO':       'uint8',\n",
    "'NRO_DOCUMENTO':        'string',\n",
    "'DIRECCION_RESIDENCIA': 'string',\n",
    "'RES_DEPTO':            'uint8',\n",
    "'RES_MUN':              'uint16',\n",
    "'ESTRATO':              'uint8',\n",
    "'SISBEN':               'float16',\n",
    "'GENERO':               'uint8',\n",
    "'POB_VICT_CONF':        'uint8',\n",
    "'PROVIENE_SECTOR_PRIV': 'uint8',\n",
    "'PROVIENE_OTR_MUN':     'uint8',\n",
    "'TIPO_DISCAPACIDAD':    'uint8',\n",
    "'CAP_EXC':              'uint8',\n",
    "'CODIGO_ETNIA':         'uint16',\n",
    "'CODIGO_JORNADA':       'uint8',\n",
    "'CARACTER':             'uint8',\n",
    "'CODIGO_ESPECIALIDAD':  'uint8',\n",
    "'CODIGO_GRADO':         'int8',\n",
    "'CODIGO_METODOLOGIA':   'uint8',\n",
    "'REPITENTE':            'uint8',\n",
    "'SIT_ACAD_ANIO_ANT':    'uint8',\n",
    "'CON_ALUM_ANIO_ANT':    'uint8',\n",
    "'ZONA_RESI_ALU':        'uint8',\n",
    "'EDAD':                 'uint8',\n",
    "'NIVEL':                'uint8',\n",
    "'DIR_NUM_LOCALIDAD':    'uint8',\n",
    "'NIVEL_SISBEN':         'uint8',\n",
    "'GRADO_OVERAGE':        'uint8',\n",
    "'OVERAGE':              'uint8',\n",
    "# SISBEN\n",
    "'ficha':                'int64',\n",
    "'comuna':               'uint8',\n",
    "'barrio':               'uint32',\n",
    "'nombarrio':            'string',\n",
    "'direcc':               'string',\n",
    "'vereda':               'uint8',\n",
    "'nomvereda':            'string',\n",
    "'vivienda':             'uint8',\n",
    "'pared':                'uint8',\n",
    "'piso':                 'uint8',\n",
    "'energia':              'uint8',\n",
    "'alcanta':              'uint8',\n",
    "'gas':                  'uint8',\n",
    "'telefono' :            'uint8',\n",
    "'basura' :              'uint8',\n",
    "'acueduc' :             'uint8',\n",
    "'estrato' :             'uint8',\n",
    "'elimbasura' :          'uint8',\n",
    "'tcuartosvi' :          'uint8',\n",
    "'thogar' :              'uint8',\n",
    "'recolec' :             'uint8',\n",
    "'tipdir' :              'uint8',\n",
    "'verifica' :            'uint8',\n",
    "'hogar' :               'uint8',\n",
    "'teneviv' :             'uint8',\n",
    "'tcuartos' :            'uint8',\n",
    "'tdormir' :             'uint8',\n",
    "'sanitar' :             'uint8',\n",
    "'usanitar' :            'uint8',\n",
    "'usosani' :             'uint8',\n",
    "'tsanitar' :            'uint8',\n",
    "'ducha' :               'uint8',\n",
    "'agua' :                'uint8',\n",
    "'llega' :               'uint8',\n",
    "'cuandi' :              'uint8',\n",
    "'suminis' :             'uint8',\n",
    "'cuanhoras' :           'uint8',\n",
    "'preparan' :            'uint8',\n",
    "'cocina' :              'uint8',\n",
    "'cocinan' :             'uint8',\n",
    "'alumbra' :             'uint8',\n",
    "'usotele' :             'uint8',\n",
    "'nevera' :              'uint8',\n",
    "'lavadora' :            'uint8',\n",
    "'tvcolor' :             'uint8',\n",
    "'tvcable' :             'uint8',\n",
    "'calenta' :             'uint8',\n",
    "'horno' :               'uint8',\n",
    "'aire' :                'uint8',\n",
    "'computador' :          'uint8',\n",
    "'equipo' :              'uint8',\n",
    "'moto' :                'uint8',\n",
    "'tractor' :             'uint8',\n",
    "'tiene_auto' :          'uint8',\n",
    "'bieraices':            'uint8',\n",
    "'tpersona' :            'uint8',\n",
    "'informan' :            'uint8',\n",
    "'orden' :               'uint8',\n",
    "'nucleo' :              'uint8',\n",
    "'parentes' :            'uint8',\n",
    "'tipodoc' :             'uint8',\n",
    "'documen':              'string',\n",
    "'sexo' :                'uint8',\n",
    "'estcivil' :            'uint8',\n",
    "'discapa' :             'uint8',\n",
    "'carnet' :              'uint8',\n",
    "'asiste' :              'uint8',\n",
    "'tipoesta' :            'uint8',\n",
    "'grado' :               'uint8',\n",
    "'nivel' :               'uint8',\n",
    "'activi' :              'uint8',\n",
    "'buscando' :            'uint8',\n",
    "'ingresos':             'int64',\n",
    "'edad':                 'uint8',\n",
    "'conyuvive':            'uint8',\n",
    "'hijosde':              'int8',\n",
    "'embaraza' :            'uint8',\n",
    "'extranjero' :          'uint8',\n",
    "'pagapor' :             'uint8',\n",
    "'percibe' :             'uint8',\n",
    "'serdomes' :            'uint8',\n",
    "'unigasto' :            'uint8',\n",
    "'area' :                'uint8',\n",
    "'nparentes':            'uint8',\n",
    "'puntaje_sisben_3':     'float32',\n",
    "'todos_servicios_Pub':  'uint8',\n",
    "'indice_hacinamiento':  'float16',\n",
    "# C-600  \n",
    "'ES_BILIGUE':           'int8',\n",
    "'TOTAL_DOCENTES':       'uint16',\n",
    "'TOTAL_ALUMNOS':        'uint16',\n",
    "'TOTAL_EQUIPO_COMPUTO': 'uint16',\n",
    "'TOTAL_DOCENTES_CON_TITULO':'uint8',\n",
    "# ICFES\n",
    "'num_presentaron_ICFES': 'uint8'\n",
    "  }\n"
   ]
  },
  {
   "cell_type": "code",
   "execution_count": 3,
   "id": "b1048bda-f54a-4bcf-92ab-5702ae0f76be",
   "metadata": {},
   "outputs": [
    {
     "name": "stderr",
     "output_type": "stream",
     "text": [
      "C:\\Users\\diego\\anaconda3\\lib\\site-packages\\numpy\\lib\\arraysetops.py:583: FutureWarning: elementwise comparison failed; returning scalar instead, but in the future will perform elementwise comparison\n",
      "  mask |= (ar1 == a)\n"
     ]
    },
    {
     "data": {
      "text/plain": [
       "(4477942, 88)"
      ]
     },
     "execution_count": 3,
     "metadata": {},
     "output_type": "execute_result"
    }
   ],
   "source": [
    "sisben = pd.read_csv('data/2-plata/SISBEN_Depurado_Final.csv', dtype= dict_tipos , index_col = 0)\n",
    "sisben.shape"
   ]
  },
  {
   "cell_type": "code",
   "execution_count": 4,
   "id": "4ae9510c-63fe-40b6-a6c9-4a1085df972b",
   "metadata": {},
   "outputs": [
    {
     "data": {
      "text/html": [
       "<div>\n",
       "<style scoped>\n",
       "    .dataframe tbody tr th:only-of-type {\n",
       "        vertical-align: middle;\n",
       "    }\n",
       "\n",
       "    .dataframe tbody tr th {\n",
       "        vertical-align: top;\n",
       "    }\n",
       "\n",
       "    .dataframe thead th {\n",
       "        text-align: right;\n",
       "    }\n",
       "</style>\n",
       "<table border=\"1\" class=\"dataframe\">\n",
       "  <thead>\n",
       "    <tr style=\"text-align: right;\">\n",
       "      <th></th>\n",
       "      <th>ficha</th>\n",
       "      <th>comuna</th>\n",
       "      <th>barrio</th>\n",
       "      <th>nombarrio</th>\n",
       "      <th>direcc</th>\n",
       "      <th>vereda</th>\n",
       "      <th>nomvereda</th>\n",
       "      <th>vivienda</th>\n",
       "      <th>pared</th>\n",
       "      <th>piso</th>\n",
       "      <th>energia</th>\n",
       "      <th>alcanta</th>\n",
       "      <th>gas</th>\n",
       "      <th>telefono</th>\n",
       "      <th>basura</th>\n",
       "      <th>acueduc</th>\n",
       "      <th>estrato</th>\n",
       "      <th>elimbasura</th>\n",
       "      <th>tcuartosvi</th>\n",
       "      <th>thogar</th>\n",
       "      <th>recolec</th>\n",
       "      <th>tipdir</th>\n",
       "      <th>verifica</th>\n",
       "      <th>hogar</th>\n",
       "      <th>teneviv</th>\n",
       "      <th>tcuartos</th>\n",
       "      <th>tdormir</th>\n",
       "      <th>sanitar</th>\n",
       "      <th>usanitar</th>\n",
       "      <th>usosani</th>\n",
       "      <th>tsanitar</th>\n",
       "      <th>ducha</th>\n",
       "      <th>agua</th>\n",
       "      <th>llega</th>\n",
       "      <th>cuandi</th>\n",
       "      <th>suminis</th>\n",
       "      <th>cuanhoras</th>\n",
       "      <th>preparan</th>\n",
       "      <th>cocina</th>\n",
       "      <th>cocinan</th>\n",
       "      <th>alumbra</th>\n",
       "      <th>usotele</th>\n",
       "      <th>nevera</th>\n",
       "      <th>lavadora</th>\n",
       "      <th>tvcolor</th>\n",
       "      <th>tvcable</th>\n",
       "      <th>calenta</th>\n",
       "      <th>horno</th>\n",
       "      <th>aire</th>\n",
       "      <th>computador</th>\n",
       "      <th>equipo</th>\n",
       "      <th>moto</th>\n",
       "      <th>tractor</th>\n",
       "      <th>tiene_auto</th>\n",
       "      <th>bieraices</th>\n",
       "      <th>tpersona</th>\n",
       "      <th>informan</th>\n",
       "      <th>orden</th>\n",
       "      <th>nucleo</th>\n",
       "      <th>parentes</th>\n",
       "      <th>tipodoc</th>\n",
       "      <th>documen</th>\n",
       "      <th>sexo</th>\n",
       "      <th>estcivil</th>\n",
       "      <th>discapa</th>\n",
       "      <th>carnet</th>\n",
       "      <th>asiste</th>\n",
       "      <th>tipoesta</th>\n",
       "      <th>grado</th>\n",
       "      <th>nivel</th>\n",
       "      <th>activi</th>\n",
       "      <th>buscando</th>\n",
       "      <th>ingresos</th>\n",
       "      <th>edad</th>\n",
       "      <th>conyuvive</th>\n",
       "      <th>hijosde</th>\n",
       "      <th>embaraza</th>\n",
       "      <th>extranjero</th>\n",
       "      <th>pagapor</th>\n",
       "      <th>percibe</th>\n",
       "      <th>serdomes</th>\n",
       "      <th>unigasto</th>\n",
       "      <th>area</th>\n",
       "      <th>nparentes</th>\n",
       "      <th>puntaje_sisben_3</th>\n",
       "      <th>nivel_hacinamiento</th>\n",
       "      <th>todos_servicios_Pub</th>\n",
       "      <th>indice_hacinamiento</th>\n",
       "    </tr>\n",
       "  </thead>\n",
       "  <tbody>\n",
       "    <tr>\n",
       "      <th>0</th>\n",
       "      <td>4551065</td>\n",
       "      <td>20</td>\n",
       "      <td>103203</td>\n",
       "      <td>SIN CORREGIMIENTO</td>\n",
       "      <td>FINCA SAN JOSE</td>\n",
       "      <td>47</td>\n",
       "      <td>BARRIO ZONA URBANA</td>\n",
       "      <td>1</td>\n",
       "      <td>2</td>\n",
       "      <td>4</td>\n",
       "      <td>1</td>\n",
       "      <td>0</td>\n",
       "      <td>0</td>\n",
       "      <td>2</td>\n",
       "      <td>1</td>\n",
       "      <td>0</td>\n",
       "      <td>1</td>\n",
       "      <td>1</td>\n",
       "      <td>6</td>\n",
       "      <td>1</td>\n",
       "      <td>3</td>\n",
       "      <td>0</td>\n",
       "      <td>2</td>\n",
       "      <td>1</td>\n",
       "      <td>4</td>\n",
       "      <td>6</td>\n",
       "      <td>2</td>\n",
       "      <td>2</td>\n",
       "      <td>1</td>\n",
       "      <td>1</td>\n",
       "      <td>1</td>\n",
       "      <td>2</td>\n",
       "      <td>5</td>\n",
       "      <td>0</td>\n",
       "      <td>0</td>\n",
       "      <td>0</td>\n",
       "      <td>0</td>\n",
       "      <td>1</td>\n",
       "      <td>1</td>\n",
       "      <td>6</td>\n",
       "      <td>1</td>\n",
       "      <td>0</td>\n",
       "      <td>0</td>\n",
       "      <td>0</td>\n",
       "      <td>1</td>\n",
       "      <td>2</td>\n",
       "      <td>2</td>\n",
       "      <td>2</td>\n",
       "      <td>2</td>\n",
       "      <td>0</td>\n",
       "      <td>2</td>\n",
       "      <td>0</td>\n",
       "      <td>0</td>\n",
       "      <td>2</td>\n",
       "      <td>1</td>\n",
       "      <td>7</td>\n",
       "      <td>1</td>\n",
       "      <td>4</td>\n",
       "      <td>1</td>\n",
       "      <td>3</td>\n",
       "      <td>1</td>\n",
       "      <td>1032656548</td>\n",
       "      <td>0</td>\n",
       "      <td>5</td>\n",
       "      <td>0</td>\n",
       "      <td>4</td>\n",
       "      <td>1</td>\n",
       "      <td>4</td>\n",
       "      <td>2</td>\n",
       "      <td>2</td>\n",
       "      <td>3</td>\n",
       "      <td>0</td>\n",
       "      <td>25000</td>\n",
       "      <td>12</td>\n",
       "      <td>0</td>\n",
       "      <td>0</td>\n",
       "      <td>0</td>\n",
       "      <td>0</td>\n",
       "      <td>0</td>\n",
       "      <td>1</td>\n",
       "      <td>0</td>\n",
       "      <td>1</td>\n",
       "      <td>0</td>\n",
       "      <td>3</td>\n",
       "      <td>32.279999</td>\n",
       "      <td>Hacinamiento_medio</td>\n",
       "      <td>0</td>\n",
       "      <td>3.5</td>\n",
       "    </tr>\n",
       "    <tr>\n",
       "      <th>1</th>\n",
       "      <td>4551065</td>\n",
       "      <td>20</td>\n",
       "      <td>103203</td>\n",
       "      <td>SIN CORREGIMIENTO</td>\n",
       "      <td>FINCA SAN JOSE</td>\n",
       "      <td>47</td>\n",
       "      <td>BARRIO ZONA URBANA</td>\n",
       "      <td>1</td>\n",
       "      <td>2</td>\n",
       "      <td>4</td>\n",
       "      <td>1</td>\n",
       "      <td>0</td>\n",
       "      <td>0</td>\n",
       "      <td>2</td>\n",
       "      <td>1</td>\n",
       "      <td>0</td>\n",
       "      <td>1</td>\n",
       "      <td>1</td>\n",
       "      <td>6</td>\n",
       "      <td>1</td>\n",
       "      <td>3</td>\n",
       "      <td>0</td>\n",
       "      <td>2</td>\n",
       "      <td>1</td>\n",
       "      <td>4</td>\n",
       "      <td>6</td>\n",
       "      <td>2</td>\n",
       "      <td>2</td>\n",
       "      <td>1</td>\n",
       "      <td>1</td>\n",
       "      <td>1</td>\n",
       "      <td>2</td>\n",
       "      <td>5</td>\n",
       "      <td>0</td>\n",
       "      <td>0</td>\n",
       "      <td>0</td>\n",
       "      <td>0</td>\n",
       "      <td>1</td>\n",
       "      <td>1</td>\n",
       "      <td>6</td>\n",
       "      <td>1</td>\n",
       "      <td>0</td>\n",
       "      <td>0</td>\n",
       "      <td>0</td>\n",
       "      <td>1</td>\n",
       "      <td>2</td>\n",
       "      <td>2</td>\n",
       "      <td>2</td>\n",
       "      <td>2</td>\n",
       "      <td>0</td>\n",
       "      <td>2</td>\n",
       "      <td>0</td>\n",
       "      <td>0</td>\n",
       "      <td>2</td>\n",
       "      <td>1</td>\n",
       "      <td>7</td>\n",
       "      <td>1</td>\n",
       "      <td>5</td>\n",
       "      <td>1</td>\n",
       "      <td>3</td>\n",
       "      <td>1</td>\n",
       "      <td>1001169972</td>\n",
       "      <td>0</td>\n",
       "      <td>5</td>\n",
       "      <td>0</td>\n",
       "      <td>4</td>\n",
       "      <td>1</td>\n",
       "      <td>4</td>\n",
       "      <td>5</td>\n",
       "      <td>1</td>\n",
       "      <td>3</td>\n",
       "      <td>0</td>\n",
       "      <td>25000</td>\n",
       "      <td>11</td>\n",
       "      <td>0</td>\n",
       "      <td>0</td>\n",
       "      <td>0</td>\n",
       "      <td>0</td>\n",
       "      <td>0</td>\n",
       "      <td>1</td>\n",
       "      <td>0</td>\n",
       "      <td>1</td>\n",
       "      <td>0</td>\n",
       "      <td>3</td>\n",
       "      <td>32.279999</td>\n",
       "      <td>Hacinamiento_medio</td>\n",
       "      <td>0</td>\n",
       "      <td>3.5</td>\n",
       "    </tr>\n",
       "  </tbody>\n",
       "</table>\n",
       "</div>"
      ],
      "text/plain": [
       "     ficha  comuna  barrio          nombarrio          direcc  vereda  \\\n",
       "0  4551065      20  103203  SIN CORREGIMIENTO  FINCA SAN JOSE      47   \n",
       "1  4551065      20  103203  SIN CORREGIMIENTO  FINCA SAN JOSE      47   \n",
       "\n",
       "            nomvereda  vivienda  pared  piso  energia  alcanta  gas  telefono  \\\n",
       "0  BARRIO ZONA URBANA         1      2     4        1        0    0         2   \n",
       "1  BARRIO ZONA URBANA         1      2     4        1        0    0         2   \n",
       "\n",
       "   basura  acueduc  estrato  elimbasura  tcuartosvi  thogar  recolec  tipdir  \\\n",
       "0       1        0        1           1           6       1        3       0   \n",
       "1       1        0        1           1           6       1        3       0   \n",
       "\n",
       "   verifica  hogar  teneviv  tcuartos  tdormir  sanitar  usanitar  usosani  \\\n",
       "0         2      1        4         6        2        2         1        1   \n",
       "1         2      1        4         6        2        2         1        1   \n",
       "\n",
       "   tsanitar  ducha  agua  llega  cuandi  suminis  cuanhoras  preparan  cocina  \\\n",
       "0         1      2     5      0       0        0          0         1       1   \n",
       "1         1      2     5      0       0        0          0         1       1   \n",
       "\n",
       "   cocinan  alumbra  usotele  nevera  lavadora  tvcolor  tvcable  calenta  \\\n",
       "0        6        1        0       0         0        1        2        2   \n",
       "1        6        1        0       0         0        1        2        2   \n",
       "\n",
       "   horno  aire  computador  equipo  moto  tractor  tiene_auto  bieraices  \\\n",
       "0      2     2           0       2     0        0           2          1   \n",
       "1      2     2           0       2     0        0           2          1   \n",
       "\n",
       "   tpersona  informan  orden  nucleo  parentes  tipodoc     documen  sexo  \\\n",
       "0         7         1      4       1         3        1  1032656548     0   \n",
       "1         7         1      5       1         3        1  1001169972     0   \n",
       "\n",
       "   estcivil  discapa  carnet  asiste  tipoesta  grado  nivel  activi  \\\n",
       "0         5        0       4       1         4      2      2       3   \n",
       "1         5        0       4       1         4      5      1       3   \n",
       "\n",
       "   buscando  ingresos  edad  conyuvive  hijosde  embaraza  extranjero  \\\n",
       "0         0     25000    12          0        0         0           0   \n",
       "1         0     25000    11          0        0         0           0   \n",
       "\n",
       "   pagapor  percibe  serdomes  unigasto  area  nparentes  puntaje_sisben_3  \\\n",
       "0        0        1         0         1     0          3         32.279999   \n",
       "1        0        1         0         1     0          3         32.279999   \n",
       "\n",
       "   nivel_hacinamiento  todos_servicios_Pub  indice_hacinamiento  \n",
       "0  Hacinamiento_medio                    0                  3.5  \n",
       "1  Hacinamiento_medio                    0                  3.5  "
      ]
     },
     "execution_count": 4,
     "metadata": {},
     "output_type": "execute_result"
    }
   ],
   "source": [
    "sisben.head(2)"
   ]
  },
  {
   "cell_type": "code",
   "execution_count": 5,
   "id": "73c3caa8-79c5-416f-9ada-c82beb806376",
   "metadata": {},
   "outputs": [
    {
     "name": "stdout",
     "output_type": "stream",
     "text": [
      "<class 'pandas.core.frame.DataFrame'>\n",
      "Int64Index: 4477942 entries, 0 to 4477941\n",
      "Data columns (total 88 columns):\n",
      " #   Column               Non-Null Count    Dtype  \n",
      "---  ------               --------------    -----  \n",
      " 0   ficha                4477942 non-null  int64  \n",
      " 1   comuna               4477942 non-null  uint8  \n",
      " 2   barrio               4477942 non-null  uint32 \n",
      " 3   nombarrio            4477942 non-null  string \n",
      " 4   direcc               4477942 non-null  string \n",
      " 5   vereda               4477942 non-null  uint8  \n",
      " 6   nomvereda            4477942 non-null  string \n",
      " 7   vivienda             4477942 non-null  uint8  \n",
      " 8   pared                4477942 non-null  uint8  \n",
      " 9   piso                 4477942 non-null  uint8  \n",
      " 10  energia              4477942 non-null  uint8  \n",
      " 11  alcanta              4477942 non-null  uint8  \n",
      " 12  gas                  4477942 non-null  uint8  \n",
      " 13  telefono             4477942 non-null  uint8  \n",
      " 14  basura               4477942 non-null  uint8  \n",
      " 15  acueduc              4477942 non-null  uint8  \n",
      " 16  estrato              4477942 non-null  uint8  \n",
      " 17  elimbasura           4477942 non-null  uint8  \n",
      " 18  tcuartosvi           4477942 non-null  uint8  \n",
      " 19  thogar               4477942 non-null  uint8  \n",
      " 20  recolec              4477942 non-null  uint8  \n",
      " 21  tipdir               4477942 non-null  uint8  \n",
      " 22  verifica             4477942 non-null  uint8  \n",
      " 23  hogar                4477942 non-null  uint8  \n",
      " 24  teneviv              4477942 non-null  uint8  \n",
      " 25  tcuartos             4477942 non-null  uint8  \n",
      " 26  tdormir              4477942 non-null  uint8  \n",
      " 27  sanitar              4477942 non-null  uint8  \n",
      " 28  usanitar             4477942 non-null  uint8  \n",
      " 29  usosani              4477942 non-null  uint8  \n",
      " 30  tsanitar             4477942 non-null  uint8  \n",
      " 31  ducha                4477942 non-null  uint8  \n",
      " 32  agua                 4477942 non-null  uint8  \n",
      " 33  llega                4477942 non-null  uint8  \n",
      " 34  cuandi               4477942 non-null  uint8  \n",
      " 35  suminis              4477942 non-null  uint8  \n",
      " 36  cuanhoras            4477942 non-null  uint8  \n",
      " 37  preparan             4477942 non-null  uint8  \n",
      " 38  cocina               4477942 non-null  uint8  \n",
      " 39  cocinan              4477942 non-null  uint8  \n",
      " 40  alumbra              4477942 non-null  uint8  \n",
      " 41  usotele              4477942 non-null  uint8  \n",
      " 42  nevera               4477942 non-null  uint8  \n",
      " 43  lavadora             4477942 non-null  uint8  \n",
      " 44  tvcolor              4477942 non-null  uint8  \n",
      " 45  tvcable              4477942 non-null  uint8  \n",
      " 46  calenta              4477942 non-null  uint8  \n",
      " 47  horno                4477942 non-null  uint8  \n",
      " 48  aire                 4477942 non-null  uint8  \n",
      " 49  computador           4477942 non-null  uint8  \n",
      " 50  equipo               4477942 non-null  uint8  \n",
      " 51  moto                 4477942 non-null  uint8  \n",
      " 52  tractor              4477942 non-null  uint8  \n",
      " 53  tiene_auto           4477942 non-null  uint8  \n",
      " 54  bieraices            4477942 non-null  uint8  \n",
      " 55  tpersona             4477942 non-null  uint8  \n",
      " 56  informan             4477942 non-null  uint8  \n",
      " 57  orden                4477942 non-null  uint8  \n",
      " 58  nucleo               4477942 non-null  uint8  \n",
      " 59  parentes             4477942 non-null  uint8  \n",
      " 60  tipodoc              4477942 non-null  uint8  \n",
      " 61  documen              4477942 non-null  string \n",
      " 62  sexo                 4477942 non-null  uint8  \n",
      " 63  estcivil             4477942 non-null  uint8  \n",
      " 64  discapa              4477942 non-null  uint8  \n",
      " 65  carnet               4477942 non-null  uint8  \n",
      " 66  asiste               4477942 non-null  uint8  \n",
      " 67  tipoesta             4477942 non-null  uint8  \n",
      " 68  grado                4477942 non-null  uint8  \n",
      " 69  nivel                4477942 non-null  uint8  \n",
      " 70  activi               4477942 non-null  uint8  \n",
      " 71  buscando             4477942 non-null  uint8  \n",
      " 72  ingresos             4477942 non-null  int64  \n",
      " 73  edad                 4477942 non-null  uint8  \n",
      " 74  conyuvive            4477942 non-null  uint8  \n",
      " 75  hijosde              4477942 non-null  int8   \n",
      " 76  embaraza             4477942 non-null  uint8  \n",
      " 77  extranjero           4477942 non-null  uint8  \n",
      " 78  pagapor              4477942 non-null  uint8  \n",
      " 79  percibe              4477942 non-null  uint8  \n",
      " 80  serdomes             4477942 non-null  uint8  \n",
      " 81  unigasto             4477942 non-null  uint8  \n",
      " 82  area                 4477942 non-null  uint8  \n",
      " 83  nparentes            4477942 non-null  uint8  \n",
      " 84  puntaje_sisben_3     4477942 non-null  float32\n",
      " 85  nivel_hacinamiento   4477942 non-null  object \n",
      " 86  todos_servicios_Pub  4477942 non-null  uint8  \n",
      " 87  indice_hacinamiento  4477942 non-null  float16\n",
      "dtypes: float16(1), float32(1), int64(2), int8(1), object(1), string(4), uint32(1), uint8(77)\n",
      "memory usage: 649.1+ MB\n"
     ]
    }
   ],
   "source": [
    "sisben.info(show_counts = True)"
   ]
  },
  {
   "cell_type": "code",
   "execution_count": 6,
   "id": "50b5a1e4-4134-4263-8fa6-dd84bc814d5c",
   "metadata": {},
   "outputs": [],
   "source": [
    "sisben['tiene_auto'].replace({2:0}, inplace = True)"
   ]
  },
  {
   "cell_type": "code",
   "execution_count": 14,
   "id": "52fdc1cf-a0c9-4d34-90cd-cb38bf658614",
   "metadata": {},
   "outputs": [
    {
     "data": {
      "text/plain": [
       "array([0, 1], dtype=int64)"
      ]
     },
     "execution_count": 14,
     "metadata": {},
     "output_type": "execute_result"
    }
   ],
   "source": [
    "sisben.tiene_auto.unique()"
   ]
  },
  {
   "cell_type": "markdown",
   "id": "4fbd3f1e-34b3-4fd8-a55d-b39ffaa526ee",
   "metadata": {},
   "source": [
    "##  SIMAT"
   ]
  },
  {
   "cell_type": "code",
   "execution_count": 7,
   "id": "84539f24-41d5-4ab3-b906-91ce49b39c97",
   "metadata": {},
   "outputs": [
    {
     "name": "stderr",
     "output_type": "stream",
     "text": [
      "C:\\Users\\diego\\anaconda3\\lib\\site-packages\\numpy\\lib\\arraysetops.py:583: FutureWarning: elementwise comparison failed; returning scalar instead, but in the future will perform elementwise comparison\n",
      "  mask |= (ar1 == a)\n"
     ]
    },
    {
     "data": {
      "text/html": [
       "<div>\n",
       "<style scoped>\n",
       "    .dataframe tbody tr th:only-of-type {\n",
       "        vertical-align: middle;\n",
       "    }\n",
       "\n",
       "    .dataframe tbody tr th {\n",
       "        vertical-align: top;\n",
       "    }\n",
       "\n",
       "    .dataframe thead th {\n",
       "        text-align: right;\n",
       "    }\n",
       "</style>\n",
       "<table border=\"1\" class=\"dataframe\">\n",
       "  <thead>\n",
       "    <tr style=\"text-align: right;\">\n",
       "      <th></th>\n",
       "      <th>ANO_INF</th>\n",
       "      <th>CODIGO_DANE</th>\n",
       "      <th>CODIGO_DANE_SEDE</th>\n",
       "      <th>TIPO_DOCUMENTO</th>\n",
       "      <th>NRO_DOCUMENTO</th>\n",
       "      <th>DIRECCION_RESIDENCIA</th>\n",
       "      <th>RES_DEPTO</th>\n",
       "      <th>RES_MUN</th>\n",
       "      <th>ESTRATO</th>\n",
       "      <th>SISBEN</th>\n",
       "      <th>FECHA_NACIMIENTO</th>\n",
       "      <th>GENERO</th>\n",
       "      <th>POB_VICT_CONF</th>\n",
       "      <th>PROVIENE_SECTOR_PRIV</th>\n",
       "      <th>PROVIENE_OTR_MUN</th>\n",
       "      <th>TIPO_DISCAPACIDAD</th>\n",
       "      <th>CAP_EXC</th>\n",
       "      <th>CODIGO_ETNIA</th>\n",
       "      <th>CODIGO_JORNADA</th>\n",
       "      <th>CARACTER</th>\n",
       "      <th>CODIGO_ESPECIALIDAD</th>\n",
       "      <th>CODIGO_GRADO</th>\n",
       "      <th>CODIGO_METODOLOGIA</th>\n",
       "      <th>REPITENTE</th>\n",
       "      <th>SIT_ACAD_ANIO_ANT</th>\n",
       "      <th>CON_ALUM_ANIO_ANT</th>\n",
       "      <th>ZONA_RESI_ALU</th>\n",
       "      <th>EDAD</th>\n",
       "      <th>NIVEL</th>\n",
       "      <th>DIR_NUM_LOCALIDAD</th>\n",
       "      <th>NIVEL_SISBEN</th>\n",
       "      <th>GRADO_OVERAGE</th>\n",
       "      <th>OVERAGE</th>\n",
       "    </tr>\n",
       "  </thead>\n",
       "  <tbody>\n",
       "    <tr>\n",
       "      <th>0</th>\n",
       "      <td>2017</td>\n",
       "      <td>111001000078</td>\n",
       "      <td>111001000078</td>\n",
       "      <td>2</td>\n",
       "      <td>00010803853</td>\n",
       "      <td>CL 69 A 105 F 67</td>\n",
       "      <td>11</td>\n",
       "      <td>1</td>\n",
       "      <td>2</td>\n",
       "      <td>0.010002</td>\n",
       "      <td>2000-01-08</td>\n",
       "      <td>F</td>\n",
       "      <td>9</td>\n",
       "      <td>N</td>\n",
       "      <td>N</td>\n",
       "      <td>0</td>\n",
       "      <td>9</td>\n",
       "      <td>0</td>\n",
       "      <td>6</td>\n",
       "      <td>1</td>\n",
       "      <td>5</td>\n",
       "      <td>10</td>\n",
       "      <td>1</td>\n",
       "      <td>0</td>\n",
       "      <td>1</td>\n",
       "      <td>9</td>\n",
       "      <td>1</td>\n",
       "      <td>17</td>\n",
       "      <td>4</td>\n",
       "      <td>16</td>\n",
       "      <td>1</td>\n",
       "      <td>90</td>\n",
       "      <td>1</td>\n",
       "    </tr>\n",
       "    <tr>\n",
       "      <th>1</th>\n",
       "      <td>2017</td>\n",
       "      <td>111001000078</td>\n",
       "      <td>111001014834</td>\n",
       "      <td>3</td>\n",
       "      <td>05057637</td>\n",
       "      <td>CL 34 SUR 40 A 51</td>\n",
       "      <td>11</td>\n",
       "      <td>1</td>\n",
       "      <td>3</td>\n",
       "      <td>NaN</td>\n",
       "      <td>2012-06-13</td>\n",
       "      <td>F</td>\n",
       "      <td>9</td>\n",
       "      <td>N</td>\n",
       "      <td>N</td>\n",
       "      <td>0</td>\n",
       "      <td>9</td>\n",
       "      <td>0</td>\n",
       "      <td>3</td>\n",
       "      <td>0</td>\n",
       "      <td>0</td>\n",
       "      <td>0</td>\n",
       "      <td>1</td>\n",
       "      <td>0</td>\n",
       "      <td>0</td>\n",
       "      <td>9</td>\n",
       "      <td>1</td>\n",
       "      <td>4</td>\n",
       "      <td>1</td>\n",
       "      <td>16</td>\n",
       "      <td>0</td>\n",
       "      <td>100</td>\n",
       "      <td>0</td>\n",
       "    </tr>\n",
       "  </tbody>\n",
       "</table>\n",
       "</div>"
      ],
      "text/plain": [
       "   ANO_INF   CODIGO_DANE  CODIGO_DANE_SEDE  TIPO_DOCUMENTO NRO_DOCUMENTO  \\\n",
       "0     2017  111001000078      111001000078               2   00010803853   \n",
       "1     2017  111001000078      111001014834               3      05057637   \n",
       "\n",
       "  DIRECCION_RESIDENCIA  RES_DEPTO  RES_MUN  ESTRATO    SISBEN  \\\n",
       "0     CL 69 A 105 F 67         11        1        2  0.010002   \n",
       "1    CL 34 SUR 40 A 51         11        1        3       NaN   \n",
       "\n",
       "  FECHA_NACIMIENTO GENERO  POB_VICT_CONF PROVIENE_SECTOR_PRIV  \\\n",
       "0       2000-01-08      F              9                    N   \n",
       "1       2012-06-13      F              9                    N   \n",
       "\n",
       "  PROVIENE_OTR_MUN  TIPO_DISCAPACIDAD  CAP_EXC  CODIGO_ETNIA  CODIGO_JORNADA  \\\n",
       "0                N                  0        9             0               6   \n",
       "1                N                  0        9             0               3   \n",
       "\n",
       "   CARACTER  CODIGO_ESPECIALIDAD  CODIGO_GRADO  CODIGO_METODOLOGIA  REPITENTE  \\\n",
       "0         1                    5            10                   1          0   \n",
       "1         0                    0             0                   1          0   \n",
       "\n",
       "   SIT_ACAD_ANIO_ANT  CON_ALUM_ANIO_ANT  ZONA_RESI_ALU  EDAD  NIVEL  \\\n",
       "0                  1                  9              1    17      4   \n",
       "1                  0                  9              1     4      1   \n",
       "\n",
       "   DIR_NUM_LOCALIDAD  NIVEL_SISBEN  GRADO_OVERAGE  OVERAGE  \n",
       "0                 16             1             90        1  \n",
       "1                 16             0            100        0  "
      ]
     },
     "execution_count": 7,
     "metadata": {},
     "output_type": "execute_result"
    }
   ],
   "source": [
    "simat =  pd.read_csv('data/2-plata/Consolidado_SIMAT_Depurado.csv', dtype= dict_tipos , index_col = 0)\n",
    "simat.head(2)"
   ]
  },
  {
   "cell_type": "code",
   "execution_count": 8,
   "id": "2a2cd44a-c5fd-478f-bddf-5a2d248bcff6",
   "metadata": {},
   "outputs": [],
   "source": [
    "simat['GENERO'].replace({'M': 1, 'F':0}, inplace = True)"
   ]
  },
  {
   "cell_type": "code",
   "execution_count": 9,
   "id": "4198b65b-407d-4e72-867d-6c68ed0967bd",
   "metadata": {},
   "outputs": [],
   "source": [
    "simat['PROVIENE_SECTOR_PRIV'].replace({'S': 1, 'N':0}, inplace = True)"
   ]
  },
  {
   "cell_type": "code",
   "execution_count": 11,
   "id": "7b6729cc-44cf-4ddd-9d5a-7bc205fbf787",
   "metadata": {},
   "outputs": [],
   "source": [
    "simat['PROVIENE_OTR_MUN'].replace({'S': 1, 'N':0}, inplace = True)"
   ]
  },
  {
   "cell_type": "code",
   "execution_count": 13,
   "id": "42598cc2-6c02-40ab-89cb-ffd320535baa",
   "metadata": {},
   "outputs": [
    {
     "data": {
      "text/plain": [
       "array([0, 1], dtype=int64)"
      ]
     },
     "execution_count": 13,
     "metadata": {},
     "output_type": "execute_result"
    }
   ],
   "source": [
    "simat.GENERO.unique()"
   ]
  },
  {
   "cell_type": "code",
   "execution_count": 12,
   "id": "d5595e34-2e9a-4f41-9d89-a8a8cc74fe5d",
   "metadata": {},
   "outputs": [],
   "source": [
    "simat_2020 = simat[simat['ANO_INF'] == 2020]"
   ]
  },
  {
   "cell_type": "markdown",
   "id": "983a7bc6-a189-4a4d-8775-0cc50aa2bc67",
   "metadata": {},
   "source": [
    "## Super Merge- SIMAT-SISBEN todos los años"
   ]
  },
  {
   "cell_type": "code",
   "execution_count": 15,
   "id": "538458c8-87a9-4c86-bfae-dc0d82c463cf",
   "metadata": {},
   "outputs": [
    {
     "data": {
      "text/plain": [
       "set()"
      ]
     },
     "execution_count": 15,
     "metadata": {},
     "output_type": "execute_result"
    }
   ],
   "source": [
    "# Primero verificamos que no hayan varias columnas con el mismo nombre, pues la llave es el nombre de la columna\n",
    "set(sisben.columns).intersection(set(simat.columns)) # Conjunto vacio"
   ]
  },
  {
   "cell_type": "code",
   "execution_count": 16,
   "id": "fd869416-36a4-436f-84d7-d5ace9c7b9e2",
   "metadata": {},
   "outputs": [],
   "source": [
    "# Creamos la llave. Cambiamos la columna 'documen' por 'NRO_DOCUMENTO' para hacer el merge\n",
    "sisben.rename(columns = {'documen': 'NRO_DOCUMENTO'}, inplace = True)"
   ]
  },
  {
   "cell_type": "code",
   "execution_count": 17,
   "id": "3603808a-e995-4164-be24-043224000659",
   "metadata": {},
   "outputs": [
    {
     "data": {
      "text/plain": [
       "0    1032656548\n",
       "1    1001169972\n",
       "2    1022976467\n",
       "3    1051472248\n",
       "4    1022983348\n",
       "Name: NRO_DOCUMENTO, dtype: string"
      ]
     },
     "execution_count": 17,
     "metadata": {},
     "output_type": "execute_result"
    }
   ],
   "source": [
    "sisben.NRO_DOCUMENTO.head()"
   ]
  },
  {
   "cell_type": "code",
   "execution_count": 18,
   "id": "b6fcae5e-2b03-4558-8851-8a68cc86ef0f",
   "metadata": {},
   "outputs": [],
   "source": [
    "# Super merge\n",
    "super_merge = pd.merge(simat, sisben)"
   ]
  },
  {
   "cell_type": "code",
   "execution_count": 19,
   "id": "5d5a1261-8054-4608-8224-a073c9c0fc28",
   "metadata": {},
   "outputs": [
    {
     "data": {
      "text/html": [
       "<div>\n",
       "<style scoped>\n",
       "    .dataframe tbody tr th:only-of-type {\n",
       "        vertical-align: middle;\n",
       "    }\n",
       "\n",
       "    .dataframe tbody tr th {\n",
       "        vertical-align: top;\n",
       "    }\n",
       "\n",
       "    .dataframe thead th {\n",
       "        text-align: right;\n",
       "    }\n",
       "</style>\n",
       "<table border=\"1\" class=\"dataframe\">\n",
       "  <thead>\n",
       "    <tr style=\"text-align: right;\">\n",
       "      <th></th>\n",
       "      <th>ANO_INF</th>\n",
       "      <th>CODIGO_DANE</th>\n",
       "      <th>CODIGO_DANE_SEDE</th>\n",
       "      <th>TIPO_DOCUMENTO</th>\n",
       "      <th>NRO_DOCUMENTO</th>\n",
       "      <th>DIRECCION_RESIDENCIA</th>\n",
       "      <th>RES_DEPTO</th>\n",
       "      <th>RES_MUN</th>\n",
       "      <th>ESTRATO</th>\n",
       "      <th>SISBEN</th>\n",
       "      <th>FECHA_NACIMIENTO</th>\n",
       "      <th>GENERO</th>\n",
       "      <th>POB_VICT_CONF</th>\n",
       "      <th>PROVIENE_SECTOR_PRIV</th>\n",
       "      <th>PROVIENE_OTR_MUN</th>\n",
       "      <th>TIPO_DISCAPACIDAD</th>\n",
       "      <th>CAP_EXC</th>\n",
       "      <th>CODIGO_ETNIA</th>\n",
       "      <th>CODIGO_JORNADA</th>\n",
       "      <th>CARACTER</th>\n",
       "      <th>CODIGO_ESPECIALIDAD</th>\n",
       "      <th>CODIGO_GRADO</th>\n",
       "      <th>CODIGO_METODOLOGIA</th>\n",
       "      <th>REPITENTE</th>\n",
       "      <th>SIT_ACAD_ANIO_ANT</th>\n",
       "      <th>CON_ALUM_ANIO_ANT</th>\n",
       "      <th>ZONA_RESI_ALU</th>\n",
       "      <th>EDAD</th>\n",
       "      <th>NIVEL</th>\n",
       "      <th>DIR_NUM_LOCALIDAD</th>\n",
       "      <th>NIVEL_SISBEN</th>\n",
       "      <th>GRADO_OVERAGE</th>\n",
       "      <th>OVERAGE</th>\n",
       "      <th>ficha</th>\n",
       "      <th>comuna</th>\n",
       "      <th>barrio</th>\n",
       "      <th>nombarrio</th>\n",
       "      <th>direcc</th>\n",
       "      <th>vereda</th>\n",
       "      <th>nomvereda</th>\n",
       "      <th>vivienda</th>\n",
       "      <th>pared</th>\n",
       "      <th>piso</th>\n",
       "      <th>energia</th>\n",
       "      <th>alcanta</th>\n",
       "      <th>gas</th>\n",
       "      <th>telefono</th>\n",
       "      <th>basura</th>\n",
       "      <th>acueduc</th>\n",
       "      <th>estrato</th>\n",
       "      <th>elimbasura</th>\n",
       "      <th>tcuartosvi</th>\n",
       "      <th>thogar</th>\n",
       "      <th>recolec</th>\n",
       "      <th>tipdir</th>\n",
       "      <th>verifica</th>\n",
       "      <th>hogar</th>\n",
       "      <th>teneviv</th>\n",
       "      <th>tcuartos</th>\n",
       "      <th>tdormir</th>\n",
       "      <th>sanitar</th>\n",
       "      <th>usanitar</th>\n",
       "      <th>usosani</th>\n",
       "      <th>tsanitar</th>\n",
       "      <th>ducha</th>\n",
       "      <th>agua</th>\n",
       "      <th>llega</th>\n",
       "      <th>cuandi</th>\n",
       "      <th>suminis</th>\n",
       "      <th>cuanhoras</th>\n",
       "      <th>preparan</th>\n",
       "      <th>cocina</th>\n",
       "      <th>cocinan</th>\n",
       "      <th>alumbra</th>\n",
       "      <th>usotele</th>\n",
       "      <th>nevera</th>\n",
       "      <th>lavadora</th>\n",
       "      <th>tvcolor</th>\n",
       "      <th>tvcable</th>\n",
       "      <th>calenta</th>\n",
       "      <th>horno</th>\n",
       "      <th>aire</th>\n",
       "      <th>computador</th>\n",
       "      <th>equipo</th>\n",
       "      <th>moto</th>\n",
       "      <th>tractor</th>\n",
       "      <th>tiene_auto</th>\n",
       "      <th>bieraices</th>\n",
       "      <th>tpersona</th>\n",
       "      <th>informan</th>\n",
       "      <th>orden</th>\n",
       "      <th>nucleo</th>\n",
       "      <th>parentes</th>\n",
       "      <th>tipodoc</th>\n",
       "      <th>sexo</th>\n",
       "      <th>estcivil</th>\n",
       "      <th>discapa</th>\n",
       "      <th>carnet</th>\n",
       "      <th>asiste</th>\n",
       "      <th>tipoesta</th>\n",
       "      <th>grado</th>\n",
       "      <th>nivel</th>\n",
       "      <th>activi</th>\n",
       "      <th>buscando</th>\n",
       "      <th>ingresos</th>\n",
       "      <th>edad</th>\n",
       "      <th>conyuvive</th>\n",
       "      <th>hijosde</th>\n",
       "      <th>embaraza</th>\n",
       "      <th>extranjero</th>\n",
       "      <th>pagapor</th>\n",
       "      <th>percibe</th>\n",
       "      <th>serdomes</th>\n",
       "      <th>unigasto</th>\n",
       "      <th>area</th>\n",
       "      <th>nparentes</th>\n",
       "      <th>puntaje_sisben_3</th>\n",
       "      <th>nivel_hacinamiento</th>\n",
       "      <th>todos_servicios_Pub</th>\n",
       "      <th>indice_hacinamiento</th>\n",
       "    </tr>\n",
       "  </thead>\n",
       "  <tbody>\n",
       "    <tr>\n",
       "      <th>0</th>\n",
       "      <td>2017</td>\n",
       "      <td>111001000078</td>\n",
       "      <td>111001000078</td>\n",
       "      <td>5</td>\n",
       "      <td>1000003730</td>\n",
       "      <td>CR 51 D  # 35 SUR  - 45</td>\n",
       "      <td>11</td>\n",
       "      <td>1</td>\n",
       "      <td>3</td>\n",
       "      <td>43.90625</td>\n",
       "      <td>2002-04-23</td>\n",
       "      <td>0</td>\n",
       "      <td>9</td>\n",
       "      <td>0</td>\n",
       "      <td>0</td>\n",
       "      <td>0</td>\n",
       "      <td>9</td>\n",
       "      <td>0</td>\n",
       "      <td>6</td>\n",
       "      <td>0</td>\n",
       "      <td>0</td>\n",
       "      <td>9</td>\n",
       "      <td>1</td>\n",
       "      <td>0</td>\n",
       "      <td>1</td>\n",
       "      <td>9</td>\n",
       "      <td>1</td>\n",
       "      <td>14</td>\n",
       "      <td>3</td>\n",
       "      <td>16</td>\n",
       "      <td>1</td>\n",
       "      <td>100</td>\n",
       "      <td>0</td>\n",
       "      <td>4385957</td>\n",
       "      <td>16</td>\n",
       "      <td>4407</td>\n",
       "      <td>ALCALA</td>\n",
       "      <td>CL 36 SUR 51 04 PI 2 AP 202</td>\n",
       "      <td>0</td>\n",
       "      <td>BARRIO ZONA URBANA</td>\n",
       "      <td>1</td>\n",
       "      <td>1</td>\n",
       "      <td>2</td>\n",
       "      <td>1</td>\n",
       "      <td>1</td>\n",
       "      <td>1</td>\n",
       "      <td>1</td>\n",
       "      <td>1</td>\n",
       "      <td>1</td>\n",
       "      <td>3</td>\n",
       "      <td>1</td>\n",
       "      <td>3</td>\n",
       "      <td>1</td>\n",
       "      <td>3</td>\n",
       "      <td>1</td>\n",
       "      <td>1</td>\n",
       "      <td>1</td>\n",
       "      <td>1</td>\n",
       "      <td>3</td>\n",
       "      <td>2</td>\n",
       "      <td>1</td>\n",
       "      <td>1</td>\n",
       "      <td>1</td>\n",
       "      <td>1</td>\n",
       "      <td>1</td>\n",
       "      <td>1</td>\n",
       "      <td>1</td>\n",
       "      <td>0</td>\n",
       "      <td>1</td>\n",
       "      <td>0</td>\n",
       "      <td>1</td>\n",
       "      <td>1</td>\n",
       "      <td>2</td>\n",
       "      <td>1</td>\n",
       "      <td>1</td>\n",
       "      <td>1</td>\n",
       "      <td>0</td>\n",
       "      <td>1</td>\n",
       "      <td>1</td>\n",
       "      <td>2</td>\n",
       "      <td>2</td>\n",
       "      <td>2</td>\n",
       "      <td>0</td>\n",
       "      <td>1</td>\n",
       "      <td>0</td>\n",
       "      <td>0</td>\n",
       "      <td>0</td>\n",
       "      <td>2</td>\n",
       "      <td>5</td>\n",
       "      <td>2</td>\n",
       "      <td>3</td>\n",
       "      <td>2</td>\n",
       "      <td>4</td>\n",
       "      <td>2</td>\n",
       "      <td>0</td>\n",
       "      <td>5</td>\n",
       "      <td>0</td>\n",
       "      <td>3</td>\n",
       "      <td>1</td>\n",
       "      <td>5</td>\n",
       "      <td>3</td>\n",
       "      <td>1</td>\n",
       "      <td>3</td>\n",
       "      <td>0</td>\n",
       "      <td>0</td>\n",
       "      <td>9</td>\n",
       "      <td>0</td>\n",
       "      <td>2</td>\n",
       "      <td>0</td>\n",
       "      <td>0</td>\n",
       "      <td>0</td>\n",
       "      <td>0</td>\n",
       "      <td>0</td>\n",
       "      <td>1</td>\n",
       "      <td>1</td>\n",
       "      <td>3</td>\n",
       "      <td>43.919998</td>\n",
       "      <td>Hacinamiento_medio</td>\n",
       "      <td>1</td>\n",
       "      <td>2.5</td>\n",
       "    </tr>\n",
       "  </tbody>\n",
       "</table>\n",
       "</div>"
      ],
      "text/plain": [
       "   ANO_INF   CODIGO_DANE  CODIGO_DANE_SEDE  TIPO_DOCUMENTO NRO_DOCUMENTO  \\\n",
       "0     2017  111001000078      111001000078               5    1000003730   \n",
       "\n",
       "      DIRECCION_RESIDENCIA  RES_DEPTO  RES_MUN  ESTRATO    SISBEN  \\\n",
       "0  CR 51 D  # 35 SUR  - 45         11        1        3  43.90625   \n",
       "\n",
       "  FECHA_NACIMIENTO  GENERO  POB_VICT_CONF  PROVIENE_SECTOR_PRIV  \\\n",
       "0       2002-04-23       0              9                     0   \n",
       "\n",
       "   PROVIENE_OTR_MUN  TIPO_DISCAPACIDAD  CAP_EXC  CODIGO_ETNIA  CODIGO_JORNADA  \\\n",
       "0                 0                  0        9             0               6   \n",
       "\n",
       "   CARACTER  CODIGO_ESPECIALIDAD  CODIGO_GRADO  CODIGO_METODOLOGIA  REPITENTE  \\\n",
       "0         0                    0             9                   1          0   \n",
       "\n",
       "   SIT_ACAD_ANIO_ANT  CON_ALUM_ANIO_ANT  ZONA_RESI_ALU  EDAD  NIVEL  \\\n",
       "0                  1                  9              1    14      3   \n",
       "\n",
       "   DIR_NUM_LOCALIDAD  NIVEL_SISBEN  GRADO_OVERAGE  OVERAGE    ficha  comuna  \\\n",
       "0                 16             1            100        0  4385957      16   \n",
       "\n",
       "   barrio nombarrio                       direcc  vereda           nomvereda  \\\n",
       "0    4407    ALCALA  CL 36 SUR 51 04 PI 2 AP 202       0  BARRIO ZONA URBANA   \n",
       "\n",
       "   vivienda  pared  piso  energia  alcanta  gas  telefono  basura  acueduc  \\\n",
       "0         1      1     2        1        1    1         1       1        1   \n",
       "\n",
       "   estrato  elimbasura  tcuartosvi  thogar  recolec  tipdir  verifica  hogar  \\\n",
       "0        3           1           3       1        3       1         1      1   \n",
       "\n",
       "   teneviv  tcuartos  tdormir  sanitar  usanitar  usosani  tsanitar  ducha  \\\n",
       "0        1         3        2        1         1        1         1      1   \n",
       "\n",
       "   agua  llega  cuandi  suminis  cuanhoras  preparan  cocina  cocinan  \\\n",
       "0     1      1       0        1          0         1       1        2   \n",
       "\n",
       "   alumbra  usotele  nevera  lavadora  tvcolor  tvcable  calenta  horno  aire  \\\n",
       "0        1        1       1         0        1        1        2      2     2   \n",
       "\n",
       "   computador  equipo  moto  tractor  tiene_auto  bieraices  tpersona  \\\n",
       "0           0       1     0        0           0          2         5   \n",
       "\n",
       "   informan  orden  nucleo  parentes  tipodoc  sexo  estcivil  discapa  \\\n",
       "0         2      3       2         4        2     0         5        0   \n",
       "\n",
       "   carnet  asiste  tipoesta  grado  nivel  activi  buscando  ingresos  edad  \\\n",
       "0       3       1         5      3      1       3         0         0     9   \n",
       "\n",
       "   conyuvive  hijosde  embaraza  extranjero  pagapor  percibe  serdomes  \\\n",
       "0          0        2         0           0        0        0         0   \n",
       "\n",
       "   unigasto  area  nparentes  puntaje_sisben_3  nivel_hacinamiento  \\\n",
       "0         1     1          3         43.919998  Hacinamiento_medio   \n",
       "\n",
       "   todos_servicios_Pub  indice_hacinamiento  \n",
       "0                    1                  2.5  "
      ]
     },
     "execution_count": 19,
     "metadata": {},
     "output_type": "execute_result"
    }
   ],
   "source": [
    "super_merge.head(1)"
   ]
  },
  {
   "cell_type": "code",
   "execution_count": 20,
   "id": "b437c5b6-45da-444d-ab17-2c73ce2a6c61",
   "metadata": {},
   "outputs": [
    {
     "data": {
      "text/plain": [
       "(2749433, 120)"
      ]
     },
     "execution_count": 20,
     "metadata": {},
     "output_type": "execute_result"
    }
   ],
   "source": [
    "super_merge.shape"
   ]
  },
  {
   "cell_type": "code",
   "execution_count": 21,
   "id": "7f96fb79-3126-49bd-9756-43c3566afaf4",
   "metadata": {},
   "outputs": [
    {
     "data": {
      "text/plain": [
       "False    2282266\n",
       "True      467167\n",
       "Name: ANO_INF, dtype: int64"
      ]
     },
     "execution_count": 21,
     "metadata": {},
     "output_type": "execute_result"
    }
   ],
   "source": [
    "# Coincide el número con el merge previo del 2020 de 467167\n",
    "(super_merge.ANO_INF == 2020).value_counts()"
   ]
  },
  {
   "cell_type": "code",
   "execution_count": 22,
   "id": "3c92f05f-ae64-4346-95dd-b4f8675ea217",
   "metadata": {},
   "outputs": [],
   "source": [
    "super_merge.to_csv('data/3-oro/Super_Merge.csv')"
   ]
  },
  {
   "cell_type": "code",
   "execution_count": 15,
   "id": "28c421a6-4359-4b1e-b782-2a18279d985c",
   "metadata": {},
   "outputs": [
    {
     "name": "stderr",
     "output_type": "stream",
     "text": [
      "C:\\Users\\diego\\anaconda3\\lib\\site-packages\\numpy\\lib\\arraysetops.py:583: FutureWarning: elementwise comparison failed; returning scalar instead, but in the future will perform elementwise comparison\n",
      "  mask |= (ar1 == a)\n"
     ]
    }
   ],
   "source": [
    "super_merge = pd.read_csv('data/3-oro/Super_Merge.csv', index_col = 0 , dtype= dict_tipos)"
   ]
  },
  {
   "cell_type": "code",
   "execution_count": 16,
   "id": "a2570598-6d65-4aa1-ae25-a019cda1aeef",
   "metadata": {},
   "outputs": [
    {
     "name": "stdout",
     "output_type": "stream",
     "text": [
      "<class 'pandas.core.frame.DataFrame'>\n",
      "Int64Index: 2749433 entries, 0 to 2749432\n",
      "Columns: 120 entries, ANO_INF to indice_hacinamiento\n",
      "dtypes: float16(2), float32(1), int64(2), int8(2), object(2), string(5), uint16(3), uint32(1), uint64(2), uint8(100)\n",
      "memory usage: 566.4+ MB\n"
     ]
    }
   ],
   "source": [
    "super_merge.info(show_counts = True)"
   ]
  },
  {
   "cell_type": "code",
   "execution_count": 17,
   "id": "a182d12e-5d9a-4ea8-a69b-c6c70336fdb1",
   "metadata": {},
   "outputs": [],
   "source": [
    "super_merge_2019 = super_merge[super_merge['ANO_INF']== 2019]"
   ]
  },
  {
   "cell_type": "code",
   "execution_count": 18,
   "id": "208f1864-e6a4-47dc-93a4-cf5738eeda3a",
   "metadata": {},
   "outputs": [
    {
     "name": "stdout",
     "output_type": "stream",
     "text": [
      "<class 'pandas.core.frame.DataFrame'>\n",
      "Int64Index: 479536 entries, 2 to 2634811\n",
      "Columns: 120 entries, ANO_INF to indice_hacinamiento\n",
      "dtypes: float16(2), float32(1), int64(2), int8(2), object(2), string(5), uint16(3), uint32(1), uint64(2), uint8(100)\n",
      "memory usage: 98.8+ MB\n"
     ]
    }
   ],
   "source": [
    "super_merge_2019.info(show_counts = True)"
   ]
  },
  {
   "cell_type": "markdown",
   "id": "bdd1dc23-93e4-41f5-b296-bd2384945ad1",
   "metadata": {},
   "source": [
    "# MERGE PARA 2020 INCLUYENDO ICFES & C-600 "
   ]
  },
  {
   "cell_type": "code",
   "execution_count": 24,
   "id": "3d142f43-7524-4f57-8730-491b27b0bf67",
   "metadata": {},
   "outputs": [],
   "source": [
    "super_merge_2020 = super_merge[super_merge['ANO_INF'] == 2020]"
   ]
  },
  {
   "cell_type": "markdown",
   "id": "12bf35f7-3e21-4ba3-861f-b0637e8c065c",
   "metadata": {},
   "source": [
    "## C-600 -2020"
   ]
  },
  {
   "cell_type": "code",
   "execution_count": 25,
   "id": "c3e64187-b58e-476c-9d31-08b3ea148f03",
   "metadata": {},
   "outputs": [],
   "source": [
    "c_600 = pd.read_csv('data/2-plata/C600_DATA.csv', index_col = 0)"
   ]
  },
  {
   "cell_type": "code",
   "execution_count": 26,
   "id": "e636f194-c342-4e13-b3b1-8946a1b8c70d",
   "metadata": {},
   "outputs": [
    {
     "data": {
      "text/html": [
       "<div>\n",
       "<style scoped>\n",
       "    .dataframe tbody tr th:only-of-type {\n",
       "        vertical-align: middle;\n",
       "    }\n",
       "\n",
       "    .dataframe tbody tr th {\n",
       "        vertical-align: top;\n",
       "    }\n",
       "\n",
       "    .dataframe thead th {\n",
       "        text-align: right;\n",
       "    }\n",
       "</style>\n",
       "<table border=\"1\" class=\"dataframe\">\n",
       "  <thead>\n",
       "    <tr style=\"text-align: right;\">\n",
       "      <th></th>\n",
       "      <th>SEDE_CODIGO</th>\n",
       "      <th>ES_BILINGUE</th>\n",
       "      <th>TOTAL_DOCENTES</th>\n",
       "      <th>TOTAL_ALUMNOS</th>\n",
       "      <th>TOTAL_EQUIPO_COMPUTO</th>\n",
       "      <th>ALUMN_POR_DOCENTE</th>\n",
       "      <th>COMPU_POR_ALUMN</th>\n",
       "      <th>TOTAL_DOCENTES_CON_TITULO</th>\n",
       "      <th>PROP_DOCENTES_CON_TITULO</th>\n",
       "    </tr>\n",
       "  </thead>\n",
       "  <tbody>\n",
       "    <tr>\n",
       "      <th>1</th>\n",
       "      <td>111001000078</td>\n",
       "      <td>NO</td>\n",
       "      <td>27</td>\n",
       "      <td>627</td>\n",
       "      <td>231.0</td>\n",
       "      <td>23.222222</td>\n",
       "      <td>0.368421</td>\n",
       "      <td>24</td>\n",
       "      <td>0.888889</td>\n",
       "    </tr>\n",
       "  </tbody>\n",
       "</table>\n",
       "</div>"
      ],
      "text/plain": [
       "    SEDE_CODIGO ES_BILINGUE  TOTAL_DOCENTES  TOTAL_ALUMNOS  \\\n",
       "1  111001000078          NO              27            627   \n",
       "\n",
       "   TOTAL_EQUIPO_COMPUTO  ALUMN_POR_DOCENTE  COMPU_POR_ALUMN  \\\n",
       "1                 231.0          23.222222         0.368421   \n",
       "\n",
       "   TOTAL_DOCENTES_CON_TITULO  PROP_DOCENTES_CON_TITULO  \n",
       "1                         24                  0.888889  "
      ]
     },
     "execution_count": 26,
     "metadata": {},
     "output_type": "execute_result"
    }
   ],
   "source": [
    "c_600.head(1)"
   ]
  },
  {
   "cell_type": "code",
   "execution_count": 27,
   "id": "78180e23-1c33-4793-baa4-69d2ecf037e5",
   "metadata": {},
   "outputs": [
    {
     "data": {
      "text/plain": [
       "SEDE_CODIGO                    int64\n",
       "ES_BILINGUE                   object\n",
       "TOTAL_DOCENTES                 int64\n",
       "TOTAL_ALUMNOS                  int64\n",
       "TOTAL_EQUIPO_COMPUTO         float64\n",
       "ALUMN_POR_DOCENTE            float64\n",
       "COMPU_POR_ALUMN              float64\n",
       "TOTAL_DOCENTES_CON_TITULO      int64\n",
       "PROP_DOCENTES_CON_TITULO     float64\n",
       "dtype: object"
      ]
     },
     "execution_count": 27,
     "metadata": {},
     "output_type": "execute_result"
    }
   ],
   "source": [
    "c_600.dtypes"
   ]
  },
  {
   "cell_type": "markdown",
   "id": "38655494-98c2-484d-8db7-347d96fec981",
   "metadata": {},
   "source": [
    "### Bilingue"
   ]
  },
  {
   "cell_type": "code",
   "execution_count": 28,
   "id": "fe985d6f-6722-4932-b529-30e5d7e3d667",
   "metadata": {},
   "outputs": [
    {
     "data": {
      "text/plain": [
       "array(['NO', 'S�'], dtype=object)"
      ]
     },
     "execution_count": 28,
     "metadata": {},
     "output_type": "execute_result"
    }
   ],
   "source": [
    "c_600['ES_BILINGUE'].unique()"
   ]
  },
  {
   "cell_type": "code",
   "execution_count": 29,
   "id": "23512f60-4da1-4763-b728-e7cac8342aea",
   "metadata": {},
   "outputs": [],
   "source": [
    "def dict_bool(x):\n",
    "    if x['ES_BILINGUE'] == 'NO':\n",
    "        valor = 0\n",
    "    else:\n",
    "        valor = 1\n",
    "    return valor"
   ]
  },
  {
   "cell_type": "code",
   "execution_count": 30,
   "id": "bc215621-bfc7-4917-a1df-77b1c981c7ae",
   "metadata": {},
   "outputs": [
    {
     "data": {
      "text/plain": [
       "47     S�\n",
       "341    S�\n",
       "358    S�\n",
       "374    S�\n",
       "490    S�\n",
       "491    S�\n",
       "529    S�\n",
       "536    S�\n",
       "540    S�\n",
       "556    S�\n",
       "560    S�\n",
       "599    S�\n",
       "605    S�\n",
       "673    S�\n",
       "Name: ES_BILINGUE, dtype: object"
      ]
     },
     "execution_count": 30,
     "metadata": {},
     "output_type": "execute_result"
    }
   ],
   "source": [
    "c_600['ES_BILINGUE'][c_600['ES_BILINGUE'] != 'NO']"
   ]
  },
  {
   "cell_type": "code",
   "execution_count": 31,
   "id": "3b0acd1b-3432-4511-96ce-874641b2e504",
   "metadata": {},
   "outputs": [],
   "source": [
    "c_600['ES_BILINGUE'] = c_600[['SEDE_CODIGO', 'ES_BILINGUE']].apply(dict_bool, axis = 1)"
   ]
  },
  {
   "cell_type": "code",
   "execution_count": 32,
   "id": "b9cb0129-64ad-441a-bc69-8adeeb7b5bca",
   "metadata": {},
   "outputs": [
    {
     "data": {
      "text/plain": [
       "47     1\n",
       "341    1\n",
       "358    1\n",
       "374    1\n",
       "490    1\n",
       "491    1\n",
       "529    1\n",
       "536    1\n",
       "540    1\n",
       "556    1\n",
       "560    1\n",
       "599    1\n",
       "605    1\n",
       "673    1\n",
       "Name: ES_BILINGUE, dtype: int64"
      ]
     },
     "execution_count": 32,
     "metadata": {},
     "output_type": "execute_result"
    }
   ],
   "source": [
    "c_600['ES_BILINGUE'][c_600['ES_BILINGUE'] != 0]"
   ]
  },
  {
   "cell_type": "code",
   "execution_count": 33,
   "id": "00291cf0-abdc-463b-9bd9-6d4ef6bb10fb",
   "metadata": {},
   "outputs": [
    {
     "data": {
      "text/plain": [
       "array([0, 1], dtype=int64)"
      ]
     },
     "execution_count": 33,
     "metadata": {},
     "output_type": "execute_result"
    }
   ],
   "source": [
    "c_600['ES_BILINGUE'].unique()"
   ]
  },
  {
   "cell_type": "markdown",
   "id": "d3a1a7ee-6bc9-45b0-980a-f599042fe14f",
   "metadata": {},
   "source": [
    "## TODAL DOCENTES"
   ]
  },
  {
   "cell_type": "code",
   "execution_count": 34,
   "id": "e7ebe7ff-75b6-406e-846a-4479413fe26b",
   "metadata": {},
   "outputs": [
    {
     "data": {
      "text/plain": [
       "array([ 27,  90, 116,  14, 110,  38,  28,  49,  81,  60, 180, 145,  92,\n",
       "        20,  39,  37,  59, 115,   9,  45,  80,  87,  78, 128,  55,  96,\n",
       "        97, 123,  51,  58,  31,  64, 105, 185,  98,   7,  16,  50,  25,\n",
       "        24,  18,  15,  34,  44,   8,  61,  76, 101,  12,  22,  19,  43,\n",
       "        68,  83,  23,  11,   6,  10,   4,  21,  54, 136,  13,  42,  17,\n",
       "        26, 107,  52,  41,  67,  36,  82, 111, 104,  85,  84,  69,  30,\n",
       "        53,  47,  77,  40,  72,  29,  32,  66,  74,  46,  48, 124,  62,\n",
       "        57, 232,  75, 108, 190,  56,  99, 218, 144,  79,  65,  88,  70,\n",
       "        94, 102,  35,  71, 112,  33, 134, 113, 117, 131,  63,  73, 120,\n",
       "       147, 122, 196, 125, 118, 119,  95, 161, 129, 261, 126, 114, 168,\n",
       "         5,  86, 195,   2,   1,   3, 159], dtype=int64)"
      ]
     },
     "execution_count": 34,
     "metadata": {},
     "output_type": "execute_result"
    }
   ],
   "source": [
    "c_600['TOTAL_DOCENTES'].unique()"
   ]
  },
  {
   "cell_type": "code",
   "execution_count": 35,
   "id": "bdd193c6-ed77-42d2-bd4a-7f5eb6781c42",
   "metadata": {},
   "outputs": [
    {
     "data": {
      "text/plain": [
       "261"
      ]
     },
     "execution_count": 35,
     "metadata": {},
     "output_type": "execute_result"
    }
   ],
   "source": [
    "max(c_600['TOTAL_DOCENTES']) ##u int16"
   ]
  },
  {
   "cell_type": "code",
   "execution_count": 37,
   "id": "78b0012c-a879-4fa2-a190-6b79f493276c",
   "metadata": {},
   "outputs": [
    {
     "data": {
      "text/plain": [
       "1"
      ]
     },
     "execution_count": 37,
     "metadata": {},
     "output_type": "execute_result"
    }
   ],
   "source": [
    "min(c_600['TOTAL_DOCENTES'])"
   ]
  },
  {
   "cell_type": "code",
   "execution_count": 38,
   "id": "a0fc4cb3-7436-4dc5-8dd0-64fc18123f57",
   "metadata": {},
   "outputs": [],
   "source": [
    "c_600['TOTAL_DOCENTES'] = c_600['TOTAL_DOCENTES'].astype('uint16')"
   ]
  },
  {
   "cell_type": "markdown",
   "id": "14e75b3a-fa27-495f-ae3d-0b7a15a0fdb5",
   "metadata": {},
   "source": [
    "## Total Alumnos"
   ]
  },
  {
   "cell_type": "code",
   "execution_count": 39,
   "id": "574a0975-5097-4486-afc7-3820de6bdca0",
   "metadata": {},
   "outputs": [
    {
     "data": {
      "text/plain": [
       "array([ 627, 1482, 3096,  299, 1509,  691,  428, 1175, 2548, 1254, 4081,\n",
       "       3304, 2551,  556,  925,  776, 1370, 1179, 2843,  137,  732, 2188,\n",
       "       2577, 4206, 1049, 1082, 2361, 1025, 2215, 1913, 2746, 1019,  876,\n",
       "       1553, 1365,  604, 1543, 2102, 2600,  587, 5484, 1932,  115,  516,\n",
       "        273, 1133,  566,  388, 1118,  573,  309,  623,  226,  818, 1756,\n",
       "        472, 1006,  175, 1261, 1715, 2318,  353,  663,  419, 1143,  656,\n",
       "        187,  875,  614, 1095,  310,  370, 2487, 2103,  644,  536,  263,\n",
       "        140,  207, 1279,  314,  315,  200,  165,   98,  198, 1339,  483,\n",
       "        279,  469, 1975, 1430, 1506, 3115, 2367, 2015,  862,  712, 1081,\n",
       "        495, 1015,  264, 1400, 1210,  130,  313,  168,  406,  194,  271,\n",
       "        294,  762,  578,  837, 2498, 2682, 1396,  367, 1262,  543,  664,\n",
       "       2093,  595,  995, 1087,  364,  696, 2684, 2331, 2041,  448, 2168,\n",
       "        258, 2392,  845, 1767,  133, 1455,  157,  759,  403,  381, 1009,\n",
       "        770,  576,  372,  217,  455,  701,  470,  439,  261,  434,  426,\n",
       "        950,  418,  878, 1475,  564, 1101, 1901,  527,  750,  635,  575,\n",
       "        898,  435,  427,  554, 1077,  163,  153,  325, 2567, 1886,  392,\n",
       "        463,  882,  751,  460,  735,  530, 1454,  441,  357, 1652, 2648,\n",
       "        398,  662,  464, 1973, 1511, 1308,  827, 1573, 1799,  872,  446,\n",
       "        742,  269, 1538,  454,  582, 1289, 2136, 1075,  342,  411,  586,\n",
       "        902, 1125, 1441,  420,  702,  339,  174, 1752,  733,  224, 1057,\n",
       "        393,  846,  765,  990,  978, 1182,  758, 1250, 1114,  939,  734,\n",
       "       3419,  912, 1395, 1333,  154, 2595, 1358,  225, 5694,  538, 3326,\n",
       "       1386,  484, 1811, 2735, 2127, 1557,  340, 1720, 4638,  823,  966,\n",
       "        122, 1342,  487, 1097, 1372,  500, 1040,  782, 1647, 5256, 3549,\n",
       "        511, 1971, 2388,  945,  741, 1068, 1152,  838,  880,  485, 2023,\n",
       "        438,  397, 1989, 1481,  659,  525, 1587,  373,  482,  679,  836,\n",
       "        410, 1251,  396,  486, 2206,  678,  219,  430, 1070,  375,  562,\n",
       "       2375,  320, 2305, 2515, 1067,  653, 1407,  692, 2897,  617,  855,\n",
       "       1450, 1096, 1616,  645,  513, 1242, 1650, 1110,  938, 3241,  568,\n",
       "        781, 1193,  593, 1138, 1789,  791,  341, 1115, 1499, 2087, 1624,\n",
       "       1888, 1119, 1617,  202, 1500, 1589,  996,  386, 1788,  967,  812,\n",
       "        461,  671,  327,  600, 2027,  471, 3030, 1820, 1035,  332,  987,\n",
       "       1127, 1091, 3862, 3441, 2697, 2077, 1374, 1387,  474, 2799,  254,\n",
       "        637,  580, 1050, 2144,  643, 1729,  962, 1112,   34, 1476,  524,\n",
       "        640, 1485, 3557,  176, 2947,  813,  973,  360, 2532,  498, 1618,\n",
       "        150, 2133,  590,  385,  881, 1444,  408,  457, 1733, 1021,  144,\n",
       "        286, 1227, 1292, 1328, 1841, 1122, 1121,  768, 1054, 1232, 1377,\n",
       "       1777, 1381, 1442, 1202,  929,  639, 1183, 1105, 1373, 2274, 1371,\n",
       "       1224, 1383, 1208, 1429,  685, 1415, 1360, 1397,  610,  387, 1282,\n",
       "       3571,  594,  626, 2199, 3254, 2241, 4232, 3396, 4598, 1836, 1702,\n",
       "       1154, 1795, 2132, 2718, 1027,  550,  234, 1100,  415,  221,  424,\n",
       "       3490, 3663, 2971, 1066, 1941, 2085, 2176, 2963, 1505,  272,  390,\n",
       "       2008,  450, 3031, 2369, 1711, 3604,  535, 2541, 2691, 3223, 6704,\n",
       "       2981, 1985, 2552, 1823, 2141,  351, 1356, 3297,  986, 1734,  284,\n",
       "       1235,  413,  328,  240,  597,  605, 1847, 1026,  366,  120,  831,\n",
       "        520,  298,  509, 1044, 1561, 1440,  466,  771,  924,  920, 2847,\n",
       "       2937,  526,  787, 1586, 4333,  451,  401,  856, 2012,  334, 1853,\n",
       "        152, 1126,  936, 1389, 1631, 3158,  405,  833,  145,  611, 1917,\n",
       "        127,  539, 1206, 1610, 2105,  991,  354,  288,  752,  684,  642,\n",
       "       1008,  886,  661, 1547,  705,  931, 3383, 1472, 4358,  445,  558,\n",
       "        241,  324, 1835,  887,  961, 1213,  409,  724,  676,  112,  890,\n",
       "       1061, 2446, 1120,  172,  777,  278,    9,    5,  715,  919, 2045,\n",
       "        885, 2717,  937, 1305, 1195,  316,   15, 1657,   47,  141, 1322,\n",
       "         18,   94,   19,   63, 1253,   11,   14,  108,    7,    8,   24,\n",
       "        577,   45,    6,    4,   46,   27,   13,  969,   67,   44,  540,\n",
       "        344,   10,   29, 1497,  232, 1959,  259,  522,  465,  906, 1535,\n",
       "        806,   64,  728, 4246,  245, 1551,  816,  588,  109, 2445,  467],\n",
       "      dtype=int64)"
      ]
     },
     "execution_count": 39,
     "metadata": {},
     "output_type": "execute_result"
    }
   ],
   "source": [
    "c_600['TOTAL_ALUMNOS'].unique()"
   ]
  },
  {
   "cell_type": "code",
   "execution_count": 40,
   "id": "983c46c6-ff4e-4f18-92f8-58da6859fa80",
   "metadata": {},
   "outputs": [
    {
     "data": {
      "text/plain": [
       "6704"
      ]
     },
     "execution_count": 40,
     "metadata": {},
     "output_type": "execute_result"
    }
   ],
   "source": [
    "max(c_600['TOTAL_ALUMNOS']) ## uint16"
   ]
  },
  {
   "cell_type": "code",
   "execution_count": 41,
   "id": "ab426133-0a38-4e09-9a9a-f23cb6627942",
   "metadata": {},
   "outputs": [
    {
     "data": {
      "text/plain": [
       "4"
      ]
     },
     "execution_count": 41,
     "metadata": {},
     "output_type": "execute_result"
    }
   ],
   "source": [
    "min(c_600['TOTAL_ALUMNOS'])"
   ]
  },
  {
   "cell_type": "code",
   "execution_count": 42,
   "id": "592b37cc-adff-4cdb-a460-3125c7964dcc",
   "metadata": {},
   "outputs": [],
   "source": [
    "c_600['TOTAL_ALUMNOS'] = c_600['TOTAL_ALUMNOS'].astype('uint16')"
   ]
  },
  {
   "cell_type": "markdown",
   "id": "ce1cc6b3-f968-470c-95d8-4f33cf539afe",
   "metadata": {},
   "source": [
    "## TOTAL_EQUIPO_COMPUTO"
   ]
  },
  {
   "cell_type": "code",
   "execution_count": 43,
   "id": "44c979d7-5389-4ccf-873d-1fca7f913546",
   "metadata": {},
   "outputs": [
    {
     "data": {
      "text/plain": [
       "1171.0"
      ]
     },
     "execution_count": 43,
     "metadata": {},
     "output_type": "execute_result"
    }
   ],
   "source": [
    "max(c_600['TOTAL_EQUIPO_COMPUTO'])"
   ]
  },
  {
   "cell_type": "code",
   "execution_count": 44,
   "id": "2739aace-d383-49f9-92a2-7e5af7e420e0",
   "metadata": {},
   "outputs": [
    {
     "data": {
      "text/plain": [
       "0.0"
      ]
     },
     "execution_count": 44,
     "metadata": {},
     "output_type": "execute_result"
    }
   ],
   "source": [
    "min(c_600['TOTAL_EQUIPO_COMPUTO'])"
   ]
  },
  {
   "cell_type": "code",
   "execution_count": 45,
   "id": "e6da9bba-3013-46ea-8716-522180022836",
   "metadata": {},
   "outputs": [
    {
     "data": {
      "text/plain": [
       "False    739\n",
       "True       7\n",
       "Name: TOTAL_EQUIPO_COMPUTO, dtype: int64"
      ]
     },
     "execution_count": 45,
     "metadata": {},
     "output_type": "execute_result"
    }
   ],
   "source": [
    "np.isnan(c_600['TOTAL_EQUIPO_COMPUTO']).value_counts()"
   ]
  },
  {
   "cell_type": "code",
   "execution_count": 46,
   "id": "f0cace57-ae1b-41cb-a79a-7a24495aafdd",
   "metadata": {},
   "outputs": [],
   "source": [
    "c_600['TOTAL_EQUIPO_COMPUTO'].replace({np.nan : 0}, inplace = True)"
   ]
  },
  {
   "cell_type": "code",
   "execution_count": 47,
   "id": "3dc65519-7278-4d5f-8d20-fb1b381a9e49",
   "metadata": {},
   "outputs": [
    {
     "data": {
      "text/plain": [
       "False    746\n",
       "Name: TOTAL_EQUIPO_COMPUTO, dtype: int64"
      ]
     },
     "execution_count": 47,
     "metadata": {},
     "output_type": "execute_result"
    }
   ],
   "source": [
    "np.isnan(c_600['TOTAL_EQUIPO_COMPUTO']).value_counts()"
   ]
  },
  {
   "cell_type": "code",
   "execution_count": 49,
   "id": "f745ce79-43e7-41fe-a185-4c0415b42cb1",
   "metadata": {},
   "outputs": [],
   "source": [
    "c_600['TOTAL_EQUIPO_COMPUTO']= c_600['TOTAL_EQUIPO_COMPUTO'].astype('uint16')"
   ]
  },
  {
   "cell_type": "code",
   "execution_count": 50,
   "id": "fd763c54-bff0-4566-a5dd-25b89b3abf1b",
   "metadata": {},
   "outputs": [
    {
     "data": {
      "text/plain": [
       "1171"
      ]
     },
     "execution_count": 50,
     "metadata": {},
     "output_type": "execute_result"
    }
   ],
   "source": [
    "max(c_600['TOTAL_EQUIPO_COMPUTO'])"
   ]
  },
  {
   "cell_type": "markdown",
   "id": "b75ed1b2-7acd-4665-8823-9fde0fa5e2e8",
   "metadata": {},
   "source": [
    "## ALUM POR DOCENTE"
   ]
  },
  {
   "cell_type": "code",
   "execution_count": 52,
   "id": "6970b462-da36-4df1-a08b-005e165b2706",
   "metadata": {},
   "outputs": [
    {
     "data": {
      "text/plain": [
       "False    746\n",
       "Name: ALUMN_POR_DOCENTE, dtype: int64"
      ]
     },
     "execution_count": 52,
     "metadata": {},
     "output_type": "execute_result"
    }
   ],
   "source": [
    "np.isinf(c_600['ALUMN_POR_DOCENTE']).value_counts()"
   ]
  },
  {
   "cell_type": "code",
   "execution_count": 53,
   "id": "55a38881-eb6a-465b-bc45-2ee30054a494",
   "metadata": {},
   "outputs": [
    {
     "data": {
      "text/plain": [
       "False    746\n",
       "Name: ALUMN_POR_DOCENTE, dtype: int64"
      ]
     },
     "execution_count": 53,
     "metadata": {},
     "output_type": "execute_result"
    }
   ],
   "source": [
    "np.isnan(c_600['ALUMN_POR_DOCENTE']).value_counts()"
   ]
  },
  {
   "cell_type": "code",
   "execution_count": 54,
   "id": "092a733b-8b1b-4eac-bbe5-d01ffcbb4981",
   "metadata": {},
   "outputs": [
    {
     "data": {
      "text/plain": [
       "46.1052631578947"
      ]
     },
     "execution_count": 54,
     "metadata": {},
     "output_type": "execute_result"
    }
   ],
   "source": [
    "max(c_600['ALUMN_POR_DOCENTE'])"
   ]
  },
  {
   "cell_type": "code",
   "execution_count": 55,
   "id": "7c09306b-4968-4f96-b25b-17cf8a6c6509",
   "metadata": {},
   "outputs": [
    {
     "data": {
      "text/plain": [
       "2.5"
      ]
     },
     "execution_count": 55,
     "metadata": {},
     "output_type": "execute_result"
    }
   ],
   "source": [
    "min(c_600['ALUMN_POR_DOCENTE']) ## NADA QUE HACER AQUI"
   ]
  },
  {
   "cell_type": "markdown",
   "id": "726ab5ff-6102-4adf-bc5f-c4c04ecb1942",
   "metadata": {},
   "source": [
    "## Compu por alum"
   ]
  },
  {
   "cell_type": "code",
   "execution_count": 56,
   "id": "f323f463-7af7-4d0e-87a3-805c1e0dabde",
   "metadata": {},
   "outputs": [],
   "source": [
    "colsss = c_600.columns.tolist()"
   ]
  },
  {
   "cell_type": "code",
   "execution_count": 58,
   "id": "270f72ce-8f8e-4694-b6a0-8dddf6ca0963",
   "metadata": {},
   "outputs": [
    {
     "data": {
      "text/plain": [
       "False    739\n",
       "True       7\n",
       "Name: COMPU_POR_ALUMN, dtype: int64"
      ]
     },
     "execution_count": 58,
     "metadata": {},
     "output_type": "execute_result"
    }
   ],
   "source": [
    "np.isnan(c_600['COMPU_POR_ALUMN']).value_counts()"
   ]
  },
  {
   "cell_type": "code",
   "execution_count": 59,
   "id": "fb33579f-1cf2-40f0-853a-851226b7cadd",
   "metadata": {},
   "outputs": [],
   "source": [
    "c_600['COMPU_POR_ALUMN'].replace({np.nan:0}, inplace = True)"
   ]
  },
  {
   "cell_type": "code",
   "execution_count": 60,
   "id": "3f71c9f0-eb4a-4417-be70-a413c11d5c1e",
   "metadata": {},
   "outputs": [
    {
     "data": {
      "text/plain": [
       "False    746\n",
       "Name: COMPU_POR_ALUMN, dtype: int64"
      ]
     },
     "execution_count": 60,
     "metadata": {},
     "output_type": "execute_result"
    }
   ],
   "source": [
    "np.isnan(c_600['COMPU_POR_ALUMN']).value_counts()"
   ]
  },
  {
   "cell_type": "code",
   "execution_count": 61,
   "id": "6372a93f-f2fb-4744-934e-8c42e7eccdf4",
   "metadata": {},
   "outputs": [
    {
     "data": {
      "text/plain": [
       "False    746\n",
       "Name: COMPU_POR_ALUMN, dtype: int64"
      ]
     },
     "execution_count": 61,
     "metadata": {},
     "output_type": "execute_result"
    }
   ],
   "source": [
    "np.isinf(c_600['COMPU_POR_ALUMN']).value_counts()"
   ]
  },
  {
   "cell_type": "code",
   "execution_count": 62,
   "id": "911ab83d-57e0-4056-9ab2-0f800f06af7f",
   "metadata": {},
   "outputs": [
    {
     "data": {
      "text/plain": [
       "5.6"
      ]
     },
     "execution_count": 62,
     "metadata": {},
     "output_type": "execute_result"
    }
   ],
   "source": [
    "max(c_600['COMPU_POR_ALUMN'])"
   ]
  },
  {
   "cell_type": "code",
   "execution_count": 63,
   "id": "a714517e-eaa2-4c6a-abc4-4abc050e91da",
   "metadata": {},
   "outputs": [
    {
     "data": {
      "text/plain": [
       "0.0"
      ]
     },
     "execution_count": 63,
     "metadata": {},
     "output_type": "execute_result"
    }
   ],
   "source": [
    "min(c_600['COMPU_POR_ALUMN'])"
   ]
  },
  {
   "cell_type": "markdown",
   "id": "3f606d12-daca-4aa2-b739-dab6e76d1cdf",
   "metadata": {},
   "source": [
    "## TOTAL DOCENTES CON TITULO"
   ]
  },
  {
   "cell_type": "code",
   "execution_count": 65,
   "id": "d9ac391b-47d5-46c0-bdfb-0960983a5740",
   "metadata": {},
   "outputs": [
    {
     "data": {
      "text/plain": [
       "161"
      ]
     },
     "execution_count": 65,
     "metadata": {},
     "output_type": "execute_result"
    }
   ],
   "source": [
    "max(c_600['TOTAL_DOCENTES_CON_TITULO'])"
   ]
  },
  {
   "cell_type": "code",
   "execution_count": 66,
   "id": "b116b288-0307-4435-8898-7d97f3c20993",
   "metadata": {},
   "outputs": [
    {
     "data": {
      "text/plain": [
       "0"
      ]
     },
     "execution_count": 66,
     "metadata": {},
     "output_type": "execute_result"
    }
   ],
   "source": [
    "min(c_600['TOTAL_DOCENTES_CON_TITULO']) # uint8"
   ]
  },
  {
   "cell_type": "code",
   "execution_count": 67,
   "id": "c4cf6809-e5fd-4105-bef0-e590d1a14b76",
   "metadata": {},
   "outputs": [],
   "source": [
    "c_600['TOTAL_DOCENTES_CON_TITULO'] = c_600['TOTAL_DOCENTES_CON_TITULO'].astype('uint8')"
   ]
  },
  {
   "cell_type": "markdown",
   "id": "76c920fe-b9b2-4616-b748-7bc1d993ce66",
   "metadata": {},
   "source": [
    "## PROP_DOCENTES TITULO"
   ]
  },
  {
   "cell_type": "code",
   "execution_count": 68,
   "id": "9301e7d1-b5a6-43df-b1de-be6e0403a774",
   "metadata": {},
   "outputs": [
    {
     "data": {
      "text/plain": [
       "False    746\n",
       "Name: PROP_DOCENTES_CON_TITULO, dtype: int64"
      ]
     },
     "execution_count": 68,
     "metadata": {},
     "output_type": "execute_result"
    }
   ],
   "source": [
    "np.isnan(c_600['PROP_DOCENTES_CON_TITULO']).value_counts()"
   ]
  },
  {
   "cell_type": "code",
   "execution_count": 69,
   "id": "d16ca141-aaf8-4ed2-bbd8-e94c0c1f1a62",
   "metadata": {},
   "outputs": [
    {
     "data": {
      "text/plain": [
       "1.0"
      ]
     },
     "execution_count": 69,
     "metadata": {},
     "output_type": "execute_result"
    }
   ],
   "source": [
    "max(c_600['PROP_DOCENTES_CON_TITULO'])"
   ]
  },
  {
   "cell_type": "code",
   "execution_count": 70,
   "id": "04845ac0-2f3c-4e6d-a802-0772a8936a08",
   "metadata": {},
   "outputs": [
    {
     "data": {
      "text/plain": [
       "0.0"
      ]
     },
     "execution_count": 70,
     "metadata": {},
     "output_type": "execute_result"
    }
   ],
   "source": [
    "min(c_600['PROP_DOCENTES_CON_TITULO'])"
   ]
  },
  {
   "cell_type": "code",
   "execution_count": 71,
   "id": "08039299-7e20-42e6-844f-eeaddd21f239",
   "metadata": {},
   "outputs": [
    {
     "data": {
      "text/plain": [
       "False    746\n",
       "Name: PROP_DOCENTES_CON_TITULO, dtype: int64"
      ]
     },
     "execution_count": 71,
     "metadata": {},
     "output_type": "execute_result"
    }
   ],
   "source": [
    "np.isinf(c_600['PROP_DOCENTES_CON_TITULO']).value_counts()"
   ]
  },
  {
   "cell_type": "markdown",
   "id": "be981077-b09b-4500-8722-94e8eee5e5cf",
   "metadata": {},
   "source": [
    "# Merge con c-600"
   ]
  },
  {
   "cell_type": "code",
   "execution_count": 72,
   "id": "4c80d71d-939f-4c76-b400-02bd6a3add53",
   "metadata": {},
   "outputs": [
    {
     "data": {
      "text/plain": [
       "set()"
      ]
     },
     "execution_count": 72,
     "metadata": {},
     "output_type": "execute_result"
    }
   ],
   "source": [
    "# Verficamos que no hayan columnas en comun\n",
    "set(super_merge_2020.columns).intersection(set(c_600.columns)) # conjuntpo vacio"
   ]
  },
  {
   "cell_type": "code",
   "execution_count": 73,
   "id": "71228fd5-a1e6-4f7e-8e0e-618185b4c4f9",
   "metadata": {},
   "outputs": [],
   "source": [
    "# Creamos la llave\n",
    "c_600.rename(columns = {'SEDE_CODIGO': 'CODIGO_DANE_SEDE'}, inplace = True)"
   ]
  },
  {
   "cell_type": "code",
   "execution_count": 74,
   "id": "12615553-36af-487a-aba9-5f6d15ed47c9",
   "metadata": {},
   "outputs": [],
   "source": [
    "merge_c_600 = pd.merge(super_merge_2020, c_600)"
   ]
  },
  {
   "cell_type": "code",
   "execution_count": 75,
   "id": "06abaf46-373c-4797-b5bc-101bfb8637a4",
   "metadata": {},
   "outputs": [
    {
     "data": {
      "text/plain": [
       "(466109, 128)"
      ]
     },
     "execution_count": 75,
     "metadata": {},
     "output_type": "execute_result"
    }
   ],
   "source": [
    "merge_c_600.shape"
   ]
  },
  {
   "cell_type": "code",
   "execution_count": null,
   "id": "6c5a792a-ab22-4967-b0b1-005b10e10f65",
   "metadata": {},
   "outputs": [],
   "source": []
  },
  {
   "cell_type": "code",
   "execution_count": null,
   "id": "d3c2e189-2582-47e3-86a8-a202e8632c7b",
   "metadata": {},
   "outputs": [],
   "source": []
  },
  {
   "cell_type": "markdown",
   "id": "fd96979b-cf23-47ba-9fa3-5323275a347e",
   "metadata": {},
   "source": [
    "## ICFES - 2020\n"
   ]
  },
  {
   "cell_type": "code",
   "execution_count": 76,
   "id": "fa51234a-a961-4a80-ba36-a42a2a34362a",
   "metadata": {},
   "outputs": [],
   "source": [
    "ICFES_20 = pd.read_csv('data/2-plata/Puntaje2020_1.csv' , index_col=0)"
   ]
  },
  {
   "cell_type": "code",
   "execution_count": 77,
   "id": "4661dfe1-a7bb-48b8-b23e-b698fafcbddf",
   "metadata": {},
   "outputs": [
    {
     "data": {
      "text/html": [
       "<div>\n",
       "<style scoped>\n",
       "    .dataframe tbody tr th:only-of-type {\n",
       "        vertical-align: middle;\n",
       "    }\n",
       "\n",
       "    .dataframe tbody tr th {\n",
       "        vertical-align: top;\n",
       "    }\n",
       "\n",
       "    .dataframe thead th {\n",
       "        text-align: right;\n",
       "    }\n",
       "</style>\n",
       "<table border=\"1\" class=\"dataframe\">\n",
       "  <thead>\n",
       "    <tr style=\"text-align: right;\">\n",
       "      <th></th>\n",
       "      <th>COD_DANE</th>\n",
       "      <th>promepuntaje</th>\n",
       "      <th>numeroestudia</th>\n",
       "    </tr>\n",
       "  </thead>\n",
       "  <tbody>\n",
       "    <tr>\n",
       "      <th>1</th>\n",
       "      <td>111001000078</td>\n",
       "      <td>262.909091</td>\n",
       "      <td>33</td>\n",
       "    </tr>\n",
       "  </tbody>\n",
       "</table>\n",
       "</div>"
      ],
      "text/plain": [
       "       COD_DANE  promepuntaje  numeroestudia\n",
       "1  111001000078    262.909091             33"
      ]
     },
     "execution_count": 77,
     "metadata": {},
     "output_type": "execute_result"
    }
   ],
   "source": [
    "ICFES_20.head(1)"
   ]
  },
  {
   "cell_type": "code",
   "execution_count": 78,
   "id": "d18c7077-0df7-4ee9-b254-4af0e1d80312",
   "metadata": {},
   "outputs": [
    {
     "data": {
      "text/plain": [
       "COD_DANE           int64\n",
       "promepuntaje     float64\n",
       "numeroestudia      int64\n",
       "dtype: object"
      ]
     },
     "execution_count": 78,
     "metadata": {},
     "output_type": "execute_result"
    }
   ],
   "source": [
    "ICFES_20.dtypes"
   ]
  },
  {
   "cell_type": "markdown",
   "id": "2473b3d5-7cde-481e-99fe-192894a20e4d",
   "metadata": {},
   "source": [
    "## PROM PUNTAHJE"
   ]
  },
  {
   "cell_type": "code",
   "execution_count": 79,
   "id": "f285000f-8fff-4d4b-be9e-d8af67eea2a3",
   "metadata": {},
   "outputs": [
    {
     "data": {
      "text/plain": [
       "False    388\n",
       "Name: promepuntaje, dtype: int64"
      ]
     },
     "execution_count": 79,
     "metadata": {},
     "output_type": "execute_result"
    }
   ],
   "source": [
    "np.isnan(ICFES_20['promepuntaje']).value_counts()"
   ]
  },
  {
   "cell_type": "code",
   "execution_count": 80,
   "id": "39aa6a0c-0d6e-4908-a31b-6ec08276e66f",
   "metadata": {},
   "outputs": [
    {
     "data": {
      "text/plain": [
       "False    388\n",
       "Name: promepuntaje, dtype: int64"
      ]
     },
     "execution_count": 80,
     "metadata": {},
     "output_type": "execute_result"
    }
   ],
   "source": [
    "np.isinf(ICFES_20['promepuntaje']).value_counts()"
   ]
  },
  {
   "cell_type": "code",
   "execution_count": 81,
   "id": "3202d544-e413-4a21-ac8e-c0d7e28406ae",
   "metadata": {},
   "outputs": [
    {
     "data": {
      "text/plain": [
       "315.111111111111"
      ]
     },
     "execution_count": 81,
     "metadata": {},
     "output_type": "execute_result"
    }
   ],
   "source": [
    "max(ICFES_20['promepuntaje'])"
   ]
  },
  {
   "cell_type": "code",
   "execution_count": 82,
   "id": "fc42f92b-98d1-495d-9c24-ba1890ccecce",
   "metadata": {},
   "outputs": [
    {
     "data": {
      "text/plain": [
       "165.0"
      ]
     },
     "execution_count": 82,
     "metadata": {},
     "output_type": "execute_result"
    }
   ],
   "source": [
    "min(ICFES_20['promepuntaje'])"
   ]
  },
  {
   "cell_type": "markdown",
   "id": "1c8f8ace-73ec-43d2-abcf-950aa916c99c",
   "metadata": {},
   "source": [
    "## numeroestudian"
   ]
  },
  {
   "cell_type": "code",
   "execution_count": 83,
   "id": "f1cadc35-e743-4c44-af1b-390b8cb92dba",
   "metadata": {},
   "outputs": [
    {
     "data": {
      "text/plain": [
       "array([ 33,  37,  59,  61,  14,  36,  63,  53,  54, 106, 118,  55,  48,\n",
       "        46,  52,  49, 116,  76, 140, 122,  60, 132,  23, 119, 130,  47,\n",
       "        43,  34,  15,  71,  70, 157,  73,  21,  39,  45,  89,  28,  19,\n",
       "        44,  35,  13,  42,  11,  58,  22, 103,  51,  26,  79,  41,  77,\n",
       "        72,   6,   1,  20,  25,  50,  24,  64,  16,  40,  10,  86,  31,\n",
       "        27,  30, 102,  80,  66, 214,  96,  32,  12,  75,   9,  57, 161,\n",
       "        65,   7,  17,  29,  84, 105, 104,  74,  18,  81,  69,  38, 111,\n",
       "        97, 114,  94,  62, 108, 107, 136, 139, 110,   3,   5,  56,  95,\n",
       "         2, 147], dtype=int64)"
      ]
     },
     "execution_count": 83,
     "metadata": {},
     "output_type": "execute_result"
    }
   ],
   "source": [
    "ICFES_20['numeroestudia'].unique()"
   ]
  },
  {
   "cell_type": "code",
   "execution_count": 84,
   "id": "d28e9f76-7ba4-45a9-9e0f-dee792671a46",
   "metadata": {},
   "outputs": [
    {
     "data": {
      "text/plain": [
       "False    388\n",
       "Name: numeroestudia, dtype: int64"
      ]
     },
     "execution_count": 84,
     "metadata": {},
     "output_type": "execute_result"
    }
   ],
   "source": [
    "np.isnan(ICFES_20['numeroestudia']).value_counts()"
   ]
  },
  {
   "cell_type": "code",
   "execution_count": 85,
   "id": "1c95f21a-66f7-4db0-b17c-0259a83395b7",
   "metadata": {},
   "outputs": [
    {
     "data": {
      "text/plain": [
       "False    388\n",
       "Name: numeroestudia, dtype: int64"
      ]
     },
     "execution_count": 85,
     "metadata": {},
     "output_type": "execute_result"
    }
   ],
   "source": [
    "np.isinf(ICFES_20['numeroestudia']).value_counts()"
   ]
  },
  {
   "cell_type": "code",
   "execution_count": 86,
   "id": "4181be02-99a3-4078-ab28-1f93364efc33",
   "metadata": {},
   "outputs": [
    {
     "data": {
      "text/plain": [
       "214"
      ]
     },
     "execution_count": 86,
     "metadata": {},
     "output_type": "execute_result"
    }
   ],
   "source": [
    "max(ICFES_20['numeroestudia']) #uint8"
   ]
  },
  {
   "cell_type": "code",
   "execution_count": 87,
   "id": "67d3b6d0-fdd0-4e6a-957e-6e67db70f273",
   "metadata": {},
   "outputs": [
    {
     "data": {
      "text/plain": [
       "1"
      ]
     },
     "execution_count": 87,
     "metadata": {},
     "output_type": "execute_result"
    }
   ],
   "source": [
    "min(ICFES_20['numeroestudia'])"
   ]
  },
  {
   "cell_type": "code",
   "execution_count": 88,
   "id": "ad18021f-6dff-4559-9afe-e1064359789b",
   "metadata": {},
   "outputs": [],
   "source": [
    "ICFES_20.rename(columns = {'numeroestudia': 'num_presentaron_ICFES'}, inplace = True)"
   ]
  },
  {
   "cell_type": "code",
   "execution_count": 89,
   "id": "dc2d988d-0c17-484a-b078-5046fae3cd2b",
   "metadata": {},
   "outputs": [
    {
     "data": {
      "text/plain": [
       "Index(['COD_DANE', 'promepuntaje', 'num_presentaron_ICFES'], dtype='object')"
      ]
     },
     "execution_count": 89,
     "metadata": {},
     "output_type": "execute_result"
    }
   ],
   "source": [
    "ICFES_20.columns"
   ]
  },
  {
   "cell_type": "code",
   "execution_count": 90,
   "id": "d221136a-ffc1-4202-b611-37f0150ba88a",
   "metadata": {},
   "outputs": [],
   "source": [
    "ICFES_20.rename(columns = {'COD_DANE': 'CODIGO_DANE'}, inplace = True)"
   ]
  },
  {
   "cell_type": "code",
   "execution_count": 91,
   "id": "3921f88d-9548-4e98-8b4c-3a6278fcdb50",
   "metadata": {},
   "outputs": [],
   "source": [
    "merge_2020_final = pd.merge(merge_c_600, ICFES_20)"
   ]
  },
  {
   "cell_type": "code",
   "execution_count": 92,
   "id": "44ca32ee-9d0c-434c-931d-0d2e2c93d791",
   "metadata": {},
   "outputs": [
    {
     "data": {
      "text/plain": [
       "(457047, 130)"
      ]
     },
     "execution_count": 92,
     "metadata": {},
     "output_type": "execute_result"
    }
   ],
   "source": [
    "merge_2020_final.shape"
   ]
  },
  {
   "cell_type": "code",
   "execution_count": 93,
   "id": "028edb79-48dc-4c49-b284-38db15be2915",
   "metadata": {},
   "outputs": [
    {
     "data": {
      "text/plain": [
       "0    0.958505\n",
       "1    0.041495\n",
       "Name: REPITENTE, dtype: float64"
      ]
     },
     "execution_count": 93,
     "metadata": {},
     "output_type": "execute_result"
    }
   ],
   "source": [
    "merge_2020_final.REPITENTE.value_counts() / (merge_2020_final.shape[0])"
   ]
  },
  {
   "cell_type": "code",
   "execution_count": 94,
   "id": "c73c4823-b5ef-416a-9ecc-c4f7b996a977",
   "metadata": {},
   "outputs": [],
   "source": [
    "merge_2020_final.to_csv('data/3-oro/Merge_2020_ICFES_C600.csv')"
   ]
  },
  {
   "cell_type": "code",
   "execution_count": null,
   "id": "8d1b818b-2b96-40e1-baf6-71cc3aa22f0c",
   "metadata": {},
   "outputs": [],
   "source": []
  },
  {
   "cell_type": "markdown",
   "id": "3709ace9-0909-476c-b419-7454a85a5046",
   "metadata": {},
   "source": [
    "### Super Merge 2019"
   ]
  },
  {
   "cell_type": "code",
   "execution_count": 20,
   "id": "11689efc-14b0-48a2-8f92-2d26bfefad54",
   "metadata": {},
   "outputs": [
    {
     "data": {
      "text/plain": [
       "(479536, 120)"
      ]
     },
     "execution_count": 20,
     "metadata": {},
     "output_type": "execute_result"
    }
   ],
   "source": [
    "super_merge_2019.shape"
   ]
  },
  {
   "cell_type": "code",
   "execution_count": 21,
   "id": "3350708c-83f2-4d46-92fe-431a56eb0bc0",
   "metadata": {},
   "outputs": [],
   "source": [
    "c_600_19 = pd.read_csv('data/2-plata/C600_DATA_2019.csv', index_col = 0)"
   ]
  },
  {
   "cell_type": "code",
   "execution_count": 22,
   "id": "0a754481-b333-479a-95fb-e0021d998b2b",
   "metadata": {},
   "outputs": [
    {
     "data": {
      "text/html": [
       "<div>\n",
       "<style scoped>\n",
       "    .dataframe tbody tr th:only-of-type {\n",
       "        vertical-align: middle;\n",
       "    }\n",
       "\n",
       "    .dataframe tbody tr th {\n",
       "        vertical-align: top;\n",
       "    }\n",
       "\n",
       "    .dataframe thead th {\n",
       "        text-align: right;\n",
       "    }\n",
       "</style>\n",
       "<table border=\"1\" class=\"dataframe\">\n",
       "  <thead>\n",
       "    <tr style=\"text-align: right;\">\n",
       "      <th></th>\n",
       "      <th>SEDE_CODIGO</th>\n",
       "      <th>ES_BILINGUE</th>\n",
       "      <th>TOTAL_DOCENTES</th>\n",
       "      <th>TOTAL_ALUMNOS</th>\n",
       "      <th>TOTAL_EQUIPO_COMPUTO</th>\n",
       "      <th>ALUMN_POR_DOCENTE</th>\n",
       "      <th>COMPU_POR_ALUMN</th>\n",
       "      <th>TOTAL_DOCENTES_CON_TITULO</th>\n",
       "      <th>PROP_DOCENTES_CON_TITULO</th>\n",
       "    </tr>\n",
       "  </thead>\n",
       "  <tbody>\n",
       "    <tr>\n",
       "      <th>1</th>\n",
       "      <td>111001000078</td>\n",
       "      <td>NO</td>\n",
       "      <td>29</td>\n",
       "      <td>561</td>\n",
       "      <td>319</td>\n",
       "      <td>19.344828</td>\n",
       "      <td>0.568627</td>\n",
       "      <td>28</td>\n",
       "      <td>0.965517</td>\n",
       "    </tr>\n",
       "    <tr>\n",
       "      <th>2</th>\n",
       "      <td>111001000124</td>\n",
       "      <td>NO</td>\n",
       "      <td>88</td>\n",
       "      <td>1297</td>\n",
       "      <td>40</td>\n",
       "      <td>14.738636</td>\n",
       "      <td>0.030840</td>\n",
       "      <td>27</td>\n",
       "      <td>0.306818</td>\n",
       "    </tr>\n",
       "    <tr>\n",
       "      <th>3</th>\n",
       "      <td>111001000132</td>\n",
       "      <td>NO</td>\n",
       "      <td>116</td>\n",
       "      <td>2992</td>\n",
       "      <td>347</td>\n",
       "      <td>25.793103</td>\n",
       "      <td>0.115976</td>\n",
       "      <td>97</td>\n",
       "      <td>0.836207</td>\n",
       "    </tr>\n",
       "    <tr>\n",
       "      <th>4</th>\n",
       "      <td>111001000213</td>\n",
       "      <td>NO</td>\n",
       "      <td>13</td>\n",
       "      <td>296</td>\n",
       "      <td>46</td>\n",
       "      <td>22.769231</td>\n",
       "      <td>0.155405</td>\n",
       "      <td>13</td>\n",
       "      <td>1.000000</td>\n",
       "    </tr>\n",
       "    <tr>\n",
       "      <th>5</th>\n",
       "      <td>111001000272</td>\n",
       "      <td>NO</td>\n",
       "      <td>108</td>\n",
       "      <td>1433</td>\n",
       "      <td>440</td>\n",
       "      <td>13.268519</td>\n",
       "      <td>0.307048</td>\n",
       "      <td>86</td>\n",
       "      <td>0.796296</td>\n",
       "    </tr>\n",
       "    <tr>\n",
       "      <th>...</th>\n",
       "      <td>...</td>\n",
       "      <td>...</td>\n",
       "      <td>...</td>\n",
       "      <td>...</td>\n",
       "      <td>...</td>\n",
       "      <td>...</td>\n",
       "      <td>...</td>\n",
       "      <td>...</td>\n",
       "      <td>...</td>\n",
       "    </tr>\n",
       "    <tr>\n",
       "      <th>747</th>\n",
       "      <td>311001100926</td>\n",
       "      <td>NO</td>\n",
       "      <td>6</td>\n",
       "      <td>104</td>\n",
       "      <td>67</td>\n",
       "      <td>17.333333</td>\n",
       "      <td>0.644231</td>\n",
       "      <td>0</td>\n",
       "      <td>0.000000</td>\n",
       "    </tr>\n",
       "    <tr>\n",
       "      <th>748</th>\n",
       "      <td>311001107629</td>\n",
       "      <td>NO</td>\n",
       "      <td>20</td>\n",
       "      <td>505</td>\n",
       "      <td>84</td>\n",
       "      <td>25.250000</td>\n",
       "      <td>0.166337</td>\n",
       "      <td>9</td>\n",
       "      <td>0.450000</td>\n",
       "    </tr>\n",
       "    <tr>\n",
       "      <th>749</th>\n",
       "      <td>311102000141</td>\n",
       "      <td>NO</td>\n",
       "      <td>148</td>\n",
       "      <td>2945</td>\n",
       "      <td>222</td>\n",
       "      <td>19.898649</td>\n",
       "      <td>0.075382</td>\n",
       "      <td>13</td>\n",
       "      <td>0.087838</td>\n",
       "    </tr>\n",
       "    <tr>\n",
       "      <th>750</th>\n",
       "      <td>311769001030</td>\n",
       "      <td>NO</td>\n",
       "      <td>24</td>\n",
       "      <td>487</td>\n",
       "      <td>25</td>\n",
       "      <td>20.291667</td>\n",
       "      <td>0.051335</td>\n",
       "      <td>1</td>\n",
       "      <td>0.041667</td>\n",
       "    </tr>\n",
       "    <tr>\n",
       "      <th>751</th>\n",
       "      <td>411102000293</td>\n",
       "      <td>NO</td>\n",
       "      <td>40</td>\n",
       "      <td>714</td>\n",
       "      <td>56</td>\n",
       "      <td>17.850000</td>\n",
       "      <td>0.078431</td>\n",
       "      <td>5</td>\n",
       "      <td>0.125000</td>\n",
       "    </tr>\n",
       "  </tbody>\n",
       "</table>\n",
       "<p>751 rows × 9 columns</p>\n",
       "</div>"
      ],
      "text/plain": [
       "      SEDE_CODIGO ES_BILINGUE  TOTAL_DOCENTES  TOTAL_ALUMNOS  \\\n",
       "1    111001000078          NO              29            561   \n",
       "2    111001000124          NO              88           1297   \n",
       "3    111001000132          NO             116           2992   \n",
       "4    111001000213          NO              13            296   \n",
       "5    111001000272          NO             108           1433   \n",
       "..            ...         ...             ...            ...   \n",
       "747  311001100926          NO               6            104   \n",
       "748  311001107629          NO              20            505   \n",
       "749  311102000141          NO             148           2945   \n",
       "750  311769001030          NO              24            487   \n",
       "751  411102000293          NO              40            714   \n",
       "\n",
       "     TOTAL_EQUIPO_COMPUTO  ALUMN_POR_DOCENTE  COMPU_POR_ALUMN  \\\n",
       "1                     319          19.344828         0.568627   \n",
       "2                      40          14.738636         0.030840   \n",
       "3                     347          25.793103         0.115976   \n",
       "4                      46          22.769231         0.155405   \n",
       "5                     440          13.268519         0.307048   \n",
       "..                    ...                ...              ...   \n",
       "747                    67          17.333333         0.644231   \n",
       "748                    84          25.250000         0.166337   \n",
       "749                   222          19.898649         0.075382   \n",
       "750                    25          20.291667         0.051335   \n",
       "751                    56          17.850000         0.078431   \n",
       "\n",
       "     TOTAL_DOCENTES_CON_TITULO  PROP_DOCENTES_CON_TITULO  \n",
       "1                           28                  0.965517  \n",
       "2                           27                  0.306818  \n",
       "3                           97                  0.836207  \n",
       "4                           13                  1.000000  \n",
       "5                           86                  0.796296  \n",
       "..                         ...                       ...  \n",
       "747                          0                  0.000000  \n",
       "748                          9                  0.450000  \n",
       "749                         13                  0.087838  \n",
       "750                          1                  0.041667  \n",
       "751                          5                  0.125000  \n",
       "\n",
       "[751 rows x 9 columns]"
      ]
     },
     "execution_count": 22,
     "metadata": {},
     "output_type": "execute_result"
    }
   ],
   "source": [
    "c_600_19\n"
   ]
  },
  {
   "cell_type": "code",
   "execution_count": 23,
   "id": "768158ff-f8d1-4f04-8568-d678e073402a",
   "metadata": {},
   "outputs": [],
   "source": [
    "def dict_bool(x):\n",
    "    if x['ES_BILINGUE'] == 'NO':\n",
    "        valor = 0\n",
    "    else:\n",
    "        valor = 1\n",
    "    return valor"
   ]
  },
  {
   "cell_type": "code",
   "execution_count": 25,
   "id": "51159211-4cd4-417a-8823-d95665242277",
   "metadata": {},
   "outputs": [
    {
     "data": {
      "text/plain": [
       "array(['NO', 'S�'], dtype=object)"
      ]
     },
     "execution_count": 25,
     "metadata": {},
     "output_type": "execute_result"
    }
   ],
   "source": [
    "c_600_19['ES_BILINGUE'].unique()"
   ]
  },
  {
   "cell_type": "code",
   "execution_count": 27,
   "id": "5c01bc70-afab-4d7b-9167-d2c5cb12e795",
   "metadata": {},
   "outputs": [
    {
     "data": {
      "text/plain": [
       "47     S�\n",
       "300    S�\n",
       "342    S�\n",
       "375    S�\n",
       "492    S�\n",
       "493    S�\n",
       "530    S�\n",
       "537    S�\n",
       "541    S�\n",
       "558    S�\n",
       "562    S�\n",
       "595    S�\n",
       "596    S�\n",
       "608    S�\n",
       "669    S�\n",
       "742    S�\n",
       "Name: ES_BILINGUE, dtype: object"
      ]
     },
     "execution_count": 27,
     "metadata": {},
     "output_type": "execute_result"
    }
   ],
   "source": [
    "c_600_19['ES_BILINGUE'][c_600_19['ES_BILINGUE'] != 'NO']"
   ]
  },
  {
   "cell_type": "code",
   "execution_count": 28,
   "id": "448344ab-1ee2-4dea-9bd4-7b0698d58123",
   "metadata": {},
   "outputs": [],
   "source": [
    "c_600_19['ES_BILINGUE'] = c_600_19[['SEDE_CODIGO', 'ES_BILINGUE']].apply(dict_bool, axis = 1)"
   ]
  },
  {
   "cell_type": "code",
   "execution_count": 29,
   "id": "03ed7797-7074-4a35-a844-f07f70578779",
   "metadata": {},
   "outputs": [
    {
     "data": {
      "text/plain": [
       "47     1\n",
       "300    1\n",
       "342    1\n",
       "375    1\n",
       "492    1\n",
       "493    1\n",
       "530    1\n",
       "537    1\n",
       "541    1\n",
       "558    1\n",
       "562    1\n",
       "595    1\n",
       "596    1\n",
       "608    1\n",
       "669    1\n",
       "742    1\n",
       "Name: ES_BILINGUE, dtype: int64"
      ]
     },
     "execution_count": 29,
     "metadata": {},
     "output_type": "execute_result"
    }
   ],
   "source": [
    "c_600_19['ES_BILINGUE'][c_600_19['ES_BILINGUE'] != 0] "
   ]
  },
  {
   "cell_type": "code",
   "execution_count": 32,
   "id": "651a1572-c507-4e57-8645-d8b5e3192402",
   "metadata": {},
   "outputs": [
    {
     "name": "stdout",
     "output_type": "stream",
     "text": [
      "False    751\n",
      "Name: TOTAL_DOCENTES, dtype: int64 TOTAL_DOCENTES\n",
      "False    751\n",
      "Name: TOTAL_DOCENTES, dtype: int64 TOTAL_DOCENTES\n",
      "max 261 min 1 TOTAL_DOCENTES\n",
      "-------------------------------\n",
      "False    751\n",
      "Name: TOTAL_ALUMNOS, dtype: int64 TOTAL_ALUMNOS\n",
      "False    751\n",
      "Name: TOTAL_ALUMNOS, dtype: int64 TOTAL_ALUMNOS\n",
      "max 6637 min 4 TOTAL_ALUMNOS\n",
      "-------------------------------\n",
      "False    751\n",
      "Name: TOTAL_EQUIPO_COMPUTO, dtype: int64 TOTAL_EQUIPO_COMPUTO\n",
      "False    751\n",
      "Name: TOTAL_EQUIPO_COMPUTO, dtype: int64 TOTAL_EQUIPO_COMPUTO\n",
      "max 1171 min 0 TOTAL_EQUIPO_COMPUTO\n",
      "-------------------------------\n",
      "False    751\n",
      "Name: ALUMN_POR_DOCENTE, dtype: int64 ALUMN_POR_DOCENTE\n",
      "False    751\n",
      "Name: ALUMN_POR_DOCENTE, dtype: int64 ALUMN_POR_DOCENTE\n",
      "max 44.7894736842105 min 2.5 ALUMN_POR_DOCENTE\n",
      "-------------------------------\n",
      "False    751\n",
      "Name: COMPU_POR_ALUMN, dtype: int64 COMPU_POR_ALUMN\n",
      "False    751\n",
      "Name: COMPU_POR_ALUMN, dtype: int64 COMPU_POR_ALUMN\n",
      "max 5.6 min 0.0 COMPU_POR_ALUMN\n",
      "-------------------------------\n",
      "False    751\n",
      "Name: TOTAL_DOCENTES_CON_TITULO, dtype: int64 TOTAL_DOCENTES_CON_TITULO\n",
      "False    751\n",
      "Name: TOTAL_DOCENTES_CON_TITULO, dtype: int64 TOTAL_DOCENTES_CON_TITULO\n",
      "max 192 min 0 TOTAL_DOCENTES_CON_TITULO\n",
      "-------------------------------\n",
      "False    751\n",
      "Name: PROP_DOCENTES_CON_TITULO, dtype: int64 PROP_DOCENTES_CON_TITULO\n",
      "False    751\n",
      "Name: PROP_DOCENTES_CON_TITULO, dtype: int64 PROP_DOCENTES_CON_TITULO\n",
      "max 1.0 min 0.0 PROP_DOCENTES_CON_TITULO\n",
      "-------------------------------\n"
     ]
    }
   ],
   "source": [
    "for x in c_600_19.columns[2:]:\n",
    "    print(np.isinf(c_600_19[x]).value_counts() , x)\n",
    "    print( np.isnan(c_600_19[x]).value_counts(), x)\n",
    "    print('max', max(c_600_19[x]), 'min',min(c_600_19[x]), x)\n",
    "    print('-------------------------------')"
   ]
  },
  {
   "cell_type": "code",
   "execution_count": 33,
   "id": "74fa24cc-9f3b-4b80-9180-c7611d6515ec",
   "metadata": {},
   "outputs": [],
   "source": [
    "c_600_19.rename(columns = {'SEDE_CODIGO': 'CODIGO_DANE_SEDE'}, inplace = True)"
   ]
  },
  {
   "cell_type": "code",
   "execution_count": 34,
   "id": "662b7186-72f1-4859-9abc-4b1401437a08",
   "metadata": {},
   "outputs": [],
   "source": [
    "merge_c_600 = pd.merge(super_merge_2019, c_600_19)"
   ]
  },
  {
   "cell_type": "code",
   "execution_count": 35,
   "id": "1ac67e0b-54d8-4218-a335-b0654b205016",
   "metadata": {},
   "outputs": [
    {
     "data": {
      "text/plain": [
       "(478099, 128)"
      ]
     },
     "execution_count": 35,
     "metadata": {},
     "output_type": "execute_result"
    }
   ],
   "source": [
    "merge_c_600.shape"
   ]
  },
  {
   "cell_type": "markdown",
   "id": "6a5abffd-a848-4329-96ec-795eebca7617",
   "metadata": {},
   "source": [
    "### ICFES"
   ]
  },
  {
   "cell_type": "code",
   "execution_count": 36,
   "id": "1995c5f7-91e1-426c-b0eb-2da40370a2cb",
   "metadata": {},
   "outputs": [],
   "source": [
    "ICFES_19 = pd.read_csv('data/2-plata/Puntaje2019.csv' , index_col=0)"
   ]
  },
  {
   "cell_type": "code",
   "execution_count": 37,
   "id": "f3d29741-ba6e-4f33-9051-080f6030dbe4",
   "metadata": {},
   "outputs": [
    {
     "data": {
      "text/html": [
       "<div>\n",
       "<style scoped>\n",
       "    .dataframe tbody tr th:only-of-type {\n",
       "        vertical-align: middle;\n",
       "    }\n",
       "\n",
       "    .dataframe tbody tr th {\n",
       "        vertical-align: top;\n",
       "    }\n",
       "\n",
       "    .dataframe thead th {\n",
       "        text-align: right;\n",
       "    }\n",
       "</style>\n",
       "<table border=\"1\" class=\"dataframe\">\n",
       "  <thead>\n",
       "    <tr style=\"text-align: right;\">\n",
       "      <th></th>\n",
       "      <th>COD_DANE</th>\n",
       "      <th>promepuntaje</th>\n",
       "      <th>numeroestudia</th>\n",
       "    </tr>\n",
       "  </thead>\n",
       "  <tbody>\n",
       "    <tr>\n",
       "      <th>1</th>\n",
       "      <td>111001000078</td>\n",
       "      <td>265.478873</td>\n",
       "      <td>71</td>\n",
       "    </tr>\n",
       "    <tr>\n",
       "      <th>2</th>\n",
       "      <td>111001000124</td>\n",
       "      <td>267.538462</td>\n",
       "      <td>52</td>\n",
       "    </tr>\n",
       "    <tr>\n",
       "      <th>3</th>\n",
       "      <td>111001000132</td>\n",
       "      <td>252.704082</td>\n",
       "      <td>98</td>\n",
       "    </tr>\n",
       "    <tr>\n",
       "      <th>4</th>\n",
       "      <td>111001000272</td>\n",
       "      <td>276.765306</td>\n",
       "      <td>98</td>\n",
       "    </tr>\n",
       "    <tr>\n",
       "      <th>5</th>\n",
       "      <td>111001000612</td>\n",
       "      <td>307.555556</td>\n",
       "      <td>27</td>\n",
       "    </tr>\n",
       "  </tbody>\n",
       "</table>\n",
       "</div>"
      ],
      "text/plain": [
       "       COD_DANE  promepuntaje  numeroestudia\n",
       "1  111001000078    265.478873             71\n",
       "2  111001000124    267.538462             52\n",
       "3  111001000132    252.704082             98\n",
       "4  111001000272    276.765306             98\n",
       "5  111001000612    307.555556             27"
      ]
     },
     "execution_count": 37,
     "metadata": {},
     "output_type": "execute_result"
    }
   ],
   "source": [
    "ICFES_19.head()"
   ]
  },
  {
   "cell_type": "code",
   "execution_count": 38,
   "id": "84166467-d5d1-4046-9931-86c599551f29",
   "metadata": {},
   "outputs": [
    {
     "name": "stdout",
     "output_type": "stream",
     "text": [
      "False    385\n",
      "Name: promepuntaje, dtype: int64 promepuntaje\n",
      "False    385\n",
      "Name: promepuntaje, dtype: int64 promepuntaje\n",
      "max 324.5 min 207.913043478261 promepuntaje\n",
      "-------------------------------\n",
      "False    385\n",
      "Name: numeroestudia, dtype: int64 numeroestudia\n",
      "False    385\n",
      "Name: numeroestudia, dtype: int64 numeroestudia\n",
      "max 328 min 4 numeroestudia\n",
      "-------------------------------\n"
     ]
    }
   ],
   "source": [
    "for x in ICFES_19.columns[1:]:\n",
    "    print(np.isinf(ICFES_19[x]).value_counts() , x)\n",
    "    print( np.isnan(ICFES_19[x]).value_counts(), x)\n",
    "    print('max', max(ICFES_19[x]), 'min', min(ICFES_19[x]), x)\n",
    "    print('-------------------------------')"
   ]
  },
  {
   "cell_type": "code",
   "execution_count": 39,
   "id": "5979c8f1-80b8-4935-aa4f-cdb187a9da38",
   "metadata": {},
   "outputs": [],
   "source": [
    "ICFES_19.rename(columns = {'numeroestudia': 'num_presentaron_ICFES'}, inplace = True)"
   ]
  },
  {
   "cell_type": "code",
   "execution_count": 40,
   "id": "3509f701-d3d4-48c2-9e8a-895bedb3a6df",
   "metadata": {},
   "outputs": [],
   "source": [
    "ICFES_19.rename(columns = {'COD_DANE': 'CODIGO_DANE'}, inplace = True)"
   ]
  },
  {
   "cell_type": "code",
   "execution_count": 41,
   "id": "6632ab29-82cd-42a0-8d5b-1e99b9d0f00e",
   "metadata": {},
   "outputs": [],
   "source": [
    "merge_2019_final = pd.merge(merge_c_600, ICFES_19)"
   ]
  },
  {
   "cell_type": "code",
   "execution_count": 43,
   "id": "b6618454-32f1-4a23-9dee-1b16fb2480f6",
   "metadata": {},
   "outputs": [
    {
     "data": {
      "text/plain": [
       "(467110, 130)"
      ]
     },
     "execution_count": 43,
     "metadata": {},
     "output_type": "execute_result"
    }
   ],
   "source": [
    "merge_2019_final.shape"
   ]
  },
  {
   "cell_type": "code",
   "execution_count": 45,
   "id": "abdf30af-799d-4cc9-b482-f1e46139623f",
   "metadata": {},
   "outputs": [],
   "source": [
    "merge_2019_final.to_csv('data/3-oro/Merge_2019_ICFES_C600.csv')"
   ]
  },
  {
   "cell_type": "code",
   "execution_count": null,
   "id": "fd0f8a42-c821-40e7-83d0-eba24ea125cf",
   "metadata": {},
   "outputs": [],
   "source": []
  },
  {
   "cell_type": "markdown",
   "id": "8f02fe07-c9c5-418f-a4d8-b2012c418c17",
   "metadata": {},
   "source": [
    "### Concat"
   ]
  },
  {
   "cell_type": "code",
   "execution_count": 44,
   "id": "e74aec44-8587-4f4c-9111-af356145d856",
   "metadata": {},
   "outputs": [],
   "source": [
    "merge_2020 =  pd.read_csv('data/3-oro/Merge_2020_ICFES_C600.csv' , index_col=0, dtype = dict_tipos)"
   ]
  },
  {
   "cell_type": "code",
   "execution_count": 48,
   "id": "dbc267b0-8298-4f0a-9c92-b546254f5df0",
   "metadata": {},
   "outputs": [],
   "source": [
    "lista1 =  merge_2019_final.columns.to_list()\n",
    "lista2 = merge_2020.columns.to_list()"
   ]
  },
  {
   "cell_type": "code",
   "execution_count": 49,
   "id": "5ad0f702-04d3-4605-90c4-dddbeb038bde",
   "metadata": {},
   "outputs": [
    {
     "data": {
      "text/plain": [
       "True"
      ]
     },
     "execution_count": 49,
     "metadata": {},
     "output_type": "execute_result"
    }
   ],
   "source": [
    "lista1 == lista2"
   ]
  },
  {
   "cell_type": "code",
   "execution_count": 50,
   "id": "9548f185-4e91-46b8-8d58-2c1ac2b0c732",
   "metadata": {},
   "outputs": [],
   "source": [
    "concat_2019_20 = pd.concat([merge_2019_final, merge_2020], axis=0)"
   ]
  },
  {
   "cell_type": "code",
   "execution_count": 51,
   "id": "1555350a-3197-4167-8f07-0a973f44bb96",
   "metadata": {},
   "outputs": [
    {
     "data": {
      "text/plain": [
       "(467110, 130)"
      ]
     },
     "execution_count": 51,
     "metadata": {},
     "output_type": "execute_result"
    }
   ],
   "source": [
    "merge_2019_final.shape"
   ]
  },
  {
   "cell_type": "code",
   "execution_count": 52,
   "id": "c9841c2b-d239-446e-badd-7e577c7cc616",
   "metadata": {},
   "outputs": [
    {
     "data": {
      "text/plain": [
       "(457047, 130)"
      ]
     },
     "execution_count": 52,
     "metadata": {},
     "output_type": "execute_result"
    }
   ],
   "source": [
    "merge_2020.shape"
   ]
  },
  {
   "cell_type": "code",
   "execution_count": 53,
   "id": "9e053bfc-6084-4976-a602-c51374c4e670",
   "metadata": {},
   "outputs": [
    {
     "data": {
      "text/plain": [
       "(924157, 130)"
      ]
     },
     "execution_count": 53,
     "metadata": {},
     "output_type": "execute_result"
    }
   ],
   "source": [
    "concat_2019_20.shape"
   ]
  },
  {
   "cell_type": "code",
   "execution_count": 55,
   "id": "78ffa329-0133-47a6-b5a9-d29b41e1e2d7",
   "metadata": {},
   "outputs": [
    {
     "data": {
      "text/html": [
       "<div>\n",
       "<style scoped>\n",
       "    .dataframe tbody tr th:only-of-type {\n",
       "        vertical-align: middle;\n",
       "    }\n",
       "\n",
       "    .dataframe tbody tr th {\n",
       "        vertical-align: top;\n",
       "    }\n",
       "\n",
       "    .dataframe thead th {\n",
       "        text-align: right;\n",
       "    }\n",
       "</style>\n",
       "<table border=\"1\" class=\"dataframe\">\n",
       "  <thead>\n",
       "    <tr style=\"text-align: right;\">\n",
       "      <th></th>\n",
       "      <th>ANO_INF</th>\n",
       "      <th>CODIGO_DANE</th>\n",
       "      <th>CODIGO_DANE_SEDE</th>\n",
       "      <th>TIPO_DOCUMENTO</th>\n",
       "      <th>NRO_DOCUMENTO</th>\n",
       "      <th>DIRECCION_RESIDENCIA</th>\n",
       "      <th>RES_DEPTO</th>\n",
       "      <th>RES_MUN</th>\n",
       "      <th>ESTRATO</th>\n",
       "      <th>SISBEN</th>\n",
       "      <th>FECHA_NACIMIENTO</th>\n",
       "      <th>GENERO</th>\n",
       "      <th>POB_VICT_CONF</th>\n",
       "      <th>PROVIENE_SECTOR_PRIV</th>\n",
       "      <th>PROVIENE_OTR_MUN</th>\n",
       "      <th>TIPO_DISCAPACIDAD</th>\n",
       "      <th>CAP_EXC</th>\n",
       "      <th>CODIGO_ETNIA</th>\n",
       "      <th>CODIGO_JORNADA</th>\n",
       "      <th>CARACTER</th>\n",
       "      <th>CODIGO_ESPECIALIDAD</th>\n",
       "      <th>CODIGO_GRADO</th>\n",
       "      <th>CODIGO_METODOLOGIA</th>\n",
       "      <th>REPITENTE</th>\n",
       "      <th>SIT_ACAD_ANIO_ANT</th>\n",
       "      <th>CON_ALUM_ANIO_ANT</th>\n",
       "      <th>ZONA_RESI_ALU</th>\n",
       "      <th>EDAD</th>\n",
       "      <th>NIVEL</th>\n",
       "      <th>DIR_NUM_LOCALIDAD</th>\n",
       "      <th>NIVEL_SISBEN</th>\n",
       "      <th>GRADO_OVERAGE</th>\n",
       "      <th>OVERAGE</th>\n",
       "      <th>ficha</th>\n",
       "      <th>comuna</th>\n",
       "      <th>barrio</th>\n",
       "      <th>nombarrio</th>\n",
       "      <th>direcc</th>\n",
       "      <th>vereda</th>\n",
       "      <th>nomvereda</th>\n",
       "      <th>vivienda</th>\n",
       "      <th>pared</th>\n",
       "      <th>piso</th>\n",
       "      <th>energia</th>\n",
       "      <th>alcanta</th>\n",
       "      <th>gas</th>\n",
       "      <th>telefono</th>\n",
       "      <th>basura</th>\n",
       "      <th>acueduc</th>\n",
       "      <th>estrato</th>\n",
       "      <th>elimbasura</th>\n",
       "      <th>tcuartosvi</th>\n",
       "      <th>thogar</th>\n",
       "      <th>recolec</th>\n",
       "      <th>tipdir</th>\n",
       "      <th>verifica</th>\n",
       "      <th>hogar</th>\n",
       "      <th>teneviv</th>\n",
       "      <th>tcuartos</th>\n",
       "      <th>tdormir</th>\n",
       "      <th>sanitar</th>\n",
       "      <th>usanitar</th>\n",
       "      <th>usosani</th>\n",
       "      <th>tsanitar</th>\n",
       "      <th>ducha</th>\n",
       "      <th>agua</th>\n",
       "      <th>llega</th>\n",
       "      <th>cuandi</th>\n",
       "      <th>suminis</th>\n",
       "      <th>cuanhoras</th>\n",
       "      <th>preparan</th>\n",
       "      <th>cocina</th>\n",
       "      <th>cocinan</th>\n",
       "      <th>alumbra</th>\n",
       "      <th>usotele</th>\n",
       "      <th>nevera</th>\n",
       "      <th>lavadora</th>\n",
       "      <th>tvcolor</th>\n",
       "      <th>tvcable</th>\n",
       "      <th>calenta</th>\n",
       "      <th>horno</th>\n",
       "      <th>aire</th>\n",
       "      <th>computador</th>\n",
       "      <th>equipo</th>\n",
       "      <th>moto</th>\n",
       "      <th>tractor</th>\n",
       "      <th>tiene_auto</th>\n",
       "      <th>bieraices</th>\n",
       "      <th>tpersona</th>\n",
       "      <th>informan</th>\n",
       "      <th>orden</th>\n",
       "      <th>nucleo</th>\n",
       "      <th>parentes</th>\n",
       "      <th>tipodoc</th>\n",
       "      <th>sexo</th>\n",
       "      <th>estcivil</th>\n",
       "      <th>discapa</th>\n",
       "      <th>carnet</th>\n",
       "      <th>asiste</th>\n",
       "      <th>tipoesta</th>\n",
       "      <th>grado</th>\n",
       "      <th>nivel</th>\n",
       "      <th>activi</th>\n",
       "      <th>buscando</th>\n",
       "      <th>ingresos</th>\n",
       "      <th>edad</th>\n",
       "      <th>conyuvive</th>\n",
       "      <th>hijosde</th>\n",
       "      <th>embaraza</th>\n",
       "      <th>extranjero</th>\n",
       "      <th>pagapor</th>\n",
       "      <th>percibe</th>\n",
       "      <th>serdomes</th>\n",
       "      <th>unigasto</th>\n",
       "      <th>area</th>\n",
       "      <th>nparentes</th>\n",
       "      <th>puntaje_sisben_3</th>\n",
       "      <th>nivel_hacinamiento</th>\n",
       "      <th>todos_servicios_Pub</th>\n",
       "      <th>indice_hacinamiento</th>\n",
       "      <th>ES_BILINGUE</th>\n",
       "      <th>TOTAL_DOCENTES</th>\n",
       "      <th>TOTAL_ALUMNOS</th>\n",
       "      <th>TOTAL_EQUIPO_COMPUTO</th>\n",
       "      <th>ALUMN_POR_DOCENTE</th>\n",
       "      <th>COMPU_POR_ALUMN</th>\n",
       "      <th>TOTAL_DOCENTES_CON_TITULO</th>\n",
       "      <th>PROP_DOCENTES_CON_TITULO</th>\n",
       "      <th>promepuntaje</th>\n",
       "      <th>num_presentaron_ICFES</th>\n",
       "    </tr>\n",
       "  </thead>\n",
       "  <tbody>\n",
       "    <tr>\n",
       "      <th>0</th>\n",
       "      <td>2019</td>\n",
       "      <td>111001000078</td>\n",
       "      <td>111001000078</td>\n",
       "      <td>5</td>\n",
       "      <td>1000003730</td>\n",
       "      <td>CR 51 D # 35 SUR - 45</td>\n",
       "      <td>11</td>\n",
       "      <td>1</td>\n",
       "      <td>3</td>\n",
       "      <td>43.0</td>\n",
       "      <td>2002-04-23</td>\n",
       "      <td>0</td>\n",
       "      <td>99</td>\n",
       "      <td>0</td>\n",
       "      <td>0</td>\n",
       "      <td>0</td>\n",
       "      <td>9</td>\n",
       "      <td>0</td>\n",
       "      <td>6</td>\n",
       "      <td>1</td>\n",
       "      <td>5</td>\n",
       "      <td>11</td>\n",
       "      <td>1</td>\n",
       "      <td>0</td>\n",
       "      <td>1</td>\n",
       "      <td>9</td>\n",
       "      <td>1</td>\n",
       "      <td>16</td>\n",
       "      <td>4</td>\n",
       "      <td>16</td>\n",
       "      <td>1</td>\n",
       "      <td>100</td>\n",
       "      <td>0</td>\n",
       "      <td>4385957</td>\n",
       "      <td>16</td>\n",
       "      <td>4407</td>\n",
       "      <td>ALCALA</td>\n",
       "      <td>CL 36 SUR 51 04 PI 2 AP 202</td>\n",
       "      <td>0</td>\n",
       "      <td>BARRIO ZONA URBANA</td>\n",
       "      <td>1</td>\n",
       "      <td>1</td>\n",
       "      <td>2</td>\n",
       "      <td>1</td>\n",
       "      <td>1</td>\n",
       "      <td>1</td>\n",
       "      <td>1</td>\n",
       "      <td>1</td>\n",
       "      <td>1</td>\n",
       "      <td>3</td>\n",
       "      <td>1</td>\n",
       "      <td>3</td>\n",
       "      <td>1</td>\n",
       "      <td>3</td>\n",
       "      <td>1</td>\n",
       "      <td>1</td>\n",
       "      <td>1</td>\n",
       "      <td>1</td>\n",
       "      <td>3</td>\n",
       "      <td>2</td>\n",
       "      <td>1</td>\n",
       "      <td>1</td>\n",
       "      <td>1</td>\n",
       "      <td>1</td>\n",
       "      <td>1</td>\n",
       "      <td>1</td>\n",
       "      <td>1</td>\n",
       "      <td>0</td>\n",
       "      <td>1</td>\n",
       "      <td>0</td>\n",
       "      <td>1</td>\n",
       "      <td>1</td>\n",
       "      <td>2</td>\n",
       "      <td>1</td>\n",
       "      <td>1</td>\n",
       "      <td>1</td>\n",
       "      <td>0</td>\n",
       "      <td>1</td>\n",
       "      <td>1</td>\n",
       "      <td>2</td>\n",
       "      <td>2</td>\n",
       "      <td>2</td>\n",
       "      <td>0</td>\n",
       "      <td>1</td>\n",
       "      <td>0</td>\n",
       "      <td>0</td>\n",
       "      <td>0</td>\n",
       "      <td>2</td>\n",
       "      <td>5</td>\n",
       "      <td>2</td>\n",
       "      <td>3</td>\n",
       "      <td>2</td>\n",
       "      <td>4</td>\n",
       "      <td>2</td>\n",
       "      <td>0</td>\n",
       "      <td>5</td>\n",
       "      <td>0</td>\n",
       "      <td>3</td>\n",
       "      <td>1</td>\n",
       "      <td>5</td>\n",
       "      <td>3</td>\n",
       "      <td>1</td>\n",
       "      <td>3</td>\n",
       "      <td>0</td>\n",
       "      <td>0</td>\n",
       "      <td>9</td>\n",
       "      <td>0</td>\n",
       "      <td>2</td>\n",
       "      <td>0</td>\n",
       "      <td>0</td>\n",
       "      <td>0</td>\n",
       "      <td>0</td>\n",
       "      <td>0</td>\n",
       "      <td>1</td>\n",
       "      <td>1</td>\n",
       "      <td>3</td>\n",
       "      <td>43.919998</td>\n",
       "      <td>Hacinamiento_medio</td>\n",
       "      <td>1</td>\n",
       "      <td>2.500000</td>\n",
       "      <td>0</td>\n",
       "      <td>29</td>\n",
       "      <td>561</td>\n",
       "      <td>319</td>\n",
       "      <td>19.344828</td>\n",
       "      <td>0.568627</td>\n",
       "      <td>28</td>\n",
       "      <td>0.965517</td>\n",
       "      <td>265.478873</td>\n",
       "      <td>71</td>\n",
       "    </tr>\n",
       "    <tr>\n",
       "      <th>1</th>\n",
       "      <td>2019</td>\n",
       "      <td>111001000078</td>\n",
       "      <td>111001000078</td>\n",
       "      <td>2</td>\n",
       "      <td>1000004716</td>\n",
       "      <td>CL 29 A SUR # 50 - 41 PL 2</td>\n",
       "      <td>11</td>\n",
       "      <td>1</td>\n",
       "      <td>3</td>\n",
       "      <td>29.0</td>\n",
       "      <td>2003-04-14</td>\n",
       "      <td>0</td>\n",
       "      <td>99</td>\n",
       "      <td>0</td>\n",
       "      <td>0</td>\n",
       "      <td>0</td>\n",
       "      <td>9</td>\n",
       "      <td>0</td>\n",
       "      <td>6</td>\n",
       "      <td>0</td>\n",
       "      <td>0</td>\n",
       "      <td>9</td>\n",
       "      <td>1</td>\n",
       "      <td>0</td>\n",
       "      <td>1</td>\n",
       "      <td>9</td>\n",
       "      <td>1</td>\n",
       "      <td>15</td>\n",
       "      <td>3</td>\n",
       "      <td>16</td>\n",
       "      <td>1</td>\n",
       "      <td>100</td>\n",
       "      <td>0</td>\n",
       "      <td>4304159</td>\n",
       "      <td>16</td>\n",
       "      <td>4407</td>\n",
       "      <td>ALCALA</td>\n",
       "      <td>CL  33 SUR  51 A  47 PI  1 CU  1</td>\n",
       "      <td>0</td>\n",
       "      <td>BARRIO ZONA URBANA</td>\n",
       "      <td>2</td>\n",
       "      <td>1</td>\n",
       "      <td>2</td>\n",
       "      <td>1</td>\n",
       "      <td>1</td>\n",
       "      <td>1</td>\n",
       "      <td>2</td>\n",
       "      <td>1</td>\n",
       "      <td>1</td>\n",
       "      <td>3</td>\n",
       "      <td>1</td>\n",
       "      <td>2</td>\n",
       "      <td>1</td>\n",
       "      <td>3</td>\n",
       "      <td>1</td>\n",
       "      <td>1</td>\n",
       "      <td>1</td>\n",
       "      <td>1</td>\n",
       "      <td>2</td>\n",
       "      <td>2</td>\n",
       "      <td>1</td>\n",
       "      <td>1</td>\n",
       "      <td>2</td>\n",
       "      <td>1</td>\n",
       "      <td>1</td>\n",
       "      <td>1</td>\n",
       "      <td>1</td>\n",
       "      <td>0</td>\n",
       "      <td>1</td>\n",
       "      <td>0</td>\n",
       "      <td>1</td>\n",
       "      <td>2</td>\n",
       "      <td>2</td>\n",
       "      <td>1</td>\n",
       "      <td>0</td>\n",
       "      <td>1</td>\n",
       "      <td>1</td>\n",
       "      <td>1</td>\n",
       "      <td>2</td>\n",
       "      <td>2</td>\n",
       "      <td>2</td>\n",
       "      <td>2</td>\n",
       "      <td>0</td>\n",
       "      <td>2</td>\n",
       "      <td>0</td>\n",
       "      <td>0</td>\n",
       "      <td>0</td>\n",
       "      <td>1</td>\n",
       "      <td>5</td>\n",
       "      <td>2</td>\n",
       "      <td>4</td>\n",
       "      <td>1</td>\n",
       "      <td>3</td>\n",
       "      <td>2</td>\n",
       "      <td>0</td>\n",
       "      <td>5</td>\n",
       "      <td>0</td>\n",
       "      <td>0</td>\n",
       "      <td>1</td>\n",
       "      <td>4</td>\n",
       "      <td>3</td>\n",
       "      <td>1</td>\n",
       "      <td>3</td>\n",
       "      <td>0</td>\n",
       "      <td>0</td>\n",
       "      <td>8</td>\n",
       "      <td>0</td>\n",
       "      <td>0</td>\n",
       "      <td>0</td>\n",
       "      <td>0</td>\n",
       "      <td>0</td>\n",
       "      <td>0</td>\n",
       "      <td>0</td>\n",
       "      <td>1</td>\n",
       "      <td>1</td>\n",
       "      <td>3</td>\n",
       "      <td>29.440001</td>\n",
       "      <td>Hacinamiento_medio</td>\n",
       "      <td>1</td>\n",
       "      <td>2.500000</td>\n",
       "      <td>0</td>\n",
       "      <td>29</td>\n",
       "      <td>561</td>\n",
       "      <td>319</td>\n",
       "      <td>19.344828</td>\n",
       "      <td>0.568627</td>\n",
       "      <td>28</td>\n",
       "      <td>0.965517</td>\n",
       "      <td>265.478873</td>\n",
       "      <td>71</td>\n",
       "    </tr>\n",
       "    <tr>\n",
       "      <th>2</th>\n",
       "      <td>2019</td>\n",
       "      <td>111001000078</td>\n",
       "      <td>111001000078</td>\n",
       "      <td>7</td>\n",
       "      <td>1000007657</td>\n",
       "      <td>CL 28 SUR # 51 F - 81</td>\n",
       "      <td>11</td>\n",
       "      <td>1</td>\n",
       "      <td>3</td>\n",
       "      <td>46.0</td>\n",
       "      <td>2003-04-25</td>\n",
       "      <td>0</td>\n",
       "      <td>99</td>\n",
       "      <td>0</td>\n",
       "      <td>0</td>\n",
       "      <td>0</td>\n",
       "      <td>9</td>\n",
       "      <td>0</td>\n",
       "      <td>6</td>\n",
       "      <td>1</td>\n",
       "      <td>5</td>\n",
       "      <td>11</td>\n",
       "      <td>1</td>\n",
       "      <td>0</td>\n",
       "      <td>1</td>\n",
       "      <td>9</td>\n",
       "      <td>1</td>\n",
       "      <td>15</td>\n",
       "      <td>4</td>\n",
       "      <td>16</td>\n",
       "      <td>2</td>\n",
       "      <td>100</td>\n",
       "      <td>0</td>\n",
       "      <td>4304274</td>\n",
       "      <td>16</td>\n",
       "      <td>4407</td>\n",
       "      <td>ALCALA</td>\n",
       "      <td>CL  28 SUR  51 F  81</td>\n",
       "      <td>0</td>\n",
       "      <td>BARRIO ZONA URBANA</td>\n",
       "      <td>1</td>\n",
       "      <td>1</td>\n",
       "      <td>2</td>\n",
       "      <td>1</td>\n",
       "      <td>1</td>\n",
       "      <td>1</td>\n",
       "      <td>1</td>\n",
       "      <td>1</td>\n",
       "      <td>1</td>\n",
       "      <td>3</td>\n",
       "      <td>1</td>\n",
       "      <td>5</td>\n",
       "      <td>4</td>\n",
       "      <td>3</td>\n",
       "      <td>1</td>\n",
       "      <td>1</td>\n",
       "      <td>1</td>\n",
       "      <td>1</td>\n",
       "      <td>1</td>\n",
       "      <td>1</td>\n",
       "      <td>1</td>\n",
       "      <td>1</td>\n",
       "      <td>2</td>\n",
       "      <td>1</td>\n",
       "      <td>1</td>\n",
       "      <td>1</td>\n",
       "      <td>1</td>\n",
       "      <td>0</td>\n",
       "      <td>1</td>\n",
       "      <td>0</td>\n",
       "      <td>1</td>\n",
       "      <td>2</td>\n",
       "      <td>2</td>\n",
       "      <td>1</td>\n",
       "      <td>2</td>\n",
       "      <td>0</td>\n",
       "      <td>0</td>\n",
       "      <td>1</td>\n",
       "      <td>1</td>\n",
       "      <td>2</td>\n",
       "      <td>2</td>\n",
       "      <td>2</td>\n",
       "      <td>0</td>\n",
       "      <td>2</td>\n",
       "      <td>0</td>\n",
       "      <td>0</td>\n",
       "      <td>0</td>\n",
       "      <td>2</td>\n",
       "      <td>3</td>\n",
       "      <td>2</td>\n",
       "      <td>3</td>\n",
       "      <td>1</td>\n",
       "      <td>3</td>\n",
       "      <td>2</td>\n",
       "      <td>0</td>\n",
       "      <td>5</td>\n",
       "      <td>0</td>\n",
       "      <td>3</td>\n",
       "      <td>1</td>\n",
       "      <td>4</td>\n",
       "      <td>3</td>\n",
       "      <td>1</td>\n",
       "      <td>3</td>\n",
       "      <td>0</td>\n",
       "      <td>0</td>\n",
       "      <td>8</td>\n",
       "      <td>0</td>\n",
       "      <td>0</td>\n",
       "      <td>0</td>\n",
       "      <td>0</td>\n",
       "      <td>0</td>\n",
       "      <td>0</td>\n",
       "      <td>0</td>\n",
       "      <td>1</td>\n",
       "      <td>1</td>\n",
       "      <td>3</td>\n",
       "      <td>46.810001</td>\n",
       "      <td>Hacinamiento_medio</td>\n",
       "      <td>1</td>\n",
       "      <td>3.000000</td>\n",
       "      <td>0</td>\n",
       "      <td>29</td>\n",
       "      <td>561</td>\n",
       "      <td>319</td>\n",
       "      <td>19.344828</td>\n",
       "      <td>0.568627</td>\n",
       "      <td>28</td>\n",
       "      <td>0.965517</td>\n",
       "      <td>265.478873</td>\n",
       "      <td>71</td>\n",
       "    </tr>\n",
       "    <tr>\n",
       "      <th>3</th>\n",
       "      <td>2019</td>\n",
       "      <td>111001000078</td>\n",
       "      <td>111001000078</td>\n",
       "      <td>5</td>\n",
       "      <td>1000008029</td>\n",
       "      <td>CL 32 SUR # 46 - 84 86</td>\n",
       "      <td>11</td>\n",
       "      <td>1</td>\n",
       "      <td>3</td>\n",
       "      <td>30.0</td>\n",
       "      <td>2003-03-22</td>\n",
       "      <td>0</td>\n",
       "      <td>99</td>\n",
       "      <td>0</td>\n",
       "      <td>0</td>\n",
       "      <td>0</td>\n",
       "      <td>9</td>\n",
       "      <td>0</td>\n",
       "      <td>6</td>\n",
       "      <td>1</td>\n",
       "      <td>5</td>\n",
       "      <td>11</td>\n",
       "      <td>1</td>\n",
       "      <td>0</td>\n",
       "      <td>1</td>\n",
       "      <td>9</td>\n",
       "      <td>1</td>\n",
       "      <td>16</td>\n",
       "      <td>4</td>\n",
       "      <td>16</td>\n",
       "      <td>1</td>\n",
       "      <td>100</td>\n",
       "      <td>0</td>\n",
       "      <td>4279832</td>\n",
       "      <td>16</td>\n",
       "      <td>4407</td>\n",
       "      <td>ALCALA</td>\n",
       "      <td>CL  31 SUR  51 A  88 PI  2</td>\n",
       "      <td>0</td>\n",
       "      <td>BARRIO ZONA URBANA</td>\n",
       "      <td>2</td>\n",
       "      <td>1</td>\n",
       "      <td>2</td>\n",
       "      <td>1</td>\n",
       "      <td>1</td>\n",
       "      <td>1</td>\n",
       "      <td>1</td>\n",
       "      <td>1</td>\n",
       "      <td>1</td>\n",
       "      <td>3</td>\n",
       "      <td>1</td>\n",
       "      <td>2</td>\n",
       "      <td>1</td>\n",
       "      <td>3</td>\n",
       "      <td>1</td>\n",
       "      <td>2</td>\n",
       "      <td>1</td>\n",
       "      <td>1</td>\n",
       "      <td>2</td>\n",
       "      <td>1</td>\n",
       "      <td>1</td>\n",
       "      <td>2</td>\n",
       "      <td>2</td>\n",
       "      <td>1</td>\n",
       "      <td>1</td>\n",
       "      <td>1</td>\n",
       "      <td>1</td>\n",
       "      <td>0</td>\n",
       "      <td>1</td>\n",
       "      <td>0</td>\n",
       "      <td>1</td>\n",
       "      <td>1</td>\n",
       "      <td>2</td>\n",
       "      <td>1</td>\n",
       "      <td>2</td>\n",
       "      <td>1</td>\n",
       "      <td>0</td>\n",
       "      <td>1</td>\n",
       "      <td>1</td>\n",
       "      <td>1</td>\n",
       "      <td>2</td>\n",
       "      <td>2</td>\n",
       "      <td>1</td>\n",
       "      <td>2</td>\n",
       "      <td>0</td>\n",
       "      <td>0</td>\n",
       "      <td>0</td>\n",
       "      <td>2</td>\n",
       "      <td>4</td>\n",
       "      <td>2</td>\n",
       "      <td>3</td>\n",
       "      <td>1</td>\n",
       "      <td>3</td>\n",
       "      <td>2</td>\n",
       "      <td>1</td>\n",
       "      <td>5</td>\n",
       "      <td>0</td>\n",
       "      <td>3</td>\n",
       "      <td>1</td>\n",
       "      <td>4</td>\n",
       "      <td>3</td>\n",
       "      <td>1</td>\n",
       "      <td>3</td>\n",
       "      <td>0</td>\n",
       "      <td>21000</td>\n",
       "      <td>8</td>\n",
       "      <td>0</td>\n",
       "      <td>0</td>\n",
       "      <td>0</td>\n",
       "      <td>0</td>\n",
       "      <td>0</td>\n",
       "      <td>1</td>\n",
       "      <td>0</td>\n",
       "      <td>1</td>\n",
       "      <td>1</td>\n",
       "      <td>3</td>\n",
       "      <td>30.650000</td>\n",
       "      <td>Hacinamiento_medio</td>\n",
       "      <td>1</td>\n",
       "      <td>4.000000</td>\n",
       "      <td>0</td>\n",
       "      <td>29</td>\n",
       "      <td>561</td>\n",
       "      <td>319</td>\n",
       "      <td>19.344828</td>\n",
       "      <td>0.568627</td>\n",
       "      <td>28</td>\n",
       "      <td>0.965517</td>\n",
       "      <td>265.478873</td>\n",
       "      <td>71</td>\n",
       "    </tr>\n",
       "    <tr>\n",
       "      <th>4</th>\n",
       "      <td>2019</td>\n",
       "      <td>111001000078</td>\n",
       "      <td>111001000078</td>\n",
       "      <td>2</td>\n",
       "      <td>1000033547</td>\n",
       "      <td>KR 35 A 1 H 32</td>\n",
       "      <td>11</td>\n",
       "      <td>1</td>\n",
       "      <td>2</td>\n",
       "      <td>0.0</td>\n",
       "      <td>2003-05-02</td>\n",
       "      <td>0</td>\n",
       "      <td>99</td>\n",
       "      <td>0</td>\n",
       "      <td>0</td>\n",
       "      <td>0</td>\n",
       "      <td>9</td>\n",
       "      <td>0</td>\n",
       "      <td>6</td>\n",
       "      <td>1</td>\n",
       "      <td>5</td>\n",
       "      <td>10</td>\n",
       "      <td>1</td>\n",
       "      <td>0</td>\n",
       "      <td>1</td>\n",
       "      <td>9</td>\n",
       "      <td>1</td>\n",
       "      <td>15</td>\n",
       "      <td>4</td>\n",
       "      <td>16</td>\n",
       "      <td>1</td>\n",
       "      <td>100</td>\n",
       "      <td>0</td>\n",
       "      <td>4711892</td>\n",
       "      <td>4</td>\n",
       "      <td>1103</td>\n",
       "      <td>VITELMA</td>\n",
       "      <td>CL 6 G SUR  8 34  ESTE</td>\n",
       "      <td>0</td>\n",
       "      <td>BARRIO ZONA URBANA</td>\n",
       "      <td>1</td>\n",
       "      <td>1</td>\n",
       "      <td>2</td>\n",
       "      <td>1</td>\n",
       "      <td>1</td>\n",
       "      <td>1</td>\n",
       "      <td>1</td>\n",
       "      <td>1</td>\n",
       "      <td>1</td>\n",
       "      <td>2</td>\n",
       "      <td>1</td>\n",
       "      <td>4</td>\n",
       "      <td>1</td>\n",
       "      <td>2</td>\n",
       "      <td>1</td>\n",
       "      <td>2</td>\n",
       "      <td>1</td>\n",
       "      <td>1</td>\n",
       "      <td>4</td>\n",
       "      <td>3</td>\n",
       "      <td>1</td>\n",
       "      <td>1</td>\n",
       "      <td>1</td>\n",
       "      <td>2</td>\n",
       "      <td>1</td>\n",
       "      <td>1</td>\n",
       "      <td>1</td>\n",
       "      <td>0</td>\n",
       "      <td>1</td>\n",
       "      <td>0</td>\n",
       "      <td>1</td>\n",
       "      <td>1</td>\n",
       "      <td>2</td>\n",
       "      <td>1</td>\n",
       "      <td>1</td>\n",
       "      <td>1</td>\n",
       "      <td>1</td>\n",
       "      <td>1</td>\n",
       "      <td>2</td>\n",
       "      <td>2</td>\n",
       "      <td>2</td>\n",
       "      <td>2</td>\n",
       "      <td>0</td>\n",
       "      <td>2</td>\n",
       "      <td>0</td>\n",
       "      <td>0</td>\n",
       "      <td>0</td>\n",
       "      <td>2</td>\n",
       "      <td>4</td>\n",
       "      <td>1</td>\n",
       "      <td>4</td>\n",
       "      <td>1</td>\n",
       "      <td>4</td>\n",
       "      <td>2</td>\n",
       "      <td>0</td>\n",
       "      <td>5</td>\n",
       "      <td>0</td>\n",
       "      <td>0</td>\n",
       "      <td>1</td>\n",
       "      <td>4</td>\n",
       "      <td>3</td>\n",
       "      <td>1</td>\n",
       "      <td>3</td>\n",
       "      <td>0</td>\n",
       "      <td>0</td>\n",
       "      <td>10</td>\n",
       "      <td>0</td>\n",
       "      <td>0</td>\n",
       "      <td>0</td>\n",
       "      <td>0</td>\n",
       "      <td>0</td>\n",
       "      <td>0</td>\n",
       "      <td>0</td>\n",
       "      <td>1</td>\n",
       "      <td>1</td>\n",
       "      <td>4</td>\n",
       "      <td>60.119999</td>\n",
       "      <td>Sin_hacinamiento</td>\n",
       "      <td>1</td>\n",
       "      <td>1.333008</td>\n",
       "      <td>0</td>\n",
       "      <td>29</td>\n",
       "      <td>561</td>\n",
       "      <td>319</td>\n",
       "      <td>19.344828</td>\n",
       "      <td>0.568627</td>\n",
       "      <td>28</td>\n",
       "      <td>0.965517</td>\n",
       "      <td>265.478873</td>\n",
       "      <td>71</td>\n",
       "    </tr>\n",
       "  </tbody>\n",
       "</table>\n",
       "</div>"
      ],
      "text/plain": [
       "   ANO_INF   CODIGO_DANE  CODIGO_DANE_SEDE  TIPO_DOCUMENTO NRO_DOCUMENTO  \\\n",
       "0     2019  111001000078      111001000078               5    1000003730   \n",
       "1     2019  111001000078      111001000078               2    1000004716   \n",
       "2     2019  111001000078      111001000078               7    1000007657   \n",
       "3     2019  111001000078      111001000078               5    1000008029   \n",
       "4     2019  111001000078      111001000078               2    1000033547   \n",
       "\n",
       "         DIRECCION_RESIDENCIA  RES_DEPTO  RES_MUN  ESTRATO  SISBEN  \\\n",
       "0       CR 51 D # 35 SUR - 45         11        1        3    43.0   \n",
       "1  CL 29 A SUR # 50 - 41 PL 2         11        1        3    29.0   \n",
       "2       CL 28 SUR # 51 F - 81         11        1        3    46.0   \n",
       "3      CL 32 SUR # 46 - 84 86         11        1        3    30.0   \n",
       "4              KR 35 A 1 H 32         11        1        2     0.0   \n",
       "\n",
       "  FECHA_NACIMIENTO  GENERO  POB_VICT_CONF  PROVIENE_SECTOR_PRIV  \\\n",
       "0       2002-04-23       0             99                     0   \n",
       "1       2003-04-14       0             99                     0   \n",
       "2       2003-04-25       0             99                     0   \n",
       "3       2003-03-22       0             99                     0   \n",
       "4       2003-05-02       0             99                     0   \n",
       "\n",
       "   PROVIENE_OTR_MUN  TIPO_DISCAPACIDAD  CAP_EXC  CODIGO_ETNIA  CODIGO_JORNADA  \\\n",
       "0                 0                  0        9             0               6   \n",
       "1                 0                  0        9             0               6   \n",
       "2                 0                  0        9             0               6   \n",
       "3                 0                  0        9             0               6   \n",
       "4                 0                  0        9             0               6   \n",
       "\n",
       "   CARACTER  CODIGO_ESPECIALIDAD  CODIGO_GRADO  CODIGO_METODOLOGIA  REPITENTE  \\\n",
       "0         1                    5            11                   1          0   \n",
       "1         0                    0             9                   1          0   \n",
       "2         1                    5            11                   1          0   \n",
       "3         1                    5            11                   1          0   \n",
       "4         1                    5            10                   1          0   \n",
       "\n",
       "   SIT_ACAD_ANIO_ANT  CON_ALUM_ANIO_ANT  ZONA_RESI_ALU  EDAD  NIVEL  \\\n",
       "0                  1                  9              1    16      4   \n",
       "1                  1                  9              1    15      3   \n",
       "2                  1                  9              1    15      4   \n",
       "3                  1                  9              1    16      4   \n",
       "4                  1                  9              1    15      4   \n",
       "\n",
       "   DIR_NUM_LOCALIDAD  NIVEL_SISBEN  GRADO_OVERAGE  OVERAGE    ficha  comuna  \\\n",
       "0                 16             1            100        0  4385957      16   \n",
       "1                 16             1            100        0  4304159      16   \n",
       "2                 16             2            100        0  4304274      16   \n",
       "3                 16             1            100        0  4279832      16   \n",
       "4                 16             1            100        0  4711892       4   \n",
       "\n",
       "   barrio nombarrio                            direcc  vereda  \\\n",
       "0    4407    ALCALA       CL 36 SUR 51 04 PI 2 AP 202       0   \n",
       "1    4407    ALCALA  CL  33 SUR  51 A  47 PI  1 CU  1       0   \n",
       "2    4407    ALCALA              CL  28 SUR  51 F  81       0   \n",
       "3    4407    ALCALA        CL  31 SUR  51 A  88 PI  2       0   \n",
       "4    1103   VITELMA            CL 6 G SUR  8 34  ESTE       0   \n",
       "\n",
       "            nomvereda  vivienda  pared  piso  energia  alcanta  gas  telefono  \\\n",
       "0  BARRIO ZONA URBANA         1      1     2        1        1    1         1   \n",
       "1  BARRIO ZONA URBANA         2      1     2        1        1    1         2   \n",
       "2  BARRIO ZONA URBANA         1      1     2        1        1    1         1   \n",
       "3  BARRIO ZONA URBANA         2      1     2        1        1    1         1   \n",
       "4  BARRIO ZONA URBANA         1      1     2        1        1    1         1   \n",
       "\n",
       "   basura  acueduc  estrato  elimbasura  tcuartosvi  thogar  recolec  tipdir  \\\n",
       "0       1        1        3           1           3       1        3       1   \n",
       "1       1        1        3           1           2       1        3       1   \n",
       "2       1        1        3           1           5       4        3       1   \n",
       "3       1        1        3           1           2       1        3       1   \n",
       "4       1        1        2           1           4       1        2       1   \n",
       "\n",
       "   verifica  hogar  teneviv  tcuartos  tdormir  sanitar  usanitar  usosani  \\\n",
       "0         1      1        1         3        2        1         1        1   \n",
       "1         1      1        1         2        2        1         1        2   \n",
       "2         1      1        1         1        1        1         1        2   \n",
       "3         2      1        1         2        1        1         2        2   \n",
       "4         2      1        1         4        3        1         1        1   \n",
       "\n",
       "   tsanitar  ducha  agua  llega  cuandi  suminis  cuanhoras  preparan  cocina  \\\n",
       "0         1      1     1      1       0        1          0         1       1   \n",
       "1         1      1     1      1       0        1          0         1       2   \n",
       "2         1      1     1      1       0        1          0         1       2   \n",
       "3         1      1     1      1       0        1          0         1       1   \n",
       "4         2      1     1      1       0        1          0         1       1   \n",
       "\n",
       "   cocinan  alumbra  usotele  nevera  lavadora  tvcolor  tvcable  calenta  \\\n",
       "0        2        1        1       1         0        1        1        2   \n",
       "1        2        1        0       1         1        1        2        2   \n",
       "2        2        1        2       0         0        1        1        2   \n",
       "3        2        1        2       1         0        1        1        1   \n",
       "4        2        1        1       1         1        1        2        2   \n",
       "\n",
       "   horno  aire  computador  equipo  moto  tractor  tiene_auto  bieraices  \\\n",
       "0      2     2           0       1     0        0           0          2   \n",
       "1      2     2           0       2     0        0           0          1   \n",
       "2      2     2           0       2     0        0           0          2   \n",
       "3      2     2           1       2     0        0           0          2   \n",
       "4      2     2           0       2     0        0           0          2   \n",
       "\n",
       "   tpersona  informan  orden  nucleo  parentes  tipodoc  sexo  estcivil  \\\n",
       "0         5         2      3       2         4        2     0         5   \n",
       "1         5         2      4       1         3        2     0         5   \n",
       "2         3         2      3       1         3        2     0         5   \n",
       "3         4         2      3       1         3        2     1         5   \n",
       "4         4         1      4       1         4        2     0         5   \n",
       "\n",
       "   discapa  carnet  asiste  tipoesta  grado  nivel  activi  buscando  \\\n",
       "0        0       3       1         5      3      1       3         0   \n",
       "1        0       0       1         4      3      1       3         0   \n",
       "2        0       3       1         4      3      1       3         0   \n",
       "3        0       3       1         4      3      1       3         0   \n",
       "4        0       0       1         4      3      1       3         0   \n",
       "\n",
       "   ingresos  edad  conyuvive  hijosde  embaraza  extranjero  pagapor  percibe  \\\n",
       "0         0     9          0        2         0           0        0        0   \n",
       "1         0     8          0        0         0           0        0        0   \n",
       "2         0     8          0        0         0           0        0        0   \n",
       "3     21000     8          0        0         0           0        0        1   \n",
       "4         0    10          0        0         0           0        0        0   \n",
       "\n",
       "   serdomes  unigasto  area  nparentes  puntaje_sisben_3  nivel_hacinamiento  \\\n",
       "0         0         1     1          3         43.919998  Hacinamiento_medio   \n",
       "1         0         1     1          3         29.440001  Hacinamiento_medio   \n",
       "2         0         1     1          3         46.810001  Hacinamiento_medio   \n",
       "3         0         1     1          3         30.650000  Hacinamiento_medio   \n",
       "4         0         1     1          4         60.119999    Sin_hacinamiento   \n",
       "\n",
       "   todos_servicios_Pub  indice_hacinamiento  ES_BILINGUE  TOTAL_DOCENTES  \\\n",
       "0                    1             2.500000            0              29   \n",
       "1                    1             2.500000            0              29   \n",
       "2                    1             3.000000            0              29   \n",
       "3                    1             4.000000            0              29   \n",
       "4                    1             1.333008            0              29   \n",
       "\n",
       "   TOTAL_ALUMNOS  TOTAL_EQUIPO_COMPUTO  ALUMN_POR_DOCENTE  COMPU_POR_ALUMN  \\\n",
       "0            561                   319          19.344828         0.568627   \n",
       "1            561                   319          19.344828         0.568627   \n",
       "2            561                   319          19.344828         0.568627   \n",
       "3            561                   319          19.344828         0.568627   \n",
       "4            561                   319          19.344828         0.568627   \n",
       "\n",
       "   TOTAL_DOCENTES_CON_TITULO  PROP_DOCENTES_CON_TITULO  promepuntaje  \\\n",
       "0                         28                  0.965517    265.478873   \n",
       "1                         28                  0.965517    265.478873   \n",
       "2                         28                  0.965517    265.478873   \n",
       "3                         28                  0.965517    265.478873   \n",
       "4                         28                  0.965517    265.478873   \n",
       "\n",
       "   num_presentaron_ICFES  \n",
       "0                     71  \n",
       "1                     71  \n",
       "2                     71  \n",
       "3                     71  \n",
       "4                     71  "
      ]
     },
     "execution_count": 55,
     "metadata": {},
     "output_type": "execute_result"
    }
   ],
   "source": [
    "concat_2019_20.head()"
   ]
  },
  {
   "cell_type": "code",
   "execution_count": 56,
   "id": "7e904107-8c40-4dc0-a703-775205da527d",
   "metadata": {},
   "outputs": [
    {
     "data": {
      "text/html": [
       "<div>\n",
       "<style scoped>\n",
       "    .dataframe tbody tr th:only-of-type {\n",
       "        vertical-align: middle;\n",
       "    }\n",
       "\n",
       "    .dataframe tbody tr th {\n",
       "        vertical-align: top;\n",
       "    }\n",
       "\n",
       "    .dataframe thead th {\n",
       "        text-align: right;\n",
       "    }\n",
       "</style>\n",
       "<table border=\"1\" class=\"dataframe\">\n",
       "  <thead>\n",
       "    <tr style=\"text-align: right;\">\n",
       "      <th></th>\n",
       "      <th>ANO_INF</th>\n",
       "      <th>CODIGO_DANE</th>\n",
       "      <th>CODIGO_DANE_SEDE</th>\n",
       "      <th>TIPO_DOCUMENTO</th>\n",
       "      <th>NRO_DOCUMENTO</th>\n",
       "      <th>DIRECCION_RESIDENCIA</th>\n",
       "      <th>RES_DEPTO</th>\n",
       "      <th>RES_MUN</th>\n",
       "      <th>ESTRATO</th>\n",
       "      <th>SISBEN</th>\n",
       "      <th>FECHA_NACIMIENTO</th>\n",
       "      <th>GENERO</th>\n",
       "      <th>POB_VICT_CONF</th>\n",
       "      <th>PROVIENE_SECTOR_PRIV</th>\n",
       "      <th>PROVIENE_OTR_MUN</th>\n",
       "      <th>TIPO_DISCAPACIDAD</th>\n",
       "      <th>CAP_EXC</th>\n",
       "      <th>CODIGO_ETNIA</th>\n",
       "      <th>CODIGO_JORNADA</th>\n",
       "      <th>CARACTER</th>\n",
       "      <th>CODIGO_ESPECIALIDAD</th>\n",
       "      <th>CODIGO_GRADO</th>\n",
       "      <th>CODIGO_METODOLOGIA</th>\n",
       "      <th>REPITENTE</th>\n",
       "      <th>SIT_ACAD_ANIO_ANT</th>\n",
       "      <th>CON_ALUM_ANIO_ANT</th>\n",
       "      <th>ZONA_RESI_ALU</th>\n",
       "      <th>EDAD</th>\n",
       "      <th>NIVEL</th>\n",
       "      <th>DIR_NUM_LOCALIDAD</th>\n",
       "      <th>NIVEL_SISBEN</th>\n",
       "      <th>GRADO_OVERAGE</th>\n",
       "      <th>OVERAGE</th>\n",
       "      <th>ficha</th>\n",
       "      <th>comuna</th>\n",
       "      <th>barrio</th>\n",
       "      <th>nombarrio</th>\n",
       "      <th>direcc</th>\n",
       "      <th>vereda</th>\n",
       "      <th>nomvereda</th>\n",
       "      <th>vivienda</th>\n",
       "      <th>pared</th>\n",
       "      <th>piso</th>\n",
       "      <th>energia</th>\n",
       "      <th>alcanta</th>\n",
       "      <th>gas</th>\n",
       "      <th>telefono</th>\n",
       "      <th>basura</th>\n",
       "      <th>acueduc</th>\n",
       "      <th>estrato</th>\n",
       "      <th>elimbasura</th>\n",
       "      <th>tcuartosvi</th>\n",
       "      <th>thogar</th>\n",
       "      <th>recolec</th>\n",
       "      <th>tipdir</th>\n",
       "      <th>verifica</th>\n",
       "      <th>hogar</th>\n",
       "      <th>teneviv</th>\n",
       "      <th>tcuartos</th>\n",
       "      <th>tdormir</th>\n",
       "      <th>sanitar</th>\n",
       "      <th>usanitar</th>\n",
       "      <th>usosani</th>\n",
       "      <th>tsanitar</th>\n",
       "      <th>ducha</th>\n",
       "      <th>agua</th>\n",
       "      <th>llega</th>\n",
       "      <th>cuandi</th>\n",
       "      <th>suminis</th>\n",
       "      <th>cuanhoras</th>\n",
       "      <th>preparan</th>\n",
       "      <th>cocina</th>\n",
       "      <th>cocinan</th>\n",
       "      <th>alumbra</th>\n",
       "      <th>usotele</th>\n",
       "      <th>nevera</th>\n",
       "      <th>lavadora</th>\n",
       "      <th>tvcolor</th>\n",
       "      <th>tvcable</th>\n",
       "      <th>calenta</th>\n",
       "      <th>horno</th>\n",
       "      <th>aire</th>\n",
       "      <th>computador</th>\n",
       "      <th>equipo</th>\n",
       "      <th>moto</th>\n",
       "      <th>tractor</th>\n",
       "      <th>tiene_auto</th>\n",
       "      <th>bieraices</th>\n",
       "      <th>tpersona</th>\n",
       "      <th>informan</th>\n",
       "      <th>orden</th>\n",
       "      <th>nucleo</th>\n",
       "      <th>parentes</th>\n",
       "      <th>tipodoc</th>\n",
       "      <th>sexo</th>\n",
       "      <th>estcivil</th>\n",
       "      <th>discapa</th>\n",
       "      <th>carnet</th>\n",
       "      <th>asiste</th>\n",
       "      <th>tipoesta</th>\n",
       "      <th>grado</th>\n",
       "      <th>nivel</th>\n",
       "      <th>activi</th>\n",
       "      <th>buscando</th>\n",
       "      <th>ingresos</th>\n",
       "      <th>edad</th>\n",
       "      <th>conyuvive</th>\n",
       "      <th>hijosde</th>\n",
       "      <th>embaraza</th>\n",
       "      <th>extranjero</th>\n",
       "      <th>pagapor</th>\n",
       "      <th>percibe</th>\n",
       "      <th>serdomes</th>\n",
       "      <th>unigasto</th>\n",
       "      <th>area</th>\n",
       "      <th>nparentes</th>\n",
       "      <th>puntaje_sisben_3</th>\n",
       "      <th>nivel_hacinamiento</th>\n",
       "      <th>todos_servicios_Pub</th>\n",
       "      <th>indice_hacinamiento</th>\n",
       "      <th>ES_BILINGUE</th>\n",
       "      <th>TOTAL_DOCENTES</th>\n",
       "      <th>TOTAL_ALUMNOS</th>\n",
       "      <th>TOTAL_EQUIPO_COMPUTO</th>\n",
       "      <th>ALUMN_POR_DOCENTE</th>\n",
       "      <th>COMPU_POR_ALUMN</th>\n",
       "      <th>TOTAL_DOCENTES_CON_TITULO</th>\n",
       "      <th>PROP_DOCENTES_CON_TITULO</th>\n",
       "      <th>promepuntaje</th>\n",
       "      <th>num_presentaron_ICFES</th>\n",
       "    </tr>\n",
       "  </thead>\n",
       "  <tbody>\n",
       "    <tr>\n",
       "      <th>457042</th>\n",
       "      <td>2020</td>\n",
       "      <td>311001107629</td>\n",
       "      <td>311001107629</td>\n",
       "      <td>2</td>\n",
       "      <td>1026256645</td>\n",
       "      <td>CL 77 45 A 03 SUR</td>\n",
       "      <td>11</td>\n",
       "      <td>1</td>\n",
       "      <td>1</td>\n",
       "      <td>72.0</td>\n",
       "      <td>2005-07-23</td>\n",
       "      <td>1</td>\n",
       "      <td>99</td>\n",
       "      <td>0</td>\n",
       "      <td>0</td>\n",
       "      <td>0</td>\n",
       "      <td>9</td>\n",
       "      <td>0</td>\n",
       "      <td>6</td>\n",
       "      <td>0</td>\n",
       "      <td>0</td>\n",
       "      <td>9</td>\n",
       "      <td>1</td>\n",
       "      <td>0</td>\n",
       "      <td>1</td>\n",
       "      <td>9</td>\n",
       "      <td>1</td>\n",
       "      <td>14</td>\n",
       "      <td>3</td>\n",
       "      <td>19</td>\n",
       "      <td>3</td>\n",
       "      <td>100</td>\n",
       "      <td>0</td>\n",
       "      <td>3363106</td>\n",
       "      <td>19</td>\n",
       "      <td>2431</td>\n",
       "      <td>POTOSI</td>\n",
       "      <td>CL  77 BIS  SUR  45  05</td>\n",
       "      <td>0</td>\n",
       "      <td>BARRIO ZONA URBANA</td>\n",
       "      <td>1</td>\n",
       "      <td>1</td>\n",
       "      <td>2</td>\n",
       "      <td>1</td>\n",
       "      <td>1</td>\n",
       "      <td>1</td>\n",
       "      <td>1</td>\n",
       "      <td>1</td>\n",
       "      <td>1</td>\n",
       "      <td>1</td>\n",
       "      <td>1</td>\n",
       "      <td>4</td>\n",
       "      <td>1</td>\n",
       "      <td>1</td>\n",
       "      <td>1</td>\n",
       "      <td>2</td>\n",
       "      <td>1</td>\n",
       "      <td>3</td>\n",
       "      <td>4</td>\n",
       "      <td>3</td>\n",
       "      <td>1</td>\n",
       "      <td>1</td>\n",
       "      <td>1</td>\n",
       "      <td>1</td>\n",
       "      <td>1</td>\n",
       "      <td>1</td>\n",
       "      <td>1</td>\n",
       "      <td>0</td>\n",
       "      <td>1</td>\n",
       "      <td>0</td>\n",
       "      <td>1</td>\n",
       "      <td>1</td>\n",
       "      <td>2</td>\n",
       "      <td>1</td>\n",
       "      <td>1</td>\n",
       "      <td>1</td>\n",
       "      <td>1</td>\n",
       "      <td>1</td>\n",
       "      <td>2</td>\n",
       "      <td>2</td>\n",
       "      <td>2</td>\n",
       "      <td>2</td>\n",
       "      <td>1</td>\n",
       "      <td>1</td>\n",
       "      <td>0</td>\n",
       "      <td>0</td>\n",
       "      <td>0</td>\n",
       "      <td>1</td>\n",
       "      <td>9</td>\n",
       "      <td>1</td>\n",
       "      <td>3</td>\n",
       "      <td>1</td>\n",
       "      <td>3</td>\n",
       "      <td>4</td>\n",
       "      <td>1</td>\n",
       "      <td>5</td>\n",
       "      <td>0</td>\n",
       "      <td>3</td>\n",
       "      <td>1</td>\n",
       "      <td>2</td>\n",
       "      <td>0</td>\n",
       "      <td>0</td>\n",
       "      <td>3</td>\n",
       "      <td>0</td>\n",
       "      <td>21000</td>\n",
       "      <td>4</td>\n",
       "      <td>0</td>\n",
       "      <td>0</td>\n",
       "      <td>0</td>\n",
       "      <td>0</td>\n",
       "      <td>0</td>\n",
       "      <td>1</td>\n",
       "      <td>0</td>\n",
       "      <td>1</td>\n",
       "      <td>1</td>\n",
       "      <td>3</td>\n",
       "      <td>65.589996</td>\n",
       "      <td>Hacinamiento_medio</td>\n",
       "      <td>1</td>\n",
       "      <td>3.000000</td>\n",
       "      <td>0</td>\n",
       "      <td>19</td>\n",
       "      <td>457</td>\n",
       "      <td>84</td>\n",
       "      <td>24.052632</td>\n",
       "      <td>0.183807</td>\n",
       "      <td>7</td>\n",
       "      <td>0.368421</td>\n",
       "      <td>310.571429</td>\n",
       "      <td>21</td>\n",
       "    </tr>\n",
       "    <tr>\n",
       "      <th>457043</th>\n",
       "      <td>2020</td>\n",
       "      <td>311001107629</td>\n",
       "      <td>311001107629</td>\n",
       "      <td>2</td>\n",
       "      <td>1016595384</td>\n",
       "      <td>TV 65 77 54 SUR PI 1</td>\n",
       "      <td>11</td>\n",
       "      <td>1</td>\n",
       "      <td>1</td>\n",
       "      <td>53.0</td>\n",
       "      <td>2006-01-19</td>\n",
       "      <td>1</td>\n",
       "      <td>99</td>\n",
       "      <td>0</td>\n",
       "      <td>0</td>\n",
       "      <td>0</td>\n",
       "      <td>9</td>\n",
       "      <td>0</td>\n",
       "      <td>6</td>\n",
       "      <td>0</td>\n",
       "      <td>0</td>\n",
       "      <td>9</td>\n",
       "      <td>1</td>\n",
       "      <td>0</td>\n",
       "      <td>1</td>\n",
       "      <td>9</td>\n",
       "      <td>1</td>\n",
       "      <td>14</td>\n",
       "      <td>3</td>\n",
       "      <td>19</td>\n",
       "      <td>3</td>\n",
       "      <td>100</td>\n",
       "      <td>0</td>\n",
       "      <td>3406487</td>\n",
       "      <td>19</td>\n",
       "      <td>2445</td>\n",
       "      <td>CARACOLI</td>\n",
       "      <td>TV 50 A 77 54 SUR PI 2</td>\n",
       "      <td>0</td>\n",
       "      <td>BARRIO ZONA URBANA</td>\n",
       "      <td>1</td>\n",
       "      <td>1</td>\n",
       "      <td>3</td>\n",
       "      <td>1</td>\n",
       "      <td>1</td>\n",
       "      <td>1</td>\n",
       "      <td>2</td>\n",
       "      <td>1</td>\n",
       "      <td>1</td>\n",
       "      <td>1</td>\n",
       "      <td>1</td>\n",
       "      <td>2</td>\n",
       "      <td>1</td>\n",
       "      <td>1</td>\n",
       "      <td>1</td>\n",
       "      <td>2</td>\n",
       "      <td>1</td>\n",
       "      <td>2</td>\n",
       "      <td>2</td>\n",
       "      <td>2</td>\n",
       "      <td>1</td>\n",
       "      <td>1</td>\n",
       "      <td>1</td>\n",
       "      <td>1</td>\n",
       "      <td>1</td>\n",
       "      <td>1</td>\n",
       "      <td>1</td>\n",
       "      <td>0</td>\n",
       "      <td>1</td>\n",
       "      <td>0</td>\n",
       "      <td>1</td>\n",
       "      <td>1</td>\n",
       "      <td>2</td>\n",
       "      <td>1</td>\n",
       "      <td>0</td>\n",
       "      <td>0</td>\n",
       "      <td>0</td>\n",
       "      <td>1</td>\n",
       "      <td>1</td>\n",
       "      <td>2</td>\n",
       "      <td>2</td>\n",
       "      <td>2</td>\n",
       "      <td>0</td>\n",
       "      <td>1</td>\n",
       "      <td>0</td>\n",
       "      <td>0</td>\n",
       "      <td>0</td>\n",
       "      <td>1</td>\n",
       "      <td>3</td>\n",
       "      <td>1</td>\n",
       "      <td>3</td>\n",
       "      <td>1</td>\n",
       "      <td>3</td>\n",
       "      <td>4</td>\n",
       "      <td>0</td>\n",
       "      <td>5</td>\n",
       "      <td>0</td>\n",
       "      <td>0</td>\n",
       "      <td>1</td>\n",
       "      <td>1</td>\n",
       "      <td>0</td>\n",
       "      <td>0</td>\n",
       "      <td>3</td>\n",
       "      <td>0</td>\n",
       "      <td>0</td>\n",
       "      <td>3</td>\n",
       "      <td>0</td>\n",
       "      <td>0</td>\n",
       "      <td>0</td>\n",
       "      <td>0</td>\n",
       "      <td>0</td>\n",
       "      <td>0</td>\n",
       "      <td>0</td>\n",
       "      <td>1</td>\n",
       "      <td>1</td>\n",
       "      <td>3</td>\n",
       "      <td>53.740002</td>\n",
       "      <td>Sin_hacinamiento</td>\n",
       "      <td>1</td>\n",
       "      <td>1.500000</td>\n",
       "      <td>0</td>\n",
       "      <td>19</td>\n",
       "      <td>457</td>\n",
       "      <td>84</td>\n",
       "      <td>24.052632</td>\n",
       "      <td>0.183807</td>\n",
       "      <td>7</td>\n",
       "      <td>0.368421</td>\n",
       "      <td>310.571429</td>\n",
       "      <td>21</td>\n",
       "    </tr>\n",
       "    <tr>\n",
       "      <th>457044</th>\n",
       "      <td>2020</td>\n",
       "      <td>311001107629</td>\n",
       "      <td>311001107629</td>\n",
       "      <td>2</td>\n",
       "      <td>1024477229</td>\n",
       "      <td>CL 69 H SUR 48 B 22</td>\n",
       "      <td>11</td>\n",
       "      <td>1</td>\n",
       "      <td>1</td>\n",
       "      <td>30.0</td>\n",
       "      <td>2005-10-15</td>\n",
       "      <td>0</td>\n",
       "      <td>99</td>\n",
       "      <td>0</td>\n",
       "      <td>0</td>\n",
       "      <td>0</td>\n",
       "      <td>9</td>\n",
       "      <td>0</td>\n",
       "      <td>6</td>\n",
       "      <td>0</td>\n",
       "      <td>0</td>\n",
       "      <td>9</td>\n",
       "      <td>1</td>\n",
       "      <td>0</td>\n",
       "      <td>1</td>\n",
       "      <td>9</td>\n",
       "      <td>1</td>\n",
       "      <td>14</td>\n",
       "      <td>3</td>\n",
       "      <td>19</td>\n",
       "      <td>1</td>\n",
       "      <td>100</td>\n",
       "      <td>0</td>\n",
       "      <td>3492160</td>\n",
       "      <td>19</td>\n",
       "      <td>2430</td>\n",
       "      <td>LAS BRISAS</td>\n",
       "      <td>KR 45 C  76 84 SUR  PI  2</td>\n",
       "      <td>0</td>\n",
       "      <td>BARRIO ZONA URBANA</td>\n",
       "      <td>1</td>\n",
       "      <td>1</td>\n",
       "      <td>2</td>\n",
       "      <td>1</td>\n",
       "      <td>1</td>\n",
       "      <td>1</td>\n",
       "      <td>1</td>\n",
       "      <td>1</td>\n",
       "      <td>1</td>\n",
       "      <td>1</td>\n",
       "      <td>1</td>\n",
       "      <td>8</td>\n",
       "      <td>1</td>\n",
       "      <td>1</td>\n",
       "      <td>1</td>\n",
       "      <td>1</td>\n",
       "      <td>1</td>\n",
       "      <td>1</td>\n",
       "      <td>4</td>\n",
       "      <td>2</td>\n",
       "      <td>1</td>\n",
       "      <td>1</td>\n",
       "      <td>1</td>\n",
       "      <td>1</td>\n",
       "      <td>1</td>\n",
       "      <td>1</td>\n",
       "      <td>1</td>\n",
       "      <td>0</td>\n",
       "      <td>1</td>\n",
       "      <td>0</td>\n",
       "      <td>1</td>\n",
       "      <td>1</td>\n",
       "      <td>2</td>\n",
       "      <td>1</td>\n",
       "      <td>1</td>\n",
       "      <td>1</td>\n",
       "      <td>0</td>\n",
       "      <td>1</td>\n",
       "      <td>1</td>\n",
       "      <td>2</td>\n",
       "      <td>2</td>\n",
       "      <td>2</td>\n",
       "      <td>1</td>\n",
       "      <td>2</td>\n",
       "      <td>0</td>\n",
       "      <td>0</td>\n",
       "      <td>0</td>\n",
       "      <td>2</td>\n",
       "      <td>5</td>\n",
       "      <td>2</td>\n",
       "      <td>5</td>\n",
       "      <td>1</td>\n",
       "      <td>3</td>\n",
       "      <td>2</td>\n",
       "      <td>1</td>\n",
       "      <td>5</td>\n",
       "      <td>0</td>\n",
       "      <td>3</td>\n",
       "      <td>0</td>\n",
       "      <td>0</td>\n",
       "      <td>0</td>\n",
       "      <td>0</td>\n",
       "      <td>0</td>\n",
       "      <td>0</td>\n",
       "      <td>50000</td>\n",
       "      <td>6</td>\n",
       "      <td>0</td>\n",
       "      <td>0</td>\n",
       "      <td>0</td>\n",
       "      <td>0</td>\n",
       "      <td>0</td>\n",
       "      <td>1</td>\n",
       "      <td>0</td>\n",
       "      <td>1</td>\n",
       "      <td>1</td>\n",
       "      <td>3</td>\n",
       "      <td>30.570000</td>\n",
       "      <td>Hacinamiento_medio</td>\n",
       "      <td>1</td>\n",
       "      <td>2.500000</td>\n",
       "      <td>0</td>\n",
       "      <td>19</td>\n",
       "      <td>457</td>\n",
       "      <td>84</td>\n",
       "      <td>24.052632</td>\n",
       "      <td>0.183807</td>\n",
       "      <td>7</td>\n",
       "      <td>0.368421</td>\n",
       "      <td>310.571429</td>\n",
       "      <td>21</td>\n",
       "    </tr>\n",
       "    <tr>\n",
       "      <th>457045</th>\n",
       "      <td>2020</td>\n",
       "      <td>311001107629</td>\n",
       "      <td>311001107629</td>\n",
       "      <td>2</td>\n",
       "      <td>1029141941</td>\n",
       "      <td>KR 73 H 76 A 40 SUR</td>\n",
       "      <td>11</td>\n",
       "      <td>1</td>\n",
       "      <td>1</td>\n",
       "      <td>62.0</td>\n",
       "      <td>2005-07-09</td>\n",
       "      <td>1</td>\n",
       "      <td>99</td>\n",
       "      <td>0</td>\n",
       "      <td>0</td>\n",
       "      <td>0</td>\n",
       "      <td>9</td>\n",
       "      <td>0</td>\n",
       "      <td>6</td>\n",
       "      <td>0</td>\n",
       "      <td>0</td>\n",
       "      <td>9</td>\n",
       "      <td>1</td>\n",
       "      <td>0</td>\n",
       "      <td>1</td>\n",
       "      <td>9</td>\n",
       "      <td>1</td>\n",
       "      <td>14</td>\n",
       "      <td>3</td>\n",
       "      <td>19</td>\n",
       "      <td>3</td>\n",
       "      <td>100</td>\n",
       "      <td>0</td>\n",
       "      <td>110012760632412</td>\n",
       "      <td>19</td>\n",
       "      <td>2445</td>\n",
       "      <td>CARACOLI</td>\n",
       "      <td>KR 73 H # 76 A - 40 SUR PI 1</td>\n",
       "      <td>0</td>\n",
       "      <td>BARRIO ZONA URBANA</td>\n",
       "      <td>1</td>\n",
       "      <td>1</td>\n",
       "      <td>2</td>\n",
       "      <td>1</td>\n",
       "      <td>1</td>\n",
       "      <td>1</td>\n",
       "      <td>0</td>\n",
       "      <td>1</td>\n",
       "      <td>1</td>\n",
       "      <td>1</td>\n",
       "      <td>1</td>\n",
       "      <td>8</td>\n",
       "      <td>1</td>\n",
       "      <td>1</td>\n",
       "      <td>0</td>\n",
       "      <td>1</td>\n",
       "      <td>1</td>\n",
       "      <td>3</td>\n",
       "      <td>5</td>\n",
       "      <td>3</td>\n",
       "      <td>1</td>\n",
       "      <td>1</td>\n",
       "      <td>1</td>\n",
       "      <td>0</td>\n",
       "      <td>0</td>\n",
       "      <td>1</td>\n",
       "      <td>1</td>\n",
       "      <td>0</td>\n",
       "      <td>1</td>\n",
       "      <td>0</td>\n",
       "      <td>1</td>\n",
       "      <td>1</td>\n",
       "      <td>2</td>\n",
       "      <td>0</td>\n",
       "      <td>0</td>\n",
       "      <td>1</td>\n",
       "      <td>1</td>\n",
       "      <td>0</td>\n",
       "      <td>0</td>\n",
       "      <td>0</td>\n",
       "      <td>0</td>\n",
       "      <td>0</td>\n",
       "      <td>1</td>\n",
       "      <td>0</td>\n",
       "      <td>0</td>\n",
       "      <td>0</td>\n",
       "      <td>0</td>\n",
       "      <td>2</td>\n",
       "      <td>8</td>\n",
       "      <td>2</td>\n",
       "      <td>6</td>\n",
       "      <td>1</td>\n",
       "      <td>4</td>\n",
       "      <td>2</td>\n",
       "      <td>0</td>\n",
       "      <td>5</td>\n",
       "      <td>0</td>\n",
       "      <td>3</td>\n",
       "      <td>1</td>\n",
       "      <td>0</td>\n",
       "      <td>2</td>\n",
       "      <td>2</td>\n",
       "      <td>3</td>\n",
       "      <td>0</td>\n",
       "      <td>100000</td>\n",
       "      <td>13</td>\n",
       "      <td>99</td>\n",
       "      <td>3</td>\n",
       "      <td>0</td>\n",
       "      <td>0</td>\n",
       "      <td>0</td>\n",
       "      <td>1</td>\n",
       "      <td>0</td>\n",
       "      <td>1</td>\n",
       "      <td>1</td>\n",
       "      <td>4</td>\n",
       "      <td>50.430000</td>\n",
       "      <td>Hacinamiento_medio</td>\n",
       "      <td>1</td>\n",
       "      <td>2.666016</td>\n",
       "      <td>0</td>\n",
       "      <td>19</td>\n",
       "      <td>457</td>\n",
       "      <td>84</td>\n",
       "      <td>24.052632</td>\n",
       "      <td>0.183807</td>\n",
       "      <td>7</td>\n",
       "      <td>0.368421</td>\n",
       "      <td>310.571429</td>\n",
       "      <td>21</td>\n",
       "    </tr>\n",
       "    <tr>\n",
       "      <th>457046</th>\n",
       "      <td>2020</td>\n",
       "      <td>311001107629</td>\n",
       "      <td>311001107629</td>\n",
       "      <td>2</td>\n",
       "      <td>1033690026</td>\n",
       "      <td>KR 45 C 73 B 14 SUR</td>\n",
       "      <td>11</td>\n",
       "      <td>1</td>\n",
       "      <td>1</td>\n",
       "      <td>50.0</td>\n",
       "      <td>2005-08-12</td>\n",
       "      <td>1</td>\n",
       "      <td>99</td>\n",
       "      <td>0</td>\n",
       "      <td>0</td>\n",
       "      <td>0</td>\n",
       "      <td>9</td>\n",
       "      <td>0</td>\n",
       "      <td>6</td>\n",
       "      <td>0</td>\n",
       "      <td>0</td>\n",
       "      <td>9</td>\n",
       "      <td>1</td>\n",
       "      <td>0</td>\n",
       "      <td>1</td>\n",
       "      <td>9</td>\n",
       "      <td>1</td>\n",
       "      <td>14</td>\n",
       "      <td>3</td>\n",
       "      <td>19</td>\n",
       "      <td>2</td>\n",
       "      <td>100</td>\n",
       "      <td>0</td>\n",
       "      <td>3494055</td>\n",
       "      <td>19</td>\n",
       "      <td>2430</td>\n",
       "      <td>LAS BRISAS</td>\n",
       "      <td>KR 45 C 73 B 14 SUR PI 1 AP 2</td>\n",
       "      <td>0</td>\n",
       "      <td>BARRIO ZONA URBANA</td>\n",
       "      <td>1</td>\n",
       "      <td>1</td>\n",
       "      <td>2</td>\n",
       "      <td>1</td>\n",
       "      <td>1</td>\n",
       "      <td>1</td>\n",
       "      <td>1</td>\n",
       "      <td>1</td>\n",
       "      <td>1</td>\n",
       "      <td>1</td>\n",
       "      <td>1</td>\n",
       "      <td>2</td>\n",
       "      <td>1</td>\n",
       "      <td>1</td>\n",
       "      <td>1</td>\n",
       "      <td>2</td>\n",
       "      <td>1</td>\n",
       "      <td>4</td>\n",
       "      <td>2</td>\n",
       "      <td>2</td>\n",
       "      <td>1</td>\n",
       "      <td>1</td>\n",
       "      <td>1</td>\n",
       "      <td>1</td>\n",
       "      <td>1</td>\n",
       "      <td>1</td>\n",
       "      <td>1</td>\n",
       "      <td>0</td>\n",
       "      <td>1</td>\n",
       "      <td>0</td>\n",
       "      <td>1</td>\n",
       "      <td>1</td>\n",
       "      <td>2</td>\n",
       "      <td>1</td>\n",
       "      <td>2</td>\n",
       "      <td>0</td>\n",
       "      <td>0</td>\n",
       "      <td>1</td>\n",
       "      <td>1</td>\n",
       "      <td>2</td>\n",
       "      <td>2</td>\n",
       "      <td>2</td>\n",
       "      <td>0</td>\n",
       "      <td>1</td>\n",
       "      <td>0</td>\n",
       "      <td>0</td>\n",
       "      <td>0</td>\n",
       "      <td>2</td>\n",
       "      <td>4</td>\n",
       "      <td>1</td>\n",
       "      <td>3</td>\n",
       "      <td>1</td>\n",
       "      <td>3</td>\n",
       "      <td>4</td>\n",
       "      <td>1</td>\n",
       "      <td>5</td>\n",
       "      <td>0</td>\n",
       "      <td>4</td>\n",
       "      <td>0</td>\n",
       "      <td>0</td>\n",
       "      <td>0</td>\n",
       "      <td>0</td>\n",
       "      <td>0</td>\n",
       "      <td>0</td>\n",
       "      <td>50000</td>\n",
       "      <td>4</td>\n",
       "      <td>0</td>\n",
       "      <td>0</td>\n",
       "      <td>0</td>\n",
       "      <td>0</td>\n",
       "      <td>0</td>\n",
       "      <td>1</td>\n",
       "      <td>0</td>\n",
       "      <td>1</td>\n",
       "      <td>1</td>\n",
       "      <td>3</td>\n",
       "      <td>50.090000</td>\n",
       "      <td>Sin_hacinamiento</td>\n",
       "      <td>1</td>\n",
       "      <td>2.000000</td>\n",
       "      <td>0</td>\n",
       "      <td>19</td>\n",
       "      <td>457</td>\n",
       "      <td>84</td>\n",
       "      <td>24.052632</td>\n",
       "      <td>0.183807</td>\n",
       "      <td>7</td>\n",
       "      <td>0.368421</td>\n",
       "      <td>310.571429</td>\n",
       "      <td>21</td>\n",
       "    </tr>\n",
       "  </tbody>\n",
       "</table>\n",
       "</div>"
      ],
      "text/plain": [
       "        ANO_INF   CODIGO_DANE  CODIGO_DANE_SEDE  TIPO_DOCUMENTO NRO_DOCUMENTO  \\\n",
       "457042     2020  311001107629      311001107629               2    1026256645   \n",
       "457043     2020  311001107629      311001107629               2    1016595384   \n",
       "457044     2020  311001107629      311001107629               2    1024477229   \n",
       "457045     2020  311001107629      311001107629               2    1029141941   \n",
       "457046     2020  311001107629      311001107629               2    1033690026   \n",
       "\n",
       "        DIRECCION_RESIDENCIA  RES_DEPTO  RES_MUN  ESTRATO  SISBEN  \\\n",
       "457042     CL 77 45 A 03 SUR         11        1        1    72.0   \n",
       "457043  TV 65 77 54 SUR PI 1         11        1        1    53.0   \n",
       "457044   CL 69 H SUR 48 B 22         11        1        1    30.0   \n",
       "457045   KR 73 H 76 A 40 SUR         11        1        1    62.0   \n",
       "457046   KR 45 C 73 B 14 SUR         11        1        1    50.0   \n",
       "\n",
       "       FECHA_NACIMIENTO  GENERO  POB_VICT_CONF  PROVIENE_SECTOR_PRIV  \\\n",
       "457042       2005-07-23       1             99                     0   \n",
       "457043       2006-01-19       1             99                     0   \n",
       "457044       2005-10-15       0             99                     0   \n",
       "457045       2005-07-09       1             99                     0   \n",
       "457046       2005-08-12       1             99                     0   \n",
       "\n",
       "        PROVIENE_OTR_MUN  TIPO_DISCAPACIDAD  CAP_EXC  CODIGO_ETNIA  \\\n",
       "457042                 0                  0        9             0   \n",
       "457043                 0                  0        9             0   \n",
       "457044                 0                  0        9             0   \n",
       "457045                 0                  0        9             0   \n",
       "457046                 0                  0        9             0   \n",
       "\n",
       "        CODIGO_JORNADA  CARACTER  CODIGO_ESPECIALIDAD  CODIGO_GRADO  \\\n",
       "457042               6         0                    0             9   \n",
       "457043               6         0                    0             9   \n",
       "457044               6         0                    0             9   \n",
       "457045               6         0                    0             9   \n",
       "457046               6         0                    0             9   \n",
       "\n",
       "        CODIGO_METODOLOGIA  REPITENTE  SIT_ACAD_ANIO_ANT  CON_ALUM_ANIO_ANT  \\\n",
       "457042                   1          0                  1                  9   \n",
       "457043                   1          0                  1                  9   \n",
       "457044                   1          0                  1                  9   \n",
       "457045                   1          0                  1                  9   \n",
       "457046                   1          0                  1                  9   \n",
       "\n",
       "        ZONA_RESI_ALU  EDAD  NIVEL  DIR_NUM_LOCALIDAD  NIVEL_SISBEN  \\\n",
       "457042              1    14      3                 19             3   \n",
       "457043              1    14      3                 19             3   \n",
       "457044              1    14      3                 19             1   \n",
       "457045              1    14      3                 19             3   \n",
       "457046              1    14      3                 19             2   \n",
       "\n",
       "        GRADO_OVERAGE  OVERAGE            ficha  comuna  barrio   nombarrio  \\\n",
       "457042            100        0          3363106      19    2431      POTOSI   \n",
       "457043            100        0          3406487      19    2445    CARACOLI   \n",
       "457044            100        0          3492160      19    2430  LAS BRISAS   \n",
       "457045            100        0  110012760632412      19    2445    CARACOLI   \n",
       "457046            100        0          3494055      19    2430  LAS BRISAS   \n",
       "\n",
       "                               direcc  vereda           nomvereda  vivienda  \\\n",
       "457042        CL  77 BIS  SUR  45  05       0  BARRIO ZONA URBANA         1   \n",
       "457043         TV 50 A 77 54 SUR PI 2       0  BARRIO ZONA URBANA         1   \n",
       "457044      KR 45 C  76 84 SUR  PI  2       0  BARRIO ZONA URBANA         1   \n",
       "457045   KR 73 H # 76 A - 40 SUR PI 1       0  BARRIO ZONA URBANA         1   \n",
       "457046  KR 45 C 73 B 14 SUR PI 1 AP 2       0  BARRIO ZONA URBANA         1   \n",
       "\n",
       "        pared  piso  energia  alcanta  gas  telefono  basura  acueduc  \\\n",
       "457042      1     2        1        1    1         1       1        1   \n",
       "457043      1     3        1        1    1         2       1        1   \n",
       "457044      1     2        1        1    1         1       1        1   \n",
       "457045      1     2        1        1    1         0       1        1   \n",
       "457046      1     2        1        1    1         1       1        1   \n",
       "\n",
       "        estrato  elimbasura  tcuartosvi  thogar  recolec  tipdir  verifica  \\\n",
       "457042        1           1           4       1        1       1         2   \n",
       "457043        1           1           2       1        1       1         2   \n",
       "457044        1           1           8       1        1       1         1   \n",
       "457045        1           1           8       1        1       0         1   \n",
       "457046        1           1           2       1        1       1         2   \n",
       "\n",
       "        hogar  teneviv  tcuartos  tdormir  sanitar  usanitar  usosani  \\\n",
       "457042      1        3         4        3        1         1        1   \n",
       "457043      1        2         2        2        1         1        1   \n",
       "457044      1        1         4        2        1         1        1   \n",
       "457045      1        3         5        3        1         1        1   \n",
       "457046      1        4         2        2        1         1        1   \n",
       "\n",
       "        tsanitar  ducha  agua  llega  cuandi  suminis  cuanhoras  preparan  \\\n",
       "457042         1      1     1      1       0        1          0         1   \n",
       "457043         1      1     1      1       0        1          0         1   \n",
       "457044         1      1     1      1       0        1          0         1   \n",
       "457045         0      0     1      1       0        1          0         1   \n",
       "457046         1      1     1      1       0        1          0         1   \n",
       "\n",
       "        cocina  cocinan  alumbra  usotele  nevera  lavadora  tvcolor  tvcable  \\\n",
       "457042       1        2        1        1       1         1        1        2   \n",
       "457043       1        2        1        0       0         0        1        1   \n",
       "457044       1        2        1        1       1         0        1        1   \n",
       "457045       1        2        0        0       1         1        0        0   \n",
       "457046       1        2        1        2       0         0        1        1   \n",
       "\n",
       "        calenta  horno  aire  computador  equipo  moto  tractor  tiene_auto  \\\n",
       "457042        2      2     2           1       1     0        0           0   \n",
       "457043        2      2     2           0       1     0        0           0   \n",
       "457044        2      2     2           1       2     0        0           0   \n",
       "457045        0      0     0           1       0     0        0           0   \n",
       "457046        2      2     2           0       1     0        0           0   \n",
       "\n",
       "        bieraices  tpersona  informan  orden  nucleo  parentes  tipodoc  sexo  \\\n",
       "457042          1         9         1      3       1         3        4     1   \n",
       "457043          1         3         1      3       1         3        4     0   \n",
       "457044          2         5         2      5       1         3        2     1   \n",
       "457045          2         8         2      6       1         4        2     0   \n",
       "457046          2         4         1      3       1         3        4     1   \n",
       "\n",
       "        estcivil  discapa  carnet  asiste  tipoesta  grado  nivel  activi  \\\n",
       "457042         5        0       3       1         2      0      0       3   \n",
       "457043         5        0       0       1         1      0      0       3   \n",
       "457044         5        0       3       0         0      0      0       0   \n",
       "457045         5        0       3       1         0      2      2       3   \n",
       "457046         5        0       4       0         0      0      0       0   \n",
       "\n",
       "        buscando  ingresos  edad  conyuvive  hijosde  embaraza  extranjero  \\\n",
       "457042         0     21000     4          0        0         0           0   \n",
       "457043         0         0     3          0        0         0           0   \n",
       "457044         0     50000     6          0        0         0           0   \n",
       "457045         0    100000    13         99        3         0           0   \n",
       "457046         0     50000     4          0        0         0           0   \n",
       "\n",
       "        pagapor  percibe  serdomes  unigasto  area  nparentes  \\\n",
       "457042        0        1         0         1     1          3   \n",
       "457043        0        0         0         1     1          3   \n",
       "457044        0        1         0         1     1          3   \n",
       "457045        0        1         0         1     1          4   \n",
       "457046        0        1         0         1     1          3   \n",
       "\n",
       "        puntaje_sisben_3  nivel_hacinamiento  todos_servicios_Pub  \\\n",
       "457042         65.589996  Hacinamiento_medio                    1   \n",
       "457043         53.740002    Sin_hacinamiento                    1   \n",
       "457044         30.570000  Hacinamiento_medio                    1   \n",
       "457045         50.430000  Hacinamiento_medio                    1   \n",
       "457046         50.090000    Sin_hacinamiento                    1   \n",
       "\n",
       "        indice_hacinamiento  ES_BILINGUE  TOTAL_DOCENTES  TOTAL_ALUMNOS  \\\n",
       "457042             3.000000            0              19            457   \n",
       "457043             1.500000            0              19            457   \n",
       "457044             2.500000            0              19            457   \n",
       "457045             2.666016            0              19            457   \n",
       "457046             2.000000            0              19            457   \n",
       "\n",
       "        TOTAL_EQUIPO_COMPUTO  ALUMN_POR_DOCENTE  COMPU_POR_ALUMN  \\\n",
       "457042                    84          24.052632         0.183807   \n",
       "457043                    84          24.052632         0.183807   \n",
       "457044                    84          24.052632         0.183807   \n",
       "457045                    84          24.052632         0.183807   \n",
       "457046                    84          24.052632         0.183807   \n",
       "\n",
       "        TOTAL_DOCENTES_CON_TITULO  PROP_DOCENTES_CON_TITULO  promepuntaje  \\\n",
       "457042                          7                  0.368421    310.571429   \n",
       "457043                          7                  0.368421    310.571429   \n",
       "457044                          7                  0.368421    310.571429   \n",
       "457045                          7                  0.368421    310.571429   \n",
       "457046                          7                  0.368421    310.571429   \n",
       "\n",
       "        num_presentaron_ICFES  \n",
       "457042                     21  \n",
       "457043                     21  \n",
       "457044                     21  \n",
       "457045                     21  \n",
       "457046                     21  "
      ]
     },
     "execution_count": 56,
     "metadata": {},
     "output_type": "execute_result"
    }
   ],
   "source": [
    "concat_2019_20.tail()"
   ]
  },
  {
   "cell_type": "code",
   "execution_count": 57,
   "id": "a2fadf5f-9857-4502-a160-39d686f6fcfd",
   "metadata": {},
   "outputs": [],
   "source": [
    "concat_2019_20.to_csv('data/3-oro/Base_Final_concat_19_20.csv')"
   ]
  }
 ],
 "metadata": {
  "kernelspec": {
   "display_name": "Python 3",
   "language": "python",
   "name": "python3"
  },
  "language_info": {
   "codemirror_mode": {
    "name": "ipython",
    "version": 3
   },
   "file_extension": ".py",
   "mimetype": "text/x-python",
   "name": "python",
   "nbconvert_exporter": "python",
   "pygments_lexer": "ipython3",
   "version": "3.8.8"
  }
 },
 "nbformat": 4,
 "nbformat_minor": 5
}
